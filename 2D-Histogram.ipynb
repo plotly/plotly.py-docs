{
 "cells": [
  {
   "cell_type": "markdown",
   "id": "0a12dbb8",
   "metadata": {},
   "source": [
    "## 2D Histograms or Density Heatmaps\n",
    "\n",
    "A 2D histogram, also known as a density heatmap, is the 2-dimensional generalization of a [histogram](/python/histograms/) which resembles a [heatmap](/python/heatmaps/) but is computed by grouping a set of points specified by their `x` and `y` coordinates into bins, and applying an aggregation function such as `count` or `sum` (if `z` is provided) to compute the color of the tile representing the bin. This kind of visualization (and the related [2D histogram contour, or density contour](https://plotly.com/python/2d-histogram-contour/)) is often used to manage over-plotting, or situations where showing large data sets as [scatter plots](/python/line-and-scatter/) would result in points overlapping each other and hiding patterns. For data sets of more than a few thousand points, a better approach than the ones listed here would be to [use Plotly with Datashader](/python/datashader/) to precompute the aggregations before displaying the data with Plotly.\n",
    "\n",
    "## Density Heatmaps with Plotly Express\n",
    "\n",
    "[Plotly Express](/python/plotly-express/) is the easy-to-use, high-level interface to Plotly, which [operates on a variety of types of data](/python/px-arguments/) and produces [easy-to-style figures](/python/styling-plotly-express/). The Plotly Express function `density_heatmap()` can be used to produce density heatmaps."
   ]
  },
  {
   "cell_type": "code",
   "execution_count": null,
   "id": "b1e98cc0",
   "metadata": {},
   "outputs": [],
   "source": [
    "import plotly.express as px\n",
    "df = px.data.tips()\n",
    "\n",
    "fig = px.density_heatmap(df, x=\"total_bill\", y=\"tip\")\n",
    "fig.show()"
   ]
  },
  {
   "cell_type": "markdown",
   "id": "b6f79fe8",
   "metadata": {},
   "source": [
    "The number of bins can be controlled with `nbinsx` and `nbinsy` and the [color scale](/python/colorscales/) with `color_continuous_scale`."
   ]
  },
  {
   "cell_type": "code",
   "execution_count": null,
   "id": "e557f4e6",
   "metadata": {},
   "outputs": [],
   "source": [
    "import plotly.express as px\n",
    "df = px.data.tips()\n",
    "\n",
    "fig = px.density_heatmap(df, x=\"total_bill\", y=\"tip\", nbinsx=20, nbinsy=20, color_continuous_scale=\"Viridis\")\n",
    "fig.show()"
   ]
  },
  {
   "cell_type": "markdown",
   "id": "badaf651",
   "metadata": {},
   "source": [
    "Marginal plots can be added to visualize the 1-dimensional distributions of the two variables. Here we use a marginal [`histogram`](/python/histograms/). Other allowable values are `violin`, `box` and `rug`."
   ]
  },
  {
   "cell_type": "code",
   "execution_count": null,
   "id": "ce01ac91",
   "metadata": {},
   "outputs": [],
   "source": [
    "import plotly.express as px\n",
    "df = px.data.tips()\n",
    "\n",
    "fig = px.density_heatmap(df, x=\"total_bill\", y=\"tip\", marginal_x=\"histogram\", marginal_y=\"histogram\")\n",
    "fig.show()"
   ]
  },
  {
   "cell_type": "markdown",
   "id": "4b4f1511",
   "metadata": {},
   "source": [
    "Density heatmaps can also be [faceted](/python/facet-plots/):"
   ]
  },
  {
   "cell_type": "code",
   "execution_count": null,
   "id": "9e995a9e",
   "metadata": {},
   "outputs": [],
   "source": [
    "import plotly.express as px\n",
    "df = px.data.tips()\n",
    "\n",
    "fig = px.density_heatmap(df, x=\"total_bill\", y=\"tip\", facet_row=\"sex\", facet_col=\"smoker\")\n",
    "fig.show()"
   ]
  },
  {
   "cell_type": "markdown",
   "id": "513ab696",
   "metadata": {},
   "source": [
    "### Displaying Text\n",
    "\n",
    "*New in v5.5*\n",
    "\n",
    "You can add the `z` values as text using the `text_auto` argument. Setting it to `True` will display the values on the bars, and setting it to a `d3-format` formatting string will control the output format."
   ]
  },
  {
   "cell_type": "code",
   "execution_count": null,
   "id": "62602f91",
   "metadata": {},
   "outputs": [],
   "source": [
    "import plotly.express as px\n",
    "df = px.data.tips()\n",
    "\n",
    "fig = px.density_heatmap(df, x=\"total_bill\", y=\"tip\", text_auto=True)\n",
    "fig.show()"
   ]
  },
  {
   "cell_type": "markdown",
   "id": "d14dcb16",
   "metadata": {},
   "source": [
    "### Other aggregation functions than `count`\n",
    "\n",
    "By passing in a `z` value and a `histfunc`, density heatmaps can perform basic aggregation operations. Here we show average Sepal Length grouped by Petal Length and Petal Width for the Iris dataset."
   ]
  },
  {
   "cell_type": "code",
   "execution_count": null,
   "id": "7944277d",
   "metadata": {},
   "outputs": [],
   "source": [
    "import plotly.express as px\n",
    "df = px.data.iris()\n",
    "\n",
    "fig = px.density_heatmap(df, x=\"petal_length\", y=\"petal_width\", z=\"sepal_length\", histfunc=\"avg\")\n",
    "fig.show()"
   ]
  },
  {
   "cell_type": "markdown",
   "id": "3ff84585",
   "metadata": {},
   "source": [
    "### 2D Histograms with Graph Objects\n",
    "\n",
    "To build this kind of figure using [graph objects](/python/graph-objects/) without using Plotly Express, we can use the `go.Histogram2d` class."
   ]
  },
  {
   "cell_type": "markdown",
   "id": "c7705cb4",
   "metadata": {},
   "source": [
    "### 2D Histogram of a Bivariate Normal Distribution ###"
   ]
  },
  {
   "cell_type": "code",
   "execution_count": null,
   "id": "d32f1f45",
   "metadata": {},
   "outputs": [],
   "source": [
    "import plotly.graph_objects as go\n",
    "\n",
    "import numpy as np\n",
    "np.random.seed(1)\n",
    "\n",
    "x = np.random.randn(500)\n",
    "y = np.random.randn(500)+1\n",
    "\n",
    "fig = go.Figure(go.Histogram2d(\n",
    "        x=x,\n",
    "        y=y\n",
    "    ))\n",
    "fig.show()"
   ]
  },
  {
   "cell_type": "markdown",
   "id": "3ed46541",
   "metadata": {},
   "source": [
    "### 2D Histogram Binning and Styling Options ###"
   ]
  },
  {
   "cell_type": "code",
   "execution_count": null,
   "id": "387d0851",
   "metadata": {
    "lines_to_next_cell": 0
   },
   "outputs": [],
   "source": [
    "import plotly.graph_objects as go\n",
    "\n",
    "import numpy as np\n",
    "\n",
    "x = np.random.randn(500)\n",
    "y = np.random.randn(500)+1\n",
    "\n",
    "fig = go.Figure(go.Histogram2d(x=x, y=y, histnorm='probability',\n",
    "        autobinx=False,\n",
    "        xbins=dict(start=-3, end=3, size=0.1),\n",
    "        autobiny=False,\n",
    "        ybins=dict(start=-2.5, end=4, size=0.1),\n",
    "        colorscale=[[0, 'rgb(12,51,131)'], [0.25, 'rgb(10,136,186)'], [0.5, 'rgb(242,211,56)'], [0.75, 'rgb(242,143,56)'], [1, 'rgb(217,30,30)']]\n",
    "    ))\n",
    "fig.show()"
   ]
  },
  {
   "cell_type": "markdown",
   "id": "063b34a7",
   "metadata": {},
   "source": [
    "### Sharing bin settings between 2D Histograms\n",
    "This example shows how to use [bingroup](https://plotly.com/python/reference/histogram/#histogram-bingroup) attribute to have a compatible bin settings for both histograms. To define `start`, `end` and `size` value of x-axis and y-axis separately, set [ybins](https://plotly.com/python/reference/histogram2dcontour/#histogram2dcontour-ybins) and `xbins`."
   ]
  },
  {
   "cell_type": "code",
   "execution_count": null,
   "id": "faadf344",
   "metadata": {},
   "outputs": [],
   "source": [
    "import plotly.graph_objects as go\n",
    "from plotly.subplots import make_subplots\n",
    "\n",
    "fig = make_subplots(2,2)\n",
    "fig.add_trace(go.Histogram2d(\n",
    "    x = [ 1, 2, 2, 3, 4 ],\n",
    "    y = [ 1, 2, 2, 3, 4 ],\n",
    "    coloraxis = \"coloraxis\",\n",
    "    xbins = {'start':1, 'size':1}), 1,1)\n",
    "fig.add_trace(go.Histogram2d(\n",
    "    x = [ 4, 5, 5, 5, 6 ],\n",
    "    y = [ 4, 5, 5, 5, 6 ],\n",
    "    coloraxis = \"coloraxis\",\n",
    "    ybins = {'start': 3, 'size': 1}),1,2)\n",
    "fig.add_trace(go.Histogram2d(\n",
    "    x = [ 1, 2, 2, 3, 4 ],\n",
    "    y = [ 1, 2, 2, 3, 4 ],\n",
    "    bingroup = 1,\n",
    "    coloraxis = \"coloraxis\",\n",
    "    xbins = {'start':1, 'size':1}), 2,1)\n",
    "fig.add_trace(go.Histogram2d(\n",
    "    x = [ 4, 5, 5, 5, 6 ],\n",
    "    y = [ 4, 5, 5, 5, 6 ],\n",
    "    bingroup = 1,\n",
    "    coloraxis = \"coloraxis\",\n",
    "    ybins = {'start': 3, 'size': 1}),2,2)\n",
    "fig.show()"
   ]
  },
  {
   "cell_type": "markdown",
   "id": "b331a831",
   "metadata": {},
   "source": [
    "### 2D Histogram Overlaid with a Scatter Chart ###"
   ]
  },
  {
   "cell_type": "code",
   "execution_count": null,
   "id": "f38d3891",
   "metadata": {},
   "outputs": [],
   "source": [
    "import plotly.graph_objects as go\n",
    "\n",
    "import numpy as np\n",
    "\n",
    "x0 = np.random.randn(100)/5. + 0.5  # 5. enforces float division\n",
    "y0 = np.random.randn(100)/5. + 0.5\n",
    "x1 = np.random.rand(50)\n",
    "y1 = np.random.rand(50) + 1.0\n",
    "\n",
    "x = np.concatenate([x0, x1])\n",
    "y = np.concatenate([y0, y1])\n",
    "\n",
    "fig = go.Figure()\n",
    "\n",
    "fig.add_trace(go.Scatter(\n",
    "    x=x0,\n",
    "    y=y0,\n",
    "    mode='markers',\n",
    "    showlegend=False,\n",
    "    marker=dict(\n",
    "        symbol='x',\n",
    "        opacity=0.7,\n",
    "        color='white',\n",
    "        size=8,\n",
    "        line=dict(width=1),\n",
    "    )\n",
    "))\n",
    "fig.add_trace(go.Scatter(\n",
    "    x=x1,\n",
    "    y=y1,\n",
    "    mode='markers',\n",
    "    showlegend=False,\n",
    "    marker=dict(\n",
    "        symbol='circle',\n",
    "        opacity=0.7,\n",
    "        color='white',\n",
    "        size=8,\n",
    "        line=dict(width=1),\n",
    "    )\n",
    "))\n",
    "fig.add_trace(go.Histogram2d(\n",
    "    x=x,\n",
    "    y=y,\n",
    "    colorscale='YlGnBu',\n",
    "    zmax=10,\n",
    "    nbinsx=14,\n",
    "    nbinsy=14,\n",
    "    zauto=False,\n",
    "))\n",
    "\n",
    "fig.update_layout(\n",
    "    xaxis=dict( ticks='', showgrid=False, zeroline=False, nticks=20 ),\n",
    "    yaxis=dict( ticks='', showgrid=False, zeroline=False, nticks=20 ),\n",
    "    autosize=False,\n",
    "    height=550,\n",
    "    width=550,\n",
    "    hovermode='closest',\n",
    "\n",
    ")\n",
    "\n",
    "fig.show()"
   ]
  },
  {
   "cell_type": "markdown",
   "id": "ebee5470",
   "metadata": {},
   "source": [
    "### Text on 2D Histogram Points\n",
    "\n",
    "In this example we add text to 2D Histogram points. We use the values from the `z` attribute for the text."
   ]
  },
  {
   "cell_type": "code",
   "execution_count": null,
   "id": "eb915ff5",
   "metadata": {},
   "outputs": [],
   "source": [
    "import plotly.graph_objects as go\n",
    "from plotly import data\n",
    "\n",
    "df = data.tips()\n",
    "\n",
    "fig = go.Figure(go.Histogram2d(\n",
    "        x=df.total_bill,\n",
    "        y=df.tip,\n",
    "        texttemplate= \"%{z}\"\n",
    "    ))\n",
    "\n",
    "fig.show()"
   ]
  },
  {
   "cell_type": "markdown",
   "id": "99110c08",
   "metadata": {},
   "source": [
    "#### Reference\n",
    "See https://plotly.com/python/reference/histogram2d/ for more information and chart attribute options!\n"
   ]
  },
  {
   "cell_type": "markdown",
   "id": "74f254c0",
   "metadata": {},
   "source": [
    "### What About Dash?\n",
    "\n",
    "[Dash](https://dash.plot.ly/) is an open-source framework for building analytical applications, with no Javascript required, and it is tightly integrated with the Plotly graphing library.\n",
    "\n",
    "Learn about how to install Dash at https://dash.plot.ly/installation.\n",
    "\n",
    "Everywhere in this page that you see `fig.show()`, you can display the same figure in a Dash application by passing it to the `figure` argument of the [`Graph` component](https://dash.plot.ly/dash-core-components/graph) from the built-in `dash_core_components` package like this:\n",
    "\n",
    "```python\n",
    "import plotly.graph_objects as go # or plotly.express as px\n",
    "fig = go.Figure() # or any Plotly Express function e.g. px.bar(...)\n",
    "# fig.add_trace( ... )\n",
    "# fig.update_layout( ... )\n",
    "\n",
    "from dash import Dash, dcc, html\n",
    "\n",
    "app = Dash()\n",
    "app.layout = html.Div([\n",
    "    dcc.Graph(figure=fig)\n",
    "])\n",
    "\n",
    "app.run_server(debug=True, use_reloader=False)  # Turn off reloader if inside Jupyter\n",
    "```"
   ]
  }
 ],
 "metadata": {
  "jupytext": {
   "notebook_metadata_filter": "all"
  },
  "kernelspec": {
   "display_name": "Python 3",
   "language": "python",
   "name": "python3"
  },
  "language_info": {
   "codemirror_mode": {
    "name": "ipython",
    "version": 3
   },
   "file_extension": ".py",
   "mimetype": "text/x-python",
   "name": "python",
   "nbconvert_exporter": "python",
   "pygments_lexer": "ipython3",
   "version": "3.8.11"
  },
  "plotly": {
   "description": "How to make 2D Histograms in Python with Plotly.",
   "display_as": "statistical",
   "language": "python",
   "layout": "base",
   "name": "2D Histograms",
   "order": 5,
   "page_type": "u-guide",
   "permalink": "python/2D-Histogram/",
   "redirect_from": [
    "python/2d-histogram/",
    "python/2d-histograms/"
   ],
   "thumbnail": "thumbnail/histogram2d.jpg"
  }
 },
 "nbformat": 4,
 "nbformat_minor": 5
}
