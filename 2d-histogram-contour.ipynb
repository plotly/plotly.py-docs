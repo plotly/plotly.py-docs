{
 "cells": [
  {
   "cell_type": "markdown",
   "id": "b14c33d8",
   "metadata": {},
   "source": [
    "## 2D Histogram Contours or Density Contours\n",
    "\n",
    "A 2D histogram contour plot, also known as a density contour plot, is a 2-dimensional generalization of a [histogram](/python/histograms/) which resembles a [contour plot](/python/contour-plots/) but is computed by grouping a set of points specified by their `x` and `y` coordinates into bins, and applying an aggregation function such as `count` or `sum` (if `z` is provided) to compute the value to be used to compute contours. This kind of visualization (and the related [2D histogram, or density heatmap](/python/2d-histogram/)) is often used to manage over-plotting, or situations where showing large data sets as [scatter plots](/python/line-and-scatter/) would result in points overlapping each other and hiding patterns.\n",
    "\n",
    "## Density Contours with Plotly Express\n",
    "\n",
    "[Plotly Express](/python/plotly-express/) is the easy-to-use, high-level interface to Plotly, which [operates on a variety of types of data](/python/px-arguments/) and produces [easy-to-style figures](/python/styling-plotly-express/). The Plotly Express function `density_contour()` can be used to produce density contours."
   ]
  },
  {
   "cell_type": "code",
   "execution_count": null,
   "id": "fb39d5c8",
   "metadata": {},
   "outputs": [],
   "source": [
    "import plotly.express as px\n",
    "df = px.data.tips()\n",
    "\n",
    "fig = px.density_contour(df, x=\"total_bill\", y=\"tip\")\n",
    "fig.show()"
   ]
  },
  {
   "cell_type": "markdown",
   "id": "4c87f20a",
   "metadata": {},
   "source": [
    "Marginal plots can be added to visualize the 1-dimensional distributions of the two variables. Here we use a marginal [`histogram`](/python/histograms/). Other allowable values are `violin`, `box` and `rug`."
   ]
  },
  {
   "cell_type": "code",
   "execution_count": null,
   "id": "d58567ee",
   "metadata": {},
   "outputs": [],
   "source": [
    "import plotly.express as px\n",
    "df = px.data.tips()\n",
    "\n",
    "fig = px.density_contour(df, x=\"total_bill\", y=\"tip\", marginal_x=\"histogram\", marginal_y=\"histogram\")\n",
    "fig.show()"
   ]
  },
  {
   "cell_type": "markdown",
   "id": "c1a82f2e",
   "metadata": {},
   "source": [
    "Density contours can also be [faceted](/python/facet-plots/) and [discretely colored](/python/discrete-color/):"
   ]
  },
  {
   "cell_type": "code",
   "execution_count": null,
   "id": "3c083e3c",
   "metadata": {},
   "outputs": [],
   "source": [
    "import plotly.express as px\n",
    "df = px.data.tips()\n",
    "\n",
    "fig = px.density_contour(df, x=\"total_bill\", y=\"tip\", facet_col=\"sex\", color=\"smoker\")\n",
    "fig.show()"
   ]
  },
  {
   "cell_type": "markdown",
   "id": "9d77a6e0",
   "metadata": {},
   "source": [
    "Plotly Express density contours can be [continuously-colored](/python/colorscales/) and labeled:"
   ]
  },
  {
   "cell_type": "code",
   "execution_count": null,
   "id": "cbd4ae73",
   "metadata": {},
   "outputs": [],
   "source": [
    "import plotly.express as px\n",
    "df = px.data.tips()\n",
    "\n",
    "fig = px.density_contour(df, x=\"total_bill\", y=\"tip\")\n",
    "fig.update_traces(contours_coloring=\"fill\", contours_showlabels = True)\n",
    "fig.show()"
   ]
  },
  {
   "cell_type": "markdown",
   "id": "6dac0bb9",
   "metadata": {},
   "source": [
    "### Other aggregation functions than `count`\n",
    "\n",
    "By passing in a `z` value and a `histfunc`, density contours can perform basic aggregation operations. Here we show average Sepal Length grouped by Petal Length and Petal Width for the Iris dataset."
   ]
  },
  {
   "cell_type": "code",
   "execution_count": null,
   "id": "95804679",
   "metadata": {},
   "outputs": [],
   "source": [
    "import plotly.express as px\n",
    "df = px.data.iris()\n",
    "\n",
    "fig = px.density_contour(df, x=\"petal_length\", y=\"petal_width\", z=\"sepal_length\", histfunc=\"avg\")\n",
    "fig.show()"
   ]
  },
  {
   "cell_type": "markdown",
   "id": "0f47c9f9",
   "metadata": {},
   "source": [
    "### 2D Histograms with Graph Objects\n",
    "\n",
    "To build this kind of figure with [graph objects](/python/graph-objects/) without using Plotly Express, we can use the `go.Histogram2d` class.\n",
    "\n",
    "#### Basic 2D Histogram Contour"
   ]
  },
  {
   "cell_type": "code",
   "execution_count": null,
   "id": "54c6e087",
   "metadata": {},
   "outputs": [],
   "source": [
    "import plotly.graph_objects as go\n",
    "\n",
    "import numpy as np\n",
    "np.random.seed(1)\n",
    "\n",
    "x = np.random.uniform(-1, 1, size=500)\n",
    "y = np.random.uniform(-1, 1, size=500)\n",
    "\n",
    "fig = go.Figure(go.Histogram2dContour(\n",
    "        x = x,\n",
    "        y = y\n",
    "))\n",
    "\n",
    "fig.show()"
   ]
  },
  {
   "cell_type": "markdown",
   "id": "1235881c",
   "metadata": {},
   "source": [
    "#### 2D Histogram Contour Colorscale"
   ]
  },
  {
   "cell_type": "code",
   "execution_count": null,
   "id": "77b38eaa",
   "metadata": {},
   "outputs": [],
   "source": [
    "import plotly.graph_objects as go\n",
    "\n",
    "import numpy as np\n",
    "\n",
    "x = np.random.uniform(-1, 1, size=500)\n",
    "y = np.random.uniform(-1, 1, size=500)\n",
    "\n",
    "fig = go.Figure(go.Histogram2dContour(\n",
    "        x = x,\n",
    "        y = y,\n",
    "        colorscale = 'Blues'\n",
    "))\n",
    "\n",
    "fig.show()"
   ]
  },
  {
   "cell_type": "markdown",
   "id": "c61ad3ba",
   "metadata": {},
   "source": [
    "#### 2D Histogram Contour Styled"
   ]
  },
  {
   "cell_type": "code",
   "execution_count": null,
   "id": "85c4428a",
   "metadata": {},
   "outputs": [],
   "source": [
    "import plotly.graph_objects as go\n",
    "\n",
    "import numpy as np\n",
    "\n",
    "x = np.random.uniform(-1, 1, size=500)\n",
    "y = np.random.uniform(-1, 1, size=500)\n",
    "\n",
    "fig = go.Figure(go.Histogram2dContour(\n",
    "        x = x,\n",
    "        y = y,\n",
    "        colorscale = 'Jet',\n",
    "        contours = dict(\n",
    "            showlabels = True,\n",
    "            labelfont = dict(\n",
    "                family = 'Raleway',\n",
    "                color = 'white'\n",
    "            )\n",
    "        ),\n",
    "        hoverlabel = dict(\n",
    "            bgcolor = 'white',\n",
    "            bordercolor = 'black',\n",
    "            font = dict(\n",
    "                family = 'Raleway',\n",
    "                color = 'black'\n",
    "            )\n",
    "        )\n",
    "\n",
    "))\n",
    "\n",
    "fig.show()"
   ]
  },
  {
   "cell_type": "markdown",
   "id": "d321181f",
   "metadata": {},
   "source": [
    "#### 2D Histogram Contour Subplot"
   ]
  },
  {
   "cell_type": "code",
   "execution_count": null,
   "id": "16ba5629",
   "metadata": {},
   "outputs": [],
   "source": [
    "import plotly.graph_objects as go\n",
    "\n",
    "import numpy as np\n",
    "\n",
    "t = np.linspace(-1, 1.2, 2000)\n",
    "x = (t**3) + (0.3 * np.random.randn(2000))\n",
    "y = (t**6) + (0.3 * np.random.randn(2000))\n",
    "\n",
    "fig = go.Figure()\n",
    "fig.add_trace(go.Histogram2dContour(\n",
    "        x = x,\n",
    "        y = y,\n",
    "        colorscale = 'Blues',\n",
    "        reversescale = True,\n",
    "        xaxis = 'x',\n",
    "        yaxis = 'y'\n",
    "    ))\n",
    "fig.add_trace(go.Scatter(\n",
    "        x = x,\n",
    "        y = y,\n",
    "        xaxis = 'x',\n",
    "        yaxis = 'y',\n",
    "        mode = 'markers',\n",
    "        marker = dict(\n",
    "            color = 'rgba(0,0,0,0.3)',\n",
    "            size = 3\n",
    "        )\n",
    "    ))\n",
    "fig.add_trace(go.Histogram(\n",
    "        y = y,\n",
    "        xaxis = 'x2',\n",
    "        marker = dict(\n",
    "            color = 'rgba(0,0,0,1)'\n",
    "        )\n",
    "    ))\n",
    "fig.add_trace(go.Histogram(\n",
    "        x = x,\n",
    "        yaxis = 'y2',\n",
    "        marker = dict(\n",
    "            color = 'rgba(0,0,0,1)'\n",
    "        )\n",
    "    ))\n",
    "\n",
    "fig.update_layout(\n",
    "    autosize = False,\n",
    "    xaxis = dict(\n",
    "        zeroline = False,\n",
    "        domain = [0,0.85],\n",
    "        showgrid = False\n",
    "    ),\n",
    "    yaxis = dict(\n",
    "        zeroline = False,\n",
    "        domain = [0,0.85],\n",
    "        showgrid = False\n",
    "    ),\n",
    "    xaxis2 = dict(\n",
    "        zeroline = False,\n",
    "        domain = [0.85,1],\n",
    "        showgrid = False\n",
    "    ),\n",
    "    yaxis2 = dict(\n",
    "        zeroline = False,\n",
    "        domain = [0.85,1],\n",
    "        showgrid = False\n",
    "    ),\n",
    "    height = 600,\n",
    "    width = 600,\n",
    "    bargap = 0,\n",
    "    hovermode = 'closest',\n",
    "    showlegend = False\n",
    ")\n",
    "\n",
    "fig.show()"
   ]
  },
  {
   "cell_type": "markdown",
   "id": "b8767596",
   "metadata": {},
   "source": [
    "#### Reference\n",
    "See https://plotly.com/python/reference/histogram2dcontour/ for more information and chart attribute options!\n"
   ]
  },
  {
   "cell_type": "markdown",
   "id": "d1744207",
   "metadata": {},
   "source": [
    "### What About Dash?\n",
    "\n",
    "[Dash](https://dash.plot.ly/) is an open-source framework for building analytical applications, with no Javascript required, and it is tightly integrated with the Plotly graphing library.\n",
    "\n",
    "Learn about how to install Dash at https://dash.plot.ly/installation.\n",
    "\n",
    "Everywhere in this page that you see `fig.show()`, you can display the same figure in a Dash application by passing it to the `figure` argument of the [`Graph` component](https://dash.plot.ly/dash-core-components/graph) from the built-in `dash_core_components` package like this:\n",
    "\n",
    "```python\n",
    "import plotly.graph_objects as go # or plotly.express as px\n",
    "fig = go.Figure() # or any Plotly Express function e.g. px.bar(...)\n",
    "# fig.add_trace( ... )\n",
    "# fig.update_layout( ... )\n",
    "\n",
    "from dash import Dash, dcc, html\n",
    "\n",
    "app = Dash()\n",
    "app.layout = html.Div([\n",
    "    dcc.Graph(figure=fig)\n",
    "])\n",
    "\n",
    "app.run_server(debug=True, use_reloader=False)  # Turn off reloader if inside Jupyter\n",
    "```"
   ]
  }
 ],
 "metadata": {
  "jupytext": {
   "notebook_metadata_filter": "all"
  },
  "kernelspec": {
   "display_name": "Python 3",
   "language": "python",
   "name": "python3"
  },
  "language_info": {
   "codemirror_mode": {
    "name": "ipython",
    "version": 3
   },
   "file_extension": ".py",
   "mimetype": "text/x-python",
   "name": "python",
   "nbconvert_exporter": "python",
   "pygments_lexer": "ipython3",
   "version": "3.6.8"
  },
  "plotly": {
   "description": "How to make 2D Histogram Contour plots in Python with Plotly.",
   "display_as": "statistical",
   "language": "python",
   "layout": "base",
   "name": "2D Histogram Contour",
   "order": 11,
   "page_type": "u-guide",
   "permalink": "python/2d-histogram-contour/",
   "redirect_from": "python/2d-density-plots/",
   "thumbnail": "thumbnail/hist2dcontour.png"
  }
 },
 "nbformat": 4,
 "nbformat_minor": 5
}
