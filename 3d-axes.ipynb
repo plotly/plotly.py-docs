{
 "cells": [
  {
   "cell_type": "markdown",
   "id": "7de0f891",
   "metadata": {},
   "source": [
    "### Range of axes\n",
    "\n",
    "3D figures have an attribute in `layout` called `scene`, which contains\n",
    "attributes such as `xaxis`, `yaxis` and `zaxis` parameters, in order to\n",
    "set the range, title, ticks, color etc. of the axes.\n",
    "\n",
    "For creating 3D charts, see [this page](https://plotly.com/python/3d-charts/).\n",
    "\n",
    "Set `range` on an axis to manually configure a range for that axis. If you don't set `range`, it's automatically calculated. In this example, we set a `range` on `xaxis`, `yaxis`, and `zaxis`."
   ]
  },
  {
   "cell_type": "code",
   "execution_count": null,
   "id": "fc1b8b58",
   "metadata": {},
   "outputs": [],
   "source": [
    "import plotly.graph_objects as go\n",
    "import numpy as np\n",
    "np.random.seed(1)\n",
    "\n",
    "N = 70\n",
    "\n",
    "fig = go.Figure(data=[go.Mesh3d(x=(70*np.random.randn(N)),\n",
    "                   y=(55*np.random.randn(N)),\n",
    "                   z=(40*np.random.randn(N)),\n",
    "                   opacity=0.5,\n",
    "                   color='rgba(244,22,100,0.6)'\n",
    "                  )])\n",
    "\n",
    "fig.update_layout(\n",
    "    scene = dict(\n",
    "        xaxis = dict(nticks=4, range=[-100,100],),\n",
    "                     yaxis = dict(nticks=4, range=[-50,100],),\n",
    "                     zaxis = dict(nticks=4, range=[-100,100],),),\n",
    "    width=700,\n",
    "    margin=dict(r=20, l=10, b=10, t=10))\n",
    "\n",
    "fig.show()"
   ]
  },
  {
   "cell_type": "markdown",
   "id": "e4684a61",
   "metadata": {},
   "source": [
    "### Setting only a Lower or Upper Bound for Range\n",
    "\n",
    "*New in 5.17*\n",
    "\n",
    "You can also set just a lower or upper bound for `range`. In this case, autorange is used for the other bound. In this example, we apply autorange to the lower bound of the `yaxis` and the upper bound of `zaxis` by setting them to `None`."
   ]
  },
  {
   "cell_type": "code",
   "execution_count": null,
   "id": "57e73f61",
   "metadata": {},
   "outputs": [],
   "source": [
    "import plotly.graph_objects as go\n",
    "import numpy as np\n",
    "np.random.seed(1)\n",
    "\n",
    "N = 70\n",
    "\n",
    "fig = go.Figure(data=[go.Mesh3d(x=(70*np.random.randn(N)),\n",
    "                   y=(55*np.random.randn(N)),\n",
    "                   z=(40*np.random.randn(N)),\n",
    "                   opacity=0.5,\n",
    "                   color='rgba(244,22,100,0.6)'\n",
    "                  )])\n",
    "\n",
    "fig.update_layout(\n",
    "    scene = dict(\n",
    "        xaxis = dict(nticks=4, range=[-100,100],),\n",
    "                     yaxis = dict(nticks=4, range=[None, 100],),\n",
    "                     zaxis = dict(nticks=4, range=[-100, None],),),\n",
    "    width=700,\n",
    "    margin=dict(r=20, l=10, b=10, t=10))\n",
    "\n",
    "fig.show()"
   ]
  },
  {
   "cell_type": "markdown",
   "id": "43a2a6b3",
   "metadata": {},
   "source": [
    "### Fixed Ratio Axes"
   ]
  },
  {
   "cell_type": "code",
   "execution_count": null,
   "id": "e7c52cb6",
   "metadata": {},
   "outputs": [],
   "source": [
    "import plotly.graph_objects as go\n",
    "from plotly.subplots import make_subplots\n",
    "import numpy as np\n",
    "\n",
    "N = 50\n",
    "\n",
    "fig = make_subplots(rows=2, cols=2,\n",
    "                    specs=[[{'is_3d': True}, {'is_3d': True}],\n",
    "                           [{'is_3d': True}, {'is_3d': True}]],\n",
    "                    print_grid=False)\n",
    "for i in [1,2]:\n",
    "    for j in [1,2]:\n",
    "        fig.append_trace(\n",
    "            go.Mesh3d(\n",
    "                x=(60*np.random.randn(N)),\n",
    "                y=(25*np.random.randn(N)),\n",
    "                z=(40*np.random.randn(N)),\n",
    "                opacity=0.5,\n",
    "              ),\n",
    "            row=i, col=j)\n",
    "\n",
    "fig.update_layout(width=700, margin=dict(r=10, l=10, b=10, t=10))\n",
    "# fix the ratio in the top left subplot to be a cube\n",
    "fig.update_layout(scene_aspectmode='cube')\n",
    "# manually force the z-axis to appear twice as big as the other two\n",
    "fig.update_layout(scene2_aspectmode='manual',\n",
    "                  scene2_aspectratio=dict(x=1, y=1, z=2))\n",
    "# draw axes in proportion to the proportion of their ranges\n",
    "fig.update_layout(scene3_aspectmode='data')\n",
    "# automatically produce something that is well proportioned using 'data' as the default\n",
    "fig.update_layout(scene4_aspectmode='auto')\n",
    "fig.show()"
   ]
  },
  {
   "cell_type": "markdown",
   "id": "284e3945",
   "metadata": {},
   "source": [
    "### Set Axes Title"
   ]
  },
  {
   "cell_type": "code",
   "execution_count": null,
   "id": "94762425",
   "metadata": {},
   "outputs": [],
   "source": [
    "import plotly.graph_objects as go\n",
    "import numpy as np\n",
    "\n",
    "# Define random surface\n",
    "N = 50\n",
    "fig = go.Figure()\n",
    "fig.add_trace(go.Mesh3d(x=(60*np.random.randn(N)),\n",
    "                   y=(25*np.random.randn(N)),\n",
    "                   z=(40*np.random.randn(N)),\n",
    "                   opacity=0.5,\n",
    "                   color='yellow'\n",
    "                  ))\n",
    "fig.add_trace(go.Mesh3d(x=(70*np.random.randn(N)),\n",
    "                   y=(55*np.random.randn(N)),\n",
    "                   z=(30*np.random.randn(N)),\n",
    "                   opacity=0.5,\n",
    "                   color='pink'\n",
    "                  ))\n",
    "\n",
    "fig.update_layout(scene = dict(\n",
    "                      xaxis=dict(\n",
    "                          title=dict(\n",
    "                              text='X AXIS TITLE'\n",
    "                          )\n",
    "                      ),\n",
    "                      yaxis=dict(\n",
    "                          title=dict(\n",
    "                              text='Y AXIS TITLE'\n",
    "                          )\n",
    "                      ),\n",
    "                      zaxis=dict(\n",
    "                          title=dict(\n",
    "                              text='Z AXIS TITLE'\n",
    "                          )\n",
    "                      ),\n",
    "                    ),\n",
    "                    width=700,\n",
    "                    margin=dict(r=20, b=10, l=10, t=10))\n",
    "\n",
    "fig.show()"
   ]
  },
  {
   "cell_type": "markdown",
   "id": "6b302fa6",
   "metadata": {},
   "source": [
    "### Ticks Formatting"
   ]
  },
  {
   "cell_type": "code",
   "execution_count": null,
   "id": "9ec9cfd6",
   "metadata": {},
   "outputs": [],
   "source": [
    "import plotly.graph_objects as go\n",
    "import numpy as np\n",
    "\n",
    "# Define random surface\n",
    "N = 50\n",
    "fig = go.Figure(data=[go.Mesh3d(x=(60*np.random.randn(N)),\n",
    "                   y=(25*np.random.randn(N)),\n",
    "                   z=(40*np.random.randn(N)),\n",
    "                   opacity=0.5,\n",
    "                   color='rgba(100,22,200,0.5)'\n",
    "                  )])\n",
    "\n",
    "# Different types of customized ticks\n",
    "fig.update_layout(scene = dict(\n",
    "                    xaxis = dict(\n",
    "                        ticktext= ['TICKS','MESH','PLOTLY','PYTHON'],\n",
    "                        tickvals= [0,50,75,-50]),\n",
    "                    yaxis = dict(\n",
    "                        nticks=5, tickfont=dict(\n",
    "                            color='green',\n",
    "                            size=12,\n",
    "                            family='Old Standard TT, serif',),\n",
    "                        ticksuffix='#'),\n",
    "                    zaxis = dict(\n",
    "                        nticks=4, ticks='outside',\n",
    "                        tick0=0, tickwidth=4),),\n",
    "                    width=700,\n",
    "                    margin=dict(r=10, l=10, b=10, t=10)\n",
    "                  )\n",
    "\n",
    "fig.show()"
   ]
  },
  {
   "cell_type": "markdown",
   "id": "b0c6c3b2",
   "metadata": {},
   "source": [
    "### Background and Grid Color"
   ]
  },
  {
   "cell_type": "code",
   "execution_count": null,
   "id": "b46b2d20",
   "metadata": {},
   "outputs": [],
   "source": [
    "import plotly.graph_objects as go\n",
    "import numpy as np\n",
    "\n",
    "N = 50\n",
    "fig = go.Figure(data=[go.Mesh3d(x=(30*np.random.randn(N)),\n",
    "                   y=(25*np.random.randn(N)),\n",
    "                   z=(30*np.random.randn(N)),\n",
    "                   opacity=0.5,)])\n",
    "\n",
    "\n",
    "# xaxis.backgroundcolor is used to set background color\n",
    "fig.update_layout(scene = dict(\n",
    "                    xaxis = dict(\n",
    "                         backgroundcolor=\"rgb(200, 200, 230)\",\n",
    "                         gridcolor=\"white\",\n",
    "                         showbackground=True,\n",
    "                         zerolinecolor=\"white\",),\n",
    "                    yaxis = dict(\n",
    "                        backgroundcolor=\"rgb(230, 200,230)\",\n",
    "                        gridcolor=\"white\",\n",
    "                        showbackground=True,\n",
    "                        zerolinecolor=\"white\"),\n",
    "                    zaxis = dict(\n",
    "                        backgroundcolor=\"rgb(230, 230,200)\",\n",
    "                        gridcolor=\"white\",\n",
    "                        showbackground=True,\n",
    "                        zerolinecolor=\"white\",),),\n",
    "                    width=700,\n",
    "                    margin=dict(\n",
    "                    r=10, l=10,\n",
    "                    b=10, t=10)\n",
    "                  )\n",
    "fig.show()"
   ]
  },
  {
   "cell_type": "markdown",
   "id": "b577a9f2",
   "metadata": {},
   "source": [
    "### Disabling tooltip spikes\n",
    "\n",
    "By default, guidelines originating from the tooltip point are drawn. It is possible to disable this behaviour with the `showspikes` parameter. In this example we only keep the `z` spikes (projection of the tooltip on the `x-y` plane). Hover on the data to show this behaviour."
   ]
  },
  {
   "cell_type": "code",
   "execution_count": null,
   "id": "07b01609",
   "metadata": {
    "lines_to_next_cell": 2
   },
   "outputs": [],
   "source": [
    "import plotly.graph_objects as go\n",
    "import numpy as np\n",
    "\n",
    "N = 50\n",
    "fig = go.Figure(data=[go.Mesh3d(x=(30*np.random.randn(N)),\n",
    "                   y=(25*np.random.randn(N)),\n",
    "                   z=(30*np.random.randn(N)),\n",
    "                   opacity=0.5,)])\n",
    "fig.update_layout(scene=dict(xaxis_showspikes=False,\n",
    "                             yaxis_showspikes=False))\n",
    "fig.show()"
   ]
  },
  {
   "cell_type": "markdown",
   "id": "e09ec649",
   "metadata": {},
   "source": [
    "### What About Dash?\n",
    "\n",
    "[Dash](https://dash.plot.ly/) is an open-source framework for building analytical applications, with no Javascript required, and it is tightly integrated with the Plotly graphing library.\n",
    "\n",
    "Learn about how to install Dash at https://dash.plot.ly/installation.\n",
    "\n",
    "Everywhere in this page that you see `fig.show()`, you can display the same figure in a Dash application by passing it to the `figure` argument of the [`Graph` component](https://dash.plot.ly/dash-core-components/graph) from the built-in `dash_core_components` package like this:\n",
    "\n",
    "```python\n",
    "import plotly.graph_objects as go # or plotly.express as px\n",
    "fig = go.Figure() # or any Plotly Express function e.g. px.bar(...)\n",
    "# fig.add_trace( ... )\n",
    "# fig.update_layout( ... )\n",
    "\n",
    "from dash import Dash, dcc, html\n",
    "\n",
    "app = Dash()\n",
    "app.layout = html.Div([\n",
    "    dcc.Graph(figure=fig)\n",
    "])\n",
    "\n",
    "app.run_server(debug=True, use_reloader=False)  # Turn off reloader if inside Jupyter\n",
    "```"
   ]
  }
 ],
 "metadata": {
  "jupytext": {
   "notebook_metadata_filter": "all"
  },
  "kernelspec": {
   "display_name": "Python 3 (ipykernel)",
   "language": "python",
   "name": "python3"
  },
  "language_info": {
   "codemirror_mode": {
    "name": "ipython",
    "version": 3
   },
   "file_extension": ".py",
   "mimetype": "text/x-python",
   "name": "python",
   "nbconvert_exporter": "python",
   "pygments_lexer": "ipython3",
   "version": "3.10.4"
  },
  "plotly": {
   "description": "How to format axes of 3d plots in Python with Plotly.",
   "display_as": "3d_charts",
   "language": "python",
   "layout": "base",
   "name": "3D Axes",
   "order": 1,
   "page_type": "example_index",
   "permalink": "python/3d-axes/",
   "thumbnail": "thumbnail/3d-axes.png"
  }
 },
 "nbformat": 4,
 "nbformat_minor": 5
}
