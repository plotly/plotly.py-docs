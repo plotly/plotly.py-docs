{
 "cells": [
  {
   "cell_type": "markdown",
   "id": "a459223f",
   "metadata": {},
   "source": [
    "### How camera controls work\n",
    "\n",
    "The camera position and direction is determined by three vectors: *up*, *center*, *eye*. Their coordinates refer to the 3-d domain, i.e., `(0, 0, 0)` is always the center of the domain, no matter data values.\n",
    "The `eye` vector determines the position of the camera. The default is $(x=1.25, y=1.25, z=1.25)$.\n",
    "\n",
    "The `up` vector determines the `up` direction on the page. The default is $(x=0, y=0, z=1)$, that is, the z-axis points up.\n",
    "\n",
    "The projection of the `center` point lies at the center of the view. By default it is $(x=0, y=0, z=0)$."
   ]
  },
  {
   "cell_type": "markdown",
   "id": "b951b29d",
   "metadata": {},
   "source": [
    "### Default parameters"
   ]
  },
  {
   "cell_type": "code",
   "execution_count": null,
   "id": "71f1f9d6",
   "metadata": {},
   "outputs": [],
   "source": [
    "import plotly.graph_objects as go\n",
    "import pandas as pd\n",
    "\n",
    "# Read data from a csv\n",
    "z_data = pd.read_csv('https://raw.githubusercontent.com/plotly/datasets/master/api_docs/mt_bruno_elevation.csv')\n",
    "\n",
    "fig = go.Figure(data=go.Surface(z=z_data, showscale=False))\n",
    "fig.update_layout(\n",
    "    title=dict(text='Mt Bruno Elevation'),\n",
    "    width=400, height=400,\n",
    "    margin=dict(t=40, r=0, l=20, b=20)\n",
    ")\n",
    "\n",
    "name = 'default'\n",
    "# Default parameters which are used when `layout.scene.camera` is not provided\n",
    "camera = dict(\n",
    "    up=dict(x=0, y=0, z=1),\n",
    "    center=dict(x=0, y=0, z=0),\n",
    "    eye=dict(x=1.25, y=1.25, z=1.25)\n",
    ")\n",
    "\n",
    "fig.update_layout(scene_camera=camera, title=name)\n",
    "fig.show()"
   ]
  },
  {
   "cell_type": "markdown",
   "id": "ff0db3f3",
   "metadata": {},
   "source": [
    "### Changing the camera position by setting the eye parameter\n",
    "\n",
    "#### Lower the View Point\n",
    "\n",
    "by setting `eye.z` to a smaller value."
   ]
  },
  {
   "cell_type": "code",
   "execution_count": null,
   "id": "39e962fb",
   "metadata": {},
   "outputs": [],
   "source": [
    "import plotly.graph_objects as go\n",
    "import pandas as pd\n",
    "\n",
    "# Read data from a csv\n",
    "z_data = pd.read_csv('https://raw.githubusercontent.com/plotly/datasets/master/api_docs/mt_bruno_elevation.csv')\n",
    "\n",
    "fig = go.Figure(data=go.Surface(z=z_data, showscale=False))\n",
    "fig.update_layout(\n",
    "    title=dict(text='Mt Bruno Elevation'),\n",
    "    width=400, height=400,\n",
    "    margin=dict(t=30, r=0, l=20, b=10)\n",
    ")\n",
    "\n",
    "name = 'eye = (x:2, y:2, z:0.1)'\n",
    "camera = dict(\n",
    "    eye=dict(x=2, y=2, z=0.1)\n",
    ")\n",
    "\n",
    "fig.update_layout(scene_camera=camera, title=name)\n",
    "fig.show()"
   ]
  },
  {
   "cell_type": "markdown",
   "id": "93c44df1",
   "metadata": {},
   "source": [
    "#### X-Z plane\n",
    "\n",
    "set `eye.x` and `eye.z` to zero"
   ]
  },
  {
   "cell_type": "code",
   "execution_count": null,
   "id": "342073de",
   "metadata": {},
   "outputs": [],
   "source": [
    "import plotly.graph_objects as go\n",
    "import pandas as pd\n",
    "\n",
    "# Read data from a csv\n",
    "z_data = pd.read_csv('https://raw.githubusercontent.com/plotly/datasets/master/api_docs/mt_bruno_elevation.csv')\n",
    "\n",
    "fig = go.Figure(data=go.Surface(z=z_data, showscale=False))\n",
    "fig.update_layout(\n",
    "    title=dict(text='Mt Bruno Elevation'),\n",
    "    width=400, height=400,\n",
    "    margin=dict(t=30, r=0, l=20, b=10)\n",
    ")\n",
    "\n",
    "name = 'eye = (x:0., y:2.5, z:0.)'\n",
    "camera = dict(\n",
    "    eye=dict(x=0., y=2.5, z=0.)\n",
    ")\n",
    "\n",
    "\n",
    "fig.update_layout(scene_camera=camera, title=name)\n",
    "fig.show()"
   ]
  },
  {
   "cell_type": "markdown",
   "id": "efde50d9",
   "metadata": {},
   "source": [
    "#### Y-Z plane"
   ]
  },
  {
   "cell_type": "code",
   "execution_count": null,
   "id": "388129e1",
   "metadata": {},
   "outputs": [],
   "source": [
    "import plotly.graph_objects as go\n",
    "import pandas as pd\n",
    "\n",
    "# Read data from a csv\n",
    "z_data = pd.read_csv('https://raw.githubusercontent.com/plotly/datasets/master/api_docs/mt_bruno_elevation.csv')\n",
    "\n",
    "fig = go.Figure(data=go.Surface(z=z_data, showscale=False))\n",
    "fig.update_layout(\n",
    "    title=dict(text='Mt Bruno Elevation'),\n",
    "    width=400, height=400,\n",
    "    margin=dict(t=30, r=0, l=20, b=10)\n",
    ")\n",
    "\n",
    "name = 'eye = (x:2.5, y:0., z:0.)'\n",
    "camera = dict(\n",
    "    eye=dict(x=2.5, y=0., z=0.)\n",
    ")\n",
    "\n",
    "fig.update_layout(scene_camera=camera, title=name)\n",
    "fig.show()"
   ]
  },
  {
   "cell_type": "markdown",
   "id": "b811cac8",
   "metadata": {},
   "source": [
    "#### View from Above (X-Y plane)"
   ]
  },
  {
   "cell_type": "code",
   "execution_count": null,
   "id": "e3f44d5f",
   "metadata": {},
   "outputs": [],
   "source": [
    "import plotly.graph_objects as go\n",
    "import pandas as pd\n",
    "\n",
    "# Read data from a csv\n",
    "z_data = pd.read_csv('https://raw.githubusercontent.com/plotly/datasets/master/api_docs/mt_bruno_elevation.csv')\n",
    "\n",
    "fig = go.Figure(data=go.Surface(z=z_data, showscale=False))\n",
    "fig.update_layout(\n",
    "    title=dict(text='Mt Bruno Elevation'),\n",
    "    width=400, height=400,\n",
    "    margin=dict(t=30, r=0, l=20, b=10)\n",
    ")\n",
    "\n",
    "name = 'eye = (x:0., y:0., z:2.5)'\n",
    "camera = dict(\n",
    "    eye=dict(x=0., y=0., z=2.5)\n",
    ")\n",
    "\n",
    "fig.update_layout(scene_camera=camera, title=name)\n",
    "fig.show()"
   ]
  },
  {
   "cell_type": "markdown",
   "id": "c155861f",
   "metadata": {},
   "source": [
    "#### Zooming In\n",
    "... by placing the camera closer to the origin (`eye` with a smaller norm)"
   ]
  },
  {
   "cell_type": "code",
   "execution_count": null,
   "id": "44b8c8a3",
   "metadata": {},
   "outputs": [],
   "source": [
    "import plotly.graph_objects as go\n",
    "import pandas as pd\n",
    "\n",
    "# Read data from a csv\n",
    "z_data = pd.read_csv('https://raw.githubusercontent.com/plotly/datasets/master/api_docs/mt_bruno_elevation.csv')\n",
    "\n",
    "fig = go.Figure(data=go.Surface(z=z_data, showscale=False))\n",
    "fig.update_layout(\n",
    "    title=dict(text='Mt Bruno Elevation'),\n",
    "    width=400, height=400,\n",
    "    margin=dict(t=30, r=0, l=20, b=10)\n",
    ")\n",
    "\n",
    "name = 'eye = (x:0.1, y:0.1, z:1.5)'\n",
    "camera = dict(\n",
    "    eye=dict(x=0.1, y=0.1, z=1.5)\n",
    ")\n",
    "\n",
    "fig.update_layout(scene_camera=camera, title=name)\n",
    "fig.show()"
   ]
  },
  {
   "cell_type": "markdown",
   "id": "c0532c5b",
   "metadata": {},
   "source": [
    "### Tilting the camera vertical by setting the up parameter\n",
    "\n",
    "Tilt camera by changing the `up` vector: here the vertical of the view points in the `x` direction."
   ]
  },
  {
   "cell_type": "code",
   "execution_count": null,
   "id": "05c8f19c",
   "metadata": {},
   "outputs": [],
   "source": [
    "import plotly.graph_objects as go\n",
    "import pandas as pd\n",
    "\n",
    "# Read data from a csv\n",
    "z_data = pd.read_csv('https://raw.githubusercontent.com/plotly/datasets/master/api_docs/mt_bruno_elevation.csv')\n",
    "\n",
    "fig = go.Figure(data=go.Surface(z=z_data, showscale=False))\n",
    "fig.update_layout(\n",
    "    title=dict(text='Mt Bruno Elevation'),\n",
    "    width=400, height=400,\n",
    "    margin=dict(t=30, r=0, l=20, b=10)\n",
    ")\n",
    "\n",
    "name = 'eye = (x:0., y:2.5, z:0.), point along x'\n",
    "camera = dict(\n",
    "    up=dict(x=1, y=0., z=0),\n",
    "    eye=dict(x=0., y=2.5, z=0.)\n",
    ")\n",
    "\n",
    "fig.update_layout(scene_camera=camera, title=name)\n",
    "fig.show()"
   ]
  },
  {
   "cell_type": "markdown",
   "id": "acddb122",
   "metadata": {},
   "source": [
    "Note when `up` does not correspond to the direction of an axis, you also need to set `layout.scene.dragmode='orbit'`."
   ]
  },
  {
   "cell_type": "code",
   "execution_count": null,
   "id": "92bfc7fb",
   "metadata": {},
   "outputs": [],
   "source": [
    "import math\n",
    "import plotly.graph_objects as go\n",
    "import pandas as pd\n",
    "\n",
    "# Read data from a csv\n",
    "z_data = pd.read_csv('https://raw.githubusercontent.com/plotly/datasets/master/api_docs/mt_bruno_elevation.csv')\n",
    "\n",
    "fig = go.Figure(data=go.Surface(z=z_data, showscale=False))\n",
    "fig.update_layout(\n",
    "    title=dict(text='Mt Bruno Elevation'),\n",
    "    width=400, height=400,\n",
    "    margin=dict(t=30, r=0, l=20, b=10)\n",
    ")\n",
    "\n",
    "angle = math.pi / 4 # 45 degrees\n",
    "\n",
    "name = 'vertical is along y+z'\n",
    "camera = dict(\n",
    "    up=dict(x=0, y=math.cos(angle), z=math.sin(angle)),\n",
    "    eye=dict(x=2, y=0, z=0)\n",
    ")\n",
    "\n",
    "fig.update_layout(scene_camera=camera, scene_dragmode='orbit', title=name)\n",
    "fig.show()"
   ]
  },
  {
   "cell_type": "markdown",
   "id": "648c04f0",
   "metadata": {},
   "source": [
    "### Changing the focal point by setting center\n",
    "\n",
    "You can change the focal point (a point which projection lies at the center of the view) by setting the `center` parameter of `camera`. Note how a part of the data is cropped below because the camera is looking up."
   ]
  },
  {
   "cell_type": "code",
   "execution_count": null,
   "id": "74eff677",
   "metadata": {},
   "outputs": [],
   "source": [
    "import plotly.graph_objects as go\n",
    "import pandas as pd\n",
    "\n",
    "# Read data from a csv\n",
    "z_data = pd.read_csv('https://raw.githubusercontent.com/plotly/datasets/master/api_docs/mt_bruno_elevation.csv')\n",
    "\n",
    "fig = go.Figure(data=go.Surface(z=z_data, showscale=False))\n",
    "fig.update_layout(\n",
    "    title=dict(text='Mt Bruno Elevation'),\n",
    "    width=400, height=400,\n",
    "    margin=dict(t=25, r=0, l=20, b=30)\n",
    ")\n",
    "\n",
    "name = 'looking up'\n",
    "camera = dict(\n",
    "    center=dict(x=0, y=0, z=0.7))\n",
    "\n",
    "\n",
    "fig.update_layout(scene_camera=camera, title=name)\n",
    "fig.show()"
   ]
  },
  {
   "cell_type": "markdown",
   "id": "c86026e7",
   "metadata": {},
   "source": [
    "#### Reference"
   ]
  },
  {
   "cell_type": "markdown",
   "id": "4331437f",
   "metadata": {},
   "source": [
    "See https://plotly.com/python/reference/layout/scene/#layout-scene-camera for more information and chart attribute options!"
   ]
  },
  {
   "cell_type": "markdown",
   "id": "d6414539",
   "metadata": {},
   "source": [
    "### What About Dash?\n",
    "\n",
    "[Dash](https://dash.plot.ly/) is an open-source framework for building analytical applications, with no Javascript required, and it is tightly integrated with the Plotly graphing library.\n",
    "\n",
    "Learn about how to install Dash at https://dash.plot.ly/installation.\n",
    "\n",
    "Everywhere in this page that you see `fig.show()`, you can display the same figure in a Dash application by passing it to the `figure` argument of the [`Graph` component](https://dash.plot.ly/dash-core-components/graph) from the built-in `dash_core_components` package like this:\n",
    "\n",
    "```python\n",
    "import plotly.graph_objects as go # or plotly.express as px\n",
    "fig = go.Figure() # or any Plotly Express function e.g. px.bar(...)\n",
    "# fig.add_trace( ... )\n",
    "# fig.update_layout( ... )\n",
    "\n",
    "from dash import Dash, dcc, html\n",
    "\n",
    "app = Dash()\n",
    "app.layout = html.Div([\n",
    "    dcc.Graph(figure=fig)\n",
    "])\n",
    "\n",
    "app.run_server(debug=True, use_reloader=False)  # Turn off reloader if inside Jupyter\n",
    "```"
   ]
  }
 ],
 "metadata": {
  "jupytext": {
   "notebook_metadata_filter": "all"
  },
  "kernelspec": {
   "display_name": "Python 3",
   "language": "python",
   "name": "python3"
  },
  "language_info": {
   "codemirror_mode": {
    "name": "ipython",
    "version": 3
   },
   "file_extension": ".py",
   "mimetype": "text/x-python",
   "name": "python",
   "nbconvert_exporter": "python",
   "pygments_lexer": "ipython3",
   "version": "3.7.3"
  },
  "plotly": {
   "description": "How to Control the Camera in your 3D Charts in Python with Plotly.",
   "display_as": "3d_charts",
   "language": "python",
   "layout": "base",
   "name": "3D Camera Controls",
   "order": 5,
   "permalink": "python/3d-camera-controls/",
   "thumbnail": "thumbnail/3d-camera-controls.jpg"
  }
 },
 "nbformat": 4,
 "nbformat_minor": 5
}
