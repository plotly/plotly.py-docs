{
 "cells": [
  {
   "cell_type": "markdown",
   "id": "4a778f6c",
   "metadata": {},
   "source": [
    "With ``go.Isosurface``, you can plot [isosurface contours](https://en.wikipedia.org/wiki/Isosurface) of a scalar field ``value``, which is defined on ``x``, ``y`` and ``z`` coordinates.\n",
    "\n",
    "#### Basic Isosurface\n",
    "\n",
    "In this first example, we plot the isocontours of values ``isomin=2`` and ``isomax=6``. In addition, portions of the sides of the coordinate domains for which the value is between ``isomin`` and ``isomax`` (named the ``caps``) are colored. Please rotate the figure to visualize both the internal surfaces and the caps surfaces on the sides."
   ]
  },
  {
   "cell_type": "code",
   "execution_count": null,
   "id": "4af7ab82",
   "metadata": {},
   "outputs": [],
   "source": [
    "import plotly.graph_objects as go\n",
    "\n",
    "fig= go.Figure(data=go.Isosurface(\n",
    "    x=[0,0,0,0,1,1,1,1],\n",
    "    y=[1,0,1,0,1,0,1,0],\n",
    "    z=[1,1,0,0,1,1,0,0],\n",
    "    value=[1,2,3,4,5,6,7,8],\n",
    "    isomin=2,\n",
    "    isomax=6,\n",
    "))\n",
    "\n",
    "fig.show()"
   ]
  },
  {
   "cell_type": "markdown",
   "id": "983c9749",
   "metadata": {},
   "source": [
    "### Removing caps when visualizing isosurfaces\n",
    "\n",
    "For a clearer visualization of internal surfaces, it is possible to remove the caps (color-coded surfaces on the sides of the visualization domain). Caps are visible by default."
   ]
  },
  {
   "cell_type": "code",
   "execution_count": null,
   "id": "22c74bd3",
   "metadata": {},
   "outputs": [],
   "source": [
    "import plotly.graph_objects as go\n",
    "import numpy as np\n",
    "\n",
    "X, Y, Z = np.mgrid[-5:5:40j, -5:5:40j, -5:5:40j]\n",
    "\n",
    "# ellipsoid\n",
    "values = X * X * 0.5 + Y * Y + Z * Z * 2\n",
    "\n",
    "fig = go.Figure(data=go.Isosurface(\n",
    "    x=X.flatten(),\n",
    "    y=Y.flatten(),\n",
    "    z=Z.flatten(),\n",
    "    value=values.flatten(),\n",
    "    isomin=10,\n",
    "    isomax=40,\n",
    "    caps=dict(x_show=False, y_show=False)\n",
    "    ))\n",
    "fig.show()"
   ]
  },
  {
   "cell_type": "markdown",
   "id": "8a7a54ff",
   "metadata": {},
   "source": [
    "### Modifying the number of isosurfaces"
   ]
  },
  {
   "cell_type": "code",
   "execution_count": null,
   "id": "9c3c770f",
   "metadata": {},
   "outputs": [],
   "source": [
    "import plotly.graph_objects as go\n",
    "import numpy as np\n",
    "\n",
    "X, Y, Z = np.mgrid[-5:5:40j, -5:5:40j, -5:5:40j]\n",
    "\n",
    "# ellipsoid\n",
    "values = X * X * 0.5 + Y * Y + Z * Z * 2\n",
    "\n",
    "fig = go.Figure(data=go.Isosurface(\n",
    "    x=X.flatten(),\n",
    "    y=Y.flatten(),\n",
    "    z=Z.flatten(),\n",
    "    value=values.flatten(),\n",
    "    isomin=10,\n",
    "    isomax=50,\n",
    "    surface_count=5, # number of isosurfaces, 2 by default: only min and max\n",
    "    colorbar_nticks=5, # colorbar ticks correspond to isosurface values\n",
    "    caps=dict(x_show=False, y_show=False)\n",
    "    ))\n",
    "fig.show()"
   ]
  },
  {
   "cell_type": "markdown",
   "id": "a55e59e8",
   "metadata": {},
   "source": [
    "### Changing the opacity of isosurfaces"
   ]
  },
  {
   "cell_type": "code",
   "execution_count": null,
   "id": "b3dafd32",
   "metadata": {},
   "outputs": [],
   "source": [
    "import plotly.graph_objects as go\n",
    "import numpy as np\n",
    "\n",
    "X, Y, Z = np.mgrid[-5:5:40j, -5:5:40j, -5:5:40j]\n",
    "\n",
    "# ellipsoid\n",
    "values = X * X * 0.5 + Y * Y + Z * Z * 2\n",
    "\n",
    "fig = go.Figure(data=go.Isosurface(\n",
    "    x=X.flatten(),\n",
    "    y=Y.flatten(),\n",
    "    z=Z.flatten(),\n",
    "    value=values.flatten(),\n",
    "    opacity=0.6,\n",
    "    isomin=10,\n",
    "    isomax=50,\n",
    "    surface_count=3,\n",
    "    caps=dict(x_show=False, y_show=False)\n",
    "    ))\n",
    "fig.show()"
   ]
  },
  {
   "cell_type": "markdown",
   "id": "af59cde5",
   "metadata": {},
   "source": [
    "#### Isosurface with Additional Slices\n",
    "\n",
    "Here we visualize slices parallel to the axes on top of isosurfaces. For a clearer visualization, the `fill` ratio of isosurfaces is decreased below 1 (completely filled)."
   ]
  },
  {
   "cell_type": "code",
   "execution_count": null,
   "id": "844266a6",
   "metadata": {},
   "outputs": [],
   "source": [
    "import plotly.graph_objects as go\n",
    "import numpy as np\n",
    "\n",
    "X, Y, Z = np.mgrid[-5:5:40j, -5:5:40j, -5:5:40j]\n",
    "\n",
    "# ellipsoid\n",
    "values = X * X * 0.5 + Y * Y + Z * Z * 2\n",
    "\n",
    "fig = go.Figure(data=go.Isosurface(\n",
    "    x=X.flatten(),\n",
    "    y=Y.flatten(),\n",
    "    z=Z.flatten(),\n",
    "    value=values.flatten(),\n",
    "    isomin=5,\n",
    "    isomax=50,\n",
    "    surface_fill=0.4,\n",
    "    caps=dict(x_show=False, y_show=False),\n",
    "    slices_z=dict(show=True, locations=[-1, -3,]),\n",
    "    slices_y=dict(show=True, locations=[0]),\n",
    "    ))\n",
    "fig.show()"
   ]
  },
  {
   "cell_type": "markdown",
   "id": "0b2c8152",
   "metadata": {},
   "source": [
    "#### Multiple Isosurfaces with Caps"
   ]
  },
  {
   "cell_type": "code",
   "execution_count": null,
   "id": "4b569137",
   "metadata": {},
   "outputs": [],
   "source": [
    "import plotly.graph_objects as go\n",
    "import numpy as np\n",
    "\n",
    "X, Y, Z = np.mgrid[-5:5:40j, -5:5:40j, 0:5:20j]\n",
    "\n",
    "values = X * X * 0.5 + Y * Y + Z * Z * 2\n",
    "\n",
    "fig = go.Figure(data=go.Isosurface(\n",
    "    x=X.flatten(),\n",
    "    y=Y.flatten(),\n",
    "    z=Z.flatten(),\n",
    "    value=values.flatten(),\n",
    "    isomin=30,\n",
    "    isomax=50,\n",
    "    surface=dict(count=3, fill=0.7, pattern='odd'),\n",
    "    caps=dict(x_show=True, y_show=True),\n",
    "    ))\n",
    "fig.show()"
   ]
  },
  {
   "cell_type": "markdown",
   "id": "73340a6e",
   "metadata": {},
   "source": [
    "### Changing the default colorscale of isosurfaces"
   ]
  },
  {
   "cell_type": "code",
   "execution_count": null,
   "id": "4ad437e5",
   "metadata": {},
   "outputs": [],
   "source": [
    "import plotly.graph_objects as go\n",
    "import numpy as np\n",
    "\n",
    "X, Y, Z = np.mgrid[-5:5:40j, -5:5:40j, -5:5:40j]\n",
    "\n",
    "# ellipsoid\n",
    "values = X * X * 0.5 + Y * Y + Z * Z * 2\n",
    "\n",
    "fig = go.Figure(data=go.Isosurface(\n",
    "    x=X.flatten(),\n",
    "    y=Y.flatten(),\n",
    "    z=Z.flatten(),\n",
    "    value=values.flatten(),\n",
    "    colorscale='BlueRed',\n",
    "    isomin=10,\n",
    "    isomax=50,\n",
    "    surface_count=3,\n",
    "    caps=dict(x_show=False, y_show=False)\n",
    "    ))\n",
    "fig.show()"
   ]
  },
  {
   "cell_type": "markdown",
   "id": "800ef1cf",
   "metadata": {},
   "source": [
    "### Customizing the layout and appearance of isosurface plots"
   ]
  },
  {
   "cell_type": "code",
   "execution_count": null,
   "id": "64d45a10",
   "metadata": {},
   "outputs": [],
   "source": [
    "import plotly.graph_objects as go\n",
    "import numpy as np\n",
    "\n",
    "X, Y, Z = np.mgrid[-5:5:40j, -5:5:40j, 0:5:20j]\n",
    "\n",
    "values = X * X * 0.5 + Y * Y + Z * Z * 2\n",
    "\n",
    "fig = go.Figure(data=go.Isosurface(\n",
    "    x=X.flatten(),\n",
    "    y=Y.flatten(),\n",
    "    z=Z.flatten(),\n",
    "    value=values.flatten(),\n",
    "    isomin=30,\n",
    "    isomax=50,\n",
    "    surface=dict(count=3, fill=0.7, pattern='odd'),\n",
    "    showscale=False, # remove colorbar\n",
    "    caps=dict(x_show=True, y_show=True),\n",
    "    ))\n",
    "\n",
    "fig.update_layout(\n",
    "    margin=dict(t=0, l=0, b=0), # tight layout\n",
    "    scene_camera_eye=dict(x=1.86, y=0.61, z=0.98))\n",
    "fig.show()"
   ]
  },
  {
   "cell_type": "markdown",
   "id": "cec97708",
   "metadata": {},
   "source": [
    "#### Reference\n",
    "See https://plotly.com/python/reference/isosurface/ for more information and chart attribute options!\n"
   ]
  },
  {
   "cell_type": "markdown",
   "id": "044ff245",
   "metadata": {},
   "source": [
    "### What About Dash?\n",
    "\n",
    "[Dash](https://dash.plot.ly/) is an open-source framework for building analytical applications, with no Javascript required, and it is tightly integrated with the Plotly graphing library.\n",
    "\n",
    "Learn about how to install Dash at https://dash.plot.ly/installation.\n",
    "\n",
    "Everywhere in this page that you see `fig.show()`, you can display the same figure in a Dash application by passing it to the `figure` argument of the [`Graph` component](https://dash.plot.ly/dash-core-components/graph) from the built-in `dash_core_components` package like this:\n",
    "\n",
    "```python\n",
    "import plotly.graph_objects as go # or plotly.express as px\n",
    "fig = go.Figure() # or any Plotly Express function e.g. px.bar(...)\n",
    "# fig.add_trace( ... )\n",
    "# fig.update_layout( ... )\n",
    "\n",
    "from dash import Dash, dcc, html\n",
    "\n",
    "app = Dash()\n",
    "app.layout = html.Div([\n",
    "    dcc.Graph(figure=fig)\n",
    "])\n",
    "\n",
    "app.run_server(debug=True, use_reloader=False)  # Turn off reloader if inside Jupyter\n",
    "```"
   ]
  }
 ],
 "metadata": {
  "jupytext": {
   "notebook_metadata_filter": "all"
  },
  "kernelspec": {
   "display_name": "Python 3",
   "language": "python",
   "name": "python3"
  },
  "language_info": {
   "codemirror_mode": {
    "name": "ipython",
    "version": 3
   },
   "file_extension": ".py",
   "mimetype": "text/x-python",
   "name": "python",
   "nbconvert_exporter": "python",
   "pygments_lexer": "ipython3",
   "version": "3.7.3"
  },
  "plotly": {
   "description": "How to make 3D Isosurface Plots in Python with Plotly.",
   "display_as": "3d_charts",
   "language": "python",
   "layout": "base",
   "name": "3D Isosurface Plots",
   "order": 10,
   "page_type": "u-guide",
   "permalink": "python/3d-isosurface-plots/",
   "redirect_from": "python/isosurfaces-with-marching-cubes/",
   "thumbnail": "thumbnail/isosurface.jpg"
  }
 },
 "nbformat": 4,
 "nbformat_minor": 5
}
