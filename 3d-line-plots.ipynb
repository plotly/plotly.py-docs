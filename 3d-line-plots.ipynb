{
 "cells": [
  {
   "cell_type": "markdown",
   "id": "2edd18a5",
   "metadata": {},
   "source": [
    "### 3D Line plot with Plotly Express"
   ]
  },
  {
   "cell_type": "code",
   "execution_count": null,
   "id": "16356d0b",
   "metadata": {},
   "outputs": [],
   "source": [
    "import plotly.express as px\n",
    "df = px.data.gapminder().query(\"country=='Brazil'\")\n",
    "fig = px.line_3d(df, x=\"gdpPercap\", y=\"pop\", z=\"year\")\n",
    "fig.show()"
   ]
  },
  {
   "cell_type": "code",
   "execution_count": null,
   "id": "e992614c",
   "metadata": {},
   "outputs": [],
   "source": [
    "import plotly.express as px\n",
    "df = px.data.gapminder().query(\"continent=='Europe'\")\n",
    "fig = px.line_3d(df, x=\"gdpPercap\", y=\"pop\", z=\"year\", color='country')\n",
    "fig.show()"
   ]
  },
  {
   "cell_type": "markdown",
   "id": "831260ae",
   "metadata": {},
   "source": [
    "#### 3D Line Plot of Brownian Motion\n",
    "\n",
    "Here we represent a trajectory in 3D."
   ]
  },
  {
   "cell_type": "code",
   "execution_count": null,
   "id": "a2183e14",
   "metadata": {},
   "outputs": [],
   "source": [
    "import plotly.graph_objects as go\n",
    "import pandas as pd\n",
    "import numpy as np\n",
    "\n",
    "rs = np.random.RandomState()\n",
    "rs.seed(0)\n",
    "\n",
    "def brownian_motion(T = 1, N = 100, mu = 0.1, sigma = 0.01, S0 = 20):\n",
    "    dt = float(T)/N\n",
    "    t = np.linspace(0, T, N)\n",
    "    W = rs.standard_normal(size = N)\n",
    "    W = np.cumsum(W)*np.sqrt(dt) # standard brownian motion\n",
    "    X = (mu-0.5*sigma**2)*t + sigma*W\n",
    "    S = S0*np.exp(X) # geometric brownian motion\n",
    "    return S\n",
    "\n",
    "dates = pd.date_range('2012-01-01', '2013-02-22')\n",
    "T = (dates.max()-dates.min()).days / 365\n",
    "N = dates.size\n",
    "start_price = 100\n",
    "y = brownian_motion(T, N, sigma=0.1, S0=start_price)\n",
    "z = brownian_motion(T, N, sigma=0.1, S0=start_price)\n",
    "\n",
    "fig = go.Figure(data=go.Scatter3d(\n",
    "    x=dates, y=y, z=z,\n",
    "    marker=dict(\n",
    "        size=4,\n",
    "        color=z,\n",
    "        colorscale='Viridis',\n",
    "    ),\n",
    "    line=dict(\n",
    "        color='darkblue',\n",
    "        width=2\n",
    "    )\n",
    "))\n",
    "\n",
    "fig.update_layout(\n",
    "    width=800,\n",
    "    height=700,\n",
    "    autosize=False,\n",
    "    scene=dict(\n",
    "        camera=dict(\n",
    "            up=dict(\n",
    "                x=0,\n",
    "                y=0,\n",
    "                z=1\n",
    "            ),\n",
    "            eye=dict(\n",
    "                x=0,\n",
    "                y=1.0707,\n",
    "                z=1,\n",
    "            )\n",
    "        ),\n",
    "        aspectratio = dict( x=1, y=1, z=0.7 ),\n",
    "        aspectmode = 'manual'\n",
    "    ),\n",
    ")\n",
    "\n",
    "fig.show()\n"
   ]
  },
  {
   "cell_type": "markdown",
   "id": "5750ded5",
   "metadata": {},
   "source": [
    "#### Reference\n",
    "\n",
    "See [function reference for `px.(line_3d)`](https://plotly.com/python-api-reference/generated/plotly.express.line_3d) or https://plotly.com/python/reference/scatter3d/#scatter3d-marker-line for more information and chart attribute options!\n"
   ]
  },
  {
   "cell_type": "markdown",
   "id": "f468e540",
   "metadata": {},
   "source": [
    "### What About Dash?\n",
    "\n",
    "[Dash](https://dash.plot.ly/) is an open-source framework for building analytical applications, with no Javascript required, and it is tightly integrated with the Plotly graphing library.\n",
    "\n",
    "Learn about how to install Dash at https://dash.plot.ly/installation.\n",
    "\n",
    "Everywhere in this page that you see `fig.show()`, you can display the same figure in a Dash application by passing it to the `figure` argument of the [`Graph` component](https://dash.plot.ly/dash-core-components/graph) from the built-in `dash_core_components` package like this:\n",
    "\n",
    "```python\n",
    "import plotly.graph_objects as go # or plotly.express as px\n",
    "fig = go.Figure() # or any Plotly Express function e.g. px.bar(...)\n",
    "# fig.add_trace( ... )\n",
    "# fig.update_layout( ... )\n",
    "\n",
    "from dash import Dash, dcc, html\n",
    "\n",
    "app = Dash()\n",
    "app.layout = html.Div([\n",
    "    dcc.Graph(figure=fig)\n",
    "])\n",
    "\n",
    "app.run_server(debug=True, use_reloader=False)  # Turn off reloader if inside Jupyter\n",
    "```"
   ]
  }
 ],
 "metadata": {
  "jupytext": {
   "notebook_metadata_filter": "all"
  },
  "kernelspec": {
   "display_name": "Python 3",
   "language": "python",
   "name": "python3"
  },
  "language_info": {
   "codemirror_mode": {
    "name": "ipython",
    "version": 3
   },
   "file_extension": ".py",
   "mimetype": "text/x-python",
   "name": "python",
   "nbconvert_exporter": "python",
   "pygments_lexer": "ipython3",
   "version": "3.7.3"
  },
  "plotly": {
   "description": "How to make 3D Line Plots",
   "display_as": "3d_charts",
   "language": "python",
   "layout": "base",
   "name": "3D Line Plots",
   "order": 7,
   "page_type": "u-guide",
   "permalink": "python/3d-line-plots/",
   "thumbnail": "thumbnail/3d-line.jpg"
  }
 },
 "nbformat": 4,
 "nbformat_minor": 5
}
