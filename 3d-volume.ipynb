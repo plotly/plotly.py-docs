{
 "cells": [
  {
   "cell_type": "markdown",
   "id": "4605e760",
   "metadata": {},
   "source": [
    "A volume plot with `go.Volume` shows several partially transparent isosurfaces for volume rendering. The API of `go.Volume` is close to the one of `go.Isosurface`. However, whereas [isosurface plots](/python/3d-isosurface-plots/) show all surfaces with the same opacity, tweaking the `opacityscale` parameter of `go.Volume` results in a depth effect and better volume rendering.\n",
    "\n",
    "## Simple volume plot with go.Volume\n",
    "\n",
    "In the three examples below, note that the default colormap is different whether isomin and isomax have the same sign or not."
   ]
  },
  {
   "cell_type": "code",
   "execution_count": null,
   "id": "33397f9b",
   "metadata": {},
   "outputs": [],
   "source": [
    "import plotly.graph_objects as go\n",
    "import numpy as np\n",
    "X, Y, Z = np.mgrid[-8:8:40j, -8:8:40j, -8:8:40j]\n",
    "values = np.sin(X*Y*Z) / (X*Y*Z)\n",
    "\n",
    "fig = go.Figure(data=go.Volume(\n",
    "    x=X.flatten(),\n",
    "    y=Y.flatten(),\n",
    "    z=Z.flatten(),\n",
    "    value=values.flatten(),\n",
    "    isomin=0.1,\n",
    "    isomax=0.8,\n",
    "    opacity=0.1, # needs to be small to see through all surfaces\n",
    "    surface_count=17, # needs to be a large number for good volume rendering\n",
    "    ))\n",
    "fig.show()"
   ]
  },
  {
   "cell_type": "code",
   "execution_count": null,
   "id": "3809c3a3",
   "metadata": {},
   "outputs": [],
   "source": [
    "import plotly.graph_objects as go\n",
    "import numpy as np\n",
    "X, Y, Z = np.mgrid[-1:1:30j, -1:1:30j, -1:1:30j]\n",
    "values =    np.sin(np.pi*X) * np.cos(np.pi*Z) * np.sin(np.pi*Y)\n",
    "\n",
    "fig = go.Figure(data=go.Volume(\n",
    "    x=X.flatten(),\n",
    "    y=Y.flatten(),\n",
    "    z=Z.flatten(),\n",
    "    value=values.flatten(),\n",
    "    isomin=-0.1,\n",
    "    isomax=0.8,\n",
    "    opacity=0.1, # needs to be small to see through all surfaces\n",
    "    surface_count=21, # needs to be a large number for good volume rendering\n",
    "    ))\n",
    "fig.show()"
   ]
  },
  {
   "cell_type": "code",
   "execution_count": null,
   "id": "1092e24a",
   "metadata": {},
   "outputs": [],
   "source": [
    "import numpy as np\n",
    "import plotly.graph_objects as go\n",
    "\n",
    "# Generate nicely looking random 3D-field\n",
    "np.random.seed(0)\n",
    "l = 30\n",
    "X, Y, Z = np.mgrid[:l, :l, :l]\n",
    "vol = np.zeros((l, l, l))\n",
    "pts = (l * np.random.rand(3, 15)).astype(int)\n",
    "vol[tuple(indices for indices in pts)] = 1\n",
    "from scipy import ndimage\n",
    "vol = ndimage.gaussian_filter(vol, 4)\n",
    "vol /= vol.max()\n",
    "\n",
    "fig = go.Figure(data=go.Volume(\n",
    "    x=X.flatten(), y=Y.flatten(), z=Z.flatten(),\n",
    "    value=vol.flatten(),\n",
    "    isomin=0.2,\n",
    "    isomax=0.7,\n",
    "    opacity=0.1,\n",
    "    surface_count=25,\n",
    "    ))\n",
    "fig.update_layout(scene_xaxis_showticklabels=False,\n",
    "                  scene_yaxis_showticklabels=False,\n",
    "                  scene_zaxis_showticklabels=False)\n",
    "fig.show()"
   ]
  },
  {
   "cell_type": "markdown",
   "id": "da931fbc",
   "metadata": {},
   "source": [
    "### Defining the opacity scale of volume plots\n",
    "\n",
    "In order to see through the volume, the different isosurfaces need to be partially transparent. This transparency is controlled by a global parameter, `opacity`, as well as an opacity scale mapping scalar values to opacity levels. The figure below shows that changing the opacity scale changes a lot the visualization, so that `opacityscale` should be chosen carefully (`uniform` corresponds to a uniform opacity, `min`/`max` maps the minimum/maximum value to a maximal opacity, and `extremes` maps both the minimum and maximum values to maximal opacity, with a dip in between)."
   ]
  },
  {
   "cell_type": "code",
   "execution_count": null,
   "id": "e28801fc",
   "metadata": {},
   "outputs": [],
   "source": [
    "import plotly.graph_objects as go\n",
    "from plotly.subplots import make_subplots\n",
    "fig = make_subplots(\n",
    "    rows=2, cols=2,\n",
    "    specs=[[{'type': 'volume'}, {'type': 'volume'}],\n",
    "           [{'type': 'volume'}, {'type': 'volume'}]])\n",
    "\n",
    "import numpy as np\n",
    "\n",
    "X, Y, Z = np.mgrid[-8:8:30j, -8:8:30j, -8:8:30j]\n",
    "values =    np.sin(X*Y*Z) / (X*Y*Z)\n",
    "\n",
    "\n",
    "fig.add_trace(go.Volume(\n",
    "    opacityscale=\"uniform\",\n",
    "    ), row=1, col=1)\n",
    "fig.add_trace(go.Volume(\n",
    "    opacityscale=\"extremes\",\n",
    "    ), row=1, col=2)\n",
    "fig.add_trace(go.Volume(\n",
    "    opacityscale=\"min\",\n",
    "    ), row=2, col=1)\n",
    "fig.add_trace(go.Volume(\n",
    "    opacityscale=\"max\",\n",
    "    ), row=2, col=2)\n",
    "fig.update_traces(x=X.flatten(), y=Y.flatten(), z=Z.flatten(), value=values.flatten(),\n",
    "    isomin=0.15, isomax=0.9, opacity=0.1, surface_count=15)\n",
    "fig.show()"
   ]
  },
  {
   "cell_type": "markdown",
   "id": "1e8e2a61",
   "metadata": {},
   "source": [
    "### Defining a custom opacity scale\n",
    "\n",
    "It is also possible to define a custom opacity scale, mapping scalar values to relative opacity values (between 0 and 1, the maximum opacity is given by the opacity keyword). This is useful to make a range of values completely transparent, as in the example below between -0.2 and 0.2."
   ]
  },
  {
   "cell_type": "code",
   "execution_count": null,
   "id": "60707612",
   "metadata": {},
   "outputs": [],
   "source": [
    "import plotly.graph_objects as go\n",
    "import numpy as np\n",
    "X, Y, Z = np.mgrid[-1:1:30j, -1:1:30j, -1:1:30j]\n",
    "values =    np.sin(np.pi*X) * np.cos(np.pi*Z) * np.sin(np.pi*Y)\n",
    "\n",
    "fig = go.Figure(data=go.Volume(\n",
    "    x=X.flatten(),\n",
    "    y=Y.flatten(),\n",
    "    z=Z.flatten(),\n",
    "    value=values.flatten(),\n",
    "    isomin=-0.5,\n",
    "    isomax=0.5,\n",
    "    opacity=0.1, # max opacity\n",
    "    opacityscale=[[-0.5, 1], [-0.2, 0], [0.2, 0], [0.5, 1]],\n",
    "    surface_count=21,\n",
    "    colorscale='RdBu'\n",
    "    ))\n",
    "fig.show()"
   ]
  },
  {
   "cell_type": "markdown",
   "id": "d8bc0178",
   "metadata": {},
   "source": [
    "### Adding caps to a volume plot\n",
    "\n",
    "For a clearer visualization of internal surfaces, it is possible to remove the caps (color-coded surfaces on the sides of the visualization domain). Caps are visible by default. Compare below with and without caps."
   ]
  },
  {
   "cell_type": "code",
   "execution_count": null,
   "id": "b786a5a5",
   "metadata": {},
   "outputs": [],
   "source": [
    "import numpy as np\n",
    "import plotly.graph_objects as go\n",
    "\n",
    "\n",
    "X, Y, Z = np.mgrid[:1:20j, :1:20j, :1:20j]\n",
    "vol = (X - 1)**2 + (Y - 1)**2 + Z**2\n",
    "\n",
    "\n",
    "fig = go.Figure(data=go.Volume(\n",
    "    x=X.flatten(), y=Y.flatten(), z=Z.flatten(),\n",
    "    value=vol.flatten(),\n",
    "    isomin=0.2,\n",
    "    isomax=0.7,\n",
    "    opacity=0.2,\n",
    "    surface_count=21,\n",
    "    caps= dict(x_show=True, y_show=True, z_show=True, x_fill=1), # with caps (default mode)\n",
    "    ))\n",
    "\n",
    "# Change camera view for a better view of the sides, XZ plane\n",
    "# (see https://plotly.com/python/v3/3d-camera-controls/)\n",
    "fig.update_layout(scene_camera = dict(\n",
    "    up=dict(x=0, y=0, z=1),\n",
    "    center=dict(x=0, y=0, z=0),\n",
    "    eye=dict(x=0.1, y=2.5, z=0.1)\n",
    "))\n",
    "\n",
    "fig.show()"
   ]
  },
  {
   "cell_type": "code",
   "execution_count": null,
   "id": "e57ea9ab",
   "metadata": {},
   "outputs": [],
   "source": [
    "import numpy as np\n",
    "import plotly.graph_objects as go\n",
    "\n",
    "X, Y, Z = np.mgrid[:1:20j, :1:20j, :1:20j]\n",
    "vol = (X - 1)**2 + (Y - 1)**2 + Z**2\n",
    "\n",
    "\n",
    "fig = go.Figure(data=go.Volume(\n",
    "    x=X.flatten(), y=Y.flatten(), z=Z.flatten(),\n",
    "    value=vol.flatten(),\n",
    "    isomin=0.2,\n",
    "    isomax=0.7,\n",
    "    opacity=0.2,\n",
    "    surface_count=21,\n",
    "    caps= dict(x_show=False, y_show=False, z_show=False), # no caps\n",
    "    ))\n",
    "fig.update_layout(scene_camera = dict(\n",
    "    up=dict(x=0, y=0, z=1),\n",
    "    center=dict(x=0, y=0, z=0),\n",
    "    eye=dict(x=0.1, y=2.5, z=0.1)\n",
    "))\n",
    "\n",
    "fig.show()"
   ]
  },
  {
   "cell_type": "markdown",
   "id": "c5ce6a3b",
   "metadata": {},
   "source": [
    "### Adding slices to a volume plot\n",
    "\n",
    "Slices through the volume can be added to the volume plot. In this example the isosurfaces are only partially filled so that the slice is more visible, and the caps were removed for the same purpose."
   ]
  },
  {
   "cell_type": "code",
   "execution_count": null,
   "id": "f83fe4fb",
   "metadata": {},
   "outputs": [],
   "source": [
    "import numpy as np\n",
    "import plotly.graph_objects as go\n",
    "\n",
    "X, Y, Z = np.mgrid[:1:20j, :1:20j, :1:20j]\n",
    "vol = (X - 1)**2 + (Y - 1)**2 + Z**2\n",
    "\n",
    "\n",
    "fig = go.Figure(data=go.Volume(\n",
    "    x=X.flatten(), y=Y.flatten(), z=Z.flatten(),\n",
    "    value=vol.flatten(),\n",
    "    isomin=0.2,\n",
    "    isomax=0.7,\n",
    "    opacity=0.2,\n",
    "    surface_count=21,\n",
    "    slices_z=dict(show=True, locations=[0.4]),\n",
    "    surface=dict(fill=0.5, pattern='odd'),\n",
    "    caps= dict(x_show=False, y_show=False, z_show=False), # no caps\n",
    "    ))\n",
    "\n",
    "fig.show()"
   ]
  },
  {
   "cell_type": "markdown",
   "id": "3d4bd1f4",
   "metadata": {},
   "source": [
    "#### Reference\n",
    "See https://plotly.com/python/reference/volume/ for more information and chart attribute options!\n",
    "\n",
    "#### See also\n",
    "[3D isosurface documentation](/python/3d-isosurface-plots/)"
   ]
  },
  {
   "cell_type": "markdown",
   "id": "e5a759f8",
   "metadata": {},
   "source": [
    "### What About Dash?\n",
    "\n",
    "[Dash](https://dash.plot.ly/) is an open-source framework for building analytical applications, with no Javascript required, and it is tightly integrated with the Plotly graphing library.\n",
    "\n",
    "Learn about how to install Dash at https://dash.plot.ly/installation.\n",
    "\n",
    "Everywhere in this page that you see `fig.show()`, you can display the same figure in a Dash application by passing it to the `figure` argument of the [`Graph` component](https://dash.plot.ly/dash-core-components/graph) from the built-in `dash_core_components` package like this:\n",
    "\n",
    "```python\n",
    "import plotly.graph_objects as go # or plotly.express as px\n",
    "fig = go.Figure() # or any Plotly Express function e.g. px.bar(...)\n",
    "# fig.add_trace( ... )\n",
    "# fig.update_layout( ... )\n",
    "\n",
    "from dash import Dash, dcc, html\n",
    "\n",
    "app = Dash()\n",
    "app.layout = html.Div([\n",
    "    dcc.Graph(figure=fig)\n",
    "])\n",
    "\n",
    "app.run_server(debug=True, use_reloader=False)  # Turn off reloader if inside Jupyter\n",
    "```"
   ]
  }
 ],
 "metadata": {
  "jupytext": {
   "notebook_metadata_filter": "all"
  },
  "kernelspec": {
   "display_name": "Python 3",
   "language": "python",
   "name": "python3"
  },
  "language_info": {
   "codemirror_mode": {
    "name": "ipython",
    "version": 3
   },
   "file_extension": ".py",
   "mimetype": "text/x-python",
   "name": "python",
   "nbconvert_exporter": "python",
   "pygments_lexer": "ipython3",
   "version": "3.7.3"
  },
  "plotly": {
   "description": "How to make 3D Volume Plots in Python with Plotly.",
   "display_as": "3d_charts",
   "language": "python",
   "layout": "base",
   "name": "3D Volume Plots",
   "order": 11,
   "page_type": "u-guide",
   "permalink": "python/3d-volume-plots/",
   "thumbnail": "thumbnail/3d-volume-plots.jpg"
  }
 },
 "nbformat": 4,
 "nbformat_minor": 5
}
