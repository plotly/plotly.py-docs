{
 "cells": [
  {
   "cell_type": "markdown",
   "id": "99e2ce94",
   "metadata": {},
   "source": [
    "#### LaTeX Typesetting\n",
    "\n",
    "Figure titles, axis labels and annotations all accept LaTeX directives for rendering mathematical formulas and notation, when the entire label is surrounded by dollar signs `$...$`. This rendering is handled by the [MathJax library](https://www.npmjs.com/package/mathjax?activeTab=versions), which must be loaded in the environment where figures are being rendered. MathJax is included by default in Jupyter-like environments. When embedding Plotly figures in other contexts it may be required to ensure that MathJax is separately loaded, for example via a `<script>` tag pointing to a content-delivery network (CDN). Versions 2 and 3 are supported."
   ]
  },
  {
   "cell_type": "code",
   "execution_count": null,
   "id": "9f54da92",
   "metadata": {},
   "outputs": [],
   "source": [
    "import plotly.express as px\n",
    "\n",
    "fig = px.line(x=[1, 2, 3, 4], y=[1, 4, 9, 16], title=r'$\\alpha_{1c} = 352 \\pm 11 \\text{ km s}^{-1}$')\n",
    "fig.update_layout(\n",
    "    xaxis_title=r'$\\sqrt{(n_\\text{c}(t|{T_\\text{early}}))}$',\n",
    "    yaxis_title=r'$d, r \\text{ (solar radius)}$'\n",
    ")\n",
    "fig.show()"
   ]
  },
  {
   "cell_type": "code",
   "execution_count": null,
   "id": "cdd66e4f",
   "metadata": {
    "lines_to_next_cell": 2
   },
   "outputs": [],
   "source": [
    "import plotly.graph_objs as go\n",
    "\n",
    "fig = go.Figure()\n",
    "fig.add_trace(go.Scatter(\n",
    "    x=[1, 2, 3, 4],\n",
    "    y=[1, 4, 9, 16],\n",
    "    name=r'$\\alpha_{1c} = 352 \\pm 11 \\text{ km s}^{-1}$'\n",
    "))\n",
    "fig.add_trace(go.Scatter(\n",
    "    x=[1, 2, 3, 4],\n",
    "    y=[0.5, 2, 4.5, 8],\n",
    "    name=r'$\\beta_{1c} = 25 \\pm 11 \\text{ km s}^{-1}$'\n",
    "))\n",
    "fig.update_layout(\n",
    "    xaxis_title=r'$\\sqrt{(n_\\text{c}(t|{T_\\text{early}}))}$',\n",
    "    yaxis_title=r'$d, r \\text{ (solar radius)}$'\n",
    ")\n",
    "fig.show()"
   ]
  },
  {
   "cell_type": "markdown",
   "id": "65a60e49",
   "metadata": {},
   "source": [
    "### What About Dash?\n",
    "\n",
    "[Dash](https://dash.plot.ly/) is an open-source framework for building analytical applications, with no Javascript required, and it is tightly integrated with the Plotly graphing library.\n",
    "\n",
    "Learn about how to install Dash at https://dash.plot.ly/installation.\n",
    "\n",
    "Everywhere in this page that you see `fig.show()`, you can display the same figure in a Dash application by passing it to the `figure` argument of the [`Graph` component](https://dash.plot.ly/dash-core-components/graph) from the built-in `dash_core_components` package like this:\n",
    "\n",
    "```python\n",
    "import plotly.graph_objects as go # or plotly.express as px\n",
    "fig = go.Figure() # or any Plotly Express function e.g. px.bar(...)\n",
    "# fig.add_trace( ... )\n",
    "# fig.update_layout( ... )\n",
    "\n",
    "from dash import Dash, dcc, html\n",
    "\n",
    "app = Dash()\n",
    "app.layout = html.Div([\n",
    "    dcc.Graph(figure=fig)\n",
    "])\n",
    "\n",
    "app.run_server(debug=True, use_reloader=False)  # Turn off reloader if inside Jupyter\n",
    "```"
   ]
  }
 ],
 "metadata": {
  "jupytext": {
   "notebook_metadata_filter": "all"
  },
  "kernelspec": {
   "display_name": "Python 3",
   "language": "python",
   "name": "python3"
  },
  "language_info": {
   "codemirror_mode": {
    "name": "ipython",
    "version": 3
   },
   "file_extension": ".py",
   "mimetype": "text/x-python",
   "name": "python",
   "nbconvert_exporter": "python",
   "pygments_lexer": "ipython3",
   "version": "3.7.7"
  },
  "plotly": {
   "description": "How to add LaTeX to python graphs.",
   "display_as": "advanced_opt",
   "language": "python",
   "layout": "base",
   "name": "LaTeX",
   "order": 5,
   "page_type": "example_index",
   "permalink": "python/LaTeX/",
   "thumbnail": "thumbnail/latex.jpg"
  }
 },
 "nbformat": 4,
 "nbformat_minor": 5
}
