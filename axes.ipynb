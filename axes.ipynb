{
 "cells": [
  {
   "cell_type": "markdown",
   "id": "75c04daa",
   "metadata": {},
   "source": [
    "This tutorial explain how to set the properties of [2-dimensional Cartesian axes](/python/figure-structure/#2d-cartesian-trace-types-and-subplots), namely [`go.layout.XAxis`](/python/reference/layout/xaxis/) and [`go.layout.YAxis`](/python/reference/layout/xaxis/).\n",
    "\n",
    "Other kinds of subplots and axes are described in other tutorials:\n",
    "\n",
    "- [3D axes](/python/3d-axes) The axis object is [`go.layout.Scene`](/python/reference/layout/scene/)\n",
    "- [Polar axes](/python/polar-chart/). The axis object is [`go.layout.Polar`](/python/reference/layout/polar/)\n",
    "- [Ternary axes](/python/ternary-plots). The axis object is [`go.layout.Ternary`](/python/reference/layout/ternary/)\n",
    "- [Geo axes](/python/map-configuration/). The axis object is [`go.layout.Geo`](/python/reference/layout/geo/)\n",
    "- [Map axes](/python/tile-map-layers/). The axis object is [`go.layout.Map`](/python/reference/layout/map/)\n",
    "- [Color axes](/python/colorscales/). The axis object is [`go.layout.Coloraxis`](/python/reference/layout/coloraxis/).\n",
    "\n",
    "**See also** the tutorials on [facet plots](/python/facet-plots/), [subplots](/python/subplots) and [multiple axes](/python/multiple-axes/).\n",
    "\n",
    "### 2-D Cartesian Axis Types and Auto-Detection\n",
    "\n",
    "The different types of Cartesian axes are configured via the `xaxis.type` or `yaxis.type` attribute, which can take on the following values:\n",
    "\n",
    "- `'linear'` as described in this page\n",
    "- `'log'` (see the [log plot tutorial](/python/log-plot/))\n",
    "- `'date'` (see the [tutorial on timeseries](/python/time-series/))\n",
    "- `'category'` (see the [categorical axes tutorial](/python/categorical-axes/))\n",
    "- `'multicategory'` (see the [categorical axes tutorial](/python/categorical-axes/))\n",
    "\n",
    "The axis type is auto-detected by looking at data from the first [trace](/python/figure-structure/) linked to this axis:\n",
    "\n",
    "* First check for `multicategory`, then `date`, then `category`, else default to `linear` (`log` is never automatically selected)\n",
    "* `multicategory` is just a shape test: is the array nested?\n",
    "* `date` and `category`: require **more than twice as many distinct date or category strings as distinct numbers** in order to choose that axis type.\n",
    "\t* Both of these test an evenly-spaced sample of at most 1000 values"
   ]
  },
  {
   "cell_type": "markdown",
   "id": "98bfb5ad",
   "metadata": {},
   "source": [
    "### Forcing an axis to be categorical\n",
    "\n",
    "It is possible to force the axis type by setting explicitly `xaxis_type`. In the example below the automatic X axis type would be `linear` (because there are not more than twice as many unique strings as unique numbers) but we force it to be `category`."
   ]
  },
  {
   "cell_type": "code",
   "execution_count": null,
   "id": "532fa324",
   "metadata": {
    "lines_to_next_cell": 2
   },
   "outputs": [],
   "source": [
    "import plotly.express as px\n",
    "fig = px.bar(x=[\"a\", \"a\", \"b\", 3], y = [1,2,3,4])\n",
    "fig.update_xaxes(type='category')\n",
    "fig.show()"
   ]
  },
  {
   "cell_type": "markdown",
   "id": "d881132d",
   "metadata": {},
   "source": [
    "#### General Axis properties\n",
    "\n",
    "The different groups of Cartesian axes properties are\n",
    "\n",
    "- title of the axis\n",
    "- tick values (locations of tick marks) and tick labels. Tick labels and grid lines are placed at tick values.\n",
    "- lines: grid lines (passing through tick values), axis lines, zero lines\n",
    "- range of the axis\n",
    "- domain of the axis\n",
    "\n",
    "The examples on this page apply to axes of any type, but extra attributes are available for [axes of type `category`](/python/categorical-axes/) and [axes of type `date`](/python/time-series/)."
   ]
  },
  {
   "cell_type": "markdown",
   "id": "976c621d",
   "metadata": {},
   "source": [
    "#### Set and Style Axes Title Labels\n",
    "\n",
    "##### Set axis title text with Plotly Express\n",
    "\n",
    "Axis titles are automatically set to the column names when [using Plotly Express with a data frame as input](/python/px-arguments/)."
   ]
  },
  {
   "cell_type": "code",
   "execution_count": null,
   "id": "467c1680",
   "metadata": {},
   "outputs": [],
   "source": [
    "import plotly.express as px\n",
    "df = px.data.tips()\n",
    "fig = px.scatter(df, x=\"total_bill\", y=\"tip\", color=\"sex\")\n",
    "fig.show()"
   ]
  },
  {
   "cell_type": "markdown",
   "id": "247a5231",
   "metadata": {},
   "source": [
    "Axis titles (and [legend titles](/python/legend/)) can also be overridden using the `labels` argument of Plotly Express functions:"
   ]
  },
  {
   "cell_type": "code",
   "execution_count": null,
   "id": "d45e66cf",
   "metadata": {},
   "outputs": [],
   "source": [
    "import plotly.express as px\n",
    "df = px.data.tips()\n",
    "fig = px.scatter(df, x=\"total_bill\", y=\"tip\", color=\"sex\",\n",
    "    labels=dict(total_bill=\"Total Bill ($)\", tip=\"Tip ($)\", sex=\"Payer Gender\")\n",
    ")\n",
    "fig.show()"
   ]
  },
  {
   "cell_type": "markdown",
   "id": "060bb720",
   "metadata": {},
   "source": [
    "The PX `labels` argument can also be used without a data frame argument:\n"
   ]
  },
  {
   "cell_type": "code",
   "execution_count": null,
   "id": "f58a32d0",
   "metadata": {},
   "outputs": [],
   "source": [
    "import plotly.express as px\n",
    "fig = px.bar(df, x=[\"Apples\", \"Oranges\"], y=[10,20], color=[\"Here\", \"There\"],\n",
    "    labels=dict(x=\"Fruit\", y=\"Amount\", color=\"Place\")\n",
    ")\n",
    "fig.show()"
   ]
  },
  {
   "cell_type": "markdown",
   "id": "dcc0393d",
   "metadata": {},
   "source": [
    "##### Rotating tick labels in Dash\n",
    "\n",
    "[Dash](https://plotly.com/dash/) is the best way to build analytical apps in Python using Plotly figures. To run the app below, run `pip install dash`, click \"Download\" to get the code and run `python app.py`.\n",
    "\n",
    "Get started  with [the official Dash docs](https://dash.plotly.com/installation) and **learn how to effortlessly [style](https://plotly.com/dash/design-kit/) & [deploy](https://plotly.com/dash/app-manager/) apps like this with <a class=\"plotly-red\" href=\"https://plotly.com/dash/\">Dash Enterprise</a>.**\n"
   ]
  },
  {
   "cell_type": "code",
   "execution_count": null,
   "id": "972a065d",
   "metadata": {
    "hide_code": true
   },
   "outputs": [],
   "source": [
    "from IPython.display import IFrame\n",
    "snippet_url = 'https://python-docs-dash-snippets.herokuapp.com/python-docs-dash-snippets/'\n",
    "IFrame(snippet_url + 'axes', width='100%', height=1200)"
   ]
  },
  {
   "cell_type": "markdown",
   "id": "3b17a437",
   "metadata": {},
   "source": [
    "<div style=\"font-size: 0.9em;\"><div style=\"width: calc(100% - 30px); box-shadow: none; border: thin solid rgb(229, 229, 229);\"><div style=\"padding: 5px;\"><div><p><strong>Sign up for Dash Club</strong> → Free cheat sheets plus updates from Chris Parmer and Adam Schroeder delivered to your inbox every two months. Includes tips and tricks, community apps, and deep dives into the Dash architecture.\n",
    "<u><a href=\"https://go.plotly.com/dash-club?utm_source=Dash+Club+2022&utm_medium=graphing_libraries&utm_content=inline\">Join now</a></u>.</p></div></div></div></div>"
   ]
  },
  {
   "cell_type": "markdown",
   "id": "5c4212de",
   "metadata": {},
   "source": [
    "#### Moving Tick Labels Inside the Plot\n",
    "\n",
    "The `ticklabelposition` attribute moves tick labels inside the plotting area, and modifies the auto-range behaviour to accommodate the labels."
   ]
  },
  {
   "cell_type": "code",
   "execution_count": null,
   "id": "246212de",
   "metadata": {},
   "outputs": [],
   "source": [
    "import plotly.express as px\n",
    "\n",
    "df = px.data.stocks(indexed=True)-1\n",
    "fig = px.bar(df, x=df.index, y=\"GOOG\")\n",
    "fig.update_yaxes(ticklabelposition=\"inside top\", title=None)\n",
    "fig.show()"
   ]
  },
  {
   "cell_type": "markdown",
   "id": "8e815285",
   "metadata": {},
   "source": [
    "#### Specifying Label Aliases\n",
    "\n",
    "*New in 5.14*\n",
    "\n",
    "With `labelalias`, you can specify replacement text for specific tick and hover labels. In this example, the dataset has the values of \"Sat\" and \"Sun\" in the day column. By setting `labelalias=dict(Sat=\"Saturday\", Sun=\"Sunday\")`, we swap these out for \"Saturday\" and \"Sunday\"."
   ]
  },
  {
   "cell_type": "code",
   "execution_count": null,
   "id": "b465f4a6",
   "metadata": {},
   "outputs": [],
   "source": [
    "import plotly.express as px\n",
    "import pandas as pd\n",
    "\n",
    "df = px.data.tips()\n",
    "df = df[df.day.isin(['Sat', 'Sun'])].groupby(by='day', as_index=False).sum(numeric_only=True)\n",
    "\n",
    "fig = px.bar(df, x=\"day\", y=\"total_bill\")\n",
    "fig.update_xaxes(labelalias=dict(Sat=\"Saturday\", Sun=\"Sunday\"))\n",
    "\n",
    "fig.show()"
   ]
  },
  {
   "cell_type": "markdown",
   "id": "130cf4ef",
   "metadata": {},
   "source": [
    "##### Set axis title text with Graph Objects\n",
    "\n",
    "Axis titles are set using the nested `title.text` property of the x or y axis. Here is an example of creating a new figure and using `update_xaxes` and `update_yaxes`, with magic underscore notation, to set the axis titles."
   ]
  },
  {
   "cell_type": "code",
   "execution_count": null,
   "id": "c6fa0828",
   "metadata": {},
   "outputs": [],
   "source": [
    "import plotly.express as px\n",
    "\n",
    "fig = px.line(y=[1, 0])\n",
    "\n",
    "fig.update_xaxes(title_text='Time')\n",
    "fig.update_yaxes(title_text='Value A')\n",
    "\n",
    "fig.show()"
   ]
  },
  {
   "cell_type": "markdown",
   "id": "26b2f16d",
   "metadata": {},
   "source": [
    "### Set axis title position\n",
    "\n",
    "This example sets `standoff` attribute to cartesian axes to determine the distance between the tick labels and the axis title. Note that the axis title position is always constrained within the margins, so the actual standoff distance is always less than the set or default value. By default [automargin](https://plotly.com/python/setting-graph-size/#automatically-adjust-margins) is `True` in Plotly template for the cartesian axis, so the margins will be pushed to fit the axis title at given standoff distance."
   ]
  },
  {
   "cell_type": "code",
   "execution_count": null,
   "id": "96be5b3d",
   "metadata": {},
   "outputs": [],
   "source": [
    "import plotly.graph_objects as go\n",
    "\n",
    "fig = go.Figure(go.Scatter(\n",
    "    mode = \"lines+markers\",\n",
    "    y = [4, 1, 3],\n",
    "    x = [\"December\", \"January\", \"February\"]))\n",
    "\n",
    "fig.update_xaxes(\n",
    "        tickangle = 90,\n",
    "        title_text = \"Month\",\n",
    "        title_font = {\"size\": 20},\n",
    "        title_standoff = 25)\n",
    "\n",
    "fig.update_yaxes(\n",
    "        title_text = \"Temperature\",\n",
    "        title_standoff = 25)\n",
    "\n",
    "fig.show()"
   ]
  },
  {
   "cell_type": "markdown",
   "id": "a64b0c7f",
   "metadata": {},
   "source": [
    "##### Set axis title font\n",
    "\n",
    "Here is an example that configures the font family, size, and color for the axis titles in a figure created using Plotly Express."
   ]
  },
  {
   "cell_type": "code",
   "execution_count": null,
   "id": "5c543f64",
   "metadata": {},
   "outputs": [],
   "source": [
    "import plotly.express as px\n",
    "df = px.data.iris()\n",
    "\n",
    "fig = px.scatter(df, x=\"sepal_width\", y=\"sepal_length\", facet_col=\"species\")\n",
    "fig.update_xaxes(title_font=dict(size=18, family='Courier', color='crimson'))\n",
    "fig.update_yaxes(title_font=dict(size=18, family='Courier', color='crimson'))\n",
    "\n",
    "fig.show()"
   ]
  },
  {
   "cell_type": "markdown",
   "id": "c77c242e",
   "metadata": {},
   "source": [
    "#### Tick Placement, Color, and Style\n",
    "\n",
    "##### Toggling axis tick marks\n",
    "\n",
    "Axis tick marks are disabled by default for the default `plotly` theme, but they can easily be turned on by setting the `ticks` axis property to `\"inside\"` (to place ticks inside plotting area) or `\"outside\"` (to place ticks outside the plotting area).\n",
    "\n",
    "Here is an example of turning on inside x-axis and y-axis ticks in a faceted figure created using Plotly Express. Note how the `col` argument to `update_yaxes` is used to only turn on the y-axis ticks for the left-most subplot."
   ]
  },
  {
   "cell_type": "code",
   "execution_count": null,
   "id": "2f87a033",
   "metadata": {},
   "outputs": [],
   "source": [
    "import plotly.express as px\n",
    "df = px.data.iris()\n",
    "\n",
    "fig = px.scatter(df, x=\"sepal_width\", y=\"sepal_length\", facet_col=\"species\")\n",
    "fig.update_xaxes(ticks=\"inside\")\n",
    "fig.update_yaxes(ticks=\"inside\", col=1)\n",
    "\n",
    "fig.show()"
   ]
  },
  {
   "cell_type": "markdown",
   "id": "b009dcb8",
   "metadata": {},
   "source": [
    "##### Set number of tick marks (and grid lines)\n",
    "\n",
    "The approximate number of ticks displayed for an axis can be specified using the `nticks` axis property.\n",
    "\n",
    "Here is an example of updating the y-axes of a figure created using Plotly Express to display approximately 20 ticks."
   ]
  },
  {
   "cell_type": "code",
   "execution_count": null,
   "id": "5410c6a3",
   "metadata": {},
   "outputs": [],
   "source": [
    "import plotly.express as px\n",
    "df = px.data.iris()\n",
    "\n",
    "fig = px.scatter(df, x=\"sepal_width\", y=\"sepal_length\", facet_col=\"species\")\n",
    "fig.update_yaxes(nticks=20)\n",
    "\n",
    "fig.show()"
   ]
  },
  {
   "cell_type": "markdown",
   "id": "783aa79d",
   "metadata": {},
   "source": [
    "##### Set start position and distance between ticks\n",
    "\n",
    "The `tick0` and `dtick` axis properties can be used to control to placement of axis ticks as follows: If specified, a tick will fall exactly on the location of `tick0` and additional ticks will be added in both directions at intervals of `dtick`.\n",
    "\n",
    "Here is an example of updating the y axis of a figure created using Plotly Express to position the ticks at intervals of 0.5, starting at 0.25."
   ]
  },
  {
   "cell_type": "code",
   "execution_count": null,
   "id": "6830affb",
   "metadata": {},
   "outputs": [],
   "source": [
    "import plotly.express as px\n",
    "df = px.data.iris()\n",
    "\n",
    "fig = px.scatter(df, x=\"sepal_width\", y=\"sepal_length\", facet_col=\"species\")\n",
    "fig.update_yaxes(tick0=0.25, dtick=0.5)\n",
    "\n",
    "fig.show()"
   ]
  },
  {
   "cell_type": "markdown",
   "id": "1dae36d8",
   "metadata": {},
   "source": [
    "##### Set exact location of axis ticks\n",
    "\n",
    "It is possible to configure an axis to display ticks at a set of predefined locations by setting the `tickvals` property to an array of positions.\n",
    "\n",
    "Here is an example of setting the exact location of ticks on the y axes of a figure created using Plotly Express."
   ]
  },
  {
   "cell_type": "code",
   "execution_count": null,
   "id": "d5e16079",
   "metadata": {},
   "outputs": [],
   "source": [
    "import plotly.express as px\n",
    "df = px.data.iris()\n",
    "\n",
    "fig = px.scatter(df, x=\"sepal_width\", y=\"sepal_length\", facet_col=\"species\")\n",
    "fig.update_yaxes(tickvals=[5.1, 5.9, 6.3, 7.5])\n",
    "\n",
    "fig.show()"
   ]
  },
  {
   "cell_type": "markdown",
   "id": "986a046d",
   "metadata": {},
   "source": [
    "##### Style tick marks\n",
    "\n",
    "As discussed above, tick marks are disabled by default in the default `plotly` theme, but they can be enabled by setting the `ticks` axis property to `\"inside\"` (to place ticks inside plotting area) or `\"outside\"` (to place ticks outside the plotting area).\n",
    "\n",
    "The appearance of these tick marks can be customized by setting their length (`ticklen`), width (`tickwidth`), and color (`tickcolor`).\n",
    "\n",
    "Here is an example of enabling and styling the tick marks of a faceted figure created using Plotly Express. Note how the `col` argument to `update_yaxes` is used to only turn on and style the y-axis ticks for the left-most subplot."
   ]
  },
  {
   "cell_type": "code",
   "execution_count": null,
   "id": "bc42fac4",
   "metadata": {},
   "outputs": [],
   "source": [
    "import plotly.express as px\n",
    "df = px.data.iris()\n",
    "\n",
    "fig = px.scatter(df, x=\"sepal_width\", y=\"sepal_length\", facet_col=\"species\")\n",
    "fig.update_xaxes(ticks=\"outside\", tickwidth=2, tickcolor='crimson', ticklen=10)\n",
    "fig.update_yaxes(ticks=\"outside\", tickwidth=2, tickcolor='crimson', ticklen=10, col=1)\n",
    "\n",
    "fig.show()"
   ]
  },
  {
   "cell_type": "markdown",
   "id": "e9c806a5",
   "metadata": {},
   "source": [
    "##### Step for tick labels\n",
    "\n",
    "*New in v5.6*\n",
    "\n",
    "You can set a step for tick labels with `ticklabelstep`. In this example, we hide labels between every `2` ticks on the y axes. Similarly, this can be used with `fig.update_xaxes` for x axes: `fig.update_xaxes(ticklabelstep=2)`."
   ]
  },
  {
   "cell_type": "code",
   "execution_count": null,
   "id": "f024f7d8",
   "metadata": {},
   "outputs": [],
   "source": [
    "import plotly.express as px\n",
    "df = px.data.iris()\n",
    "\n",
    "fig = px.scatter(df, x=\"sepal_width\", y=\"sepal_length\", facet_col=\"species\")\n",
    "fig.update_yaxes(ticklabelstep=2)\n",
    "\n",
    "fig.show()"
   ]
  },
  {
   "cell_type": "markdown",
   "id": "a638b3a2",
   "metadata": {},
   "source": [
    "##### Toggling axis labels\n",
    "\n",
    "The axis tick mark labels can be disabled by setting the `showticklabels` axis property to `False`.\n",
    "\n",
    "Here is an example of disabling tick labels in all subplots for a faceted figure created using Plotly Express."
   ]
  },
  {
   "cell_type": "code",
   "execution_count": null,
   "id": "4c62534e",
   "metadata": {},
   "outputs": [],
   "source": [
    "import plotly.express as px\n",
    "df = px.data.iris()\n",
    "\n",
    "fig = px.scatter(df, x=\"sepal_width\", y=\"sepal_length\", facet_col=\"species\")\n",
    "fig.update_xaxes(showticklabels=False)\n",
    "fig.update_yaxes(showticklabels=False)\n",
    "\n",
    "fig.show()"
   ]
  },
  {
   "cell_type": "markdown",
   "id": "ac81f545",
   "metadata": {},
   "source": [
    "##### Set axis label rotation and font\n",
    "\n",
    "The orientation of the axis tick mark labels is configured using the `tickangle` axis property. The value of `tickangle` is the angle of rotation, in the clockwise direction, of the labels from vertical in units of degrees. The font family, size, and color for the tick labels are stored under the `tickfont` axis property.\n",
    "\n",
    "Here is an example of rotating the x-axis tick labels by 45 degrees, and customizing their font properties, in a faceted histogram figure created using Plotly Express."
   ]
  },
  {
   "cell_type": "code",
   "execution_count": null,
   "id": "c5410e8c",
   "metadata": {},
   "outputs": [],
   "source": [
    "import plotly.express as px\n",
    "df = px.data.tips()\n",
    "\n",
    "fig = px.histogram(df, x=\"sex\", y=\"tip\", histfunc='sum', facet_col='smoker')\n",
    "fig.update_xaxes(tickangle=45, tickfont=dict(family='Rockwell', color='crimson', size=14))\n",
    "\n",
    "fig.show()"
   ]
  },
  {
   "cell_type": "markdown",
   "id": "ddb294c1",
   "metadata": {},
   "source": [
    "##### Auto Tick Angle Options\n",
    "\n",
    "*New in 5.19*\n",
    "\n",
    "If `tickangle` is not explicitly set, its default value is `auto`, meaning if the label needs to be rotated to avoid labels overlapping, it will rotate by either 30 or 90 degrees. Using `autotickangles`, you can also specify a list of angles for `tickangle` to use. If `tickangle` is `auto` and you provide a list of angles to `autotickangles`, the label angle will be set to the first value in the list that prevents overlap."
   ]
  },
  {
   "cell_type": "code",
   "execution_count": null,
   "id": "2a5a0342",
   "metadata": {},
   "outputs": [],
   "source": [
    "import plotly.express as px\n",
    "df = px.data.gapminder()\n",
    "df = df.loc[(df.continent==\"Asia\") & (df.year==1992)]\n",
    "fig = px.histogram(df, x=df.country, y=df.gdpPercap)\n",
    "\n",
    "fig.update_xaxes(autotickangles=[45, 60, 90])\n",
    "\n",
    "fig.show()"
   ]
  },
  {
   "cell_type": "markdown",
   "id": "935545c3",
   "metadata": {},
   "source": [
    "#### Enumerated Ticks with Tickvals and Ticktext\n",
    "\n",
    "The `tickvals` and `ticktext` axis properties can be used together to display custom tick label text at custom locations along an axis. They should be set to lists of the same length where the `tickvals` list contains positions along the axis, and `ticktext` contains the strings that should be displayed at the corresponding positions.\n",
    "\n",
    "Here is an example."
   ]
  },
  {
   "cell_type": "code",
   "execution_count": null,
   "id": "1586879c",
   "metadata": {},
   "outputs": [],
   "source": [
    "import plotly.graph_objects as go\n",
    "import pandas as pd\n",
    "\n",
    "apple_df = pd.read_csv(\n",
    "    \"https://raw.githubusercontent.com/plotly/datasets/master/finance-charts-apple.csv\"\n",
    ")\n",
    "\n",
    "# Convert 'Date' column to datetime format\n",
    "apple_df['Date'] = pd.to_datetime(apple_df['Date'])\n",
    "\n",
    "# Set 'Date' column as index\n",
    "apple_df.set_index('Date', inplace=True)\n",
    "\n",
    "# Filter for 2016\n",
    "apple_df_2016 = apple_df.loc['2016']\n",
    "\n",
    "# Create figure and add line\n",
    "fig = go.Figure()\n",
    "fig.add_trace(go.Scatter(\n",
    "    x=apple_df_2016.index,\n",
    "    y=apple_df_2016[\"AAPL.High\"],\n",
    "    mode=\"lines\"\n",
    "))\n",
    "\n",
    "# Set custom x-axis labels\n",
    "fig.update_xaxes(\n",
    "    ticktext=[\"End of Q1\", \"End of Q2\", \"End of Q3\", \"End of Q4\"],\n",
    "    tickvals=[\"2016-04-01\", \"2016-07-01\", \"2016-10-01\", apple_df_2016.index.max()],\n",
    ")\n",
    "\n",
    "# Prefix y-axis tick labels with dollar sign\n",
    "fig.update_yaxes(tickprefix=\"$\")\n",
    "\n",
    "# Set figure title\n",
    "fig.update_layout(title_text=\"Apple Stock Price\")\n",
    "\n",
    "fig.show()"
   ]
  },
  {
   "cell_type": "markdown",
   "id": "a50c5012",
   "metadata": {},
   "source": [
    "#### Adding minor ticks\n",
    "\n",
    "_new in 5.8_\n",
    "\n",
    "You can position and style minor ticks on a Cartesian axis using the `minor` attribute. This takes a `dict` of properties to apply to minor ticks. See the [figure reference](https://plotly.com/python/reference/layout/xaxis/#layout-xaxis-minor) for full details on the accepted keys in this dict.\n",
    "\n",
    "In the following example, we add minor ticks to the x-axis and then to the y-axis. For the y-axis we add ticks on the inside: `ticks=\"inside\"`. On the x-axis we've specified some additional properties to style the minor ticks, setting the length of the ticks with `ticklen` and the color with `tickcolor`. We've also turned on grid lines for the x-axis minor ticks using `showgrid`."
   ]
  },
  {
   "cell_type": "code",
   "execution_count": null,
   "id": "b1a637f0",
   "metadata": {},
   "outputs": [],
   "source": [
    "import plotly.express as px\n",
    "import pandas as pd\n",
    "\n",
    "df = px.data.tips()\n",
    "fig = px.scatter(df, x=\"total_bill\", y=\"tip\", color=\"sex\")\n",
    "\n",
    "\n",
    "fig.update_xaxes(minor=dict(ticklen=6, tickcolor=\"black\", showgrid=True))\n",
    "fig.update_yaxes(minor_ticks=\"inside\")\n",
    "\n",
    "fig.show()"
   ]
  },
  {
   "cell_type": "markdown",
   "id": "510b8383",
   "metadata": {},
   "source": [
    "#### Adjust Tick Label Positions\n",
    "\n",
    "*New in 5.23*\n",
    "\n",
    "You can adjust tick label positions by moving them a number of pixels away from the axis using `ticklabelstandoff` or along the axis using `ticklabelshift`.\n",
    "\n",
    "In this example, `ticklabelshift=25` shifts the labels 25 pixels to the right along the x-axis. By providing a negative value, we could move the labels 25 pixels to the left, (`ticklabelshift=-25`).\n",
    "\n",
    "Here, `ticklabelstandoff=15` moves the labels 15 pixels further away from the x-axis. A negative value here would move them closer to the axis."
   ]
  },
  {
   "cell_type": "code",
   "execution_count": null,
   "id": "3ad61df5",
   "metadata": {},
   "outputs": [],
   "source": [
    "import plotly.express as px\n",
    "\n",
    "df = pd.read_csv('https://raw.githubusercontent.com/plotly/datasets/master/finance-charts-apple.csv')\n",
    "\n",
    "fig = px.line(df, x='Date', y='AAPL.High')\n",
    "\n",
    "fig.update_layout(\n",
    "    xaxis=dict(\n",
    "        ticks='outside',\n",
    "        ticklen=10,\n",
    "        ticklabelshift=25,\n",
    "        ticklabelstandoff=15\n",
    "    )\n",
    ")\n",
    "\n",
    "fig.show()"
   ]
  },
  {
   "cell_type": "markdown",
   "id": "4807fbe2",
   "metadata": {},
   "source": [
    "#### Use Minor Tick for Label\n",
    "\n",
    "*New in 5.23*\n",
    "\n",
    "On date or linear axes, use `ticklabelindex` to draw a label for a minor tick instead of a major tick.\n",
    "\n",
    "To draw the label for the minor tick before each major tick, set `ticklabelindex=-1`, like in the following example."
   ]
  },
  {
   "cell_type": "code",
   "execution_count": null,
   "id": "be04fe10",
   "metadata": {},
   "outputs": [],
   "source": [
    "import plotly.express as px\n",
    "\n",
    "df = pd.read_csv('https://raw.githubusercontent.com/plotly/datasets/master/finance-charts-apple.csv')\n",
    "\n",
    "fig = px.line(df, x='Date', y='AAPL.High')\n",
    "\n",
    "fig.update_layout(\n",
    "    xaxis=dict(\n",
    "        minor=dict(ticks='outside'),\n",
    "        ticks='outside',\n",
    "        ticklen=10,\n",
    "        ticklabelindex=-1\n",
    "    )\n",
    ")\n",
    "\n",
    "fig.show()"
   ]
  },
  {
   "cell_type": "markdown",
   "id": "693fbb53",
   "metadata": {},
   "source": [
    "### Axis lines: grid and zerolines\n",
    "\n",
    "##### Toggling Axis grid lines\n",
    "\n",
    "Axis grid lines can be disabled by setting the `showgrid` property to `False` for the x and/or y axis.\n",
    "\n",
    "Here is an example of setting `showgrid` to `False` in the graph object figure constructor."
   ]
  },
  {
   "cell_type": "code",
   "execution_count": null,
   "id": "b1e7f48c",
   "metadata": {},
   "outputs": [],
   "source": [
    "import plotly.express as px\n",
    "\n",
    "fig = px.line(y=[1, 0])\n",
    "fig.update_xaxes(showgrid=False)\n",
    "fig.update_yaxes(showgrid=False)\n",
    "fig.show()"
   ]
  },
  {
   "cell_type": "markdown",
   "id": "d540ba97",
   "metadata": {},
   "source": [
    "##### Toggling Axis zero lines\n",
    "\n",
    "The lines passing through zero can be disabled as well by setting the `zeroline` axis property to `False`"
   ]
  },
  {
   "cell_type": "code",
   "execution_count": null,
   "id": "4df1e4b4",
   "metadata": {},
   "outputs": [],
   "source": [
    "import plotly.express as px\n",
    "\n",
    "fig = px.line(y=[1, 0])\n",
    "\n",
    "fig.update_xaxes(showgrid=False, zeroline=False)\n",
    "fig.update_yaxes(showgrid=False, zeroline=False)\n",
    "fig.show()"
   ]
  },
  {
   "cell_type": "markdown",
   "id": "c10a17bb",
   "metadata": {},
   "source": [
    "#### Styling and Coloring Axes and the Zero-Line\n",
    "\n",
    "##### Styling axis lines\n",
    "\n",
    "The `showline` axis property controls the visibility of the axis line, and the `linecolor` and `linewidth` axis properties control the color and width of the axis line.\n",
    "\n",
    "Here is an example of enabling the x and y axis lines, and customizing their width and color, for a faceted histogram created with Plotly Express."
   ]
  },
  {
   "cell_type": "code",
   "execution_count": null,
   "id": "7e58d459",
   "metadata": {},
   "outputs": [],
   "source": [
    "import plotly.express as px\n",
    "df = px.data.tips()\n",
    "\n",
    "fig = px.histogram(df, x=\"sex\", y=\"tip\", histfunc='sum', facet_col='smoker')\n",
    "fig.update_xaxes(showline=True, linewidth=2, linecolor='black')\n",
    "fig.update_yaxes(showline=True, linewidth=2, linecolor='black')\n",
    "\n",
    "fig.show()"
   ]
  },
  {
   "cell_type": "markdown",
   "id": "4a30194d",
   "metadata": {},
   "source": [
    "##### Mirroring axis lines\n",
    "\n",
    "Axis lines can be mirrored to the opposite side of the plotting area by setting the `mirror` axis property to `True`.\n",
    "\n",
    "Here is an example of mirroring the x and y axis lines in a faceted histogram created using Plotly Express."
   ]
  },
  {
   "cell_type": "code",
   "execution_count": null,
   "id": "c85a90dc",
   "metadata": {},
   "outputs": [],
   "source": [
    "import plotly.express as px\n",
    "df = px.data.tips()\n",
    "\n",
    "fig = px.histogram(df, x=\"sex\", y=\"tip\", histfunc='sum', facet_col='smoker')\n",
    "fig.update_xaxes(showline=True, linewidth=2, linecolor='black', mirror=True)\n",
    "fig.update_yaxes(showline=True, linewidth=2, linecolor='black', mirror=True)\n",
    "\n",
    "fig.show()"
   ]
  },
  {
   "cell_type": "markdown",
   "id": "c0c4f42b",
   "metadata": {},
   "source": [
    "##### Styling grid lines\n",
    "\n",
    "The width and color of axis grid lines are controlled by the `gridwidth` and `gridcolor` axis properties.\n",
    "\n",
    "Here is an example of customizing the grid line width and color for a faceted scatter plot created with Plotly Express"
   ]
  },
  {
   "cell_type": "code",
   "execution_count": null,
   "id": "afb69df4",
   "metadata": {},
   "outputs": [],
   "source": [
    "import plotly.express as px\n",
    "df = px.data.iris()\n",
    "\n",
    "fig = px.scatter(df, x=\"sepal_width\", y=\"sepal_length\", facet_col=\"species\")\n",
    "fig.update_xaxes(showgrid=True, gridwidth=1, gridcolor='LightPink')\n",
    "fig.update_yaxes(showgrid=True, gridwidth=1, gridcolor='LightPink')\n",
    "\n",
    "fig.show()"
   ]
  },
  {
   "cell_type": "markdown",
   "id": "5c4e15fa",
   "metadata": {},
   "source": [
    "_new in 5.8_\n",
    "\n",
    "By default grid lines are `solid`. Set the `griddash` property to change this style. In this example we display the x-axis grid lines as `dash` and the minor grid lines as `dot`. Other allowable values are `longdash`, `dashdot`, or `longdashdot`."
   ]
  },
  {
   "cell_type": "code",
   "execution_count": null,
   "id": "17b26984",
   "metadata": {},
   "outputs": [],
   "source": [
    "import plotly.express as px\n",
    "df = px.data.iris()\n",
    "\n",
    "fig = px.scatter(df, x=\"sepal_width\", y=\"sepal_length\", facet_col=\"species\")\n",
    "fig.update_xaxes(gridcolor='black', griddash='dash', minor_griddash=\"dot\")\n",
    "\n",
    "fig.show()"
   ]
  },
  {
   "cell_type": "markdown",
   "id": "47641be6",
   "metadata": {},
   "source": [
    "##### Styling zero lines\n",
    "\n",
    "The width and color of axis zero lines are controlled by the `zerolinewidth` and `zerolinecolor` axis properties.\n",
    "\n",
    "Here is an example of configuring the zero line width and color for a simple figure using the `update_xaxes` and `update_yaxes` graph object figure methods."
   ]
  },
  {
   "cell_type": "code",
   "execution_count": null,
   "id": "98c65af4",
   "metadata": {},
   "outputs": [],
   "source": [
    "import plotly.express as px\n",
    "\n",
    "fig = px.line(y=[1, 0])\n",
    "\n",
    "fig.update_xaxes(zeroline=True, zerolinewidth=2, zerolinecolor='LightPink')\n",
    "fig.update_yaxes(zeroline=True, zerolinewidth=2, zerolinecolor='LightPink')\n",
    "\n",
    "fig.show()"
   ]
  },
  {
   "cell_type": "markdown",
   "id": "d6036b8c",
   "metadata": {},
   "source": [
    "#### Setting the Range of Axes Manually\n",
    "\n",
    "The visible x and y axis range can be configured manually by setting the `range` axis property to a list of two values, the lower and upper bound.\n",
    "\n",
    "Here's an example of manually specifying the x and y axis range for a faceted scatter plot created with Plotly Express."
   ]
  },
  {
   "cell_type": "code",
   "execution_count": null,
   "id": "a0d98c04",
   "metadata": {},
   "outputs": [],
   "source": [
    "import plotly.express as px\n",
    "df = px.data.iris()\n",
    "\n",
    "fig = px.scatter(df, x=\"sepal_width\", y=\"sepal_length\", facet_col=\"species\")\n",
    "fig.update_xaxes(range=[1.5, 4.5])\n",
    "fig.update_yaxes(range=[3, 9])\n",
    "\n",
    "fig.show()"
   ]
  },
  {
   "cell_type": "markdown",
   "id": "b29f4e05",
   "metadata": {},
   "source": [
    "#### Exclude Inside Tick Labels from Range\n",
    "\n",
    "*New in 5.18*\n",
    "\n",
    "You can use `insiderange` instead of `range` on an axis if you have tick labels positioned on the inside of another axis and you don't want the range to overlap with those labels.\n",
    "\n",
    "In this example, we have a y axis with `ticklabelposition=\"inside\"` and by setting `insiderange=['2018-10-01', '2019-01-01']` on the x axis, the data point of `2018-10-01` is displayed after the y axis labels."
   ]
  },
  {
   "cell_type": "code",
   "execution_count": null,
   "id": "d82c2c74",
   "metadata": {},
   "outputs": [],
   "source": [
    "import plotly.express as px\n",
    "df = px.data.stocks(indexed=True)\n",
    "\n",
    "fig = px.line(df, df.index, y=\"GOOG\")\n",
    "fig.update_yaxes(ticklabelposition=\"inside\", title=dict(text=\"Price\"))\n",
    "fig.update_xaxes(insiderange=['2018-10-01', '2019-01-01'], title=dict(text=\"Date\"))\n",
    "\n",
    "fig.show()"
   ]
  },
  {
   "cell_type": "markdown",
   "id": "4cf108bf",
   "metadata": {},
   "source": [
    "#### Setting only a Lower or Upper Bound for Range\n",
    "\n",
    "*New in 5.17*\n",
    "\n",
    "You can also set just a lower or upper bound manually and have autorange applied to the other bound by setting it to `None`. In the following example, we set a an upper bound of 4.5 on the x axes, while specifying `None` for the lower bound, meaning it will use autorange. On the y axes, we set the lower bound, and use `None` for the upper bound, meaning that uses autorange."
   ]
  },
  {
   "cell_type": "code",
   "execution_count": null,
   "id": "b355c383",
   "metadata": {},
   "outputs": [],
   "source": [
    "import plotly.express as px\n",
    "df = px.data.iris()\n",
    "\n",
    "fig = px.scatter(df, x=\"sepal_width\", y=\"sepal_length\", facet_col=\"species\")\n",
    "fig.update_xaxes(range=[None, 4.5])\n",
    "fig.update_yaxes(range=[3, None])\n",
    "\n",
    "fig.show()"
   ]
  },
  {
   "cell_type": "markdown",
   "id": "b55c5b97",
   "metadata": {},
   "source": [
    "#### Setting a Maximum and Minimum Allowed Axis Value\n",
    "\n",
    "*New in 5.17*\n",
    "\n",
    "When setting a range manually, you can also set a `maxallowed` or `minallowed` for an axis. With this set, you won't be able to pan further than the min or max allowed. In this example, we've set the minimum allowed on the x-axis to 1 and the maximum allowed on the y-axis to 10."
   ]
  },
  {
   "cell_type": "code",
   "execution_count": null,
   "id": "e8a15904",
   "metadata": {},
   "outputs": [],
   "source": [
    "import plotly.express as px\n",
    "\n",
    "df = px.data.iris()\n",
    "\n",
    "fig = px.scatter(df, x=\"sepal_width\", y=\"sepal_length\")\n",
    "fig.update_xaxes(range=[1.5, 4.5], minallowed=1)\n",
    "fig.update_yaxes(range=[3, 9], maxallowed=10)\n",
    "\n",
    "fig.show()"
   ]
  },
  {
   "cell_type": "markdown",
   "id": "dce915ce",
   "metadata": {},
   "source": [
    "#### Disabling Pan/Zoom on Axes (Fixed Range)\n",
    "\n",
    "Pan/Zoom can be disabled for a given axis by setting `fixedrange` to `True`."
   ]
  },
  {
   "cell_type": "code",
   "execution_count": null,
   "id": "ac938e66",
   "metadata": {},
   "outputs": [],
   "source": [
    "import plotly.express as px\n",
    "df = px.data.iris()\n",
    "\n",
    "fig = px.scatter(df, x=\"sepal_width\", y=\"sepal_length\", facet_col=\"species\")\n",
    "fig.update_xaxes(fixedrange=True)\n",
    "\n",
    "fig.show()"
   ]
  },
  {
   "cell_type": "markdown",
   "id": "99affb0f",
   "metadata": {},
   "source": [
    "### Fixed Ratio Axes\n",
    "\n",
    "The `scaleanchor` and `scaleratio` axis properties can be used to force a fixed ratio of pixels per unit between two axes.\n",
    "\n",
    "Here is an example of anchoring the scale of the x and y axis with a scale ratio of 1. Notice how the zoom box is constrained to prevent the distortion of the shape of the line plot."
   ]
  },
  {
   "cell_type": "code",
   "execution_count": null,
   "id": "7e066e4e",
   "metadata": {},
   "outputs": [],
   "source": [
    "import plotly.graph_objects as go\n",
    "\n",
    "fig = go.Figure()\n",
    "\n",
    "fig.add_trace(go.Scatter(\n",
    "    x = [0,1,1,0,0,1,1,2,2,3,3,2,2,3],\n",
    "    y = [0,0,1,1,3,3,2,2,3,3,1,1,0,0]\n",
    "))\n",
    "\n",
    "fig.update_layout(\n",
    "    width = 800,\n",
    "    height = 500,\n",
    "    title = \"fixed-ratio axes\"\n",
    ")\n",
    "fig.update_yaxes(\n",
    "    scaleanchor = \"x\",\n",
    "    scaleratio = 1,\n",
    "  )\n",
    "\n",
    "fig.show()"
   ]
  },
  {
   "cell_type": "markdown",
   "id": "d0cb12e6",
   "metadata": {},
   "source": [
    "### Fixed Ratio Axes with Compressed domain\n",
    "\n",
    "If an axis needs to be compressed (either due to its own `scaleanchor` and `scaleratio` or those of the other axis), `constrain` determines how that happens: by increasing the \"range\" (default), or by decreasing the \"domain\"."
   ]
  },
  {
   "cell_type": "code",
   "execution_count": null,
   "id": "4826a708",
   "metadata": {},
   "outputs": [],
   "source": [
    "import plotly.graph_objects as go\n",
    "fig = go.Figure()\n",
    "fig.add_trace(go.Scatter(\n",
    "    x = [0,1,1,0,0,1,1,2,2,3,3,2,2,3],\n",
    "    y = [0,0,1,1,3,3,2,2,3,3,1,1,0,0]\n",
    "))\n",
    "fig.update_layout(\n",
    "    width = 800,\n",
    "    height = 500,\n",
    "    title = \"fixed-ratio axes with compressed axes\"\n",
    ")\n",
    "fig.update_xaxes(\n",
    "    range=[-1,4],  # sets the range of xaxis\n",
    "    constrain=\"domain\",  # meanwhile compresses the xaxis by decreasing its \"domain\"\n",
    ")\n",
    "fig.update_yaxes(\n",
    "    scaleanchor = \"x\",\n",
    "    scaleratio = 1\n",
    ")\n",
    "fig.show()"
   ]
  },
  {
   "cell_type": "markdown",
   "id": "d978dac6",
   "metadata": {},
   "source": [
    "##### Decreasing the domain spanned by an axis\n",
    "\n",
    "In the example below, the x and y axis are anchored together, and the range of the `xaxis` is set manually. By default, plotly extends the range of the axis (overriding the `range` parameter) to fit in the figure `domain`. You can restrict the `domain` to force the axis to span only the set range, by setting `constrain='domain'` as below."
   ]
  },
  {
   "cell_type": "code",
   "execution_count": null,
   "id": "e2cf1cef",
   "metadata": {},
   "outputs": [],
   "source": [
    "import plotly.graph_objects as go\n",
    "\n",
    "fig = go.Figure()\n",
    "\n",
    "fig.add_trace(go.Scatter(\n",
    "    x = [0,1,1,0,0,1,1,2,2,3,3,2,2,3],\n",
    "    y = [0,0,1,1,3,3,2,2,3,3,1,1,0,0]\n",
    "))\n",
    "\n",
    "fig.update_layout(\n",
    "    width = 800,\n",
    "    height = 500,\n",
    "    title = \"fixed-ratio axes\"\n",
    ")\n",
    "fig.update_xaxes(\n",
    "    scaleanchor = \"x\",\n",
    "    scaleratio = 1,\n",
    ")\n",
    "fig.update_yaxes(\n",
    "    range=(-0.5, 3.5),\n",
    "    constrain='domain'\n",
    ")\n",
    "\n",
    "\n",
    "fig.show()"
   ]
  },
  {
   "cell_type": "markdown",
   "id": "afad3d16",
   "metadata": {},
   "source": [
    "#### Reversed Axes\n",
    "\n",
    "You can tell plotly's automatic axis range calculation logic to reverse the direction of an axis by setting the `autorange` axis property to `\"reversed\"`.\n",
    "\n",
    "Here is an example of reversing the direction of the y axes for a faceted scatter plot created using Plotly Express."
   ]
  },
  {
   "cell_type": "code",
   "execution_count": null,
   "id": "0ffa263c",
   "metadata": {},
   "outputs": [],
   "source": [
    "import plotly.express as px\n",
    "df = px.data.iris()\n",
    "\n",
    "fig = px.scatter(df, x=\"sepal_width\", y=\"sepal_length\", facet_col=\"species\")\n",
    "fig.update_yaxes(autorange=\"reversed\")\n",
    "\n",
    "fig.show()"
   ]
  },
  {
   "cell_type": "markdown",
   "id": "df0cd280",
   "metadata": {},
   "source": [
    "#### Reversed Axes with Range ( Min/Max ) Specified\n",
    "\n",
    "The direction of an axis can be reversed when manually setting the range extents by specifying a list containing the upper bound followed by the lower bound (rather that the lower followed by the upper) as the `range` axis property.\n",
    "\n",
    "Here is an example of manually setting the reversed range of the y axes in a faceted scatter plot figure created using Plotly Express."
   ]
  },
  {
   "cell_type": "code",
   "execution_count": null,
   "id": "151b280f",
   "metadata": {},
   "outputs": [],
   "source": [
    "import plotly.express as px\n",
    "df = px.data.iris()\n",
    "\n",
    "fig = px.scatter(df, x=\"sepal_width\", y=\"sepal_length\", facet_col=\"species\")\n",
    "fig.update_yaxes(range=[9, 3])\n",
    "\n",
    "fig.show()"
   ]
  },
  {
   "cell_type": "markdown",
   "id": "b355a55e",
   "metadata": {},
   "source": [
    "*New in 5.17*\n",
    "\n",
    "To use a reversed axis while specifying only a lower bound for the range, set `autorange=\"min reversed\"`:"
   ]
  },
  {
   "cell_type": "code",
   "execution_count": null,
   "id": "0ff8f604",
   "metadata": {},
   "outputs": [],
   "source": [
    "import plotly.express as px\n",
    "\n",
    "df = px.data.iris()\n",
    "\n",
    "fig = px.scatter(df, x=\"sepal_width\", y=\"sepal_length\", facet_col=\"species\")\n",
    "fig.update_yaxes(range=[9, None], autorange=\"min reversed\")\n",
    "\n",
    "fig.show()"
   ]
  },
  {
   "cell_type": "markdown",
   "id": "9a14df6f",
   "metadata": {},
   "source": [
    "*New in 5.17*\n",
    "\n",
    "To use a reversed axis while specifying only an upper bound for the range, set `autorange=\"max reversed\"`:"
   ]
  },
  {
   "cell_type": "code",
   "execution_count": null,
   "id": "58afae03",
   "metadata": {},
   "outputs": [],
   "source": [
    "import plotly.express as px\n",
    "\n",
    "df = px.data.iris()\n",
    "\n",
    "fig = px.scatter(df, x=\"sepal_width\", y=\"sepal_length\", facet_col=\"species\")\n",
    "fig.update_yaxes(range=[None, 3], autorange=\"max reversed\")\n",
    "\n",
    "fig.show()"
   ]
  },
  {
   "cell_type": "markdown",
   "id": "7fe1c31d",
   "metadata": {},
   "source": [
    "### Axis range for log axis type\n",
    "\n",
    "If you are using a `log` type of axis and you want to set the range of the axis, you have to give the `log10` value of the bounds when using `fig.update_xaxes` or `fig.update_layout`. However, with `plotly.express` functions you pass directly the values of the range bounds (`plotly.express` then computes the appropriate values to pass to the figure layout)."
   ]
  },
  {
   "cell_type": "code",
   "execution_count": null,
   "id": "7f0c60dd",
   "metadata": {},
   "outputs": [],
   "source": [
    "import plotly.express as px\n",
    "import numpy as np\n",
    "\n",
    "x = np.linspace(1, 200, 30)\n",
    "fig = px.scatter(x=x, y=x**3, log_x=True, log_y=True, range_x=[0.8, 250])\n",
    "fig.show()"
   ]
  },
  {
   "cell_type": "code",
   "execution_count": null,
   "id": "eef1685c",
   "metadata": {},
   "outputs": [],
   "source": [
    "import plotly.graph_objects as go\n",
    "import numpy as np\n",
    "\n",
    "x = np.linspace(1, 200, 30)\n",
    "fig = go.Figure(go.Scatter(x=x, y=x**3))\n",
    "fig.update_xaxes(type=\"log\", range=[np.log10(0.8), np.log10(250)])\n",
    "fig.update_yaxes(type=\"log\")\n",
    "fig.show()"
   ]
  },
  {
   "cell_type": "markdown",
   "id": "517fe8ef",
   "metadata": {},
   "source": [
    "#### Setting the domain of the axis"
   ]
  },
  {
   "cell_type": "code",
   "execution_count": null,
   "id": "5b3678bc",
   "metadata": {},
   "outputs": [],
   "source": [
    "import plotly.graph_objects as go\n",
    "\n",
    "fig = go.Figure()\n",
    "\n",
    "fig.add_trace(go.Scatter(\n",
    "    x = [0,1,1,0,0,1,1,2,2,3,3,2,2,3],\n",
    "    y = [0,0,1,1,3,3,2,2,3,3,1,1,0,0]\n",
    "))\n",
    "fig.update_xaxes(domain=(0.25, 0.75))\n",
    "fig.update_yaxes(domain=(0.25, 0.75))\n",
    "fig.show()"
   ]
  },
  {
   "cell_type": "markdown",
   "id": "a92c34eb",
   "metadata": {},
   "source": [
    "#### Synchronizing axes in subplots with `matches`\n",
    "\n",
    "Using `facet_col` from `plotly.express` let [zoom](https://help.plotly.com/zoom-pan-hover-controls/#step-3-zoom-in-and-zoom-out-autoscale-the-plot) and [pan](https://help.plotly.com/zoom-pan-hover-controls/#step-6-pan-along-axes) each facet to the same range implicitly. However, if the subplots are created with `make_subplots`, the axis needs to be updated with `matches` parameter to update all the subplots accordingly.\n",
    "\n",
    "Zoom in one trace below, to see the other subplots zoomed to the same x-axis range. To pan all the subplots, click and drag from the center of x-axis to the side:"
   ]
  },
  {
   "cell_type": "code",
   "execution_count": null,
   "id": "a1814c85",
   "metadata": {},
   "outputs": [],
   "source": [
    "import plotly.graph_objects as go\n",
    "from plotly.subplots import make_subplots\n",
    "import numpy as np\n",
    "\n",
    "N = 20\n",
    "x = np.linspace(0, 1, N)\n",
    "\n",
    "fig = make_subplots(1, 3)\n",
    "for i in range(1, 4):\n",
    "    fig.add_trace(go.Scatter(x=x, y=np.random.random(N)), 1, i)\n",
    "fig.update_xaxes(matches='x')\n",
    "fig.show()"
   ]
  },
  {
   "cell_type": "markdown",
   "id": "ad58c933",
   "metadata": {},
   "source": [
    "#### <code>nonnegative</code>, <code>tozero</code>, and <code>normal</code> Rangemode\n",
    "\n",
    "When you don't specify a range, autorange is used. It's also used for bounds set to `None` when providing a `range`.\n",
    "\n",
    "The axis auto-range calculation logic can be configured using the `rangemode` axis parameter.\n",
    "\n",
    "If `rangemode` is `\"normal\"` (the default), the range is computed based on the min and max values of the input data. If `\"tozero\"`, the range will always include zero. If `\"nonnegative\"`, the range will not extend below zero, regardless of the input data.\n",
    "\n",
    "Here is an example of configuring a faceted scatter plot created using Plotly Express to always include zero for both the x and y axes."
   ]
  },
  {
   "cell_type": "code",
   "execution_count": null,
   "id": "bb9a7891",
   "metadata": {},
   "outputs": [],
   "source": [
    "import plotly.express as px\n",
    "df = px.data.iris()\n",
    "\n",
    "fig = px.scatter(df, x=\"sepal_width\", y=\"sepal_length\", facet_col=\"species\")\n",
    "fig.update_xaxes(rangemode=\"tozero\")\n",
    "fig.update_yaxes(rangemode=\"tozero\")\n",
    "\n",
    "fig.show()"
   ]
  },
  {
   "cell_type": "markdown",
   "id": "ec8f77be",
   "metadata": {},
   "source": [
    "#### Autorange Options\n",
    "\n",
    "*New in 5.17*\n",
    "\n",
    "You can further configure how autorange is applied using `autorangeoptions` to specify maximum or minimum values or values to include.\n",
    "\n",
    "##### Specifying Minimum and Maximum Allowed Values\n",
    "\n",
    "Using `autorangeoptions.maxallowed`, you can specify an exact value to use as the autorange maximum. With `autorangeoptions.minallowed`, you can specify an exact value to use as the autorange minimum."
   ]
  },
  {
   "cell_type": "code",
   "execution_count": null,
   "id": "3ee83480",
   "metadata": {},
   "outputs": [],
   "source": [
    "import plotly.express as px\n",
    "\n",
    "df = px.data.iris()\n",
    "\n",
    "fig = px.scatter(df, x=\"sepal_width\", y=\"sepal_length\")\n",
    "fig.update_yaxes(autorangeoptions=dict(minallowed=3))\n",
    "fig.update_xaxes(autorangeoptions=dict(maxallowed=5))\n",
    "\n",
    "fig.show()"
   ]
  },
  {
   "cell_type": "markdown",
   "id": "9d5a9602",
   "metadata": {},
   "source": [
    "##### Clip Minimum and Maximum\n",
    "\n",
    "You can also clip an axis range at a specific maximum or minimum value with `autorangeoptions.clipmax` and `autorangeoptions.clipmin`."
   ]
  },
  {
   "cell_type": "code",
   "execution_count": null,
   "id": "8dfeec78",
   "metadata": {},
   "outputs": [],
   "source": [
    "import plotly.express as px\n",
    "\n",
    "df = px.data.iris()\n",
    "\n",
    "fig = px.scatter(df, x=\"sepal_width\", y=\"sepal_length\")\n",
    "fig.update_yaxes(autorangeoptions=dict(clipmin=5))\n",
    "fig.update_xaxes(autorangeoptions=dict(clipmax=4))\n",
    "\n",
    "fig.show()"
   ]
  },
  {
   "cell_type": "markdown",
   "id": "0d6648e3",
   "metadata": {},
   "source": [
    "##### Specify Values to be Included\n",
    "\n",
    "Use `autorangeoptions.include` to specify a value that should always be included within the calculated autorange. In this example, we specify that for the autorange calculated on the x-axis, 5 should be included."
   ]
  },
  {
   "cell_type": "code",
   "execution_count": null,
   "id": "12ac2898",
   "metadata": {},
   "outputs": [],
   "source": [
    "import plotly.express as px\n",
    "\n",
    "df = px.data.iris()\n",
    "\n",
    "fig = px.scatter(df, x=\"sepal_width\", y=\"sepal_length\")\n",
    "fig.update_xaxes(autorangeoptions=dict(include=5))\n",
    "\n",
    "fig.show()"
   ]
  },
  {
   "cell_type": "markdown",
   "id": "3fc92971",
   "metadata": {},
   "source": [
    "#### Reference\n",
    "\n",
    "See https://plotly.com/python/reference/layout/xaxis/ and https://plotly.com/python/reference/layout/yaxis/ for more information and chart attribute options!\n"
   ]
  },
  {
   "cell_type": "markdown",
   "id": "242792ee",
   "metadata": {},
   "source": [
    "### What About Dash?\n",
    "\n",
    "[Dash](https://dash.plot.ly/) is an open-source framework for building analytical applications, with no Javascript required, and it is tightly integrated with the Plotly graphing library.\n",
    "\n",
    "Learn about how to install Dash at https://dash.plot.ly/installation.\n",
    "\n",
    "Everywhere in this page that you see `fig.show()`, you can display the same figure in a Dash application by passing it to the `figure` argument of the [`Graph` component](https://dash.plot.ly/dash-core-components/graph) from the built-in `dash_core_components` package like this:\n",
    "\n",
    "```python\n",
    "import plotly.graph_objects as go # or plotly.express as px\n",
    "fig = go.Figure() # or any Plotly Express function e.g. px.bar(...)\n",
    "# fig.add_trace( ... )\n",
    "# fig.update_layout( ... )\n",
    "\n",
    "from dash import Dash, dcc, html\n",
    "\n",
    "app = Dash()\n",
    "app.layout = html.Div([\n",
    "    dcc.Graph(figure=fig)\n",
    "])\n",
    "\n",
    "app.run_server(debug=True, use_reloader=False)  # Turn off reloader if inside Jupyter\n",
    "```"
   ]
  }
 ],
 "metadata": {
  "jupytext": {
   "notebook_metadata_filter": "all"
  },
  "kernelspec": {
   "display_name": "Python 3 (ipykernel)",
   "language": "python",
   "name": "python3"
  },
  "language_info": {
   "codemirror_mode": {
    "name": "ipython",
    "version": 3
   },
   "file_extension": ".py",
   "mimetype": "text/x-python",
   "name": "python",
   "nbconvert_exporter": "python",
   "pygments_lexer": "ipython3",
   "version": "3.10.14"
  },
  "plotly": {
   "description": "How to adjust axes properties in Python - axes titles, styling and coloring axes and grid lines, ticks, tick labels and more.",
   "display_as": "file_settings",
   "language": "python",
   "layout": "base",
   "name": "Axes",
   "order": 14,
   "permalink": "python/axes/",
   "thumbnail": "thumbnail/axes.png"
  }
 },
 "nbformat": 4,
 "nbformat_minor": 5
}
