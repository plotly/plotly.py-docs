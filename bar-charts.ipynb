{
 "cells": [
  {
   "cell_type": "markdown",
   "id": "d2bbfe42",
   "metadata": {},
   "source": [
    "### Bar chart with Plotly Express\n",
    "\n",
    "[Plotly Express](/python/plotly-express/) is the easy-to-use, high-level interface to Plotly, which [operates on a variety of types of data](/python/px-arguments/) and produces [easy-to-style figures](/python/styling-plotly-express/).\n",
    "\n",
    "With `px.bar`, **each row of the DataFrame is represented as a rectangular mark**. To aggregate multiple data points into the same rectangular mark, please refer to the [histogram documentation](/python/histograms).\n",
    "\n",
    "In the example below, there is only a single row of data per year, so a single bar is displayed per year."
   ]
  },
  {
   "cell_type": "code",
   "execution_count": null,
   "id": "0c4749fc",
   "metadata": {
    "lines_to_next_cell": 2
   },
   "outputs": [],
   "source": [
    "import plotly.express as px\n",
    "data_canada = px.data.gapminder().query(\"country == 'Canada'\")\n",
    "fig = px.bar(data_canada, x='year', y='pop')\n",
    "fig.show()"
   ]
  },
  {
   "cell_type": "markdown",
   "id": "946b78ad",
   "metadata": {},
   "source": [
    "#### Bar charts with Long Format Data\n",
    "\n",
    "Long-form data has one row per observation, and one column per variable. This is suitable for storing and displaying multivariate data i.e. with dimension greater than 2. This format is sometimes called \"tidy\".\n",
    "\n",
    "To learn more about how to provide a specific form of column-oriented data to 2D-Cartesian Plotly Express functions such as `px.bar`, see the [Plotly Express Wide-Form Support in Python\n",
    "documentation](https://plotly.com/python/wide-form/).\n",
    "\n",
    "For  detailed column-input-format documentation, see the [Plotly Express Arguments documentation](https://plotly.com/python/px-arguments/)."
   ]
  },
  {
   "cell_type": "code",
   "execution_count": null,
   "id": "d898abbd",
   "metadata": {},
   "outputs": [],
   "source": [
    "import plotly.express as px\n",
    "\n",
    "long_df = px.data.medals_long()\n",
    "\n",
    "fig = px.bar(long_df, x=\"nation\", y=\"count\", color=\"medal\", title=\"Long-Form Input\")\n",
    "fig.show()"
   ]
  },
  {
   "cell_type": "code",
   "execution_count": null,
   "id": "f8979420",
   "metadata": {},
   "outputs": [],
   "source": [
    "long_df"
   ]
  },
  {
   "cell_type": "markdown",
   "id": "21f308aa",
   "metadata": {},
   "source": [
    "#### Bar charts with Wide Format Data\n",
    "Wide-form data has one row per value of one of the first variable, and one column per value of the second variable. This is suitable for storing and displaying 2-dimensional data."
   ]
  },
  {
   "cell_type": "code",
   "execution_count": null,
   "id": "be41cbbc",
   "metadata": {},
   "outputs": [],
   "source": [
    "import plotly.express as px\n",
    "\n",
    "wide_df = px.data.medals_wide()\n",
    "\n",
    "fig = px.bar(wide_df, x=\"nation\", y=[\"gold\", \"silver\", \"bronze\"], title=\"Wide-Form Input\")\n",
    "fig.show()"
   ]
  },
  {
   "cell_type": "code",
   "execution_count": null,
   "id": "ee5d370a",
   "metadata": {},
   "outputs": [],
   "source": [
    "wide_df"
   ]
  },
  {
   "cell_type": "markdown",
   "id": "576305d3",
   "metadata": {},
   "source": [
    "### Bar charts in Dash\n",
    "\n",
    "[Dash](https://plotly.com/dash/) is the best way to build analytical apps in Python using Plotly figures. To run the app below, run `pip install dash`, click \"Download\" to get the code and run `python app.py`.\n",
    "\n",
    "Get started  with [the official Dash docs](https://dash.plotly.com/installation) and **learn how to effortlessly [style](https://plotly.com/dash/design-kit/) & [deploy](https://plotly.com/dash/app-manager/) apps like this with <a class=\"plotly-red\" href=\"https://plotly.com/dash/\">Dash Enterprise</a>.**\n"
   ]
  },
  {
   "cell_type": "code",
   "execution_count": null,
   "id": "0b4b56bd",
   "metadata": {
    "hide_code": true
   },
   "outputs": [],
   "source": [
    "from IPython.display import IFrame\n",
    "snippet_url = 'https://python-docs-dash-snippets.herokuapp.com/python-docs-dash-snippets/'\n",
    "IFrame(snippet_url + 'bar-charts', width='100%', height=1200)"
   ]
  },
  {
   "cell_type": "markdown",
   "id": "fc43e1c0",
   "metadata": {},
   "source": [
    "<div style=\"font-size: 0.9em;\"><div style=\"width: calc(100% - 30px); box-shadow: none; border: thin solid rgb(229, 229, 229);\"><div style=\"padding: 5px;\"><div><p><strong>Sign up for Dash Club</strong> → Free cheat sheets plus updates from Chris Parmer and Adam Schroeder delivered to your inbox every two months. Includes tips and tricks, community apps, and deep dives into the Dash architecture.\n",
    "<u><a href=\"https://go.plotly.com/dash-club?utm_source=Dash+Club+2022&utm_medium=graphing_libraries&utm_content=inline\">Join now</a></u>.</p></div></div></div></div>"
   ]
  },
  {
   "cell_type": "markdown",
   "id": "2570d56e",
   "metadata": {},
   "source": [
    "### Colored Bars\n",
    "\n",
    "The bar plot can be customized using keyword arguments, for example to use [continuous color](https://plotly.com/python/colorscales/), as below, or [discrete color](/python/discrete-color/), as above."
   ]
  },
  {
   "cell_type": "code",
   "execution_count": null,
   "id": "c02e85f1",
   "metadata": {},
   "outputs": [],
   "source": [
    "import plotly.express as px\n",
    "\n",
    "df = px.data.gapminder().query(\"country == 'Canada'\")\n",
    "fig = px.bar(df, x='year', y='pop',\n",
    "             hover_data=['lifeExp', 'gdpPercap'], color='lifeExp',\n",
    "             labels={'pop':'population of Canada'}, height=400)\n",
    "fig.show()"
   ]
  },
  {
   "cell_type": "code",
   "execution_count": null,
   "id": "3529b519",
   "metadata": {},
   "outputs": [],
   "source": [
    "import plotly.express as px\n",
    "\n",
    "df = px.data.gapminder().query(\"continent == 'Oceania'\")\n",
    "fig = px.bar(df, x='year', y='pop',\n",
    "             hover_data=['lifeExp', 'gdpPercap'], color='country',\n",
    "             labels={'pop':'population of Canada'}, height=400)\n",
    "fig.show()"
   ]
  },
  {
   "cell_type": "markdown",
   "id": "513ef14e",
   "metadata": {},
   "source": [
    "### Stacked vs Grouped Bars\n",
    "\n",
    "When several rows share the same value of `x` (here Female or Male), the rectangles are stacked on top of one another by default."
   ]
  },
  {
   "cell_type": "code",
   "execution_count": null,
   "id": "cab1988d",
   "metadata": {},
   "outputs": [],
   "source": [
    "import plotly.express as px\n",
    "df = px.data.tips()\n",
    "fig = px.bar(df, x=\"sex\", y=\"total_bill\", color='time')\n",
    "fig.show()"
   ]
  },
  {
   "cell_type": "markdown",
   "id": "1fab579c",
   "metadata": {},
   "source": [
    "The default stacked bar chart behavior can be changed to grouped (also known as clustered) using the `barmode` argument:"
   ]
  },
  {
   "cell_type": "code",
   "execution_count": null,
   "id": "4c7a6df8",
   "metadata": {},
   "outputs": [],
   "source": [
    "import plotly.express as px\n",
    "df = px.data.tips()\n",
    "fig = px.bar(df, x=\"sex\", y=\"total_bill\",\n",
    "             color='smoker', barmode='group',\n",
    "             height=400)\n",
    "fig.show()"
   ]
  },
  {
   "cell_type": "markdown",
   "id": "56c68bfa",
   "metadata": {},
   "source": [
    "### Aggregating into Single Colored Bars\n",
    "\n",
    "As noted above `px.bar()` will result in **one rectangle drawn per row of input**. This can sometimes result in a striped look as in the examples above. To combine these rectangles into one per color per position, you can use `px.histogram()`, which has [its own detailed documentation page](/python/histogram).\n",
    "\n",
    "> `px.bar` and `px.histogram` are designed  to be nearly interchangeable in their call signatures, so as to be able to switch between aggregated and disaggregated bar representations."
   ]
  },
  {
   "cell_type": "code",
   "execution_count": null,
   "id": "23d953f5",
   "metadata": {},
   "outputs": [],
   "source": [
    "import plotly.express as px\n",
    "df = px.data.tips()\n",
    "fig = px.histogram(df, x=\"sex\", y=\"total_bill\",\n",
    "             color='smoker', barmode='group',\n",
    "             height=400)\n",
    "fig.show()"
   ]
  },
  {
   "cell_type": "markdown",
   "id": "35687f12",
   "metadata": {},
   "source": [
    "`px.histogram()` will aggregate `y` values by summing them by default, but the `histfunc` argument can be used to set this to `avg` to create what is sometimes called a \"barplot\" which summarizes the central tendency of a dataset, rather than visually representing the totality of the dataset.\n",
    "\n",
    "> Warning: when using `histfunc`s other than `\"sum\"` or `\"count\"` it can be very misleading to use a `barmode` other than `\"group\"`, as stacked bars in effect represent the sum of the bar heights, and summing averages is rarely a reasonable thing to visualize."
   ]
  },
  {
   "cell_type": "code",
   "execution_count": null,
   "id": "9b482275",
   "metadata": {},
   "outputs": [],
   "source": [
    "import plotly.express as px\n",
    "df = px.data.tips()\n",
    "fig = px.histogram(df, x=\"sex\", y=\"total_bill\",\n",
    "             color='smoker', barmode='group',\n",
    "             histfunc='avg',\n",
    "             height=400)\n",
    "fig.show()"
   ]
  },
  {
   "cell_type": "markdown",
   "id": "d39e8504",
   "metadata": {},
   "source": [
    "### Bar Charts with Text\n",
    "\n",
    "*New in v5.5*\n",
    "\n",
    "You can add text to bars using the `text_auto` argument. Setting it to `True` will display the values on the bars, and setting it to a `d3-format` formatting string will control the output format."
   ]
  },
  {
   "cell_type": "code",
   "execution_count": null,
   "id": "fed79f75",
   "metadata": {},
   "outputs": [],
   "source": [
    "import plotly.express as px\n",
    "df = px.data.medals_long()\n",
    "\n",
    "fig = px.bar(df, x=\"medal\", y=\"count\", color=\"nation\", text_auto=True)\n",
    "fig.show()"
   ]
  },
  {
   "cell_type": "markdown",
   "id": "e2ffb21a",
   "metadata": {},
   "source": [
    "The `text` argument can be used to display arbitrary text on the bars:"
   ]
  },
  {
   "cell_type": "code",
   "execution_count": null,
   "id": "13d5828a",
   "metadata": {},
   "outputs": [],
   "source": [
    "import plotly.express as px\n",
    "df = px.data.medals_long()\n",
    "\n",
    "fig = px.bar(df, x=\"medal\", y=\"count\", color=\"nation\", text=\"nation\")\n",
    "fig.show()"
   ]
  },
  {
   "cell_type": "markdown",
   "id": "00bb7cad",
   "metadata": {},
   "source": [
    "By default, Plotly will scale and rotate text labels to maximize the number of visible labels, which can result in a variety of text angles and sizes and positions in the same figure. The `textfont`, `textposition` and `textangle` trace attributes can be used to control these.\n",
    "\n",
    "Here is an example of the default behavior:"
   ]
  },
  {
   "cell_type": "code",
   "execution_count": null,
   "id": "e4cf3072",
   "metadata": {},
   "outputs": [],
   "source": [
    "import plotly.express as px\n",
    "\n",
    "df = px.data.gapminder().query(\"continent == 'Europe' and year == 2007 and pop > 2.e6\")\n",
    "fig = px.bar(df, y='pop', x='country', text_auto='.2s',\n",
    "            title=\"Default: various text sizes, positions and angles\")\n",
    "fig.show()"
   ]
  },
  {
   "cell_type": "markdown",
   "id": "2a9fab86",
   "metadata": {},
   "source": [
    "Here is the same data with less variation in text formatting. Note that `textfont_size` will set the *maximum* size. The `layout.uniformtext` attribute can be used to guarantee that all text labels are the same size. See the [documentation on text and annotations](/python/text-and-annotations/) for details.\n",
    "\n",
    "The `cliponaxis` attribute is set to `False` in the example below to ensure that the outside text on the tallest bar is allowed to render outside of the plotting area."
   ]
  },
  {
   "cell_type": "code",
   "execution_count": null,
   "id": "09d8f17b",
   "metadata": {},
   "outputs": [],
   "source": [
    "import plotly.express as px\n",
    "\n",
    "df = px.data.gapminder().query(\"continent == 'Europe' and year == 2007 and pop > 2.e6\")\n",
    "fig = px.bar(df, y='pop', x='country', text_auto='.2s',\n",
    "            title=\"Controlled text sizes, positions and angles\")\n",
    "fig.update_traces(textfont_size=12, textangle=0, textposition=\"outside\", cliponaxis=False)\n",
    "fig.show()"
   ]
  },
  {
   "cell_type": "markdown",
   "id": "015b6073",
   "metadata": {},
   "source": [
    "### Pattern Fills\n",
    "\n",
    "*New in v5.0*"
   ]
  },
  {
   "cell_type": "markdown",
   "id": "c4b29ce7",
   "metadata": {},
   "source": [
    "Bar charts afford the use of [patterns (also known as hatching or texture)](/python/pattern-hatching-texture/) in addition to color:"
   ]
  },
  {
   "cell_type": "code",
   "execution_count": null,
   "id": "d7c0c3c1",
   "metadata": {},
   "outputs": [],
   "source": [
    "import plotly.express as px\n",
    "df = px.data.medals_long()\n",
    "\n",
    "fig = px.bar(df, x=\"medal\", y=\"count\", color=\"nation\",\n",
    "             pattern_shape=\"nation\", pattern_shape_sequence=[\".\", \"x\", \"+\"])\n",
    "fig.show()"
   ]
  },
  {
   "cell_type": "markdown",
   "id": "83fe1598",
   "metadata": {},
   "source": [
    "### Facetted subplots\n",
    "\n",
    "Use the keyword arguments `facet_row` (resp. `facet_col`) to create facetted subplots, where different rows (resp. columns) correspond to different values of the dataframe column specified in `facet_row`."
   ]
  },
  {
   "cell_type": "code",
   "execution_count": null,
   "id": "79dffb46",
   "metadata": {},
   "outputs": [],
   "source": [
    "import plotly.express as px\n",
    "df = px.data.tips()\n",
    "fig = px.bar(df, x=\"sex\", y=\"total_bill\", color=\"smoker\", barmode=\"group\",\n",
    "             facet_row=\"time\", facet_col=\"day\",\n",
    "             category_orders={\"day\": [\"Thur\", \"Fri\", \"Sat\", \"Sun\"],\n",
    "                              \"time\": [\"Lunch\", \"Dinner\"]})\n",
    "fig.show()"
   ]
  },
  {
   "cell_type": "markdown",
   "id": "d89ca285",
   "metadata": {},
   "source": [
    "#### Basic Bar Charts with plotly.graph_objects\n",
    "\n",
    "If Plotly Express does not provide a good starting point, it is also possible to use [the more generic `go.Bar` class from `plotly.graph_objects`](/python/graph-objects/)."
   ]
  },
  {
   "cell_type": "code",
   "execution_count": null,
   "id": "ee814f7f",
   "metadata": {},
   "outputs": [],
   "source": [
    "import plotly.graph_objects as go\n",
    "animals=['giraffes', 'orangutans', 'monkeys']\n",
    "\n",
    "fig = go.Figure([go.Bar(x=animals, y=[20, 14, 23])])\n",
    "fig.show()"
   ]
  },
  {
   "cell_type": "markdown",
   "id": "6c91c655",
   "metadata": {},
   "source": [
    "#### Grouped Bar Chart\n",
    "\n",
    "Customize the figure using `fig.update`."
   ]
  },
  {
   "cell_type": "code",
   "execution_count": null,
   "id": "48434e43",
   "metadata": {},
   "outputs": [],
   "source": [
    "import plotly.graph_objects as go\n",
    "animals=['giraffes', 'orangutans', 'monkeys']\n",
    "\n",
    "fig = go.Figure(data=[\n",
    "    go.Bar(name='SF Zoo', x=animals, y=[20, 14, 23]),\n",
    "    go.Bar(name='LA Zoo', x=animals, y=[12, 18, 29])\n",
    "])\n",
    "# Change the bar mode\n",
    "fig.update_layout(barmode='group')\n",
    "fig.show()"
   ]
  },
  {
   "cell_type": "markdown",
   "id": "350761f3",
   "metadata": {},
   "source": [
    "### Stacked Bar Chart"
   ]
  },
  {
   "cell_type": "code",
   "execution_count": null,
   "id": "12f02b55",
   "metadata": {},
   "outputs": [],
   "source": [
    "import plotly.graph_objects as go\n",
    "animals=['giraffes', 'orangutans', 'monkeys']\n",
    "\n",
    "fig = go.Figure(data=[\n",
    "    go.Bar(name='SF Zoo', x=animals, y=[20, 14, 23]),\n",
    "    go.Bar(name='LA Zoo', x=animals, y=[12, 18, 29])\n",
    "])\n",
    "# Change the bar mode\n",
    "fig.update_layout(barmode='stack')\n",
    "fig.show()"
   ]
  },
  {
   "cell_type": "markdown",
   "id": "50dd9825",
   "metadata": {},
   "source": [
    "### Bar Chart with Relative Barmode\n",
    "\n",
    "With \"relative\" barmode, the bars are stacked on top of one another, with negative values\n",
    "below the axis and positive values above."
   ]
  },
  {
   "cell_type": "code",
   "execution_count": null,
   "id": "b1e4667c",
   "metadata": {},
   "outputs": [],
   "source": [
    "import plotly.graph_objects as go\n",
    "x = [1, 2, 3, 4]\n",
    "\n",
    "fig = go.Figure()\n",
    "fig.add_trace(go.Bar(x=x, y=[1, 4, 9, 16]))\n",
    "fig.add_trace(go.Bar(x=x, y=[6, -8, -4.5, 8]))\n",
    "fig.add_trace(go.Bar(x=x, y=[-15, -3, 4.5, -8]))\n",
    "fig.add_trace(go.Bar(x=x, y=[-1, 3, -3, -4]))\n",
    "\n",
    "fig.update_layout(barmode='relative', title_text='Relative Barmode')\n",
    "fig.show()"
   ]
  },
  {
   "cell_type": "markdown",
   "id": "9b7b07ef",
   "metadata": {},
   "source": [
    "### Grouped Stacked Bar Chart\n",
    "\n",
    "*Supported in Plotly.py 6.0.0 and later*\n",
    "\n",
    "Use the `offsetgroup` property with `barmode=\"stacked\"` or `barmode=\"relative\"` to create grouped stacked bar charts. Bars that have the same `offsetgroup` will share the same position on the axis. Bars with no `offsetgroup` set will also share the same position on the axis. In the following example, for each quarter, the value for cities that belong to the same `offsetgroup` are stacked together."
   ]
  },
  {
   "cell_type": "code",
   "execution_count": null,
   "id": "b16bae77",
   "metadata": {},
   "outputs": [],
   "source": [
    "import plotly.graph_objects as go\n",
    "\n",
    "data = [\n",
    "    go.Bar(\n",
    "        x=['Q1', 'Q2', 'Q3', 'Q4'],\n",
    "        y=[150, 200, 250, 300],\n",
    "        name='New York',\n",
    "        offsetgroup=\"USA\"\n",
    "    ),\n",
    "    go.Bar(\n",
    "        x=['Q1', 'Q2', 'Q3', 'Q4'],\n",
    "        y=[180, 220, 270, 320],\n",
    "        name='Boston',\n",
    "        offsetgroup=\"USA\"\n",
    "    ),\n",
    "    go.Bar(\n",
    "        x=['Q1', 'Q2', 'Q3', 'Q4'],\n",
    "        y=[130, 170, 210, 260],\n",
    "        name='Montreal',\n",
    "        offsetgroup=\"Canada\"\n",
    "    ),\n",
    "    go.Bar(\n",
    "        x=['Q1', 'Q2', 'Q3', 'Q4'],\n",
    "        y=[160, 210, 260, 310],\n",
    "        name='Toronto',\n",
    "        offsetgroup=\"Canada\"\n",
    "    )\n",
    "]\n",
    "\n",
    "layout = go.Layout(\n",
    "    title={\n",
    "        'text': 'Quarterly Sales by City, Grouped by Country'\n",
    "    },\n",
    "    xaxis={\n",
    "        'title': {\n",
    "            'text': 'Quarter'\n",
    "        }\n",
    "    },\n",
    "    yaxis={\n",
    "        'title': {\n",
    "            'text': 'Sales'\n",
    "        }\n",
    "    },\n",
    "    barmode='stack'\n",
    ")\n",
    "\n",
    "fig = go.Figure(data=data, layout=layout)\n",
    "\n",
    "fig.show()"
   ]
  },
  {
   "cell_type": "markdown",
   "id": "89a2a141",
   "metadata": {},
   "source": [
    "### Stacked Bar Chart From Aggregating a DataFrame\n",
    "\n",
    "Stacked bar charts are a powerful way to present results summarizing categories generated using the Pandas aggregate commands. `pandas.DataFrame.agg` produces a wide data set format incompatible with `px.bar`. Transposing and updating the indexes to achieve `px.bar` compatibility is a somewhat involved option. Here is one straightforward alternative, which presents the aggregated data as a stacked bar using plotly.graph_objects."
   ]
  },
  {
   "cell_type": "code",
   "execution_count": null,
   "id": "c1744501",
   "metadata": {
    "lines_to_next_cell": 2
   },
   "outputs": [],
   "source": [
    "from plotly import graph_objects as go\n",
    "import pandas as pd\n",
    "\n",
    "# Get one year of gapminder data\n",
    "url = 'https://raw.githubusercontent.com/plotly/datasets/master/gapminderDataFiveYear.csv'\n",
    "df = pd.read_csv(url)\n",
    "df = df[df['year']==2007]\n",
    "df[\"gdp\"]=df[\"pop\"]*df['gdpPercap']\n",
    "\n",
    "\n",
    "# Build the summary of interest\n",
    "df_summarized = df.groupby(\"continent\", observed=True).agg(\"sum\").reset_index()\n",
    "\n",
    "df_summarized[\"percent of world population\"]=100*df_summarized[\"pop\"]/df_summarized[\"pop\"].sum()\n",
    "df_summarized[\"percent of world GDP\"]=100*df_summarized[\"gdp\"]/df_summarized[\"gdp\"].sum()\n",
    "\n",
    "\n",
    "df = df_summarized[[\"continent\",\n",
    "\"percent of world population\",\n",
    "\"percent of world GDP\",\n",
    "]]\n",
    "\n",
    "# We now have a wide data frame, but it's in the opposite orientation from the one that px is designed to deal with.\n",
    "# Transposing it and rebuilding the indexes is an option, but iterating through the DF using graph objects is more succinct.\n",
    "\n",
    "fig=go.Figure()\n",
    "for category in df_summarized[\"continent\"].values:\n",
    "    fig.add_trace(go.Bar(\n",
    "            x=df.columns[1:],\n",
    "            # We need to get a pandas series that contains just the values to graph;\n",
    "            # We do so by selecting the right row, selecting the right columns\n",
    "            # and then transposing and using iloc to convert to a series\n",
    "            # Here, we assume that the bar element category variable is in column 0\n",
    "            y=list(df.loc[df[\"continent\"]==category][list(df.columns[1:])].transpose().iloc[:,0]),\n",
    "            name=str(category)\n",
    "\n",
    "\n",
    "        )\n",
    ")\n",
    "fig.update_layout(barmode=\"stack\")\n",
    "\n",
    "fig.show()"
   ]
  },
  {
   "cell_type": "markdown",
   "id": "00e10957",
   "metadata": {},
   "source": [
    "### Bar Chart with Hover Text"
   ]
  },
  {
   "cell_type": "code",
   "execution_count": null,
   "id": "9ba5aa53",
   "metadata": {},
   "outputs": [],
   "source": [
    "import plotly.graph_objects as go\n",
    "\n",
    "x = ['Product A', 'Product B', 'Product C']\n",
    "y = [20, 14, 23]\n",
    "\n",
    "# Use the hovertext kw argument for hover text\n",
    "fig = go.Figure(data=[go.Bar(x=x, y=y,\n",
    "            hovertext=['27% market share', '24% market share', '19% market share'])])\n",
    "# Customize aspect\n",
    "fig.update_traces(marker_color='rgb(158,202,225)', marker_line_color='rgb(8,48,107)',\n",
    "                  marker_line_width=1.5, opacity=0.6)\n",
    "fig.update_layout(title_text='January 2013 Sales Report')\n",
    "fig.show()"
   ]
  },
  {
   "cell_type": "markdown",
   "id": "9552c680",
   "metadata": {},
   "source": [
    "### Bar Chart with Direct Labels"
   ]
  },
  {
   "cell_type": "code",
   "execution_count": null,
   "id": "79a9f090",
   "metadata": {},
   "outputs": [],
   "source": [
    "import plotly.graph_objects as go\n",
    "\n",
    "x = ['Product A', 'Product B', 'Product C']\n",
    "y = [20, 14, 23]\n",
    "\n",
    "# Use textposition='auto' for direct text\n",
    "fig = go.Figure(data=[go.Bar(\n",
    "            x=x, y=y,\n",
    "            text=y,\n",
    "            textposition='auto',\n",
    "        )])\n",
    "\n",
    "fig.show()"
   ]
  },
  {
   "cell_type": "markdown",
   "id": "044f40f8",
   "metadata": {},
   "source": [
    "### Controlling text fontsize with uniformtext\n",
    "\n",
    "If you want all the text labels to have the same size, you can use the `uniformtext` layout parameter. The `minsize` attribute sets the font size, and the `mode` attribute sets what happens for labels which cannot fit with the desired fontsize: either `hide` them or `show` them with overflow. In the example below we also force the text to be outside of bars with `textposition`."
   ]
  },
  {
   "cell_type": "code",
   "execution_count": null,
   "id": "96ee9667",
   "metadata": {},
   "outputs": [],
   "source": [
    "import plotly.express as px\n",
    "\n",
    "df = px.data.gapminder().query(\"continent == 'Europe' and year == 2007 and pop > 2.e6\")\n",
    "fig = px.bar(df, y='pop', x='country', text='pop')\n",
    "fig.update_traces(texttemplate='%{text:.2s}', textposition='outside')\n",
    "fig.update_layout(uniformtext_minsize=8, uniformtext_mode='hide')\n",
    "fig.show()"
   ]
  },
  {
   "cell_type": "markdown",
   "id": "2e2f5860",
   "metadata": {},
   "source": [
    "### Rotated Bar Chart Labels"
   ]
  },
  {
   "cell_type": "code",
   "execution_count": null,
   "id": "6f50e46d",
   "metadata": {},
   "outputs": [],
   "source": [
    "import plotly.graph_objects as go\n",
    "\n",
    "months = ['Jan', 'Feb', 'Mar', 'Apr', 'May', 'Jun',\n",
    "          'Jul', 'Aug', 'Sep', 'Oct', 'Nov', 'Dec']\n",
    "\n",
    "fig = go.Figure()\n",
    "fig.add_trace(go.Bar(\n",
    "    x=months,\n",
    "    y=[20, 14, 25, 16, 18, 22, 19, 15, 12, 16, 14, 17],\n",
    "    name='Primary Product',\n",
    "    marker_color='indianred'\n",
    "))\n",
    "fig.add_trace(go.Bar(\n",
    "    x=months,\n",
    "    y=[19, 14, 22, 14, 16, 19, 15, 14, 10, 12, 12, 16],\n",
    "    name='Secondary Product',\n",
    "    marker_color='lightsalmon'\n",
    "))\n",
    "\n",
    "# Here we modify the tickangle of the xaxis, resulting in rotated labels.\n",
    "fig.update_layout(barmode='group', xaxis_tickangle=-45)\n",
    "fig.show()"
   ]
  },
  {
   "cell_type": "markdown",
   "id": "34354f9b",
   "metadata": {},
   "source": [
    "### Customizing Individual Bar Colors"
   ]
  },
  {
   "cell_type": "code",
   "execution_count": null,
   "id": "9ca4ce3c",
   "metadata": {},
   "outputs": [],
   "source": [
    "import plotly.graph_objects as go\n",
    "\n",
    "colors = ['lightslategray',] * 5\n",
    "colors[1] = 'crimson'\n",
    "\n",
    "fig = go.Figure(data=[go.Bar(\n",
    "    x=['Feature A', 'Feature B', 'Feature C',\n",
    "       'Feature D', 'Feature E'],\n",
    "    y=[20, 14, 23, 25, 22],\n",
    "    marker_color=colors # marker color can be a single color value or an iterable\n",
    ")])\n",
    "fig.update_layout(title_text='Least Used Feature')"
   ]
  },
  {
   "cell_type": "markdown",
   "id": "5dd4e4db",
   "metadata": {},
   "source": [
    "### Customizing Individual Bar Widths"
   ]
  },
  {
   "cell_type": "code",
   "execution_count": null,
   "id": "cbdaab34",
   "metadata": {},
   "outputs": [],
   "source": [
    "import plotly.graph_objects as go\n",
    "\n",
    "fig = go.Figure(data=[go.Bar(\n",
    "    x=[1, 2, 3, 5.5, 10],\n",
    "    y=[10, 8, 6, 4, 2],\n",
    "    width=[0.8, 0.8, 0.8, 3.5, 4] # customize width here\n",
    ")])\n",
    "\n",
    "fig.show()"
   ]
  },
  {
   "cell_type": "markdown",
   "id": "8dc34727",
   "metadata": {},
   "source": [
    "Bar charts with custom widths can be used to make mekko charts (also known as marimekko charts, mosaic plots, or variwide charts)."
   ]
  },
  {
   "cell_type": "code",
   "execution_count": null,
   "id": "5d91acc0",
   "metadata": {},
   "outputs": [],
   "source": [
    "import plotly.graph_objects as go\n",
    "import numpy as np\n",
    "\n",
    "labels = [\"apples\",\"oranges\",\"pears\",\"bananas\"]\n",
    "widths = np.array([10,20,20,50])\n",
    "\n",
    "data = {\n",
    "    \"South\": [50,80,60,70],\n",
    "    \"North\": [50,20,40,30]\n",
    "}\n",
    "\n",
    "fig = go.Figure()\n",
    "for key in data:\n",
    "    fig.add_trace(go.Bar(\n",
    "        name=key,\n",
    "        y=data[key],\n",
    "        x=np.cumsum(widths)-widths,\n",
    "        width=widths,\n",
    "        offset=0,\n",
    "        customdata=np.transpose([labels, widths*data[key]]),\n",
    "        texttemplate=\"%{y} x %{width} =<br>%{customdata[1]}\",\n",
    "        textposition=\"inside\",\n",
    "        textangle=0,\n",
    "        textfont_color=\"white\",\n",
    "        hovertemplate=\"<br>\".join([\n",
    "            \"label: %{customdata[0]}\",\n",
    "            \"width: %{width}\",\n",
    "            \"height: %{y}\",\n",
    "            \"area: %{customdata[1]}\",\n",
    "        ])\n",
    "    ))\n",
    "\n",
    "fig.update_xaxes(\n",
    "    tickvals=np.cumsum(widths)-widths/2,\n",
    "    ticktext= [\"%s<br>%d\" % (l, w) for l, w in zip(labels, widths)]\n",
    ")\n",
    "\n",
    "fig.update_xaxes(range=[0,100])\n",
    "fig.update_yaxes(range=[0,100])\n",
    "\n",
    "fig.update_layout(\n",
    "    title_text=\"Marimekko Chart\",\n",
    "    barmode=\"stack\",\n",
    "    uniformtext=dict(mode=\"hide\", minsize=10),\n",
    ")"
   ]
  },
  {
   "cell_type": "markdown",
   "id": "d987117f",
   "metadata": {},
   "source": [
    "### Customizing Individual Bar Base"
   ]
  },
  {
   "cell_type": "code",
   "execution_count": null,
   "id": "cc3b7a9c",
   "metadata": {},
   "outputs": [],
   "source": [
    "import plotly.graph_objects as go\n",
    "\n",
    "years = ['2016','2017','2018']\n",
    "\n",
    "fig = go.Figure()\n",
    "fig.add_trace(go.Bar(x=years, y=[500, 600, 700],\n",
    "                base=[-500,-600,-700],\n",
    "                marker_color='crimson',\n",
    "                name='expenses'))\n",
    "fig.add_trace(go.Bar(x=years, y=[300, 400, 700],\n",
    "                base=0,\n",
    "                marker_color='lightslategrey',\n",
    "                name='revenue'\n",
    "                ))\n",
    "\n",
    "fig.show()"
   ]
  },
  {
   "cell_type": "markdown",
   "id": "504834cb",
   "metadata": {},
   "source": [
    "### Rounded Bars\n",
    "\n",
    "*New in 5.19*\n",
    "\n",
    "You can round the corners on all bar traces in a figure by setting `barcornerradius` on the figure's layout. `barcornerradius` can be a number of pixels or a percentage of the bar width (using a string ending in %, for example \"20%\").\n",
    "\n",
    "In this example, we set all bars to have a radius of 15 pixels."
   ]
  },
  {
   "cell_type": "code",
   "execution_count": null,
   "id": "b592f971",
   "metadata": {},
   "outputs": [],
   "source": [
    "import plotly.graph_objects as go\n",
    "from plotly import data\n",
    "\n",
    "df = data.medals_wide()\n",
    "\n",
    "fig = go.Figure(\n",
    "    data=[\n",
    "        go.Bar(x=df.nation, y=df.gold, name=\"Gold\"),\n",
    "        go.Bar(x=df.nation, y=df.silver, name=\"Silver\"),\n",
    "        go.Bar(x=df.nation, y=df.bronze, name=\"Bronze\"),\n",
    "    ],\n",
    "    layout=dict(\n",
    "        barcornerradius=15,\n",
    "    ),\n",
    ")\n",
    "\n",
    "fig.show()"
   ]
  },
  {
   "cell_type": "markdown",
   "id": "10f6dbfc",
   "metadata": {},
   "source": [
    "When you don't want all bar traces in a figure to have the same rounded corners, you can instead configure rounded corners on each trace using `marker.cornerradius`. In this example, which uses subplots, the first trace has a corner radius of 30 pixels, the second trace has a bar corner radius of 30% of the bar width, and the third trace has no rounded corners set."
   ]
  },
  {
   "cell_type": "code",
   "execution_count": null,
   "id": "b51ae7c9",
   "metadata": {},
   "outputs": [],
   "source": [
    "import plotly.graph_objects as go\n",
    "from plotly.subplots import make_subplots\n",
    "from plotly import data\n",
    "\n",
    "df = data.medals_wide()\n",
    "\n",
    "fig = make_subplots(rows=1, cols=3, shared_yaxes=True)\n",
    "\n",
    "fig.add_trace(\n",
    "    go.Bar(x=df.nation, y=df.gold, name=\"Gold\", marker=dict(cornerradius=30)), 1, 1\n",
    ")\n",
    "fig.add_trace(\n",
    "    go.Bar(x=df.nation, y=df.silver, name=\"Silver\", marker=dict(cornerradius=\"30%\")),\n",
    "    1,\n",
    "    2,\n",
    ")\n",
    "\n",
    "fig.add_trace(\n",
    "    go.Bar(x=df.nation, y=df.bronze, name=\"Bronze\"),\n",
    "    1,\n",
    "    3,\n",
    ")\n",
    "\n",
    "\n",
    "fig.show()"
   ]
  },
  {
   "cell_type": "markdown",
   "id": "88e67b63",
   "metadata": {},
   "source": [
    "### Colored and Styled Bar Chart\n",
    "\n",
    "In this example several parameters of the layout as customized, hence it is convenient to use directly the `go.Layout(...)` constructor instead of calling `fig.update`."
   ]
  },
  {
   "cell_type": "code",
   "execution_count": null,
   "id": "a86d013a",
   "metadata": {},
   "outputs": [],
   "source": [
    "import plotly.graph_objects as go\n",
    "\n",
    "years = [1995, 1996, 1997, 1998, 1999, 2000, 2001, 2002, 2003,\n",
    "         2004, 2005, 2006, 2007, 2008, 2009, 2010, 2011, 2012]\n",
    "\n",
    "fig = go.Figure()\n",
    "fig.add_trace(go.Bar(x=years,\n",
    "                y=[219, 146, 112, 127, 124, 180, 236, 207, 236, 263,\n",
    "                   350, 430, 474, 526, 488, 537, 500, 439],\n",
    "                name='Rest of world',\n",
    "                marker_color='rgb(55, 83, 109)'\n",
    "                ))\n",
    "fig.add_trace(go.Bar(x=years,\n",
    "                y=[16, 13, 10, 11, 28, 37, 43, 55, 56, 88, 105, 156, 270,\n",
    "                   299, 340, 403, 549, 499],\n",
    "                name='China',\n",
    "                marker_color='rgb(26, 118, 255)'\n",
    "                ))\n",
    "\n",
    "fig.update_layout(\n",
    "    title=dict(text='US Export of Plastic Scrap'),\n",
    "    xaxis_tickfont_size=14,\n",
    "    yaxis=dict(\n",
    "        title=dict(\n",
    "            text=\"USD (millions)\",\n",
    "            font=dict(\n",
    "                size=16\n",
    "            )\n",
    "        ),\n",
    "    ),\n",
    "    legend=dict(\n",
    "        x=0,\n",
    "        y=1.0,\n",
    "        bgcolor='rgba(255, 255, 255, 0)',\n",
    "        bordercolor='rgba(255, 255, 255, 0)'\n",
    "    ),\n",
    "    barmode='group',\n",
    "    bargap=0.15, # gap between bars of adjacent location coordinates.\n",
    "    bargroupgap=0.1 # gap between bars of the same location coordinate.\n",
    ")\n",
    "fig.show()"
   ]
  },
  {
   "cell_type": "markdown",
   "id": "715a6cdf",
   "metadata": {},
   "source": [
    "### Bar Chart with Sorted or Ordered Categories\n",
    "\n",
    "Set `categoryorder` to `\"category ascending\"` or `\"category descending\"` for the alphanumerical order of the category names or `\"total ascending\"` or `\"total descending\"` for numerical order of values. [categoryorder](https://plotly.com/python/reference/layout/xaxis/#layout-xaxis-categoryorder) for more information. Note that sorting the bars by a particular trace isn't possible right now - it's only possible to sort by the total values. Of course, you can always sort your data _before_ plotting it if you need more customization.\n",
    "\n",
    "This example orders the bar chart alphabetically with `categoryorder: 'category ascending'`"
   ]
  },
  {
   "cell_type": "code",
   "execution_count": null,
   "id": "a41c4bf2",
   "metadata": {},
   "outputs": [],
   "source": [
    "import plotly.graph_objects as go\n",
    "\n",
    "x=['b', 'a', 'c', 'd']\n",
    "fig = go.Figure(go.Bar(x=x, y=[2,5,1,9], name='Montreal'))\n",
    "fig.add_trace(go.Bar(x=x, y=[1, 4, 9, 16], name='Ottawa'))\n",
    "fig.add_trace(go.Bar(x=x, y=[6, 8, 4.5, 8], name='Toronto'))\n",
    "\n",
    "fig.update_layout(barmode='stack', xaxis={'categoryorder':'category ascending'})\n",
    "fig.show()"
   ]
  },
  {
   "cell_type": "markdown",
   "id": "47968bcb",
   "metadata": {},
   "source": [
    "This example shows how to customise sort ordering by defining `categoryorder` to \"array\" to derive the ordering from the attribute `categoryarray`."
   ]
  },
  {
   "cell_type": "code",
   "execution_count": null,
   "id": "18c08f8e",
   "metadata": {},
   "outputs": [],
   "source": [
    "import plotly.graph_objects as go\n",
    "\n",
    "x=['b', 'a', 'c', 'd']\n",
    "fig = go.Figure(go.Bar(x=x, y=[2,5,1,9], name='Montreal'))\n",
    "fig.add_trace(go.Bar(x=x, y=[1, 4, 9, 16], name='Ottawa'))\n",
    "fig.add_trace(go.Bar(x=x, y=[6, 8, 4.5, 8], name='Toronto'))\n",
    "\n",
    "fig.update_layout(barmode='stack', xaxis={'categoryorder':'array', 'categoryarray':['d','a','c','b']})\n",
    "fig.show()"
   ]
  },
  {
   "cell_type": "markdown",
   "id": "ac7d3d8c",
   "metadata": {},
   "source": [
    "This example orders the bar chart by descending value with `categoryorder: 'total descending'`"
   ]
  },
  {
   "cell_type": "code",
   "execution_count": null,
   "id": "fd6dfc02",
   "metadata": {},
   "outputs": [],
   "source": [
    "import plotly.graph_objects as go\n",
    "\n",
    "x=['b', 'a', 'c', 'd']\n",
    "fig = go.Figure(go.Bar(x=x, y=[2,5,1,9], name='Montreal'))\n",
    "fig.add_trace(go.Bar(x=x, y=[1, 4, 9, 16], name='Ottawa'))\n",
    "fig.add_trace(go.Bar(x=x, y=[6, 8, 4.5, 8], name='Toronto'))\n",
    "\n",
    "fig.update_layout(barmode='stack', xaxis={'categoryorder':'total descending'})\n",
    "fig.show()"
   ]
  },
  {
   "cell_type": "markdown",
   "id": "f4bfe0e5",
   "metadata": {},
   "source": [
    "### Horizontal Bar Charts\n",
    "\n",
    "See examples of horizontal bar charts [here](https://plotly.com/python/horizontal-bar-charts/).\n",
    "\n",
    "### Bar Charts With Multicategory Axis Type\n",
    "\n",
    "If your traces have arrays for `x` or `y`, then the axis type is automatically inferred to be `multicategory`."
   ]
  },
  {
   "cell_type": "code",
   "execution_count": null,
   "id": "1a7cc516",
   "metadata": {
    "lines_to_next_cell": 0
   },
   "outputs": [],
   "source": [
    "import plotly.graph_objects as go\n",
    "x = [\n",
    "    [\"BB+\", \"BB+\", \"BB+\", \"BB\", \"BB\", \"BB\"],\n",
    "    [16, 17, 18, 16, 17, 18,]\n",
    "]\n",
    "fig = go.Figure()\n",
    "fig.add_bar(x=x,y=[1,2,3,4,5,6])\n",
    "fig.add_bar(x=x,y=[6,5,4,3,2,1])\n",
    "fig.update_layout(barmode=\"relative\")\n",
    "fig.show()"
   ]
  },
  {
   "cell_type": "markdown",
   "id": "26bb1dc6",
   "metadata": {},
   "source": [
    "\n"
   ]
  },
  {
   "cell_type": "markdown",
   "id": "74c441bf",
   "metadata": {},
   "source": [
    "### Reference\n",
    "\n",
    "See [function reference for `px.bar()`](https://plotly.com/python-api-reference/generated/plotly.express.bar) or https://plotly.com/python/reference/bar/ for more information and chart attribute options!\n"
   ]
  },
  {
   "cell_type": "markdown",
   "id": "2b6a2186",
   "metadata": {},
   "source": [
    "### What About Dash?\n",
    "\n",
    "[Dash](https://dash.plot.ly/) is an open-source framework for building analytical applications, with no Javascript required, and it is tightly integrated with the Plotly graphing library.\n",
    "\n",
    "Learn about how to install Dash at https://dash.plot.ly/installation.\n",
    "\n",
    "Everywhere in this page that you see `fig.show()`, you can display the same figure in a Dash application by passing it to the `figure` argument of the [`Graph` component](https://dash.plot.ly/dash-core-components/graph) from the built-in `dash_core_components` package like this:\n",
    "\n",
    "```python\n",
    "import plotly.graph_objects as go # or plotly.express as px\n",
    "fig = go.Figure() # or any Plotly Express function e.g. px.bar(...)\n",
    "# fig.add_trace( ... )\n",
    "# fig.update_layout( ... )\n",
    "\n",
    "from dash import Dash, dcc, html\n",
    "\n",
    "app = Dash()\n",
    "app.layout = html.Div([\n",
    "    dcc.Graph(figure=fig)\n",
    "])\n",
    "\n",
    "app.run_server(debug=True, use_reloader=False)  # Turn off reloader if inside Jupyter\n",
    "```"
   ]
  }
 ],
 "metadata": {
  "jupytext": {
   "notebook_metadata_filter": "all"
  },
  "kernelspec": {
   "display_name": "Python 3 (ipykernel)",
   "language": "python",
   "name": "python3"
  },
  "language_info": {
   "codemirror_mode": {
    "name": "ipython",
    "version": 3
   },
   "file_extension": ".py",
   "mimetype": "text/x-python",
   "name": "python",
   "nbconvert_exporter": "python",
   "pygments_lexer": "ipython3",
   "version": "3.11.10"
  },
  "plotly": {
   "description": "How to make Bar Charts in Python with Plotly.",
   "display_as": "basic",
   "language": "python",
   "layout": "base",
   "name": "Bar Charts",
   "order": 3,
   "page_type": "example_index",
   "permalink": "python/bar-charts/",
   "thumbnail": "thumbnail/bar.jpg"
  }
 },
 "nbformat": 4,
 "nbformat_minor": 5
}
