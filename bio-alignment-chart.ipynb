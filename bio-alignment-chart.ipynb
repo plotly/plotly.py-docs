{
 "cells": [
  {
   "cell_type": "markdown",
   "id": "a006b36a",
   "metadata": {},
   "source": [
    "## Alignment Viewer\n",
    "\n",
    "The Alignment Viewer (MSA) component is used to align multiple genomic or proteomic sequences from a FASTA or Clustal file. Among its extensive set of features, the multiple sequence alignment viewer can display multiple subplots showing gap and conservation info, alongside industry standard colorscale support and consensus sequence. No matter what size your alignment is, Alignment Viewer is able to display your genes or proteins snappily thanks to the underlying WebGL architecture powering the component. You can quickly scroll through your long sequence with a slider or a heatmap overview.\n",
    "\n",
    "Note that the AlignmentChart only returns a chart of the sequence, while AlignmentViewer has integrated controls for colorscale, heatmaps, and subplots allowing you to interactively control your sequences.\n",
    "\n",
    "## Bar Chart for conservation visualization"
   ]
  },
  {
   "cell_type": "code",
   "execution_count": null,
   "id": "7614c544",
   "metadata": {},
   "outputs": [],
   "source": [
    "import plotly.express as px\n",
    "import pandas as pd\n",
    "\n",
    "df = (pd.read_csv('https://raw.githubusercontent.com/plotly/datasets/master/Dash_Bio/Genetic/gene_conservation.csv')\n",
    "        .set_index('0')\n",
    "        .loc[['consensus','conservation']]\n",
    "        .T\n",
    "        .astype({\"conservation\": float}))\n",
    "\n",
    "fig = px.bar(df, labels={ 'index': 'base' }, hover_name='consensus', y='conservation')\n",
    "fig.show()"
   ]
  },
  {
   "cell_type": "markdown",
   "id": "16e076c0",
   "metadata": {},
   "source": [
    "## Alignment Chart in dash_bio"
   ]
  },
  {
   "cell_type": "code",
   "execution_count": null,
   "id": "17002e87",
   "metadata": {
    "hide_code": true,
    "lines_to_next_cell": 2
   },
   "outputs": [],
   "source": [
    "from IPython.display import IFrame\n",
    "snippet_url = 'https://python-docs-dash-snippets.herokuapp.com/python-docs-dash-snippets/'\n",
    "IFrame(snippet_url + 'bio-alignmentchart', width='100%', height=1200)"
   ]
  },
  {
   "cell_type": "markdown",
   "id": "161ed7af",
   "metadata": {},
   "source": [
    "### What About Dash?\n",
    "\n",
    "[Dash](https://dash.plot.ly/) is an open-source framework for building analytical applications, with no Javascript required, and it is tightly integrated with the Plotly graphing library.\n",
    "\n",
    "Learn about how to install Dash at https://dash.plot.ly/installation.\n",
    "\n",
    "Everywhere in this page that you see `fig.show()`, you can display the same figure in a Dash application by passing it to the `figure` argument of the [`Graph` component](https://dash.plot.ly/dash-core-components/graph) from the built-in `dash_core_components` package like this:\n",
    "\n",
    "```python\n",
    "import plotly.graph_objects as go # or plotly.express as px\n",
    "fig = go.Figure() # or any Plotly Express function e.g. px.bar(...)\n",
    "# fig.add_trace( ... )\n",
    "# fig.update_layout( ... )\n",
    "\n",
    "from dash import Dash, dcc, html\n",
    "\n",
    "app = Dash()\n",
    "app.layout = html.Div([\n",
    "    dcc.Graph(figure=fig)\n",
    "])\n",
    "\n",
    "app.run_server(debug=True, use_reloader=False)  # Turn off reloader if inside Jupyter\n",
    "```"
   ]
  }
 ],
 "metadata": {
  "jupytext": {
   "notebook_metadata_filter": "all"
  },
  "kernelspec": {
   "display_name": "Python 3 (ipykernel)",
   "language": "python",
   "name": "python3"
  },
  "language_info": {
   "codemirror_mode": {
    "name": "ipython",
    "version": 3
   },
   "file_extension": ".py",
   "mimetype": "text/x-python",
   "name": "python",
   "nbconvert_exporter": "python",
   "pygments_lexer": "ipython3",
   "version": "3.9.7"
  },
  "plotly": {
   "display_as": "bio",
   "language": "python",
   "layout": "base",
   "name": "Alignment Chart",
   "order": 1,
   "page_type": "u-guide",
   "permalink": "python/alignment-chart/",
   "thumbnail": "thumbnail/alignment_chart.png"
  }
 },
 "nbformat": 4,
 "nbformat_minor": 5
}
