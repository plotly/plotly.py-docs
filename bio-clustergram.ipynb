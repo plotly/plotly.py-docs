{
 "cells": [
  {
   "cell_type": "markdown",
   "id": "1d1170f9",
   "metadata": {},
   "source": [
    "## Default Clustergram\n",
    "A clustergram is a combination heatmap-dendrogram that is commonly used in gene expression data. The hierarchical clustering that is represented by the dendrograms can be used to identify groups of genes with related expression levels. The Dash Bio Clustergram component is a Python-based component that uses plotly.py to generate a figure. It takes as input a two-dimensional numpy array of floating-point values. Imputation of missing data and computation of hierarchical clustering both occur within the component itself. Clusters that meet or exceed a user-defined threshold of similarity comprise single traces in the corresponding dendrogram, and can be highlighted with annotations. The user can specify additional parameters to customize the metrics and methods used to compute parts of the clustering, such as the pairwise distance between observations and the linkage matrix."
   ]
  },
  {
   "cell_type": "code",
   "execution_count": null,
   "id": "c48d64d2",
   "metadata": {},
   "outputs": [],
   "source": [
    "import pandas as pd\n",
    "import dash_bio\n",
    "\n",
    "\n",
    "df = pd.read_csv('https://raw.githubusercontent.com/plotly/datasets/master/Dash_Bio/Chromosomal/clustergram_brain_cancer.csv')\n",
    "\n",
    "dash_bio.Clustergram(\n",
    "    data=df,\n",
    "    column_labels=list(df.columns.values),\n",
    "    row_labels=list(df.index),\n",
    "    height=800,\n",
    "    width=700\n",
    ")"
   ]
  },
  {
   "cell_type": "markdown",
   "id": "f20a5bdc",
   "metadata": {},
   "source": [
    "## Dendrogram Cluster Colors/Line Widths\n",
    "Change the colors of the dendrogram traces that are used to represent clusters, and configure their line widths.\n"
   ]
  },
  {
   "cell_type": "code",
   "execution_count": null,
   "id": "acca1212",
   "metadata": {},
   "outputs": [],
   "source": [
    "import pandas as pd\n",
    "import dash_bio\n",
    "\n",
    "\n",
    "df = pd.read_csv('https://raw.githubusercontent.com/plotly/datasets/master/Dash_Bio/Chromosomal/clustergram_brain_cancer.csv')\n",
    "\n",
    "dash_bio.Clustergram(\n",
    "    data=df,\n",
    "    column_labels=list(df.columns.values),\n",
    "    row_labels=list(df.index),\n",
    "    height=800,\n",
    "    width=700,\n",
    "    color_list={\n",
    "        'row': ['#636EFA', '#00CC96', '#19D3F3'],\n",
    "        'col': ['#AB63FA', '#EF553B'],\n",
    "        'bg': '#506784'\n",
    "    },\n",
    "    line_width=2\n",
    ")"
   ]
  },
  {
   "cell_type": "markdown",
   "id": "090281a2",
   "metadata": {},
   "source": [
    "## Relative Dendrogram Size\n",
    "Change the relative width and height of, respectively, the row and column dendrograms compared to the width and height of the heatmap.\n"
   ]
  },
  {
   "cell_type": "code",
   "execution_count": null,
   "id": "d63015b2",
   "metadata": {},
   "outputs": [],
   "source": [
    "import pandas as pd\n",
    "import dash_bio\n",
    "\n",
    "\n",
    "df = pd.read_csv('https://raw.githubusercontent.com/plotly/datasets/master/Dash_Bio/Chromosomal/clustergram_brain_cancer.csv')\n",
    "\n",
    "dash_bio.Clustergram(\n",
    "    data=df,\n",
    "    column_labels=list(df.columns.values),\n",
    "    row_labels=list(df.index),\n",
    "    height=800,\n",
    "    width=700,\n",
    "    display_ratio=[0.1, 0.7]\n",
    ")"
   ]
  },
  {
   "cell_type": "markdown",
   "id": "98960908",
   "metadata": {},
   "source": [
    "## Clustergram with Dash"
   ]
  },
  {
   "cell_type": "code",
   "execution_count": null,
   "id": "61e57796",
   "metadata": {
    "hide_code": true,
    "lines_to_next_cell": 2
   },
   "outputs": [],
   "source": [
    "from IPython.display import IFrame\n",
    "snippet_url = 'https://python-docs-dash-snippets.herokuapp.com/python-docs-dash-snippets/'\n",
    "IFrame(snippet_url + 'bio-clustergram', width='100%', height=1200)"
   ]
  },
  {
   "cell_type": "markdown",
   "id": "a71365b5",
   "metadata": {},
   "source": [
    "### What About Dash?\n",
    "\n",
    "[Dash](https://dash.plot.ly/) is an open-source framework for building analytical applications, with no Javascript required, and it is tightly integrated with the Plotly graphing library.\n",
    "\n",
    "Learn about how to install Dash at https://dash.plot.ly/installation.\n",
    "\n",
    "Everywhere in this page that you see `fig.show()`, you can display the same figure in a Dash application by passing it to the `figure` argument of the [`Graph` component](https://dash.plot.ly/dash-core-components/graph) from the built-in `dash_core_components` package like this:\n",
    "\n",
    "```python\n",
    "import plotly.graph_objects as go # or plotly.express as px\n",
    "fig = go.Figure() # or any Plotly Express function e.g. px.bar(...)\n",
    "# fig.add_trace( ... )\n",
    "# fig.update_layout( ... )\n",
    "\n",
    "from dash import Dash, dcc, html\n",
    "\n",
    "app = Dash()\n",
    "app.layout = html.Div([\n",
    "    dcc.Graph(figure=fig)\n",
    "])\n",
    "\n",
    "app.run_server(debug=True, use_reloader=False)  # Turn off reloader if inside Jupyter\n",
    "```"
   ]
  }
 ],
 "metadata": {
  "jupytext": {
   "notebook_metadata_filter": "all"
  },
  "kernelspec": {
   "display_name": "Python 3 (ipykernel)",
   "language": "python",
   "name": "python3"
  },
  "language_info": {
   "codemirror_mode": {
    "name": "ipython",
    "version": 3
   },
   "file_extension": ".py",
   "mimetype": "text/x-python",
   "name": "python",
   "nbconvert_exporter": "python",
   "pygments_lexer": "ipython3",
   "version": "3.9.7"
  },
  "plotly": {
   "display_as": "bio",
   "language": "python",
   "layout": "base",
   "name": "Clustergram",
   "order": 1,
   "page_type": "u-guide",
   "permalink": "python/clustergram/",
   "thumbnail": "thumbnail/clustergram.png"
  }
 },
 "nbformat": 4,
 "nbformat_minor": 5
}
