{
 "cells": [
  {
   "cell_type": "markdown",
   "id": "4550bbf9",
   "metadata": {},
   "source": [
    "## Manhattan Plot\n",
    "ManhattanPlot allows you to visualize genome-wide association studies (GWAS) efficiently. Using WebGL under the hood, you can interactively explore overviews of massive datasets comprising hundreds of thousands of points at once, or take a closer look at a small subset of your data. Hover data and click data are accessible from within the Dash app."
   ]
  },
  {
   "cell_type": "code",
   "execution_count": null,
   "id": "ab4720eb",
   "metadata": {},
   "outputs": [],
   "source": [
    "import pandas as pd\n",
    "import dash_bio\n",
    "\n",
    "\n",
    "df = pd.read_csv('https://raw.githubusercontent.com/plotly/dash-bio-docs-files/master/manhattan_data.csv')\n",
    "\n",
    "\n",
    "dash_bio.ManhattanPlot(\n",
    "    dataframe=df,\n",
    ")"
   ]
  },
  {
   "cell_type": "markdown",
   "id": "af3e4fae",
   "metadata": {},
   "source": [
    "## Highlighted points color, and colors of the suggestive line and the genome-wide line\n",
    "Change the color of the points that are considered significant."
   ]
  },
  {
   "cell_type": "code",
   "execution_count": null,
   "id": "e39e1e71",
   "metadata": {},
   "outputs": [],
   "source": [
    "import pandas as pd\n",
    "import dash_bio\n",
    "\n",
    "\n",
    "df = pd.read_csv('https://raw.githubusercontent.com/plotly/dash-bio-docs-files/master/manhattan_data.csv')\n",
    "\n",
    "dash_bio.ManhattanPlot(\n",
    "    dataframe=df,\n",
    "    highlight_color='#00FFAA',\n",
    "    suggestiveline_color='#AA00AA',\n",
    "    genomewideline_color='#AA5500'\n",
    ")"
   ]
  },
  {
   "cell_type": "markdown",
   "id": "e9d293ee",
   "metadata": {},
   "source": [
    "## ManhattanPlot with Dash"
   ]
  },
  {
   "cell_type": "code",
   "execution_count": null,
   "id": "45eccdf3",
   "metadata": {
    "hide_code": true,
    "lines_to_next_cell": 2
   },
   "outputs": [],
   "source": [
    "from IPython.display import IFrame\n",
    "snippet_url = 'https://python-docs-dash-snippets.herokuapp.com/python-docs-dash-snippets/'\n",
    "IFrame(snippet_url + 'bio-manhattanplot', width='100%', height=1200)"
   ]
  },
  {
   "cell_type": "markdown",
   "id": "6e1289bd",
   "metadata": {},
   "source": [
    "### What About Dash?\n",
    "\n",
    "[Dash](https://dash.plot.ly/) is an open-source framework for building analytical applications, with no Javascript required, and it is tightly integrated with the Plotly graphing library.\n",
    "\n",
    "Learn about how to install Dash at https://dash.plot.ly/installation.\n",
    "\n",
    "Everywhere in this page that you see `fig.show()`, you can display the same figure in a Dash application by passing it to the `figure` argument of the [`Graph` component](https://dash.plot.ly/dash-core-components/graph) from the built-in `dash_core_components` package like this:\n",
    "\n",
    "```python\n",
    "import plotly.graph_objects as go # or plotly.express as px\n",
    "fig = go.Figure() # or any Plotly Express function e.g. px.bar(...)\n",
    "# fig.add_trace( ... )\n",
    "# fig.update_layout( ... )\n",
    "\n",
    "from dash import Dash, dcc, html\n",
    "\n",
    "app = Dash()\n",
    "app.layout = html.Div([\n",
    "    dcc.Graph(figure=fig)\n",
    "])\n",
    "\n",
    "app.run_server(debug=True, use_reloader=False)  # Turn off reloader if inside Jupyter\n",
    "```"
   ]
  }
 ],
 "metadata": {
  "celltoolbar": "Tags",
  "jupytext": {
   "notebook_metadata_filter": "all"
  },
  "kernelspec": {
   "display_name": "Python 3 (ipykernel)",
   "language": "python",
   "name": "python3"
  },
  "language_info": {
   "codemirror_mode": {
    "name": "ipython",
    "version": 3
   },
   "file_extension": ".py",
   "mimetype": "text/x-python",
   "name": "python",
   "nbconvert_exporter": "python",
   "pygments_lexer": "ipython3",
   "version": "3.9.7"
  },
  "plotly": {
   "display_as": "bio",
   "language": "python",
   "layout": "base",
   "name": "Manhattan Plot",
   "order": 1,
   "page_type": "u-guide",
   "permalink": "python/manhattan-plot/",
   "thumbnail": "thumbnail/manhattan_plot.png"
  }
 },
 "nbformat": 4,
 "nbformat_minor": 5
}
