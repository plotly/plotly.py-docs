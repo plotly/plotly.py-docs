{
 "cells": [
  {
   "cell_type": "markdown",
   "id": "865000e1",
   "metadata": {},
   "source": [
    "## VolcanoPlot\n",
    "Volcano Plot interactively identifies clinically meaningful markers in genomic experiments, i.e., markers that are statistically significant and have an effect size greater than some threshold. Specifically, volcano plots depict the negative log-base-10 p-values plotted against their effect size."
   ]
  },
  {
   "cell_type": "code",
   "execution_count": null,
   "id": "e74fbeda",
   "metadata": {},
   "outputs": [],
   "source": [
    "import pandas as pd\n",
    "import dash_bio\n",
    "\n",
    "\n",
    "df = pd.read_csv('https://raw.githubusercontent.com/plotly/dash-bio-docs-files/master/volcano_data1.csv')\n",
    "\n",
    "dash_bio.VolcanoPlot(\n",
    "    dataframe=df,\n",
    ")"
   ]
  },
  {
   "cell_type": "markdown",
   "id": "aceca718",
   "metadata": {},
   "source": [
    "## Point Sizes And Line Widths\n",
    "Change the size of the points on the scatter plot, and the widths of the effect lines and genome-wide line.\n"
   ]
  },
  {
   "cell_type": "code",
   "execution_count": null,
   "id": "bccd34b4",
   "metadata": {},
   "outputs": [],
   "source": [
    "import pandas as pd\n",
    "import dash_bio\n",
    "\n",
    "\n",
    "df = pd.read_csv('https://raw.githubusercontent.com/plotly/dash-bio-docs-files/master/volcano_data1.csv')\n",
    "\n",
    "dash_bio.VolcanoPlot(\n",
    "    dataframe=df,\n",
    "    point_size=10,\n",
    "    effect_size_line_width=4,\n",
    "    genomewideline_width=2\n",
    ")"
   ]
  },
  {
   "cell_type": "markdown",
   "id": "4f85cb18",
   "metadata": {},
   "source": [
    "## VolcanoPlot with Dash"
   ]
  },
  {
   "cell_type": "code",
   "execution_count": null,
   "id": "8e4b17e7",
   "metadata": {
    "hide_code": true,
    "lines_to_next_cell": 2
   },
   "outputs": [],
   "source": [
    "from IPython.display import IFrame\n",
    "snippet_url = 'https://python-docs-dash-snippets.herokuapp.com/python-docs-dash-snippets/'\n",
    "IFrame(snippet_url + 'bio-volcano', width='100%', height=1200)"
   ]
  },
  {
   "cell_type": "markdown",
   "id": "2fda0252",
   "metadata": {},
   "source": [
    "### What About Dash?\n",
    "\n",
    "[Dash](https://dash.plot.ly/) is an open-source framework for building analytical applications, with no Javascript required, and it is tightly integrated with the Plotly graphing library.\n",
    "\n",
    "Learn about how to install Dash at https://dash.plot.ly/installation.\n",
    "\n",
    "Everywhere in this page that you see `fig.show()`, you can display the same figure in a Dash application by passing it to the `figure` argument of the [`Graph` component](https://dash.plot.ly/dash-core-components/graph) from the built-in `dash_core_components` package like this:\n",
    "\n",
    "```python\n",
    "import plotly.graph_objects as go # or plotly.express as px\n",
    "fig = go.Figure() # or any Plotly Express function e.g. px.bar(...)\n",
    "# fig.add_trace( ... )\n",
    "# fig.update_layout( ... )\n",
    "\n",
    "from dash import Dash, dcc, html\n",
    "\n",
    "app = Dash()\n",
    "app.layout = html.Div([\n",
    "    dcc.Graph(figure=fig)\n",
    "])\n",
    "\n",
    "app.run_server(debug=True, use_reloader=False)  # Turn off reloader if inside Jupyter\n",
    "```"
   ]
  }
 ],
 "metadata": {
  "celltoolbar": "Tags",
  "jupytext": {
   "notebook_metadata_filter": "all"
  },
  "kernelspec": {
   "display_name": "Python 3 (ipykernel)",
   "language": "python",
   "name": "python3"
  },
  "language_info": {
   "codemirror_mode": {
    "name": "ipython",
    "version": 3
   },
   "file_extension": ".py",
   "mimetype": "text/x-python",
   "name": "python",
   "nbconvert_exporter": "python",
   "pygments_lexer": "ipython3",
   "version": "3.9.7"
  },
  "plotly": {
   "display_as": "bio",
   "language": "python",
   "layout": "base",
   "name": "Volcano Plot",
   "order": 1,
   "page_type": "u-guide",
   "permalink": "python/volcano-plot/",
   "thumbnail": "thumbnail/volcano_plot.png"
  }
 },
 "nbformat": 4,
 "nbformat_minor": 5
}
