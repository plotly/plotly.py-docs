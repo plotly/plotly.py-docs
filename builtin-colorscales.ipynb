{
 "cells": [
  {
   "cell_type": "markdown",
   "id": "eadf31a3",
   "metadata": {},
   "source": [
    "### Using Built-In Continuous Color Scales\n",
    "\n",
    "Many Plotly Express functions accept a `color_continuous_scale` argument and many trace\n",
    "types have a `colorscale` attribute in their schema. Plotly comes with a large number of\n",
    "built-in continuous color scales, which can be referred to in Python code when setting the above arguments,\n",
    "either by name in a case-insensitive string e.g. `px.scatter(color_continuous_scale=\"Viridis\"`) or by reference e.g.\n",
    "`go.Scatter(marker_colorscale=plotly.colors.sequential.Viridis)`. They can also be reversed by adding `_r` at the end\n",
    "e.g. `\"Viridis_r\"` or `plotly.colors.sequential.Viridis_r`.\n",
    "\n",
    "The `plotly.colours` module is also available under `plotly.express.colors` so you can refer to it as `px.colors`.\n",
    "\n",
    "When using continuous color scales, you will often want to [configure various aspects of its range and colorbar](/python/colorscales/).\n",
    "\n",
    "### Discrete Color Sequences\n",
    "\n",
    "Plotly also comes with some built-in [discrete color sequences](/python/discrete-color/) which are _not intended_ to be used with the `color_continuous_scale` argument as they are not designed for interpolation to occur between adjacent colors.\n",
    "\n",
    "### Named Built-In Continuous Color Scales\n",
    "\n",
    "You can use any of the following names as string values to set `continuous_color_scale` or `colorscale` arguments.\n",
    "These strings are case-insensitive and you can append `_r` to them to reverse the order of the scale."
   ]
  },
  {
   "cell_type": "code",
   "execution_count": null,
   "id": "4b05a81d",
   "metadata": {},
   "outputs": [],
   "source": [
    "import plotly.express as px\n",
    "from textwrap import wrap\n",
    "\n",
    "named_colorscales = px.colors.named_colorscales()\n",
    "print(\"\\n\".join(wrap(\"\".join('{:<12}'.format(c) for c in named_colorscales), 96)))"
   ]
  },
  {
   "cell_type": "markdown",
   "id": "0ea1e046",
   "metadata": {},
   "source": [
    "Built-in color scales are stored as lists of CSS colors:"
   ]
  },
  {
   "cell_type": "code",
   "execution_count": null,
   "id": "b28e7a14",
   "metadata": {},
   "outputs": [],
   "source": [
    "import plotly.express as px\n",
    "\n",
    "print(px.colors.sequential.Plasma)"
   ]
  },
  {
   "cell_type": "markdown",
   "id": "e7528aee",
   "metadata": {},
   "source": [
    "### Continuous Color Scales in Dash\n",
    "\n",
    "[Dash](https://plotly.com/dash/) is the best way to build analytical apps in Python using Plotly figures. To run the app below, run `pip install dash`, click \"Download\" to get the code and run `python app.py`.\n",
    "\n",
    "Get started  with [the official Dash docs](https://dash.plotly.com/installation) and **learn how to effortlessly [style](https://plotly.com/dash/design-kit/) & [deploy](https://plotly.com/dash/app-manager/) apps like this with <a class=\"plotly-red\" href=\"https://plotly.com/dash/\">Dash Enterprise</a>.**\n"
   ]
  },
  {
   "cell_type": "code",
   "execution_count": null,
   "id": "879a10d2",
   "metadata": {
    "hide_code": true
   },
   "outputs": [],
   "source": [
    "from IPython.display import IFrame\n",
    "snippet_url = 'https://python-docs-dash-snippets.herokuapp.com/python-docs-dash-snippets/'\n",
    "IFrame(snippet_url + 'builtin-colorscales', width='100%', height=1200)"
   ]
  },
  {
   "cell_type": "markdown",
   "id": "80b963b1",
   "metadata": {},
   "source": [
    "<div style=\"font-size: 0.9em;\"><div style=\"width: calc(100% - 30px); box-shadow: none; border: thin solid rgb(229, 229, 229);\"><div style=\"padding: 5px;\"><div><p><strong>Sign up for Dash Club</strong> → Free cheat sheets plus updates from Chris Parmer and Adam Schroeder delivered to your inbox every two months. Includes tips and tricks, community apps, and deep dives into the Dash architecture.\n",
    "<u><a href=\"https://go.plotly.com/dash-club?utm_source=Dash+Club+2022&utm_medium=graphing_libraries&utm_content=inline\">Join now</a></u>.</p></div></div></div></div>"
   ]
  },
  {
   "cell_type": "markdown",
   "id": "06f2227b",
   "metadata": {},
   "source": [
    "### Built-In Sequential Color scales\n",
    "\n",
    "A collection of predefined sequential colorscales is provided in the `plotly.colors.sequential` module. Sequential color scales are appropriate for most continuous data, but in some cases it can be helpful to use a diverging or cyclical color scale (see below).\n",
    "\n",
    "Here are all the built-in scales in the `plotly.colors.sequential` module:"
   ]
  },
  {
   "cell_type": "code",
   "execution_count": null,
   "id": "8f49444a",
   "metadata": {},
   "outputs": [],
   "source": [
    "import plotly.express as px\n",
    "\n",
    "fig = px.colors.sequential.swatches_continuous()\n",
    "fig.show()"
   ]
  },
  {
   "cell_type": "markdown",
   "id": "0912f7e6",
   "metadata": {},
   "source": [
    "Note: `RdBu` was included in the `sequential` module by mistake, even though it is a diverging color scale.\n",
    "It is intentionally left in for backwards-compatibility reasons.\n",
    "\n",
    "### Built-In Diverging Color scales\n",
    "\n",
    "A collection of predefined diverging color scales is provided in the `plotly.colors.diverging` module.\n",
    "Diverging color scales are appropriate for continuous data that has a natural midpoint\n",
    "other otherwise informative special value, such as 0 altitude, or the boiling point\n",
    "of a liquid. These scales are intended to be used when [explicitly setting the midpoint of the scale](/python/colorscales/#setting-the-midpoint-of-a-color-range-for-a-diverging-color-scale).\n",
    "\n",
    "Here are all the built-in scales in the `plotly.colors.diverging` module:"
   ]
  },
  {
   "cell_type": "code",
   "execution_count": null,
   "id": "01c3a503",
   "metadata": {},
   "outputs": [],
   "source": [
    "import plotly.express as px\n",
    "\n",
    "fig = px.colors.diverging.swatches_continuous()\n",
    "fig.show()"
   ]
  },
  {
   "cell_type": "markdown",
   "id": "1024f702",
   "metadata": {},
   "source": [
    "### Built-In Cyclical Color scales\n",
    "\n",
    "A collection of predefined cyclical color scales is provided in the `plotly.colors.cyclical` module.\n",
    "Cyclical color scales are appropriate for continuous data that has a natural cyclical\n",
    "structure, such as temporal data (hour of day, day of week, day of year, seasons) or\n",
    "complex numbers or other phase or angular data.\n",
    "\n",
    "Here are all the built-in scales in the `plotly.colors.cyclical` module:"
   ]
  },
  {
   "cell_type": "code",
   "execution_count": null,
   "id": "f65c5415",
   "metadata": {
    "lines_to_next_cell": 2
   },
   "outputs": [],
   "source": [
    "import plotly.express as px\n",
    "\n",
    "fig = px.colors.cyclical.swatches_cyclical()\n",
    "fig.show()\n",
    "\n",
    "fig = px.colors.cyclical.swatches_continuous()\n",
    "fig.show()"
   ]
  },
  {
   "cell_type": "markdown",
   "id": "81bd1a41",
   "metadata": {},
   "source": [
    "### What About Dash?\n",
    "\n",
    "[Dash](https://dash.plot.ly/) is an open-source framework for building analytical applications, with no Javascript required, and it is tightly integrated with the Plotly graphing library.\n",
    "\n",
    "Learn about how to install Dash at https://dash.plot.ly/installation.\n",
    "\n",
    "Everywhere in this page that you see `fig.show()`, you can display the same figure in a Dash application by passing it to the `figure` argument of the [`Graph` component](https://dash.plot.ly/dash-core-components/graph) from the built-in `dash_core_components` package like this:\n",
    "\n",
    "```python\n",
    "import plotly.graph_objects as go # or plotly.express as px\n",
    "fig = go.Figure() # or any Plotly Express function e.g. px.bar(...)\n",
    "# fig.add_trace( ... )\n",
    "# fig.update_layout( ... )\n",
    "\n",
    "from dash import Dash, dcc, html\n",
    "\n",
    "app = Dash()\n",
    "app.layout = html.Div([\n",
    "    dcc.Graph(figure=fig)\n",
    "])\n",
    "\n",
    "app.run_server(debug=True, use_reloader=False)  # Turn off reloader if inside Jupyter\n",
    "```"
   ]
  }
 ],
 "metadata": {
  "jupytext": {
   "notebook_metadata_filter": "all"
  },
  "kernelspec": {
   "display_name": "Python 3",
   "language": "python",
   "name": "python3"
  },
  "language_info": {
   "codemirror_mode": {
    "name": "ipython",
    "version": 3
   },
   "file_extension": ".py",
   "mimetype": "text/x-python",
   "name": "python",
   "nbconvert_exporter": "python",
   "pygments_lexer": "ipython3",
   "version": "3.8.8"
  },
  "plotly": {
   "description": "A reference for the built-in named continuous (sequential, diverging and cyclical) color scales in Plotly.",
   "display_as": "file_settings",
   "has_thumbnail": true,
   "ipynb": "~notebook_demo/187",
   "language": "python",
   "layout": "base",
   "name": "Built-in Continuous Color Scales",
   "order": 28,
   "permalink": "python/builtin-colorscales/",
   "thumbnail": "thumbnail/heatmap_colorscale.jpg",
   "v4upgrade": true
  }
 },
 "nbformat": 4,
 "nbformat_minor": 5
}
