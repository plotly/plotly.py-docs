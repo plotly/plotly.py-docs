{
 "cells": [
  {
   "cell_type": "markdown",
   "id": "043ac52c",
   "metadata": {},
   "source": [
    "#### Basic Bullet Charts\n",
    "Stephen Few's Bullet Chart was invented to replace dashboard [gauges](https://plotly.com/python/gauge-charts/) and meters, combining both types of charts into simple bar charts with qualitative bars (steps), quantitative bar (bar) and performance line (threshold); all into one simple layout.\n",
    "  Steps typically are broken into several values, which are defined with an array. The bar represent the actual value that a particular variable reached, and the threshold usually indicate a goal point relative to the value achieved by the bar. See [indicator page](https://plotly.com/python/gauge-charts/) for more detail."
   ]
  },
  {
   "cell_type": "code",
   "execution_count": null,
   "id": "e31181b1",
   "metadata": {},
   "outputs": [],
   "source": [
    "import plotly.graph_objects as go\n",
    "\n",
    "fig = go.Figure(go.Indicator(\n",
    "    mode = \"number+gauge+delta\",\n",
    "    gauge = {'shape': \"bullet\"},\n",
    "    value = 220,\n",
    "    delta = {'reference': 300},\n",
    "    domain = {'x': [0, 1], 'y': [0, 1]},\n",
    "    title = {'text': \"Profit\"}))\n",
    "fig.update_layout(height = 250)\n",
    "\n",
    "fig.show()"
   ]
  },
  {
   "cell_type": "markdown",
   "id": "63a1907d",
   "metadata": {},
   "source": [
    "#### Add Steps, and Threshold\n",
    "Below is the same example using \"steps\" attribute, which is shown as shading, and \"threshold\" to determine boundaries that visually alert you if the value cross a defined threshold."
   ]
  },
  {
   "cell_type": "code",
   "execution_count": null,
   "id": "8d38f790",
   "metadata": {},
   "outputs": [],
   "source": [
    "import plotly.graph_objects as go\n",
    "\n",
    "fig = go.Figure(go.Indicator(\n",
    "    mode = \"number+gauge+delta\", value = 220,\n",
    "    domain = {'x': [0.1, 1], 'y': [0, 1]},\n",
    "    title = {'text' :\"<b>Profit</b>\"},\n",
    "    delta = {'reference': 200},\n",
    "    gauge = {\n",
    "        'shape': \"bullet\",\n",
    "        'axis': {'range': [None, 300]},\n",
    "        'threshold': {\n",
    "            'line': {'color': \"red\", 'width': 2},\n",
    "            'thickness': 0.75,\n",
    "            'value': 280},\n",
    "        'steps': [\n",
    "            {'range': [0, 150], 'color': \"lightgray\"},\n",
    "            {'range': [150, 250], 'color': \"gray\"}]}))\n",
    "fig.update_layout(height = 250)\n",
    "fig.show()"
   ]
  },
  {
   "cell_type": "markdown",
   "id": "616f7088",
   "metadata": {},
   "source": [
    "#### Custom Bullet\n",
    "The following example shows how to customize your charts. For more information about all possible options check our [reference page](https://plotly.com/python/reference/indicator/)."
   ]
  },
  {
   "cell_type": "code",
   "execution_count": null,
   "id": "3dd7811a",
   "metadata": {},
   "outputs": [],
   "source": [
    "import plotly.graph_objects as go\n",
    "\n",
    "fig = go.Figure(go.Indicator(\n",
    "    mode = \"number+gauge+delta\", value = 220,\n",
    "    domain = {'x': [0, 1], 'y': [0, 1]},\n",
    "    delta = {'reference': 280, 'position': \"top\"},\n",
    "    title = {'text':\"<b>Profit</b><br><span style='color: gray; font-size:0.8em'>U.S. $</span>\", 'font': {\"size\": 14}},\n",
    "    gauge = {\n",
    "        'shape': \"bullet\",\n",
    "        'axis': {'range': [None, 300]},\n",
    "        'threshold': {\n",
    "            'line': {'color': \"red\", 'width': 2},\n",
    "            'thickness': 0.75, 'value': 270},\n",
    "        'bgcolor': \"white\",\n",
    "        'steps': [\n",
    "            {'range': [0, 150], 'color': \"cyan\"},\n",
    "            {'range': [150, 250], 'color': \"royalblue\"}],\n",
    "        'bar': {'color': \"darkblue\"}}))\n",
    "fig.update_layout(height = 250)\n",
    "fig.show()"
   ]
  },
  {
   "cell_type": "markdown",
   "id": "aaf02549",
   "metadata": {},
   "source": [
    "#### Multi Bullet\n",
    "Bullet charts can be stacked for comparing several values at once as illustrated below:"
   ]
  },
  {
   "cell_type": "code",
   "execution_count": null,
   "id": "e31c680f",
   "metadata": {},
   "outputs": [],
   "source": [
    "import plotly.graph_objects as go\n",
    "\n",
    "fig = go.Figure()\n",
    "\n",
    "fig.add_trace(go.Indicator(\n",
    "    mode = \"number+gauge+delta\", value = 180,\n",
    "    delta = {'reference': 200},\n",
    "    domain = {'x': [0.25, 1], 'y': [0.08, 0.25]},\n",
    "    title = {'text': \"Revenue\"},\n",
    "    gauge = {\n",
    "        'shape': \"bullet\",\n",
    "        'axis': {'range': [None, 300]},\n",
    "        'threshold': {\n",
    "            'line': {'color': \"black\", 'width': 2},\n",
    "            'thickness': 0.75,\n",
    "            'value': 170},\n",
    "        'steps': [\n",
    "            {'range': [0, 150], 'color': \"gray\"},\n",
    "            {'range': [150, 250], 'color': \"lightgray\"}],\n",
    "        'bar': {'color': \"black\"}}))\n",
    "\n",
    "fig.add_trace(go.Indicator(\n",
    "    mode = \"number+gauge+delta\", value = 35,\n",
    "    delta = {'reference': 200},\n",
    "    domain = {'x': [0.25, 1], 'y': [0.4, 0.6]},\n",
    "    title = {'text': \"Profit\"},\n",
    "    gauge = {\n",
    "        'shape': \"bullet\",\n",
    "        'axis': {'range': [None, 100]},\n",
    "        'threshold': {\n",
    "            'line': {'color': \"black\", 'width': 2},\n",
    "            'thickness': 0.75,\n",
    "            'value': 50},\n",
    "        'steps': [\n",
    "            {'range': [0, 25], 'color': \"gray\"},\n",
    "            {'range': [25, 75], 'color': \"lightgray\"}],\n",
    "        'bar': {'color': \"black\"}}))\n",
    "\n",
    "fig.add_trace(go.Indicator(\n",
    "    mode = \"number+gauge+delta\", value = 220,\n",
    "    delta = {'reference': 200},\n",
    "    domain = {'x': [0.25, 1], 'y': [0.7, 0.9]},\n",
    "    title = {'text' :\"Satisfaction\"},\n",
    "    gauge = {\n",
    "        'shape': \"bullet\",\n",
    "        'axis': {'range': [None, 300]},\n",
    "        'threshold': {\n",
    "            'line': {'color': \"black\", 'width': 2},\n",
    "            'thickness': 0.75,\n",
    "            'value': 210},\n",
    "        'steps': [\n",
    "            {'range': [0, 150], 'color': \"gray\"},\n",
    "            {'range': [150, 250], 'color': \"lightgray\"}],\n",
    "        'bar': {'color': \"black\"}}))\n",
    "fig.update_layout(height = 400 , margin = {'t':0, 'b':0, 'l':0})\n",
    "\n",
    "fig.show()"
   ]
  },
  {
   "cell_type": "markdown",
   "id": "475ca744",
   "metadata": {},
   "source": [
    "#### Reference\n",
    "See https://plotly.com/python/reference/indicator/ for more information and chart attribute options!"
   ]
  },
  {
   "cell_type": "code",
   "execution_count": null,
   "id": "f5ed5628",
   "metadata": {},
   "outputs": [],
   "source": []
  },
  {
   "cell_type": "markdown",
   "id": "ce0dde9c",
   "metadata": {},
   "source": [
    "### What About Dash?\n",
    "\n",
    "[Dash](https://dash.plot.ly/) is an open-source framework for building analytical applications, with no Javascript required, and it is tightly integrated with the Plotly graphing library.\n",
    "\n",
    "Learn about how to install Dash at https://dash.plot.ly/installation.\n",
    "\n",
    "Everywhere in this page that you see `fig.show()`, you can display the same figure in a Dash application by passing it to the `figure` argument of the [`Graph` component](https://dash.plot.ly/dash-core-components/graph) from the built-in `dash_core_components` package like this:\n",
    "\n",
    "```python\n",
    "import plotly.graph_objects as go # or plotly.express as px\n",
    "fig = go.Figure() # or any Plotly Express function e.g. px.bar(...)\n",
    "# fig.add_trace( ... )\n",
    "# fig.update_layout( ... )\n",
    "\n",
    "from dash import Dash, dcc, html\n",
    "\n",
    "app = Dash()\n",
    "app.layout = html.Div([\n",
    "    dcc.Graph(figure=fig)\n",
    "])\n",
    "\n",
    "app.run_server(debug=True, use_reloader=False)  # Turn off reloader if inside Jupyter\n",
    "```"
   ]
  }
 ],
 "metadata": {
  "jupytext": {
   "notebook_metadata_filter": "all"
  },
  "kernelspec": {
   "display_name": "Python 3",
   "language": "python",
   "name": "python3"
  },
  "language_info": {
   "codemirror_mode": {
    "name": "ipython",
    "version": 3
   },
   "file_extension": ".py",
   "mimetype": "text/x-python",
   "name": "python",
   "nbconvert_exporter": "python",
   "pygments_lexer": "ipython3",
   "version": "3.7.3"
  },
  "plotly": {
   "description": "How to make bullet charts in Python with Plotly.",
   "display_as": "financial",
   "language": "python",
   "layout": "base",
   "name": "Bullet Charts",
   "order": 8,
   "page_type": "u-guide",
   "permalink": "python/bullet-charts/",
   "thumbnail": "thumbnail/bullet.png"
  }
 },
 "nbformat": 4,
 "nbformat_minor": 5
}
