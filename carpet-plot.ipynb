{
 "cells": [
  {
   "cell_type": "markdown",
   "id": "7d1c5067",
   "metadata": {},
   "source": [
    "### Set X and Y Coordinates\n",
    "\n",
    "\n",
    "To set the `x` and `y` coordinates use `x` and `y` attributes. If `x` coordinate values are omitted a cheater plot will be created. The plot below has a `y` array specified but requires `a` and `b` parameter values before an axis may be plotted."
   ]
  },
  {
   "cell_type": "code",
   "execution_count": null,
   "id": "306c29f4",
   "metadata": {},
   "outputs": [],
   "source": [
    "import plotly.graph_objects as go\n",
    "\n",
    "fig = go.Figure(go.Carpet(\n",
    "    y = [2, 3.5, 4, 3, 4.5, 5, 5.5, 6.5, 7.5, 8, 8.5, 10]\n",
    "))\n",
    "\n",
    "fig.show()"
   ]
  },
  {
   "cell_type": "markdown",
   "id": "6b8552e3",
   "metadata": {},
   "source": [
    "### Add Parameter Values\n",
    "\n",
    "To save parameter values use the `a` and `b` attributes."
   ]
  },
  {
   "cell_type": "code",
   "execution_count": null,
   "id": "35873dd0",
   "metadata": {
    "inputHidden": false,
    "outputHidden": false
   },
   "outputs": [],
   "source": [
    "import plotly.graph_objects as go\n",
    "\n",
    "fig = go.Figure(go.Carpet(\n",
    "    a = [4, 4, 4, 4.5, 4.5, 4.5, 5, 5, 5, 6, 6, 6],\n",
    "    b = [1, 2, 3, 1, 2, 3, 1, 2, 3, 1, 2, 3],\n",
    "    y = [2, 3.5, 4, 3, 4.5, 5, 5.5, 6.5, 7.5, 8, 8.5, 10]\n",
    "))\n",
    "\n",
    "fig.show()"
   ]
  },
  {
   "cell_type": "markdown",
   "id": "d93d3522",
   "metadata": {},
   "source": [
    "### Add A and B axis\n",
    "\n",
    "Use `aaxis` or `baxis` list to make changes to the axes. For a more detailed list of attributes refer to [R reference](https://plotly.com/r/reference/carpet/#carpet-aaxis)."
   ]
  },
  {
   "cell_type": "code",
   "execution_count": null,
   "id": "a02d15d0",
   "metadata": {
    "inputHidden": false,
    "outputHidden": false
   },
   "outputs": [],
   "source": [
    "import plotly.graph_objects as go\n",
    "\n",
    "fig = go.Figure(go.Carpet(\n",
    "    a = [4, 4, 4, 4.5, 4.5, 4.5, 5, 5, 5, 6, 6, 6],\n",
    "    b = [1, 2, 3, 1, 2, 3, 1, 2, 3, 1, 2, 3],\n",
    "    y = [2, 3.5, 4, 3, 4.5, 5, 5.5, 6.5, 7.5, 8, 8.5, 10],\n",
    "    aaxis = dict(\n",
    "        tickprefix = 'a = ',\n",
    "        ticksuffix = 'm',\n",
    "        smoothing = 1,\n",
    "        minorgridcount = 9,\n",
    "    ),\n",
    "    baxis = dict(\n",
    "        tickprefix = 'b = ',\n",
    "        ticksuffix = 'pa',\n",
    "        smoothing = 1,\n",
    "        minorgridcount = 9,\n",
    "    )\n",
    "))\n",
    "\n",
    "fig.show()"
   ]
  },
  {
   "cell_type": "markdown",
   "id": "7c2d11c9",
   "metadata": {},
   "source": [
    "### Alternate input format\n",
    "\n",
    "The data arrays `x`, `y` may either be specified as one-dimensional arrays of data or as arrays of arrays. If one-dimensional, then `x`, `y`, `a`, and `b` should all be the same length. If `x` and `y` are arrays of arrays, then the length of `a` should match the inner dimension and the length of `b` the outer dimension. The plot below represents the same plot as those above."
   ]
  },
  {
   "cell_type": "code",
   "execution_count": null,
   "id": "8e1eedd8",
   "metadata": {},
   "outputs": [],
   "source": [
    "import plotly.graph_objects as go\n",
    "\n",
    "fig = go.Figure(go.Carpet(\n",
    "    a = [4, 4.5, 5, 6],\n",
    "    b = [1, 2, 3],\n",
    "    y = [[2, 3, 5.5, 8],\n",
    "         [3.5, 4.5, 6.5, 8.5],\n",
    "         [4, 5, 7.5, 10]]\n",
    "))\n",
    "\n",
    "fig.show()"
   ]
  },
  {
   "cell_type": "markdown",
   "id": "30564628",
   "metadata": {},
   "source": [
    "### Cheater plot layout"
   ]
  },
  {
   "cell_type": "markdown",
   "id": "0bf80e3d",
   "metadata": {},
   "source": [
    "The layout of cheater plots is not unique and depends upon the `cheaterslope` and axis `cheatertype` parameters. If `x` is not specified, each row of the `x` array is constructed based on the the formula `a + cheaterslope * b`, where `a` and `b` are either the value or the integer index of `a` and `b` respectively, depending on the corresponding axis `cheatertype`. Although the layout of the axis below is different than the plots above, it represents the same data as the axes above."
   ]
  },
  {
   "cell_type": "code",
   "execution_count": null,
   "id": "84ab0476",
   "metadata": {},
   "outputs": [],
   "source": [
    "import plotly.graph_objects as go\n",
    "\n",
    "fig = go.Figure(go.Carpet(\n",
    "    a = [4, 4.5, 5, 6],\n",
    "    b = [1, 2, 3],\n",
    "    y = [[2, 3, 5.5, 8],\n",
    "         [3.5, 4.5, 6.5, 8.5],\n",
    "         [4, 5, 7.5, 10]],\n",
    "    cheaterslope = -5,\n",
    "    aaxis = dict(cheatertype = 'index'),\n",
    "    baxis = dict(cheatertype = 'value')\n",
    "))\n",
    "\n",
    "fig.show()"
   ]
  },
  {
   "cell_type": "markdown",
   "id": "d19f26da",
   "metadata": {},
   "source": [
    "### Style A and B axis"
   ]
  },
  {
   "cell_type": "code",
   "execution_count": null,
   "id": "0549e656",
   "metadata": {
    "inputHidden": false,
    "outputHidden": false
   },
   "outputs": [],
   "source": [
    "import plotly.graph_objects as go\n",
    "\n",
    "fig = go.Figure(go.Carpet(\n",
    "    a = [4, 4, 4, 4.5, 4.5, 4.5, 5, 5, 5, 6, 6, 6],\n",
    "    b = [1, 2, 3, 1, 2, 3, 1, 2, 3, 1, 2, 3],\n",
    "    y = [2, 3.5, 4, 3, 4.5, 5, 5.5, 6.5, 7.5, 8, 8.5, 10],\n",
    "    aaxis = dict(\n",
    "        tickprefix = 'a = ',\n",
    "        ticksuffix = 'm',\n",
    "        smoothing = 1,\n",
    "        minorgridcount = 9,\n",
    "        minorgridwidth = 0.6,\n",
    "        minorgridcolor = 'white',\n",
    "        gridcolor = 'white',\n",
    "        color = 'white'\n",
    "    ),\n",
    "    baxis = dict(\n",
    "        ticksuffix = 'Pa',\n",
    "        smoothing = 1,\n",
    "        minorgridcount = 9,\n",
    "        minorgridwidth = 0.6,\n",
    "        gridcolor = 'white',\n",
    "        minorgridcolor = 'white',\n",
    "        color = 'white'\n",
    "    )\n",
    "))\n",
    "\n",
    "fig.update_layout(\n",
    "    plot_bgcolor = 'black',\n",
    "    paper_bgcolor = 'black',\n",
    "    xaxis = dict(\n",
    "        showgrid = False,\n",
    "        showticklabels = False\n",
    "    ),\n",
    "    yaxis = dict(\n",
    "        showgrid = False,\n",
    "        showticklabels = False\n",
    "    )\n",
    ")\n",
    "\n",
    "fig.show()"
   ]
  },
  {
   "cell_type": "markdown",
   "id": "2d1b1c9f",
   "metadata": {},
   "source": [
    "### Add Points and Contours\n",
    "\n",
    "To add points and lines see [Carpet Scatter Plots](https://plotly.com/python/carpet-scatter) or to add contours see [Carpet Contour Plots](https://plotly.com/python/carpet-contour)"
   ]
  },
  {
   "cell_type": "markdown",
   "id": "6d01d206",
   "metadata": {},
   "source": [
    "### Reference\n",
    "\n",
    "See https://plotly.com/python/reference/carpet/ for more information and chart attribute options!\n"
   ]
  },
  {
   "cell_type": "markdown",
   "id": "2873c3ab",
   "metadata": {},
   "source": [
    "### What About Dash?\n",
    "\n",
    "[Dash](https://dash.plot.ly/) is an open-source framework for building analytical applications, with no Javascript required, and it is tightly integrated with the Plotly graphing library.\n",
    "\n",
    "Learn about how to install Dash at https://dash.plot.ly/installation.\n",
    "\n",
    "Everywhere in this page that you see `fig.show()`, you can display the same figure in a Dash application by passing it to the `figure` argument of the [`Graph` component](https://dash.plot.ly/dash-core-components/graph) from the built-in `dash_core_components` package like this:\n",
    "\n",
    "```python\n",
    "import plotly.graph_objects as go # or plotly.express as px\n",
    "fig = go.Figure() # or any Plotly Express function e.g. px.bar(...)\n",
    "# fig.add_trace( ... )\n",
    "# fig.update_layout( ... )\n",
    "\n",
    "from dash import Dash, dcc, html\n",
    "\n",
    "app = Dash()\n",
    "app.layout = html.Div([\n",
    "    dcc.Graph(figure=fig)\n",
    "])\n",
    "\n",
    "app.run_server(debug=True, use_reloader=False)  # Turn off reloader if inside Jupyter\n",
    "```"
   ]
  }
 ],
 "metadata": {
  "jupytext": {
   "notebook_metadata_filter": "all"
  },
  "kernel_info": {
   "name": "python3"
  },
  "kernelspec": {
   "display_name": "Python 3",
   "language": "python",
   "name": "python3"
  },
  "language_info": {
   "codemirror_mode": {
    "name": "ipython",
    "version": 3
   },
   "file_extension": ".py",
   "mimetype": "text/x-python",
   "name": "python",
   "nbconvert_exporter": "python",
   "pygments_lexer": "ipython3",
   "version": "3.6.8"
  },
  "plotly": {
   "description": "How to make carpet plots in Python with Plotly.",
   "display_as": "scientific",
   "language": "python",
   "layout": "base",
   "name": "Carpet Plots",
   "order": 13,
   "page_type": "u-guide",
   "permalink": "python/carpet-plot/",
   "thumbnail": "thumbnail/carpet.jpg"
  }
 },
 "nbformat": 4,
 "nbformat_minor": 5
}
