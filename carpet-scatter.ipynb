{
 "cells": [
  {
   "cell_type": "markdown",
   "id": "d8a7da50",
   "metadata": {},
   "source": [
    "### Basic Carpet Plot"
   ]
  },
  {
   "cell_type": "code",
   "execution_count": null,
   "id": "8ec0a7f4",
   "metadata": {
    "inputHidden": false,
    "outputHidden": false
   },
   "outputs": [],
   "source": [
    "import plotly.graph_objects as go\n",
    "\n",
    "fig = go.Figure(go.Carpet(\n",
    "    a = [4, 4, 4, 4.5, 4.5, 4.5, 5, 5, 5, 6, 6, 6],\n",
    "    b = [1, 2, 3, 1, 2, 3, 1, 2, 3, 1, 2, 3],\n",
    "    y = [2, 3.5, 4, 3, 4.5, 5, 5.5, 6.5, 7.5, 8, 8.5, 10],\n",
    "    aaxis = dict(\n",
    "      tickprefix = 'a = ',\n",
    "      ticksuffix = 'm',\n",
    "      smoothing = 1,\n",
    "      minorgridcount = 9\n",
    "      ),\n",
    "    baxis = dict(\n",
    "      tickprefix = 'b = ',\n",
    "      ticksuffix = 'Pa',\n",
    "      smoothing = 1,\n",
    "      minorgridcount = 9\n",
    "      )\n",
    "))\n",
    "\n",
    "fig.show()"
   ]
  },
  {
   "cell_type": "markdown",
   "id": "b3a8b01e",
   "metadata": {},
   "source": [
    "### Add Carpet Scatter Trace"
   ]
  },
  {
   "cell_type": "code",
   "execution_count": null,
   "id": "2735f288",
   "metadata": {
    "inputHidden": false,
    "outputHidden": false
   },
   "outputs": [],
   "source": [
    "import plotly.graph_objects as go\n",
    "\n",
    "fig = go.Figure()\n",
    "\n",
    "fig.add_trace(go.Carpet(\n",
    "    a = [4, 4, 4, 4.5, 4.5, 4.5, 5, 5, 5, 6, 6, 6],\n",
    "    b = [1, 2, 3, 1, 2, 3, 1, 2, 3, 1, 2, 3],\n",
    "    y = [2, 3.5, 4, 3, 4.5, 5, 5.5, 6.5, 7.5, 8, 8.5, 10],\n",
    "    aaxis = dict(\n",
    "      tickprefix = 'a = ',\n",
    "      ticksuffix = 'm',\n",
    "      smoothing = 1,\n",
    "      minorgridcount = 9\n",
    "      ),\n",
    "    baxis = dict(\n",
    "      tickprefix = 'b = ',\n",
    "      ticksuffix = 'Pa',\n",
    "      smoothing = 1,\n",
    "      minorgridcount = 9\n",
    "      )\n",
    "))\n",
    "\n",
    "fig.add_trace(go.Scattercarpet(\n",
    "    a = [4, 4.5, 5, 6],\n",
    "    b = [2.5, 2.5, 2.5, 2.5],\n",
    "    line = dict(\n",
    "      shape = 'spline',\n",
    "      smoothing = 1,\n",
    "      color = 'blue'\n",
    "    )\n",
    "))\n",
    "\n",
    "fig.show()"
   ]
  },
  {
   "cell_type": "markdown",
   "id": "4dbbb3a2",
   "metadata": {},
   "source": [
    "### Add Multiple Scatter Traces"
   ]
  },
  {
   "cell_type": "code",
   "execution_count": null,
   "id": "4be04726",
   "metadata": {
    "inputHidden": false,
    "outputHidden": false
   },
   "outputs": [],
   "source": [
    "import plotly.graph_objects as go\n",
    "\n",
    "fig = go.Figure()\n",
    "\n",
    "fig.add_trace(go.Carpet(\n",
    "    a = [0.1,0.2,0.3],\n",
    "    b = [1,2,3],\n",
    "    y = [[1,2.2,3],[1.5,2.7,3.5],[1.7,2.9,3.7]],\n",
    "    cheaterslope = 1,\n",
    "    aaxis = dict(\n",
    "        title = \"a\",\n",
    "        tickmode = \"linear\",\n",
    "        dtick = 0.05\n",
    "    ),\n",
    "    baxis = dict(\n",
    "        title = \"b\",\n",
    "        tickmode = \"linear\",\n",
    "        dtick = 0.05\n",
    "    )\n",
    "))\n",
    "\n",
    "fig.add_trace(go.Scattercarpet(\n",
    "    name = \"b = 1.5\",\n",
    "    a = [0.05, 0.15, 0.25, 0.35],\n",
    "    b = [1.5, 1.5, 1.5, 1.5]\n",
    "))\n",
    "\n",
    "fig.add_trace(go.Scattercarpet(\n",
    "    name = \"b = 2\",\n",
    "    a = [0.05, 0.15, 0.25, 0.35],\n",
    "    b = [2, 2, 2, 2]\n",
    "))\n",
    "\n",
    "fig.add_trace(go.Scattercarpet(\n",
    "    name = \"b = 2.5\",\n",
    "    a = [0.05, 0.15, 0.25, 0.35],\n",
    "    b = [2.5, 2.5, 2.5, 2.5]\n",
    "))\n",
    "\n",
    "fig.add_trace(go.Scattercarpet(\n",
    "    name = \"a = 0.15\",\n",
    "    a = [0.15, 0.15, 0.15, 0.15],\n",
    "    b = [0.5, 1.5, 2.5, 3.5],\n",
    "    line = dict(\n",
    "        smoothing = 1,\n",
    "        shape = \"spline\"\n",
    "    )\n",
    "))\n",
    "\n",
    "fig.add_trace(go.Scattercarpet(\n",
    "    name = \"a = 0.2\",\n",
    "    a = [0.2, 0.2, 0.2, 0.2],\n",
    "    b = [0.5, 1.5, 2.5, 3.5],\n",
    "    line = dict(\n",
    "        smoothing = 1,\n",
    "        shape = \"spline\"\n",
    "    ),\n",
    "      marker = dict(\n",
    "        size = [10, 20, 30, 40],\n",
    "        color = [\"#000\", \"#f00\", \"#ff0\", \"#fff\"]\n",
    "      )\n",
    "))\n",
    "\n",
    "fig.add_trace(go.Scattercarpet(\n",
    "    name = \"a = 0.25\",\n",
    "    a = [0.25, 0.25, 0.25, 0.25],\n",
    "    b = [0.5, 1.5, 2.5, 3.5],\n",
    "    line = dict(\n",
    "        smoothing = 1,\n",
    "        shape = \"spline\"\n",
    "    )\n",
    "))\n",
    "\n",
    "fig.update_layout(\n",
    "    title = \"scattercarpet extrapolation, clipping, and smoothing\",\n",
    "    hovermode = \"closest\"\n",
    ")\n",
    "\n",
    "fig.show()"
   ]
  },
  {
   "cell_type": "markdown",
   "id": "8bc6fe51",
   "metadata": {},
   "source": [
    "### Reference"
   ]
  },
  {
   "cell_type": "markdown",
   "id": "48043316",
   "metadata": {},
   "source": [
    "See https://plotly.com/python/reference/scattercarpet/ for more information and chart attribute options!"
   ]
  },
  {
   "cell_type": "markdown",
   "id": "e6b955a1",
   "metadata": {},
   "source": [
    "### What About Dash?\n",
    "\n",
    "[Dash](https://dash.plot.ly/) is an open-source framework for building analytical applications, with no Javascript required, and it is tightly integrated with the Plotly graphing library.\n",
    "\n",
    "Learn about how to install Dash at https://dash.plot.ly/installation.\n",
    "\n",
    "Everywhere in this page that you see `fig.show()`, you can display the same figure in a Dash application by passing it to the `figure` argument of the [`Graph` component](https://dash.plot.ly/dash-core-components/graph) from the built-in `dash_core_components` package like this:\n",
    "\n",
    "```python\n",
    "import plotly.graph_objects as go # or plotly.express as px\n",
    "fig = go.Figure() # or any Plotly Express function e.g. px.bar(...)\n",
    "# fig.add_trace( ... )\n",
    "# fig.update_layout( ... )\n",
    "\n",
    "from dash import Dash, dcc, html\n",
    "\n",
    "app = Dash()\n",
    "app.layout = html.Div([\n",
    "    dcc.Graph(figure=fig)\n",
    "])\n",
    "\n",
    "app.run_server(debug=True, use_reloader=False)  # Turn off reloader if inside Jupyter\n",
    "```"
   ]
  }
 ],
 "metadata": {
  "jupytext": {
   "notebook_metadata_filter": "all"
  },
  "kernel_info": {
   "name": "python3"
  },
  "kernelspec": {
   "display_name": "Python 3",
   "language": "python",
   "name": "python3"
  },
  "language_info": {
   "codemirror_mode": {
    "name": "ipython",
    "version": 3
   },
   "file_extension": ".py",
   "mimetype": "text/x-python",
   "name": "python",
   "nbconvert_exporter": "python",
   "pygments_lexer": "ipython3",
   "version": "3.6.8"
  },
  "plotly": {
   "description": "How to make carpet scatter plots in Python with Plotly.",
   "display_as": "scientific",
   "language": "python",
   "layout": "base",
   "name": "Carpet Scatter Plot",
   "order": 15,
   "page_type": "u-guide",
   "permalink": "python/carpet-scatter/",
   "thumbnail": "thumbnail/scattercarpet.jpg"
  }
 },
 "nbformat": 4,
 "nbformat_minor": 5
}
