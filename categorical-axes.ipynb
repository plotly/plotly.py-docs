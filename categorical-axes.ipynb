{
 "cells": [
  {
   "cell_type": "markdown",
   "id": "cc44719f",
   "metadata": {},
   "source": [
    "\n",
    "This page shows examples of how to configure [2-dimensional Cartesian axes](/python/figure-structure/#2d-cartesian-trace-types-and-subplots) to visualize categorical (i.e. qualitative, nominal or ordinal data as opposed to continuous numerical data). Such axes are a natural fit for bar charts, waterfall charts, funnel charts, heatmaps, violin charts and box plots, but can also be used with scatter plots and line charts. [Configuring gridlines, ticks, tick labels and axis titles](/python/axes/) on logarithmic axes is done the same was as with [linear axes](/python/axes/).\n",
    "\n",
    "### 2-D Cartesian Axis Type and Auto-Detection\n",
    "\n",
    "The different types of Cartesian axes are configured via the `xaxis.type` or `yaxis.type` attribute, which can take on the following values:\n",
    "\n",
    "- `'linear'` (see the [linear axes tutorial](/python/axes/))\n",
    "- `'log'` (see the [log plot tutorial](/python/log-plot/))\n",
    "- `'date'` (see the [tutorial on timeseries](/python/time-series/))\n",
    "- `'category'` see below\n",
    "- `'multicategory'` see below\n",
    "\n",
    "The axis type is auto-detected by looking at data from the first [trace](/python/figure-structure/) linked to this axis:\n",
    "\n",
    "* First check for `multicategory`, then `date`, then `category`, else default to `linear` (`log` is never automatically selected)\n",
    "* `multicategory` is just a shape test: is the array nested?\n",
    "* `date` and `category`: require **more than twice as many distinct date or category strings as distinct numbers** in order to choose that axis type.\n",
    "\t* Both of these test an evenly-spaced sample of at most 1000 values\n",
    "\n",
    "### Forcing an axis to be categorical\n",
    "\n",
    "It is possible to force the axis type by setting explicitly `xaxis_type`. In the example below the automatic X axis type would be `linear` (because there are not more than twice as many unique strings as unique numbers) but we force it to be `category`."
   ]
  },
  {
   "cell_type": "code",
   "execution_count": null,
   "id": "fd71e50f",
   "metadata": {},
   "outputs": [],
   "source": [
    "import plotly.express as px\n",
    "fig = px.bar(x=[\"a\", \"a\", \"b\", 3], y = [1,2,3,4])\n",
    "fig.update_xaxes(type='category')\n",
    "fig.show()"
   ]
  },
  {
   "cell_type": "markdown",
   "id": "ce01e37c",
   "metadata": {},
   "source": [
    "### Categorical Axes and Trace Types\n",
    "\n",
    "Every cartesian trace type is compatible with categorical axes, not just `bar`.\n",
    "\n",
    "Scatter plots where one axis is categorical are often known as [dot plots](https://plotly.com/python/dot-plots/)."
   ]
  },
  {
   "cell_type": "code",
   "execution_count": null,
   "id": "5dab0d48",
   "metadata": {},
   "outputs": [],
   "source": [
    "import plotly.express as px\n",
    "df = px.data.medals_long()\n",
    "\n",
    "fig = px.scatter(df, y=\"nation\", x=\"count\", color=\"medal\", symbol=\"medal\")\n",
    "fig.update_traces(marker_size=10)\n",
    "fig.show()"
   ]
  },
  {
   "cell_type": "markdown",
   "id": "c154207d",
   "metadata": {},
   "source": [
    "[Box plots]() and [violin plots]() are often shown with one categorical and one continuous axis."
   ]
  },
  {
   "cell_type": "code",
   "execution_count": null,
   "id": "e2103c67",
   "metadata": {},
   "outputs": [],
   "source": [
    "import plotly.express as px\n",
    "df = px.data.tips()\n",
    "\n",
    "fig = px.box(df, x=\"sex\", y=\"total_bill\", color=\"smoker\")\n",
    "fig.show()"
   ]
  },
  {
   "cell_type": "code",
   "execution_count": null,
   "id": "b3fac655",
   "metadata": {},
   "outputs": [],
   "source": [
    "import plotly.express as px\n",
    "df = px.data.tips()\n",
    "\n",
    "fig = px.violin(df, x=\"sex\", y=\"total_bill\", color=\"smoker\")\n",
    "fig.show()"
   ]
  },
  {
   "cell_type": "markdown",
   "id": "538e6338",
   "metadata": {},
   "source": [
    "### Controlling the Category Order with Plotly Express\n",
    "\n",
    "[Plotly Express](/python/plotly-express/) is the easy-to-use, high-level interface to Plotly, which [operates on a variety of types of data](/python/px-arguments/) and produces [easy-to-style figures](/python/styling-plotly-express/).\n",
    "\n",
    "By default, Plotly Express lays out categorical data in the order in which it appears in the underlying data. Every 2-d cartesian Plotly Express function also includes a `category_orders` keyword argument which can be used to control the order in which categorical axes are drawn, but beyond that can also control [the order in which discrete colors appear in the legend](/python/discrete-color/), and [the order in which facets are laid out](/python/facet-plots/)."
   ]
  },
  {
   "cell_type": "code",
   "execution_count": null,
   "id": "468023bc",
   "metadata": {},
   "outputs": [],
   "source": [
    "import plotly.express as px\n",
    "df = px.data.tips()\n",
    "fig = px.bar(df, x=\"day\", y=\"total_bill\", color=\"smoker\", barmode=\"group\", facet_col=\"sex\",\n",
    "             category_orders={\"day\": [\"Thur\", \"Fri\", \"Sat\", \"Sun\"],\n",
    "                              \"smoker\": [\"Yes\", \"No\"],\n",
    "                              \"sex\": [\"Male\", \"Female\"]})\n",
    "fig.show()"
   ]
  },
  {
   "cell_type": "markdown",
   "id": "b49aa905",
   "metadata": {},
   "source": [
    "### Automatically Sorting Categories by Name or Total Value\n",
    "\n",
    "Whether using Plotly Express or not, categories can be sorted alphabetically or by value using the `categoryorder` attribute:\n",
    "\n",
    "Set `categoryorder` to `\"category ascending\"` or `\"category descending\"` for the alphanumerical order of the category names or `\"total ascending\"` or `\"total descending\"` for numerical order of values. [categoryorder](https://plotly.com/python/reference/layout/xaxis/#layout-xaxis-categoryorder) for more information. Note that sorting the bars by a particular trace isn't possible right now - it's only possible to sort by the total values. Of course, you can always sort your data _before_ plotting it if you need more customization.\n",
    "\n",
    "This example orders the categories **alphabetically** with `categoryorder: 'category ascending'`"
   ]
  },
  {
   "cell_type": "code",
   "execution_count": null,
   "id": "d718b40a",
   "metadata": {},
   "outputs": [],
   "source": [
    "import plotly.graph_objects as go\n",
    "\n",
    "x=['b', 'a', 'c', 'd']\n",
    "fig = go.Figure(go.Bar(x=x, y=[2,5,1,9], name='Montreal'))\n",
    "fig.add_trace(go.Bar(x=x, y=[1, 4, 9, 16], name='Ottawa'))\n",
    "fig.add_trace(go.Bar(x=x, y=[6, 8, 4.5, 8], name='Toronto'))\n",
    "\n",
    "fig.update_layout(barmode='stack')\n",
    "fig.update_xaxes(categoryorder='category ascending')\n",
    "fig.show()"
   ]
  },
  {
   "cell_type": "markdown",
   "id": "f63a51e5",
   "metadata": {},
   "source": [
    "This example orders the categories **by total value** with `categoryorder: 'total descending'`"
   ]
  },
  {
   "cell_type": "code",
   "execution_count": null,
   "id": "490e1a09",
   "metadata": {},
   "outputs": [],
   "source": [
    "import plotly.graph_objects as go\n",
    "\n",
    "x=['b', 'a', 'c', 'd']\n",
    "fig = go.Figure(go.Bar(x=x, y=[2,5,1,9], name='Montreal'))\n",
    "fig.add_trace(go.Bar(x=x, y=[1, 4, 9, 16], name='Ottawa'))\n",
    "fig.add_trace(go.Bar(x=x, y=[6, 8, 4.5, 8], name='Toronto'))\n",
    "\n",
    "fig.update_layout(barmode='stack')\n",
    "fig.update_xaxes(categoryorder='total ascending')\n",
    "fig.show()"
   ]
  },
  {
   "cell_type": "markdown",
   "id": "96879757",
   "metadata": {},
   "source": [
    "This example shows how to control category order when using `plotly.graph_objects` by defining `categoryorder` to \"array\" to derive the ordering from the attribute `categoryarray`."
   ]
  },
  {
   "cell_type": "code",
   "execution_count": null,
   "id": "d0c3571d",
   "metadata": {
    "lines_to_next_cell": 0
   },
   "outputs": [],
   "source": [
    "import plotly.graph_objects as go\n",
    "\n",
    "x=['b', 'a', 'c', 'd']\n",
    "fig = go.Figure(go.Bar(x=x, y=[2,5,1,9], name='Montreal'))\n",
    "fig.add_trace(go.Bar(x=x, y=[1, 4, 9, 16], name='Ottawa'))\n",
    "fig.add_trace(go.Bar(x=x, y=[6, 8, 4.5, 8], name='Toronto'))\n",
    "\n",
    "fig.update_layout(barmode='stack')\n",
    "fig.update_xaxes(categoryorder='array', categoryarray= ['d','a','c','b'])\n",
    "fig.show()"
   ]
  },
  {
   "cell_type": "markdown",
   "id": "d9124453",
   "metadata": {},
   "source": [
    "### Gridlines, Ticks and Tick Labels"
   ]
  },
  {
   "cell_type": "markdown",
   "id": "a664a50e",
   "metadata": {},
   "source": [
    "By default, gridlines and ticks are not shown on categorical axes but they can be activated:"
   ]
  },
  {
   "cell_type": "code",
   "execution_count": null,
   "id": "b8819795",
   "metadata": {},
   "outputs": [],
   "source": [
    "import plotly.express as px\n",
    "\n",
    "fig = px.bar(x=[\"A\",\"B\",\"C\"], y=[1,3,2])\n",
    "fig.update_xaxes(showgrid=True, ticks=\"outside\")\n",
    "fig.show()"
   ]
  },
  {
   "cell_type": "markdown",
   "id": "658a1c2b",
   "metadata": {},
   "source": [
    "By default, ticks and gridlines appear on the categories but the `tickson` attribute can be used to move them to the category boundaries:"
   ]
  },
  {
   "cell_type": "code",
   "execution_count": null,
   "id": "e0f6c110",
   "metadata": {},
   "outputs": [],
   "source": [
    "import plotly.express as px\n",
    "\n",
    "fig = px.bar(x=[\"A\",\"B\",\"C\"], y=[1,3,2])\n",
    "fig.update_xaxes(showgrid=True, ticks=\"outside\", tickson=\"boundaries\")\n",
    "fig.show()"
   ]
  },
  {
   "cell_type": "markdown",
   "id": "02e70a34",
   "metadata": {},
   "source": [
    "### Multi-categorical Axes\n",
    "\n",
    "A two-level categorical axis (also known as grouped or hierarchical categories, or sub-categories) can be created by specifying a trace's `x` or `y` property as a 2-dimensional lists. The first sublist represents the outer categorical value while the second sublist represents the inner categorical value. This is only possible with `plotly.graph_objects` at the moment, and not Plotly Express.\n",
    "\n",
    "Passing in a two-dimensional list as the `x` or `y` value of a trace causes [the `type` of the corresponding axis](/python/axes/) to be set to `multicategory`.\n",
    "\n",
    "Here is an example that creates a figure with 2 `bar` traces with a 2-level categorical x-axis."
   ]
  },
  {
   "cell_type": "code",
   "execution_count": null,
   "id": "bfb81f6a",
   "metadata": {
    "lines_to_next_cell": 0
   },
   "outputs": [],
   "source": [
    "import plotly.graph_objects as go\n",
    "\n",
    "fig = go.Figure()\n",
    "\n",
    "fig.add_trace(go.Bar(\n",
    "  x = [['First', 'First', 'Second', 'Second'],\n",
    "       [\"A\", \"B\", \"A\", \"B\"]],\n",
    "  y = [2, 3, 1, 5],\n",
    "  name = \"Adults\",\n",
    "))\n",
    "\n",
    "fig.add_trace(go.Bar(\n",
    "  x = [['First', 'First', 'Second', 'Second'],\n",
    "       [\"A\", \"B\", \"A\", \"B\"]],\n",
    "  y = [8, 3, 6, 5],\n",
    "  name = \"Children\",\n",
    "))\n",
    "\n",
    "fig.update_layout(title_text=\"Multi-category axis\")\n",
    "\n",
    "fig.show()"
   ]
  },
  {
   "cell_type": "markdown",
   "id": "2e2ec9ea",
   "metadata": {},
   "source": [
    "### Reference\n",
    "\n",
    "See https://plotly.com/python/reference/layout/xaxis/ for more information and chart attribute options!\n"
   ]
  },
  {
   "cell_type": "markdown",
   "id": "dc262c1b",
   "metadata": {},
   "source": [
    "### What About Dash?\n",
    "\n",
    "[Dash](https://dash.plot.ly/) is an open-source framework for building analytical applications, with no Javascript required, and it is tightly integrated with the Plotly graphing library.\n",
    "\n",
    "Learn about how to install Dash at https://dash.plot.ly/installation.\n",
    "\n",
    "Everywhere in this page that you see `fig.show()`, you can display the same figure in a Dash application by passing it to the `figure` argument of the [`Graph` component](https://dash.plot.ly/dash-core-components/graph) from the built-in `dash_core_components` package like this:\n",
    "\n",
    "```python\n",
    "import plotly.graph_objects as go # or plotly.express as px\n",
    "fig = go.Figure() # or any Plotly Express function e.g. px.bar(...)\n",
    "# fig.add_trace( ... )\n",
    "# fig.update_layout( ... )\n",
    "\n",
    "from dash import Dash, dcc, html\n",
    "\n",
    "app = Dash()\n",
    "app.layout = html.Div([\n",
    "    dcc.Graph(figure=fig)\n",
    "])\n",
    "\n",
    "app.run_server(debug=True, use_reloader=False)  # Turn off reloader if inside Jupyter\n",
    "```"
   ]
  }
 ],
 "metadata": {
  "jupytext": {
   "notebook_metadata_filter": "all"
  },
  "kernelspec": {
   "display_name": "Python 3",
   "language": "python",
   "name": "python3"
  },
  "language_info": {
   "codemirror_mode": {
    "name": "ipython",
    "version": 3
   },
   "file_extension": ".py",
   "mimetype": "text/x-python",
   "name": "python",
   "nbconvert_exporter": "python",
   "pygments_lexer": "ipython3",
   "version": "3.7.7"
  },
  "plotly": {
   "description": "How to use categorical axes in Python with Plotly.",
   "display_as": "basic",
   "language": "python",
   "layout": "base",
   "name": "Categorical Axes",
   "order": 16,
   "page_type": "example_index",
   "permalink": "python/categorical-axes/",
   "thumbnail": "thumbnail/bar.jpg"
  }
 },
 "nbformat": 4,
 "nbformat_minor": 5
}
