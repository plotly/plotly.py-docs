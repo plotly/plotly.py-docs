{
 "cells": [
  {
   "cell_type": "markdown",
   "id": "e4326fdd",
   "metadata": {},
   "source": [
    "### Continuous vs Discrete Color\n",
    "\n",
    "In the same way as the X or Y position of a mark in cartesian coordinates can be used to represent continuous values (i.e. amounts or moments in time) or categories (i.e. labels), color can be used to represent continuous or categorical data. This page is about using color to represent **continuous** data, but Plotly can also [represent categorical values with color](/python/discrete-color/).\n",
    "\n",
    "### Continuous Color Concepts\n",
    "\n",
    "This document explains the following four continuous-color-related concepts:\n",
    "\n",
    "- **color scales** represent a mapping between the range 0 to 1 and some color domain within which colors are to be interpolated (unlike [discrete color sequences](/python/discrete-color/) which are never interpolated). Color scale defaults depend on the `layout.colorscales` attributes of the active [template](/python/templates/), and can be explicitly specified using the `color_continuous_scale` argument for many [Plotly Express](/python/plotly-express/) functions or the `colorscale` argument in various `graph_objects` such as `layout.coloraxis` or `marker.colorscale` in `go.Scatter` traces or `colorscale` in `go.Heatmap` traces. For example `[(0,\"blue\"), (1,\"red\")]` is a simple color scale that interpolated between blue and red via purple, which can also be implicitly represented as `[\"blue\", \"red\"]` and happens to be one of the [built-in color scales](/python/builtin-colorscales) and therefore referred to as `\"bluered\"` or `plotly.colors.sequential.Bluered`.\n",
    "- **color ranges** represent the minimum to maximum range of data to be mapped onto the 0 to 1 input range of the color scale. Color ranges default to the range of the input data and can be explicitly specified using either the `range_color` or `color_continuous_midpoint` arguments for many Plotly Express functions, or `cmin`/`cmid`/`cmax` or `zmin`/`zmid`/`zmax` for various `graph_objects` such as `layout.coloraxis.cmin` or `marker.cmin` in `go.Scatter` traces or `cmin` in `go.Heatmap` traces. For example, if a color range of `[100, 200]` is used with the color scale above, then any mark with a color value of 100 or less will be blue, and 200 or more will be red. Marks with values in between will be various shades of purple.\n",
    "- **color bars** are legend-like visible representations of the color range and color scale with optional tick labels and tick marks. Color bars can be configured with attributes inside `layout.coloraxis.colorbar` or in places like `marker.colorbar` in `go.Scatter` traces or `colorbar` in `go.Heatmap` traces.\n",
    "- **color axes** connect color scales, color ranges and color bars to a trace's data. By default, any colorable attribute in a trace is attached to its own local color axis, but color axes may also be shared across attributes and traces by setting e.g. `marker.coloraxis` in `go.Scatter` traces or `coloraxis` in `go.Heatmap` traces. Local color axis attributes are configured within traces e.g. `marker.showscale` whereas shared color axis attributes are configured within the Layout e.g. `layout.coloraxis.showscale`.\n",
    "\n",
    "### Continuous Color with Plotly Express\n",
    "\n",
    "Most [Plotly Express](/python/plotly-express/) functions accept a `color` argument which automatically assigns data values to continuous color **if the data is numeric**. If the data contains strings, the color will automatically be considered [discrete (also known as categorical or qualitative)](/python/discrete-color/). This means that numeric strings must be parsed to be used for continuous color, and conversely, numbers used as category codes must be converted to strings.\n",
    "\n",
    "For example, in the `tips` dataset, the `size` column contains numbers:"
   ]
  },
  {
   "cell_type": "code",
   "execution_count": null,
   "id": "0c305730",
   "metadata": {},
   "outputs": [],
   "source": [
    "import plotly.express as px\n",
    "df = px.data.tips()\n",
    "fig = px.scatter(df, x=\"total_bill\", y=\"tip\", color=\"size\",\n",
    "                 title=\"Numeric 'size' values mean continuous color\")\n",
    "\n",
    "fig.show()"
   ]
  },
  {
   "cell_type": "markdown",
   "id": "18666f49",
   "metadata": {},
   "source": [
    "Converting this column to strings is very straightforward:"
   ]
  },
  {
   "cell_type": "code",
   "execution_count": null,
   "id": "1269b53e",
   "metadata": {},
   "outputs": [],
   "source": [
    "import plotly.express as px\n",
    "df = px.data.tips()\n",
    "df[\"size\"] = df[\"size\"].astype(str)\n",
    "fig = px.scatter(df, x=\"total_bill\", y=\"tip\", color=\"size\",\n",
    "                 title=\"String 'size' values mean discrete colors\")\n",
    "\n",
    "fig.show()"
   ]
  },
  {
   "cell_type": "markdown",
   "id": "c48f26bf",
   "metadata": {},
   "source": [
    "If you have stringified numbers you can convert back just as easily:"
   ]
  },
  {
   "cell_type": "code",
   "execution_count": null,
   "id": "b4125b94",
   "metadata": {},
   "outputs": [],
   "source": [
    "import plotly.express as px\n",
    "df = px.data.tips()\n",
    "df[\"size\"] = df[\"size\"].astype(str)\n",
    "df[\"size\"] = df[\"size\"].astype(float)\n",
    "fig = px.scatter(df, x=\"total_bill\", y=\"tip\", color=\"size\",\n",
    "                 title=\"Numeric 'size' values mean continuous color\")\n",
    "\n",
    "fig.show()"
   ]
  },
  {
   "cell_type": "markdown",
   "id": "b93bdb47",
   "metadata": {},
   "source": [
    "### Colorscales in Dash\n",
    "\n",
    "[Dash](https://plotly.com/dash/) is the best way to build analytical apps in Python using Plotly figures. To run the app below, run `pip install dash`, click \"Download\" to get the code and run `python app.py`.\n",
    "\n",
    "Get started  with [the official Dash docs](https://dash.plotly.com/installation) and **learn how to effortlessly [style](https://plotly.com/dash/design-kit/) & [deploy](https://plotly.com/dash/app-manager/) apps like this with <a class=\"plotly-red\" href=\"https://plotly.com/dash/\">Dash Enterprise</a>.**\n"
   ]
  },
  {
   "cell_type": "code",
   "execution_count": null,
   "id": "8345368a",
   "metadata": {
    "hide_code": true
   },
   "outputs": [],
   "source": [
    "from IPython.display import IFrame\n",
    "snippet_url = 'https://python-docs-dash-snippets.herokuapp.com/python-docs-dash-snippets/'\n",
    "IFrame(snippet_url + 'colorscales', width='100%', height=1200)"
   ]
  },
  {
   "cell_type": "markdown",
   "id": "4aba96cb",
   "metadata": {},
   "source": [
    "<div style=\"font-size: 0.9em;\"><div style=\"width: calc(100% - 30px); box-shadow: none; border: thin solid rgb(229, 229, 229);\"><div style=\"padding: 5px;\"><div><p><strong>Sign up for Dash Club</strong> → Free cheat sheets plus updates from Chris Parmer and Adam Schroeder delivered to your inbox every two months. Includes tips and tricks, community apps, and deep dives into the Dash architecture.\n",
    "<u><a href=\"https://go.plotly.com/dash-club?utm_source=Dash+Club+2022&utm_medium=graphing_libraries&utm_content=inline\">Join now</a></u>.</p></div></div></div></div>"
   ]
  },
  {
   "cell_type": "markdown",
   "id": "f068debe",
   "metadata": {},
   "source": [
    "### Color Scales in Plotly Express\n",
    "\n",
    "By default, [Plotly Express](/python/plotly-express/) will use the color scale from the active [template](/python/templates/)'s `layout.colorscales.sequential` attribute, and the default active template is `plotly` which uses the `Plasma` color scale. You can choose any of the [built-in color scales](/python/builtin-colorscales/), however, or define your own.\n",
    "\n",
    "Here is an example that creates a scatter plot using Plotly Express, with points colored using the Viridis color scale."
   ]
  },
  {
   "cell_type": "code",
   "execution_count": null,
   "id": "6a31a45d",
   "metadata": {},
   "outputs": [],
   "source": [
    "import plotly.express as px\n",
    "df = px.data.iris()\n",
    "fig = px.scatter(df, x=\"sepal_width\", y=\"sepal_length\",\n",
    "                 color=\"sepal_length\", color_continuous_scale=px.colors.sequential.Viridis)\n",
    "\n",
    "fig.show()"
   ]
  },
  {
   "cell_type": "markdown",
   "id": "e457d591",
   "metadata": {},
   "source": [
    "It is also possible to specify color scales by name. Here is an example that specifies the `Inferno` color scale by name, as a string"
   ]
  },
  {
   "cell_type": "code",
   "execution_count": null,
   "id": "a5e84277",
   "metadata": {},
   "outputs": [],
   "source": [
    "import plotly.express as px\n",
    "df = px.data.iris()\n",
    "fig = px.scatter(df, x=\"sepal_width\", y=\"sepal_length\",\n",
    "                 color=\"sepal_length\", color_continuous_scale='Inferno')\n",
    "\n",
    "fig.show()"
   ]
  },
  {
   "cell_type": "markdown",
   "id": "b47d10f2",
   "metadata": {},
   "source": [
    "### Reversing a built-in color scale\n",
    "\n",
    "You can reverse a [built-in color scale](/python/builtin-colorscales/) by appending `_r` to its name, for color scales given either as a string or a `plotly` object."
   ]
  },
  {
   "cell_type": "code",
   "execution_count": null,
   "id": "b4adc3d2",
   "metadata": {},
   "outputs": [],
   "source": [
    "import plotly.express as px\n",
    "df = px.data.gapminder().query(\"year == 2007\").sort_values(by=\"lifeExp\")\n",
    "fig = px.bar(df, y=\"continent\", x=\"pop\", color=\"lifeExp\", orientation=\"h\",\n",
    "             color_continuous_scale='Bluered_r', hover_name=\"country\")\n",
    "\n",
    "fig.show()"
   ]
  },
  {
   "cell_type": "code",
   "execution_count": null,
   "id": "f01fa505",
   "metadata": {},
   "outputs": [],
   "source": [
    "import plotly.express as px\n",
    "data = [[1, .3, .5, .9],\n",
    "        [.3, .1, .4, 1],\n",
    "        [.2, .8, .9, .3]]\n",
    "fig = px.imshow(data, color_continuous_scale=px.colors.sequential.Cividis_r)\n",
    "fig.show()"
   ]
  },
  {
   "cell_type": "markdown",
   "id": "cfce47b7",
   "metadata": {},
   "source": [
    "### Explicitly Constructing a Color scale\n",
    "\n",
    "The Plotly Express `color_continuous_scale` argument accepts explicitly-constructed color scales as well:"
   ]
  },
  {
   "cell_type": "code",
   "execution_count": null,
   "id": "78678088",
   "metadata": {},
   "outputs": [],
   "source": [
    "import plotly.express as px\n",
    "df = px.data.iris()\n",
    "fig = px.scatter(df, x=\"sepal_width\", y=\"sepal_length\", color=\"sepal_length\",\n",
    "                 color_continuous_scale=[\"red\", \"green\", \"blue\"])\n",
    "\n",
    "fig.show()"
   ]
  },
  {
   "cell_type": "markdown",
   "id": "0a6b7df7",
   "metadata": {},
   "source": [
    "The example above provided a list of CSS colors to construct a scale, which inferred the reference points to be evenly spaced, but specific reference points can be provided as well. The following example has the same result:"
   ]
  },
  {
   "cell_type": "code",
   "execution_count": null,
   "id": "b9dd409d",
   "metadata": {},
   "outputs": [],
   "source": [
    "import plotly.express as px\n",
    "df = px.data.iris()\n",
    "fig = px.scatter(df, x=\"sepal_width\", y=\"sepal_length\", color=\"sepal_length\",\n",
    "                 color_continuous_scale=[(0, \"red\"), (0.5, \"green\"), (1, \"blue\")])\n",
    "\n",
    "fig.show()"
   ]
  },
  {
   "cell_type": "markdown",
   "id": "e79d021a",
   "metadata": {},
   "source": [
    "### Constructing a Discrete or Discontinuous Color Scale\n",
    "\n",
    "You can create a discrete color scale, with discontinuous color, by setting the same reference point twice in a row. This is useful for example with chart types that don't support discrete colors, like [Parallel Coordinates plots](/python/parallel-coordinates-plot/). See below for how to customize tick text."
   ]
  },
  {
   "cell_type": "code",
   "execution_count": null,
   "id": "5fd62b41",
   "metadata": {},
   "outputs": [],
   "source": [
    "import plotly.express as px\n",
    "df = px.data.iris()\n",
    "fig = px.parallel_coordinates(df, color=\"species_id\",\n",
    "                             color_continuous_scale=[(0.00, \"red\"),   (0.33, \"red\"),\n",
    "                                                     (0.33, \"green\"), (0.66, \"green\"),\n",
    "                                                     (0.66, \"blue\"),  (1.00, \"blue\")])\n",
    "fig.show()"
   ]
  },
  {
   "cell_type": "markdown",
   "id": "4d63809c",
   "metadata": {},
   "source": [
    "### Explicitly setting a Color Range\n",
    "\n",
    "When using the range of the input data as the color range is inappropriate, for example when producing many figures which must have comparable color ranges, or to clip the color range to account for outliers, the Plotly Express `range_color` argument can be used. Here we clip the top of the color range above the lower range of the data and extend it below the lower range of the data:"
   ]
  },
  {
   "cell_type": "code",
   "execution_count": null,
   "id": "0ed7edfe",
   "metadata": {},
   "outputs": [],
   "source": [
    "import plotly.express as px\n",
    "df = px.data.iris()\n",
    "fig = px.scatter(df, x=\"sepal_width\", y=\"sepal_length\", color=\"sepal_length\", range_color=[5,8])\n",
    "\n",
    "fig.show()"
   ]
  },
  {
   "cell_type": "markdown",
   "id": "888ae753",
   "metadata": {},
   "source": [
    "### Setting the Midpoint of a Color Range for a Diverging Color scale\n",
    "\n",
    "Diverging color scales have a well-defined midpoint color, and are best-used when that midpoint is mapped to a meaningful data value. The `color_continuous_midpoint` argument to most Plotly Express functions is used for this. It cannot be used with `range_color` because setting it forces the color range to be centered on the midpoint while including the entire dataset. This means that for asymmetric data distributions, not all colors in the color scale will appear in the figure.\n",
    "\n",
    "For example, a diverging color scale could be used to highlight points with a higher and lower value than the median in a choropleth map like this:"
   ]
  },
  {
   "cell_type": "code",
   "execution_count": null,
   "id": "25fd4f61",
   "metadata": {},
   "outputs": [],
   "source": [
    "import plotly.express as px\n",
    "\n",
    "df = px.data.gapminder().query(\"year == 2007\")\n",
    "avg_lifeExp = (df['lifeExp']*df['pop']).sum()/df['pop'].sum()\n",
    "\n",
    "fig = px.choropleth(df, locations=\"iso_alpha\", color=\"lifeExp\",\n",
    "                    color_continuous_scale=px.colors.diverging.BrBG,\n",
    "                    color_continuous_midpoint=avg_lifeExp,\n",
    "                    title=\"World Average Life Expectancy in 2007 in years was %.1f\" % avg_lifeExp)\n",
    "fig.show()"
   ]
  },
  {
   "cell_type": "markdown",
   "id": "b7171119",
   "metadata": {},
   "source": [
    "### Hiding or Customizing the Plotly Express Color Bar\n",
    "\n",
    "Plotly Express binds all traces to [`layout.coloraxis`](/python/reference/layout/coloraxis/), rather than using trace-specific color axes. This means that the color bar can configured there, for example it can be hidden:"
   ]
  },
  {
   "cell_type": "code",
   "execution_count": null,
   "id": "15f21582",
   "metadata": {},
   "outputs": [],
   "source": [
    "import plotly.express as px\n",
    "df = px.data.tips()\n",
    "fig = px.density_heatmap(df, x=\"total_bill\", y=\"tip\", title=\"No color bar on this density plot\")\n",
    "\n",
    "fig.update_layout(coloraxis_showscale=False)\n",
    "\n",
    "fig.show()"
   ]
  },
  {
   "cell_type": "markdown",
   "id": "db3798c1",
   "metadata": {},
   "source": [
    "You can also configure the title, size, placement and tick marks and labels on a color bar:"
   ]
  },
  {
   "cell_type": "code",
   "execution_count": null,
   "id": "c4a096fb",
   "metadata": {},
   "outputs": [],
   "source": [
    "import plotly.express as px\n",
    "df = px.data.tips()\n",
    "fig = px.density_heatmap(df, x=\"total_bill\", y=\"tip\", title=\"Customized color bar on this density plot\")\n",
    "\n",
    "fig.update_layout(coloraxis_colorbar=dict(\n",
    "    title=dict(text=\"Number of Bills per Cell\"),\n",
    "    thicknessmode=\"pixels\", thickness=50,\n",
    "    lenmode=\"pixels\", len=200,\n",
    "    yanchor=\"top\", y=1,\n",
    "    ticks=\"outside\", ticksuffix=\" bills\",\n",
    "    dtick=5\n",
    "))\n",
    "\n",
    "fig.show()"
   ]
  },
  {
   "cell_type": "markdown",
   "id": "af666645",
   "metadata": {},
   "source": [
    "### Customizing Tick Text on Discrete Color Bars\n",
    "\n",
    "This is the same example as the Parallel Coordinates plot above, with customized tick text for species:"
   ]
  },
  {
   "cell_type": "code",
   "execution_count": null,
   "id": "d5e526bf",
   "metadata": {},
   "outputs": [],
   "source": [
    "import plotly.express as px\n",
    "df = px.data.iris()\n",
    "fig = px.parallel_coordinates(df, dimensions=[\"sepal_length\", \"sepal_width\", \"petal_length\", \"petal_width\"],\n",
    "                             color=\"species_id\", range_color=[0.5, 3.5],\n",
    "                             color_continuous_scale=[(0.00, \"red\"),   (0.33, \"red\"),\n",
    "                                                     (0.33, \"green\"), (0.66, \"green\"),\n",
    "                                                     (0.66, \"blue\"),  (1.00, \"blue\")])\n",
    "\n",
    "fig.update_layout(coloraxis_colorbar=dict(\n",
    "    title=dict(text=\"Species\"),\n",
    "    tickvals=[1,2,3],\n",
    "    ticktext=[\"setosa\",\"versicolor\",\"virginica\"],\n",
    "    lenmode=\"pixels\", len=100,\n",
    "))\n",
    "fig.show()"
   ]
  },
  {
   "cell_type": "markdown",
   "id": "81927fbf",
   "metadata": {},
   "source": [
    "### Customizing Tick Text on Logarithmic Color Bars\n",
    "\n",
    "You can customize text on a logarithmic color bar to make it more readable:"
   ]
  },
  {
   "cell_type": "code",
   "execution_count": null,
   "id": "5daf5358",
   "metadata": {},
   "outputs": [],
   "source": [
    "import plotly.express as px\n",
    "import numpy as np\n",
    "\n",
    "df = px.data.gapminder().query(\"year == 2007\")\n",
    "fig = px.scatter(df, y=\"lifeExp\", x=\"pop\", color=np.log10(df[\"pop\"]), hover_name=\"country\", log_x=True)\n",
    "\n",
    "fig.update_layout(coloraxis_colorbar=dict(\n",
    "    title=dict(text=\"Population\"),\n",
    "    tickvals=[6,7,8,9],\n",
    "    ticktext=[\"1M\", \"10M\", \"100M\", \"1B\"],\n",
    "))\n",
    "fig.show()"
   ]
  },
  {
   "cell_type": "markdown",
   "id": "a6373330",
   "metadata": {},
   "source": [
    "### Using Label Aliases on Colorbars\n",
    "\n",
    "*New in 5.14*\n",
    "\n",
    "Using `labelalias` you can replace some labels on the `colorbar` with alternative values. In this example, the `colorbar` has five `tickvals`. Using `labelalias`, instead of displaying all labels as the numbers in `tickvals`, we swap out three of the labels for text."
   ]
  },
  {
   "cell_type": "code",
   "execution_count": null,
   "id": "6f4c1606",
   "metadata": {},
   "outputs": [],
   "source": [
    "import plotly.graph_objects as go\n",
    "\n",
    "import urllib.request as request\n",
    "import json\n",
    "\n",
    "# Load heatmap data\n",
    "response = request.urlopen(\n",
    "    \"https://raw.githubusercontent.com/plotly/datasets/master/custom_heatmap_colorscale.json\")\n",
    "dataset = json.load(response)\n",
    "\n",
    "# Create and show figure\n",
    "fig = go.Figure()\n",
    "\n",
    "fig.add_trace(go.Heatmap(\n",
    "    z=dataset[\"z\"],\n",
    "    colorbar=dict(\n",
    "        title=dict(\n",
    "            text=\"Surface Heat\",\n",
    "            side=\"top\",\n",
    "        ),\n",
    "        tickmode=\"array\",\n",
    "        tickvals=[2, 25, 50, 75, 100],\n",
    "        labelalias={100: \"Hot\", 50: \"Mild\", 2: \"Cold\"},\n",
    "        ticks=\"outside\"\n",
    "    )\n",
    "))\n",
    "\n",
    "fig.show()"
   ]
  },
  {
   "cell_type": "markdown",
   "id": "a5a41345",
   "metadata": {},
   "source": [
    "### Custom Discretized Heatmap Color scale with Graph Objects"
   ]
  },
  {
   "cell_type": "code",
   "execution_count": null,
   "id": "7c25fb65",
   "metadata": {},
   "outputs": [],
   "source": [
    "import plotly.graph_objects as go\n",
    "\n",
    "fig = go.Figure()\n",
    "\n",
    "fig.add_trace(go.Heatmap(\n",
    "    z=[[0, 1, 2, 3, 4, 5, 6, 7, 8, 9]],\n",
    "    colorscale=[\n",
    "        # Let first 10% (0.1) of the values have color rgb(0, 0, 0)\n",
    "        [0, \"rgb(0, 0, 0)\"],\n",
    "        [0.1, \"rgb(0, 0, 0)\"],\n",
    "\n",
    "        # Let values between 10-20% of the min and max of z\n",
    "        # have color rgb(20, 20, 20)\n",
    "        [0.1, \"rgb(20, 20, 20)\"],\n",
    "        [0.2, \"rgb(20, 20, 20)\"],\n",
    "\n",
    "        # Values between 20-30% of the min and max of z\n",
    "        # have color rgb(40, 40, 40)\n",
    "        [0.2, \"rgb(40, 40, 40)\"],\n",
    "        [0.3, \"rgb(40, 40, 40)\"],\n",
    "\n",
    "        [0.3, \"rgb(60, 60, 60)\"],\n",
    "        [0.4, \"rgb(60, 60, 60)\"],\n",
    "\n",
    "        [0.4, \"rgb(80, 80, 80)\"],\n",
    "        [0.5, \"rgb(80, 80, 80)\"],\n",
    "\n",
    "        [0.5, \"rgb(100, 100, 100)\"],\n",
    "        [0.6, \"rgb(100, 100, 100)\"],\n",
    "\n",
    "        [0.6, \"rgb(120, 120, 120)\"],\n",
    "        [0.7, \"rgb(120, 120, 120)\"],\n",
    "\n",
    "        [0.7, \"rgb(140, 140, 140)\"],\n",
    "        [0.8, \"rgb(140, 140, 140)\"],\n",
    "\n",
    "        [0.8, \"rgb(160, 160, 160)\"],\n",
    "        [0.9, \"rgb(160, 160, 160)\"],\n",
    "\n",
    "        [0.9, \"rgb(180, 180, 180)\"],\n",
    "        [1.0, \"rgb(180, 180, 180)\"]\n",
    "    ],\n",
    "    colorbar=dict(\n",
    "        tick0=0,\n",
    "        dtick=1\n",
    "    )\n",
    "))\n",
    "\n",
    "fig.show()"
   ]
  },
  {
   "cell_type": "markdown",
   "id": "7b139741",
   "metadata": {},
   "source": [
    "### Color scale for Scatter Plots with Graph Objects"
   ]
  },
  {
   "cell_type": "code",
   "execution_count": null,
   "id": "ce79666e",
   "metadata": {},
   "outputs": [],
   "source": [
    "import plotly.graph_objects as go\n",
    "\n",
    "fig = go.Figure()\n",
    "\n",
    "# Create list from 0 to 39 to use as x, y, and color\n",
    "values = list(range(40))\n",
    "\n",
    "fig.add_trace(go.Scatter(\n",
    "    x=values,\n",
    "    y=values,\n",
    "    marker=dict(\n",
    "        size=16,\n",
    "        cmax=39,\n",
    "        cmin=0,\n",
    "        color=values,\n",
    "        colorbar=dict(\n",
    "            title=dict(text=\"Colorbar\")\n",
    "        ),\n",
    "        colorscale=\"Viridis\"\n",
    "    ),\n",
    "    mode=\"markers\"))\n",
    "\n",
    "fig.show()"
   ]
  },
  {
   "cell_type": "markdown",
   "id": "ec8de263",
   "metadata": {},
   "source": [
    "### Color scale for Contour Plot with Graph Objects"
   ]
  },
  {
   "cell_type": "code",
   "execution_count": null,
   "id": "7bba3300",
   "metadata": {},
   "outputs": [],
   "source": [
    "import plotly.graph_objects as go\n",
    "\n",
    "fig = go.Figure()\n",
    "\n",
    "fig.add_trace(go.Contour(\n",
    "    z=[[10, 10.625, 12.5, 15.625, 20],\n",
    "       [5.625, 6.25, 8.125, 11.25, 15.625],\n",
    "       [2.5, 3.125, 5., 8.125, 12.5],\n",
    "       [0.625, 1.25, 3.125, 6.25, 10.625],\n",
    "       [0, 0.625, 2.5, 5.625, 10]],\n",
    "    colorscale=\"Cividis\",\n",
    "))\n",
    "\n",
    "fig.show()"
   ]
  },
  {
   "cell_type": "markdown",
   "id": "7f85c4e2",
   "metadata": {},
   "source": [
    "### Custom Heatmap Color scale with Graph Objects"
   ]
  },
  {
   "cell_type": "code",
   "execution_count": null,
   "id": "27c79e26",
   "metadata": {},
   "outputs": [],
   "source": [
    "import plotly.graph_objects as go\n",
    "\n",
    "import urllib\n",
    "import json\n",
    "\n",
    "response = urllib.request.urlopen(\n",
    "    \"https://raw.githubusercontent.com/plotly/datasets/master/custom_heatmap_colorscale.json\"\n",
    ")\n",
    "\n",
    "dataset = json.load(response)\n",
    "\n",
    "fig = go.Figure()\n",
    "\n",
    "fig.add_trace(go.Heatmap(\n",
    "    z=dataset[\"z\"],\n",
    "    colorscale=[[0.0, \"rgb(165,0,38)\"],\n",
    "                [0.1111111111111111, \"rgb(215,48,39)\"],\n",
    "                [0.2222222222222222, \"rgb(244,109,67)\"],\n",
    "                [0.3333333333333333, \"rgb(253,174,97)\"],\n",
    "                [0.4444444444444444, \"rgb(254,224,144)\"],\n",
    "                [0.5555555555555556, \"rgb(224,243,248)\"],\n",
    "                [0.6666666666666666, \"rgb(171,217,233)\"],\n",
    "                [0.7777777777777778, \"rgb(116,173,209)\"],\n",
    "                [0.8888888888888888, \"rgb(69,117,180)\"],\n",
    "                [1.0, \"rgb(49,54,149)\"]]\n",
    "))\n",
    "\n",
    "fig.show()"
   ]
  },
  {
   "cell_type": "markdown",
   "id": "db979f14",
   "metadata": {},
   "source": [
    "### Setting the Midpoint of a Diverging Color scale with Graph Objects\n",
    "\n",
    "The following example uses the [marker.cmid](https://plotly.com/python/reference/scatter/#scatter-marker-cmid) attribute to set the mid-point of the color domain by scaling 'cmin' and/or 'cmax' to be equidistant to this point. It only has impact when [marker.color](https://plotly.com/python/reference/scattercarpet/#scattercarpet-marker-line-color) sets to a numerical array, and 'marker.cauto' is `True`."
   ]
  },
  {
   "cell_type": "code",
   "execution_count": null,
   "id": "9c184490",
   "metadata": {},
   "outputs": [],
   "source": [
    "import plotly.graph_objects as go\n",
    "\n",
    "fig = go.Figure()\n",
    "fig.add_trace(go.Scatter(\n",
    "    y=list(range(-5,15)),\n",
    "    mode=\"markers\",\n",
    "    marker={\"size\": 25, \"color\": list(range(-3,10)), \"cmid\": 0}))\n",
    "\n",
    "fig.show()"
   ]
  },
  {
   "cell_type": "markdown",
   "id": "97b48ec5",
   "metadata": {},
   "source": [
    "The heatmap chart uses [marker.zmid](https://plotly.com/python/reference/scatter/#scatter-marker-zmid) attribute to set the mid-point of the color domain."
   ]
  },
  {
   "cell_type": "code",
   "execution_count": null,
   "id": "4b7b0b1a",
   "metadata": {},
   "outputs": [],
   "source": [
    "import plotly.graph_objects as go\n",
    "\n",
    "a = list(range(-10,5))\n",
    "b = list(range(-5,10))\n",
    "c = list(range(-5,15))\n",
    "\n",
    "fig = go.Figure(go.Heatmap(\n",
    "    z=[a, b, c],\n",
    "    colorscale='RdBu',\n",
    "    zmid=0))\n",
    "\n",
    "fig.show()"
   ]
  },
  {
   "cell_type": "markdown",
   "id": "563307c3",
   "metadata": {},
   "source": [
    "### Custom Contour Plot Color scale with Graph Objects"
   ]
  },
  {
   "cell_type": "code",
   "execution_count": null,
   "id": "ab735a67",
   "metadata": {},
   "outputs": [],
   "source": [
    "import plotly.graph_objects as go\n",
    "\n",
    "fig = go.Figure()\n",
    "\n",
    "fig.add_trace(go.Contour(\n",
    "    z=[[10, 10.625, 12.5, 15.625, 20],\n",
    "       [5.625, 6.25, 8.125, 11.25, 15.625],\n",
    "       [2.5, 3.125, 5., 8.125, 12.5],\n",
    "       [0.625, 1.25, 3.125, 6.25, 10.625],\n",
    "       [0, 0.625, 2.5, 5.625, 10]],\n",
    "    colorscale=[[0, \"rgb(166,206,227)\"],\n",
    "                [0.25, \"rgb(31,120,180)\"],\n",
    "                [0.45, \"rgb(178,223,138)\"],\n",
    "                [0.65, \"rgb(51,160,44)\"],\n",
    "                [0.85, \"rgb(251,154,153)\"],\n",
    "                [1, \"rgb(227,26,28)\"]],\n",
    "))\n",
    "\n",
    "fig.show()"
   ]
  },
  {
   "cell_type": "markdown",
   "id": "64771020",
   "metadata": {},
   "source": [
    "### Custom Color bar Title, Labels, and Ticks with Graph Objects\n",
    "\n",
    "Like axes, you can customize the color bar ticks, labels, and values with `ticks`, `ticktext`, and `tickvals`."
   ]
  },
  {
   "cell_type": "code",
   "execution_count": null,
   "id": "e714845b",
   "metadata": {},
   "outputs": [],
   "source": [
    "import plotly.graph_objects as go\n",
    "\n",
    "import urllib\n",
    "import json\n",
    "\n",
    "# Load heatmap data\n",
    "response = urllib.request.urlopen(\n",
    "    \"https://raw.githubusercontent.com/plotly/datasets/master/custom_heatmap_colorscale.json\")\n",
    "dataset = json.load(response)\n",
    "\n",
    "# Create and show figure\n",
    "fig = go.Figure()\n",
    "\n",
    "fig.add_trace(go.Heatmap(\n",
    "    z=dataset[\"z\"],\n",
    "    colorbar=dict(\n",
    "        title=dict(\n",
    "            text=\"Surface Heat\",\n",
    "            side=\"top\",\n",
    "        ),\n",
    "        tickmode=\"array\",\n",
    "        tickvals=[2, 50, 100],\n",
    "        ticktext=[\"Cool\", \"Mild\", \"Hot\"],\n",
    "        ticks=\"outside\"\n",
    "    )\n",
    "))\n",
    "\n",
    "fig.show()"
   ]
  },
  {
   "cell_type": "markdown",
   "id": "84dc6ae9",
   "metadata": {},
   "source": [
    "### Color Bar Displayed Horizontally\n",
    "\n",
    "By default, color bars are displayed vertically. You can change a color bar to be displayed horizontally by setting the `colorbar` `orientation` attribute to `h`."
   ]
  },
  {
   "cell_type": "code",
   "execution_count": null,
   "id": "e666bfc3",
   "metadata": {},
   "outputs": [],
   "source": [
    "import plotly.graph_objects as go\n",
    "\n",
    "import urllib\n",
    "import json\n",
    "\n",
    "# Load heatmap data\n",
    "response = urllib.request.urlopen(\n",
    "    \"https://raw.githubusercontent.com/plotly/datasets/master/custom_heatmap_colorscale.json\")\n",
    "dataset = json.load(response)\n",
    "\n",
    "# Create and show figure\n",
    "fig = go.Figure()\n",
    "\n",
    "fig.add_trace(go.Heatmap(\n",
    "    z=dataset[\"z\"],\n",
    "    colorbar=dict(orientation='h')))\n",
    "\n",
    "fig.show()"
   ]
  },
  {
   "cell_type": "markdown",
   "id": "21a254e9",
   "metadata": {},
   "source": [
    "### Sharing a Color Axis with Graph Objects\n",
    "\n",
    "To share colorscale information in multiple subplots, you can use [coloraxis](https://plotly.com/javascript/reference/scatter/#scatter-marker-line-coloraxis)."
   ]
  },
  {
   "cell_type": "code",
   "execution_count": null,
   "id": "4feb5d9b",
   "metadata": {},
   "outputs": [],
   "source": [
    "import plotly.graph_objects as go\n",
    "from plotly.subplots import make_subplots\n",
    "\n",
    "fig = make_subplots(1,2)\n",
    "\n",
    "fig.add_trace(\n",
    " go.Heatmap(x = [1, 2, 3, 4], z = [[1, 2, 3, 4], [4, -3, -1, 1]], coloraxis = \"coloraxis\"), 1,1)\n",
    "\n",
    "fig.add_trace(\n",
    " go.Heatmap(x = [3, 4, 5, 6], z = [[10, 2, 1, 0], [4, 3, 5, 6]], coloraxis = \"coloraxis\"),1,2)\n",
    "fig.update_layout(coloraxis = {'colorscale':'viridis'})\n",
    "\n",
    "fig.show()"
   ]
  },
  {
   "cell_type": "markdown",
   "id": "4a9f01cb",
   "metadata": {},
   "source": [
    "### Logarithmic Color scale with Graph Objects"
   ]
  },
  {
   "cell_type": "code",
   "execution_count": null,
   "id": "1181f61e",
   "metadata": {},
   "outputs": [],
   "source": [
    "import plotly.graph_objects as go\n",
    "\n",
    "fig = go.Figure(go.Heatmap(\n",
    "    z= [[10, 100.625, 1200.5, 150.625, 2000],\n",
    "       [5000.625, 60.25, 8.125, 100000, 150.625],\n",
    "       [2000.5, 300.125, 50., 8.125, 12.5],\n",
    "       [10.625, 1.25, 3.125, 6000.25, 100.625],\n",
    "       [0, 0.625, 2.5, 50000.625, 10]],\n",
    "    colorscale= [\n",
    "        [0, 'rgb(250, 250, 250)'],        #0\n",
    "        [1./10000, 'rgb(200, 200, 200)'], #10\n",
    "        [1./1000, 'rgb(150, 150, 150)'],  #100\n",
    "        [1./100, 'rgb(100, 100, 100)'],   #1000\n",
    "        [1./10, 'rgb(50, 50, 50)'],       #10000\n",
    "        [1., 'rgb(0, 0, 0)'],             #100000\n",
    "\n",
    "    ],\n",
    "    colorbar= dict(\n",
    "        tick0= 0,\n",
    "        tickmode= 'array',\n",
    "        tickvals= [0, 1000, 10000, 100000]\n",
    "    )\n",
    "))\n",
    "\n",
    "fig.show()"
   ]
  },
  {
   "cell_type": "markdown",
   "id": "a5f485b0",
   "metadata": {},
   "source": [
    "### Positioning Colorbars\n",
    "\n",
    "Colorbars can be positioned by specifying x and y coordinates. By default, the x and y values are \"paper\" coordinates, which refer to the plot area. You can also use coordinates based on the \"container\" by setting `xref=\"container\"` or `yref=\"container\"`. The following example uses a container reference for the x position.\n",
    "\n",
    "See the positioning section of [the figure data structure page](/python/figure-structure/#positioning-with-paper-container-coordinates-or-axis-domain-coordinates) for more details on \"paper\" vs \"container\" coordinates."
   ]
  },
  {
   "cell_type": "code",
   "execution_count": null,
   "id": "00a88578",
   "metadata": {},
   "outputs": [],
   "source": [
    "import plotly.graph_objects as go\n",
    "\n",
    "import urllib\n",
    "import json\n",
    "\n",
    "# Load heatmap data\n",
    "response = urllib.request.urlopen(\n",
    "    \"https://raw.githubusercontent.com/plotly/datasets/master/custom_heatmap_colorscale.json\")\n",
    "dataset = json.load(response)\n",
    "\n",
    "# Create and show figure\n",
    "fig = go.Figure(go.Heatmap(\n",
    "    z=dataset[\"z\"],\n",
    "    colorbar=dict(\n",
    "        x=0.2,\n",
    "        xref=\"container\",\n",
    "        title=dict(text=\"Surface Heat\")\n",
    "    )\n",
    "))\n",
    "\n",
    "fig.show()"
   ]
  },
  {
   "cell_type": "markdown",
   "id": "b57d3668",
   "metadata": {},
   "source": [
    "### Reference\n",
    "\n",
    "See https://plotly.com/python/reference/ for more information and chart attribute options!\n"
   ]
  },
  {
   "cell_type": "markdown",
   "id": "0365a3a7",
   "metadata": {},
   "source": [
    "### What About Dash?\n",
    "\n",
    "[Dash](https://dash.plot.ly/) is an open-source framework for building analytical applications, with no Javascript required, and it is tightly integrated with the Plotly graphing library.\n",
    "\n",
    "Learn about how to install Dash at https://dash.plot.ly/installation.\n",
    "\n",
    "Everywhere in this page that you see `fig.show()`, you can display the same figure in a Dash application by passing it to the `figure` argument of the [`Graph` component](https://dash.plot.ly/dash-core-components/graph) from the built-in `dash_core_components` package like this:\n",
    "\n",
    "```python\n",
    "import plotly.graph_objects as go # or plotly.express as px\n",
    "fig = go.Figure() # or any Plotly Express function e.g. px.bar(...)\n",
    "# fig.add_trace( ... )\n",
    "# fig.update_layout( ... )\n",
    "\n",
    "from dash import Dash, dcc, html\n",
    "\n",
    "app = Dash()\n",
    "app.layout = html.Div([\n",
    "    dcc.Graph(figure=fig)\n",
    "])\n",
    "\n",
    "app.run_server(debug=True, use_reloader=False)  # Turn off reloader if inside Jupyter\n",
    "```"
   ]
  }
 ],
 "metadata": {
  "jupytext": {
   "notebook_metadata_filter": "all"
  },
  "kernelspec": {
   "display_name": "Python 3 (ipykernel)",
   "language": "python",
   "name": "python3"
  },
  "language_info": {
   "codemirror_mode": {
    "name": "ipython",
    "version": 3
   },
   "file_extension": ".py",
   "mimetype": "text/x-python",
   "name": "python",
   "nbconvert_exporter": "python",
   "pygments_lexer": "ipython3",
   "version": "3.10.8"
  },
  "plotly": {
   "description": "How to set, create and control continuous color scales and color bars in scatter, bar, map and heatmap figures.",
   "display_as": "file_settings",
   "has_thumbnail": true,
   "ipynb": "~notebook_demo/187",
   "language": "python",
   "layout": "base",
   "name": "Continuous Color Scales and Color Bars",
   "order": 21,
   "permalink": "python/colorscales/",
   "redirect_from": "python/logarithmic-color-scale/",
   "thumbnail": "thumbnail/heatmap_colorscale.jpg",
   "v4upgrade": true
  }
 },
 "nbformat": 4,
 "nbformat_minor": 5
}
