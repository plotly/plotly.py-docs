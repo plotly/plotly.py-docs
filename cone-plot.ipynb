{
 "cells": [
  {
   "cell_type": "markdown",
   "id": "41c242a8",
   "metadata": {},
   "source": [
    "A cone plot is the 3D equivalent of a 2D [quiver plot](/python/quiver-plots/), i.e., it represents a 3D vector field using cones to represent the direction and norm of the vectors. 3-D coordinates are given by `x`, `y` and `z`, and the coordinates of the vector field by `u`, `v` and `w`.\n",
    "\n",
    "### Basic 3D Cone\n"
   ]
  },
  {
   "cell_type": "code",
   "execution_count": null,
   "id": "d290d6d2",
   "metadata": {},
   "outputs": [],
   "source": [
    "import plotly.graph_objects as go\n",
    "\n",
    "fig = go.Figure(data=go.Cone(x=[1], y=[1], z=[1], u=[1], v=[1], w=[0]))\n",
    "\n",
    "fig.update_layout(scene_camera_eye=dict(x=-0.76, y=1.8, z=0.92))\n",
    "\n",
    "fig.show()"
   ]
  },
  {
   "cell_type": "markdown",
   "id": "bd87e60e",
   "metadata": {},
   "source": [
    "### Multiple 3D Cones"
   ]
  },
  {
   "cell_type": "code",
   "execution_count": null,
   "id": "d36cc4d3",
   "metadata": {},
   "outputs": [],
   "source": [
    "import plotly.graph_objects as go\n",
    "\n",
    "fig = go.Figure(data=go.Cone(\n",
    "    x=[1, 2, 3],\n",
    "    y=[1, 2, 3],\n",
    "    z=[1, 2, 3],\n",
    "    u=[1, 0, 0],\n",
    "    v=[0, 3, 0],\n",
    "    w=[0, 0, 2],\n",
    "    sizemode=\"absolute\",\n",
    "    sizeref=2,\n",
    "    anchor=\"tip\"))\n",
    "\n",
    "fig.update_layout(\n",
    "      scene=dict(domain_x=[0, 1],\n",
    "                 camera_eye=dict(x=-1.57, y=1.36, z=0.58)))\n",
    "\n",
    "fig.show()"
   ]
  },
  {
   "cell_type": "markdown",
   "id": "51cbeeaa",
   "metadata": {},
   "source": [
    "### 3D Cone Lighting"
   ]
  },
  {
   "cell_type": "code",
   "execution_count": null,
   "id": "10579f9a",
   "metadata": {},
   "outputs": [],
   "source": [
    "import plotly.graph_objects as go\n",
    "\n",
    "fig = go.Figure()\n",
    "fig.add_trace(go.Cone(x=[1,] * 3, name=\"base\"))\n",
    "fig.add_trace(go.Cone(x=[2,] * 3, opacity=0.3, name=\"opacity:0.3\"))\n",
    "fig.add_trace(go.Cone(x=[3,] * 3, lighting_ambient=0.3, name=\"lighting.ambient:0.3\"))\n",
    "fig.add_trace(go.Cone(x=[4,] * 3, lighting_diffuse=0.3, name=\"lighting.diffuse:0.3\"))\n",
    "fig.add_trace(go.Cone(x=[5,] * 3, lighting_specular=2, name=\"lighting.specular:2\"))\n",
    "fig.add_trace(go.Cone(x=[6,] * 3, lighting_roughness=1, name=\"lighting.roughness:1\"))\n",
    "fig.add_trace(go.Cone(x=[7,] * 3, lighting_fresnel=2, name=\"lighting.fresnel:2\"))\n",
    "fig.add_trace(go.Cone(x=[8,] * 3, lightposition=dict(x=0, y=0, z=1e5),\n",
    "                                  name=\"lighting.position x:0,y:0,z:1e5\"))\n",
    "\n",
    "fig.update_traces(y=[1, 2, 3], z=[1, 1, 1],\n",
    "                  u=[1, 2, 3], v=[1, 1, 2], w=[4, 4, 1],\n",
    "                  hoverinfo=\"u+v+w+name\",\n",
    "                  showscale=False)\n",
    "\n",
    "fig.update_layout(scene=dict(aspectmode=\"data\",\n",
    "                             camera_eye=dict(x=0.05, y=-2.6, z=2)),\n",
    "                  margin=dict(t=0, b=0, l=0, r=0))\n",
    "\n",
    "\n",
    "fig.show()"
   ]
  },
  {
   "cell_type": "markdown",
   "id": "1c264671",
   "metadata": {},
   "source": [
    "### 3D Cone Vortex"
   ]
  },
  {
   "cell_type": "code",
   "execution_count": null,
   "id": "387d7c39",
   "metadata": {},
   "outputs": [],
   "source": [
    "import plotly.graph_objects as go\n",
    "import pandas as pd\n",
    "\n",
    "df = pd.read_csv(\"https://raw.githubusercontent.com/plotly/datasets/master/vortex.csv\")\n",
    "\n",
    "fig = go.Figure(data = go.Cone(\n",
    "    x=df['x'],\n",
    "    y=df['y'],\n",
    "    z=df['z'],\n",
    "    u=df['u'],\n",
    "    v=df['v'],\n",
    "    w=df['w'],\n",
    "    colorscale='Blues',\n",
    "    sizemode=\"absolute\",\n",
    "    sizeref=40))\n",
    "\n",
    "fig.update_layout(scene=dict(aspectratio=dict(x=1, y=1, z=0.8),\n",
    "                             camera_eye=dict(x=1.2, y=1.2, z=0.6)))\n",
    "\n",
    "fig.show()"
   ]
  },
  {
   "cell_type": "markdown",
   "id": "0bf885c5",
   "metadata": {},
   "source": [
    "### Sizemode\n",
    "\n",
    "Earlier examples use `sizemode=\"absolute\"` when adjusting the cone size scaling with `sizeref`. `sizemode` also supports `raw`(new in 5.21) and `scaled`."
   ]
  },
  {
   "cell_type": "code",
   "execution_count": null,
   "id": "38c8b390",
   "metadata": {},
   "outputs": [],
   "source": [
    "import plotly.graph_objects as go\n",
    "import pandas as pd\n",
    "\n",
    "df = pd.read_csv(\n",
    "    \"https://raw.githubusercontent.com/plotly/datasets/master/cone_plot_data.csv\"\n",
    ")\n",
    "\n",
    "fig = go.Figure(\n",
    "    data=go.Cone(\n",
    "        x=df[\"x\"],\n",
    "        y=df[\"y\"],\n",
    "        z=df[\"z\"],\n",
    "        u=df[\"u\"],\n",
    "        v=df[\"v\"],\n",
    "        w=df[\"w\"],\n",
    "        sizemode=\"raw\",\n",
    "        sizeref=0.1,\n",
    "        colorscale=\"Portland\",\n",
    "        cmin=0,\n",
    "        cmax=80,\n",
    "        hoverinfo=\"u+v+w+text\",\n",
    "        text=\"-> wind <-\",\n",
    "    ),\n",
    "    layout=dict(\n",
    "        width=900, height=600, scene=dict(camera=dict(eye=dict(x=1.2, y=0, z=0.6)))\n",
    "    ),\n",
    ")\n",
    "\n",
    "\n",
    "fig.show()\n"
   ]
  },
  {
   "cell_type": "markdown",
   "id": "9dd4913c",
   "metadata": {},
   "source": [
    "#### Reference\n",
    "See https://plotly.com/python/reference/ for more information and chart attribute options!\n"
   ]
  },
  {
   "cell_type": "markdown",
   "id": "f3f28c9b",
   "metadata": {},
   "source": [
    "### What About Dash?\n",
    "\n",
    "[Dash](https://dash.plot.ly/) is an open-source framework for building analytical applications, with no Javascript required, and it is tightly integrated with the Plotly graphing library.\n",
    "\n",
    "Learn about how to install Dash at https://dash.plot.ly/installation.\n",
    "\n",
    "Everywhere in this page that you see `fig.show()`, you can display the same figure in a Dash application by passing it to the `figure` argument of the [`Graph` component](https://dash.plot.ly/dash-core-components/graph) from the built-in `dash_core_components` package like this:\n",
    "\n",
    "```python\n",
    "import plotly.graph_objects as go # or plotly.express as px\n",
    "fig = go.Figure() # or any Plotly Express function e.g. px.bar(...)\n",
    "# fig.add_trace( ... )\n",
    "# fig.update_layout( ... )\n",
    "\n",
    "from dash import Dash, dcc, html\n",
    "\n",
    "app = Dash()\n",
    "app.layout = html.Div([\n",
    "    dcc.Graph(figure=fig)\n",
    "])\n",
    "\n",
    "app.run_server(debug=True, use_reloader=False)  # Turn off reloader if inside Jupyter\n",
    "```"
   ]
  }
 ],
 "metadata": {
  "jupytext": {
   "notebook_metadata_filter": "all"
  },
  "kernelspec": {
   "display_name": "Python 3 (ipykernel)",
   "language": "python",
   "name": "python3"
  },
  "language_info": {
   "codemirror_mode": {
    "name": "ipython",
    "version": 3
   },
   "file_extension": ".py",
   "mimetype": "text/x-python",
   "name": "python",
   "nbconvert_exporter": "python",
   "pygments_lexer": "ipython3",
   "version": "3.10.11"
  },
  "plotly": {
   "description": "How to make 3D Cone plots in Python with Plotly.",
   "display_as": "3d_charts",
   "language": "python",
   "layout": "base",
   "name": "3D Cone Plots",
   "order": 12,
   "page_type": "u-guide",
   "permalink": "python/cone-plot/",
   "redirect_from": "python/3d-cone/",
   "thumbnail": "thumbnail/3dcone.png"
  }
 },
 "nbformat": 4,
 "nbformat_minor": 5
}
