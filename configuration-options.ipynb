{
 "cells": [
  {
   "cell_type": "markdown",
   "id": "baad884b",
   "metadata": {},
   "source": [
    "## Configuration Options\n",
    "\n",
    "The `.show()` method that you use to display your figures also accepts a `config` parameter.\n",
    "\n",
    "You can set the configuration options for your figure by passing a dictionary to this parameter which contains the options you want to set.\n",
    "\n",
    "If you don't set an option's value, it will be automatically be set to the default value for that option.\n",
    "\n",
    "For the complete list of configuration options and their defaults see: https://github.com/plotly/plotly.js/blob/master/src/plot_api/plot_config.js\n",
    "\n",
    "### Enabling Scroll Zoom\n",
    "\n",
    "This option allows users to zoom in and out of figures using the scroll wheel on their mouse and/or a two-finger scroll."
   ]
  },
  {
   "cell_type": "code",
   "execution_count": null,
   "id": "aa4ee7ab",
   "metadata": {},
   "outputs": [],
   "source": [
    "import plotly.graph_objects as go\n",
    "\n",
    "fig = go.Figure()\n",
    "\n",
    "config = {'scrollZoom': True}\n",
    "\n",
    "fig.add_trace(\n",
    "    go.Scatter(\n",
    "        x=[1, 2, 3],\n",
    "        y=[1, 3, 1]))\n",
    "\n",
    "fig.show(config=config)"
   ]
  },
  {
   "cell_type": "markdown",
   "id": "25e5853c",
   "metadata": {},
   "source": [
    "### Turning Off Responsiveness\n",
    "\n",
    "By default, figures you create with the `plotly.py` package are [responsive](https://en.wikipedia.org/wiki/Responsive_web_design). Responsive figures automatically change their height and width when the size of the window they are displayed in changes. This is true for figures which are displayed in web browsers on desktops and mobile, Jupyter Notebooks, and other [rendering](https://plot.ly/python/renderers/) environments.\n",
    "\n",
    "Try resizing your browser window to see this behavior in effect on this page.\n",
    "\n",
    "If you would like to disable this default behavior and force your figures to always have the same height and width regardless of the window size, set the value of the `responsive` key to `False` in your figure's configuration dictionary."
   ]
  },
  {
   "cell_type": "code",
   "execution_count": null,
   "id": "a599c472",
   "metadata": {},
   "outputs": [],
   "source": [
    "import plotly.graph_objects as go\n",
    "\n",
    "fig = go.Figure()\n",
    "\n",
    "config = {'responsive': False}\n",
    "\n",
    "fig.add_trace(\n",
    "    go.Scatter(\n",
    "        x=[1, 2, 3],\n",
    "        y=[1, 3, 1]))\n",
    "\n",
    "fig.show(config=config)"
   ]
  },
  {
   "cell_type": "markdown",
   "id": "8313a495",
   "metadata": {},
   "source": [
    "### Making A Static Chart"
   ]
  },
  {
   "cell_type": "code",
   "execution_count": null,
   "id": "1924cb26",
   "metadata": {},
   "outputs": [],
   "source": [
    "import plotly.graph_objects as go\n",
    "\n",
    "fig = go.Figure()\n",
    "\n",
    "config = {'staticPlot': True}\n",
    "\n",
    "fig.add_trace(\n",
    "    go.Scatter(\n",
    "        x=[1, 2, 3],\n",
    "        y=[1, 3, 1]))\n",
    "\n",
    "fig.show(config=config)"
   ]
  },
  {
   "cell_type": "markdown",
   "id": "98a627c9",
   "metadata": {},
   "source": [
    "### Forcing The Modebar to Always Be Visible\n",
    "\n",
    "When users hover over a figure generated with plotly.py, a **modebar** appears in the top-right of the figure. This presents users with several options for interacting with the figure.\n",
    "\n",
    "By default, the modebar is only visible while the user is hovering over the chart. If you would like the modebar to always be visible regardless of whether or not the user is currently hovering over the figure, set the displayModeBar attribute in the configuration of your figure to true."
   ]
  },
  {
   "cell_type": "code",
   "execution_count": null,
   "id": "5d9b5f82",
   "metadata": {},
   "outputs": [],
   "source": [
    "import plotly.graph_objects as go\n",
    "\n",
    "fig = go.Figure()\n",
    "\n",
    "config = {'displayModeBar': True}\n",
    "\n",
    "fig.add_trace(\n",
    "    go.Scatter(\n",
    "        x=[1, 2, 3],\n",
    "        y=[1, 3, 1]))\n",
    "\n",
    "fig.show(config=config)"
   ]
  },
  {
   "cell_type": "markdown",
   "id": "6c9e4a09",
   "metadata": {},
   "source": [
    "### Preventing the Modebar from Appearing\n",
    "\n",
    "When users hover over a figure generated with `plotly.py`, a modebar appears in the top-right of the figure. This presents users with several options for interacting with the figure.\n",
    "\n",
    "By default, the modebar is only visible while the user is hovering over the chart. If you would like the modebar to never be visible, then set the `displayModeBar` attribute in the config of your figure to false."
   ]
  },
  {
   "cell_type": "code",
   "execution_count": null,
   "id": "4910848c",
   "metadata": {
    "lines_to_next_cell": 2
   },
   "outputs": [],
   "source": [
    "import plotly.graph_objects as go\n",
    "\n",
    "fig = go.Figure()\n",
    "\n",
    "config = {'displayModeBar': False}\n",
    "\n",
    "fig.add_trace(\n",
    "    go.Scatter(\n",
    "        x=[1, 2, 3],\n",
    "        y=[1, 3, 1]))\n",
    "\n",
    "fig.show(config=config)"
   ]
  },
  {
   "cell_type": "markdown",
   "id": "8b1a7c6e",
   "metadata": {},
   "source": [
    "### Hiding the Plotly Logo on the Modebar"
   ]
  },
  {
   "cell_type": "code",
   "execution_count": null,
   "id": "3983a849",
   "metadata": {},
   "outputs": [],
   "source": [
    "import plotly.graph_objects as go\n",
    "\n",
    "fig = go.Figure()\n",
    "\n",
    "config = {'displaylogo': False}\n",
    "\n",
    "fig.add_trace(\n",
    "    go.Scatter(\n",
    "        x=[1, 2, 3],\n",
    "        y=[1, 3, 1]))\n",
    "\n",
    "fig.show(config=config)"
   ]
  },
  {
   "cell_type": "markdown",
   "id": "30cc2530",
   "metadata": {},
   "source": [
    "### Customizing Modebar \"Download Plot\" Button\n",
    "\n",
    "The camera icon on the modebar causes a static version of the figure to be downloaded via the user's browser. The default behaviour is to download a PNG of size 700 by 450 pixels.\n",
    "\n",
    "This behavior can be controlled via the `toImageButtonOptions` configuration key."
   ]
  },
  {
   "cell_type": "code",
   "execution_count": null,
   "id": "3efef6ff",
   "metadata": {},
   "outputs": [],
   "source": [
    "import plotly.express as px\n",
    "\n",
    "config = {\n",
    "  'toImageButtonOptions': {\n",
    "    'format': 'svg', # one of png, svg, jpeg, webp\n",
    "    'filename': 'custom_image',\n",
    "    'height': 500,\n",
    "    'width': 700,\n",
    "    'scale': 1 # Multiply title/legend/axis/canvas sizes by this factor\n",
    "  }\n",
    "}\n",
    "\n",
    "fig = px.bar(x=[1, 2, 3], y=[1, 3, 1])\n",
    "\n",
    "fig.show(config=config)"
   ]
  },
  {
   "cell_type": "markdown",
   "id": "f808eb9b",
   "metadata": {},
   "source": [
    "Figures can be set to download at the currently-rendered size by setting `height` and `width` to `None`:\n"
   ]
  },
  {
   "cell_type": "code",
   "execution_count": null,
   "id": "ea61e462",
   "metadata": {},
   "outputs": [],
   "source": [
    "import plotly.express as px\n",
    "\n",
    "config = {\n",
    "  'toImageButtonOptions': { 'height': None, 'width': None, }\n",
    "}\n",
    "\n",
    "fig = px.bar(x=[1, 2, 3], y=[1, 3, 1])\n",
    "\n",
    "fig.show(config=config)"
   ]
  },
  {
   "cell_type": "markdown",
   "id": "2623e54a",
   "metadata": {},
   "source": [
    "### Removing Modebar Buttons\n",
    "\n",
    "To delete buttons from the modebar, pass an array of strings containing the names of the buttons you want to remove to the `modeBarButtonsToRemove` attribute in the figure's configuration dictionary. Note that different chart types have different default modebars. The following is a list of all the modebar buttons and the chart types they are associated with:\n",
    "\n",
    "  - **High-level**: `zoom`, `pan`, `select`, `zoomIn`, `zoomOut`, `autoScale`, `resetScale`\n",
    "  - **2D**: `zoom2d`, `pan2d`, `select2d`, `lasso2d`, `zoomIn2d`, `zoomOut2d`, `autoScale2d`, `resetScale2d`, `v1hovermode`\n",
    "  - **2D Shape Drawing**: `drawline`, `drawopenpath`, `drawclosedpath`, `drawcircle`, `drawrect`, `eraseshape`\n",
    "  - **3D**: `zoom3d`, `pan3d`, `orbitRotation`, `tableRotation`, `handleDrag3d`, `resetCameraDefault3d`, `resetCameraLastSave3d`, `hoverClosest3d`\n",
    "  - **Cartesian**: `hoverClosestCartesian`, `hoverCompareCartesian`\n",
    "  - **Geo**: `zoomInGeo`, `zoomOutGeo`, `resetGeo`, `hoverClosestGeo`\n",
    "  - **Other**: `hoverClosestGl2d`, `hoverClosestPie`, `toggleHover`, `resetViews`, `toImage`, `sendDataToCloud`, `toggleSpikelines`, `resetViewMapbox`"
   ]
  },
  {
   "cell_type": "code",
   "execution_count": null,
   "id": "d3d5f444",
   "metadata": {},
   "outputs": [],
   "source": [
    "import plotly.graph_objects as go\n",
    "\n",
    "fig = go.Figure()\n",
    "\n",
    "fig.add_trace(\n",
    "    go.Scatter(\n",
    "        x=[1, 2, 3],\n",
    "        y=[1, 3, 1]))\n",
    "\n",
    "fig.show(config={\n",
    "    'modeBarButtonsToRemove': ['zoom', 'pan']\n",
    "})"
   ]
  },
  {
   "cell_type": "markdown",
   "id": "b91eadb8",
   "metadata": {},
   "source": [
    "*New in v5.0*\n",
    "\n",
    "The `layout.modebar.remove` attribute can be used instead of the approach used above:"
   ]
  },
  {
   "cell_type": "code",
   "execution_count": null,
   "id": "a4b69e78",
   "metadata": {},
   "outputs": [],
   "source": [
    "import plotly.graph_objects as go\n",
    "\n",
    "fig = go.Figure()\n",
    "\n",
    "fig.add_trace(\n",
    "    go.Scatter(\n",
    "        x=[1, 2, 3],\n",
    "        y=[1, 3, 1]))\n",
    "\n",
    "fig.update_layout(modebar_remove=['zoom', 'pan'])\n",
    "\n",
    "fig.show()"
   ]
  },
  {
   "cell_type": "markdown",
   "id": "2c28aa6d",
   "metadata": {},
   "source": [
    "### Add optional shape-drawing buttons to modebar\n",
    "\n",
    "*New in v4.7*\n",
    "\n",
    "Some modebar buttons of Cartesian plots are optional and have to be added explicitly, using the `modeBarButtonsToAdd` config attribute. These buttons are used for drawing or erasing shapes. See [the tutorial on shapes and shape drawing](/python/shapes#drawing-shapes-with-a-mouse-on-cartesian-plots) for more details."
   ]
  },
  {
   "cell_type": "code",
   "execution_count": null,
   "id": "ceece336",
   "metadata": {},
   "outputs": [],
   "source": [
    "import plotly.express as px\n",
    "\n",
    "df = px.data.iris()\n",
    "\n",
    "fig = px.scatter(df, x='petal_width', y='sepal_length', color='species')\n",
    "\n",
    "fig.update_layout(\n",
    "    dragmode='drawopenpath',\n",
    "    newshape_line_color='cyan',\n",
    "    title_text='Draw a path to separate versicolor and virginica'\n",
    ")\n",
    "\n",
    "fig.show(config={'modeBarButtonsToAdd': ['drawline',\n",
    "                                        'drawopenpath',\n",
    "                                        'drawclosedpath',\n",
    "                                        'drawcircle',\n",
    "                                        'drawrect',\n",
    "                                        'eraseshape'\n",
    "                                       ]})"
   ]
  },
  {
   "cell_type": "markdown",
   "id": "cd843698",
   "metadata": {},
   "source": [
    "*New in v5.0*\n",
    "\n",
    "The `layout.modebar.add` attribute can be used instead of the approach used above:"
   ]
  },
  {
   "cell_type": "code",
   "execution_count": null,
   "id": "c4336944",
   "metadata": {},
   "outputs": [],
   "source": [
    "import plotly.express as px\n",
    "\n",
    "df = px.data.iris()\n",
    "\n",
    "fig = px.scatter(df, x='petal_width', y='sepal_length', color='species')\n",
    "\n",
    "fig.update_layout(\n",
    "    dragmode='drawopenpath',\n",
    "    newshape_line_color='cyan',\n",
    "    title_text='Draw a path to separate versicolor and virginica',\n",
    "    modebar_add=['drawline',\n",
    "        'drawopenpath',\n",
    "        'drawclosedpath',\n",
    "        'drawcircle',\n",
    "        'drawrect',\n",
    "        'eraseshape'\n",
    "       ]\n",
    ")\n",
    "\n",
    "fig.show()"
   ]
  },
  {
   "cell_type": "markdown",
   "id": "3f435a93",
   "metadata": {},
   "source": [
    "### Double-Click Delay\n",
    "Sets the maximum delay between two consecutive clicks to be interpreted as a double-click in milliseconds. This is the time interval between first mousedown and second mouseup. The default timing is 300 ms (less than half a second).\n",
    "This setting propagates to all on-subplot double clicks (except for `geo` and `mapbox`)."
   ]
  },
  {
   "cell_type": "code",
   "execution_count": null,
   "id": "92a9a6ff",
   "metadata": {},
   "outputs": [],
   "source": [
    "import plotly.graph_objects as go\n",
    "\n",
    "config = {'doubleClickDelay': 1000}\n",
    "\n",
    "fig = go.Figure(go.Bar(\n",
    "    y=[3, 5, 3, 2],\n",
    "    x=[\"2019-09-02\", \"2019-10-10\", \"2019-11-12\", \"2019-12-22\"],\n",
    "    texttemplate=\"%{label}\",\n",
    "    textposition=\"inside\"))\n",
    "\n",
    "fig.update_layout(xaxis={'type': 'date'})\n",
    "\n",
    "fig.show(config=config)"
   ]
  },
  {
   "cell_type": "markdown",
   "id": "8bf7c521",
   "metadata": {},
   "source": [
    "### Configuring Figures in Dash Apps\n",
    "\n",
    "The same configuration dictionary that you pass to the `config` parameter of the `show()` method can also be passed to the [`config` property of a `dcc.Graph` component](https://dash.plotly.com/dash-core-components/graph).\n",
    "\n",
    "#### Reference\n",
    "\n",
    "See config options at https://github.com/plotly/plotly.js/blob/master/src/plot_api/plot_config.js\n"
   ]
  },
  {
   "cell_type": "markdown",
   "id": "c1e50f87",
   "metadata": {},
   "source": [
    "### What About Dash?\n",
    "\n",
    "[Dash](https://dash.plot.ly/) is an open-source framework for building analytical applications, with no Javascript required, and it is tightly integrated with the Plotly graphing library.\n",
    "\n",
    "Learn about how to install Dash at https://dash.plot.ly/installation.\n",
    "\n",
    "Everywhere in this page that you see `fig.show()`, you can display the same figure in a Dash application by passing it to the `figure` argument of the [`Graph` component](https://dash.plot.ly/dash-core-components/graph) from the built-in `dash_core_components` package like this:\n",
    "\n",
    "```python\n",
    "import plotly.graph_objects as go # or plotly.express as px\n",
    "fig = go.Figure() # or any Plotly Express function e.g. px.bar(...)\n",
    "# fig.add_trace( ... )\n",
    "# fig.update_layout( ... )\n",
    "\n",
    "from dash import Dash, dcc, html\n",
    "\n",
    "app = Dash()\n",
    "app.layout = html.Div([\n",
    "    dcc.Graph(figure=fig)\n",
    "])\n",
    "\n",
    "app.run_server(debug=True, use_reloader=False)  # Turn off reloader if inside Jupyter\n",
    "```"
   ]
  }
 ],
 "metadata": {
  "jupytext": {
   "notebook_metadata_filter": "all"
  },
  "kernelspec": {
   "display_name": "Python 3",
   "language": "python",
   "name": "python3"
  },
  "language_info": {
   "codemirror_mode": {
    "name": "ipython",
    "version": 3
   },
   "file_extension": ".py",
   "mimetype": "text/x-python",
   "name": "python",
   "nbconvert_exporter": "python",
   "pygments_lexer": "ipython3",
   "version": "3.7.7"
  },
  "plotly": {
   "description": "How to set the configuration options of figures using the Plotly Python graphing library.",
   "display_as": "file_settings",
   "language": "python",
   "layout": "base",
   "name": "Configuration",
   "order": 10,
   "page_type": "u-guide",
   "permalink": "python/configuration-options/",
   "thumbnail": "thumbnail/modebar-icons.png"
  }
 },
 "nbformat": 4,
 "nbformat_minor": 5
}
