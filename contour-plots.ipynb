{
 "cells": [
  {
   "cell_type": "markdown",
   "id": "7c9bc9c2",
   "metadata": {},
   "source": [
    "### Basic Contour Plot\n",
    "\n",
    "A 2D contour plot shows the [contour lines](https://en.wikipedia.org/wiki/Contour_line) of a 2D numerical array `z`, i.e. interpolated lines of isovalues of `z`."
   ]
  },
  {
   "cell_type": "code",
   "execution_count": null,
   "id": "2ba1e7c5",
   "metadata": {},
   "outputs": [],
   "source": [
    "import plotly.graph_objects as go\n",
    "\n",
    "fig = go.Figure(data =\n",
    "    go.Contour(\n",
    "        z=[[10, 10.625, 12.5, 15.625, 20],\n",
    "           [5.625, 6.25, 8.125, 11.25, 15.625],\n",
    "           [2.5, 3.125, 5., 8.125, 12.5],\n",
    "           [0.625, 1.25, 3.125, 6.25, 10.625],\n",
    "           [0, 0.625, 2.5, 5.625, 10]]\n",
    "    ))\n",
    "fig.show()"
   ]
  },
  {
   "cell_type": "markdown",
   "id": "918533df",
   "metadata": {},
   "source": [
    "### Setting X and Y Coordinates in a Contour Plot ###"
   ]
  },
  {
   "cell_type": "code",
   "execution_count": null,
   "id": "627b0253",
   "metadata": {},
   "outputs": [],
   "source": [
    "import plotly.graph_objects as go\n",
    "\n",
    "fig = go.Figure(data =\n",
    "    go.Contour(\n",
    "        z=[[10, 10.625, 12.5, 15.625, 20],\n",
    "           [5.625, 6.25, 8.125, 11.25, 15.625],\n",
    "           [2.5, 3.125, 5., 8.125, 12.5],\n",
    "           [0.625, 1.25, 3.125, 6.25, 10.625],\n",
    "           [0, 0.625, 2.5, 5.625, 10]],\n",
    "        x=[-9, -6, -5 , -3, -1], # horizontal axis\n",
    "        y=[0, 1, 4, 5, 7] # vertical axis\n",
    "    ))\n",
    "fig.show()\n"
   ]
  },
  {
   "cell_type": "markdown",
   "id": "4901b58d",
   "metadata": {},
   "source": [
    "### Colorscale for Contour Plot ###"
   ]
  },
  {
   "cell_type": "code",
   "execution_count": null,
   "id": "e94a8055",
   "metadata": {},
   "outputs": [],
   "source": [
    "import plotly.graph_objects as go\n",
    "\n",
    "fig = go.Figure(data =\n",
    "     go.Contour(\n",
    "        z=[[10, 10.625, 12.5, 15.625, 20],\n",
    "           [5.625, 6.25, 8.125, 11.25, 15.625],\n",
    "           [2.5, 3.125, 5., 8.125, 12.5],\n",
    "           [0.625, 1.25, 3.125, 6.25, 10.625],\n",
    "           [0, 0.625, 2.5, 5.625, 10]],\n",
    "        colorscale='Electric',\n",
    "    ))\n",
    "fig.show()"
   ]
  },
  {
   "cell_type": "markdown",
   "id": "d8182629",
   "metadata": {},
   "source": [
    "### Customizing Size and Range of a Contour Plot's Contours ###"
   ]
  },
  {
   "cell_type": "code",
   "execution_count": null,
   "id": "01b27671",
   "metadata": {},
   "outputs": [],
   "source": [
    "import plotly.graph_objects as go\n",
    "\n",
    "fig = go.Figure(data =\n",
    "    go.Contour(\n",
    "        z=[[10, 10.625, 12.5, 15.625, 20],\n",
    "           [5.625, 6.25, 8.125, 11.25, 15.625],\n",
    "           [2.5, 3.125, 5., 8.125, 12.5],\n",
    "           [0.625, 1.25, 3.125, 6.25, 10.625],\n",
    "           [0, 0.625, 2.5, 5.625, 10]],\n",
    "        colorscale='Hot',\n",
    "        contours=dict(\n",
    "            start=0,\n",
    "            end=8,\n",
    "            size=2,\n",
    "        ),\n",
    "    ))\n",
    "\n",
    "fig.show()"
   ]
  },
  {
   "cell_type": "markdown",
   "id": "f707303b",
   "metadata": {},
   "source": [
    "### Customizing Spacing Between X and Y Axis Ticks ###"
   ]
  },
  {
   "cell_type": "code",
   "execution_count": null,
   "id": "72b1f091",
   "metadata": {},
   "outputs": [],
   "source": [
    "import plotly.graph_objects as go\n",
    "\n",
    "fig = go.Figure(data =\n",
    "    go.Contour(\n",
    "        z= [[10, 10.625, 12.5, 15.625, 20],\n",
    "              [5.625, 6.25, 8.125, 11.25, 15.625],\n",
    "              [2.5, 3.125, 5., 8.125, 12.5],\n",
    "              [0.625, 1.25, 3.125, 6.25, 10.625],\n",
    "              [0, 0.625, 2.5, 5.625, 10]],\n",
    "        dx=10,\n",
    "        x0=5,\n",
    "        dy=10,\n",
    "        y0=10,\n",
    "    )\n",
    ")\n",
    "\n",
    "fig.show()"
   ]
  },
  {
   "cell_type": "markdown",
   "id": "de5158e2",
   "metadata": {},
   "source": [
    "### Connect the Gaps Between None Values in the Z Matrix ###"
   ]
  },
  {
   "cell_type": "code",
   "execution_count": null,
   "id": "f395e0ab",
   "metadata": {},
   "outputs": [],
   "source": [
    "import plotly.graph_objs as go\n",
    "from plotly.subplots import make_subplots\n",
    "\n",
    "fig = make_subplots(rows=2, cols=2, subplot_titles=('connectgaps = False',\n",
    "                                                        'connectgaps = True'))\n",
    "z = [[None, None, None, 12, 13, 14, 15, 16],\n",
    "     [None, 1, None, 11, None, None, None, 17],\n",
    "     [None, 2, 6, 7, None, None, None, 18],\n",
    "     [None, 3, None, 8, None, None, None, 19],\n",
    "     [5, 4, 10, 9, None, None, None, 20],\n",
    "     [None, None, None, 27, None, None, None, 21],\n",
    "     [None, None, None, 26, 25, 24, 23, 22]]\n",
    "\n",
    "fig.add_trace(go.Contour(z=z, showscale=False), 1, 1)\n",
    "fig.add_trace(go.Contour(z=z, showscale=False, connectgaps=True), 1, 2)\n",
    "fig.add_trace(go.Heatmap(z=z, showscale=False, zsmooth='best'), 2, 1)\n",
    "fig.add_trace(go.Heatmap(z=z, showscale=False, connectgaps=True, zsmooth='best'), 2, 2)\n",
    "\n",
    "fig['layout']['yaxis1'].update(title=dict(text='Contour map'))\n",
    "fig['layout']['yaxis3'].update(title=dict(text='Heatmap'))\n",
    "\n",
    "fig.show()"
   ]
  },
  {
   "cell_type": "markdown",
   "id": "92213dcc",
   "metadata": {},
   "source": [
    "### Smoothing the Contour lines ###"
   ]
  },
  {
   "cell_type": "code",
   "execution_count": null,
   "id": "8c09798f",
   "metadata": {},
   "outputs": [],
   "source": [
    "import plotly.graph_objects as go\n",
    "from plotly.subplots import make_subplots\n",
    "import numpy as np\n",
    "\n",
    "z =   [[2, 4, 7, 12, 13, 14, 15, 16],\n",
    "       [3, 1, 6, 11, 12, 13, 16, 17],\n",
    "       [4, 2, 7, 7, 11, 14, 17, 18],\n",
    "       [5, 3, 8, 8, 13, 15, 18, 19],\n",
    "       [7, 4, 10, 9, 16, 18, 20, 19],\n",
    "       [9, 10, 5, 27, 23, 21, 21, 21],\n",
    "       [11, 14, 17, 26, 25, 24, 23, 22]]\n",
    "\n",
    "fig = make_subplots(rows=1, cols=2,\n",
    "                    subplot_titles=('Without Smoothing', 'With Smoothing'))\n",
    "\n",
    "fig.add_trace(go.Contour(z=z, line_smoothing=0), 1, 1)\n",
    "fig.add_trace(go.Contour(z=z, line_smoothing=0.85), 1, 2)\n",
    "\n",
    "fig.show()"
   ]
  },
  {
   "cell_type": "markdown",
   "id": "208c3060",
   "metadata": {},
   "source": [
    "### Smooth Contour Coloring ###"
   ]
  },
  {
   "cell_type": "code",
   "execution_count": null,
   "id": "6e6bf418",
   "metadata": {},
   "outputs": [],
   "source": [
    "import plotly.graph_objects as go\n",
    "\n",
    "fig = go.Figure(data=\n",
    "    go.Contour(\n",
    "        z=[[10, 10.625, 12.5, 15.625, 20],\n",
    "           [5.625, 6.25, 8.125, 11.25, 15.625],\n",
    "           [2.5, 3.125, 5., 8.125, 12.5],\n",
    "           [0.625, 1.25, 3.125, 6.25, 10.625],\n",
    "           [0, 0.625, 2.5, 5.625, 10]],\n",
    "        # heatmap gradient coloring is applied between each contour level\n",
    "        contours_coloring='heatmap' # can also be 'lines', or 'none'\n",
    "    )\n",
    ")\n",
    "\n",
    "fig.show()"
   ]
  },
  {
   "cell_type": "markdown",
   "id": "05041566",
   "metadata": {},
   "source": [
    "### Contour Line Labels ###"
   ]
  },
  {
   "cell_type": "code",
   "execution_count": null,
   "id": "5d1f3437",
   "metadata": {},
   "outputs": [],
   "source": [
    "import plotly.graph_objects as go\n",
    "\n",
    "fig = go.Figure(data=\n",
    "    go.Contour(\n",
    "        z=[[10, 10.625, 12.5, 15.625, 20],\n",
    "           [5.625, 6.25, 8.125, 11.25, 15.625],\n",
    "           [2.5, 3.125, 5., 8.125, 12.5],\n",
    "           [0.625, 1.25, 3.125, 6.25, 10.625],\n",
    "           [0, 0.625, 2.5, 5.625, 10]],\n",
    "        contours=dict(\n",
    "            coloring ='heatmap',\n",
    "            showlabels = True, # show labels on contours\n",
    "            labelfont = dict( # label font properties\n",
    "                size = 12,\n",
    "                color = 'white',\n",
    "            )\n",
    "        )))\n",
    "\n",
    "fig.show()"
   ]
  },
  {
   "cell_type": "markdown",
   "id": "da80fc43",
   "metadata": {},
   "source": [
    "### Contour Lines ###"
   ]
  },
  {
   "cell_type": "code",
   "execution_count": null,
   "id": "420a0640",
   "metadata": {},
   "outputs": [],
   "source": [
    "import plotly.graph_objects as go\n",
    "\n",
    "fig = go.Figure(data=\n",
    "    go.Contour(\n",
    "        z=[[10, 10.625, 12.5, 15.625, 20],\n",
    "           [5.625, 6.25, 8.125, 11.25, 15.625],\n",
    "           [2.5, 3.125, 5., 8.125, 12.5],\n",
    "           [0.625, 1.25, 3.125, 6.25, 10.625],\n",
    "           [0, 0.625, 2.5, 5.625, 10]],\n",
    "        contours_coloring='lines',\n",
    "        line_width=2,\n",
    "    )\n",
    ")\n",
    "\n",
    "fig.show()"
   ]
  },
  {
   "cell_type": "markdown",
   "id": "5d80898b",
   "metadata": {},
   "source": [
    "### Custom Contour Plot Colorscale ###"
   ]
  },
  {
   "cell_type": "code",
   "execution_count": null,
   "id": "25ac5a0a",
   "metadata": {},
   "outputs": [],
   "source": [
    "import plotly.graph_objects as go\n",
    "\n",
    "# Valid color strings are CSS colors, rgb or hex strings\n",
    "colorscale = [[0, 'gold'], [0.5, 'mediumturquoise'], [1, 'lightsalmon']]\n",
    "\n",
    "fig = go.Figure(data =\n",
    "    go.Contour(\n",
    "        z=[[10, 10.625, 12.5, 15.625, 20],\n",
    "           [5.625, 6.25, 8.125, 11.25, 15.625],\n",
    "           [2.5, 3.125, 5., 8.125, 12.5],\n",
    "           [0.625, 1.25, 3.125, 6.25, 10.625],\n",
    "           [0, 0.625, 2.5, 5.625, 10]],\n",
    "        colorscale=colorscale)\n",
    ")\n",
    "\n",
    "fig.show()"
   ]
  },
  {
   "cell_type": "markdown",
   "id": "b288c143",
   "metadata": {},
   "source": [
    "### Color Bar Title ###"
   ]
  },
  {
   "cell_type": "code",
   "execution_count": null,
   "id": "877f2791",
   "metadata": {},
   "outputs": [],
   "source": [
    "import plotly.graph_objects as go\n",
    "\n",
    "fig = go.Figure(data=\n",
    "    go.Contour(\n",
    "        z=[[10, 10.625, 12.5, 15.625, 20],\n",
    "           [5.625, 6.25, 8.125, 11.25, 15.625],\n",
    "           [2.5, 3.125, 5., 8.125, 12.5],\n",
    "           [0.625, 1.25, 3.125, 6.25, 10.625],\n",
    "           [0, 0.625, 2.5, 5.625, 10]],\n",
    "        colorbar=dict(\n",
    "            title=dict(\n",
    "                text='Color bar title', # title here\n",
    "                side='right',\n",
    "                font=dict(\n",
    "                    size=14,\n",
    "                    family='Arial, sans-serif')\n",
    "                )\n",
    "            ),\n",
    "        ))\n",
    "\n",
    "fig.show()"
   ]
  },
  {
   "cell_type": "markdown",
   "id": "f98946c9",
   "metadata": {},
   "source": [
    "### Color Bar Size for Contour Plots\n",
    "\n",
    "In the example below, both the thickness (given here in pixels) and the length (given here as a fraction of the plot height) are set."
   ]
  },
  {
   "cell_type": "code",
   "execution_count": null,
   "id": "63ecdc78",
   "metadata": {},
   "outputs": [],
   "source": [
    "import plotly.graph_objects as go\n",
    "\n",
    "fig = go.Figure(data=\n",
    "    go.Contour(\n",
    "        z=[[10, 10.625, 12.5, 15.625, 20],\n",
    "           [5.625, 6.25, 8.125, 11.25, 15.625],\n",
    "           [2.5, 3.125, 5., 8.125, 12.5],\n",
    "           [0.625, 1.25, 3.125, 6.25, 10.625],\n",
    "           [0, 0.625, 2.5, 5.625, 10]],\n",
    "        colorbar=dict(\n",
    "            thickness=25,\n",
    "            thicknessmode='pixels',\n",
    "            len=0.6,\n",
    "            lenmode='fraction',\n",
    "            outlinewidth=0\n",
    "        )\n",
    "    ))\n",
    "\n",
    "fig.show()"
   ]
  },
  {
   "cell_type": "markdown",
   "id": "80eda4f2",
   "metadata": {},
   "source": [
    "### Styling Color Bar Ticks for Contour Plots"
   ]
  },
  {
   "cell_type": "code",
   "execution_count": null,
   "id": "c9be6358",
   "metadata": {},
   "outputs": [],
   "source": [
    "import plotly.graph_objects as go\n",
    "\n",
    "fig = go.Figure(data =\n",
    "         go.Contour(\n",
    "           z=[[10, 10.625, 12.5, 15.625, 20],\n",
    "              [5.625, 6.25, 8.125, 11.25, 15.625],\n",
    "              [2.5, 3.125, 5., 8.125, 12.5],\n",
    "              [0.625, 1.25, 3.125, 6.25, 10.625],\n",
    "              [0, 0.625, 2.5, 5.625, 10]],\n",
    "           colorbar=dict(nticks=10, ticks='outside',\n",
    "                         ticklen=5, tickwidth=1,\n",
    "                         showticklabels=True,\n",
    "                         tickangle=0, tickfont_size=12)\n",
    "            ))\n",
    "\n",
    "fig.show()"
   ]
  },
  {
   "cell_type": "markdown",
   "id": "a620373c",
   "metadata": {},
   "source": [
    "#### Reference\n",
    "See https://plotly.com/python/reference/contour/ for more information and chart attribute options!"
   ]
  },
  {
   "cell_type": "markdown",
   "id": "72f136a3",
   "metadata": {},
   "source": [
    "### What About Dash?\n",
    "\n",
    "[Dash](https://dash.plot.ly/) is an open-source framework for building analytical applications, with no Javascript required, and it is tightly integrated with the Plotly graphing library.\n",
    "\n",
    "Learn about how to install Dash at https://dash.plot.ly/installation.\n",
    "\n",
    "Everywhere in this page that you see `fig.show()`, you can display the same figure in a Dash application by passing it to the `figure` argument of the [`Graph` component](https://dash.plot.ly/dash-core-components/graph) from the built-in `dash_core_components` package like this:\n",
    "\n",
    "```python\n",
    "import plotly.graph_objects as go # or plotly.express as px\n",
    "fig = go.Figure() # or any Plotly Express function e.g. px.bar(...)\n",
    "# fig.add_trace( ... )\n",
    "# fig.update_layout( ... )\n",
    "\n",
    "from dash import Dash, dcc, html\n",
    "\n",
    "app = Dash()\n",
    "app.layout = html.Div([\n",
    "    dcc.Graph(figure=fig)\n",
    "])\n",
    "\n",
    "app.run_server(debug=True, use_reloader=False)  # Turn off reloader if inside Jupyter\n",
    "```"
   ]
  }
 ],
 "metadata": {
  "jupytext": {
   "notebook_metadata_filter": "all"
  },
  "kernelspec": {
   "display_name": "Python 3",
   "language": "python",
   "name": "python3"
  },
  "language_info": {
   "codemirror_mode": {
    "name": "ipython",
    "version": 3
   },
   "file_extension": ".py",
   "mimetype": "text/x-python",
   "name": "python",
   "nbconvert_exporter": "python",
   "pygments_lexer": "ipython3",
   "version": "3.6.7"
  },
  "plotly": {
   "description": "How to make Contour plots in Python with Plotly.",
   "display_as": "scientific",
   "language": "python",
   "layout": "base",
   "name": "Contour Plots",
   "order": 1,
   "page_type": "example_index",
   "permalink": "python/contour-plots/",
   "thumbnail": "thumbnail/contour.jpg"
  }
 },
 "nbformat": 4,
 "nbformat_minor": 5
}
