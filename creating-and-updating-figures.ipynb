{
 "cells": [
  {
   "cell_type": "markdown",
   "id": "60037549",
   "metadata": {},
   "source": [
    "The `plotly` Python package exists to create, manipulate and [render](/python/renderers/) graphical figures (i.e. charts, plots, maps and diagrams) represented by [data structures also referred to as figures](/python/figure-structure/). The rendering process uses the [Plotly.js JavaScript library](https://plotly.com/javascript/) under the hood although Python developers using this module very rarely need to interact with the Javascript library directly, if ever. Figures can be represented in Python either as dicts or as instances of the `plotly.graph_objects.Figure` class, and are serialized as text in [JavaScript Object Notation (JSON)](https://json.org/) before being passed to Plotly.js.\n",
    "\n",
    "> Note: the recommended entry-point into the plotly package is the [high-level plotly.express module, also known as Plotly Express](/python/plotly-express/), which consists of Python functions which return fully-populated `plotly.graph_objects.Figure` objects. This page exists to document the structure of the data structure that these objects represent for users who wish to understand more about how to customize them, or assemble them from other `plotly.graph_objects` components.\n",
    "\n",
    "### Figures As Dictionaries\n",
    "\n",
    "At a low level, figures can be represented as dictionaries and displayed using functions from the `plotly.io` module. The `fig` dictionary in the example below describes a figure. It contains a single `bar` trace and a title."
   ]
  },
  {
   "cell_type": "code",
   "execution_count": null,
   "id": "d3fb814a",
   "metadata": {},
   "outputs": [],
   "source": [
    "fig = dict({\n",
    "    \"data\": [{\"type\": \"bar\",\n",
    "              \"x\": [1, 2, 3],\n",
    "              \"y\": [1, 3, 2]}],\n",
    "    \"layout\": {\"title\": {\"text\": \"A Figure Specified By Python Dictionary\"}}\n",
    "})\n",
    "\n",
    "# To display the figure defined by this dict, use the low-level plotly.io.show function\n",
    "import plotly.io as pio\n",
    "\n",
    "pio.show(fig)"
   ]
  },
  {
   "cell_type": "markdown",
   "id": "c7e13702",
   "metadata": {},
   "source": [
    "### Figures as Graph Objects\n",
    "\n",
    "The [`plotly.graph_objects` module provides an automatically-generated hierarchy of classes](https://plotly.com/python-api-reference/plotly.graph_objects.html) called [\"graph objects\"](/python/graph-objects/) that may be used to represent figures, with a top-level class `plotly.graph_objects.Figure`.\n",
    "\n",
    "> Note that the *recommended alternative* to working with Python dictionaries is to [create entire figures at once using Plotly Express](/python/plotly-express/) and to manipulate the resulting `plotly.graph_objects.Figure` objects as described in this page, wherever possible, rather than to assemble figures bottom-up from underlying graph objects. See [\"When to use Graph Objects\"](/python/graph-objects/).\n",
    "\n",
    "Graph objects have several benefits compared to plain Python dictionaries.\n",
    "\n",
    "1. Graph objects provide precise data validation. If you provide an invalid property name or an invalid property value as the key to a graph object, an exception will be raised with a helpful error message describing the problem. This is not the case if you use plain Python dictionaries and lists to build your figures.\n",
    "2. Graph objects contain descriptions of each valid property as Python docstrings, with a [full API reference available](https://plotly.com/python-api-reference/). You can use these docstrings in the development environment of your choice to learn about the available properties as an alternative to consulting the online [Full Reference](/python/reference/index/).\n",
    "3. Properties of graph objects can be accessed using both dictionary-style key lookup (e.g. `fig[\"layout\"]`) or class-style property access (e.g. `fig.layout`).\n",
    "4. Graph objects support higher-level convenience functions for making updates to already constructed figures (`.update_layout()`, `.add_trace()` etc) as described below.\n",
    "5. Graph object constructors and update methods accept \"magic underscores\" (e.g. `go.Figure(layout_title_text=\"The Title\")` rather than `dict(layout=dict(title=dict(text=\"The Title\")))`) for more compact code, as described below.\n",
    "6. Graph objects support attached rendering (`.show()`) and exporting functions (`.write_image()`) that automatically invoke the appropriate functions from [the `plotly.io` module](https://plotly.com/python-api-reference/plotly.io.html)."
   ]
  },
  {
   "cell_type": "markdown",
   "id": "455d85ec",
   "metadata": {},
   "source": [
    "Below you can find an example of one way that the figure in the example above could be specified using a graph object instead of a dictionary."
   ]
  },
  {
   "cell_type": "code",
   "execution_count": null,
   "id": "31c34160",
   "metadata": {},
   "outputs": [],
   "source": [
    "import plotly.graph_objects as go\n",
    "\n",
    "fig = go.Figure(\n",
    "    data=[go.Bar(x=[1, 2, 3], y=[1, 3, 2])],\n",
    "    layout=go.Layout(\n",
    "        title=go.layout.Title(text=\"A Figure Specified By A Graph Object\")\n",
    "    )\n",
    ")\n",
    "\n",
    "fig.show()"
   ]
  },
  {
   "cell_type": "markdown",
   "id": "1fb001a6",
   "metadata": {},
   "source": [
    "You can also create a graph object figure from a dictionary representation by passing the dictionary to the `go.Figure` constructor."
   ]
  },
  {
   "cell_type": "code",
   "execution_count": null,
   "id": "441f9077",
   "metadata": {},
   "outputs": [],
   "source": [
    "import plotly.graph_objects as go\n",
    "\n",
    "dict_of_fig = dict({\n",
    "    \"data\": [{\"type\": \"bar\",\n",
    "              \"x\": [1, 2, 3],\n",
    "              \"y\": [1, 3, 2]}],\n",
    "    \"layout\": {\"title\": {\"text\": \"A Figure Specified By A Graph Object With A Dictionary\"}}\n",
    "})\n",
    "\n",
    "fig = go.Figure(dict_of_fig)\n",
    "\n",
    "fig.show()"
   ]
  },
  {
   "cell_type": "markdown",
   "id": "b963c530",
   "metadata": {},
   "source": [
    "##### Converting Graph Objects To Dictionaries and JSON\n",
    "\n",
    "Graph objects can be turned into their Python dictionary representation using the `fig.to_dict()` method. You can also retrieve the JSON string representation of a graph object using the `fig.to_json()` method."
   ]
  },
  {
   "cell_type": "code",
   "execution_count": null,
   "id": "007a4b44",
   "metadata": {},
   "outputs": [],
   "source": [
    "import plotly.graph_objects as go\n",
    "\n",
    "fig = go.Figure(\n",
    "    data=[go.Bar(x=[1, 2, 3], y=[1, 3, 2])],\n",
    "    layout=go.Layout(height=600, width=800)\n",
    ")\n",
    "\n",
    "fig.layout.template = None # to slim down the output\n",
    "\n",
    "print(\"Dictionary Representation of A Graph Object:\\n\\n\" + str(fig.to_dict()))\n",
    "print(\"\\n\\n\")\n",
    "print(\"JSON Representation of A Graph Object:\\n\\n\" + str(fig.to_json()))\n",
    "print(\"\\n\\n\")"
   ]
  },
  {
   "cell_type": "markdown",
   "id": "af590826",
   "metadata": {},
   "source": [
    "### Representing Figures in Dash\n",
    "\n",
    "[Dash](https://plotly.com/dash/) is the best way to build analytical apps in Python using Plotly figures. To run the app below, run `pip install dash`, click \"Download\" to get the code and run `python app.py`.\n",
    "\n",
    "Get started  with [the official Dash docs](https://dash.plotly.com/installation) and **learn how to effortlessly [style](https://plotly.com/dash/design-kit/) & [deploy](https://plotly.com/dash/app-manager/) apps like this with <a class=\"plotly-red\" href=\"https://plotly.com/dash/\">Dash Enterprise</a>.**\n"
   ]
  },
  {
   "cell_type": "code",
   "execution_count": null,
   "id": "f50e5178",
   "metadata": {
    "hide_code": true
   },
   "outputs": [],
   "source": [
    "from IPython.display import IFrame\n",
    "snippet_url = 'https://python-docs-dash-snippets.herokuapp.com/python-docs-dash-snippets/'\n",
    "IFrame(snippet_url + 'figure-structure', width='100%', height=1200)"
   ]
  },
  {
   "cell_type": "markdown",
   "id": "e766e862",
   "metadata": {},
   "source": [
    "<div style=\"font-size: 0.9em;\"><div style=\"width: calc(100% - 30px); box-shadow: none; border: thin solid rgb(229, 229, 229);\"><div style=\"padding: 5px;\"><div><p><strong>Sign up for Dash Club</strong> → Free cheat sheets plus updates from Chris Parmer and Adam Schroeder delivered to your inbox every two months. Includes tips and tricks, community apps, and deep dives into the Dash architecture.\n",
    "<u><a href=\"https://go.plotly.com/dash-club?utm_source=Dash+Club+2022&utm_medium=graphing_libraries&utm_content=inline\">Join now</a></u>.</p></div></div></div></div>"
   ]
  },
  {
   "cell_type": "markdown",
   "id": "cdde5963",
   "metadata": {},
   "source": [
    "### Creating Figures\n",
    "\n",
    "This section summarizes several ways to create new graph object figures with the `plotly.py` graphing library.\n",
    "\n",
    "> The *recommended way* to create figures and populate them is to use [Plotly Express](/python/plotly-express/) but this page documents various other options for completeness"
   ]
  },
  {
   "cell_type": "markdown",
   "id": "d39b5da4",
   "metadata": {},
   "source": [
    "#### Plotly Express\n",
    "\n",
    "[Plotly Express](https://plot.ly/python/plotly-express/) (included as the `plotly.express` module) is a high-level data visualization API that produces fully-populated graph object figures in single function-calls."
   ]
  },
  {
   "cell_type": "code",
   "execution_count": null,
   "id": "e309a1b2",
   "metadata": {},
   "outputs": [],
   "source": [
    "import plotly.express as px\n",
    "\n",
    "df = px.data.iris()\n",
    "fig = px.scatter(df, x=\"sepal_width\", y=\"sepal_length\", color=\"species\", title=\"A Plotly Express Figure\")\n",
    "\n",
    "# If you print the figure, you'll see that it's just a regular figure with data and layout\n",
    "# print(fig)\n",
    "\n",
    "fig.show()"
   ]
  },
  {
   "cell_type": "markdown",
   "id": "b2f02633",
   "metadata": {},
   "source": [
    "#### Graph Objects `Figure` Constructor\n",
    "\n",
    "As demonstrated above, you can build a complete figure by passing trace and layout specifications to the `plotly.graph_objects.Figure` constructor. These trace and layout specifications can be either dictionaries or graph objects.\n",
    "\n",
    "In the following example, the traces are specified using graph objects and the layout is specified as a dictionary."
   ]
  },
  {
   "cell_type": "code",
   "execution_count": null,
   "id": "70c338c9",
   "metadata": {},
   "outputs": [],
   "source": [
    "import plotly.graph_objects as go\n",
    "\n",
    "fig = go.Figure(\n",
    "    data=[go.Bar(x=[1, 2, 3], y=[1, 3, 2])],\n",
    "    layout=dict(title=dict(text=\"A Figure Specified By A Graph Object\"))\n",
    ")\n",
    "\n",
    "fig.show()"
   ]
  },
  {
   "cell_type": "markdown",
   "id": "bea19d7b",
   "metadata": {},
   "source": [
    "#### Figure Factories\n",
    "\n",
    "[Figure factories](/python/figure-factories) (included in `plotly.py` in the `plotly.figure_factory` module) are functions that produce graph object figures, often to satisfy the needs of specialized domains. Here's an example of using the `create_quiver()` figure factory to construct a graph object figure that displays a 2D quiver plot."
   ]
  },
  {
   "cell_type": "code",
   "execution_count": null,
   "id": "9577c9a9",
   "metadata": {},
   "outputs": [],
   "source": [
    "import numpy as np\n",
    "import plotly.figure_factory as ff\n",
    "\n",
    "x1,y1 = np.meshgrid(np.arange(0, 2, .2), np.arange(0, 2, .2))\n",
    "u1 = np.cos(x1)*y1\n",
    "v1 = np.sin(x1)*y1\n",
    "\n",
    "fig = ff.create_quiver(x1, y1, u1, v1)\n",
    "\n",
    "fig.show()"
   ]
  },
  {
   "cell_type": "markdown",
   "id": "ce75b681",
   "metadata": {},
   "source": [
    "#### Make Subplots\n",
    "\n",
    "The `plotly.subplots.make_subplots()` function produces a graph object figure that is preconfigured with a grid of subplots that traces can be added to. The `add_trace()` function will be discussed more below."
   ]
  },
  {
   "cell_type": "code",
   "execution_count": null,
   "id": "64bc861a",
   "metadata": {},
   "outputs": [],
   "source": [
    "from plotly.subplots import make_subplots\n",
    "\n",
    "fig = make_subplots(rows=1, cols=2)\n",
    "\n",
    "fig.add_trace(go.Scatter(y=[4, 2, 1], mode=\"lines\"), row=1, col=1)\n",
    "fig.add_trace(go.Bar(y=[2, 1, 3]), row=1, col=2)\n",
    "\n",
    "fig.show()"
   ]
  },
  {
   "cell_type": "markdown",
   "id": "042974ac",
   "metadata": {},
   "source": [
    "### Updating Figures\n",
    "\n",
    "Regardless of how a graph object figure was constructed, it can be updated by adding additional traces to it and modifying its properties.\n",
    "\n",
    "#### Adding Traces\n",
    "\n",
    "New traces can be added to a graph object figure using the `add_trace()` method. This method accepts a graph object trace (an instance of `go.Scatter`, `go.Bar`, etc.) and adds it to the figure. This allows you to start with an empty figure, and add traces to it sequentially. The `append_trace()` method does the same thing, although it does not return the figure."
   ]
  },
  {
   "cell_type": "code",
   "execution_count": null,
   "id": "f94a4efd",
   "metadata": {},
   "outputs": [],
   "source": [
    "import plotly.graph_objects as go\n",
    "\n",
    "fig = go.Figure()\n",
    "\n",
    "fig.add_trace(go.Bar(x=[1, 2, 3], y=[1, 3, 2]))\n",
    "\n",
    "fig.show()"
   ]
  },
  {
   "cell_type": "markdown",
   "id": "fbc5754d",
   "metadata": {},
   "source": [
    "You can also add traces to a figure produced by a figure factory or Plotly Express."
   ]
  },
  {
   "cell_type": "code",
   "execution_count": null,
   "id": "981d70e5",
   "metadata": {},
   "outputs": [],
   "source": [
    "import plotly.express as px\n",
    "\n",
    "df = px.data.iris()\n",
    "\n",
    "fig = px.scatter(df, x=\"sepal_width\", y=\"sepal_length\", color=\"species\",\n",
    "                 title=\"Using The add_trace() method With A Plotly Express Figure\")\n",
    "\n",
    "fig.add_trace(\n",
    "    go.Scatter(\n",
    "        x=[2, 4],\n",
    "        y=[4, 8],\n",
    "        mode=\"lines\",\n",
    "        line=go.scatter.Line(color=\"gray\"),\n",
    "        showlegend=False)\n",
    ")\n",
    "fig.show()"
   ]
  },
  {
   "cell_type": "markdown",
   "id": "687bbe6f",
   "metadata": {},
   "source": [
    "#### Adding Traces To Subplots\n",
    "\n",
    "If a figure was created using `plotly.subplots.make_subplots()`, then supplying the `row` and `col` arguments to `add_trace()` can be used to add a trace to a particular subplot."
   ]
  },
  {
   "cell_type": "code",
   "execution_count": null,
   "id": "f79269bf",
   "metadata": {},
   "outputs": [],
   "source": [
    "from plotly.subplots import make_subplots\n",
    "\n",
    "fig = make_subplots(rows=1, cols=2)\n",
    "\n",
    "fig.add_trace(go.Scatter(y=[4, 2, 1], mode=\"lines\"), row=1, col=1)\n",
    "fig.add_trace(go.Bar(y=[2, 1, 3]), row=1, col=2)\n",
    "\n",
    "fig.show()"
   ]
  },
  {
   "cell_type": "markdown",
   "id": "cc2d3afa",
   "metadata": {},
   "source": [
    "This also works for figures created by Plotly Express using the `facet_row` and or `facet_col` arguments."
   ]
  },
  {
   "cell_type": "code",
   "execution_count": null,
   "id": "f991c627",
   "metadata": {},
   "outputs": [],
   "source": [
    "import plotly.express as px\n",
    "\n",
    "df = px.data.iris()\n",
    "\n",
    "fig = px.scatter(df, x=\"sepal_width\", y=\"sepal_length\", color=\"species\", facet_col=\"species\",\n",
    "                 title=\"Adding Traces To Subplots Witin A Plotly Express Figure\")\n",
    "\n",
    "reference_line = go.Scatter(x=[2, 4],\n",
    "                            y=[4, 8],\n",
    "                            mode=\"lines\",\n",
    "                            line=go.scatter.Line(color=\"gray\"),\n",
    "                            showlegend=False)\n",
    "\n",
    "fig.add_trace(reference_line, row=1, col=1)\n",
    "fig.add_trace(reference_line, row=1, col=2)\n",
    "fig.add_trace(reference_line, row=1, col=3)\n",
    "\n",
    "fig.show()"
   ]
  },
  {
   "cell_type": "markdown",
   "id": "2e618103",
   "metadata": {},
   "source": [
    "#### Add Trace Convenience Methods\n",
    "\n",
    "As an alternative to the `add_trace()` method, graph object figures have a family of methods of the form `add_{trace}` (where `{trace}` is the name of a trace type) for constructing and adding traces of each trace type.\n",
    "\n",
    "Here is the previous subplot example, adapted to add the scatter trace using `fig.add_scatter()` and to add the bar trace using `fig.add_bar()`."
   ]
  },
  {
   "cell_type": "code",
   "execution_count": null,
   "id": "f05ca7db",
   "metadata": {},
   "outputs": [],
   "source": [
    "from plotly.subplots import make_subplots\n",
    "\n",
    "fig = make_subplots(rows=1, cols=2)\n",
    "\n",
    "fig.add_scatter(y=[4, 2, 1], mode=\"lines\", row=1, col=1)\n",
    "fig.add_bar(y=[2, 1, 3], row=1, col=2)\n",
    "\n",
    "fig.show()"
   ]
  },
  {
   "cell_type": "markdown",
   "id": "38c9128b",
   "metadata": {},
   "source": [
    "#### Magic Underscore Notation\n",
    "\n",
    "To make it easier to work with nested properties, graph object constructors and many graph object methods support magic underscore notation.\n",
    "\n",
    "This allows you to reference nested properties by joining together multiple nested property names with underscores.\n",
    "\n",
    "For example, specifying the figure title in the figure constructor _without_ magic underscore notation requires setting the `layout` argument to `dict(title=dict(text=\"A Chart\"))`.\n",
    "\n",
    "Similarly, setting the line color of a scatter trace requires setting the `marker` property to `dict(color=\"crimson\")`."
   ]
  },
  {
   "cell_type": "code",
   "execution_count": null,
   "id": "35d0bd9f",
   "metadata": {},
   "outputs": [],
   "source": [
    "import plotly.graph_objects as go\n",
    "\n",
    "fig = go.Figure(\n",
    "    data=[go.Scatter(y=[1, 3, 2], line=dict(color=\"crimson\"))],\n",
    "    layout=dict(title=dict(text=\"A Graph Objects Figure Without Magic Underscore Notation\"))\n",
    ")\n",
    "\n",
    "fig.show()"
   ]
  },
  {
   "cell_type": "markdown",
   "id": "ad200e8f",
   "metadata": {},
   "source": [
    "With magic underscore notation, you can accomplish the same thing by passing the figure constructor a keyword argument named `layout_title_text`, and by passing the `go.Scatter` constructor a keyword argument named `line_color`."
   ]
  },
  {
   "cell_type": "code",
   "execution_count": null,
   "id": "128c28fe",
   "metadata": {},
   "outputs": [],
   "source": [
    "import plotly.graph_objects as go\n",
    "\n",
    "fig = go.Figure(\n",
    "    data=[go.Scatter(y=[1, 3, 2], line_color=\"crimson\")],\n",
    "    layout_title_text=\"A Graph Objects Figure With Magic Underscore Notation\"\n",
    ")\n",
    "\n",
    "fig.show()"
   ]
  },
  {
   "cell_type": "markdown",
   "id": "d5f1aacf",
   "metadata": {},
   "source": [
    "Magic underscore notation is supported throughout the graph objects API, and it can often significantly simplify operations involving deeply nested properties.\n",
    "\n",
    "> Note: When you see keyword arguments with underscores passed to a graph object constructor or method, it is almost always safe to assume that it is an application of magic underscore notation. We have to say \"almost always\" rather than \"always\" because there are a few property names in the plotly schema that contain underscores: error_x, error_y, error_z, copy_xstyle, copy_ystyle, copy_zstyle, paper_bgcolor, and plot_bgcolor. These were added back in the early days of the library (2012-2013) before we standardized on banning underscores from property names.\n",
    "\n",
    "#### Updating Figure Layouts\n",
    "\n",
    "Graph object figures support an `update_layout()` method that may be used to update multiple nested properties of a figure's layout.\n",
    "\n",
    "Here is an example of updating the text and font size of a figure's title using `update_layout()`."
   ]
  },
  {
   "cell_type": "code",
   "execution_count": null,
   "id": "73ec762c",
   "metadata": {},
   "outputs": [],
   "source": [
    "import plotly.graph_objects as go\n",
    "\n",
    "fig = go.Figure(data=go.Bar(x=[1, 2, 3], y=[1, 3, 2]))\n",
    "\n",
    "fig.update_layout(title_text=\"Using update_layout() With Graph Object Figures\",\n",
    "                  title_font_size=30)\n",
    "\n",
    "fig.show()"
   ]
  },
  {
   "cell_type": "markdown",
   "id": "08e43cab",
   "metadata": {},
   "source": [
    "Note that the following `update_layout()` operations are equivalent:"
   ]
  },
  {
   "cell_type": "code",
   "execution_count": null,
   "id": "c6cc86b5",
   "metadata": {},
   "outputs": [],
   "source": [
    "fig.update_layout(title_text=\"update_layout() Syntax Example\",\n",
    "                  title_font_size=30)\n",
    "\n",
    "fig.update_layout(title_text=\"update_layout() Syntax Example\",\n",
    "                  title_font=dict(size=30))\n",
    "\n",
    "\n",
    "fig.update_layout(title=dict(text=\"update_layout() Syntax Example\"),\n",
    "                             font=dict(size=30))\n",
    "\n",
    "fig.update_layout({\"title\": {\"text\": \"update_layout() Syntax Example\",\n",
    "                             \"font\": {\"size\": 30}}})\n",
    "\n",
    "fig.update_layout(title=go.layout.Title(text=\"update_layout() Syntax Example\",\n",
    "                                        font=go.layout.title.Font(size=30)))"
   ]
  },
  {
   "cell_type": "markdown",
   "id": "f9ef0843",
   "metadata": {},
   "source": [
    "#### Updating Traces\n",
    "\n",
    "Graph object figures support an `update_traces()` method that may be used to update multiple nested properties of one or more of a figure's traces.\n",
    "\n",
    "To show some examples, we will start with a figure that contains `bar` and `scatter` traces across two subplots."
   ]
  },
  {
   "cell_type": "code",
   "execution_count": null,
   "id": "a0cba5b6",
   "metadata": {},
   "outputs": [],
   "source": [
    "from plotly.subplots import make_subplots\n",
    "\n",
    "fig = make_subplots(rows=1, cols=2)\n",
    "\n",
    "fig.add_scatter(y=[4, 2, 3.5], mode=\"markers\",\n",
    "                marker=dict(size=20, color=\"LightSeaGreen\"),\n",
    "                name=\"a\", row=1, col=1)\n",
    "\n",
    "fig.add_bar(y=[2, 1, 3],\n",
    "            marker=dict(color=\"MediumPurple\"),\n",
    "            name=\"b\", row=1, col=1)\n",
    "\n",
    "fig.add_scatter(y=[2, 3.5, 4], mode=\"markers\",\n",
    "                marker=dict(size=20, color=\"MediumPurple\"),\n",
    "                name=\"c\", row=1, col=2)\n",
    "\n",
    "fig.add_bar(y=[1, 3, 2],\n",
    "            marker=dict(color=\"LightSeaGreen\"),\n",
    "            name=\"d\", row=1, col=2)\n",
    "\n",
    "fig.show()"
   ]
  },
  {
   "cell_type": "markdown",
   "id": "529890ad",
   "metadata": {},
   "source": [
    "Note that both `scatter` and `bar` traces have a `marker.color` property to control their coloring. Here is an example of using `update_traces()` to modify the color of all traces."
   ]
  },
  {
   "cell_type": "code",
   "execution_count": null,
   "id": "ea743aec",
   "metadata": {},
   "outputs": [],
   "source": [
    "from plotly.subplots import make_subplots\n",
    "\n",
    "fig = make_subplots(rows=1, cols=2)\n",
    "\n",
    "fig.add_scatter(y=[4, 2, 3.5], mode=\"markers\",\n",
    "                marker=dict(size=20, color=\"LightSeaGreen\"),\n",
    "                name=\"a\", row=1, col=1)\n",
    "\n",
    "fig.add_bar(y=[2, 1, 3],\n",
    "            marker=dict(color=\"MediumPurple\"),\n",
    "            name=\"b\", row=1, col=1)\n",
    "\n",
    "fig.add_scatter(y=[2, 3.5, 4], mode=\"markers\",\n",
    "                marker=dict(size=20, color=\"MediumPurple\"),\n",
    "                name=\"c\", row=1, col=2)\n",
    "\n",
    "fig.add_bar(y=[1, 3, 2],\n",
    "            marker=dict(color=\"LightSeaGreen\"),\n",
    "            name=\"d\", row=1, col=2)\n",
    "\n",
    "fig.update_traces(marker=dict(color=\"RoyalBlue\"))\n",
    "\n",
    "fig.show()"
   ]
  },
  {
   "cell_type": "markdown",
   "id": "1df4d40a",
   "metadata": {},
   "source": [
    "The `update_traces()` method supports a `selector` argument to control which traces should be updated. Only traces with properties that match the selector will be updated. Here is an example of using a selector to only update the color of the `bar` traces."
   ]
  },
  {
   "cell_type": "code",
   "execution_count": null,
   "id": "006be53b",
   "metadata": {},
   "outputs": [],
   "source": [
    "from plotly.subplots import make_subplots\n",
    "\n",
    "fig = make_subplots(rows=1, cols=2)\n",
    "\n",
    "fig.add_scatter(y=[4, 2, 3.5], mode=\"markers\",\n",
    "                marker=dict(size=20, color=\"LightSeaGreen\"),\n",
    "                name=\"a\", row=1, col=1)\n",
    "\n",
    "fig.add_bar(y=[2, 1, 3],\n",
    "            marker=dict(color=\"MediumPurple\"),\n",
    "            name=\"b\", row=1, col=1)\n",
    "\n",
    "fig.add_scatter(y=[2, 3.5, 4], mode=\"markers\",\n",
    "                marker=dict(size=20, color=\"MediumPurple\"),\n",
    "                name=\"c\", row=1, col=2)\n",
    "\n",
    "fig.add_bar(y=[1, 3, 2],\n",
    "            marker=dict(color=\"LightSeaGreen\"),\n",
    "            name=\"d\", row=1, col=2)\n",
    "\n",
    "fig.update_traces(marker=dict(color=\"RoyalBlue\"),\n",
    "                  selector=dict(type=\"bar\"))\n",
    "\n",
    "fig.show()"
   ]
  },
  {
   "cell_type": "markdown",
   "id": "5653def6",
   "metadata": {},
   "source": [
    "Magic underscore notation can be used in the selector to match nested properties. Here is an example of updating the color of all traces that were formally colored `\"MediumPurple\"`."
   ]
  },
  {
   "cell_type": "code",
   "execution_count": null,
   "id": "671a7a41",
   "metadata": {},
   "outputs": [],
   "source": [
    "from plotly.subplots import make_subplots\n",
    "\n",
    "fig = make_subplots(rows=1, cols=2)\n",
    "\n",
    "fig.add_scatter(y=[4, 2, 3.5], mode=\"markers\",\n",
    "                marker=dict(size=20, color=\"LightSeaGreen\"),\n",
    "                name=\"a\", row=1, col=1)\n",
    "\n",
    "fig.add_bar(y=[2, 1, 3],\n",
    "            marker=dict(color=\"MediumPurple\"),\n",
    "            name=\"b\", row=1, col=1)\n",
    "\n",
    "fig.add_scatter(y=[2, 3.5, 4], mode=\"markers\",\n",
    "                marker=dict(size=20, color=\"MediumPurple\"),\n",
    "                name=\"c\", row=1, col=2)\n",
    "\n",
    "fig.add_bar(y=[1, 3, 2],\n",
    "            marker=dict(color=\"LightSeaGreen\"),\n",
    "            name=\"d\", row=1, col=2)\n",
    "\n",
    "fig.update_traces(marker_color=\"RoyalBlue\",\n",
    "                  selector=dict(marker_color=\"MediumPurple\"))\n",
    "\n",
    "fig.show()"
   ]
  },
  {
   "cell_type": "markdown",
   "id": "ac3b71b3",
   "metadata": {},
   "source": [
    "For figures with subplots, the `update_traces()` method also supports `row` and `col` arguments to control which traces should be updated. Only traces in the specified subplot row and column will be updated. Here is an example of updating the color of all traces in the second subplot column."
   ]
  },
  {
   "cell_type": "code",
   "execution_count": null,
   "id": "8c07eca0",
   "metadata": {},
   "outputs": [],
   "source": [
    "from plotly.subplots import make_subplots\n",
    "\n",
    "fig = make_subplots(rows=1, cols=2)\n",
    "\n",
    "fig.add_scatter(y=[4, 2, 3.5], mode=\"markers\",\n",
    "                marker=dict(size=20, color=\"LightSeaGreen\"),\n",
    "                name=\"a\", row=1, col=1)\n",
    "\n",
    "fig.add_bar(y=[2, 1, 3],\n",
    "            marker=dict(color=\"MediumPurple\"),\n",
    "            name=\"b\", row=1, col=1)\n",
    "\n",
    "fig.add_scatter(y=[2, 3.5, 4], mode=\"markers\",\n",
    "                marker=dict(size=20, color=\"MediumPurple\"),\n",
    "                name=\"c\", row=1, col=2)\n",
    "\n",
    "fig.add_bar(y=[1, 3, 2],\n",
    "            marker=dict(color=\"LightSeaGreen\"),\n",
    "            name=\"d\", row=1, col=2)\n",
    "\n",
    "fig.update_traces(marker=dict(color=\"RoyalBlue\"),\n",
    "                  col=2)\n",
    "\n",
    "fig.show()"
   ]
  },
  {
   "cell_type": "markdown",
   "id": "5707842f",
   "metadata": {},
   "source": [
    "The `update_traces()` method can also be used on figures produced by figure factories or Plotly Express. Here's an example of updating the regression lines produced by Plotly Express to be dotted."
   ]
  },
  {
   "cell_type": "code",
   "execution_count": null,
   "id": "49b924a7",
   "metadata": {},
   "outputs": [],
   "source": [
    "import pandas as pd\n",
    "import plotly.express as px\n",
    "\n",
    "df = px.data.iris()\n",
    "\n",
    "fig = px.scatter(df, x=\"sepal_width\", y=\"sepal_length\", color=\"species\",\n",
    "                 facet_col=\"species\", trendline=\"ols\", title=\"Using update_traces() With Plotly Express Figures\")\n",
    "\n",
    "fig.update_traces(\n",
    "    line=dict(dash=\"dot\", width=4),\n",
    "    selector=dict(type=\"scatter\", mode=\"lines\"))\n",
    "\n",
    "fig.show()"
   ]
  },
  {
   "cell_type": "markdown",
   "id": "0aaa6d3e",
   "metadata": {},
   "source": [
    "### Overwrite Existing Properties When Using Update Methods\n",
    "\n",
    "`update_layout()` and `update_traces()` have an `overwrite` keyword argument, defaulting to False, in which case updates are applied recursively to the _existing_ nested property structure. When set to True, the prior value of existing properties is overwritten with the provided value.\n",
    "\n",
    "In the example below, the red color of markers is overwritten when updating `marker` in `update_traces()` with `overwrite=True`. Note that setting instead `marker_opacity` with the magic underscore would not overwrite `marker_color` because properties would be overwritten starting only at the level of `marker.opacity`."
   ]
  },
  {
   "cell_type": "code",
   "execution_count": null,
   "id": "86fa8ca7",
   "metadata": {},
   "outputs": [],
   "source": [
    "import plotly.graph_objects as go\n",
    "\n",
    "fig = go.Figure(go.Bar(x=[1, 2, 3], y=[6, 4, 9],\n",
    "                       marker_color=\"red\")) # will be overwritten below\n",
    "\n",
    "fig.update_traces(overwrite=True, marker={\"opacity\": 0.4})\n",
    "\n",
    "fig.show()"
   ]
  },
  {
   "cell_type": "markdown",
   "id": "67f55e16",
   "metadata": {},
   "source": [
    "#### Conditionally Updating Traces\n",
    "\n",
    "Suppose the updates that you want to make to a collection of traces depend on the current values of certain trace properties. The `update_traces()` method cannot handle this situation, but the `for_each_trace()` method can!\n",
    "\n",
    "As its first argument, the `for_each_trace()` method accepts a function that accepts and updates one trace at a time. Like `update_traces()`, `for_each_trace()` also accepts `selector`, `row`, and `col` arguments to control which traces should be considered.\n",
    "\n",
    "Here is an example of using `for_each_trace()` to convert the only markers for the `\"setosa\"` to square symbols in a Plotly Express Figure.\n",
    "\n",
    "**Note that this is possible because Plotly Express figures are made up of a separate trace for each column in the input data frame**"
   ]
  },
  {
   "cell_type": "code",
   "execution_count": null,
   "id": "c91aaa31",
   "metadata": {},
   "outputs": [],
   "source": [
    "import pandas as pd\n",
    "import plotly.express as px\n",
    "\n",
    "df = px.data.iris()\n",
    "\n",
    "fig = px.scatter(df, x=\"sepal_width\", y=\"sepal_length\", color=\"species\",\n",
    "                 title=\"Conditionally Updating Traces In A Plotly Express Figure With for_each_trace()\")\n",
    "\n",
    "fig.for_each_trace(\n",
    "    lambda trace: trace.update(marker_symbol=\"square\") if trace.name == \"setosa\" else (),\n",
    ")\n",
    "\n",
    "fig.show()"
   ]
  },
  {
   "cell_type": "markdown",
   "id": "bf1046f3",
   "metadata": {},
   "source": [
    "#### Updating Figure Axes\n",
    "\n",
    "Graph object figures support `update_xaxes()` and `update_yaxes()` methods that may be used to update multiple nested properties of one or more of a figure's axes. Here is an example of using `update_xaxes()` to disable the vertical grid lines across all subplots in a figure produced by Plotly Express."
   ]
  },
  {
   "cell_type": "code",
   "execution_count": null,
   "id": "83c20cf3",
   "metadata": {},
   "outputs": [],
   "source": [
    "import pandas as pd\n",
    "import plotly.express as px\n",
    "\n",
    "df = px.data.iris()\n",
    "\n",
    "fig = px.scatter(df, x=\"sepal_width\", y=\"sepal_length\", color=\"species\",\n",
    "                 facet_col=\"species\", title=\"Using update_xaxes() With A Plotly Express Figure\")\n",
    "\n",
    "fig.update_xaxes(showgrid=False)\n",
    "\n",
    "fig.show()"
   ]
  },
  {
   "cell_type": "markdown",
   "id": "3ce9383d",
   "metadata": {},
   "source": [
    "There are also `for_each_xaxis()` and `for_each_yaxis()` methods that are analogous to the `for_each_trace()` method described above. For non-cartesian subplot types (e.g. polar), there are additional `update_{type}` and `for_each_{type}` methods (e.g. `update_polar()`, `for_each_polar()`).\n",
    "\n",
    "### Other Update Methods\n",
    "\n",
    "Figures created with the plotly.py graphing library also support:\n",
    "\n",
    "  - the `update_layout_images()` method in order to [update background layout images](/python/images/),\n",
    "  - `update_annotations()` in order to [update annotations](/python/text-and-annotations/#multiple-annotations),\n",
    "  - and `update_shapes()` in order to [update shapes](/python/shapes/).\n",
    "\n",
    "#### Chaining Figure Operations\n",
    "\n",
    "All of the figure update operations described above are methods that return a reference to the figure being modified. This makes it possible the chain multiple figure modification operations together into a single expression.\n",
    "\n",
    "Here is an example of a chained expression that creates:\n",
    "\n",
    "  - a faceted scatter plot with OLS trend lines using Plotly Express,\n",
    "  - sets the title font size using `update_layout()`,\n",
    "  - disables vertical grid lines using `update_xaxes()`,\n",
    "  - updates the width and dash pattern of the trend lines using `update_traces()`,\n",
    "  - and then displays the figure using `show()`."
   ]
  },
  {
   "cell_type": "code",
   "execution_count": null,
   "id": "48ae73fd",
   "metadata": {},
   "outputs": [],
   "source": [
    "import plotly.express as px\n",
    "\n",
    "df = px.data.iris()\n",
    "\n",
    "(px.scatter(df, x=\"sepal_width\", y=\"sepal_length\", color=\"species\",\n",
    "            facet_col=\"species\", trendline=\"ols\",\n",
    "            title=\"Chaining Multiple Figure Operations With A Plotly Express Figure\")\n",
    " .update_layout(title_font_size=24)\n",
    " .update_xaxes(showgrid=False)\n",
    " .update_traces(\n",
    "     line=dict(dash=\"dot\", width=4),\n",
    "     selector=dict(type=\"scatter\", mode=\"lines\"))\n",
    ").show()"
   ]
  },
  {
   "cell_type": "markdown",
   "id": "66915a1f",
   "metadata": {},
   "source": [
    "#### Property Assignment\n",
    "\n",
    "Trace and layout properties can be updated using property assignment syntax. Here is an example of setting the figure title using property assignment."
   ]
  },
  {
   "cell_type": "code",
   "execution_count": null,
   "id": "d68a862b",
   "metadata": {},
   "outputs": [],
   "source": [
    "import plotly.graph_objects as go\n",
    "fig = go.Figure(data=go.Bar(x=[1, 2, 3], y=[1, 3, 2]))\n",
    "fig.layout.title.text = \"Using Property Assignment Syntax With A Graph Object Figure\"\n",
    "fig.show()"
   ]
  },
  {
   "cell_type": "markdown",
   "id": "1d158b9c",
   "metadata": {},
   "source": [
    "And here is an example of updating the bar outline using property assignment."
   ]
  },
  {
   "cell_type": "code",
   "execution_count": null,
   "id": "fe38c2da",
   "metadata": {
    "lines_to_next_cell": 2
   },
   "outputs": [],
   "source": [
    "import plotly.graph_objects as go\n",
    "\n",
    "fig = go.Figure(data=go.Bar(x=[1, 2, 3], y=[1, 3, 2]))\n",
    "\n",
    "fig.data[0].marker.line.width = 4\n",
    "fig.data[0].marker.line.color = \"black\"\n",
    "\n",
    "fig.show()"
   ]
  },
  {
   "cell_type": "markdown",
   "id": "bd688c89",
   "metadata": {},
   "source": [
    "### What About Dash?\n",
    "\n",
    "[Dash](https://dash.plot.ly/) is an open-source framework for building analytical applications, with no Javascript required, and it is tightly integrated with the Plotly graphing library.\n",
    "\n",
    "Learn about how to install Dash at https://dash.plot.ly/installation.\n",
    "\n",
    "Everywhere in this page that you see `fig.show()`, you can display the same figure in a Dash application by passing it to the `figure` argument of the [`Graph` component](https://dash.plot.ly/dash-core-components/graph) from the built-in `dash_core_components` package like this:\n",
    "\n",
    "```python\n",
    "import plotly.graph_objects as go # or plotly.express as px\n",
    "fig = go.Figure() # or any Plotly Express function e.g. px.bar(...)\n",
    "# fig.add_trace( ... )\n",
    "# fig.update_layout( ... )\n",
    "\n",
    "from dash import Dash, dcc, html\n",
    "\n",
    "app = Dash()\n",
    "app.layout = html.Div([\n",
    "    dcc.Graph(figure=fig)\n",
    "])\n",
    "\n",
    "app.run_server(debug=True, use_reloader=False)  # Turn off reloader if inside Jupyter\n",
    "```"
   ]
  }
 ],
 "metadata": {
  "jupytext": {
   "notebook_metadata_filter": "all"
  },
  "kernelspec": {
   "display_name": "Python 3",
   "language": "python",
   "name": "python3"
  },
  "language_info": {
   "codemirror_mode": {
    "name": "ipython",
    "version": 3
   },
   "file_extension": ".py",
   "mimetype": "text/x-python",
   "name": "python",
   "nbconvert_exporter": "python",
   "pygments_lexer": "ipython3",
   "version": "3.8.8"
  },
  "plotly": {
   "description": "Creating and Updating Figures with Plotly's Python graphing library",
   "display_as": "file_settings",
   "language": "python",
   "layout": "base",
   "name": "Creating and Updating Figures",
   "order": 2,
   "page_type": "example_index",
   "permalink": "python/creating-and-updating-figures/",
   "redirect_from": [
    "python/user-guide/",
    "python/user-g/"
   ],
   "thumbnail": "thumbnail/creating-and-updating-figures.png",
   "v4upgrade": true
  }
 },
 "nbformat": 4,
 "nbformat_minor": 5
}
