{
 "cells": [
  {
   "cell_type": "markdown",
   "id": "62bcc131",
   "metadata": {},
   "source": [
    "### Density map with `plotly.express`\n",
    "\n",
    "[Plotly Express](/python/plotly-express/) is the easy-to-use, high-level interface to Plotly, which [operates on a variety of types of data](/python/px-arguments/) and produces [easy-to-style figures](/python/styling-plotly-express/).\n",
    "\n",
    "With `px.density_map`, each row of the DataFrame is represented as a point smoothed with a given radius of influence."
   ]
  },
  {
   "cell_type": "code",
   "execution_count": null,
   "id": "16fafcb4",
   "metadata": {},
   "outputs": [],
   "source": [
    "import pandas as pd\n",
    "df = pd.read_csv('https://raw.githubusercontent.com/plotly/datasets/master/earthquakes-23k.csv')\n",
    "\n",
    "import plotly.express as px\n",
    "fig = px.density_map(df, lat='Latitude', lon='Longitude', z='Magnitude', radius=10,\n",
    "                        center=dict(lat=0, lon=180), zoom=0,\n",
    "                        map_style=\"open-street-map\")\n",
    "fig.show()"
   ]
  },
  {
   "cell_type": "markdown",
   "id": "6110d19f",
   "metadata": {},
   "source": [
    "### Density map with `plotly.graph_objects`\n",
    "\n",
    "If Plotly Express does not provide a good starting point, it is also possible to use [the more generic `go.Densitymap` class from `plotly.graph_objects`](/python/graph-objects/)."
   ]
  },
  {
   "cell_type": "code",
   "execution_count": null,
   "id": "3eb7b6b1",
   "metadata": {},
   "outputs": [],
   "source": [
    "import pandas as pd\n",
    "quakes = pd.read_csv('https://raw.githubusercontent.com/plotly/datasets/master/earthquakes-23k.csv')\n",
    "\n",
    "import plotly.graph_objects as go\n",
    "fig = go.Figure(go.Densitymap(lat=quakes.Latitude, lon=quakes.Longitude, z=quakes.Magnitude,\n",
    "                                 radius=10))\n",
    "fig.update_layout(map_style=\"open-street-map\", map_center_lon=180)\n",
    "fig.update_layout(margin={\"r\":0,\"t\":0,\"l\":0,\"b\":0})\n",
    "fig.show()"
   ]
  },
  {
   "cell_type": "markdown",
   "id": "4698a487",
   "metadata": {},
   "source": [
    "### Mapbox Maps\n",
    "\n",
    "> Mapbox traces are deprecated and may be removed in a future version of Plotly.py.\n",
    "\n",
    "The earlier examples using `px.density_map` and `go.Densitymap` use [Maplibre](https://maplibre.org/maplibre-gl-js/docs/) for rendering. These traces were introduced in Plotly.py 5.24. These trace types are now the recommended way to make tile-based density heatmaps. There are also traces that use [Mapbox](https://docs.mapbox.com): `density_mapbox` and `go.Densitymapbox`.\n",
    "\n",
    "To use these trace types, in some cases you _may_ need a Mapbox account and a public [Mapbox Access Token](https://www.mapbox.com/studio). See our [Mapbox Map Layers](/python/mapbox-layers/) documentation for more information.\n",
    "\n",
    "Here's one of the earlier examples rewritten to use `px.density_mapbox`.\n",
    "\n",
    "```python\n",
    "import pandas as pd\n",
    "df = pd.read_csv('https://raw.githubusercontent.com/plotly/datasets/master/earthquakes-23k.csv')\n",
    "\n",
    "import plotly.express as px\n",
    "fig = px.density_mapbox(df, lat='Latitude', lon='Longitude', z='Magnitude', radius=10,\n",
    "                        center=dict(lat=0, lon=180), zoom=0,\n",
    "                        mapbox_style=\"open-street-map\")\n",
    "fig.show()\n",
    "```\n"
   ]
  },
  {
   "cell_type": "markdown",
   "id": "46ce635c",
   "metadata": {},
   "source": [
    "#### Stamen Terrain base map with Mapbox (Stadia Maps token needed): density heatmap with `plotly.express`\n",
    "\n",
    "Some base maps require a token. To use \"stamen\" base maps, you'll need a [Stadia Maps](https://www.stadiamaps.com) token, which you can provide to the `mapbox_accesstoken` parameter on `fig.update_layout`. Here, we have the token saved in a file called `.mapbox_token`, load it in to the variable `token`, and then pass it to `mapbox_accesstoken`.\n",
    "\n",
    "```python\n",
    "import plotly.express as px\n",
    "import pandas as pd\n",
    "\n",
    "token = open(\".mapbox_token\").read() # you will need your own token\n",
    "\n",
    "df = pd.read_csv('https://raw.githubusercontent.com/plotly/datasets/master/earthquakes-23k.csv')\n",
    "\n",
    "fig = px.density_mapbox(df, lat='Latitude', lon='Longitude', z='Magnitude', radius=10,\n",
    "                        center=dict(lat=0, lon=180), zoom=0,\n",
    "                        map_style=\"stamen-terrain\")\n",
    "fig.update_layout(mapbox_accesstoken=token)\n",
    "fig.show()\n",
    "```\n",
    "\n"
   ]
  },
  {
   "cell_type": "markdown",
   "id": "e24dc675",
   "metadata": {},
   "source": [
    "#### Reference\n",
    "\n",
    "See [function reference for `px.(density_map)`](https://plotly.com/python-api-reference/generated/plotly.express.density_mapbox) or https://plotly.com/python/reference/densitymap/ for available attribute options.\n",
    "\n",
    "For Mapbox-based maps, see [function reference for `px.(density_mapbox)`](https://plotly.com/python-api-reference/generated/plotly.express.density_mapbox) or https://plotly.com/python/reference/densitymapbox/.\n"
   ]
  },
  {
   "cell_type": "markdown",
   "id": "66a9baec",
   "metadata": {},
   "source": [
    "### What About Dash?\n",
    "\n",
    "[Dash](https://dash.plot.ly/) is an open-source framework for building analytical applications, with no Javascript required, and it is tightly integrated with the Plotly graphing library.\n",
    "\n",
    "Learn about how to install Dash at https://dash.plot.ly/installation.\n",
    "\n",
    "Everywhere in this page that you see `fig.show()`, you can display the same figure in a Dash application by passing it to the `figure` argument of the [`Graph` component](https://dash.plot.ly/dash-core-components/graph) from the built-in `dash_core_components` package like this:\n",
    "\n",
    "```python\n",
    "import plotly.graph_objects as go # or plotly.express as px\n",
    "fig = go.Figure() # or any Plotly Express function e.g. px.bar(...)\n",
    "# fig.add_trace( ... )\n",
    "# fig.update_layout( ... )\n",
    "\n",
    "from dash import Dash, dcc, html\n",
    "\n",
    "app = Dash()\n",
    "app.layout = html.Div([\n",
    "    dcc.Graph(figure=fig)\n",
    "])\n",
    "\n",
    "app.run_server(debug=True, use_reloader=False)  # Turn off reloader if inside Jupyter\n",
    "```"
   ]
  }
 ],
 "metadata": {
  "jupytext": {
   "notebook_metadata_filter": "all"
  },
  "kernelspec": {
   "display_name": "Python 3 (ipykernel)",
   "language": "python",
   "name": "python3"
  },
  "language_info": {
   "codemirror_mode": {
    "name": "ipython",
    "version": 3
   },
   "file_extension": ".py",
   "mimetype": "text/x-python",
   "name": "python",
   "nbconvert_exporter": "python",
   "pygments_lexer": "ipython3",
   "version": "3.10.0"
  },
  "plotly": {
   "description": "How to make a density heatmap in Python with Plotly.",
   "display_as": "maps",
   "language": "python",
   "layout": "base",
   "name": "Density Heatmap",
   "order": 6,
   "page_type": "u-guide",
   "permalink": "python/density-heatmaps/",
   "redirect_from": "python/mapbox-density-heatmaps/",
   "thumbnail": "thumbnail/mapbox-density.png"
  }
 },
 "nbformat": 4,
 "nbformat_minor": 5
}
