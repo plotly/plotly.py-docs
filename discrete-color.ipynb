{
 "cells": [
  {
   "cell_type": "markdown",
   "id": "ad409bc7",
   "metadata": {},
   "source": [
    "### Discrete vs Continuous Color\n",
    "\n",
    "In the same way as the X or Y position of a mark in cartesian coordinates can be used to represent continuous values (i.e. amounts or moments in time) or categories (i.e. labels), color can be used to represent continuous or discrete data. This page is about using color to represent **categorical** data using discrete colors, but Plotly can also [represent continuous values with color](/python/colorscales/).\n",
    "\n",
    "### Discrete Color Concepts\n",
    "\n",
    "This document explains the following discrete-color-related concepts:\n",
    "\n",
    "- **color sequences** are lists of colors to be mapped onto discrete data values. No interpolation occurs when using color sequences, unlike with [continuous color scales](/python/colorscales/), and each color is used as-is. Color sequence defaults depend on the `layout.colorway` attribute of the active [template](/python/templates/), and can be explicitly specified using the `color_discrete_sequence` argument for many [Plotly Express](/python/plotly-express/) functions.\n",
    "- **legends** are visible representations of the mapping between colors and data values. Legend markers also change shape when used with various kinds of traces, such as symbols or lines for scatter-like traces. [Legends are configurable](/python/legend/) under the `layout.legend` attribute. Legends are the discrete equivalent of [continuous color bars](/python/colorscales/)\n",
    "\n",
    "### Discrete Color with Plotly Express\n",
    "\n",
    "Most Plotly Express functions accept a `color` argument which automatically assigns data values to discrete colors **if the data is non-numeric**. If the data is numeric, the color will automatically be considered [continuous](/python/colorscales/). This means that numeric strings must be parsed to be used for continuous color, and conversely, numbers used as category codes must be converted to strings.\n",
    "\n",
    "For example, in the `tips` dataset, the `smoker` column contains strings:"
   ]
  },
  {
   "cell_type": "code",
   "execution_count": null,
   "id": "56d4be03",
   "metadata": {},
   "outputs": [],
   "source": [
    "import plotly.express as px\n",
    "df = px.data.tips()\n",
    "fig = px.scatter(df, x=\"total_bill\", y=\"tip\", color=\"smoker\",\n",
    "                 title=\"String 'smoker' values mean discrete colors\")\n",
    "\n",
    "fig.show()"
   ]
  },
  {
   "cell_type": "markdown",
   "id": "680c90cd",
   "metadata": {},
   "source": [
    "The `size` column, however, contains numbers:"
   ]
  },
  {
   "cell_type": "code",
   "execution_count": null,
   "id": "d280b937",
   "metadata": {},
   "outputs": [],
   "source": [
    "import plotly.express as px\n",
    "df = px.data.tips()\n",
    "fig = px.scatter(df, x=\"total_bill\", y=\"tip\", color=\"size\",\n",
    "                 title=\"Numeric 'size' values mean continuous color\")\n",
    "\n",
    "fig.show()"
   ]
  },
  {
   "cell_type": "markdown",
   "id": "656f5ead",
   "metadata": {},
   "source": [
    "Converting this column to strings is very straightforward, but note that the ordering in the legend is not sequential by default (see below for how to control discrete order):"
   ]
  },
  {
   "cell_type": "code",
   "execution_count": null,
   "id": "9aaefcaf",
   "metadata": {},
   "outputs": [],
   "source": [
    "import plotly.express as px\n",
    "df = px.data.tips()\n",
    "df[\"size\"] = df[\"size\"].astype(str)\n",
    "fig = px.scatter(df, x=\"total_bill\", y=\"tip\", color=\"size\",\n",
    "                 title=\"String 'size' values mean discrete colors\")\n",
    "\n",
    "fig.show()"
   ]
  },
  {
   "cell_type": "markdown",
   "id": "cfeb632f",
   "metadata": {},
   "source": [
    "Converting a string column to a numeric one is also quite straightforward:"
   ]
  },
  {
   "cell_type": "code",
   "execution_count": null,
   "id": "edb27983",
   "metadata": {},
   "outputs": [],
   "source": [
    "import plotly.express as px\n",
    "df = px.data.tips()\n",
    "df[\"size\"] = df[\"size\"].astype(str) #convert to string\n",
    "df[\"size\"] = df[\"size\"].astype(float) #convert back to numeric\n",
    "\n",
    "fig = px.scatter(df, x=\"total_bill\", y=\"tip\", color=\"size\",\n",
    "                 title=\"Numeric 'size' values mean continuous color\")\n",
    "\n",
    "fig.show()"
   ]
  },
  {
   "cell_type": "markdown",
   "id": "6bed3125",
   "metadata": {},
   "source": [
    "### Discrete Colors in Dash\n",
    "\n",
    "[Dash](https://plotly.com/dash/) is the best way to build analytical apps in Python using Plotly figures. To run the app below, run `pip install dash`, click \"Download\" to get the code and run `python app.py`.\n",
    "\n",
    "Get started  with [the official Dash docs](https://dash.plotly.com/installation) and **learn how to effortlessly [style](https://plotly.com/dash/design-kit/) & [deploy](https://plotly.com/dash/app-manager/) apps like this with <a class=\"plotly-red\" href=\"https://plotly.com/dash/\">Dash Enterprise</a>.**"
   ]
  },
  {
   "cell_type": "code",
   "execution_count": null,
   "id": "55c514d2",
   "metadata": {
    "hide_code": true
   },
   "outputs": [],
   "source": [
    "from IPython.display import IFrame\n",
    "snippet_url = 'https://python-docs-dash-snippets.herokuapp.com/python-docs-dash-snippets/'\n",
    "IFrame(snippet_url + 'discrete-color', width='100%', height=1200)"
   ]
  },
  {
   "cell_type": "markdown",
   "id": "5c15c928",
   "metadata": {},
   "source": [
    "<div style=\"font-size: 0.9em;\"><div style=\"width: calc(100% - 30px); box-shadow: none; border: thin solid rgb(229, 229, 229);\"><div style=\"padding: 5px;\"><div><p><strong>Sign up for Dash Club</strong> → Free cheat sheets plus updates from Chris Parmer and Adam Schroeder delivered to your inbox every two months. Includes tips and tricks, community apps, and deep dives into the Dash architecture.\n",
    "<u><a href=\"https://go.plotly.com/dash-club?utm_source=Dash+Club+2022&utm_medium=graphing_libraries&utm_content=inline\">Join now</a></u>.</p></div></div></div></div>"
   ]
  },
  {
   "cell_type": "markdown",
   "id": "a0e2f448",
   "metadata": {},
   "source": [
    "### Color Sequences in Plotly Express\n",
    "\n",
    "By default, Plotly Express will use the color sequence from the active [template](/python/templates/)'s `layout.colorway` attribute, and the default active template is `plotly` which uses the `plotly` color sequence. You can choose any of the following built-in qualitative color sequences from the `px.colors.qualitative` module, however, or define your own."
   ]
  },
  {
   "cell_type": "code",
   "execution_count": null,
   "id": "de96a93e",
   "metadata": {},
   "outputs": [],
   "source": [
    "import plotly.express as px\n",
    "\n",
    "fig = px.colors.qualitative.swatches()\n",
    "fig.show()"
   ]
  },
  {
   "cell_type": "markdown",
   "id": "8d580d19",
   "metadata": {},
   "source": [
    "Color sequences in the `px.colors.qualitative` module are stored as lists of CSS colors:"
   ]
  },
  {
   "cell_type": "code",
   "execution_count": null,
   "id": "e44d2a1a",
   "metadata": {},
   "outputs": [],
   "source": [
    "import plotly.express as px\n",
    "\n",
    "print(px.colors.qualitative.Plotly)"
   ]
  },
  {
   "cell_type": "markdown",
   "id": "f3e3b3ac",
   "metadata": {},
   "source": [
    "Here is an example that creates a scatter plot using Plotly Express, with points colored using the built-in qualitative `G10` color sequence."
   ]
  },
  {
   "cell_type": "code",
   "execution_count": null,
   "id": "8d013a78",
   "metadata": {},
   "outputs": [],
   "source": [
    "import plotly.express as px\n",
    "df = px.data.gapminder()\n",
    "fig = px.line(df, y=\"lifeExp\", x=\"year\", color=\"continent\", line_group=\"country\",\n",
    "              line_shape=\"spline\", render_mode=\"svg\",\n",
    "             color_discrete_sequence=px.colors.qualitative.G10,\n",
    "             title=\"Built-in G10 color sequence\")\n",
    "\n",
    "fig.show()"
   ]
  },
  {
   "cell_type": "markdown",
   "id": "8ebe3393",
   "metadata": {},
   "source": [
    "### Explicitly Constructing a Color Sequence\n",
    "\n",
    "The Plotly Express `color_discrete_sequence` argument accepts explicitly-constructed color sequences as well, as lists of CSS colors:"
   ]
  },
  {
   "cell_type": "code",
   "execution_count": null,
   "id": "b1f2d83b",
   "metadata": {},
   "outputs": [],
   "source": [
    "import plotly.express as px\n",
    "df = px.data.gapminder().query(\"year == 2007\")\n",
    "fig = px.bar(df, y=\"continent\", x=\"pop\", color=\"continent\", orientation=\"h\", hover_name=\"country\",\n",
    "             color_discrete_sequence=[\"red\", \"green\", \"blue\", \"goldenrod\", \"magenta\"],\n",
    "             title=\"Explicit color sequence\"\n",
    "            )\n",
    "\n",
    "fig.show()"
   ]
  },
  {
   "cell_type": "markdown",
   "id": "bef1ab92",
   "metadata": {},
   "source": [
    "**_Warning_**: If your color sequence is has fewer colors than the number of unique values in the column you are mapping to `color`, the colors will cycle through and repeat, possibly leading to ambiguity:"
   ]
  },
  {
   "cell_type": "code",
   "execution_count": null,
   "id": "4f98102f",
   "metadata": {},
   "outputs": [],
   "source": [
    "import plotly.express as px\n",
    "df = px.data.tips()\n",
    "fig = px.scatter(df, x=\"total_bill\", y=\"tip\", color=\"day\",\n",
    "             color_discrete_sequence=[\"red\", \"blue\"],\n",
    "             title=\"<b>Ambiguous!</b> Explicit color sequence cycling because it is too short\"\n",
    "            )\n",
    "\n",
    "fig.show()"
   ]
  },
  {
   "cell_type": "markdown",
   "id": "78a7fd51",
   "metadata": {},
   "source": [
    "### Directly Mapping Colors to Data Values\n",
    "\n",
    "The example above assigned colors to data values on a first-come-first-served basis, but you can directly map colors to data values if this is important to your application with `color_discrete_map`. Note that this does not change the order in which values appear in the figure or legend, as can be controlled below:"
   ]
  },
  {
   "cell_type": "code",
   "execution_count": null,
   "id": "45df89d9",
   "metadata": {},
   "outputs": [],
   "source": [
    "import plotly.express as px\n",
    "df = px.data.gapminder().query(\"year == 2007\")\n",
    "fig = px.bar(df, y=\"continent\", x=\"pop\", color=\"continent\", orientation=\"h\", hover_name=\"country\",\n",
    "             color_discrete_map={\n",
    "                \"Europe\": \"red\",\n",
    "                \"Asia\": \"green\",\n",
    "                \"Americas\": \"blue\",\n",
    "                \"Oceania\": \"goldenrod\",\n",
    "                \"Africa\": \"magenta\"},\n",
    "             title=\"Explicit color mapping\")\n",
    "\n",
    "fig.show()"
   ]
  },
  {
   "cell_type": "markdown",
   "id": "9b05b0bb",
   "metadata": {},
   "source": [
    "If your data set already contains valid CSS colors which you wish to use directly, you can pass the special value `\"identity\"` to `color_discrete_map`, in which case the legend is hidden by default, and the color does not appear in the hover label:"
   ]
  },
  {
   "cell_type": "code",
   "execution_count": null,
   "id": "f60a76f5",
   "metadata": {},
   "outputs": [],
   "source": [
    "import plotly.express as px\n",
    "\n",
    "fig = px.bar(x=[\"a\",\"b\",\"c\"], y=[1,3,2], color=[\"red\", \"goldenrod\", \"#00D\"], color_discrete_map=\"identity\")\n",
    "fig.show()"
   ]
  },
  {
   "cell_type": "markdown",
   "id": "14e3f0d4",
   "metadata": {},
   "source": [
    "### Controlling Discrete Color Order\n",
    "\n",
    "Plotly Express lets you specify an ordering over categorical variables with `category_orders`, which will apply to colors and legends as well as symbols, [axes](/python/axes/) and [facets](/python/facet-plots/). This can be used with either `color_discrete_sequence` or `color_discrete_map`."
   ]
  },
  {
   "cell_type": "code",
   "execution_count": null,
   "id": "34b5cbfc",
   "metadata": {},
   "outputs": [],
   "source": [
    "import plotly.express as px\n",
    "df = px.data.gapminder().query(\"year == 2007\")\n",
    "fig = px.bar(df, y=\"continent\", x=\"pop\", color=\"continent\", orientation=\"h\", hover_name=\"country\",\n",
    "             color_discrete_sequence=[\"red\", \"green\", \"blue\", \"goldenrod\", \"magenta\"],\n",
    "             category_orders={\"continent\": [\"Oceania\", \"Europe\", \"Asia\", \"Africa\", \"Americas\"]},\n",
    "             title=\"Explicit color sequence with explicit ordering\"\n",
    "            )\n",
    "\n",
    "fig.show()"
   ]
  },
  {
   "cell_type": "code",
   "execution_count": null,
   "id": "39e167b5",
   "metadata": {},
   "outputs": [],
   "source": [
    "import plotly.express as px\n",
    "df = px.data.gapminder().query(\"year == 2007\")\n",
    "fig = px.bar(df, y=\"continent\", x=\"pop\", color=\"continent\", orientation=\"h\", hover_name=\"country\",\n",
    "             color_discrete_map={\n",
    "                \"Europe\": \"red\",\n",
    "                \"Asia\": \"green\",\n",
    "                \"Americas\": \"blue\",\n",
    "                \"Oceania\": \"goldenrod\",\n",
    "                \"Africa\": \"magenta\"},\n",
    "             category_orders={\"continent\": [\"Oceania\", \"Europe\", \"Asia\", \"Africa\", \"Americas\"]},\n",
    "             title=\"Explicit color mapping with explicit ordering\"\n",
    "            )\n",
    "\n",
    "fig.show()"
   ]
  },
  {
   "cell_type": "markdown",
   "id": "ceb18f42",
   "metadata": {},
   "source": [
    "### Using Sequential Scales as Discrete Sequences\n",
    "\n",
    "In most cases, discrete/qualitative/categorical data values have no meaningful natural ordering, such as in the continents example used above. In some cases, however, there is a meaningful order, and in this case it can be helpful and appealing to use part of a continuous scale as a discrete sequence, as in the following [wind rose chart](/python/wind-rose-charts/):"
   ]
  },
  {
   "cell_type": "code",
   "execution_count": null,
   "id": "8fc66f64",
   "metadata": {},
   "outputs": [],
   "source": [
    "import plotly.express as px\n",
    "df = px.data.wind()\n",
    "fig = px.bar_polar(df, r=\"frequency\", theta=\"direction\", color=\"strength\",\n",
    "                   color_discrete_sequence= px.colors.sequential.Plasma_r,\n",
    "                   title=\"Part of a continuous color scale used as a discrete sequence\"\n",
    "                  )\n",
    "fig.show()"
   ]
  },
  {
   "cell_type": "markdown",
   "id": "74a3de67",
   "metadata": {},
   "source": [
    "This works because just like in `px.colors.qualitative`, all [built-in continuous color scales](/python/builtin-colorscales/) are stored as lists of CSS colors:"
   ]
  },
  {
   "cell_type": "code",
   "execution_count": null,
   "id": "0d3607df",
   "metadata": {
    "lines_to_next_cell": 2
   },
   "outputs": [],
   "source": [
    "import plotly.express as px\n",
    "\n",
    "print(px.colors.sequential.Plasma)"
   ]
  },
  {
   "cell_type": "markdown",
   "id": "f99f7d72",
   "metadata": {},
   "source": [
    "### What About Dash?\n",
    "\n",
    "[Dash](https://dash.plot.ly/) is an open-source framework for building analytical applications, with no Javascript required, and it is tightly integrated with the Plotly graphing library.\n",
    "\n",
    "Learn about how to install Dash at https://dash.plot.ly/installation.\n",
    "\n",
    "Everywhere in this page that you see `fig.show()`, you can display the same figure in a Dash application by passing it to the `figure` argument of the [`Graph` component](https://dash.plot.ly/dash-core-components/graph) from the built-in `dash_core_components` package like this:\n",
    "\n",
    "```python\n",
    "import plotly.graph_objects as go # or plotly.express as px\n",
    "fig = go.Figure() # or any Plotly Express function e.g. px.bar(...)\n",
    "# fig.add_trace( ... )\n",
    "# fig.update_layout( ... )\n",
    "\n",
    "from dash import Dash, dcc, html\n",
    "\n",
    "app = Dash()\n",
    "app.layout = html.Div([\n",
    "    dcc.Graph(figure=fig)\n",
    "])\n",
    "\n",
    "app.run_server(debug=True, use_reloader=False)  # Turn off reloader if inside Jupyter\n",
    "```"
   ]
  }
 ],
 "metadata": {
  "jupytext": {
   "notebook_metadata_filter": "all"
  },
  "kernelspec": {
   "display_name": "Python 3",
   "language": "python",
   "name": "python3"
  },
  "language_info": {
   "codemirror_mode": {
    "name": "ipython",
    "version": 3
   },
   "file_extension": ".py",
   "mimetype": "text/x-python",
   "name": "python",
   "nbconvert_exporter": "python",
   "pygments_lexer": "ipython3",
   "version": "3.8.8"
  },
  "plotly": {
   "description": "How to use and configure discrete color sequences, also known as categorical or qualitative color scales.",
   "display_as": "file_settings",
   "has_thumbnail": true,
   "ipynb": "~notebook_demo/187",
   "language": "python",
   "layout": "base",
   "name": "Discrete Colors",
   "order": 29,
   "permalink": "python/discrete-color/",
   "thumbnail": "thumbnail/heatmap_colorscale.jpg",
   "v4upgrade": true
  }
 },
 "nbformat": 4,
 "nbformat_minor": 5
}
