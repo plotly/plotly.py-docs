{
 "cells": [
  {
   "cell_type": "markdown",
   "id": "be048521",
   "metadata": {},
   "source": [
    "### Overview\n",
    "\n",
    "[Empirical cumulative distribution function plots](https://en.wikipedia.org/wiki/Empirical_distribution_function) are a way to visualize the distribution of a variable, and Plotly Express has a built-in function, `px.ecdf()` to generate such plots. [Plotly Express](/python/plotly-express/) is the easy-to-use, high-level interface to Plotly, which [operates on a variety of types of data](/python/px-arguments/) and produces [easy-to-style figures](/python/styling-plotly-express/).\n",
    "\n",
    "Alternatives to ECDF plots for visualizing distributions include [histograms](https://plotly.com/python/histograms/), [violin plots](https://plotly.com/python/violin/), [box plots](https://plotly.com/python/box-plots/) and [strip charts](https://plotly.com/python/strip-charts/).\n",
    "\n",
    "### Simple ECDF Plots\n",
    "\n",
    "Providing a single column to the `x` variable yields a basic ECDF plot."
   ]
  },
  {
   "cell_type": "code",
   "execution_count": null,
   "id": "4140c48b",
   "metadata": {},
   "outputs": [],
   "source": [
    "import plotly.express as px\n",
    "df = px.data.tips()\n",
    "fig = px.ecdf(df, x=\"total_bill\")\n",
    "fig.show()"
   ]
  },
  {
   "cell_type": "markdown",
   "id": "7aa2eedb",
   "metadata": {},
   "source": [
    "Providing multiple columns leverage's Plotly Express' [wide-form data support](https://plotly.com/python/wide-form/) to show multiple variables on the same plot."
   ]
  },
  {
   "cell_type": "code",
   "execution_count": null,
   "id": "3f815ebd",
   "metadata": {},
   "outputs": [],
   "source": [
    "import plotly.express as px\n",
    "df = px.data.tips()\n",
    "fig = px.ecdf(df, x=[\"total_bill\", \"tip\"])\n",
    "fig.show()"
   ]
  },
  {
   "cell_type": "markdown",
   "id": "3645be6a",
   "metadata": {},
   "source": [
    "It is also possible to map another variable to the color dimension of a plot."
   ]
  },
  {
   "cell_type": "code",
   "execution_count": null,
   "id": "e6daa7b0",
   "metadata": {},
   "outputs": [],
   "source": [
    "import plotly.express as px\n",
    "df = px.data.tips()\n",
    "fig = px.ecdf(df, x=\"total_bill\", color=\"sex\")\n",
    "fig.show()"
   ]
  },
  {
   "cell_type": "markdown",
   "id": "abdbbba2",
   "metadata": {},
   "source": [
    "### Configuring the Y axis\n",
    "\n",
    "By default, the Y axis shows probability, but it is also possible to show raw counts by setting the `ecdfnorm` argument to `None` or to show percentages by setting it to `percent`."
   ]
  },
  {
   "cell_type": "code",
   "execution_count": null,
   "id": "9ec05caf",
   "metadata": {},
   "outputs": [],
   "source": [
    "import plotly.express as px\n",
    "df = px.data.tips()\n",
    "fig = px.ecdf(df, x=\"total_bill\", color=\"sex\", ecdfnorm=None)\n",
    "fig.show()"
   ]
  },
  {
   "cell_type": "markdown",
   "id": "d542b753",
   "metadata": {},
   "source": [
    "If a `y` value is provided, the Y axis is set to the sum of `y` rather than counts."
   ]
  },
  {
   "cell_type": "code",
   "execution_count": null,
   "id": "b56036be",
   "metadata": {},
   "outputs": [],
   "source": [
    "import plotly.express as px\n",
    "df = px.data.tips()\n",
    "fig = px.ecdf(df, x=\"total_bill\", y=\"tip\", color=\"sex\", ecdfnorm=None)\n",
    "fig.show()"
   ]
  },
  {
   "cell_type": "markdown",
   "id": "10f9d3ce",
   "metadata": {},
   "source": [
    "### Reversed and Complementary CDF plots\n",
    "\n",
    "By default, the Y value represents the fraction of the data that is *at or below* the value on on the X axis. Setting `ecdfmode` to `\"reversed\"` reverses this, with the Y axis representing the fraction of the data *at or above* the X value. Setting `ecdfmode` to `\"complementary\"` plots `1-ECDF`, meaning that the Y values represent the fraction of the data *above* the X value.\n",
    "\n",
    "In `standard` mode (the default), the right-most point is at 1 (or the total count/sum, depending on `ecdfnorm`) and the right-most point is above 0."
   ]
  },
  {
   "cell_type": "code",
   "execution_count": null,
   "id": "f4d6d666",
   "metadata": {},
   "outputs": [],
   "source": [
    "import plotly.express as px\n",
    "fig = px.ecdf(df, x=[1,2,3,4], markers=True, ecdfmode=\"standard\",\n",
    "              title=\"ecdfmode='standard' (Y=fraction at or below X value, this the default)\")\n",
    "fig.show()"
   ]
  },
  {
   "cell_type": "markdown",
   "id": "7811111d",
   "metadata": {},
   "source": [
    "In `reversed` mode, the right-most point is at 1 (or the total count/sum, depending on `ecdfnorm`) and the left-most point is above 0."
   ]
  },
  {
   "cell_type": "code",
   "execution_count": null,
   "id": "1e1d577e",
   "metadata": {},
   "outputs": [],
   "source": [
    "import plotly.express as px\n",
    "fig = px.ecdf(df, x=[1,2,3,4], markers=True, ecdfmode=\"reversed\",\n",
    "              title=\"ecdfmode='reversed' (Y=fraction at or above X value)\")\n",
    "fig.show()"
   ]
  },
  {
   "cell_type": "markdown",
   "id": "f01fdd7b",
   "metadata": {},
   "source": [
    "In `complementary` mode, the right-most point is at 0 and no points are at 1 (or the total count/sum) per the definition of the CCDF as 1-ECDF, which has no point at 0."
   ]
  },
  {
   "cell_type": "code",
   "execution_count": null,
   "id": "a322d7d1",
   "metadata": {},
   "outputs": [],
   "source": [
    "import plotly.express as px\n",
    "fig = px.ecdf(df, x=[1,2,3,4], markers=True, ecdfmode=\"complementary\",\n",
    "              title=\"ecdfmode='complementary' (Y=fraction above X value)\")\n",
    "fig.show()"
   ]
  },
  {
   "cell_type": "markdown",
   "id": "635baad5",
   "metadata": {},
   "source": [
    "### Orientation\n",
    "\n",
    "By default, plots are oriented vertically (i.e. the variable is on the X axis and counted/summed upwards), but this can be overridden with the `orientation` argument."
   ]
  },
  {
   "cell_type": "code",
   "execution_count": null,
   "id": "34d3ef6b",
   "metadata": {},
   "outputs": [],
   "source": [
    "import plotly.express as px\n",
    "df = px.data.tips()\n",
    "fig = px.ecdf(df, x=\"total_bill\", y=\"tip\", color=\"sex\", ecdfnorm=None, orientation=\"h\")\n",
    "fig.show()"
   ]
  },
  {
   "cell_type": "markdown",
   "id": "153983d1",
   "metadata": {},
   "source": [
    "### Markers and/or Lines\n",
    "\n",
    "ECDF Plots can be configured to show lines and/or markers."
   ]
  },
  {
   "cell_type": "code",
   "execution_count": null,
   "id": "9d457186",
   "metadata": {},
   "outputs": [],
   "source": [
    "import plotly.express as px\n",
    "df = px.data.tips()\n",
    "fig = px.ecdf(df, x=\"total_bill\", color=\"sex\", markers=True)\n",
    "fig.show()"
   ]
  },
  {
   "cell_type": "code",
   "execution_count": null,
   "id": "28016388",
   "metadata": {},
   "outputs": [],
   "source": [
    "import plotly.express as px\n",
    "df = px.data.tips()\n",
    "fig = px.ecdf(df, x=\"total_bill\", color=\"sex\", markers=True, lines=False)\n",
    "fig.show()"
   ]
  },
  {
   "cell_type": "markdown",
   "id": "0b731af2",
   "metadata": {},
   "source": [
    "### Marginal Plots\n",
    "\n",
    "ECDF plots also support [marginal plots](https://plotly.com/python/marginal-plots/)"
   ]
  },
  {
   "cell_type": "code",
   "execution_count": null,
   "id": "c71c620d",
   "metadata": {},
   "outputs": [],
   "source": [
    "import plotly.express as px\n",
    "df = px.data.tips()\n",
    "fig = px.ecdf(df, x=\"total_bill\", color=\"sex\", markers=True, lines=False, marginal=\"histogram\")\n",
    "fig.show()"
   ]
  },
  {
   "cell_type": "code",
   "execution_count": null,
   "id": "45e6aa36",
   "metadata": {},
   "outputs": [],
   "source": [
    "import plotly.express as px\n",
    "df = px.data.tips()\n",
    "fig = px.ecdf(df, x=\"total_bill\", color=\"sex\", marginal=\"rug\")\n",
    "fig.show()"
   ]
  },
  {
   "cell_type": "markdown",
   "id": "f638b037",
   "metadata": {},
   "source": [
    "### Facets\n",
    "\n",
    "ECDF Plots also support [faceting](https://plotly.com/python/facet-plots/)"
   ]
  },
  {
   "cell_type": "code",
   "execution_count": null,
   "id": "b38d59ce",
   "metadata": {},
   "outputs": [],
   "source": [
    "import plotly.express as px\n",
    "df = px.data.tips()\n",
    "fig = px.ecdf(df, x=\"total_bill\", color=\"sex\", facet_row=\"time\", facet_col=\"day\")\n",
    "fig.show()"
   ]
  },
  {
   "cell_type": "code",
   "execution_count": null,
   "id": "184d3588",
   "metadata": {
    "lines_to_next_cell": 2
   },
   "outputs": [],
   "source": []
  },
  {
   "cell_type": "markdown",
   "id": "5637f3c1",
   "metadata": {},
   "source": [
    "### What About Dash?\n",
    "\n",
    "[Dash](https://dash.plot.ly/) is an open-source framework for building analytical applications, with no Javascript required, and it is tightly integrated with the Plotly graphing library.\n",
    "\n",
    "Learn about how to install Dash at https://dash.plot.ly/installation.\n",
    "\n",
    "Everywhere in this page that you see `fig.show()`, you can display the same figure in a Dash application by passing it to the `figure` argument of the [`Graph` component](https://dash.plot.ly/dash-core-components/graph) from the built-in `dash_core_components` package like this:\n",
    "\n",
    "```python\n",
    "import plotly.graph_objects as go # or plotly.express as px\n",
    "fig = go.Figure() # or any Plotly Express function e.g. px.bar(...)\n",
    "# fig.add_trace( ... )\n",
    "# fig.update_layout( ... )\n",
    "\n",
    "from dash import Dash, dcc, html\n",
    "\n",
    "app = Dash()\n",
    "app.layout = html.Div([\n",
    "    dcc.Graph(figure=fig)\n",
    "])\n",
    "\n",
    "app.run_server(debug=True, use_reloader=False)  # Turn off reloader if inside Jupyter\n",
    "```"
   ]
  }
 ],
 "metadata": {
  "jupytext": {
   "notebook_metadata_filter": "all"
  },
  "kernelspec": {
   "display_name": "Python 3",
   "language": "python",
   "name": "python3"
  },
  "language_info": {
   "codemirror_mode": {
    "name": "ipython",
    "version": 3
   },
   "file_extension": ".py",
   "mimetype": "text/x-python",
   "name": "python",
   "nbconvert_exporter": "python",
   "pygments_lexer": "ipython3",
   "version": "3.7.7"
  },
  "plotly": {
   "description": "How to add empirical cumulative distribution function (ECDF) plots.",
   "display_as": "statistical",
   "language": "python",
   "layout": "base",
   "name": "Empirical Cumulative Distribution Plots",
   "order": 16,
   "page_type": "u-guide",
   "permalink": "python/ecdf-plots/",
   "thumbnail": "thumbnail/figure-labels.png"
  }
 },
 "nbformat": 4,
 "nbformat_minor": 5
}
