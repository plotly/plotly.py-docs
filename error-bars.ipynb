{
 "cells": [
  {
   "cell_type": "markdown",
   "id": "534e5276",
   "metadata": {},
   "source": [
    "### Error Bars with Plotly Express\n",
    "\n",
    "[Plotly Express](/python/plotly-express/) is the easy-to-use, high-level interface to Plotly, which [operates on a variety of types of data](/python/px-arguments/) and produces [easy-to-style figures](/python/styling-plotly-express/). For functions representing 2D data points such as [`px.scatter`](https://plotly.com/python/line-and-scatter/), [`px.line`](https://plotly.com/python/line-charts/), [`px.bar`](https://plotly.com/python/bar-charts/) etc., error bars are given as a column name which is the value of the `error_x` (for the error on x position) and `error_y` (for the error on y position)."
   ]
  },
  {
   "cell_type": "code",
   "execution_count": null,
   "id": "4d15227f",
   "metadata": {},
   "outputs": [],
   "source": [
    "import plotly.express as px\n",
    "df = px.data.iris()\n",
    "df[\"e\"] = df[\"sepal_width\"]/100\n",
    "fig = px.scatter(df, x=\"sepal_width\", y=\"sepal_length\", color=\"species\",\n",
    "                 error_x=\"e\", error_y=\"e\")\n",
    "fig.show()"
   ]
  },
  {
   "cell_type": "markdown",
   "id": "14624ca2",
   "metadata": {},
   "source": [
    "#### Asymmetric Error Bars with Plotly Express"
   ]
  },
  {
   "cell_type": "code",
   "execution_count": null,
   "id": "c82f7618",
   "metadata": {},
   "outputs": [],
   "source": [
    "import plotly.express as px\n",
    "df = px.data.iris()\n",
    "df[\"e_plus\"] = df[\"sepal_width\"]/100\n",
    "df[\"e_minus\"] = df[\"sepal_width\"]/40\n",
    "fig = px.scatter(df, x=\"sepal_width\", y=\"sepal_length\", color=\"species\",\n",
    "                 error_y=\"e_plus\", error_y_minus=\"e_minus\")\n",
    "fig.show()"
   ]
  },
  {
   "cell_type": "markdown",
   "id": "4b41754a",
   "metadata": {},
   "source": [
    "### Error Bars with graph_objects\n",
    "\n",
    "#### Basic Symmetric Error Bars"
   ]
  },
  {
   "cell_type": "code",
   "execution_count": null,
   "id": "4f1d7b49",
   "metadata": {},
   "outputs": [],
   "source": [
    "import plotly.graph_objects as go\n",
    "\n",
    "fig = go.Figure(data=go.Scatter(\n",
    "        x=[0, 1, 2],\n",
    "        y=[6, 10, 2],\n",
    "        error_y=dict(\n",
    "            type='data', # value of error bar given in data coordinates\n",
    "            array=[1, 2, 3],\n",
    "            visible=True)\n",
    "    ))\n",
    "fig.show()"
   ]
  },
  {
   "cell_type": "markdown",
   "id": "e65918fb",
   "metadata": {},
   "source": [
    "#### Asymmetric Error Bars"
   ]
  },
  {
   "cell_type": "code",
   "execution_count": null,
   "id": "48f6e82b",
   "metadata": {},
   "outputs": [],
   "source": [
    "import plotly.graph_objects as go\n",
    "\n",
    "fig = go.Figure(data=go.Scatter(\n",
    "        x=[1, 2, 3, 4],\n",
    "        y=[2, 1, 3, 4],\n",
    "        error_y=dict(\n",
    "            type='data',\n",
    "            symmetric=False,\n",
    "            array=[0.1, 0.2, 0.1, 0.1],\n",
    "            arrayminus=[0.2, 0.4, 1, 0.2])\n",
    "        ))\n",
    "fig.show()"
   ]
  },
  {
   "cell_type": "markdown",
   "id": "ae1550e0",
   "metadata": {},
   "source": [
    "#### Error Bars as a Percentage of the y Value"
   ]
  },
  {
   "cell_type": "code",
   "execution_count": null,
   "id": "35d395f7",
   "metadata": {},
   "outputs": [],
   "source": [
    "import plotly.graph_objects as go\n",
    "\n",
    "fig = go.Figure(data=go.Scatter(\n",
    "        x=[0, 1, 2],\n",
    "        y=[6, 10, 2],\n",
    "        error_y=dict(\n",
    "            type='percent', # value of error bar given as percentage of y value\n",
    "            value=50,\n",
    "            visible=True)\n",
    "    ))\n",
    "fig.show()"
   ]
  },
  {
   "cell_type": "markdown",
   "id": "cb7cf469",
   "metadata": {},
   "source": [
    "#### Asymmetric Error Bars with a Constant Offset"
   ]
  },
  {
   "cell_type": "code",
   "execution_count": null,
   "id": "4fb4f76c",
   "metadata": {},
   "outputs": [],
   "source": [
    "import plotly.graph_objects as go\n",
    "\n",
    "fig = go.Figure(data=go.Scatter(\n",
    "        x=[1, 2, 3, 4],\n",
    "        y=[2, 1, 3, 4],\n",
    "        error_y=dict(\n",
    "            type='percent',\n",
    "            symmetric=False,\n",
    "            value=15,\n",
    "            valueminus=25)\n",
    "    ))\n",
    "fig.show()"
   ]
  },
  {
   "cell_type": "markdown",
   "id": "6876a2f0",
   "metadata": {},
   "source": [
    "#### Horizontal Error Bars"
   ]
  },
  {
   "cell_type": "code",
   "execution_count": null,
   "id": "ab23c355",
   "metadata": {},
   "outputs": [],
   "source": [
    "import plotly.graph_objects as go\n",
    "\n",
    "fig = go.Figure(data=go.Scatter(\n",
    "        x=[1, 2, 3, 4],\n",
    "        y=[2, 1, 3, 4],\n",
    "        error_x=dict(\n",
    "            type='percent',\n",
    "            value=10)\n",
    "    ))\n",
    "fig.show()"
   ]
  },
  {
   "cell_type": "markdown",
   "id": "5ff1b671",
   "metadata": {},
   "source": [
    "#### Bar Chart with Error Bars"
   ]
  },
  {
   "cell_type": "code",
   "execution_count": null,
   "id": "43378ea6",
   "metadata": {},
   "outputs": [],
   "source": [
    "import plotly.graph_objects as go\n",
    "\n",
    "fig = go.Figure()\n",
    "fig.add_trace(go.Bar(\n",
    "    name='Control',\n",
    "    x=['Trial 1', 'Trial 2', 'Trial 3'], y=[3, 6, 4],\n",
    "    error_y=dict(type='data', array=[1, 0.5, 1.5])\n",
    "))\n",
    "fig.add_trace(go.Bar(\n",
    "    name='Experimental',\n",
    "    x=['Trial 1', 'Trial 2', 'Trial 3'], y=[4, 7, 3],\n",
    "    error_y=dict(type='data', array=[0.5, 1, 2])\n",
    "))\n",
    "fig.update_layout(barmode='group')\n",
    "fig.show()"
   ]
  },
  {
   "cell_type": "markdown",
   "id": "2e0fb103",
   "metadata": {},
   "source": [
    "#### Colored and Styled Error Bars"
   ]
  },
  {
   "cell_type": "code",
   "execution_count": null,
   "id": "7a1aff25",
   "metadata": {},
   "outputs": [],
   "source": [
    "import plotly.graph_objects as go\n",
    "import numpy as np\n",
    "\n",
    "x_theo = np.linspace(-4, 4, 100)\n",
    "sincx = np.sinc(x_theo)\n",
    "x = [-3.8, -3.03, -1.91, -1.46, -0.89, -0.24, -0.0, 0.41, 0.89, 1.01, 1.91, 2.28, 2.79, 3.56]\n",
    "y = [-0.02, 0.04, -0.01, -0.27, 0.36, 0.75, 1.03, 0.65, 0.28, 0.02, -0.11, 0.16, 0.04, -0.15]\n",
    "\n",
    "fig = go.Figure()\n",
    "fig.add_trace(go.Scatter(\n",
    "    x=x_theo, y=sincx,\n",
    "    name='sinc(x)'\n",
    "))\n",
    "fig.add_trace(go.Scatter(\n",
    "    x=x, y=y,\n",
    "    mode='markers',\n",
    "    name='measured',\n",
    "    error_y=dict(\n",
    "        type='constant',\n",
    "        value=0.1,\n",
    "        color='purple',\n",
    "        thickness=1.5,\n",
    "        width=3,\n",
    "    ),\n",
    "    error_x=dict(\n",
    "        type='constant',\n",
    "        value=0.2,\n",
    "        color='purple',\n",
    "        thickness=1.5,\n",
    "        width=3,\n",
    "    ),\n",
    "    marker=dict(color='purple', size=8)\n",
    "))\n",
    "fig.show()"
   ]
  },
  {
   "cell_type": "markdown",
   "id": "e3e6185f",
   "metadata": {},
   "source": [
    "#### Reference\n",
    "\n",
    "See https://plotly.com/python/reference/scatter/ for more information and chart attribute options!"
   ]
  },
  {
   "cell_type": "markdown",
   "id": "6e1f0eb3",
   "metadata": {},
   "source": [
    "### What About Dash?\n",
    "\n",
    "[Dash](https://dash.plot.ly/) is an open-source framework for building analytical applications, with no Javascript required, and it is tightly integrated with the Plotly graphing library.\n",
    "\n",
    "Learn about how to install Dash at https://dash.plot.ly/installation.\n",
    "\n",
    "Everywhere in this page that you see `fig.show()`, you can display the same figure in a Dash application by passing it to the `figure` argument of the [`Graph` component](https://dash.plot.ly/dash-core-components/graph) from the built-in `dash_core_components` package like this:\n",
    "\n",
    "```python\n",
    "import plotly.graph_objects as go # or plotly.express as px\n",
    "fig = go.Figure() # or any Plotly Express function e.g. px.bar(...)\n",
    "# fig.add_trace( ... )\n",
    "# fig.update_layout( ... )\n",
    "\n",
    "from dash import Dash, dcc, html\n",
    "\n",
    "app = Dash()\n",
    "app.layout = html.Div([\n",
    "    dcc.Graph(figure=fig)\n",
    "])\n",
    "\n",
    "app.run_server(debug=True, use_reloader=False)  # Turn off reloader if inside Jupyter\n",
    "```"
   ]
  }
 ],
 "metadata": {
  "jupytext": {
   "notebook_metadata_filter": "all"
  },
  "kernelspec": {
   "display_name": "Python 3",
   "language": "python",
   "name": "python3"
  },
  "language_info": {
   "codemirror_mode": {
    "name": "ipython",
    "version": 3
   },
   "file_extension": ".py",
   "mimetype": "text/x-python",
   "name": "python",
   "nbconvert_exporter": "python",
   "pygments_lexer": "ipython3",
   "version": "3.6.8"
  },
  "plotly": {
   "description": "How to add error-bars to charts in Python with Plotly.",
   "display_as": "statistical",
   "language": "python",
   "layout": "base",
   "name": "Error Bars",
   "order": 1,
   "page_type": "example_index",
   "permalink": "python/error-bars/",
   "thumbnail": "thumbnail/error-bar.jpg"
  }
 },
 "nbformat": 4,
 "nbformat_minor": 5
}
