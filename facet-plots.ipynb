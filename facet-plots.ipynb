{
 "cells": [
  {
   "cell_type": "markdown",
   "id": "29a58c8c",
   "metadata": {},
   "source": [
    "### Facet and Trellis Plots\n",
    "\n",
    "Facet plots, also known as trellis plots or small multiples, are figures made up of multiple subplots which have the same set of axes, where each subplot shows a subset of the data. While it is straightforward to use `plotly`'s\n",
    "[subplot capabilities](/python/subplots/) to make such figures, it's far easier to use the built-in `facet_row` and `facet_col` arguments in the various Plotly Express functions.\n",
    "\n",
    "[Plotly Express](/python/plotly-express/) is the easy-to-use, high-level interface to Plotly, which [operates on a variety of types of data](/python/px-arguments/) and produces [easy-to-style figures](/python/styling-plotly-express/).\n",
    "\n",
    "### Scatter Plot Column Facets"
   ]
  },
  {
   "cell_type": "code",
   "execution_count": null,
   "id": "bc5d815c",
   "metadata": {},
   "outputs": [],
   "source": [
    "import plotly.express as px\n",
    "df = px.data.tips()\n",
    "fig = px.scatter(df, x=\"total_bill\", y=\"tip\", color=\"smoker\", facet_col=\"sex\")\n",
    "fig.show()"
   ]
  },
  {
   "cell_type": "markdown",
   "id": "6ee1d71e",
   "metadata": {},
   "source": [
    "### Bar Chart Row Facets"
   ]
  },
  {
   "cell_type": "code",
   "execution_count": null,
   "id": "3e3d2eca",
   "metadata": {},
   "outputs": [],
   "source": [
    "import plotly.express as px\n",
    "df = px.data.tips()\n",
    "fig = px.bar(df, x=\"size\", y=\"total_bill\", color=\"sex\", facet_row=\"smoker\")\n",
    "fig.show()"
   ]
  },
  {
   "cell_type": "markdown",
   "id": "da5cdd63",
   "metadata": {},
   "source": [
    "### Wrapping Column Facets\n",
    "\n",
    "When the facet dimension has a large number of unique values, it is possible to wrap columns using the `facet_col_wrap` argument."
   ]
  },
  {
   "cell_type": "code",
   "execution_count": null,
   "id": "f2c6148f",
   "metadata": {},
   "outputs": [],
   "source": [
    "import plotly.express as px\n",
    "df = px.data.gapminder()\n",
    "fig = px.scatter(df, x='gdpPercap', y='lifeExp', color='continent', size='pop',\n",
    "                facet_col='year', facet_col_wrap=4)\n",
    "fig.show()"
   ]
  },
  {
   "cell_type": "markdown",
   "id": "08fccb51",
   "metadata": {},
   "source": [
    "### Histogram Facet Grids"
   ]
  },
  {
   "cell_type": "code",
   "execution_count": null,
   "id": "965116cd",
   "metadata": {},
   "outputs": [],
   "source": [
    "import plotly.express as px\n",
    "df = px.data.tips()\n",
    "fig = px.histogram(df, x=\"total_bill\", y=\"tip\", color=\"sex\", facet_row=\"time\", facet_col=\"day\",\n",
    "       category_orders={\"day\": [\"Thur\", \"Fri\", \"Sat\", \"Sun\"], \"time\": [\"Lunch\", \"Dinner\"]})\n",
    "fig.show()"
   ]
  },
  {
   "cell_type": "markdown",
   "id": "cdb1d97a",
   "metadata": {},
   "source": [
    "### Choropleth Column Facets\n",
    "\n",
    "*new in version 4.13*"
   ]
  },
  {
   "cell_type": "code",
   "execution_count": null,
   "id": "77b488b5",
   "metadata": {},
   "outputs": [],
   "source": [
    "import plotly.express as px\n",
    "\n",
    "df = px.data.election()\n",
    "df = df.melt(id_vars=\"district\", value_vars=[\"Coderre\", \"Bergeron\", \"Joly\"],\n",
    "            var_name=\"candidate\", value_name=\"votes\")\n",
    "geojson = px.data.election_geojson()\n",
    "\n",
    "fig = px.choropleth(df, geojson=geojson, color=\"votes\", facet_col=\"candidate\",\n",
    "                    locations=\"district\", featureidkey=\"properties.district\",\n",
    "                    projection=\"mercator\"\n",
    "                   )\n",
    "fig.update_geos(fitbounds=\"locations\", visible=False)\n",
    "fig.show()"
   ]
  },
  {
   "cell_type": "markdown",
   "id": "cb7bb7be",
   "metadata": {},
   "source": [
    "### Adding Lines and Rectangles to Facet Plots\n",
    "\n",
    "*introduced in plotly 4.12*\n",
    "\n",
    "It is possible to add [labelled horizontal and vertical lines and rectangles](/python/horizontal-vertical-shapes/) to facet plots using `.add_hline()`, `.add_vline()`, `.add_hrect()` or `.add_vrect()`. The default `row` and `col` values are `\"all\"` but this can be overridden, as with the rectangle below, which only appears in the first column."
   ]
  },
  {
   "cell_type": "code",
   "execution_count": null,
   "id": "756f6a60",
   "metadata": {},
   "outputs": [],
   "source": [
    "import plotly.express as px\n",
    "\n",
    "df = px.data.stocks(indexed=True)\n",
    "fig = px.line(df, facet_col=\"company\", facet_col_wrap=2)\n",
    "fig.add_hline(y=1, line_dash=\"dot\",\n",
    "              annotation_text=\"Jan 1, 2018 baseline\",\n",
    "              annotation_position=\"bottom right\")\n",
    "\n",
    "fig.add_vrect(x0=\"2018-09-24\", x1=\"2018-12-18\", col=1,\n",
    "              annotation_text=\"decline\", annotation_position=\"top left\",\n",
    "              fillcolor=\"green\", opacity=0.25, line_width=0)\n",
    "fig.show()\n"
   ]
  },
  {
   "cell_type": "markdown",
   "id": "f053504a",
   "metadata": {},
   "source": [
    "### Adding the Same Trace to All Facets\n",
    "\n",
    "*introduced in plotly 4.12*\n",
    "\n",
    "The `.add_trace()` method can be used to add a copy of the same trace to each facet, for example an overall linear regression line as below. The `legendgroup`/`showlegend` pattern below is recommended to avoid having a separate legend item for each copy of the trace. Note that as of v5.2.1, there is [a built-in option to add an overall trendline to all facets](https://plotly.com/python/linear-fits/) that uses this technique under the hood."
   ]
  },
  {
   "cell_type": "code",
   "execution_count": null,
   "id": "79e55a75",
   "metadata": {},
   "outputs": [],
   "source": [
    "import plotly.express as px\n",
    "df = px.data.tips()\n",
    "fig = px.scatter(df, x=\"total_bill\", y=\"tip\", color='sex',\n",
    "                 facet_col=\"day\", facet_row=\"time\")\n",
    "\n",
    "import statsmodels.api as sm\n",
    "import plotly.graph_objects as go\n",
    "df = df.sort_values(by=\"total_bill\")\n",
    "model = sm.OLS(df[\"tip\"], sm.add_constant(df[\"total_bill\"])).fit()\n",
    "\n",
    "#create the trace to be added to all facets\n",
    "trace = go.Scatter(x=df[\"total_bill\"], y=model.predict(),\n",
    "                   line_color=\"black\", name=\"overall OLS\")\n",
    "\n",
    "# give it a legend group and hide it from the legend\n",
    "trace.update(legendgroup=\"trendline\", showlegend=False)\n",
    "\n",
    "# add it to all rows/cols, but not to empty subplots\n",
    "fig.add_trace(trace, row=\"all\", col=\"all\", exclude_empty_subplots=True)\n",
    "\n",
    "# set only the last trace added to appear in the legend\n",
    "# `selector=-1` introduced in plotly v4.13\n",
    "fig.update_traces(selector=-1, showlegend=True)\n",
    "fig.show()"
   ]
  },
  {
   "cell_type": "markdown",
   "id": "483538bb",
   "metadata": {},
   "source": [
    "### Facets With Independent Axes\n",
    "\n",
    "By default, facet axes are linked together: zooming inside one of the facets will also zoom in the other facets. You can disable this behaviour when you use `facet_row` only, by disabling `matches` on the Y axes, or when using `facet_col` only, by disabling `matches` on the X axes. It is not recommended to use this approach when using `facet_row` and `facet_col` together, as in this case it becomes very hard to understand the labelling of axes and grid lines."
   ]
  },
  {
   "cell_type": "code",
   "execution_count": null,
   "id": "3e4cdea4",
   "metadata": {},
   "outputs": [],
   "source": [
    "import plotly.express as px\n",
    "df = px.data.tips()\n",
    "fig = px.scatter(df, x=\"total_bill\", y=\"tip\", color='sex', facet_row=\"day\")\n",
    "fig.update_yaxes(matches=None)\n",
    "fig.show()"
   ]
  },
  {
   "cell_type": "code",
   "execution_count": null,
   "id": "b15bc943",
   "metadata": {},
   "outputs": [],
   "source": [
    "import plotly.express as px\n",
    "df = px.data.tips()\n",
    "fig = px.scatter(df, x=\"total_bill\", y=\"tip\", color='sex', facet_col=\"day\")\n",
    "fig.update_xaxes(matches=None)\n",
    "fig.show()"
   ]
  },
  {
   "cell_type": "markdown",
   "id": "4f5f62b9",
   "metadata": {},
   "source": [
    "### Customizing Subplot Figure Titles\n",
    "\n",
    "Since subplot figure titles are [annotations](https://plotly.com/python/text-and-annotations/#simple-annotation), you can use the `for_each_annotation` function to customize them, for example to remove the equal-sign (`=`).\n",
    "\n",
    "In the following example, we pass a lambda function to `for_each_annotation` in order to change the figure subplot titles from `smoker=No` and `smoker=Yes` to just `No` and `Yes`."
   ]
  },
  {
   "cell_type": "code",
   "execution_count": null,
   "id": "1672a191",
   "metadata": {},
   "outputs": [],
   "source": [
    "import plotly.express as px\n",
    "\n",
    "fig = px.scatter(px.data.tips(), x=\"total_bill\", y=\"tip\", facet_col=\"smoker\")\n",
    "fig.for_each_annotation(lambda a: a.update(text=a.text.split(\"=\")[-1]))\n",
    "fig.show()"
   ]
  },
  {
   "cell_type": "markdown",
   "id": "34dce38f",
   "metadata": {},
   "source": [
    "### Controlling Facet Ordering\n",
    "\n",
    "By default, Plotly Express lays out categorical data in the order in which it appears in the underlying data. Every 2-d cartesian Plotly Express function also includes a `category_orders` keyword argument which can be used to control [the order in which categorical axes are drawn](/python/categorical-axes/), but beyond that can also control [the order in which discrete colors appear in the legend](/python/discrete-color/), and the order in which facets are laid out."
   ]
  },
  {
   "cell_type": "code",
   "execution_count": null,
   "id": "eb37df87",
   "metadata": {},
   "outputs": [],
   "source": [
    "import plotly.express as px\n",
    "df = px.data.tips()\n",
    "fig = px.bar(df, x=\"day\", y=\"total_bill\", color=\"smoker\", barmode=\"group\", facet_col=\"sex\",\n",
    "             category_orders={\"day\": [\"Thur\", \"Fri\", \"Sat\", \"Sun\"],\n",
    "                              \"smoker\": [\"Yes\", \"No\"],\n",
    "                              \"sex\": [\"Male\", \"Female\"]})\n",
    "fig.show()"
   ]
  },
  {
   "cell_type": "markdown",
   "id": "381d08ff",
   "metadata": {},
   "source": [
    "### Controlling Facet Spacing\n",
    "\n",
    "The `facet_row_spacing` and `facet_col_spacing` arguments can be used to control the spacing between rows and columns. These values are specified in fractions of the plotting area in paper coordinates and not in pixels, so they will grow or shrink with the `width` and `height` of the figure.\n",
    "\n",
    "The defaults work well with 1-4 rows or columns at the default figure size with the default font size, but need to be reduced to around 0.01 for very large figures or figures with many rows or columns. Conversely, if activating tick labels on all facets, the spacing will need to be increased."
   ]
  },
  {
   "cell_type": "code",
   "execution_count": null,
   "id": "e822a51a",
   "metadata": {},
   "outputs": [],
   "source": [
    "import plotly.express as px\n",
    "\n",
    "df = px.data.gapminder().query(\"continent == 'Africa'\")\n",
    "\n",
    "fig = px.line(df, x=\"year\", y=\"lifeExp\", facet_col=\"country\", facet_col_wrap=7,\n",
    "              facet_row_spacing=0.04, # default is 0.07 when facet_col_wrap is used\n",
    "              facet_col_spacing=0.04, # default is 0.03\n",
    "              height=600, width=800,\n",
    "              title=\"Life Expectancy in Africa\")\n",
    "fig.for_each_annotation(lambda a: a.update(text=a.text.split(\"=\")[-1]))\n",
    "fig.update_yaxes(showticklabels=True)\n",
    "fig.show()"
   ]
  },
  {
   "cell_type": "markdown",
   "id": "0f431f58",
   "metadata": {},
   "source": [
    "### Synchronizing axes in subplots with `matches`\n",
    "\n",
    "Using `facet_col` from `plotly.express` let [zoom](https://help.plotly.com/zoom-pan-hover-controls/#step-3-zoom-in-and-zoom-out-autoscale-the-plot) and [pan](https://help.plotly.com/zoom-pan-hover-controls/#step-6-pan-along-axes) each facet to the same range implicitly. However, if the subplots are created with `make_subplots`, the axis needs to be updated with `matches` parameter to update all the subplots accordingly.\n",
    "\n",
    "Zoom in one trace below, to see the other subplots zoomed to the same x-axis range. To pan all the subplots, click and drag from the center of x-axis to the side:"
   ]
  },
  {
   "cell_type": "code",
   "execution_count": null,
   "id": "13920239",
   "metadata": {
    "lines_to_next_cell": 2
   },
   "outputs": [],
   "source": [
    "import plotly.graph_objects as go\n",
    "from plotly.subplots import make_subplots\n",
    "import numpy as np\n",
    "\n",
    "N = 20\n",
    "x = np.linspace(0, 1, N)\n",
    "\n",
    "fig = make_subplots(1, 3)\n",
    "for i in range(1, 4):\n",
    "    fig.add_trace(go.Scatter(x=x, y=np.random.random(N)), 1, i)\n",
    "fig.update_xaxes(matches='x')\n",
    "fig.show()"
   ]
  },
  {
   "cell_type": "markdown",
   "id": "24120b3f",
   "metadata": {},
   "source": [
    "### What About Dash?\n",
    "\n",
    "[Dash](https://dash.plot.ly/) is an open-source framework for building analytical applications, with no Javascript required, and it is tightly integrated with the Plotly graphing library.\n",
    "\n",
    "Learn about how to install Dash at https://dash.plot.ly/installation.\n",
    "\n",
    "Everywhere in this page that you see `fig.show()`, you can display the same figure in a Dash application by passing it to the `figure` argument of the [`Graph` component](https://dash.plot.ly/dash-core-components/graph) from the built-in `dash_core_components` package like this:\n",
    "\n",
    "```python\n",
    "import plotly.graph_objects as go # or plotly.express as px\n",
    "fig = go.Figure() # or any Plotly Express function e.g. px.bar(...)\n",
    "# fig.add_trace( ... )\n",
    "# fig.update_layout( ... )\n",
    "\n",
    "from dash import Dash, dcc, html\n",
    "\n",
    "app = Dash()\n",
    "app.layout = html.Div([\n",
    "    dcc.Graph(figure=fig)\n",
    "])\n",
    "\n",
    "app.run_server(debug=True, use_reloader=False)  # Turn off reloader if inside Jupyter\n",
    "```"
   ]
  }
 ],
 "metadata": {
  "jupytext": {
   "notebook_metadata_filter": "all"
  },
  "kernelspec": {
   "display_name": "Python 3",
   "language": "python",
   "name": "python3"
  },
  "language_info": {
   "codemirror_mode": {
    "name": "ipython",
    "version": 3
   },
   "file_extension": ".py",
   "mimetype": "text/x-python",
   "name": "python",
   "nbconvert_exporter": "python",
   "pygments_lexer": "ipython3",
   "version": "3.7.7"
  },
  "plotly": {
   "description": "How to make Facet and Trellis Plots in Python with Plotly.",
   "display_as": "statistical",
   "language": "python",
   "layout": "base",
   "name": "Facet and Trellis Plots",
   "order": 7,
   "page_type": "u-guide",
   "permalink": "python/facet-plots/",
   "redirect_from": [
    "python/trellis-plots/",
    "python/facet-trellis/"
   ],
   "thumbnail": "thumbnail/facet-trellis-thumbnail.jpg"
  }
 },
 "nbformat": 4,
 "nbformat_minor": 5
}
