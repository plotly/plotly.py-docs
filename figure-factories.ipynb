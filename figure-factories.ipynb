{
 "cells": [
  {
   "cell_type": "markdown",
   "id": "03aa181a",
   "metadata": {},
   "source": [
    "#### `plotly.figure_factory`\n",
    "\n",
    "The `plotly.figure_factory` module contains dedicated functions for creating very specific types of plots that were at the time of their creation difficult to create with [graph objects](/python/graph-objects/) and prior to the existence of [Plotly Express](/python/plotly-express/). As new functionality gets added to [Plotly.js](https://plotly.com/javascript/) and to Plotly Express, certain Figure Factories become unnecessary and are therefore deprecated as \"legacy\", but remain in the module for backwards-compatibility reasons.\n",
    "\n",
    "The following types of plots are still difficult to create with Graph Objects or Plotly Express and therefore the corresponding Figure Factories are *not* deprecated:\n",
    "\n",
    "  * [Dendrograms](/python/dendrogram/)\n",
    "  * [Hexagonal Binning Tile Map](/python/hexbin-mapbox/)\n",
    "  * [Quiver Plots](/python/quiver-plots/)\n",
    "  * [Streamline Plots](/python/streamline-plots/)\n",
    "  * [Tables](/python/figure-factory-table/)\n",
    "  * [Ternary Contour Plots](/python/ternary-contour/)\n",
    "  * [Triangulated Surface Plots](/python/trisurf/)\n",
    "\n",
    "Deprecated \"legacy\" Figure Factories include:\n",
    "\n",
    "  * [Annotated Heatmaps](/python/annotated-heatmap/), deprecated by [heatmaps with `px.imshow()`](/python/heatmaps/)\n",
    "  * [County Choropleth Maps](/python/county-choropleth/), deprecated by regular [Choropleth maps with GeoJSON input](/python/choropleth-maps/)\n",
    "  * [Distplots](/python/distplot/), mostly deprecated by [`px.histogram`](/python/histograms/) except for KDE plots, which `px.histogram` doesn't support yet\n",
    "  * [Gantt Charts](/python/gantt/), deprecated by [`px.timeline`](/python/gantt/)\n",
    "\n",
    "#### Reference\n",
    "\n",
    "For more information about the contents of `plotly.figure_factory`, including deprecated methods, please refer to our [API Reference documentation](https://plotly.com/python-api-reference/plotly.figure_factory.html).\n",
    "\n"
   ]
  },
  {
   "cell_type": "markdown",
   "id": "10a3e098",
   "metadata": {},
   "source": [
    "### What About Dash?\n",
    "\n",
    "[Dash](https://dash.plot.ly/) is an open-source framework for building analytical applications, with no Javascript required, and it is tightly integrated with the Plotly graphing library.\n",
    "\n",
    "Learn about how to install Dash at https://dash.plot.ly/installation.\n",
    "\n",
    "Everywhere in this page that you see `fig.show()`, you can display the same figure in a Dash application by passing it to the `figure` argument of the [`Graph` component](https://dash.plot.ly/dash-core-components/graph) from the built-in `dash_core_components` package like this:\n",
    "\n",
    "```python\n",
    "import plotly.graph_objects as go # or plotly.express as px\n",
    "fig = go.Figure() # or any Plotly Express function e.g. px.bar(...)\n",
    "# fig.add_trace( ... )\n",
    "# fig.update_layout( ... )\n",
    "\n",
    "from dash import Dash, dcc, html\n",
    "\n",
    "app = Dash()\n",
    "app.layout = html.Div([\n",
    "    dcc.Graph(figure=fig)\n",
    "])\n",
    "\n",
    "app.run_server(debug=True, use_reloader=False)  # Turn off reloader if inside Jupyter\n",
    "```"
   ]
  }
 ],
 "metadata": {
  "jupytext": {
   "notebook_metadata_filter": "all"
  },
  "kernelspec": {
   "display_name": "Python 3",
   "language": "python",
   "name": "python3"
  },
  "language_info": {
   "codemirror_mode": {
    "name": "ipython",
    "version": 3
   },
   "file_extension": ".py",
   "mimetype": "text/x-python",
   "name": "python",
   "nbconvert_exporter": "python",
   "pygments_lexer": "ipython3",
   "version": "3.8.11"
  },
  "plotly": {
   "description": "Figure Factories are dedicated functions for creating very specific types of plots.",
   "display_as": "file_settings",
   "language": "python",
   "layout": "base",
   "name": "Figure Factories",
   "order": 33,
   "permalink": "python/figure-factories/",
   "thumbnail": "thumbnail/streamline.jpg"
  }
 },
 "nbformat": 4,
 "nbformat_minor": 5
}
