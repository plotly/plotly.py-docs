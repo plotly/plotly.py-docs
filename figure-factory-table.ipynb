{
 "cells": [
  {
   "cell_type": "markdown",
   "id": "6b9064e4",
   "metadata": {},
   "source": [
    "Tables can be created using a [`table` trace type](/python/table/), or by using a [figure factory](/python/figure-factories/) as detailed in this page.\n",
    "\n",
    "#### Simple Table"
   ]
  },
  {
   "cell_type": "code",
   "execution_count": null,
   "id": "ddf88d56",
   "metadata": {},
   "outputs": [],
   "source": [
    "import plotly.figure_factory as ff\n",
    "\n",
    "data_matrix = [['Country', 'Year', 'Population'],\n",
    "               ['United States', 2000, 282200000],\n",
    "               ['Canada', 2000, 27790000],\n",
    "               ['United States', 2005, 295500000],\n",
    "               ['Canada', 2005, 32310000],\n",
    "               ['United States', 2010, 309000000],\n",
    "               ['Canada', 2010, 34000000]]\n",
    "\n",
    "fig = ff.create_table(data_matrix)\n",
    "fig.show()"
   ]
  },
  {
   "cell_type": "markdown",
   "id": "2352c269",
   "metadata": {},
   "source": [
    "#### Add Links"
   ]
  },
  {
   "cell_type": "code",
   "execution_count": null,
   "id": "efca79fe",
   "metadata": {},
   "outputs": [],
   "source": [
    "import plotly.figure_factory as ff\n",
    "\n",
    "data_matrix = [['User', 'Language', 'Chart Type', '# of Views'],\n",
    "               ['<a href=\"https://plotly.com/~empet/folder/home\">empet</a>',\n",
    "                '<a href=\"https://plotly.com/python/\">Python</a>',\n",
    "                '<a href=\"https://plotly.com/~empet/8614/\">Network Graph</a>',\n",
    "                298],\n",
    "               ['<a href=\"https://plotly.com/~Grondo/folder/home\">Grondo</a>',\n",
    "                '<a href=\"https://plotly.com/matlab/\">Matlab</a>',\n",
    "                '<a href=\"https://plotly.com/~Grondo/42/\">Subplots</a>',\n",
    "                356],\n",
    "               ['<a href=\"https://plotly.com/~Dreamshot/folder/home\">Dreamshot</a>',\n",
    "                '<a href=\"https://help.plot.ly/tutorials/\">Web App</a>',\n",
    "                '<a href=\"https://plotly.com/~Dreamshot/6575/_2014-us-city-populations/\">Bubble Map</a>',\n",
    "                262],\n",
    "               ['<a href=\"https://plotly.com/~FiveThirtyEight/folder/home\">FiveThirtyEight</a>',\n",
    "                '<a href=\"https://help.plot.ly/tutorials/\">Web App</a>',\n",
    "                '<a href=\"https://plotly.com/~FiveThirtyEight/30/\">Scatter</a>',\n",
    "                692],\n",
    "               ['<a href=\"https://plotly.com/~cpsievert/folder/home\">cpsievert</a>',\n",
    "                '<a href=\"https://plotly.com/r/\">R</a>',\n",
    "                '<a href=\"https://plotly.com/~cpsievert/1130/\">Surface</a>',\n",
    "                302]]\n",
    "\n",
    "fig = ff.create_table(data_matrix)\n",
    "fig.show()"
   ]
  },
  {
   "cell_type": "markdown",
   "id": "af6394c5",
   "metadata": {},
   "source": [
    "### Use LaTeX"
   ]
  },
  {
   "cell_type": "code",
   "execution_count": null,
   "id": "0ca793c4",
   "metadata": {},
   "outputs": [],
   "source": [
    "import plotly.figure_factory as ff\n",
    "\n",
    "data_matrix = [['Name', 'Equation'],\n",
    "               ['Pythagorean Theorem', '$a^{2}+b^{2}=c^{2}$'],\n",
    "               ['Euler\\'s Formula', '$F-E+V=2$'],\n",
    "               ['The Origin of Complex Numbers', '$i^{2}=-1$'],\n",
    "               ['Einstein\\'s Theory of Relativity', '$E=m c^{2}$']]\n",
    "\n",
    "fig =  ff.create_table(data_matrix)\n",
    "fig.show()"
   ]
  },
  {
   "cell_type": "markdown",
   "id": "ecb41259",
   "metadata": {},
   "source": [
    "### Use a Pandas Dataframe"
   ]
  },
  {
   "cell_type": "code",
   "execution_count": null,
   "id": "756608f3",
   "metadata": {},
   "outputs": [],
   "source": [
    "import plotly.figure_factory as ff\n",
    "\n",
    "import pandas as pd\n",
    "\n",
    "df = pd.read_csv('https://raw.githubusercontent.com/plotly/datasets/master/gapminderDataFiveYear.csv')\n",
    "df_sample = df[100:120]\n",
    "\n",
    "fig =  ff.create_table(df_sample)\n",
    "fig.show()"
   ]
  },
  {
   "cell_type": "markdown",
   "id": "7c52ddfb",
   "metadata": {},
   "source": [
    "### Modify Row Height\n",
    "\n",
    "The default row height is 30 pixels. Set height_constant if you'd like to change the height of each row.\n"
   ]
  },
  {
   "cell_type": "code",
   "execution_count": null,
   "id": "7344963d",
   "metadata": {},
   "outputs": [],
   "source": [
    "import plotly.figure_factory as ff\n",
    "\n",
    "data_matrix = [['Country', 'Year', 'Population'],\n",
    "               ['United States', 2000, 282200000],\n",
    "               ['Canada', 2000, 27790000],\n",
    "               ['United States', 2005, 295500000],\n",
    "               ['Canada', 2005, 32310000],\n",
    "               ['United States', 2010, 309000000],\n",
    "               ['Canada', 2010, 34000000]]\n",
    "\n",
    "fig =  ff.create_table(data_matrix, height_constant=20)\n",
    "fig.show()"
   ]
  },
  {
   "cell_type": "markdown",
   "id": "6325f5ce",
   "metadata": {},
   "source": [
    "### Custom Table Colors\n"
   ]
  },
  {
   "cell_type": "code",
   "execution_count": null,
   "id": "6f876520",
   "metadata": {},
   "outputs": [],
   "source": [
    "import plotly.figure_factory as ff\n",
    "\n",
    "import pandas as pd\n",
    "\n",
    "df = pd.read_csv('https://raw.githubusercontent.com/plotly/datasets/master/gapminderDataFiveYear.csv')\n",
    "df_sample = df[400:410]\n",
    "\n",
    "colorscale = [[0, '#4d004c'],[.5, '#f2e5ff'],[1, '#ffffff']]\n",
    "\n",
    "fig =  ff.create_table(df_sample, colorscale=colorscale)\n",
    "\n",
    "fig.show()"
   ]
  },
  {
   "cell_type": "markdown",
   "id": "73153a35",
   "metadata": {},
   "source": [
    "### Custom Font Colors"
   ]
  },
  {
   "cell_type": "code",
   "execution_count": null,
   "id": "83840c4a",
   "metadata": {},
   "outputs": [],
   "source": [
    "import plotly.figure_factory as ff\n",
    "\n",
    "text = [['Team', 'Rank'], ['A', 1], ['B', 2], ['C', 3], ['D', 4], ['E', 5], ['F', 6]]\n",
    "\n",
    "colorscale = [[0, '#272D31'],[.5, '#ffffff'],[1, '#ffffff']]\n",
    "font=['#FCFCFC', '#00EE00', '#008B00', '#004F00', '#660000', '#CD0000', '#FF3030']\n",
    "\n",
    "fig = ff.create_table(text, colorscale=colorscale, font_colors=font)\n",
    "fig.layout.width=250\n",
    "fig.show()"
   ]
  },
  {
   "cell_type": "markdown",
   "id": "ffa6bd40",
   "metadata": {},
   "source": [
    "### Change Font Size"
   ]
  },
  {
   "cell_type": "code",
   "execution_count": null,
   "id": "c483776d",
   "metadata": {},
   "outputs": [],
   "source": [
    "import plotly.figure_factory as ff\n",
    "\n",
    "data_matrix = [['Country', 'Year', 'Population'],\n",
    "               ['United States', 2000, 282200000],\n",
    "               ['Canada', 2000, 27790000],\n",
    "               ['United States', 2005, 295500000],\n",
    "               ['Canada', 2005, 32310000],\n",
    "               ['United States', 2010, 309000000],\n",
    "               ['Canada', 2010, 34000000]]\n",
    "\n",
    "fig = ff.create_table(data_matrix, index=True)\n",
    "\n",
    "# Make text size larger\n",
    "for i in range(len(fig.layout.annotations)):\n",
    "    fig.layout.annotations[i].font.size = 20\n",
    "\n",
    "fig.show()"
   ]
  },
  {
   "cell_type": "markdown",
   "id": "76b52ddb",
   "metadata": {},
   "source": [
    "#### Tables with Graphs"
   ]
  },
  {
   "cell_type": "code",
   "execution_count": null,
   "id": "d8af5659",
   "metadata": {
    "lines_to_next_cell": 2
   },
   "outputs": [],
   "source": [
    "import plotly.graph_objs as go\n",
    "import plotly.figure_factory as ff\n",
    "\n",
    "# Add table data\n",
    "table_data = [['Team', 'Wins', 'Losses', 'Ties'],\n",
    "              ['Montréal<br>Canadiens', 18, 4, 0],\n",
    "              ['Dallas Stars', 18, 5, 0],\n",
    "              ['NY Rangers', 16, 5, 0],\n",
    "              ['Boston<br>Bruins', 13, 8, 0],\n",
    "              ['Chicago<br>Blackhawks', 13, 8, 0],\n",
    "              ['LA Kings', 13, 8, 0],\n",
    "              ['Ottawa<br>Senators', 12, 5, 0]]\n",
    "# Initialize a figure with ff.create_table(table_data)\n",
    "fig = ff.create_table(table_data, height_constant=60)\n",
    "\n",
    "# Add graph data\n",
    "teams = ['Montréal Canadiens', 'Dallas Stars', 'NY Rangers',\n",
    "         'Boston Bruins', 'Chicago Blackhawks', 'LA Kings', 'Ottawa Senators']\n",
    "GFPG = [3.54, 3.48, 3.0, 3.27, 2.83, 2.45, 3.18]\n",
    "GAPG = [2.17, 2.57, 2.0, 2.91, 2.57, 2.14, 2.77]\n",
    "# Make traces for graph\n",
    "fig.add_trace(go.Scatter(x=teams, y=GFPG,\n",
    "                    marker=dict(color='#0099ff'),\n",
    "                    name='Goals For<br>Per Game',\n",
    "                    xaxis='x2', yaxis='y2'))\n",
    "fig.add_trace(go.Scatter(x=teams, y=GAPG,\n",
    "                    marker=dict(color='#404040'),\n",
    "                    name='Goals Against<br>Per Game',\n",
    "                    xaxis='x2', yaxis='y2'))\n",
    "\n",
    "fig.update_layout(\n",
    "    title_text = '2016 Hockey Stats',\n",
    "    margin = {'t':50, 'b':100},\n",
    "    xaxis = {'domain': [0, .5]},\n",
    "    xaxis2 = {'domain': [0.6, 1.]},\n",
    "    yaxis2 = {'anchor': 'x2', 'title': 'Goals'}\n",
    ")\n",
    "\n",
    "fig.show()"
   ]
  },
  {
   "cell_type": "code",
   "execution_count": null,
   "id": "0f28c490",
   "metadata": {
    "lines_to_next_cell": 2
   },
   "outputs": [],
   "source": [
    "import plotly.graph_objs as go\n",
    "import plotly.figure_factory as ff\n",
    "\n",
    "# Add table data\n",
    "table_data = [['Team', 'Wins', 'Losses', 'Ties'],\n",
    "              ['Montréal<br>Canadiens', 18, 4, 0],\n",
    "              ['Dallas Stars', 18, 5, 0],\n",
    "              ['NY Rangers', 16, 5, 0],\n",
    "              ['Boston<br>Bruins', 13, 8, 0],\n",
    "              ['Chicago<br>Blackhawks', 13, 8, 0],\n",
    "              ['Ottawa<br>Senators', 12, 5, 0]]\n",
    "# Initialize a fig with ff.create_table(table_data)\n",
    "fig = ff.create_table(table_data, height_constant=60)\n",
    "\n",
    "# Add graph data\n",
    "teams = ['Montréal Canadiens', 'Dallas Stars', 'NY Rangers',\n",
    "         'Boston Bruins', 'Chicago Blackhawks', 'Ottawa Senators']\n",
    "GFPG = [3.54, 3.48, 3.0, 3.27, 2.83, 3.18]\n",
    "GAPG = [2.17, 2.57, 2.0, 2.91, 2.57, 2.77]\n",
    "\n",
    "fig.add_trace(go.Bar(x=teams, y=GFPG, xaxis='x2', yaxis='y2',\n",
    "                marker=dict(color='#0099ff'),\n",
    "                name='Goals For<br>Per Game'))\n",
    "\n",
    "fig.add_trace(go.Bar(x=teams, y=GAPG, xaxis='x2', yaxis='y2',\n",
    "                marker=dict(color='#404040'),\n",
    "                name='Goals Against<br>Per Game'))\n",
    "\n",
    "fig.update_layout(\n",
    "    title_text = '2016 Hockey Stats',\n",
    "    height = 800,\n",
    "    margin = {'t':75, 'l':50},\n",
    "    yaxis = {'domain': [0, .45]},\n",
    "    xaxis2 = {'anchor': 'y2'},\n",
    "    yaxis2 = {'domain': [.6, 1], 'anchor': 'x2', 'title': 'Goals'}\n",
    ")\n",
    "\n",
    "fig.show()"
   ]
  },
  {
   "cell_type": "markdown",
   "id": "76d1c5e2",
   "metadata": {},
   "source": [
    "#### Reference\n",
    "\n",
    "For more info on `ff.create_table()`, see the [full function reference](https://plotly.com/python-api-reference/generated/plotly.figure_factory.create_table.html)"
   ]
  },
  {
   "cell_type": "markdown",
   "id": "5b702626",
   "metadata": {},
   "source": [
    "### What About Dash?\n",
    "\n",
    "[Dash](https://dash.plot.ly/) is an open-source framework for building analytical applications, with no Javascript required, and it is tightly integrated with the Plotly graphing library.\n",
    "\n",
    "Learn about how to install Dash at https://dash.plot.ly/installation.\n",
    "\n",
    "Everywhere in this page that you see `fig.show()`, you can display the same figure in a Dash application by passing it to the `figure` argument of the [`Graph` component](https://dash.plot.ly/dash-core-components/graph) from the built-in `dash_core_components` package like this:\n",
    "\n",
    "```python\n",
    "import plotly.graph_objects as go # or plotly.express as px\n",
    "fig = go.Figure() # or any Plotly Express function e.g. px.bar(...)\n",
    "# fig.add_trace( ... )\n",
    "# fig.update_layout( ... )\n",
    "\n",
    "from dash import Dash, dcc, html\n",
    "\n",
    "app = Dash()\n",
    "app.layout = html.Div([\n",
    "    dcc.Graph(figure=fig)\n",
    "])\n",
    "\n",
    "app.run_server(debug=True, use_reloader=False)  # Turn off reloader if inside Jupyter\n",
    "```"
   ]
  }
 ],
 "metadata": {
  "jupytext": {
   "notebook_metadata_filter": "all"
  },
  "kernelspec": {
   "display_name": "Python 3",
   "language": "python",
   "name": "python3"
  },
  "language_info": {
   "codemirror_mode": {
    "name": "ipython",
    "version": 3
   },
   "file_extension": ".py",
   "mimetype": "text/x-python",
   "name": "python",
   "nbconvert_exporter": "python",
   "pygments_lexer": "ipython3",
   "version": "3.7.7"
  },
  "plotly": {
   "description": "How to make tables in Python with Plotly's Figure Factory.",
   "display_as": "basic",
   "language": "python",
   "layout": "base",
   "name": "Figure Factory Tables",
   "order": 15,
   "permalink": "python/figure-factory-table/",
   "redirect_from": [
    "python/figure-factory/table/",
    "python/v3/figure-factory/table/"
   ],
   "thumbnail": "thumbnail/table.gif"
  }
 },
 "nbformat": 4,
 "nbformat_minor": 5
}
