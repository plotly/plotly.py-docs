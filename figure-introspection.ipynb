{
 "cells": [
  {
   "cell_type": "markdown",
   "id": "902dbf96",
   "metadata": {},
   "source": [
    "### The Figure Lifecycle\n",
    "\n",
    "As explained in the [Figure Data Structure documentation](/python/figure-structure/), when building a figure object with Plotly.py, it is not necessary to populate every possible attribute. At render-time, figure objects (whether generated via [Plotly Express](/python/plotly-express/) or [Graph Objects](/python/graph-objects/)) are passed from Plotly.py to [Plotly.js](/javascript/), which is the Javascript library responsible for turning JSON descriptions of figures into graphical representations.\n",
    "\n",
    "As part of this rendering process, Plotly.js will determine, based on the attributes that have been set, which other attributes require values in order to draw the figure. Plotly.js will then apply either static or dynamic defaults to all of the remaining required attributes and render the figure. A good example of a static default would be the text font size: if unspecified, the default value is always the same. A good example of a dynamic default would be the range of an axis: if unspecified, the default will be computed based on the range of the data in traces associated with that axis."
   ]
  },
  {
   "cell_type": "markdown",
   "id": "8f2d01c2",
   "metadata": {},
   "source": [
    "### Introspecting Plotly Express Figures\n",
    "\n",
    "Figure objects created by [Plotly Express](/python/plotly-express/) have a number of attributes automatically set, and these can be introspected using the Python `print()` function, or in JupyterLab, the special `fig.show(\"json\")` renderer, which gives an interactive drilldown interface with search:"
   ]
  },
  {
   "cell_type": "code",
   "execution_count": null,
   "id": "5cd7bc67",
   "metadata": {},
   "outputs": [],
   "source": [
    "import plotly.express as px\n",
    "\n",
    "fig = px.scatter(x=[10, 20], y=[20, 10], height=400, width=400)\n",
    "fig.show()\n",
    "print(fig)"
   ]
  },
  {
   "cell_type": "markdown",
   "id": "1dc6a88c",
   "metadata": {},
   "source": [
    "We can learn more about the attributes Plotly Express has set for us with the Python `help()` function:"
   ]
  },
  {
   "cell_type": "code",
   "execution_count": null,
   "id": "79dadfcc",
   "metadata": {},
   "outputs": [],
   "source": [
    "help(fig.data[0].__class__.mode)"
   ]
  },
  {
   "cell_type": "markdown",
   "id": "4ad7b8f3",
   "metadata": {},
   "source": [
    "### Accessing Javascript-Computed Defaults\n",
    "\n",
    "_new in 4.10_\n",
    "\n",
    "The `.full_figure_for_development()` method provides Python-level access to the default values computed by Plotly.js. This method requires [the Kaleido package](/python/static-image-export/), which is easy to install and also used for [static image export](/python/static-image-export/).\n",
    "\n",
    "By way of example, here is an extremely simple figure created with [Graph Objects](/python/graph-objects/) (although it could have been made with [Plotly Express](/python/plotly-express/) as well just like above) where we have disabled the default template for maximum readability. Note how in this figure the text labels on the markers are clipped, and sit on top of the markers."
   ]
  },
  {
   "cell_type": "code",
   "execution_count": null,
   "id": "d445f790",
   "metadata": {},
   "outputs": [],
   "source": [
    "import plotly.graph_objects as go\n",
    "\n",
    "fig = go.Figure(\n",
    "    data=[go.Scatter(\n",
    "        mode=\"markers+text\",\n",
    "        x=[10,20],\n",
    "        y=[20, 10],\n",
    "        text=[\"Point A\", \"Point B\"]\n",
    "    )],\n",
    "    layout=dict(height=400, width=400, template=\"none\")\n",
    ")\n",
    "fig.show()"
   ]
  },
  {
   "cell_type": "markdown",
   "id": "549155c2",
   "metadata": {},
   "source": [
    "Let's print this figure to see the very small JSON object that is passed to Plotly.js as input:"
   ]
  },
  {
   "cell_type": "code",
   "execution_count": null,
   "id": "c14e9483",
   "metadata": {},
   "outputs": [],
   "source": [
    "print(fig)"
   ]
  },
  {
   "cell_type": "markdown",
   "id": "0698830d",
   "metadata": {},
   "source": [
    "Now let's look at the \"full\" figure after Plotly.js has computed the default values for every necessary attribute.\n",
    "\n",
    "> Heads-up: the full figure is quite long and intimidating, and this page is meant to help demystify things so **please read on**!\n",
    "\n",
    "Please also note that the `.full_figure_for_development()` function is really meant for interactive learning and debugging, rather than production use, hence its name and the warning it produces by default, which you can see below, and which can be suppressed with `warn=False`."
   ]
  },
  {
   "cell_type": "code",
   "execution_count": null,
   "id": "412bda5c",
   "metadata": {},
   "outputs": [],
   "source": [
    "full_fig = fig.full_figure_for_development()\n",
    "print(full_fig)"
   ]
  },
  {
   "cell_type": "markdown",
   "id": "90c983fb",
   "metadata": {},
   "source": [
    "As you can see, Plotly.js does a lot of work filling things in for us! Let's look at the examples described at the top of the page of static and dynamic defaults. If we look just at `layout.font` and `layout.xaxis.range` we can see that the static default font size is 12 and that the dynamic default range is computed to be a bit beyond the data range which was 10-20:"
   ]
  },
  {
   "cell_type": "code",
   "execution_count": null,
   "id": "748acd70",
   "metadata": {},
   "outputs": [],
   "source": [
    "print(\"full_fig.layout.font.size: \", full_fig.layout.font.size)\n",
    "print(\"full_fig.layout.xaxis.range: \", full_fig.layout.xaxis.range)"
   ]
  },
  {
   "cell_type": "markdown",
   "id": "35a6350a",
   "metadata": {},
   "source": [
    "### Learning About Attributes"
   ]
  },
  {
   "cell_type": "markdown",
   "id": "686239a6",
   "metadata": {},
   "source": [
    "What else can we use this `full_fig` for? Let's start by looking at the first entry of the `data`"
   ]
  },
  {
   "cell_type": "code",
   "execution_count": null,
   "id": "eda94b73",
   "metadata": {},
   "outputs": [],
   "source": [
    "print(full_fig.data[0])"
   ]
  },
  {
   "cell_type": "markdown",
   "id": "dd06bf39",
   "metadata": {},
   "source": [
    "We see that this is an instance of `go.Scatter` (as expected, given the input) and that it has an attribute we've maybe never heard of called `cliponaxis` which by default seems to be set to `True` in this case. Let's find out more about this attribute using the built-in Python `help()` function"
   ]
  },
  {
   "cell_type": "code",
   "execution_count": null,
   "id": "cd9a554f",
   "metadata": {},
   "outputs": [],
   "source": [
    "help(go.Scatter.cliponaxis)"
   ]
  },
  {
   "cell_type": "markdown",
   "id": "d9d5a3a2",
   "metadata": {},
   "source": [
    "Aha!  This explains why in our original figure above, the text was cut off by the edge of the plotting area! Let's try forcing that to `False`, and let's also use the attribute `textposition` which we see in the full figure is by default set to `\"middle center\"` to get our text off of our markers:"
   ]
  },
  {
   "cell_type": "code",
   "execution_count": null,
   "id": "607fbc46",
   "metadata": {},
   "outputs": [],
   "source": [
    "fig.update_traces(cliponaxis=False, textposition=\"top right\")\n",
    "fig.show()"
   ]
  },
  {
   "cell_type": "markdown",
   "id": "24de1cb8",
   "metadata": {},
   "source": [
    "We can use this technique (of making a figure, and querying Plotly.js for the \"full\" version of that figure, and then exploring the attributes that are automatically set for us) to learn more about the range of possibilities that the figure schema makes available. We can drill down into `layout` attributes also:"
   ]
  },
  {
   "cell_type": "code",
   "execution_count": null,
   "id": "a9415c9a",
   "metadata": {},
   "outputs": [],
   "source": [
    "help(go.layout.XAxis.autorange)"
   ]
  },
  {
   "cell_type": "markdown",
   "id": "c3773b7c",
   "metadata": {},
   "source": [
    "### More about Layout\n",
    "\n",
    "In the figure we introspected above, we had added [a `scatter` trace](/python/line-and-scatter/), and Plotly.js automatically filled in for us the `xaxis` and `yaxis` values of that trace object to be `x` and `y`, and then also filled out the corresponding `layout.xaxis` and `layout.yaxis` objects for us, complete with their [extensive set of defaults for gridlines, tick labels and so on](/python/axes/).\n",
    "\n",
    "If we create a figure with [a `scattergeo` trace](/python/scatter-plots-on-maps/) instead, however, Plotly.js will fill in a totally different set of objects in `layout`, corresponding to [a `geo` subplot, with all of its defaults for whether or not to show rivers, lakes, country borders, coastlines etc](https://plotly.com/python/map-configuration/)."
   ]
  },
  {
   "cell_type": "code",
   "execution_count": null,
   "id": "89a98834",
   "metadata": {},
   "outputs": [],
   "source": [
    "import plotly.graph_objects as go\n",
    "\n",
    "fig = go.Figure(\n",
    "    data=[go.Scattergeo(\n",
    "        mode=\"markers+text\",\n",
    "        lat=[10, 20],\n",
    "        lon=[20, 10],\n",
    "        text=[\"Point A\", \"Point B\"]\n",
    "    )],\n",
    "    layout=dict(height=400, width=400,\n",
    "                margin=dict(l=0,r=0,b=0,t=0),\n",
    "                template=\"none\")\n",
    ")\n",
    "fig.show()\n",
    "full_fig = fig.full_figure_for_development()\n",
    "print(full_fig)"
   ]
  },
  {
   "cell_type": "markdown",
   "id": "889dabec",
   "metadata": {},
   "source": [
    "If I then set `showrivers=True` and re-query the full figure, I see that new keys have appeared in the `layout.geo` object for `rivercolor` and `riverwidth`, showing the dynamic nature of these defaults."
   ]
  },
  {
   "cell_type": "code",
   "execution_count": null,
   "id": "ffb1c7b6",
   "metadata": {},
   "outputs": [],
   "source": [
    "fig.update_geos(showrivers=True)\n",
    "full_fig = fig.full_figure_for_development()\n",
    "print(full_fig.layout.geo)"
   ]
  },
  {
   "cell_type": "markdown",
   "id": "ca3f07e5",
   "metadata": {},
   "source": [
    "### Reference\n",
    "\n",
    "You can learn more about [all the available attributes in the plotly figure schema](/python/reference/) (and read about its [high-level structure](/python/figure-structure/)) or about [all the classes and functions in the `plotly` module](/python-api-reference/)."
   ]
  },
  {
   "cell_type": "code",
   "execution_count": null,
   "id": "52a2e5e4",
   "metadata": {
    "lines_to_next_cell": 2
   },
   "outputs": [],
   "source": []
  },
  {
   "cell_type": "markdown",
   "id": "52094571",
   "metadata": {},
   "source": [
    "### What About Dash?\n",
    "\n",
    "[Dash](https://dash.plot.ly/) is an open-source framework for building analytical applications, with no Javascript required, and it is tightly integrated with the Plotly graphing library.\n",
    "\n",
    "Learn about how to install Dash at https://dash.plot.ly/installation.\n",
    "\n",
    "Everywhere in this page that you see `fig.show()`, you can display the same figure in a Dash application by passing it to the `figure` argument of the [`Graph` component](https://dash.plot.ly/dash-core-components/graph) from the built-in `dash_core_components` package like this:\n",
    "\n",
    "```python\n",
    "import plotly.graph_objects as go # or plotly.express as px\n",
    "fig = go.Figure() # or any Plotly Express function e.g. px.bar(...)\n",
    "# fig.add_trace( ... )\n",
    "# fig.update_layout( ... )\n",
    "\n",
    "from dash import Dash, dcc, html\n",
    "\n",
    "app = Dash()\n",
    "app.layout = html.Div([\n",
    "    dcc.Graph(figure=fig)\n",
    "])\n",
    "\n",
    "app.run_server(debug=True, use_reloader=False)  # Turn off reloader if inside Jupyter\n",
    "```"
   ]
  }
 ],
 "metadata": {
  "jupytext": {
   "notebook_metadata_filter": "all"
  },
  "kernelspec": {
   "display_name": "Python 3",
   "language": "python",
   "name": "python3"
  },
  "language_info": {
   "codemirror_mode": {
    "name": "ipython",
    "version": 3
   },
   "file_extension": ".py",
   "mimetype": "text/x-python",
   "name": "python",
   "nbconvert_exporter": "python",
   "pygments_lexer": "ipython3",
   "version": "3.7.7"
  },
  "plotly": {
   "description": "How to dig into and learn more about the figure data structure.",
   "display_as": "file_settings",
   "language": "python",
   "layout": "base",
   "name": "Introspecting Figures",
   "order": 36,
   "page_type": "u-guide",
   "permalink": "python/figure-introspection/",
   "thumbnail": "thumbnail/violin.jpg"
  }
 },
 "nbformat": 4,
 "nbformat_minor": 5
}
