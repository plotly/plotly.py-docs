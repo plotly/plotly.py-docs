{
 "cells": [
  {
   "cell_type": "markdown",
   "id": "6515bb88",
   "metadata": {},
   "source": [
    "### Automatic Labelling with Plotly Express\n",
    "\n",
    "[Plotly Express](/python/plotly-express/) is the easy-to-use, high-level interface to Plotly, which [operates on a variety of types of data](/python/px-arguments/) and produces [easy-to-style figures](/python/styling-plotly-express/).\n",
    "\n",
    "When using Plotly Express, your axes and legend are automatically labelled, and it's easy to override the automation for a customized figure using the `labels` keyword argument. The title of your figure is up to you though!\n",
    "\n",
    "Here's a figure with automatic labels and then the same figure with overridden labels. Note the fact that when overriding labels, the axes, legend title *and hover labels* reflect the specified labels automatically."
   ]
  },
  {
   "cell_type": "code",
   "execution_count": null,
   "id": "2c5f716e",
   "metadata": {},
   "outputs": [],
   "source": [
    "import plotly.express as px\n",
    "\n",
    "df = px.data.iris()\n",
    "fig = px.scatter(df, x=\"sepal_length\", y=\"sepal_width\", color=\"species\",\n",
    "                title=\"Automatic Labels Based on Data Frame Column Names\")\n",
    "fig.show()"
   ]
  },
  {
   "cell_type": "code",
   "execution_count": null,
   "id": "596c14f8",
   "metadata": {},
   "outputs": [],
   "source": [
    "import plotly.express as px\n",
    "\n",
    "df = px.data.iris()\n",
    "fig = px.scatter(df, x=\"sepal_length\", y=\"sepal_width\", color=\"species\",\n",
    "                 labels={\n",
    "                     \"sepal_length\": \"Sepal Length (cm)\",\n",
    "                     \"sepal_width\": \"Sepal Width (cm)\",\n",
    "                     \"species\": \"Species of Iris\"\n",
    "                 },\n",
    "                title=\"Manually Specified Labels\")\n",
    "fig.show()"
   ]
  },
  {
   "cell_type": "markdown",
   "id": "b84cfb7c",
   "metadata": {},
   "source": [
    "### Global and Local Font Specification\n",
    "\n",
    "You can set the figure-wide font with the `layout.font` attribute, which will apply to all titles and tick labels, but this can be overridden for specific plot items like individual axes and legend titles etc. In the following figure, we set the figure-wide font to Courier New in blue, and then override this for certain parts of the figure."
   ]
  },
  {
   "cell_type": "code",
   "execution_count": null,
   "id": "a35ab78b",
   "metadata": {},
   "outputs": [],
   "source": [
    "import plotly.express as px\n",
    "\n",
    "df = px.data.iris()\n",
    "fig = px.scatter(df, x=\"sepal_length\", y=\"sepal_width\", color=\"species\",\n",
    "                title=\"Playing with Fonts\")\n",
    "fig.update_layout(\n",
    "    font_family=\"Courier New\",\n",
    "    font_color=\"blue\",\n",
    "    title_font_family=\"Times New Roman\",\n",
    "    title_font_color=\"red\",\n",
    "    legend_title_font_color=\"green\"\n",
    ")\n",
    "fig.update_xaxes(title_font_family=\"Arial\")\n",
    "fig.show()"
   ]
  },
  {
   "cell_type": "markdown",
   "id": "93a31105",
   "metadata": {},
   "source": [
    "### Set Automargin on the Plot Title\n",
    "\n",
    "*New in 5.14*\n",
    "\n",
    "Set `automargin=True` to allow the title to push the figure margins. With `yref` set to `paper`, `automargin=True`  expands the margins to make the title visible, but doesn't push outside the container. With `yref` set to `container`, `automargin=True` expands the margins, but the title doesn't overlap with the plot area, tick labels, and axis titles.\n"
   ]
  },
  {
   "cell_type": "code",
   "execution_count": null,
   "id": "44fb601c",
   "metadata": {},
   "outputs": [],
   "source": [
    "import plotly.express as px\n",
    "\n",
    "df = px.data.gapminder().query(\"continent == 'Oceania'\")\n",
    "fig = px.line(df, x=\"year\", y=\"gdpPercap\", color=\"country\")\n",
    "\n",
    "fig.update_layout(\n",
    "    title=dict(text=\"GDP-per-capita\", font=dict(size=50), automargin=True, yref='paper')\n",
    ")\n",
    "\n",
    "fig.show()"
   ]
  },
  {
   "cell_type": "markdown",
   "id": "bac84e0d",
   "metadata": {},
   "source": [
    "### Fonts and Labels in Dash\n",
    "\n",
    "[Dash](https://plotly.com/dash/) is the best way to build analytical apps in Python using Plotly figures. To run the app below, run `pip install dash dash-daq`, click \"Download\" to get the code and run `python app.py`.\n",
    "\n",
    "Get started  with [the official Dash docs](https://dash.plotly.com/installation) and **learn how to effortlessly [style](https://plotly.com/dash/design-kit/) & [deploy](https://plotly.com/dash/app-manager/) apps like this with <a class=\"plotly-red\" href=\"https://plotly.com/dash/\">Dash Enterprise</a>.**"
   ]
  },
  {
   "cell_type": "code",
   "execution_count": null,
   "id": "ddb8aa78",
   "metadata": {
    "hide_code": true
   },
   "outputs": [],
   "source": [
    "from IPython.display import IFrame\n",
    "snippet_url = 'https://python-docs-dash-snippets.herokuapp.com/python-docs-dash-snippets/'\n",
    "IFrame(snippet_url + 'figure-labels', width='100%', height=1200)"
   ]
  },
  {
   "cell_type": "markdown",
   "id": "f2b81599",
   "metadata": {},
   "source": [
    "<div style=\"font-size: 0.9em;\"><div style=\"width: calc(100% - 30px); box-shadow: none; border: thin solid rgb(229, 229, 229);\"><div style=\"padding: 5px;\"><div><p><strong>Sign up for Dash Club</strong> → Free cheat sheets plus updates from Chris Parmer and Adam Schroeder delivered to your inbox every two months. Includes tips and tricks, community apps, and deep dives into the Dash architecture.\n",
    "<u><a href=\"https://go.plotly.com/dash-club?utm_source=Dash+Club+2022&utm_medium=graphing_libraries&utm_content=inline\">Join now</a></u>.</p></div></div></div></div>"
   ]
  },
  {
   "cell_type": "markdown",
   "id": "2b9699e6",
   "metadata": {},
   "source": [
    "### Manual Labelling with Graph Objects\n",
    "\n",
    "When using [graph objects](/python/graph-objects/) rather than [Plotly Express](/python/plotly-express/), you will need to explicitly label traces and axes:"
   ]
  },
  {
   "cell_type": "code",
   "execution_count": null,
   "id": "808d023c",
   "metadata": {},
   "outputs": [],
   "source": [
    "import plotly.graph_objects as go\n",
    "\n",
    "fig = go.Figure()\n",
    "\n",
    "fig.add_trace(go.Scatter(\n",
    "    x=[0, 1, 2, 3, 4, 5, 6, 7, 8],\n",
    "    y=[0, 1, 2, 3, 4, 5, 6, 7, 8],\n",
    "    name=\"Name of Trace 1\"       # this sets its legend entry\n",
    "))\n",
    "\n",
    "\n",
    "fig.add_trace(go.Scatter(\n",
    "    x=[0, 1, 2, 3, 4, 5, 6, 7, 8],\n",
    "    y=[1, 0, 3, 2, 5, 4, 7, 6, 8],\n",
    "    name=\"Name of Trace 2\"\n",
    "))\n",
    "\n",
    "fig.update_layout(\n",
    "    title=dict(\n",
    "        text=\"Plot Title\"\n",
    "    ),\n",
    "    xaxis=dict(\n",
    "        title=dict(\n",
    "            text=\"X Axis Title\"\n",
    "        )\n",
    "    ),\n",
    "    yaxis=dict(\n",
    "        title=dict(\n",
    "            text=\"Y Axis Title\"\n",
    "        )\n",
    "    ),\n",
    "    legend=dict(\n",
    "        title=dict(\n",
    "            text=\"Legend Title\"\n",
    "        )\n",
    "    ),\n",
    "    font=dict(\n",
    "        family=\"Courier New, monospace\",\n",
    "        size=18,\n",
    "        color=\"RebeccaPurple\"\n",
    "    )\n",
    ")\n",
    "\n",
    "fig.show()"
   ]
  },
  {
   "cell_type": "markdown",
   "id": "ba4be842",
   "metadata": {},
   "source": [
    "### Configuring Font Variant, Style, and  Weight\n",
    "\n",
    "*New in 5.22*\n",
    "\n",
    "You can configure a `variant`, `style`, and `weight` on `layout.font`. Here, we set the font variant to `small-caps`."
   ]
  },
  {
   "cell_type": "code",
   "execution_count": null,
   "id": "5ee6da05",
   "metadata": {},
   "outputs": [],
   "source": [
    "import plotly.graph_objects as go\n",
    "from plotly import data\n",
    "\n",
    "df = data.iris()\n",
    "\n",
    "setosa_df = df[df[\"species\"] == \"setosa\"]\n",
    "versicolor_df = df[df[\"species\"] == \"versicolor\"]\n",
    "virginica_df = df[df[\"species\"] == \"virginica\"]\n",
    "\n",
    "fig = go.Figure(\n",
    "    data=[\n",
    "        go.Scatter(\n",
    "            x=setosa_df[\"sepal_width\"],\n",
    "            y=setosa_df[\"sepal_length\"],\n",
    "            mode=\"markers\",\n",
    "            name=\"setosa\",\n",
    "        ),\n",
    "        go.Scatter(\n",
    "            x=versicolor_df[\"sepal_width\"],\n",
    "            y=versicolor_df[\"sepal_length\"],\n",
    "            mode=\"markers\",\n",
    "            name=\"versicolor\",\n",
    "        ),\n",
    "        go.Scatter(\n",
    "            x=virginica_df[\"sepal_width\"],\n",
    "            y=virginica_df[\"sepal_length\"],\n",
    "            mode=\"markers\",\n",
    "            name=\"virginica\",\n",
    "        ),\n",
    "    ],\n",
    "    layout=go.Layout(\n",
    "        title=dict(\n",
    "            text=\"Plot Title\"\n",
    "        ),\n",
    "        xaxis=dict(\n",
    "            title=dict(\n",
    "                text=\"X Axis Title\"\n",
    "            )\n",
    "        ),\n",
    "        yaxis=dict(\n",
    "            title=dict(\n",
    "                text=\"Y Axis Title\"\n",
    "            )\n",
    "        ),\n",
    "        legend=dict(\n",
    "            title=dict(\n",
    "                text=\"Legend Title\"\n",
    "            )\n",
    "        ),\n",
    "        font=dict(\n",
    "            family=\"Courier New, monospace\",\n",
    "            size=18,\n",
    "            color=\"RebeccaPurple\",\n",
    "            variant=\"small-caps\",\n",
    "        )\n",
    "    )\n",
    ")\n",
    "\n",
    "fig.show()"
   ]
  },
  {
   "cell_type": "markdown",
   "id": "4b2d5182",
   "metadata": {},
   "source": [
    "The configuration of the legend is discussed in detail in the [Legends](/python/legend/) page.\n",
    "\n",
    "### Align Plot Title\n",
    "The following example shows how to align the plot title in [layout.title](https://plotly.com/python/reference/layout/#layout-title). `x` sets the x position with respect to `xref` from \"0\" (left) to \"1\" (right), and `y` sets the y position with respect to `yref` from \"0\" (bottom) to \"1\" (top). Moreover, you can define `xanchor` to `left`,`right`, or `center` for setting the title's horizontal alignment with respect to its x position, and/or `yanchor` to `top`, `bottom`, or `middle` for setting the title's vertical alignment with respect to its y position."
   ]
  },
  {
   "cell_type": "code",
   "execution_count": null,
   "id": "044073f1",
   "metadata": {},
   "outputs": [],
   "source": [
    "import plotly.graph_objects as go\n",
    "\n",
    "fig = go.Figure(go.Scatter(\n",
    "    y=[3, 1, 4],\n",
    "    x=[\"Mon\", \"Tue\", \"Wed\"]))\n",
    "\n",
    "fig.update_layout(\n",
    "    title={\n",
    "        'text': \"Plot Title\",\n",
    "        'y':0.9,\n",
    "        'x':0.5,\n",
    "        'xanchor': 'center',\n",
    "        'yanchor': 'top'})\n",
    "\n",
    "fig.show()"
   ]
  },
  {
   "cell_type": "markdown",
   "id": "81ccfe8b",
   "metadata": {},
   "source": [
    "### Adding a Plot Subtitle\n",
    "\n",
    "*New in 5.23*\n",
    "\n",
    "Add a subtitle to a plot with `layout.title.subtitle`. In the following example, we set the subtitle's `text`, and configure the `font` `color` and `size`. By default, if you don't set a font size for the subtitle, it will be `0.7` of the `title` font size."
   ]
  },
  {
   "cell_type": "code",
   "execution_count": null,
   "id": "6d65e4cb",
   "metadata": {},
   "outputs": [],
   "source": [
    "import plotly.graph_objects as go\n",
    "from plotly import data\n",
    "\n",
    "df = data.gapminder().query(\"continent == 'Europe' and (year == 1952 or year == 2002)\")\n",
    "\n",
    "df_pivot = df.pivot(index=\"country\", columns=\"year\", values=\"lifeExp\")\n",
    "\n",
    "fig = go.Figure(\n",
    "    [\n",
    "        go.Bar(\n",
    "            x=df_pivot.index, y=df_pivot[1952], name=\"1952\", marker_color=\"IndianRed\"\n",
    "        ),\n",
    "        go.Bar(\n",
    "            x=df_pivot.index, y=df_pivot[2002], name=\"2002\", marker_color=\"LightSalmon\"\n",
    "        ),\n",
    "    ],\n",
    "    layout=dict(\n",
    "        title=dict(\n",
    "            text=\"Life Expectancy\",\n",
    "            subtitle=dict(\n",
    "                text=\"Life expectancy by European country in 1952 and in 2002\",\n",
    "                font=dict(color=\"gray\", size=13),\n",
    "            ),\n",
    "        )\n",
    "    ),\n",
    ")\n",
    "\n",
    "\n",
    "fig.show()\n"
   ]
  },
  {
   "cell_type": "markdown",
   "id": "066184a8",
   "metadata": {},
   "source": [
    "#### Reference\n",
    "See https://plotly.com/python/reference/layout/ for more information!\n"
   ]
  },
  {
   "cell_type": "markdown",
   "id": "82bd7186",
   "metadata": {},
   "source": [
    "### What About Dash?\n",
    "\n",
    "[Dash](https://dash.plot.ly/) is an open-source framework for building analytical applications, with no Javascript required, and it is tightly integrated with the Plotly graphing library.\n",
    "\n",
    "Learn about how to install Dash at https://dash.plot.ly/installation.\n",
    "\n",
    "Everywhere in this page that you see `fig.show()`, you can display the same figure in a Dash application by passing it to the `figure` argument of the [`Graph` component](https://dash.plot.ly/dash-core-components/graph) from the built-in `dash_core_components` package like this:\n",
    "\n",
    "```python\n",
    "import plotly.graph_objects as go # or plotly.express as px\n",
    "fig = go.Figure() # or any Plotly Express function e.g. px.bar(...)\n",
    "# fig.add_trace( ... )\n",
    "# fig.update_layout( ... )\n",
    "\n",
    "from dash import Dash, dcc, html\n",
    "\n",
    "app = Dash()\n",
    "app.layout = html.Div([\n",
    "    dcc.Graph(figure=fig)\n",
    "])\n",
    "\n",
    "app.run_server(debug=True, use_reloader=False)  # Turn off reloader if inside Jupyter\n",
    "```"
   ]
  }
 ],
 "metadata": {
  "jupytext": {
   "notebook_metadata_filter": "all"
  },
  "kernelspec": {
   "display_name": "Python 3 (ipykernel)",
   "language": "python",
   "name": "python3"
  },
  "language_info": {
   "codemirror_mode": {
    "name": "ipython",
    "version": 3
   },
   "file_extension": ".py",
   "mimetype": "text/x-python",
   "name": "python",
   "nbconvert_exporter": "python",
   "pygments_lexer": "ipython3",
   "version": "3.10.14"
  },
  "plotly": {
   "description": "How to set the global font, title, legend-entries, and axis-titles in python.",
   "display_as": "file_settings",
   "language": "python",
   "layout": "base",
   "name": "Setting the Font, Title, Legend Entries, and Axis Titles",
   "order": 13,
   "permalink": "python/figure-labels/",
   "redirect_from": "python/font/",
   "thumbnail": "thumbnail/figure-labels.png"
  }
 },
 "nbformat": 4,
 "nbformat_minor": 5
}
