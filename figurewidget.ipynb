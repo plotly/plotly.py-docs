{
 "cells": [
  {
   "cell_type": "markdown",
   "id": "a9cdf7e6",
   "metadata": {},
   "source": [
    "#### Create a Simple FigureWidget\n",
    "Create an empty FigureWidget and then view it."
   ]
  },
  {
   "cell_type": "code",
   "execution_count": null,
   "id": "ca23fcf0",
   "metadata": {},
   "outputs": [],
   "source": [
    "import plotly.graph_objects as go\n",
    "\n",
    "f = go.FigureWidget()\n",
    "f"
   ]
  },
  {
   "cell_type": "markdown",
   "id": "6670b144",
   "metadata": {},
   "source": [
    "<img src='https://raw.githubusercontent.com/michaelbabyn/plot_data/master/empty_fw.png'>"
   ]
  },
  {
   "cell_type": "markdown",
   "id": "a07d2776",
   "metadata": {},
   "source": [
    "Add traces or update the layout and then watch the output above update in real time."
   ]
  },
  {
   "cell_type": "code",
   "execution_count": null,
   "id": "f3aa2d4b",
   "metadata": {},
   "outputs": [],
   "source": [
    "f.add_scatter(y=[2, 1, 4, 3]);"
   ]
  },
  {
   "cell_type": "code",
   "execution_count": null,
   "id": "dfce06c2",
   "metadata": {},
   "outputs": [],
   "source": [
    "f.add_bar(y=[1, 4, 3, 2]);"
   ]
  },
  {
   "cell_type": "code",
   "execution_count": null,
   "id": "a900cb45",
   "metadata": {},
   "outputs": [],
   "source": [
    "f.layout.title = 'Hello FigureWidget'"
   ]
  },
  {
   "cell_type": "markdown",
   "id": "09975ccd",
   "metadata": {},
   "source": [
    "<img src='https://raw.githubusercontent.com/michaelbabyn/plot_data/master/figurewidget-create.gif'>"
   ]
  },
  {
   "cell_type": "markdown",
   "id": "1812afb3",
   "metadata": {},
   "source": [
    "#### Update the Data and the Layout"
   ]
  },
  {
   "cell_type": "code",
   "execution_count": null,
   "id": "cc82e0e0",
   "metadata": {},
   "outputs": [],
   "source": [
    "# update scatter data\n",
    "scatter = f.data[0]\n",
    "scatter.y = [3, 1, 4, 3]"
   ]
  },
  {
   "cell_type": "code",
   "execution_count": null,
   "id": "3e783365",
   "metadata": {},
   "outputs": [],
   "source": [
    "# update bar data\n",
    "bar = f.data[1]\n",
    "bar.y = [5, 3, 2, 8]"
   ]
  },
  {
   "cell_type": "code",
   "execution_count": null,
   "id": "569aa2fa",
   "metadata": {},
   "outputs": [],
   "source": [
    "f.layout.title.text = 'This is a new title'"
   ]
  },
  {
   "cell_type": "markdown",
   "id": "ba229576",
   "metadata": {},
   "source": [
    "#### Construct a FigureWidget from a Figure graph object"
   ]
  },
  {
   "cell_type": "markdown",
   "id": "896c50b7",
   "metadata": {},
   "source": [
    "A standard `Figure` object can be passed to the `FigureWidget` constructor."
   ]
  },
  {
   "cell_type": "code",
   "execution_count": null,
   "id": "342534a6",
   "metadata": {},
   "outputs": [],
   "source": [
    "import plotly.graph_objects as go\n",
    "\n",
    "trace = go.Heatmap(z=[[1, 20, 30, 50, 1], [20, 1, 60, 80, 30], [30, 60, 1, -10, 20]],\n",
    "                   x=['Monday', 'Tuesday', 'Wednesday', 'Thursday', 'Friday'],\n",
    "                   y=['Morning', 'Afternoon', 'Evening'])\n",
    "data=[trace]\n",
    "layout = go.Layout(title=dict(text='Activity Heatmap'))\n",
    "\n",
    "figure = go.Figure(data=data, layout=layout)\n",
    "\n",
    "f2 = go.FigureWidget(figure)\n",
    "f2"
   ]
  },
  {
   "cell_type": "markdown",
   "id": "4f3916e0",
   "metadata": {},
   "source": [
    "#### Reference"
   ]
  },
  {
   "cell_type": "markdown",
   "id": "a2e48e6a",
   "metadata": {},
   "source": [
    "See [these Jupyter notebooks](https://github.com/jonmmease/plotly_ipywidget_notebooks) for even more FigureWidget examples."
   ]
  },
  {
   "cell_type": "code",
   "execution_count": null,
   "id": "90d36d18",
   "metadata": {
    "lines_to_next_cell": 2
   },
   "outputs": [],
   "source": [
    "help(go.FigureWidget)"
   ]
  },
  {
   "cell_type": "markdown",
   "id": "43330d62",
   "metadata": {},
   "source": [
    "### What About Dash?\n",
    "\n",
    "[Dash](https://dash.plot.ly/) is an open-source framework for building analytical applications, with no Javascript required, and it is tightly integrated with the Plotly graphing library.\n",
    "\n",
    "Learn about how to install Dash at https://dash.plot.ly/installation.\n",
    "\n",
    "Everywhere in this page that you see `fig.show()`, you can display the same figure in a Dash application by passing it to the `figure` argument of the [`Graph` component](https://dash.plot.ly/dash-core-components/graph) from the built-in `dash_core_components` package like this:\n",
    "\n",
    "```python\n",
    "import plotly.graph_objects as go # or plotly.express as px\n",
    "fig = go.Figure() # or any Plotly Express function e.g. px.bar(...)\n",
    "# fig.add_trace( ... )\n",
    "# fig.update_layout( ... )\n",
    "\n",
    "from dash import Dash, dcc, html\n",
    "\n",
    "app = Dash()\n",
    "app.layout = html.Div([\n",
    "    dcc.Graph(figure=fig)\n",
    "])\n",
    "\n",
    "app.run_server(debug=True, use_reloader=False)  # Turn off reloader if inside Jupyter\n",
    "```"
   ]
  }
 ],
 "metadata": {
  "jupytext": {
   "notebook_metadata_filter": "all"
  },
  "kernelspec": {
   "display_name": "Python 3",
   "language": "python",
   "name": "python3"
  },
  "language_info": {
   "codemirror_mode": {
    "name": "ipython",
    "version": 3
   },
   "file_extension": ".py",
   "mimetype": "text/x-python",
   "name": "python",
   "nbconvert_exporter": "python",
   "pygments_lexer": "ipython3",
   "version": "3.6.5"
  },
  "plotly": {
   "description": "Introduction to the new Plotly FigureWidget",
   "display_as": "chart_events",
   "language": "python",
   "layout": "base",
   "name": "Plotly FigureWidget Overview",
   "order": 1,
   "page_type": "example_index",
   "permalink": "python/figurewidget/",
   "redirect_from": "/python/ipython-widgets/",
   "thumbnail": "thumbnail/figurewidget-overview.gif"
  }
 },
 "nbformat": 4,
 "nbformat_minor": 5
}
