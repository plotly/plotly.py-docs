{
 "cells": [
  {
   "cell_type": "markdown",
   "id": "96ebb3d2",
   "metadata": {},
   "source": [
    "This example shows how to fill the area enclosed by traces.\n",
    "\n",
    "## Filled area plot with plotly.express\n",
    "\n",
    "[Plotly Express](/python/plotly-express/) is the easy-to-use, high-level interface to Plotly, which [operates on a variety of types of data](/python/px-arguments/) and produces [easy-to-style figures](/python/styling-plotly-express/).\n",
    "\n",
    "`px.area` creates a stacked area plot. Each filled area corresponds to one value of the column given by the `line_group` parameter."
   ]
  },
  {
   "cell_type": "code",
   "execution_count": null,
   "id": "06d3b785",
   "metadata": {},
   "outputs": [],
   "source": [
    "import plotly.express as px\n",
    "df = px.data.gapminder()\n",
    "fig = px.area(df, x=\"year\", y=\"pop\", color=\"continent\", line_group=\"country\")\n",
    "fig.show()"
   ]
  },
  {
   "cell_type": "markdown",
   "id": "8be88f34",
   "metadata": {},
   "source": [
    "## Filled area plot in Dash\n",
    "\n",
    "[Dash](https://plotly.com/dash/) is the best way to build analytical apps in Python using Plotly figures. To run the app below, run `pip install dash`, click \"Download\" to get the code and run `python app.py`.\n",
    "\n",
    "Get started  with [the official Dash docs](https://dash.plotly.com/installation) and **learn how to effortlessly [style](https://plotly.com/dash/design-kit/) & [deploy](https://plotly.com/dash/app-manager/) apps like this with <a class=\"plotly-red\" href=\"https://plotly.com/dash/\">Dash Enterprise</a>.**\n"
   ]
  },
  {
   "cell_type": "code",
   "execution_count": null,
   "id": "6a435f3d",
   "metadata": {
    "hide_code": true
   },
   "outputs": [],
   "source": [
    "from IPython.display import IFrame\n",
    "snippet_url = 'https://python-docs-dash-snippets.herokuapp.com/python-docs-dash-snippets/'\n",
    "IFrame(snippet_url + 'filled-area-plots', width='100%', height=1200)"
   ]
  },
  {
   "cell_type": "markdown",
   "id": "cc8e3ad4",
   "metadata": {},
   "source": [
    "<div style=\"font-size: 0.9em;\"><div style=\"width: calc(100% - 30px); box-shadow: none; border: thin solid rgb(229, 229, 229);\"><div style=\"padding: 5px;\"><div><p><strong>Sign up for Dash Club</strong> → Free cheat sheets plus updates from Chris Parmer and Adam Schroeder delivered to your inbox every two months. Includes tips and tricks, community apps, and deep dives into the Dash architecture.\n",
    "<u><a href=\"https://go.plotly.com/dash-club?utm_source=Dash+Club+2022&utm_medium=graphing_libraries&utm_content=inline\">Join now</a></u>.</p></div></div></div></div>"
   ]
  },
  {
   "cell_type": "markdown",
   "id": "a4680221",
   "metadata": {},
   "source": [
    "### Pattern Fills\n",
    "\n",
    "*New in v5.7*\n",
    "\n",
    "Area charts afford the use of [patterns (also known as hatching or texture)](/python/pattern-hatching-texture/) in addition to color:"
   ]
  },
  {
   "cell_type": "code",
   "execution_count": null,
   "id": "8023f042",
   "metadata": {},
   "outputs": [],
   "source": [
    "import plotly.express as px\n",
    "df = px.data.medals_long()\n",
    "\n",
    "fig = px.area(df, x=\"medal\", y=\"count\", color=\"nation\",\n",
    "             pattern_shape=\"nation\", pattern_shape_sequence=[\".\", \"x\", \"+\"])\n",
    "fig.show()"
   ]
  },
  {
   "cell_type": "markdown",
   "id": "8838e9f6",
   "metadata": {},
   "source": [
    "### Filled area chart with plotly.graph_objects\n",
    "\n",
    "#### Basic Overlaid Area Chart"
   ]
  },
  {
   "cell_type": "code",
   "execution_count": null,
   "id": "b9a346f7",
   "metadata": {},
   "outputs": [],
   "source": [
    "import plotly.graph_objects as go\n",
    "\n",
    "fig = go.Figure()\n",
    "fig.add_trace(go.Scatter(x=[1, 2, 3, 4], y=[0, 2, 3, 5], fill='tozeroy')) # fill down to xaxis\n",
    "fig.add_trace(go.Scatter(x=[1, 2, 3, 4], y=[3, 5, 1, 7], fill='tonexty')) # fill to trace0 y\n",
    "\n",
    "fig.show()"
   ]
  },
  {
   "cell_type": "markdown",
   "id": "ed856e32",
   "metadata": {},
   "source": [
    "#### Overlaid Area Chart Without Boundary Lines"
   ]
  },
  {
   "cell_type": "code",
   "execution_count": null,
   "id": "d1993596",
   "metadata": {},
   "outputs": [],
   "source": [
    "import plotly.graph_objects as go\n",
    "\n",
    "fig = go.Figure()\n",
    "fig.add_trace(go.Scatter(x=[1, 2, 3, 4], y=[0, 2, 3, 5], fill='tozeroy',\n",
    "                    mode='none' # override default markers+lines\n",
    "                    ))\n",
    "fig.add_trace(go.Scatter(x=[1, 2, 3, 4], y=[3, 5, 1, 7], fill='tonexty',\n",
    "                    mode= 'none'))\n",
    "\n",
    "fig.show()"
   ]
  },
  {
   "cell_type": "markdown",
   "id": "c8ffdaaa",
   "metadata": {},
   "source": [
    "#### Interior Filling for Area Chart"
   ]
  },
  {
   "cell_type": "code",
   "execution_count": null,
   "id": "24b915fb",
   "metadata": {},
   "outputs": [],
   "source": [
    "import plotly.graph_objects as go\n",
    "\n",
    "fig = go.Figure()\n",
    "fig.add_trace(go.Scatter(x=[1, 2, 3, 4], y=[3, 4, 8, 3],\n",
    "    fill=None,\n",
    "    mode='lines',\n",
    "    line_color='indigo',\n",
    "    ))\n",
    "fig.add_trace(go.Scatter(\n",
    "    x=[1, 2, 3, 4],\n",
    "    y=[1, 6, 2, 6],\n",
    "    fill='tonexty', # fill area between trace0 and trace1\n",
    "    mode='lines', line_color='indigo'))\n",
    "\n",
    "fig.show()"
   ]
  },
  {
   "cell_type": "markdown",
   "id": "875d2575",
   "metadata": {},
   "source": [
    "#### Gradient Fill\n",
    "\n",
    "*New in 5.20*\n",
    "\n",
    "Scatter traces with a fill support a `fillgradient`, which is a `dict` of options that defines the gradient. Use `fillgradient.colorscale` to define the [colorscale](https://plotly.com/python/colorscales) for the gradient and choose a `type` to define the orientation of the gradient (`'horizontal'`, `'vertical'` or `'radial'`). \n",
    "\n",
    "In the following example, we've defined a `horizontal` `fillgradient` with a colorscale of three colors. "
   ]
  },
  {
   "cell_type": "code",
   "execution_count": null,
   "id": "99d6fb23",
   "metadata": {},
   "outputs": [],
   "source": [
    "import plotly.graph_objects as go\n",
    "\n",
    "fig = go.Figure(\n",
    "    [\n",
    "        go.Scatter(\n",
    "            x=[1, 2, 3, 4],\n",
    "            y=[3, 4, 8, 3],\n",
    "            fill=None,\n",
    "            mode=\"lines\",\n",
    "            line_color=\"darkblue\",\n",
    "        ),\n",
    "        go.Scatter(\n",
    "            x=[1, 2, 3, 4],\n",
    "            y=[1, 6, 2, 6],\n",
    "            fill=\"tonexty\",\n",
    "            mode=\"lines\",\n",
    "            line_color=\"darkblue\",\n",
    "            fillgradient=dict(\n",
    "                type=\"horizontal\",\n",
    "                colorscale=[(0.0, \"darkblue\"), (0.5, \"royalblue\"), (1.0, \"cyan\")],\n",
    "            ),\n",
    "        ),\n",
    "    ]\n",
    ")\n",
    "\n",
    "fig.show()\n"
   ]
  },
  {
   "cell_type": "markdown",
   "id": "0f3a0a84",
   "metadata": {},
   "source": [
    "#### Stacked Area Chart\n",
    "\n",
    "The `stackgroup` parameter is used to add the `y` values of the different traces in the same group. Traces in the same group fill up to the next trace of the group."
   ]
  },
  {
   "cell_type": "code",
   "execution_count": null,
   "id": "e08ce42e",
   "metadata": {},
   "outputs": [],
   "source": [
    "import plotly.graph_objects as go\n",
    "\n",
    "x=['Winter', 'Spring', 'Summer', 'Fall']\n",
    "\n",
    "fig = go.Figure()\n",
    "fig.add_trace(go.Scatter(\n",
    "    x=x, y=[40, 60, 40, 10],\n",
    "    hoverinfo='x+y',\n",
    "    mode='lines',\n",
    "    line=dict(width=0.5, color='rgb(131, 90, 241)'),\n",
    "    stackgroup='one' # define stack group\n",
    "))\n",
    "fig.add_trace(go.Scatter(\n",
    "    x=x, y=[20, 10, 10, 60],\n",
    "    hoverinfo='x+y',\n",
    "    mode='lines',\n",
    "    line=dict(width=0.5, color='rgb(111, 231, 219)'),\n",
    "    stackgroup='one'\n",
    "))\n",
    "fig.add_trace(go.Scatter(\n",
    "    x=x, y=[40, 30, 50, 30],\n",
    "    hoverinfo='x+y',\n",
    "    mode='lines',\n",
    "    line=dict(width=0.5, color='rgb(184, 247, 212)'),\n",
    "    stackgroup='one'\n",
    "))\n",
    "\n",
    "fig.update_layout(yaxis_range=(0, 100))\n",
    "fig.show()"
   ]
  },
  {
   "cell_type": "markdown",
   "id": "e887cc37",
   "metadata": {},
   "source": [
    "### Stacked Area Chart with Normalized Values"
   ]
  },
  {
   "cell_type": "code",
   "execution_count": null,
   "id": "000601ff",
   "metadata": {},
   "outputs": [],
   "source": [
    "import plotly.graph_objects as go\n",
    "\n",
    "x=['Winter', 'Spring', 'Summer', 'Fall']\n",
    "fig = go.Figure()\n",
    "\n",
    "fig.add_trace(go.Scatter(\n",
    "    x=x, y=[40, 20, 30, 40],\n",
    "    mode='lines',\n",
    "    line=dict(width=0.5, color='rgb(184, 247, 212)'),\n",
    "    stackgroup='one',\n",
    "    groupnorm='percent' # sets the normalization for the sum of the stackgroup\n",
    "))\n",
    "fig.add_trace(go.Scatter(\n",
    "    x=x, y=[50, 70, 40, 60],\n",
    "    mode='lines',\n",
    "    line=dict(width=0.5, color='rgb(111, 231, 219)'),\n",
    "    stackgroup='one'\n",
    "))\n",
    "fig.add_trace(go.Scatter(\n",
    "    x=x, y=[70, 80, 60, 70],\n",
    "    mode='lines',\n",
    "    line=dict(width=0.5, color='rgb(127, 166, 238)'),\n",
    "    stackgroup='one'\n",
    "))\n",
    "fig.add_trace(go.Scatter(\n",
    "    x=x, y=[100, 100, 100, 100],\n",
    "    mode='lines',\n",
    "    line=dict(width=0.5, color='rgb(131, 90, 241)'),\n",
    "    stackgroup='one'\n",
    "))\n",
    "\n",
    "fig.update_layout(\n",
    "    showlegend=True,\n",
    "    xaxis_type='category',\n",
    "    yaxis=dict(\n",
    "        type='linear',\n",
    "        range=[1, 100],\n",
    "        ticksuffix='%'))\n",
    "\n",
    "fig.show()"
   ]
  },
  {
   "cell_type": "markdown",
   "id": "778c3f8b",
   "metadata": {},
   "source": [
    "#### Select Hover Points"
   ]
  },
  {
   "cell_type": "code",
   "execution_count": null,
   "id": "78129e52",
   "metadata": {},
   "outputs": [],
   "source": [
    "import plotly.graph_objects as go\n",
    "\n",
    "fig = go.Figure()\n",
    "fig.add_trace(go.Scatter(x=[0,0.5,1,1.5,2], y=[0,1,2,1,0],\n",
    "                    fill='toself', fillcolor='darkviolet',\n",
    "                    hoveron = 'points+fills', # select where hover is active\n",
    "                    line_color='darkviolet',\n",
    "                    text=\"Points + Fills\",\n",
    "                    hoverinfo = 'text+x+y'))\n",
    "\n",
    "fig.add_trace(go.Scatter(x=[3,3.5,4,4.5,5], y=[0,1,2,1,0],\n",
    "                    fill='toself', fillcolor = 'violet',\n",
    "                    hoveron='points',\n",
    "                    line_color='violet',\n",
    "                    text=\"Points only\",\n",
    "                    hoverinfo='text+x+y'))\n",
    "\n",
    "fig.update_layout(\n",
    "    title = \"hover on <i>points</i> or <i>fill</i>\",\n",
    "    xaxis_range = [0,5.2],\n",
    "    yaxis_range = [0,3]\n",
    ")\n",
    "\n",
    "fig.show()"
   ]
  },
  {
   "cell_type": "markdown",
   "id": "ea0f4b00",
   "metadata": {},
   "source": [
    "#### Reference\n",
    "\n",
    "See https://plotly.com/python/reference/scatter/#scatter-line\n",
    "and https://plotly.com/python/reference/scatter/#scatter-fill\n",
    "for more information and attribute options!\n"
   ]
  },
  {
   "cell_type": "markdown",
   "id": "7f980bb9",
   "metadata": {},
   "source": [
    "### What About Dash?\n",
    "\n",
    "[Dash](https://dash.plot.ly/) is an open-source framework for building analytical applications, with no Javascript required, and it is tightly integrated with the Plotly graphing library.\n",
    "\n",
    "Learn about how to install Dash at https://dash.plot.ly/installation.\n",
    "\n",
    "Everywhere in this page that you see `fig.show()`, you can display the same figure in a Dash application by passing it to the `figure` argument of the [`Graph` component](https://dash.plot.ly/dash-core-components/graph) from the built-in `dash_core_components` package like this:\n",
    "\n",
    "```python\n",
    "import plotly.graph_objects as go # or plotly.express as px\n",
    "fig = go.Figure() # or any Plotly Express function e.g. px.bar(...)\n",
    "# fig.add_trace( ... )\n",
    "# fig.update_layout( ... )\n",
    "\n",
    "from dash import Dash, dcc, html\n",
    "\n",
    "app = Dash()\n",
    "app.layout = html.Div([\n",
    "    dcc.Graph(figure=fig)\n",
    "])\n",
    "\n",
    "app.run_server(debug=True, use_reloader=False)  # Turn off reloader if inside Jupyter\n",
    "```"
   ]
  }
 ],
 "metadata": {
  "jupytext": {
   "notebook_metadata_filter": "all"
  },
  "kernelspec": {
   "display_name": "Python 3 (ipykernel)",
   "language": "python",
   "name": "python3"
  },
  "language_info": {
   "codemirror_mode": {
    "name": "ipython",
    "version": 3
   },
   "file_extension": ".py",
   "mimetype": "text/x-python",
   "name": "python",
   "nbconvert_exporter": "python",
   "pygments_lexer": "ipython3",
   "version": "3.10.11"
  },
  "plotly": {
   "description": "How to make filled area plots in Python with Plotly.",
   "display_as": "basic",
   "language": "python",
   "layout": "base",
   "name": "Filled Area Plots",
   "order": 7,
   "page_type": "u-guide",
   "permalink": "python/filled-area-plots/",
   "thumbnail": "thumbnail/area.jpg"
  }
 },
 "nbformat": 4,
 "nbformat_minor": 5
}
