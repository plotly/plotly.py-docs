{
 "cells": [
  {
   "cell_type": "markdown",
   "id": "08d4a9a7",
   "metadata": {},
   "source": [
    "There are three different ways to show a filled area on a tile-based map:\n",
    "\n",
    "- Using a [Scattermap](https://plotly.com/python/reference/scattermap/) trace and setting the `fill` attribute to 'toself'\n",
    "- Using a map layout (i.e. by minimally using an empty [Scattermap](https://plotly.com/python/reference/scattermap/) trace) and adding a GeoJSON layer\n",
    "- Using the [Choroplethmap](https://plotly.com/python/tile-county-choropleth/) trace type\n",
    "\n",
    "## Filled `Scattermap` Trace\n",
    "\n",
    "The following example uses `Scattermap` and sets `fill = 'toself'`"
   ]
  },
  {
   "cell_type": "code",
   "execution_count": null,
   "id": "88cf6a07",
   "metadata": {},
   "outputs": [],
   "source": [
    "import plotly.graph_objects as go\n",
    "\n",
    "fig = go.Figure(go.Scattermap(\n",
    "    fill = \"toself\",\n",
    "    lon = [-74, -70, -70, -74], lat = [47, 47, 45, 45],\n",
    "    marker = { 'size': 10, 'color': \"orange\" }))\n",
    "\n",
    "fig.update_layout(\n",
    "    map = {\n",
    "        'style': \"open-street-map\",\n",
    "        'center': {'lon': -73, 'lat': 46 },\n",
    "        'zoom': 5},\n",
    "    showlegend = False)\n",
    "\n",
    "fig.show()\n"
   ]
  },
  {
   "cell_type": "markdown",
   "id": "a18c637d",
   "metadata": {},
   "source": [
    "### Multiple Filled Areas with a `Scattermap` trace\n",
    "\n",
    "The following example shows how to use `None` in your data to draw multiple filled areas. Such gaps in trace data are unconnected by default, but this can be controlled via the [connectgaps](https://plotly.com/python/reference/scattermap/#scattermap-connectgaps) attribute."
   ]
  },
  {
   "cell_type": "code",
   "execution_count": null,
   "id": "126aa52e",
   "metadata": {},
   "outputs": [],
   "source": [
    "import plotly.graph_objects as go\n",
    "\n",
    "fig = go.Figure(go.Scattermap(\n",
    "    mode = \"lines\", fill = \"toself\",\n",
    "    lon = [-10, -10, 8, 8, -10, None, 30, 30, 50, 50, 30, None, 100, 100, 80, 80, 100],\n",
    "    lat = [30, 6, 6, 30, 30,    None, 20, 30, 30, 20, 20, None, 40, 50, 50, 40, 40]))\n",
    "\n",
    "fig.update_layout(\n",
    "    map = {'style': \"open-street-map\", 'center': {'lon': 30, 'lat': 30}, 'zoom': 2},\n",
    "    showlegend = False,\n",
    "    margin = {'l':0, 'r':0, 'b':0, 't':0})\n",
    "\n",
    "fig.show()"
   ]
  },
  {
   "cell_type": "markdown",
   "id": "b57626a6",
   "metadata": {},
   "source": [
    "### GeoJSON Layers\n",
    "\n",
    "In this map we add a GeoJSON layer."
   ]
  },
  {
   "cell_type": "code",
   "execution_count": null,
   "id": "b395ea79",
   "metadata": {},
   "outputs": [],
   "source": [
    "import plotly.graph_objects as go\n",
    "\n",
    "fig = go.Figure(go.Scattermap(\n",
    "    mode = \"markers\",\n",
    "    lon = [-73.605], lat = [45.51],\n",
    "    marker = {'size': 20, 'color': [\"cyan\"]}))\n",
    "\n",
    "fig.update_layout(\n",
    "    map = {\n",
    "        'style': \"open-street-map\",\n",
    "        'center': { 'lon': -73.6, 'lat': 45.5},\n",
    "        'zoom': 12, 'layers': [{\n",
    "            'source': {\n",
    "                'type': \"FeatureCollection\",\n",
    "                'features': [{\n",
    "                    'type': \"Feature\",\n",
    "                    'geometry': {\n",
    "                        'type': \"MultiPolygon\",\n",
    "                        'coordinates': [[[\n",
    "                            [-73.606352888, 45.507489991], [-73.606133883, 45.50687600],\n",
    "                            [-73.605905904, 45.506773980], [-73.603533905, 45.505698946],\n",
    "                            [-73.602475870, 45.506856969], [-73.600031904, 45.505696003],\n",
    "                            [-73.599379992, 45.505389066], [-73.599119902, 45.505632008],\n",
    "                            [-73.598896977, 45.505514039], [-73.598783894, 45.505617001],\n",
    "                            [-73.591308727, 45.516246185], [-73.591380782, 45.516280145],\n",
    "                            [-73.596778656, 45.518690062], [-73.602796770, 45.521348046],\n",
    "                            [-73.612239983, 45.525564037], [-73.612422919, 45.525642061],\n",
    "                            [-73.617229085, 45.527751983], [-73.617279234, 45.527774160],\n",
    "                            [-73.617304713, 45.527741334], [-73.617492052, 45.527498362],\n",
    "                            [-73.617533258, 45.527512253], [-73.618074188, 45.526759105],\n",
    "                            [-73.618271651, 45.526500673], [-73.618446320, 45.526287943],\n",
    "                            [-73.618968507, 45.525698560], [-73.619388002, 45.525216750],\n",
    "                            [-73.619532966, 45.525064183], [-73.619686662, 45.524889290],\n",
    "                            [-73.619787038, 45.524770086], [-73.619925742, 45.524584939],\n",
    "                            [-73.619954486, 45.524557690], [-73.620122362, 45.524377961],\n",
    "                            [-73.620201713, 45.524298907], [-73.620775593, 45.523650879]\n",
    "                        ]]]\n",
    "                    }\n",
    "                }]\n",
    "            },\n",
    "            'type': \"fill\", 'below': \"traces\", 'color': \"royalblue\"}]},\n",
    "    margin = {'l':0, 'r':0, 'b':0, 't':0})\n",
    "\n",
    "fig.show()"
   ]
  },
  {
   "cell_type": "markdown",
   "id": "f2e82c4f",
   "metadata": {},
   "source": [
    "### Mapbox Maps\n",
    "\n",
    "> Mapbox traces are deprecated and may be removed in a future version of Plotly.py.\n",
    "\n",
    "The earlier examples using `go.Scattermap` use [Maplibre](https://maplibre.org/maplibre-gl-js/docs/) for rendering. This trace was introduced in Plotly.py 5.24 and is now the recommended way to draw filled areas on tile-based maps. There is also a trace that uses [Mapbox](https://docs.mapbox.com), called `go.Scattermapbox`.\n",
    "\n",
    "To use the `Scattermapbox` trace type, in some cases you _may_ need a Mapbox account and a public [Mapbox Access Token](https://www.mapbox.com/studio). See our [Mapbox Map Layers](/python/mapbox-layers/) documentation for more information.\n",
    "\n",
    "Here's one of the earlier examples rewritten to use `Scattermapbox`.\n",
    "\n",
    "```python\n",
    "import plotly.graph_objects as go\n",
    "\n",
    "fig = go.Figure(go.Scattermapbox(\n",
    "    fill = \"toself\",\n",
    "    lon = [-74, -70, -70, -74], lat = [47, 47, 45, 45],\n",
    "    marker = { 'size': 10, 'color': \"orange\" }))\n",
    "\n",
    "fig.update_layout(\n",
    "    mapbox = {\n",
    "        'style': \"open-street-map\",\n",
    "        'center': {'lon': -73, 'lat': 46 },\n",
    "        'zoom': 5},\n",
    "    showlegend = False)\n",
    "\n",
    "fig.show()\n",
    "```"
   ]
  },
  {
   "cell_type": "markdown",
   "id": "93a2f22e",
   "metadata": {},
   "source": [
    "#### Reference\n",
    "\n",
    "See  https://plotly.com/python/reference/scattermap/ for available attribute options, or for `go.Scattermapbox`, see https://plotly.com/python/reference/scattermapbox/.\n"
   ]
  },
  {
   "cell_type": "markdown",
   "id": "ab228845",
   "metadata": {},
   "source": [
    "### What About Dash?\n",
    "\n",
    "[Dash](https://dash.plot.ly/) is an open-source framework for building analytical applications, with no Javascript required, and it is tightly integrated with the Plotly graphing library.\n",
    "\n",
    "Learn about how to install Dash at https://dash.plot.ly/installation.\n",
    "\n",
    "Everywhere in this page that you see `fig.show()`, you can display the same figure in a Dash application by passing it to the `figure` argument of the [`Graph` component](https://dash.plot.ly/dash-core-components/graph) from the built-in `dash_core_components` package like this:\n",
    "\n",
    "```python\n",
    "import plotly.graph_objects as go # or plotly.express as px\n",
    "fig = go.Figure() # or any Plotly Express function e.g. px.bar(...)\n",
    "# fig.add_trace( ... )\n",
    "# fig.update_layout( ... )\n",
    "\n",
    "from dash import Dash, dcc, html\n",
    "\n",
    "app = Dash()\n",
    "app.layout = html.Div([\n",
    "    dcc.Graph(figure=fig)\n",
    "])\n",
    "\n",
    "app.run_server(debug=True, use_reloader=False)  # Turn off reloader if inside Jupyter\n",
    "```"
   ]
  }
 ],
 "metadata": {
  "jupytext": {
   "notebook_metadata_filter": "all"
  },
  "kernelspec": {
   "display_name": "Python 3 (ipykernel)",
   "language": "python",
   "name": "python3"
  },
  "language_info": {
   "codemirror_mode": {
    "name": "ipython",
    "version": 3
   },
   "file_extension": ".py",
   "mimetype": "text/x-python",
   "name": "python",
   "nbconvert_exporter": "python",
   "pygments_lexer": "ipython3",
   "version": "3.10.0"
  },
  "plotly": {
   "description": "How to make an area on tile-based maps in Python with Plotly.",
   "display_as": "maps",
   "language": "python",
   "layout": "base",
   "name": "Filled Area on Tile Maps",
   "order": 4,
   "page_type": "example_index",
   "permalink": "python/filled-area-tile-maps/",
   "redirect_from": "python/filled-area-on-mapbox/",
   "thumbnail": "thumbnail/area.jpg"
  }
 },
 "nbformat": 4,
 "nbformat_minor": 5
}
