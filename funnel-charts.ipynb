{
 "cells": [
  {
   "cell_type": "markdown",
   "id": "8e754575",
   "metadata": {},
   "source": [
    "### Introduction\n",
    "\n",
    "Funnel charts are often used to represent data in different stages of a business process. It’s an important mechanism in Business Intelligence to identify potential problem areas of a process. For example, it’s used to observe the revenue or loss in a sales process for each stage, and displays values that are decreasing progressively. Each stage is illustrated as a percentage of the total of all values.\n",
    "\n",
    "### Basic Funnel Plot with plotly.express\n",
    "\n",
    "[Plotly Express](/python/plotly-express/) is the easy-to-use, high-level interface to Plotly, which [operates on a variety of types of data](/python/px-arguments/) and produces [easy-to-style figures](/python/styling-plotly-express/).\n",
    "\n",
    "With `px.funnel`, each row of the DataFrame is represented as a stage of the funnel."
   ]
  },
  {
   "cell_type": "code",
   "execution_count": null,
   "id": "92b73999",
   "metadata": {},
   "outputs": [],
   "source": [
    "import plotly.express as px\n",
    "data = dict(\n",
    "    number=[39, 27.4, 20.6, 11, 2],\n",
    "    stage=[\"Website visit\", \"Downloads\", \"Potential customers\", \"Requested price\", \"invoice sent\"])\n",
    "fig = px.funnel(data, x='number', y='stage')\n",
    "fig.show()"
   ]
  },
  {
   "cell_type": "markdown",
   "id": "a6fcdddb",
   "metadata": {},
   "source": [
    "### Stacked Funnel Plot with plotly.express"
   ]
  },
  {
   "cell_type": "code",
   "execution_count": null,
   "id": "598f5af9",
   "metadata": {},
   "outputs": [],
   "source": [
    "import plotly.express as px\n",
    "import pandas as pd\n",
    "stages = [\"Website visit\", \"Downloads\", \"Potential customers\", \"Requested price\", \"invoice sent\"]\n",
    "df_mtl = pd.DataFrame(dict(number=[39, 27.4, 20.6, 11, 3], stage=stages))\n",
    "df_mtl['office'] = 'Montreal'\n",
    "df_toronto = pd.DataFrame(dict(number=[52, 36, 18, 14, 5], stage=stages))\n",
    "df_toronto['office'] = 'Toronto'\n",
    "df = pd.concat([df_mtl, df_toronto], axis=0)\n",
    "fig = px.funnel(df, x='number', y='stage', color='office')\n",
    "fig.show()"
   ]
  },
  {
   "cell_type": "markdown",
   "id": "c2021822",
   "metadata": {},
   "source": [
    "### Basic Funnel Chart with graph_objects trace go.Funnel\n",
    "\n",
    "If Plotly Express does not provide a good starting point, it is also possible to use [the more generic `go.Funnel` class from `plotly.graph_objects`](/python/graph-objects/)."
   ]
  },
  {
   "cell_type": "code",
   "execution_count": null,
   "id": "fdb9012d",
   "metadata": {},
   "outputs": [],
   "source": [
    "from plotly import graph_objects as go\n",
    "\n",
    "fig = go.Figure(go.Funnel(\n",
    "    y = [\"Website visit\", \"Downloads\", \"Potential customers\", \"Requested price\", \"invoice sent\"],\n",
    "    x = [39, 27.4, 20.6, 11, 2]))\n",
    "\n",
    "fig.show()"
   ]
  },
  {
   "cell_type": "markdown",
   "id": "532b5e6b",
   "metadata": {},
   "source": [
    "### Setting Marker Size and Color\n",
    "\n",
    "This example uses [textposition](https://plotly.com/python/reference/scatter/#scatter-textposition) and [textinfo](https://plotly.com/python/reference/funnel/#funnel-textinfo) to determine information appears on the graph, and shows how to customize the bars."
   ]
  },
  {
   "cell_type": "code",
   "execution_count": null,
   "id": "bf33743a",
   "metadata": {},
   "outputs": [],
   "source": [
    "from plotly import graph_objects as go\n",
    "\n",
    "fig = go.Figure(go.Funnel(\n",
    "    y = [\"Website visit\", \"Downloads\", \"Potential customers\", \"Requested price\", \"Finalized\"],\n",
    "    x = [39, 27.4, 20.6, 11, 2],\n",
    "    textposition = \"inside\",\n",
    "    textinfo = \"value+percent initial\",\n",
    "    opacity = 0.65, marker = {\"color\": [\"deepskyblue\", \"lightsalmon\", \"tan\", \"teal\", \"silver\"],\n",
    "    \"line\": {\"width\": [4, 2, 2, 3, 1, 1], \"color\": [\"wheat\", \"wheat\", \"blue\", \"wheat\", \"wheat\"]}},\n",
    "    connector = {\"line\": {\"color\": \"royalblue\", \"dash\": \"dot\", \"width\": 3}})\n",
    "    )\n",
    "\n",
    "fig.show()"
   ]
  },
  {
   "cell_type": "markdown",
   "id": "469e903b",
   "metadata": {},
   "source": [
    "### Stacked Funnel Plot with go.Funnel"
   ]
  },
  {
   "cell_type": "code",
   "execution_count": null,
   "id": "1e458d72",
   "metadata": {},
   "outputs": [],
   "source": [
    "from plotly import graph_objects as go\n",
    "\n",
    "fig = go.Figure()\n",
    "\n",
    "fig.add_trace(go.Funnel(\n",
    "    name = 'Montreal',\n",
    "    y = [\"Website visit\", \"Downloads\", \"Potential customers\", \"Requested price\"],\n",
    "    x = [120, 60, 30, 20],\n",
    "    textinfo = \"value+percent initial\"))\n",
    "\n",
    "fig.add_trace(go.Funnel(\n",
    "    name = 'Toronto',\n",
    "    orientation = \"h\",\n",
    "    y = [\"Website visit\", \"Downloads\", \"Potential customers\", \"Requested price\", \"invoice sent\"],\n",
    "    x = [100, 60, 40, 30, 20],\n",
    "    textposition = \"inside\",\n",
    "    textinfo = \"value+percent previous\"))\n",
    "\n",
    "fig.add_trace(go.Funnel(\n",
    "    name = 'Vancouver',\n",
    "    orientation = \"h\",\n",
    "    y = [\"Website visit\", \"Downloads\", \"Potential customers\", \"Requested price\", \"invoice sent\", \"Finalized\"],\n",
    "    x = [90, 70, 50, 30, 10, 5],\n",
    "    textposition = \"outside\",\n",
    "    textinfo = \"value+percent total\"))\n",
    "\n",
    "fig.show()"
   ]
  },
  {
   "cell_type": "markdown",
   "id": "2d060b83",
   "metadata": {},
   "source": [
    "### Basic Area Funnel Plot with plotly.express\n",
    "\n",
    "With `px.funnel_area`, each row of the DataFrame is represented as a stage of\n",
    "the funnel."
   ]
  },
  {
   "cell_type": "code",
   "execution_count": null,
   "id": "4e3fb273",
   "metadata": {},
   "outputs": [],
   "source": [
    "import plotly.express as px\n",
    "fig = px.funnel_area(names=[\"The 1st\",\"The 2nd\", \"The 3rd\", \"The 4th\", \"The 5th\"],\n",
    "                    values=[5, 4, 3, 2, 1])\n",
    "fig.show()"
   ]
  },
  {
   "cell_type": "markdown",
   "id": "964eaacb",
   "metadata": {},
   "source": [
    "### Basic Area Funnel Plot with go.Funnelarea\n",
    "\n",
    "If Plotly Express does not provide a good starting point, it is also possible to use [the more generic `go.Funnelarea` class from `plotly.graph_objects`](/python/graph-objects/)."
   ]
  },
  {
   "cell_type": "code",
   "execution_count": null,
   "id": "9372c441",
   "metadata": {},
   "outputs": [],
   "source": [
    "from plotly import graph_objects as go\n",
    "\n",
    "fig = go.Figure(go.Funnelarea(\n",
    "    text = [\"The 1st\",\"The 2nd\", \"The 3rd\", \"The 4th\", \"The 5th\"],\n",
    "    values = [5, 4, 3, 2, 1]\n",
    "    ))\n",
    "fig.show()"
   ]
  },
  {
   "cell_type": "markdown",
   "id": "69c4b4d2",
   "metadata": {},
   "source": [
    "#### Set Marker Size and Color in Area Funnel Plots"
   ]
  },
  {
   "cell_type": "code",
   "execution_count": null,
   "id": "6115b863",
   "metadata": {},
   "outputs": [],
   "source": [
    "from plotly import graph_objects as go\n",
    "\n",
    "fig = go.Figure(go.Funnelarea(\n",
    "      values = [5, 4, 3, 2, 1], text = [\"The 1st\",\"The 2nd\", \"The 3rd\", \"The 4th\", \"The 5th\"],\n",
    "      marker = {\"colors\": [\"deepskyblue\", \"lightsalmon\", \"tan\", \"teal\", \"silver\"],\n",
    "                \"line\": {\"color\": [\"wheat\", \"wheat\", \"blue\", \"wheat\", \"wheat\"], \"width\": [0, 1, 5, 0, 4]}},\n",
    "      textfont = {\"family\": \"Old Standard TT, serif\", \"size\": 13, \"color\": \"black\"}, opacity = 0.65))\n",
    "fig.show()"
   ]
  },
  {
   "cell_type": "markdown",
   "id": "c3debc27",
   "metadata": {},
   "source": [
    "#### Multiple Area Funnels"
   ]
  },
  {
   "cell_type": "code",
   "execution_count": null,
   "id": "2027859d",
   "metadata": {},
   "outputs": [],
   "source": [
    "from plotly import graph_objects as go\n",
    "\n",
    "fig = go.Figure()\n",
    "\n",
    "fig.add_trace(go.Funnelarea(\n",
    "    scalegroup = \"first\", values = [500, 450, 340, 230, 220, 110], textinfo = \"value\",\n",
    "    title = {\"position\": \"top center\", \"text\": \"Sales for Sale Person A in U.S.\"},\n",
    "    domain = {\"x\": [0, 0.5], \"y\": [0, 0.5]}))\n",
    "\n",
    "fig.add_trace(go.Funnelarea(\n",
    "    scalegroup = \"first\", values = [600, 500, 400, 300, 200, 100], textinfo = \"value\",\n",
    "    title = {\"position\": \"top center\", \"text\": \"Sales of Sale Person B in Canada\"},\n",
    "    domain = {\"x\": [0, 0.5], \"y\": [0.55, 1]}))\n",
    "\n",
    "fig.add_trace(go.Funnelarea(\n",
    "    scalegroup = \"second\", values = [510, 480, 440, 330, 220, 100], textinfo = \"value\",\n",
    "    title = {\"position\": \"top left\", \"text\": \"Sales of Sale Person A in Canada\"},\n",
    "    domain = {\"x\": [0.55, 1], \"y\": [0, 0.5]}))\n",
    "\n",
    "fig.add_trace(go.Funnelarea(\n",
    "            scalegroup = \"second\", values = [360, 250, 240, 130, 120, 60],\n",
    "            textinfo = \"value\", title = {\"position\": \"top left\", \"text\": \"Sales of Sale Person B in U.S.\"},\n",
    "            domain = {\"x\": [0.55, 1], \"y\": [0.55, 1]}))\n",
    "\n",
    "fig.update_layout(\n",
    "            margin = {\"l\": 200, \"r\": 200}, shapes = [\n",
    "            {\"x0\": 0, \"x1\": 0.5, \"y0\": 0, \"y1\": 0.5},\n",
    "            {\"x0\": 0, \"x1\": 0.5, \"y0\": 0.55, \"y1\": 1},\n",
    "            {\"x0\": 0.55, \"x1\": 1, \"y0\": 0, \"y1\": 0.5},\n",
    "            {\"x0\": 0.55, \"x1\": 1, \"y0\": 0.55, \"y1\": 1}])\n",
    "\n",
    "fig.show()"
   ]
  },
  {
   "cell_type": "markdown",
   "id": "5be88037",
   "metadata": {},
   "source": [
    "### Pattern Fills\n",
    "\n",
    "*New in 5.15*\n",
    "\n",
    "Funnel area charts support [patterns](/python/pattern-hatching-texture/) (also known as hatching or texture) in addition to color. In this example, we add a pattern to the second stage of the funnel."
   ]
  },
  {
   "cell_type": "code",
   "execution_count": null,
   "id": "0f7956b4",
   "metadata": {},
   "outputs": [],
   "source": [
    "from plotly import graph_objects as go\n",
    "\n",
    "colors = [\"gold\", \"gold\", \"lightgreen\", \"lavender\"]\n",
    "\n",
    "fig = go.Figure(\n",
    "    go.Funnelarea(\n",
    "        labels=[\"Interview 1\", \"Interview 2\", \"Test\", \"Final Stage\"],\n",
    "        values=[100, 70, 40, 20],\n",
    "        textfont_size=20,\n",
    "        marker=dict(colors=colors, pattern=dict(shape=[\"\", \"/\", \"\", \"\"])),\n",
    "    )\n",
    ")\n",
    "fig.show()"
   ]
  },
  {
   "cell_type": "markdown",
   "id": "f6596e68",
   "metadata": {},
   "source": [
    "#### Reference\n",
    "\n",
    "See [function reference for `px.(funnel)`](https://plotly.com/python-api-reference/generated/plotly.express.funnel) or https://plotly.com/python/reference/funnel/ and https://plotly.com/python/reference/funnelarea/ for more information and chart attribute options!\n"
   ]
  },
  {
   "cell_type": "markdown",
   "id": "407d9341",
   "metadata": {},
   "source": [
    "### What About Dash?\n",
    "\n",
    "[Dash](https://dash.plot.ly/) is an open-source framework for building analytical applications, with no Javascript required, and it is tightly integrated with the Plotly graphing library.\n",
    "\n",
    "Learn about how to install Dash at https://dash.plot.ly/installation.\n",
    "\n",
    "Everywhere in this page that you see `fig.show()`, you can display the same figure in a Dash application by passing it to the `figure` argument of the [`Graph` component](https://dash.plot.ly/dash-core-components/graph) from the built-in `dash_core_components` package like this:\n",
    "\n",
    "```python\n",
    "import plotly.graph_objects as go # or plotly.express as px\n",
    "fig = go.Figure() # or any Plotly Express function e.g. px.bar(...)\n",
    "# fig.add_trace( ... )\n",
    "# fig.update_layout( ... )\n",
    "\n",
    "from dash import Dash, dcc, html\n",
    "\n",
    "app = Dash()\n",
    "app.layout = html.Div([\n",
    "    dcc.Graph(figure=fig)\n",
    "])\n",
    "\n",
    "app.run_server(debug=True, use_reloader=False)  # Turn off reloader if inside Jupyter\n",
    "```"
   ]
  }
 ],
 "metadata": {
  "jupytext": {
   "notebook_metadata_filter": "plotly"
  },
  "kernelspec": {
   "display_name": "Python 3 (ipykernel)",
   "language": "python",
   "name": "python3"
  },
  "plotly": {
   "description": "How to make funnel-chart plots in Python with Plotly.",
   "display_as": "financial",
   "language": "python",
   "layout": "base",
   "name": "Funnel Chart",
   "order": 4,
   "page_type": "example_index",
   "permalink": "python/funnel-charts/",
   "redirect_from": "python/funnel-chart/",
   "thumbnail": "thumbnail/funnel.jpg"
  }
 },
 "nbformat": 4,
 "nbformat_minor": 5
}
