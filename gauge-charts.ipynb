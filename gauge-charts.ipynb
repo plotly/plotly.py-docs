{
 "cells": [
  {
   "cell_type": "markdown",
   "id": "0a1fb297",
   "metadata": {},
   "source": [
    "#### Basic Gauge\n",
    "A radial gauge chart has a circular arc, which displays a single value to estimate progress toward a goal.\n",
    "  The bar shows the target value, and the shading represents the progress toward that goal. Gauge charts, known as\n",
    "  speedometer charts as well. This chart type is usually used to illustrate key business indicators.\n",
    "\n",
    "  The example below displays a basic gauge chart with default attributes. For more information about different added attributes check [indicator](https://plotly.com/python/indicator/) tutorial."
   ]
  },
  {
   "cell_type": "code",
   "execution_count": null,
   "id": "973568f8",
   "metadata": {},
   "outputs": [],
   "source": [
    "import plotly.graph_objects as go\n",
    "\n",
    "fig = go.Figure(go.Indicator(\n",
    "    mode = \"gauge+number\",\n",
    "    value = 270,\n",
    "    domain = {'x': [0, 1], 'y': [0, 1]},\n",
    "    title = {'text': \"Speed\"}))\n",
    "\n",
    "fig.show()"
   ]
  },
  {
   "cell_type": "markdown",
   "id": "d50e8b3c",
   "metadata": {},
   "source": [
    "#### Add Steps, Threshold, and Delta\n",
    "The following examples include \"steps\" attribute shown as shading inside the radial arc, \"delta\" which is the\n",
    "  difference of the value and goal (reference - value), and \"threshold\" to determine boundaries that visually alert you if the value cross a defined threshold."
   ]
  },
  {
   "cell_type": "code",
   "execution_count": null,
   "id": "05656c8a",
   "metadata": {},
   "outputs": [],
   "source": [
    "import plotly.graph_objects as go\n",
    "\n",
    "fig = go.Figure(go.Indicator(\n",
    "    domain = {'x': [0, 1], 'y': [0, 1]},\n",
    "    value = 450,\n",
    "    mode = \"gauge+number+delta\",\n",
    "    title = {'text': \"Speed\"},\n",
    "    delta = {'reference': 380},\n",
    "    gauge = {'axis': {'range': [None, 500]},\n",
    "             'steps' : [\n",
    "                 {'range': [0, 250], 'color': \"lightgray\"},\n",
    "                 {'range': [250, 400], 'color': \"gray\"}],\n",
    "             'threshold' : {'line': {'color': \"red\", 'width': 4}, 'thickness': 0.75, 'value': 490}}))\n",
    "\n",
    "fig.show()"
   ]
  },
  {
   "cell_type": "markdown",
   "id": "bd17c8b6",
   "metadata": {},
   "source": [
    "#### Custom Gauge Chart\n",
    "The following example shows how to style your gauge charts. For more information about all possible options check our [reference page](https://plotly.com/python/reference/indicator/)."
   ]
  },
  {
   "cell_type": "code",
   "execution_count": null,
   "id": "d7e39cd1",
   "metadata": {
    "lines_to_next_cell": 2
   },
   "outputs": [],
   "source": [
    "import plotly.graph_objects as go\n",
    "\n",
    "fig = go.Figure(go.Indicator(\n",
    "    mode = \"gauge+number+delta\",\n",
    "    value = 420,\n",
    "    domain = {'x': [0, 1], 'y': [0, 1]},\n",
    "    title = {'text': \"Speed\", 'font': {'size': 24}},\n",
    "    delta = {'reference': 400, 'increasing': {'color': \"RebeccaPurple\"}},\n",
    "    gauge = {\n",
    "        'axis': {'range': [None, 500], 'tickwidth': 1, 'tickcolor': \"darkblue\"},\n",
    "        'bar': {'color': \"darkblue\"},\n",
    "        'bgcolor': \"white\",\n",
    "        'borderwidth': 2,\n",
    "        'bordercolor': \"gray\",\n",
    "        'steps': [\n",
    "            {'range': [0, 250], 'color': 'cyan'},\n",
    "            {'range': [250, 400], 'color': 'royalblue'}],\n",
    "        'threshold': {\n",
    "            'line': {'color': \"red\", 'width': 4},\n",
    "            'thickness': 0.75,\n",
    "            'value': 490}}))\n",
    "\n",
    "fig.update_layout(paper_bgcolor = \"lavender\", font = {'color': \"darkblue\", 'family': \"Arial\"})\n",
    "\n",
    "fig.show()"
   ]
  },
  {
   "cell_type": "markdown",
   "id": "6181e804",
   "metadata": {},
   "source": [
    "#### Reference\n",
    "See https://plotly.com/python/reference/indicator/ for more information and chart attribute options!\n"
   ]
  },
  {
   "cell_type": "markdown",
   "id": "ed5df385",
   "metadata": {},
   "source": [
    "### What About Dash?\n",
    "\n",
    "[Dash](https://dash.plot.ly/) is an open-source framework for building analytical applications, with no Javascript required, and it is tightly integrated with the Plotly graphing library.\n",
    "\n",
    "Learn about how to install Dash at https://dash.plot.ly/installation.\n",
    "\n",
    "Everywhere in this page that you see `fig.show()`, you can display the same figure in a Dash application by passing it to the `figure` argument of the [`Graph` component](https://dash.plot.ly/dash-core-components/graph) from the built-in `dash_core_components` package like this:\n",
    "\n",
    "```python\n",
    "import plotly.graph_objects as go # or plotly.express as px\n",
    "fig = go.Figure() # or any Plotly Express function e.g. px.bar(...)\n",
    "# fig.add_trace( ... )\n",
    "# fig.update_layout( ... )\n",
    "\n",
    "from dash import Dash, dcc, html\n",
    "\n",
    "app = Dash()\n",
    "app.layout = html.Div([\n",
    "    dcc.Graph(figure=fig)\n",
    "])\n",
    "\n",
    "app.run_server(debug=True, use_reloader=False)  # Turn off reloader if inside Jupyter\n",
    "```"
   ]
  }
 ],
 "metadata": {
  "jupytext": {
   "notebook_metadata_filter": "all"
  },
  "kernelspec": {
   "display_name": "Python 3",
   "language": "python",
   "name": "python3"
  },
  "language_info": {
   "codemirror_mode": {
    "name": "ipython",
    "version": 3
   },
   "file_extension": ".py",
   "mimetype": "text/x-python",
   "name": "python",
   "nbconvert_exporter": "python",
   "pygments_lexer": "ipython3",
   "version": "3.7.3"
  },
  "plotly": {
   "description": "How to make gauge meter charts in Python with Plotly.",
   "display_as": "financial",
   "language": "python",
   "layout": "base",
   "name": "Gauge Charts",
   "order": 7,
   "page_type": "u-guide",
   "permalink": "python/gauge-charts/",
   "redirect_from": [
    "python/gauge-chart/",
    "python/gauge-meter/"
   ],
   "thumbnail": "thumbnail/gauge.jpg"
  }
 },
 "nbformat": 4,
 "nbformat_minor": 5
}
