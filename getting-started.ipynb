{
 "cells": [
  {
   "cell_type": "markdown",
   "id": "57317e40",
   "metadata": {},
   "source": [
    "\n",
    "### Overview\n",
    "\n",
    "The [`plotly` Python library](/python/) is an interactive, [open-source](/python/is-plotly-free) plotting library that supports over 40 unique chart types covering a wide range of statistical, financial, geographic, scientific, and 3-dimensional use-cases.\n",
    "\n",
    "Built on top of the Plotly JavaScript library ([plotly.js](https://plotly.com/javascript/)), `plotly` enables Python users to create beautiful interactive web-based visualizations that can be displayed in Jupyter notebooks, saved to standalone HTML files, or served as part of pure Python-built web applications using Dash. The `plotly` Python library is sometimes referred to as \"plotly.py\" to differentiate it from the JavaScript library.\n",
    "\n",
    "Thanks to deep integration with our [Kaleido](https://medium.com/plotly/introducing-kaleido-b03c4b7b1d81) image export utility, `plotly` also provides great support for non-web contexts including desktop editors (e.g. QtConsole, Spyder, PyCharm) and static document publishing (e.g. exporting notebooks to PDF with high-quality vector images).\n",
    "\n",
    "This Getting Started guide explains how to install `plotly` and related optional pages. Once you've installed, you can use our documentation in three main ways:\n",
    "\n",
    "1. You jump right in to **examples** of how to make [basic charts](/python/basic-charts/), [statistical charts](/python/statistical-charts/), [scientific charts](/python/scientific-charts/), [financial charts](/python/financial-charts/), [maps](/python/maps/), and [3-dimensional charts](/python/3d-charts/).\n",
    "2. If you prefer to learn about the **fundamentals** of the library first, you can read about [the structure of figures](/python/figure-structure/), [how to create and update figures](/python/creating-and-updating-figures/), [how to display figures](/python/renderers/), [how to theme figures with templates](/python/templates/), [how to export figures to various formats](/python/static-image-export/) and about [Plotly Express, the high-level API](/python/plotly-express/) for doing all of the above.\n",
    "3. You can check out our exhaustive **reference** guides: the [Python API reference](/python-api-reference) or the [Figure Reference](/python/reference)\n",
    "\n",
    "For information on using Python to build web applications containing plotly figures, see the [_Dash User Guide_](https://dash.plotly.com/).\n",
    "\n",
    "We also encourage you to join the [Plotly Community Forum](http://community.plotly.com/) if you want help with anything related to `plotly`.\n",
    "\n",
    "### Installation\n",
    "\n",
    "`plotly` may be installed using `pip`:\n",
    "\n",
    "```\n",
    "$ pip install plotly\n",
    "```\n",
    "\n",
    "or `conda`:\n",
    "\n",
    "```\n",
    "$ conda install -c plotly plotly\n",
    "```\n",
    "\n",
    "If you want to use Plotly Express, install its required dependencies with:\n",
    "\n",
    "```\n",
    "pip install plotly[express]\n",
    "```\n",
    "\n",
    "You'll also need to install a [supported dataframe library](/python/px-arguments#supported-dataFrame-types).\n",
    "\n",
    "### Plotly charts in Dash\n",
    "\n",
    "[Dash](https://plotly.com/dash/) is the best way to build analytical apps in Python using Plotly figures. To run the app below, run `pip install dash`, click \"Download\" to get the code and run `python app.py`.\n",
    "\n",
    "Get started  with [the official Dash docs](https://dash.plotly.com/installation) and **learn how to effortlessly [style](https://plotly.com/dash/design-kit/) & [deploy](https://plotly.com/dash/app-manager/) apps like this with <a class=\"plotly-red\" href=\"https://plotly.com/dash/\">Dash Enterprise</a>.**\n"
   ]
  },
  {
   "cell_type": "code",
   "execution_count": null,
   "id": "d64f7432",
   "metadata": {
    "hide_code": true
   },
   "outputs": [],
   "source": [
    "from IPython.display import IFrame\n",
    "snippet_url = 'https://python-docs-dash-snippets.herokuapp.com/python-docs-dash-snippets/'\n",
    "IFrame(snippet_url + 'getting-started', width='100%', height=1200)"
   ]
  },
  {
   "cell_type": "markdown",
   "id": "4fdfd7fa",
   "metadata": {},
   "source": [
    "<div style=\"font-size: 0.9em;\"><div style=\"width: calc(100% - 30px); box-shadow: none; border: thin solid rgb(229, 229, 229);\"><div style=\"padding: 5px;\"><div><p><strong>Sign up for Dash Club</strong> → Free cheat sheets plus updates from Chris Parmer and Adam Schroeder delivered to your inbox every two months. Includes tips and tricks, community apps, and deep dives into the Dash architecture.\n",
    "<u><a href=\"https://go.plotly.com/dash-club?utm_source=Dash+Club+2022&utm_medium=graphing_libraries&utm_content=inline\">Join now</a></u>.</p></div></div></div></div>"
   ]
  },
  {
   "cell_type": "markdown",
   "id": "14d1f762",
   "metadata": {},
   "source": [
    "#### JupyterLab Support\n",
    "\n",
    "To use `plotly` in [JupyterLab](https://jupyterlab.readthedocs.io/en/stable/), install the `jupyterlab` and `anywidget` packages in the same environment as you installed `plotly`, using `pip`:\n",
    "\n",
    "```\n",
    "$ pip install jupyterlab anywidget\n",
    "```\n",
    "\n",
    "or `conda`:\n",
    "\n",
    "```\n",
    "$ conda install jupyterlab anywidget\n",
    "```\n",
    "\n",
    "Launch JupyterLab with:\n",
    "\n",
    "```\n",
    "$ jupyter lab\n",
    "```\n",
    "\n",
    "and display plotly figures inline:"
   ]
  },
  {
   "cell_type": "code",
   "execution_count": null,
   "id": "d5ba6b2e",
   "metadata": {},
   "outputs": [],
   "source": [
    "import plotly.express as px\n",
    "fig = px.bar(x=[\"a\", \"b\", \"c\"], y=[1, 3, 2])\n",
    "fig.show()"
   ]
  },
  {
   "cell_type": "markdown",
   "id": "1b286112",
   "metadata": {},
   "source": [
    "or using `FigureWidget` objects."
   ]
  },
  {
   "cell_type": "code",
   "execution_count": null,
   "id": "5766d0b9",
   "metadata": {},
   "outputs": [],
   "source": [
    "import plotly.express as px\n",
    "fig = px.bar(x=[\"a\", \"b\", \"c\"], y=[1, 3, 2])\n",
    "\n",
    "import plotly.graph_objects as go\n",
    "fig_widget = go.FigureWidget(fig)\n",
    "fig_widget"
   ]
  },
  {
   "cell_type": "markdown",
   "id": "d889660c",
   "metadata": {},
   "source": [
    "See [_Displaying Figures in Python_](/python/renderers/) for more information on the renderers framework, and see [_Plotly FigureWidget Overview_](/python/figurewidget/) for more information on using `FigureWidget`.\n",
    "\n",
    "See the [Troubleshooting guide](/python/troubleshooting/) if you run into any problems with JupyterLab, particularly if you are using multiple Python environments inside Jupyter."
   ]
  },
  {
   "cell_type": "markdown",
   "id": "d234d803",
   "metadata": {},
   "source": [
    "#### Jupyter Notebook Support\n",
    "\n",
    "For use in the classic [Jupyter Notebook](https://jupyter.org/), install the `notebook` and `ipywidgets`\n",
    "packages using `pip`:\n",
    "\n",
    "```\n",
    "pip install \"notebook>=7.0\" \"anywidget>=0.9.13\"\n",
    "```\n",
    "\n",
    "or `conda`:\n",
    "\n",
    "```\n",
    "conda install \"notebook>=7.0\" \"anywidget>=0.9.13\"\n",
    "```\n",
    "\n",
    "These packages contain everything you need to run a Jupyter notebook...\n",
    "\n",
    "```\n",
    "$ jupyter notebook\n",
    "```\n",
    "\n",
    "and display plotly figures inline using the notebook renderer...\n"
   ]
  },
  {
   "cell_type": "code",
   "execution_count": null,
   "id": "37c5bf75",
   "metadata": {},
   "outputs": [],
   "source": [
    "import plotly.express as px\n",
    "fig = px.bar(x=[\"a\", \"b\", \"c\"], y=[1, 3, 2])\n",
    "fig.show()"
   ]
  },
  {
   "cell_type": "markdown",
   "id": "b0c4c3c9",
   "metadata": {},
   "source": [
    "or using `FigureWidget` objects."
   ]
  },
  {
   "cell_type": "code",
   "execution_count": null,
   "id": "9e576ed5",
   "metadata": {},
   "outputs": [],
   "source": [
    "import plotly.express as px\n",
    "fig = px.bar(x=[\"a\", \"b\", \"c\"], y=[1, 3, 2])\n",
    "\n",
    "import plotly.graph_objects as go\n",
    "fig_widget = go.FigureWidget(fig)\n",
    "fig_widget"
   ]
  },
  {
   "cell_type": "markdown",
   "id": "9e990bf3",
   "metadata": {},
   "source": [
    "See [_Displaying Figures in Python_](/python/renderers/) for more information on the renderers framework, and see [_Plotly FigureWidget Overview_](/python/figurewidget/) for more information on using `FigureWidget`."
   ]
  },
  {
   "cell_type": "markdown",
   "id": "553333f2",
   "metadata": {},
   "source": [
    "### Static Image Export\n",
    "\n",
    "plotly.py supports [static image export](https://plotly.com/python/static-image-export/),\n",
    "using the either the [`kaleido`](https://github.com/plotly/Kaleido)\n",
    "package (recommended, supported as of `plotly` version 4.9) or the [orca](https://github.com/plotly/orca)\n",
    "command line utility (legacy as of `plotly` version 4.9).\n",
    "\n",
    "#### Kaleido\n",
    "\n",
    "The [`kaleido`](https://github.com/plotly/Kaleido) package has no dependencies and can be installed\n",
    "using pip...\n",
    "\n",
    "```\n",
    "$ pip install -U kaleido\n",
    "```\n",
    "\n",
    "or conda.\n",
    "\n",
    "```\n",
    "$ conda install -c plotly python-kaleido\n",
    "```\n",
    "\n",
    "#### Orca\n",
    "\n",
    "While Kaleido is now the recommended image export approach because it is easier to install\n",
    "and more widely compatible, [static image export](https://plotly.com/python/static-image-export/)\n",
    "can also be supported\n",
    "by the legacy [orca](https://github.com/plotly/orca) command line utility and the\n",
    " [`psutil`](https://github.com/giampaolo/psutil) Python package.\n",
    "\n",
    "These dependencies can both be installed using conda:\n",
    "\n",
    "```\n",
    "conda install -c plotly plotly-orca==1.3.1 psutil\n",
    "```\n",
    "\n",
    "Or, `psutil` can be installed using pip...\n",
    "\n",
    "```\n",
    "pip install psutil\n",
    "```\n",
    "\n",
    "and orca can be installed according to the instructions in the [orca README](https://github.com/plotly/orca).\n",
    "\n",
    "#### Extended Geo Support\n",
    "\n",
    "Some plotly.py features rely on fairly large geographic shape files. The county\n",
    "choropleth figure factory is one such example. These shape files are distributed as a\n",
    "separate `plotly-geo` package. This package can be installed using pip...\n",
    "\n",
    "```\n",
    "$ pip install plotly-geo==1.0.0\n",
    "```\n",
    "\n",
    "or conda.\n",
    "\n",
    "```\n",
    "$ conda install -c plotly plotly-geo=1.0.0\n",
    "```\n",
    "\n",
    "See [_USA County Choropleth Maps in Python_](/python/county-choropleth/) for more information on the county choropleth figure factory.\n",
    "\n",
    "### Where to next?\n",
    "\n",
    "Once you've installed, you can use our documentation in three main ways:\n",
    "\n",
    "1. You jump right in to **examples** of how to make [basic charts](/python/basic-charts/), [statistical charts](/python/statistical-charts/), [scientific charts](/python/scientific-charts/), [financial charts](/python/financial-charts/), [maps](/python/maps/), and [3-dimensional charts](/python/3d-charts/).\n",
    "2. If you prefer to learn about the **fundamentals** of the library first, you can read about [the structure of figures](/python/figure-structure/), [how to create and update figures](/python/creating-and-updating-figures/), [how to display figures](/python/renderers/), [how to theme figures with templates](/python/templates/), [how to export figures to various formats](/python/static-image-export/) and about [Plotly Express, the high-level API](/python/plotly-express/) for doing all of the above.\n",
    "3. You can check out our exhaustive **reference** guides: the [Python API reference](/python-api-reference) or the [Figure Reference](/python/reference)\n",
    "\n",
    "For information on using Python to build web applications containing plotly figures, see the [_Dash User Guide_](https://dash.plotly.com/).\n",
    "\n",
    "We also encourage you to join the [Plotly Community Forum](http://community.plotly.com/) if you want help with anything related to `plotly`.\n"
   ]
  },
  {
   "cell_type": "markdown",
   "id": "d74b64b9",
   "metadata": {},
   "source": [
    "### What About Dash?\n",
    "\n",
    "[Dash](https://dash.plot.ly/) is an open-source framework for building analytical applications, with no Javascript required, and it is tightly integrated with the Plotly graphing library.\n",
    "\n",
    "Learn about how to install Dash at https://dash.plot.ly/installation.\n",
    "\n",
    "Everywhere in this page that you see `fig.show()`, you can display the same figure in a Dash application by passing it to the `figure` argument of the [`Graph` component](https://dash.plot.ly/dash-core-components/graph) from the built-in `dash_core_components` package like this:\n",
    "\n",
    "```python\n",
    "import plotly.graph_objects as go # or plotly.express as px\n",
    "fig = go.Figure() # or any Plotly Express function e.g. px.bar(...)\n",
    "# fig.add_trace( ... )\n",
    "# fig.update_layout( ... )\n",
    "\n",
    "from dash import Dash, dcc, html\n",
    "\n",
    "app = Dash()\n",
    "app.layout = html.Div([\n",
    "    dcc.Graph(figure=fig)\n",
    "])\n",
    "\n",
    "app.run_server(debug=True, use_reloader=False)  # Turn off reloader if inside Jupyter\n",
    "```"
   ]
  }
 ],
 "metadata": {
  "jupytext": {
   "notebook_metadata_filter": "all"
  },
  "kernelspec": {
   "display_name": "Python 3 (ipykernel)",
   "language": "python",
   "name": "python3"
  },
  "language_info": {
   "codemirror_mode": {
    "name": "ipython",
    "version": 3
   },
   "file_extension": ".py",
   "mimetype": "text/x-python",
   "name": "python",
   "nbconvert_exporter": "python",
   "pygments_lexer": "ipython3",
   "version": "3.10.14"
  },
  "plotly": {
   "description": "Getting Started with Plotly for Python.",
   "has_thumbnail": false,
   "language": "python",
   "layout": "base",
   "name": "Getting Started with Plotly",
   "page_type": "u-guide",
   "permalink": "python/getting-started/",
   "redirect_from": [
    "python/getting_started/",
    "/python/pytables/"
   ]
  }
 },
 "nbformat": 4,
 "nbformat_minor": 5
}
