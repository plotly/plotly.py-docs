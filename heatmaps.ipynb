{
 "cells": [
  {
   "cell_type": "markdown",
   "id": "a80538f8",
   "metadata": {},
   "source": [
    "The term \"heatmap\" usually refers to a Cartesian plot with data visualized as colored rectangular tiles, which is the subject of this page. It is also sometimes used to refer to [actual maps with density data displayed as color intensity](/python/tile-density-heatmaps/).\n",
    "\n",
    "Plotly supports two different types of colored-tile heatmaps:\n",
    "\n",
    "1. **Matrix Heatmaps** accept a 2-dimensional matrix or array of data and visualizes it directly. This type of heatmap is the subject of this page.\n",
    "2. **Density Heatmaps** accept data as a list and visualizes aggregated quantities like counts or sums of this data. Please refer to the [2D Histogram documentation](/python/2D-Histogram/) for this kind of figure."
   ]
  },
  {
   "cell_type": "markdown",
   "id": "046be82b",
   "metadata": {},
   "source": [
    "### Heatmaps with Plotly Express\n",
    "\n",
    "[Plotly Express](/python/plotly-express/) is the easy-to-use, high-level interface to Plotly, which [operates on a variety of types of data](/python/px-arguments/) and produces [easy-to-style figures](/python/styling-plotly-express/). With `px.imshow`, each value of the input array or data frame is represented as a heatmap pixel.\n"
   ]
  },
  {
   "cell_type": "markdown",
   "id": "7c8629c3",
   "metadata": {},
   "source": [
    "The `px.imshow()` function can be used to display heatmaps (as well as full-color images, as its name suggests). It accepts both array-like objects like lists of lists and `numpy` or `xarray` arrays, as well as supported [DataFrame objects](/python/px-arguments#supported-dataframes).\n",
    "\n",
    "\n",
    "> For more examples using `px.imshow`, including examples of faceting and animations, as well as full-color image display, see the [the `imshow` documentation page](/python/imshow)."
   ]
  },
  {
   "cell_type": "code",
   "execution_count": null,
   "id": "d5d35fb3",
   "metadata": {},
   "outputs": [],
   "source": [
    "import plotly.express as px\n",
    "\n",
    "fig = px.imshow([[1, 20, 30],\n",
    "                 [20, 1, 60],\n",
    "                 [30, 60, 1]])\n",
    "fig.show()"
   ]
  },
  {
   "cell_type": "code",
   "execution_count": null,
   "id": "185ec5e8",
   "metadata": {},
   "outputs": [],
   "source": [
    "import plotly.express as px\n",
    "\n",
    "df = px.data.medals_wide(indexed=True)\n",
    "fig = px.imshow(df)\n",
    "fig.show()"
   ]
  },
  {
   "cell_type": "markdown",
   "id": "cef94b79",
   "metadata": {},
   "source": [
    "### Displaying Text on Heatmaps\n",
    "\n",
    "*New in v5.5*\n",
    "\n",
    "\n",
    "You can add the values to the figure as text using the `text_auto` argument. Setting it to `True` will display the values on the bars, and setting it to a `d3-format` formatting string will control the output format."
   ]
  },
  {
   "cell_type": "code",
   "execution_count": null,
   "id": "8e409763",
   "metadata": {},
   "outputs": [],
   "source": [
    "import plotly.express as px\n",
    "\n",
    "z = [[.1, .3, .5, .7, .9],\n",
    "     [1, .8, .6, .4, .2],\n",
    "     [.2, 0, .5, .7, .9],\n",
    "     [.9, .8, .4, .2, 0],\n",
    "     [.3, .4, .5, .7, 1]]\n",
    "\n",
    "fig = px.imshow(z, text_auto=True)\n",
    "fig.show()"
   ]
  },
  {
   "cell_type": "markdown",
   "id": "52d8f128",
   "metadata": {},
   "source": [
    "#### Heatmaps in Dash\n",
    "\n",
    "[Dash](https://plotly.com/dash/) is the best way to build analytical apps in Python using Plotly figures. To run the app below, run `pip install dash`, click \"Download\" to get the code and run `python app.py`.\n",
    "\n",
    "Get started  with [the official Dash docs](https://dash.plotly.com/installation) and **learn how to effortlessly [style](https://plotly.com/dash/design-kit/) & [deploy](https://plotly.com/dash/app-manager/) apps like this with <a class=\"plotly-red\" href=\"https://plotly.com/dash/\">Dash Enterprise</a>.**\n"
   ]
  },
  {
   "cell_type": "code",
   "execution_count": null,
   "id": "96175aea",
   "metadata": {
    "hide_code": true
   },
   "outputs": [],
   "source": [
    "from IPython.display import IFrame\n",
    "snippet_url = 'https://python-docs-dash-snippets.herokuapp.com/python-docs-dash-snippets/'\n",
    "IFrame(snippet_url + 'heatmaps', width='100%', height=1200)"
   ]
  },
  {
   "cell_type": "markdown",
   "id": "2193873e",
   "metadata": {},
   "source": [
    "<div style=\"font-size: 0.9em;\"><div style=\"width: calc(100% - 30px); box-shadow: none; border: thin solid rgb(229, 229, 229);\"><div style=\"padding: 5px;\"><div><p><strong>Sign up for Dash Club</strong> → Free cheat sheets plus updates from Chris Parmer and Adam Schroeder delivered to your inbox every two months. Includes tips and tricks, community apps, and deep dives into the Dash architecture.\n",
    "<u><a href=\"https://go.plotly.com/dash-club?utm_source=Dash+Club+2022&utm_medium=graphing_libraries&utm_content=inline\">Join now</a></u>.</p></div></div></div></div>"
   ]
  },
  {
   "cell_type": "markdown",
   "id": "76d23687",
   "metadata": {},
   "source": [
    "### Controlling Aspect Ratio\n",
    "\n",
    "By default, `px.imshow()` produces heatmaps with square tiles, but setting the `aspect` argument to `\"auto\"` will instead fill the plotting area with the heatmap, using non-square tiles."
   ]
  },
  {
   "cell_type": "code",
   "execution_count": null,
   "id": "7668a348",
   "metadata": {},
   "outputs": [],
   "source": [
    "import plotly.express as px\n",
    "\n",
    "z = [[.1, .3, .5, .7, .9],\n",
    "     [1, .8, .6, .4, .2],\n",
    "     [.2, 0, .5, .7, .9],\n",
    "     [.9, .8, .4, .2, 0],\n",
    "     [.3, .4, .5, .7, 1]]\n",
    "\n",
    "fig = px.imshow(z, text_auto=True, aspect=\"auto\")\n",
    "fig.show()"
   ]
  },
  {
   "cell_type": "markdown",
   "id": "c3b403cc",
   "metadata": {},
   "source": [
    "### Customizing the axes and labels on a heatmap\n",
    "\n",
    "You can use the `x`, `y` and `labels` arguments to customize the display of a heatmap, and use `.update_xaxes()` to move the x axis tick labels to the top:"
   ]
  },
  {
   "cell_type": "code",
   "execution_count": null,
   "id": "6f704992",
   "metadata": {},
   "outputs": [],
   "source": [
    "import plotly.express as px\n",
    "data=[[1, 25, 30, 50, 1], [20, 1, 60, 80, 30], [30, 60, 1, 5, 20]]\n",
    "fig = px.imshow(data,\n",
    "                labels=dict(x=\"Day of Week\", y=\"Time of Day\", color=\"Productivity\"),\n",
    "                x=['Monday', 'Tuesday', 'Wednesday', 'Thursday', 'Friday'],\n",
    "                y=['Morning', 'Afternoon', 'Evening']\n",
    "               )\n",
    "fig.update_xaxes(side=\"top\")\n",
    "fig.show()"
   ]
  },
  {
   "cell_type": "markdown",
   "id": "48f3aa2a",
   "metadata": {},
   "source": [
    "### Display an xarray image with px.imshow\n",
    "\n",
    "[xarrays](http://xarray.pydata.org/en/stable/) are labeled arrays (with labeled axes and coordinates). If you pass an xarray image to `px.imshow`, its axes labels and coordinates will be used for axis titles. If you don't want this behavior, you can pass `img.values` which is a NumPy array if `img` is an xarray. Alternatively, you can override axis titles hover labels and colorbar title using the `labels` attribute, as above."
   ]
  },
  {
   "cell_type": "code",
   "execution_count": null,
   "id": "735c9735",
   "metadata": {},
   "outputs": [],
   "source": [
    "import plotly.express as px\n",
    "import xarray as xr\n",
    "# Load xarray from dataset included in the xarray tutorial\n",
    "airtemps = xr.tutorial.open_dataset('air_temperature').air.sel(lon=250.0)\n",
    "fig = px.imshow(airtemps.T, color_continuous_scale='RdBu_r', origin='lower')\n",
    "fig.show()"
   ]
  },
  {
   "cell_type": "markdown",
   "id": "1b44f0cd",
   "metadata": {},
   "source": [
    "### Basic Heatmap with `plotly.graph_objects`\n",
    "\n",
    "If Plotly Express does not provide a good starting point, it is also possible to use [the more generic `go.Heatmap` class from `plotly.graph_objects`](/python/graph-objects/)."
   ]
  },
  {
   "cell_type": "code",
   "execution_count": null,
   "id": "d78e37a7",
   "metadata": {},
   "outputs": [],
   "source": [
    "import plotly.graph_objects as go\n",
    "\n",
    "fig = go.Figure(data=go.Heatmap(\n",
    "                    z=[[1, 20, 30],\n",
    "                      [20, 1, 60],\n",
    "                      [30, 60, 1]]))\n",
    "fig.show()"
   ]
  },
  {
   "cell_type": "markdown",
   "id": "351cd5cc",
   "metadata": {},
   "source": [
    "### Heatmap with Categorical Axis Labels\n",
    "\n",
    "In this example we also show how to ignore [hovertext](https://plotly.com/python/hover-text-and-formatting/) when we have missing values in the data by setting the [hoverongaps](https://plotly.com/python/reference/heatmap/#heatmap-hoverongaps) to False."
   ]
  },
  {
   "cell_type": "code",
   "execution_count": null,
   "id": "9fa5b3ac",
   "metadata": {},
   "outputs": [],
   "source": [
    "import plotly.graph_objects as go\n",
    "\n",
    "fig = go.Figure(data=go.Heatmap(\n",
    "                   z=[[1, None, 30, 50, 1], [20, 1, 60, 80, 30], [30, 60, 1, -10, 20]],\n",
    "                   x=['Monday', 'Tuesday', 'Wednesday', 'Thursday', 'Friday'],\n",
    "                   y=['Morning', 'Afternoon', 'Evening'],\n",
    "                   hoverongaps = False))\n",
    "fig.show()"
   ]
  },
  {
   "cell_type": "markdown",
   "id": "a0f02fc8",
   "metadata": {},
   "source": [
    "### Heatmap with Unequal Block Sizes\n"
   ]
  },
  {
   "cell_type": "code",
   "execution_count": null,
   "id": "29cf4163",
   "metadata": {},
   "outputs": [],
   "source": [
    "import plotly.graph_objects as go\n",
    "import numpy as np\n",
    "\n",
    "# Build the rectangles as a heatmap\n",
    "# specify the edges of the heatmap squares\n",
    "phi = (1 + np.sqrt(5) )/2. # golden ratio\n",
    "xe = [0, 1, 1+(1/(phi**4)), 1+(1/(phi**3)), phi]\n",
    "ye = [0, 1/(phi**3), 1/phi**3+1/phi**4, 1/(phi**2), 1]\n",
    "\n",
    "z = [ [13,3,3,5],\n",
    "      [13,2,1,5],\n",
    "      [13,10,11,12],\n",
    "      [13,8,8,8]\n",
    "    ]\n",
    "\n",
    "fig = go.Figure(data=go.Heatmap(\n",
    "          x = np.sort(xe),\n",
    "          y = np.sort(ye),\n",
    "          z = z,\n",
    "          type = 'heatmap',\n",
    "          colorscale = 'Viridis'))\n",
    "\n",
    "# Add spiral line plot\n",
    "\n",
    "def spiral(th):\n",
    "    a = 1.120529\n",
    "    b = 0.306349\n",
    "    r = a*np.exp(-b*th)\n",
    "    return (r*np.cos(th), r*np.sin(th))\n",
    "\n",
    "theta = np.linspace(-np.pi/13,4*np.pi,1000); # angle\n",
    "(x,y) = spiral(theta)\n",
    "\n",
    "fig.add_trace(go.Scatter(x= -x+x[0], y= y-y[0],\n",
    "     line =dict(color='white',width=3)))\n",
    "\n",
    "axis_template = dict(range = [0,1.6], autorange = False,\n",
    "             showgrid = False, zeroline = False,\n",
    "             linecolor = 'black', showticklabels = False,\n",
    "             ticks = '' )\n",
    "\n",
    "fig.update_layout(margin = dict(t=200,r=200,b=200,l=200),\n",
    "    xaxis = axis_template,\n",
    "    yaxis = axis_template,\n",
    "    showlegend = False,\n",
    "    width = 700, height = 700,\n",
    "    autosize = False )\n",
    "\n",
    "fig.show()"
   ]
  },
  {
   "cell_type": "markdown",
   "id": "42926ba0",
   "metadata": {},
   "source": [
    "### Heatmap with Datetime Axis"
   ]
  },
  {
   "cell_type": "code",
   "execution_count": null,
   "id": "69d1b25c",
   "metadata": {},
   "outputs": [],
   "source": [
    "import plotly.graph_objects as go\n",
    "import datetime\n",
    "import numpy as np\n",
    "np.random.seed(1)\n",
    "\n",
    "programmers = ['Alex','Nicole','Sara','Etienne','Chelsea','Jody','Marianne']\n",
    "\n",
    "base = datetime.datetime.today()\n",
    "dates = base - np.arange(180) * datetime.timedelta(days=1)\n",
    "z = np.random.poisson(size=(len(programmers), len(dates)))\n",
    "\n",
    "fig = go.Figure(data=go.Heatmap(\n",
    "        z=z,\n",
    "        x=dates,\n",
    "        y=programmers,\n",
    "        colorscale='Viridis'))\n",
    "\n",
    "fig.update_layout(\n",
    "    title=dict(text='GitHub commits per day'),\n",
    "    xaxis_nticks=36)\n",
    "\n",
    "fig.show()"
   ]
  },
  {
   "cell_type": "markdown",
   "id": "0a9a94a5",
   "metadata": {},
   "source": [
    "### Text on Heatmap Points\n",
    "\n",
    "In this example we add text to heatmap points using `texttemplate`. We use the values from the `text` attribute for the text. We also adjust the font size using `textfont`."
   ]
  },
  {
   "cell_type": "code",
   "execution_count": null,
   "id": "efd0c879",
   "metadata": {},
   "outputs": [],
   "source": [
    "import plotly.graph_objects as go\n",
    "\n",
    "fig = go.Figure(data=go.Heatmap(\n",
    "                    z=[[1, 20, 30],\n",
    "                      [20, 1, 60],\n",
    "                      [30, 60, 1]],\n",
    "                    text=[['one', 'twenty', 'thirty'],\n",
    "                          ['twenty', 'one', 'sixty'],\n",
    "                          ['thirty', 'sixty', 'one']],\n",
    "                    texttemplate=\"%{text}\",\n",
    "                    textfont={\"size\":20}))\n",
    "\n",
    "fig.show()"
   ]
  },
  {
   "cell_type": "markdown",
   "id": "03d496c4",
   "metadata": {},
   "source": [
    "### Heatmap and datashader\n",
    "\n",
    "Arrays of rasterized values build by datashader can be visualized using\n",
    "plotly's heatmaps, as shown in the [plotly and datashader tutorial](/python/datashader/).\n",
    "\n",
    "#### Reference\n",
    "See [function reference for `px.(imshow)`](https://plotly.com/python-api-reference/generated/plotly.express.imshow) or https://plotly.com/python/reference/heatmap/ for more information and chart attribute options!\n"
   ]
  },
  {
   "cell_type": "markdown",
   "id": "2abd9631",
   "metadata": {},
   "source": [
    "### What About Dash?\n",
    "\n",
    "[Dash](https://dash.plot.ly/) is an open-source framework for building analytical applications, with no Javascript required, and it is tightly integrated with the Plotly graphing library.\n",
    "\n",
    "Learn about how to install Dash at https://dash.plot.ly/installation.\n",
    "\n",
    "Everywhere in this page that you see `fig.show()`, you can display the same figure in a Dash application by passing it to the `figure` argument of the [`Graph` component](https://dash.plot.ly/dash-core-components/graph) from the built-in `dash_core_components` package like this:\n",
    "\n",
    "```python\n",
    "import plotly.graph_objects as go # or plotly.express as px\n",
    "fig = go.Figure() # or any Plotly Express function e.g. px.bar(...)\n",
    "# fig.add_trace( ... )\n",
    "# fig.update_layout( ... )\n",
    "\n",
    "from dash import Dash, dcc, html\n",
    "\n",
    "app = Dash()\n",
    "app.layout = html.Div([\n",
    "    dcc.Graph(figure=fig)\n",
    "])\n",
    "\n",
    "app.run_server(debug=True, use_reloader=False)  # Turn off reloader if inside Jupyter\n",
    "```"
   ]
  }
 ],
 "metadata": {
  "jupytext": {
   "notebook_metadata_filter": "all"
  },
  "kernelspec": {
   "display_name": "Python 3",
   "language": "python",
   "name": "python3"
  },
  "language_info": {
   "codemirror_mode": {
    "name": "ipython",
    "version": 3
   },
   "file_extension": ".py",
   "mimetype": "text/x-python",
   "name": "python",
   "nbconvert_exporter": "python",
   "pygments_lexer": "ipython3",
   "version": "3.8.8"
  },
  "plotly": {
   "description": "How to make Heatmaps in Python with Plotly.",
   "display_as": "scientific",
   "language": "python",
   "layout": "base",
   "name": "Heatmaps",
   "order": 2,
   "page_type": "example_index",
   "permalink": "python/heatmaps/",
   "redirect_from": "python/heatmap/",
   "thumbnail": "thumbnail/heatmap.jpg"
  }
 },
 "nbformat": 4,
 "nbformat_minor": 5
}
