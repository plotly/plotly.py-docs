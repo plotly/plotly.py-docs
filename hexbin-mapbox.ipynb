{
 "cells": [
  {
   "cell_type": "markdown",
   "id": "d7c76105",
   "metadata": {},
   "source": [
    "#### Simple Count Hexbin\n",
    "\n",
    "This page details the use of a [figure factory](/python/figure-factories/). For more examples with Choropleth maps, see [this page](/python/choropleth-maps/).\n",
    "\n",
    "In order to use mapbox styles that require a mapbox token, set the token with `plotly.express`. You can also use styles that do not require a mapbox token. See more information on [this page](/python/mapbox-layers/)."
   ]
  },
  {
   "cell_type": "code",
   "execution_count": null,
   "id": "deb3302b",
   "metadata": {},
   "outputs": [],
   "source": [
    "import plotly.figure_factory as ff\n",
    "import plotly.express as px\n",
    "\n",
    "px.set_mapbox_access_token(open(\".mapbox_token\").read())\n",
    "df = px.data.carshare()\n",
    "\n",
    "fig = ff.create_hexbin_mapbox(\n",
    "    data_frame=df, lat=\"centroid_lat\", lon=\"centroid_lon\",\n",
    "    nx_hexagon=10, opacity=0.9, labels={\"color\": \"Point Count\"},\n",
    ")\n",
    "fig.update_layout(margin=dict(b=0, t=0, l=0, r=0))\n",
    "fig.show()"
   ]
  },
  {
   "cell_type": "markdown",
   "id": "d742ad79",
   "metadata": {},
   "source": [
    "#### Count Hexbin with Minimum Count and Opacity"
   ]
  },
  {
   "cell_type": "code",
   "execution_count": null,
   "id": "50ac9c99",
   "metadata": {},
   "outputs": [],
   "source": [
    "import plotly.figure_factory as ff\n",
    "import plotly.express as px\n",
    "\n",
    "px.set_mapbox_access_token(open(\".mapbox_token\").read())\n",
    "df = px.data.carshare()\n",
    "\n",
    "fig = ff.create_hexbin_mapbox(\n",
    "    data_frame=df, lat=\"centroid_lat\", lon=\"centroid_lon\",\n",
    "    nx_hexagon=10, opacity=0.5, labels={\"color\": \"Point Count\"},\n",
    "    min_count=1,\n",
    ")\n",
    "fig.show()"
   ]
  },
  {
   "cell_type": "markdown",
   "id": "bd00831d",
   "metadata": {},
   "source": [
    "#### Display the Underlying Data"
   ]
  },
  {
   "cell_type": "code",
   "execution_count": null,
   "id": "306be39a",
   "metadata": {},
   "outputs": [],
   "source": [
    "import plotly.figure_factory as ff\n",
    "import plotly.express as px\n",
    "\n",
    "px.set_mapbox_access_token(open(\".mapbox_token\").read())\n",
    "df = px.data.carshare()\n",
    "\n",
    "fig = ff.create_hexbin_mapbox(\n",
    "    data_frame=df, lat=\"centroid_lat\", lon=\"centroid_lon\",\n",
    "    nx_hexagon=10, opacity=0.5, labels={\"color\": \"Point Count\"},\n",
    "    min_count=1, color_continuous_scale=\"Viridis\",\n",
    "    show_original_data=True,\n",
    "    original_data_marker=dict(size=4, opacity=0.6, color=\"deeppink\")\n",
    ")\n",
    "fig.show()"
   ]
  },
  {
   "cell_type": "markdown",
   "id": "27590305",
   "metadata": {},
   "source": [
    "#### Compute the Mean Value per Hexbin"
   ]
  },
  {
   "cell_type": "code",
   "execution_count": null,
   "id": "f4d14cde",
   "metadata": {},
   "outputs": [],
   "source": [
    "import plotly.figure_factory as ff\n",
    "import plotly.express as px\n",
    "import numpy as np\n",
    "\n",
    "px.set_mapbox_access_token(open(\".mapbox_token\").read())\n",
    "df = px.data.carshare()\n",
    "\n",
    "fig = ff.create_hexbin_mapbox(\n",
    "    data_frame=df, lat=\"centroid_lat\", lon=\"centroid_lon\",\n",
    "    nx_hexagon=10, opacity=0.9, labels={\"color\": \"Average Peak Hour\"},\n",
    "    color=\"peak_hour\", agg_func=np.mean, color_continuous_scale=\"Icefire\", range_color=[0,23]\n",
    ")\n",
    "fig.show()"
   ]
  },
  {
   "cell_type": "markdown",
   "id": "816d56fe",
   "metadata": {},
   "source": [
    "#### Compute the Sum Value per Hexbin"
   ]
  },
  {
   "cell_type": "code",
   "execution_count": null,
   "id": "bfc16cca",
   "metadata": {},
   "outputs": [],
   "source": [
    "import plotly.figure_factory as ff\n",
    "import plotly.express as px\n",
    "import numpy as np\n",
    "\n",
    "px.set_mapbox_access_token(open(\".mapbox_token\").read())\n",
    "df = px.data.carshare()\n",
    "\n",
    "fig = ff.create_hexbin_mapbox(\n",
    "    data_frame=df, lat=\"centroid_lat\", lon=\"centroid_lon\",\n",
    "    nx_hexagon=10, opacity=0.9, labels={\"color\": \"Summed Car.Hours\"},\n",
    "    color=\"car_hours\", agg_func=np.sum, color_continuous_scale=\"Magma\"\n",
    ")\n",
    "fig.show()"
   ]
  },
  {
   "cell_type": "markdown",
   "id": "f2446de3",
   "metadata": {},
   "source": [
    "#### Hexbin with Animation"
   ]
  },
  {
   "cell_type": "code",
   "execution_count": null,
   "id": "541b4041",
   "metadata": {},
   "outputs": [],
   "source": [
    "import plotly.figure_factory as ff\n",
    "import plotly.express as px\n",
    "import numpy as np\n",
    "\n",
    "px.set_mapbox_access_token(open(\".mapbox_token\").read())\n",
    "np.random.seed(0)\n",
    "\n",
    "N = 500\n",
    "n_frames = 12\n",
    "lat = np.concatenate([\n",
    "    np.random.randn(N) * 0.5 + np.cos(i / n_frames * 2 * np.pi) + 10\n",
    "    for i in range(n_frames)\n",
    "])\n",
    "lon = np.concatenate([\n",
    "    np.random.randn(N) * 0.5 + np.sin(i / n_frames * 2 * np.pi)\n",
    "    for i in range(n_frames)\n",
    "])\n",
    "frame = np.concatenate([\n",
    "    np.ones(N, int) * i for i in range(n_frames)\n",
    "])\n",
    "\n",
    "fig = ff.create_hexbin_mapbox(\n",
    "    lat=lat, lon=lon, nx_hexagon=15, animation_frame=frame,\n",
    "    color_continuous_scale=\"Cividis\", labels={\"color\": \"Point Count\", \"frame\": \"Period\"},\n",
    "    opacity=0.5, min_count=1,\n",
    "    show_original_data=True, original_data_marker=dict(opacity=0.6, size=4, color=\"deeppink\")\n",
    ")\n",
    "fig.update_layout(margin=dict(b=0, t=0, l=0, r=0))\n",
    "fig.layout.sliders[0].pad.t=20\n",
    "fig.layout.updatemenus[0].pad.t=40\n",
    "fig.show()"
   ]
  },
  {
   "cell_type": "markdown",
   "id": "1187c221",
   "metadata": {},
   "source": [
    "#### Reference\n",
    "\n",
    "For more info on Plotly maps, see: https://plotly.com/python/maps.<br> For more info on using colorscales with Plotly see: https://plotly.com/python/heatmap-and-contour-colorscales/ <br>For more info on `ff.create_annotated_heatmap()`, see the [full function reference](https://plotly.com/python-api-reference/generated/plotly.figure_factory.create_hexbin_mapbox.html#plotly.figure_factory.create_hexbin_mapbox)\n"
   ]
  },
  {
   "cell_type": "markdown",
   "id": "12c56bad",
   "metadata": {},
   "source": [
    "### What About Dash?\n",
    "\n",
    "[Dash](https://dash.plot.ly/) is an open-source framework for building analytical applications, with no Javascript required, and it is tightly integrated with the Plotly graphing library.\n",
    "\n",
    "Learn about how to install Dash at https://dash.plot.ly/installation.\n",
    "\n",
    "Everywhere in this page that you see `fig.show()`, you can display the same figure in a Dash application by passing it to the `figure` argument of the [`Graph` component](https://dash.plot.ly/dash-core-components/graph) from the built-in `dash_core_components` package like this:\n",
    "\n",
    "```python\n",
    "import plotly.graph_objects as go # or plotly.express as px\n",
    "fig = go.Figure() # or any Plotly Express function e.g. px.bar(...)\n",
    "# fig.add_trace( ... )\n",
    "# fig.update_layout( ... )\n",
    "\n",
    "from dash import Dash, dcc, html\n",
    "\n",
    "app = Dash()\n",
    "app.layout = html.Div([\n",
    "    dcc.Graph(figure=fig)\n",
    "])\n",
    "\n",
    "app.run_server(debug=True, use_reloader=False)  # Turn off reloader if inside Jupyter\n",
    "```"
   ]
  }
 ],
 "metadata": {
  "jupytext": {
   "notebook_metadata_filter": "all"
  },
  "kernelspec": {
   "display_name": "Python 3",
   "language": "python",
   "name": "python3"
  },
  "language_info": {
   "codemirror_mode": {
    "name": "ipython",
    "version": 3
   },
   "file_extension": ".py",
   "mimetype": "text/x-python",
   "name": "python",
   "nbconvert_exporter": "python",
   "pygments_lexer": "ipython3",
   "version": "3.7.7"
  },
  "plotly": {
   "description": "How to make a map with Hexagonal Binning of data in Python with Plotly.",
   "display_as": "maps",
   "language": "python",
   "layout": "base",
   "name": "Hexbin Mapbox",
   "order": 14,
   "page_type": "u-guide",
   "permalink": "python/hexbin-mapbox/",
   "thumbnail": "thumbnail/hexbin_mapbox.jpg"
  }
 },
 "nbformat": 4,
 "nbformat_minor": 5
}
