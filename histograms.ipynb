{
 "cells": [
  {
   "cell_type": "markdown",
   "id": "3bc82b50",
   "metadata": {},
   "source": [
    "In statistics, a [histogram](https://en.wikipedia.org/wiki/Histogram) is representation of the distribution of numerical data, where the data are binned and the count for each bin is represented. More generally, in Plotly a histogram is an aggregated bar chart, with several possible aggregation functions (e.g. sum, average, count...) which can be used to visualize data on categorical and date axes as well as linear axes.\n",
    "\n",
    "\n",
    "Alternatives to histogram plots for visualizing distributions include [violin plots](https://plotly.com/python/violin/), [box plots](https://plotly.com/python/box-plots/), [ECDF plots](https://plotly.com/python/ecdf-plots/) and [strip charts](https://plotly.com/python/strip-charts/).\n",
    "\n",
    "> If you're looking instead for bar charts, i.e. representing *raw, unaggregated* data with rectangular\n",
    "bar, go to the [Bar Chart tutorial](/python/bar-charts/).\n",
    "\n",
    "## Histograms with Plotly Express\n",
    "\n",
    "[Plotly Express](/python/plotly-express/) is the easy-to-use, high-level interface to Plotly, which [operates on a variety of types of data](/python/px-arguments/) and produces [easy-to-style figures](/python/styling-plotly-express/)."
   ]
  },
  {
   "cell_type": "code",
   "execution_count": null,
   "id": "0434e6c9",
   "metadata": {},
   "outputs": [],
   "source": [
    "import plotly.express as px\n",
    "df = px.data.tips()\n",
    "fig = px.histogram(df, x=\"total_bill\")\n",
    "fig.show()"
   ]
  },
  {
   "cell_type": "code",
   "execution_count": null,
   "id": "466b5eed",
   "metadata": {},
   "outputs": [],
   "source": [
    "import plotly.express as px\n",
    "df = px.data.tips()\n",
    "# Here we use a column with categorical data\n",
    "fig = px.histogram(df, x=\"day\")\n",
    "fig.show()"
   ]
  },
  {
   "cell_type": "markdown",
   "id": "dda7e5c1",
   "metadata": {},
   "source": [
    "#### Choosing the number of bins\n",
    "\n",
    "By default, the number of bins is chosen so that this number is comparable to the typical number of samples in a bin. This number can be customized, as well as the range of values."
   ]
  },
  {
   "cell_type": "code",
   "execution_count": null,
   "id": "076f9633",
   "metadata": {},
   "outputs": [],
   "source": [
    "import plotly.express as px\n",
    "df = px.data.tips()\n",
    "fig = px.histogram(df, x=\"total_bill\", nbins=20)\n",
    "fig.show()"
   ]
  },
  {
   "cell_type": "markdown",
   "id": "30155bbb",
   "metadata": {},
   "source": [
    "### Histograms on Date Data\n",
    "\n",
    "Plotly histograms will automatically bin date data in addition to numerical data:"
   ]
  },
  {
   "cell_type": "code",
   "execution_count": null,
   "id": "73507d8e",
   "metadata": {},
   "outputs": [],
   "source": [
    "import plotly.express as px\n",
    "\n",
    "df = px.data.stocks()\n",
    "fig = px.histogram(df, x=\"date\")\n",
    "fig.update_layout(bargap=0.2)\n",
    "fig.show()"
   ]
  },
  {
   "cell_type": "markdown",
   "id": "21251f88",
   "metadata": {},
   "source": [
    "### Histograms on Categorical Data\n",
    "\n",
    "Plotly histograms will automatically bin numerical or date data but can also be used on raw categorical data, as in the following example, where the X-axis value is the categorical \"day\" variable:"
   ]
  },
  {
   "cell_type": "code",
   "execution_count": null,
   "id": "3f14d66c",
   "metadata": {},
   "outputs": [],
   "source": [
    "import plotly.express as px\n",
    "df = px.data.tips()\n",
    "fig = px.histogram(df, x=\"day\", category_orders=dict(day=[\"Thur\", \"Fri\", \"Sat\", \"Sun\"]))\n",
    "fig.show()"
   ]
  },
  {
   "cell_type": "markdown",
   "id": "ba285de2",
   "metadata": {},
   "source": [
    "#### Histograms in Dash\n",
    "\n",
    "[Dash](https://plotly.com/dash/) is the best way to build analytical apps in Python using Plotly figures. To run the app below, run `pip install dash`, click \"Download\" to get the code and run `python app.py`.\n",
    "\n",
    "Get started  with [the official Dash docs](https://dash.plotly.com/installation) and **learn how to effortlessly [style](https://plotly.com/dash/design-kit/) & [deploy](https://plotly.com/dash/app-manager/) apps like this with <a class=\"plotly-red\" href=\"https://plotly.com/dash/\">Dash Enterprise</a>.**\n"
   ]
  },
  {
   "cell_type": "code",
   "execution_count": null,
   "id": "646ed1fd",
   "metadata": {
    "hide_code": true
   },
   "outputs": [],
   "source": [
    "from IPython.display import IFrame\n",
    "snippet_url = 'https://python-docs-dash-snippets.herokuapp.com/python-docs-dash-snippets/'\n",
    "IFrame(snippet_url + 'histograms', width='100%', height=1200)"
   ]
  },
  {
   "cell_type": "markdown",
   "id": "fc06712b",
   "metadata": {},
   "source": [
    "<div style=\"font-size: 0.9em;\"><div style=\"width: calc(100% - 30px); box-shadow: none; border: thin solid rgb(229, 229, 229);\"><div style=\"padding: 5px;\"><div><p><strong>Sign up for Dash Club</strong> → Free cheat sheets plus updates from Chris Parmer and Adam Schroeder delivered to your inbox every two months. Includes tips and tricks, community apps, and deep dives into the Dash architecture.\n",
    "<u><a href=\"https://go.plotly.com/dash-club?utm_source=Dash+Club+2022&utm_medium=graphing_libraries&utm_content=inline\">Join now</a></u>.</p></div></div></div></div>"
   ]
  },
  {
   "cell_type": "markdown",
   "id": "9f9130f6",
   "metadata": {},
   "source": [
    "#### Accessing the counts (y-axis) values\n",
    "\n",
    "JavaScript calculates the y-axis (count) values on the fly in the browser, so it's not accessible in the `fig`. You can manually calculate it using `np.histogram`."
   ]
  },
  {
   "cell_type": "code",
   "execution_count": null,
   "id": "a7d7f5f8",
   "metadata": {},
   "outputs": [],
   "source": [
    "import plotly.express as px\n",
    "import numpy as np\n",
    "\n",
    "df = px.data.tips()\n",
    "# create the bins\n",
    "counts, bins = np.histogram(df.total_bill, bins=range(0, 60, 5))\n",
    "bins = 0.5 * (bins[:-1] + bins[1:])\n",
    "\n",
    "fig = px.bar(x=bins, y=counts, labels={'x':'total_bill', 'y':'count'})\n",
    "fig.show()"
   ]
  },
  {
   "cell_type": "markdown",
   "id": "1732fc58",
   "metadata": {},
   "source": [
    "#### Type of normalization\n",
    "\n",
    "The default mode is to represent the count of samples in each bin. With the `histnorm` argument, it is also possible to represent the percentage or fraction of samples in each bin (`histnorm='percent'` or `probability`), or a density histogram (the sum of all bar areas equals the total number of sample points, `density`), or a probability density histogram (the sum of all bar areas equals 1, `probability density`)."
   ]
  },
  {
   "cell_type": "code",
   "execution_count": null,
   "id": "66d51cc9",
   "metadata": {},
   "outputs": [],
   "source": [
    "import plotly.express as px\n",
    "df = px.data.tips()\n",
    "fig = px.histogram(df, x=\"total_bill\", histnorm='probability density')\n",
    "fig.show()"
   ]
  },
  {
   "cell_type": "markdown",
   "id": "e972c548",
   "metadata": {},
   "source": [
    "#### Aspect of the histogram plot"
   ]
  },
  {
   "cell_type": "code",
   "execution_count": null,
   "id": "e2585e61",
   "metadata": {},
   "outputs": [],
   "source": [
    "import plotly.express as px\n",
    "df = px.data.tips()\n",
    "fig = px.histogram(df, x=\"total_bill\",\n",
    "                   title='Histogram of bills',\n",
    "                   labels={'total_bill':'total bill'}, # can specify one label per df column\n",
    "                   opacity=0.8,\n",
    "                   log_y=True, # represent bars with log scale\n",
    "                   color_discrete_sequence=['indianred'] # color of histogram bars\n",
    "                   )\n",
    "fig.show()"
   ]
  },
  {
   "cell_type": "markdown",
   "id": "0bdb34bf",
   "metadata": {},
   "source": [
    "#### Several histograms for the different values of one column"
   ]
  },
  {
   "cell_type": "code",
   "execution_count": null,
   "id": "036c9780",
   "metadata": {},
   "outputs": [],
   "source": [
    "import plotly.express as px\n",
    "df = px.data.tips()\n",
    "fig = px.histogram(df, x=\"total_bill\", color=\"sex\")\n",
    "fig.show()"
   ]
  },
  {
   "cell_type": "markdown",
   "id": "27c66b0f",
   "metadata": {},
   "source": [
    "#### Aggregating with other functions than `count`\n",
    "\n",
    "For each bin of `x`, one can compute a function of data using `histfunc`. The argument of `histfunc` is the dataframe column given as the `y` argument. Below the plot shows that the average tip increases with the total bill."
   ]
  },
  {
   "cell_type": "code",
   "execution_count": null,
   "id": "776f07a9",
   "metadata": {},
   "outputs": [],
   "source": [
    "import plotly.express as px\n",
    "df = px.data.tips()\n",
    "fig = px.histogram(df, x=\"total_bill\", y=\"tip\", histfunc='avg')\n",
    "fig.show()"
   ]
  },
  {
   "cell_type": "markdown",
   "id": "2d34235f",
   "metadata": {},
   "source": [
    "The default `histfunc` is `sum` if `y` is given, and works with categorical as well as binned numeric data on the `x` axis:"
   ]
  },
  {
   "cell_type": "code",
   "execution_count": null,
   "id": "de813a4d",
   "metadata": {
    "lines_to_next_cell": 0
   },
   "outputs": [],
   "source": [
    "import plotly.express as px\n",
    "df = px.data.tips()\n",
    "fig = px.histogram(df, x=\"day\", y=\"total_bill\", category_orders=dict(day=[\"Thur\", \"Fri\", \"Sat\", \"Sun\"]))\n",
    "fig.show()"
   ]
  },
  {
   "cell_type": "markdown",
   "id": "3d1ea83d",
   "metadata": {},
   "source": [
    "*New in v5.0*\n",
    "\n",
    "Histograms afford the use of [patterns (also known as hatching or texture)](/python/pattern-hatching-texture/) in addition to color:"
   ]
  },
  {
   "cell_type": "code",
   "execution_count": null,
   "id": "42328e79",
   "metadata": {},
   "outputs": [],
   "source": [
    "import plotly.express as px\n",
    "\n",
    "df = px.data.tips()\n",
    "fig = px.histogram(df, x=\"sex\", y=\"total_bill\", color=\"sex\", pattern_shape=\"smoker\")\n",
    "fig.show()"
   ]
  },
  {
   "cell_type": "markdown",
   "id": "fef1668d",
   "metadata": {},
   "source": [
    "#### Visualizing the distribution\n",
    "\n",
    "With the `marginal` keyword, a [marginal](https://plotly.com/python/marginal-plots/) is drawn alongside the histogram, visualizing the distribution. See [the distplot page](https://plotly.com/python/distplot/) for more examples of combined statistical representations."
   ]
  },
  {
   "cell_type": "code",
   "execution_count": null,
   "id": "6dc99158",
   "metadata": {},
   "outputs": [],
   "source": [
    "import plotly.express as px\n",
    "df = px.data.tips()\n",
    "fig = px.histogram(df, x=\"total_bill\", color=\"sex\", marginal=\"rug\", # can be `box`, `violin`\n",
    "                         hover_data=df.columns)\n",
    "fig.show()"
   ]
  },
  {
   "cell_type": "markdown",
   "id": "8403ac40",
   "metadata": {},
   "source": [
    "### Adding text labels\n",
    "\n",
    "*New in v5.5*\n",
    "\n",
    "You can add text to histogram bars using the `text_auto` argument. Setting it to `True` will display the values on the bars, and setting it to a `d3-format` formatting string will control the output format."
   ]
  },
  {
   "cell_type": "code",
   "execution_count": null,
   "id": "5b036cf1",
   "metadata": {},
   "outputs": [],
   "source": [
    "import plotly.express as px\n",
    "df = px.data.tips()\n",
    "fig = px.histogram(df, x=\"total_bill\", y=\"tip\", histfunc=\"avg\", nbins=8, text_auto=True)\n",
    "fig.show()"
   ]
  },
  {
   "cell_type": "markdown",
   "id": "f85b0c3a",
   "metadata": {},
   "source": [
    "## Histograms with go.Histogram\n",
    "\n",
    "If Plotly Express does not provide a good starting point, it is also possible to use [the more generic `go.Histogram` class from `plotly.graph_objects`](/python/graph-objects/). All of the available histogram options are described in the histogram section of the reference page: https://plotly.com/python/reference#histogram.\n",
    "\n",
    "### Basic Histogram"
   ]
  },
  {
   "cell_type": "code",
   "execution_count": null,
   "id": "bf3ce4c6",
   "metadata": {},
   "outputs": [],
   "source": [
    "import plotly.graph_objects as go\n",
    "\n",
    "import numpy as np\n",
    "np.random.seed(1)\n",
    "\n",
    "x = np.random.randn(500)\n",
    "\n",
    "fig = go.Figure(data=[go.Histogram(x=x)])\n",
    "fig.show()"
   ]
  },
  {
   "cell_type": "markdown",
   "id": "6a17dea7",
   "metadata": {},
   "source": [
    "### Normalized Histogram"
   ]
  },
  {
   "cell_type": "code",
   "execution_count": null,
   "id": "5f90496d",
   "metadata": {},
   "outputs": [],
   "source": [
    "import plotly.graph_objects as go\n",
    "\n",
    "import numpy as np\n",
    "\n",
    "x = np.random.randn(500)\n",
    "fig = go.Figure(data=[go.Histogram(x=x, histnorm='probability')])\n",
    "\n",
    "fig.show()"
   ]
  },
  {
   "cell_type": "markdown",
   "id": "6f035780",
   "metadata": {},
   "source": [
    "### Horizontal Histogram"
   ]
  },
  {
   "cell_type": "code",
   "execution_count": null,
   "id": "0f4ff362",
   "metadata": {},
   "outputs": [],
   "source": [
    "import plotly.graph_objects as go\n",
    "\n",
    "import numpy as np\n",
    "\n",
    "y = np.random.randn(500)\n",
    "# Use `y` argument instead of `x` for horizontal histogram\n",
    "\n",
    "fig = go.Figure(data=[go.Histogram(y=y)])\n",
    "fig.show()"
   ]
  },
  {
   "cell_type": "markdown",
   "id": "e1334e22",
   "metadata": {},
   "source": [
    "### Overlaid Histogram"
   ]
  },
  {
   "cell_type": "code",
   "execution_count": null,
   "id": "304da33a",
   "metadata": {},
   "outputs": [],
   "source": [
    "import plotly.graph_objects as go\n",
    "\n",
    "import numpy as np\n",
    "\n",
    "x0 = np.random.randn(500)\n",
    "# Add 1 to shift the mean of the Gaussian distribution\n",
    "x1 = np.random.randn(500) + 1\n",
    "\n",
    "fig = go.Figure()\n",
    "fig.add_trace(go.Histogram(x=x0))\n",
    "fig.add_trace(go.Histogram(x=x1))\n",
    "\n",
    "# Overlay both histograms\n",
    "fig.update_layout(barmode='overlay')\n",
    "# Reduce opacity to see both histograms\n",
    "fig.update_traces(opacity=0.75)\n",
    "fig.show()"
   ]
  },
  {
   "cell_type": "markdown",
   "id": "ae9f7740",
   "metadata": {},
   "source": [
    "### Stacked Histograms"
   ]
  },
  {
   "cell_type": "code",
   "execution_count": null,
   "id": "4b7dbd91",
   "metadata": {},
   "outputs": [],
   "source": [
    "import plotly.graph_objects as go\n",
    "\n",
    "import numpy as np\n",
    "\n",
    "x0 = np.random.randn(2000)\n",
    "x1 = np.random.randn(2000) + 1\n",
    "\n",
    "fig = go.Figure()\n",
    "fig.add_trace(go.Histogram(x=x0))\n",
    "fig.add_trace(go.Histogram(x=x1))\n",
    "\n",
    "# The two histograms are drawn on top of another\n",
    "fig.update_layout(barmode='stack')\n",
    "fig.show()"
   ]
  },
  {
   "cell_type": "markdown",
   "id": "7caa0250",
   "metadata": {},
   "source": [
    "### Styled Histogram"
   ]
  },
  {
   "cell_type": "code",
   "execution_count": null,
   "id": "3a7175e9",
   "metadata": {},
   "outputs": [],
   "source": [
    "import plotly.graph_objects as go\n",
    "\n",
    "import numpy as np\n",
    "x0 = np.random.randn(500)\n",
    "x1 = np.random.randn(500) + 1\n",
    "\n",
    "fig = go.Figure()\n",
    "fig.add_trace(go.Histogram(\n",
    "    x=x0,\n",
    "    histnorm='percent',\n",
    "    name='control', # name used in legend and hover labels\n",
    "    xbins=dict( # bins used for histogram\n",
    "        start=-4.0,\n",
    "        end=3.0,\n",
    "        size=0.5\n",
    "    ),\n",
    "    marker_color='#EB89B5',\n",
    "    opacity=0.75\n",
    "))\n",
    "fig.add_trace(go.Histogram(\n",
    "    x=x1,\n",
    "    histnorm='percent',\n",
    "    name='experimental',\n",
    "    xbins=dict(\n",
    "        start=-3.0,\n",
    "        end=4,\n",
    "        size=0.5\n",
    "    ),\n",
    "    marker_color='#330C73',\n",
    "    opacity=0.75\n",
    "))\n",
    "\n",
    "fig.update_layout(\n",
    "    title_text='Sampled Results', # title of plot\n",
    "    xaxis_title_text='Value', # xaxis label\n",
    "    yaxis_title_text='Count', # yaxis label\n",
    "    bargap=0.2, # gap between bars of adjacent location coordinates\n",
    "    bargroupgap=0.1 # gap between bars of the same location coordinates\n",
    ")\n",
    "\n",
    "fig.show()"
   ]
  },
  {
   "cell_type": "markdown",
   "id": "a64a06c2",
   "metadata": {},
   "source": [
    "### Histogram Bar Text\n",
    "\n",
    "You can add text to histogram bars using the `texttemplate` argument. In this example we add the x-axis values as text following the format `%{variable}`. We also adjust the size of the text using `textfont_size`."
   ]
  },
  {
   "cell_type": "code",
   "execution_count": null,
   "id": "4b5686e9",
   "metadata": {},
   "outputs": [],
   "source": [
    "import plotly.graph_objects as go\n",
    "\n",
    "numbers = [\"5\", \"10\", \"3\", \"10\", \"5\", \"8\", \"5\", \"5\"]\n",
    "\n",
    "fig = go.Figure()\n",
    "fig.add_trace(go.Histogram(x=numbers, name=\"count\", texttemplate=\"%{x}\", textfont_size=20))\n",
    "\n",
    "fig.show()"
   ]
  },
  {
   "cell_type": "markdown",
   "id": "208d0985",
   "metadata": {},
   "source": [
    "### Cumulative Histogram"
   ]
  },
  {
   "cell_type": "code",
   "execution_count": null,
   "id": "6524f4a9",
   "metadata": {},
   "outputs": [],
   "source": [
    "import plotly.graph_objects as go\n",
    "\n",
    "import numpy as np\n",
    "\n",
    "x = np.random.randn(500)\n",
    "fig = go.Figure(data=[go.Histogram(x=x, cumulative_enabled=True)])\n",
    "\n",
    "fig.show()"
   ]
  },
  {
   "cell_type": "markdown",
   "id": "afb799ba",
   "metadata": {},
   "source": [
    "### Specify Aggregation Function"
   ]
  },
  {
   "cell_type": "code",
   "execution_count": null,
   "id": "1ed8a6e6",
   "metadata": {},
   "outputs": [],
   "source": [
    "import plotly.graph_objects as go\n",
    "\n",
    "x = [\"Apples\",\"Apples\",\"Apples\",\"Oranges\", \"Bananas\"]\n",
    "y = [\"5\",\"10\",\"3\",\"10\",\"5\"]\n",
    "\n",
    "fig = go.Figure()\n",
    "fig.add_trace(go.Histogram(histfunc=\"count\", y=y, x=x, name=\"count\"))\n",
    "fig.add_trace(go.Histogram(histfunc=\"sum\", y=y, x=x, name=\"sum\"))\n",
    "\n",
    "fig.show()"
   ]
  },
  {
   "cell_type": "markdown",
   "id": "5677dee1",
   "metadata": {},
   "source": [
    "### Custom Binning\n",
    "\n",
    "For custom binning along x-axis, use the attribute [`nbinsx`](https://plotly.com/python/reference/histogram/#histogram-nbinsx). Please note that the autobin algorithm will choose a 'nice' round bin size that may result in somewhat fewer than `nbinsx` total bins. Alternatively, you can set the exact values for [`xbins`](https://plotly.com/python/reference/histogram/#histogram-xbins) along with `autobinx = False`."
   ]
  },
  {
   "cell_type": "code",
   "execution_count": null,
   "id": "4c9fa8f3",
   "metadata": {},
   "outputs": [],
   "source": [
    "import plotly.graph_objects as go\n",
    "from plotly.subplots import make_subplots\n",
    "\n",
    "x = ['1970-01-01', '1970-01-01', '1970-02-01', '1970-04-01', '1970-01-02',\n",
    "     '1972-01-31', '1970-02-13', '1971-04-19']\n",
    "\n",
    "fig = make_subplots(rows=3, cols=2)\n",
    "\n",
    "trace0 = go.Histogram(x=x, nbinsx=4)\n",
    "trace1 = go.Histogram(x=x, nbinsx = 8)\n",
    "trace2 = go.Histogram(x=x, nbinsx=10)\n",
    "trace3 = go.Histogram(x=x,\n",
    "                      xbins=dict(\n",
    "                      start='1969-11-15',\n",
    "                      end='1972-03-31',\n",
    "                      size='M18'), # M18 stands for 18 months\n",
    "                      autobinx=False\n",
    "                     )\n",
    "trace4 = go.Histogram(x=x,\n",
    "                      xbins=dict(\n",
    "                      start='1969-11-15',\n",
    "                      end='1972-03-31',\n",
    "                      size='M4'), # 4 months bin size\n",
    "                      autobinx=False\n",
    "                      )\n",
    "trace5 = go.Histogram(x=x,\n",
    "                      xbins=dict(\n",
    "                      start='1969-11-15',\n",
    "                      end='1972-03-31',\n",
    "                      size= 'M2'), # 2 months\n",
    "                      autobinx = False\n",
    "                      )\n",
    "\n",
    "fig.append_trace(trace0, 1, 1)\n",
    "fig.append_trace(trace1, 1, 2)\n",
    "fig.append_trace(trace2, 2, 1)\n",
    "fig.append_trace(trace3, 2, 2)\n",
    "fig.append_trace(trace4, 3, 1)\n",
    "fig.append_trace(trace5, 3, 2)\n",
    "\n",
    "fig.show()"
   ]
  },
  {
   "cell_type": "markdown",
   "id": "07eef3ee",
   "metadata": {},
   "source": [
    "### See also: Bar Charts\n",
    "\n",
    "If you want to display information about the individual items within each histogram bar, then create a stacked bar chart with hover information as shown below. Note that this is not technically the histogram chart type, but it will have a similar effect as shown below by comparing the output of `px.histogram` and `px.bar`. For more information, see the [tutorial on bar charts](/python/bar-charts/)."
   ]
  },
  {
   "cell_type": "code",
   "execution_count": null,
   "id": "6daabc31",
   "metadata": {},
   "outputs": [],
   "source": [
    "import plotly.express as px\n",
    "df = px.data.tips()\n",
    "fig1 = px.bar(df, x='day', y='tip', height=300,\n",
    "              title='Stacked Bar Chart - Hover on individual items')\n",
    "fig2 = px.histogram(df, x='day', y='tip', histfunc='sum', height=300,\n",
    "                    title='Histogram Chart')\n",
    "fig1.show()\n",
    "fig2.show()"
   ]
  },
  {
   "cell_type": "markdown",
   "id": "6e2b53cc",
   "metadata": {},
   "source": [
    "### Share bins between histograms\n",
    "\n",
    "In this example both histograms have a compatible bin settings using [bingroup](https://plotly.com/python/reference/histogram/#histogram-bingroup) attribute. Note that traces on the same subplot, and with the same `barmode` (\"stack\", \"relative\", \"group\") are forced into the same `bingroup`, however traces with `barmode = \"overlay\"` and on different axes (of the same axis type) can have compatible bin settings. Histogram and [histogram2d](https://plotly.com/python/2D-Histogram/) trace can share the same `bingroup`."
   ]
  },
  {
   "cell_type": "code",
   "execution_count": null,
   "id": "19ce55fb",
   "metadata": {},
   "outputs": [],
   "source": [
    "import plotly.graph_objects as go\n",
    "import numpy as np\n",
    "\n",
    "fig = go.Figure(go.Histogram(\n",
    "    x=np.random.randint(7, size=100),\n",
    "    bingroup=1))\n",
    "\n",
    "fig.add_trace(go.Histogram(\n",
    "    x=np.random.randint(7, size=20),\n",
    "    bingroup=1))\n",
    "\n",
    "fig.update_layout(\n",
    "    barmode=\"overlay\",\n",
    "    bargap=0.1)\n",
    "\n",
    "fig.show()"
   ]
  },
  {
   "cell_type": "markdown",
   "id": "8c1b12b4",
   "metadata": {},
   "source": [
    "### Sort Histogram by Category Order\n",
    "\n",
    "Histogram bars can also be sorted based on the ordering logic of the categorical values using the [categoryorder](https://plotly.com/python/reference/layout/xaxis/#layout-xaxis-categoryorder) attribute of the x-axis. Sorting of histogram bars using `categoryorder` also works with multiple traces on the same x-axis. In the following examples, the histogram bars are sorted based on the total numerical values."
   ]
  },
  {
   "cell_type": "code",
   "execution_count": null,
   "id": "5307db01",
   "metadata": {},
   "outputs": [],
   "source": [
    "import plotly.express as px\n",
    "\n",
    "df = px.data.tips()\n",
    "fig = px.histogram(df, x=\"day\").update_xaxes(categoryorder='total ascending')\n",
    "fig.show()"
   ]
  },
  {
   "cell_type": "code",
   "execution_count": null,
   "id": "090a114e",
   "metadata": {},
   "outputs": [],
   "source": [
    "import plotly.express as px\n",
    "\n",
    "df = px.data.tips()\n",
    "fig = px.histogram(df, x=\"day\", color=\"smoker\").update_xaxes(categoryorder='total descending')\n",
    "fig.show()"
   ]
  },
  {
   "cell_type": "markdown",
   "id": "e40a6f18",
   "metadata": {},
   "source": [
    "#### Reference\n",
    "\n",
    "See [function reference for `px.histogram()`](https://plotly.com/python-api-reference/generated/plotly.express.histogram) or https://plotly.com/python/reference/histogram/ for more information and chart attribute options!\n"
   ]
  },
  {
   "cell_type": "markdown",
   "id": "c7a6f151",
   "metadata": {},
   "source": [
    "### What About Dash?\n",
    "\n",
    "[Dash](https://dash.plot.ly/) is an open-source framework for building analytical applications, with no Javascript required, and it is tightly integrated with the Plotly graphing library.\n",
    "\n",
    "Learn about how to install Dash at https://dash.plot.ly/installation.\n",
    "\n",
    "Everywhere in this page that you see `fig.show()`, you can display the same figure in a Dash application by passing it to the `figure` argument of the [`Graph` component](https://dash.plot.ly/dash-core-components/graph) from the built-in `dash_core_components` package like this:\n",
    "\n",
    "```python\n",
    "import plotly.graph_objects as go # or plotly.express as px\n",
    "fig = go.Figure() # or any Plotly Express function e.g. px.bar(...)\n",
    "# fig.add_trace( ... )\n",
    "# fig.update_layout( ... )\n",
    "\n",
    "from dash import Dash, dcc, html\n",
    "\n",
    "app = Dash()\n",
    "app.layout = html.Div([\n",
    "    dcc.Graph(figure=fig)\n",
    "])\n",
    "\n",
    "app.run_server(debug=True, use_reloader=False)  # Turn off reloader if inside Jupyter\n",
    "```"
   ]
  }
 ],
 "metadata": {
  "jupytext": {
   "notebook_metadata_filter": "all"
  },
  "kernelspec": {
   "display_name": "Python 3",
   "language": "python",
   "name": "python3"
  },
  "language_info": {
   "codemirror_mode": {
    "name": "ipython",
    "version": 3
   },
   "file_extension": ".py",
   "mimetype": "text/x-python",
   "name": "python",
   "nbconvert_exporter": "python",
   "pygments_lexer": "ipython3",
   "version": "3.8.8"
  },
  "plotly": {
   "description": "How to make Histograms in Python with Plotly.",
   "display_as": "statistical",
   "language": "python",
   "layout": "base",
   "name": "Histograms",
   "order": 3,
   "page_type": "example_index",
   "permalink": "python/histograms/",
   "redirect_from": [
    "/python/histogram-tutorial/",
    "/python/histogram/"
   ],
   "thumbnail": "thumbnail/histogram.jpg"
  }
 },
 "nbformat": 4,
 "nbformat_minor": 5
}
