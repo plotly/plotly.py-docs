{
 "cells": [
  {
   "cell_type": "markdown",
   "id": "cd8846ec",
   "metadata": {},
   "source": [
    "### Horizontal and Vertical Lines and Rectangles\n",
    "\n",
    "*introduced in plotly 4.12*\n",
    "\n",
    "Horizontal and vertical lines and rectangles that span an entire\n",
    "plot can be added via the `add_hline`, `add_vline`, `add_hrect`, and `add_vrect`\n",
    "methods of `plotly.graph_objects.Figure`. Shapes added with these methods are\n",
    "added as [layout shapes](/python/shapes) (as shown when doing `print(fig)`, for\n",
    "example). These shapes are fixed to the endpoints of one axis, regardless of the\n",
    "range of the plot, and fixed to data coordinates on the other axis. The\n",
    "following shows some possibilities, try panning and zooming the resulting figure\n",
    "to see how the shapes stick to some axes:"
   ]
  },
  {
   "cell_type": "code",
   "execution_count": null,
   "id": "20524409",
   "metadata": {},
   "outputs": [],
   "source": [
    "import plotly.express as px\n",
    "\n",
    "df = px.data.iris()\n",
    "fig = px.scatter(df, x=\"petal_length\", y=\"petal_width\")\n",
    "fig.add_hline(y=0.9)\n",
    "fig.add_vrect(x0=0.9, x1=2)\n",
    "fig.show()"
   ]
  },
  {
   "cell_type": "markdown",
   "id": "5ab19a2c",
   "metadata": {},
   "source": [
    "These shapes can be styled by passing the same arguments as are accepted by `add_shape`:"
   ]
  },
  {
   "cell_type": "code",
   "execution_count": null,
   "id": "86ac2422",
   "metadata": {},
   "outputs": [],
   "source": [
    "import plotly.express as px\n",
    "\n",
    "df = px.data.iris()\n",
    "fig = px.scatter(df, x=\"petal_length\", y=\"petal_width\")\n",
    "fig.add_vline(x=2.5, line_width=3, line_dash=\"dash\", line_color=\"green\")\n",
    "fig.add_hrect(y0=0.9, y1=2.6, line_width=0, fillcolor=\"red\", opacity=0.2)\n",
    "fig.show()"
   ]
  },
  {
   "cell_type": "markdown",
   "id": "e76e1f2c",
   "metadata": {},
   "source": [
    "#### Horizontal and vertical lines in Dash\n",
    "\n",
    "[Dash](https://plotly.com/dash/) is the best way to build analytical apps in Python using Plotly figures. To run the app below, run `pip install dash`, click \"Download\" to get the code and run `python app.py`.\n",
    "\n",
    "Get started  with [the official Dash docs](https://dash.plotly.com/installation) and **learn how to effortlessly [style](https://plotly.com/dash/design-kit/) & [deploy](https://plotly.com/dash/app-manager/) apps like this with <a class=\"plotly-red\" href=\"https://plotly.com/dash/\">Dash Enterprise</a>.**\n"
   ]
  },
  {
   "cell_type": "code",
   "execution_count": null,
   "id": "a418725d",
   "metadata": {
    "hide_code": true
   },
   "outputs": [],
   "source": [
    "from IPython.display import IFrame\n",
    "snippet_url = 'https://python-docs-dash-snippets.herokuapp.com/python-docs-dash-snippets/'\n",
    "IFrame(snippet_url + 'horizontal-vertical-shapes', width='100%', height=1200)"
   ]
  },
  {
   "cell_type": "markdown",
   "id": "da9f435f",
   "metadata": {},
   "source": [
    "<div style=\"font-size: 0.9em;\"><div style=\"width: calc(100% - 30px); box-shadow: none; border: thin solid rgb(229, 229, 229);\"><div style=\"padding: 5px;\"><div><p><strong>Sign up for Dash Club</strong> → Free cheat sheets plus updates from Chris Parmer and Adam Schroeder delivered to your inbox every two months. Includes tips and tricks, community apps, and deep dives into the Dash architecture.\n",
    "<u><a href=\"https://go.plotly.com/dash-club?utm_source=Dash+Club+2022&utm_medium=graphing_libraries&utm_content=inline\">Join now</a></u>.</p></div></div></div></div>"
   ]
  },
  {
   "cell_type": "markdown",
   "id": "1f924b25",
   "metadata": {},
   "source": [
    "#### Adding Text Annotations\n",
    "\n",
    "[Text annotations](/python/text-and-annotations) can optionally be added to an autoshape\n",
    "using the `annotation_text` keyword argument, and positioned using the `annotation_position` argument:"
   ]
  },
  {
   "cell_type": "code",
   "execution_count": null,
   "id": "33c14c94",
   "metadata": {},
   "outputs": [],
   "source": [
    "import plotly.express as px\n",
    "\n",
    "df = px.data.stocks(indexed=True)\n",
    "fig = px.line(df)\n",
    "fig.add_hline(y=1, line_dash=\"dot\",\n",
    "              annotation_text=\"Jan 1, 2018 baseline\", \n",
    "              annotation_position=\"bottom right\")\n",
    "fig.add_vrect(x0=\"2018-09-24\", x1=\"2018-12-18\", \n",
    "              annotation_text=\"decline\", annotation_position=\"top left\",\n",
    "              fillcolor=\"green\", opacity=0.25, line_width=0)\n",
    "fig.show()"
   ]
  },
  {
   "cell_type": "markdown",
   "id": "9add8180",
   "metadata": {},
   "source": [
    "Extra formatting of the annotation can be done using magic-underscores prefixed by `annotation_` or by passing a `dict` or `go.layout.Annotation` instance to the `annotation` argument:"
   ]
  },
  {
   "cell_type": "code",
   "execution_count": null,
   "id": "35b5c432",
   "metadata": {},
   "outputs": [],
   "source": [
    "import plotly.express as px\n",
    "\n",
    "df = px.data.stocks(indexed=True)\n",
    "fig = px.line(df)\n",
    "fig.add_hline(y=1, line_dash=\"dot\",\n",
    "              annotation_text=\"Jan 1, 2018 baseline\", \n",
    "              annotation_position=\"bottom right\",\n",
    "              annotation_font_size=20,\n",
    "              annotation_font_color=\"blue\"\n",
    "             )\n",
    "fig.add_vrect(x0=\"2018-09-24\", x1=\"2018-12-18\", \n",
    "              annotation_text=\"decline\", annotation_position=\"top left\",\n",
    "              annotation=dict(font_size=20, font_family=\"Times New Roman\"),\n",
    "              fillcolor=\"green\", opacity=0.25, line_width=0)\n",
    "fig.show()"
   ]
  },
  {
   "cell_type": "markdown",
   "id": "f9789ca1",
   "metadata": {
    "lines_to_next_cell": 0
   },
   "source": [
    "#### Adding to Multiple Facets / Subplots\n",
    "\n",
    "The same line or box can be added to multiple [subplots](/python/subplots/) or [facets](/python/facet-plots/) by setting the `row` and/or `col` to `\"all\"`. The default `row` and `col` values are `\"all\"`."
   ]
  },
  {
   "cell_type": "code",
   "execution_count": null,
   "id": "4f030150",
   "metadata": {
    "lines_to_next_cell": 0
   },
   "outputs": [],
   "source": [
    "import plotly.express as px\n",
    "\n",
    "df = px.data.stocks(indexed=True)\n",
    "fig = px.line(df, facet_col=\"company\", facet_col_wrap=2)\n",
    "fig.add_hline(y=1, line_dash=\"dot\", row=3, col=\"all\",\n",
    "              annotation_text=\"Jan 1, 2018 baseline\", \n",
    "              annotation_position=\"bottom right\")\n",
    "fig.add_vrect(x0=\"2018-09-24\", x1=\"2018-12-18\", row=\"all\", col=1,\n",
    "              annotation_text=\"decline\", annotation_position=\"top left\",\n",
    "              fillcolor=\"green\", opacity=0.25, line_width=0)\n",
    "fig.show()"
   ]
  },
  {
   "cell_type": "markdown",
   "id": "f95d164a",
   "metadata": {},
   "source": [
    "#### Text Labels on Shapes\n",
    "\n",
    "*New in 5.14*\n",
    "\n",
    "[Text labels on shapes](/python/shapes/#addingtextlabelstoshapes), introduced in version 5.14, is now the recommended way to add text to shapes. The above examples using `add_hline`, `add_vrect`, `add_hrect`, and `add_vline` that add annotations can be rewritten to use `label`."
   ]
  },
  {
   "cell_type": "code",
   "execution_count": null,
   "id": "ac1836c6",
   "metadata": {},
   "outputs": [],
   "source": [
    "import plotly.express as px\n",
    "\n",
    "df = px.data.stocks(indexed=True)\n",
    "fig = px.line(df)\n",
    "fig.add_hline(\n",
    "    y=1,\n",
    "    line_dash=\"dot\",\n",
    "    label=dict(\n",
    "        text=\"Jan 1 2018 Baseline\",\n",
    "        textposition=\"end\",\n",
    "        font=dict(size=20, color=\"blue\"),\n",
    "        yanchor=\"top\",\n",
    "    ),\n",
    ")\n",
    "fig.add_vrect(\n",
    "    x0=\"2018-09-24\",\n",
    "    x1=\"2018-12-18\",\n",
    "    label=dict(\n",
    "        text=\"Decline\",\n",
    "        textposition=\"top center\",\n",
    "        font=dict(size=20, family=\"Times New Roman\"),\n",
    "    ),\n",
    "    fillcolor=\"green\",\n",
    "    opacity=0.25,\n",
    "    line_width=0,\n",
    ")\n",
    "fig.show()\n"
   ]
  },
  {
   "cell_type": "markdown",
   "id": "c7873aba",
   "metadata": {},
   "source": [
    "With [text labels on shapes](/python/shapes/#adding-text-labels-to-shapes), you can also add text labels to shapes other than lines and rectangles, and the labels can be added automatically to shapes drawn by the user. "
   ]
  },
  {
   "cell_type": "markdown",
   "id": "a9ea9897",
   "metadata": {},
   "source": [
    "### Reference\n",
    "\n",
    "More details are available about [layout shapes](/python/shapes/) and [annotations](/python/text-and-annotations). \n",
    "\n",
    "Reference documentation is also available for [`add_hline`](https://plotly.com/python-api-reference/generated/plotly.graph_objects.Figure.html?highlight=add_hline#plotly.graph_objects.Figure.add_hline), [`add_vline`](https://plotly.com/python-api-reference/generated/plotly.graph_objects.Figure.html?highlight=add_vline#plotly.graph_objects.Figure.add_vline), [`add_hrect`](https://plotly.com/python-api-reference/generated/plotly.graph_objects.Figure.html?highlight=add_hrect#plotly.graph_objects.Figure.add_hrect), [`add_vrect`](https://plotly.com/python-api-reference/generated/plotly.graph_objects.Figure.html?highlight=add_vrect#plotly.graph_objects.Figure.add_vrect).\n"
   ]
  },
  {
   "cell_type": "markdown",
   "id": "fb918cb1",
   "metadata": {},
   "source": [
    "### What About Dash?\n",
    "\n",
    "[Dash](https://dash.plot.ly/) is an open-source framework for building analytical applications, with no Javascript required, and it is tightly integrated with the Plotly graphing library.\n",
    "\n",
    "Learn about how to install Dash at https://dash.plot.ly/installation.\n",
    "\n",
    "Everywhere in this page that you see `fig.show()`, you can display the same figure in a Dash application by passing it to the `figure` argument of the [`Graph` component](https://dash.plot.ly/dash-core-components/graph) from the built-in `dash_core_components` package like this:\n",
    "\n",
    "```python\n",
    "import plotly.graph_objects as go # or plotly.express as px\n",
    "fig = go.Figure() # or any Plotly Express function e.g. px.bar(...)\n",
    "# fig.add_trace( ... )\n",
    "# fig.update_layout( ... )\n",
    "\n",
    "from dash import Dash, dcc, html\n",
    "\n",
    "app = Dash()\n",
    "app.layout = html.Div([\n",
    "    dcc.Graph(figure=fig)\n",
    "])\n",
    "\n",
    "app.run_server(debug=True, use_reloader=False)  # Turn off reloader if inside Jupyter\n",
    "```"
   ]
  }
 ],
 "metadata": {
  "jupytext": {
   "notebook_metadata_filter": "all"
  },
  "kernelspec": {
   "display_name": "Python 3",
   "language": "python",
   "name": "python3"
  },
  "language_info": {
   "codemirror_mode": {
    "name": "ipython",
    "version": 3
   },
   "file_extension": ".py",
   "mimetype": "text/x-python",
   "name": "python",
   "nbconvert_exporter": "python",
   "pygments_lexer": "ipython3",
   "version": "3.8.8"
  },
  "plotly": {
   "description": "How to add annotated horizontal and vertical lines in Python.",
   "display_as": "file_settings",
   "language": "python",
   "layout": "base",
   "name": "Horizontal and Vertical Lines and Rectangles",
   "order": 37,
   "permalink": "python/horizontal-vertical-shapes/",
   "thumbnail": "thumbnail/shape.jpg"
  }
 },
 "nbformat": 4,
 "nbformat_minor": 5
}
