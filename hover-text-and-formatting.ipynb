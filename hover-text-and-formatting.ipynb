{
 "cells": [
  {
   "cell_type": "markdown",
   "id": "927427d5",
   "metadata": {},
   "source": [
    "### Hover Labels\n",
    "\n",
    "One of the most deceptively-powerful features of interactive visualization using Plotly is the ability for the user to reveal more information about a data point by moving their mouse cursor over the point and having a hover label appear.\n",
    "\n",
    "There are three hover modes available in Plotly. The default setting is `layout.hovermode='closest'`, wherein a single hover label appears for the point directly underneath the cursor.\n",
    "\n",
    "#### Hovermode `closest` (default mode)"
   ]
  },
  {
   "cell_type": "code",
   "execution_count": null,
   "id": "6ba23ceb",
   "metadata": {},
   "outputs": [],
   "source": [
    "import plotly.express as px\n",
    "\n",
    "df = px.data.gapminder().query(\"continent=='Oceania'\")\n",
    "\n",
    "fig = px.line(df, x=\"year\", y=\"lifeExp\", color=\"country\", title=\"layout.hovermode='closest' (the default)\")\n",
    "fig.update_traces(mode=\"markers+lines\")\n",
    "\n",
    "fig.show()"
   ]
  },
  {
   "cell_type": "markdown",
   "id": "c678e463",
   "metadata": {},
   "source": [
    "#### Hovermode `x` or `y`\n",
    "\n",
    "If `layout.hovermode='x'` (or `'y'`), a single hover label appears per trace, for points at the same `x` (or `y`) value as the cursor. If multiple points in a given trace exist at the same coordinate, only one will get a hover label. In the line plot below we have forced markers to appear, to make it clearer what can be hovered over, and we have disabled the built-in Plotly Express `hovertemplate` by setting it to `None`, resulting in a more compact hover label per point:"
   ]
  },
  {
   "cell_type": "code",
   "execution_count": null,
   "id": "19ff1b4f",
   "metadata": {},
   "outputs": [],
   "source": [
    "import plotly.express as px\n",
    "\n",
    "df = px.data.gapminder().query(\"continent=='Oceania'\")\n",
    "\n",
    "fig = px.line(df, x=\"year\", y=\"lifeExp\", color=\"country\", title=\"layout.hovermode='x'\")\n",
    "fig.update_traces(mode=\"markers+lines\", hovertemplate=None)\n",
    "fig.update_layout(hovermode=\"x\")\n",
    "\n",
    "fig.show()"
   ]
  },
  {
   "cell_type": "markdown",
   "id": "a7d5117f",
   "metadata": {},
   "source": [
    "#### Unified hovermode\n",
    "\n",
    "If `layout.hovermode='x unified'` (or `'y unified'`), a single hover label appear, describing one point per trace, for points at the same `x` (or `y`) value as the cursor.  If multiple points in a given trace exist at the same coordinate, only one will get an entry in the hover label. In the line plot below we have forced markers to appear, to make it clearer what can be hovered over, and we have disabled the built-in Plotly Express `hovertemplate` by setting it to `None`, resulting in a more compact entry per point in the hover label:"
   ]
  },
  {
   "cell_type": "code",
   "execution_count": null,
   "id": "bfc51adf",
   "metadata": {},
   "outputs": [],
   "source": [
    "import plotly.express as px\n",
    "\n",
    "df = px.data.gapminder().query(\"continent=='Oceania'\")\n",
    "\n",
    "fig = px.line(df, x=\"year\", y=\"lifeExp\", color=\"country\", title=\"layout.hovermode='x unified'\")\n",
    "fig.update_traces(mode=\"markers+lines\", hovertemplate=None)\n",
    "fig.update_layout(hovermode=\"x unified\")\n",
    "\n",
    "fig.show()"
   ]
  },
  {
   "cell_type": "markdown",
   "id": "ea33c138",
   "metadata": {},
   "source": [
    "#### Control hovermode with Dash\n",
    "\n",
    "[Dash](https://plotly.com/dash/) is the best way to build analytical apps in Python using Plotly figures. To run the app below, run `pip install dash`, click \"Download\" to get the code and run `python app.py`.\n",
    "\n",
    "Get started  with [the official Dash docs](https://dash.plotly.com/installation) and **learn how to effortlessly [style](https://plotly.com/dash/design-kit/) & [deploy](https://plotly.com/dash/app-manager/) apps like this with <a class=\"plotly-red\" href=\"https://plotly.com/dash/\">Dash Enterprise</a>.**\n",
    "\n",
    "Change the hovermode below and try hovering over the points:"
   ]
  },
  {
   "cell_type": "code",
   "execution_count": null,
   "id": "c18b88fe",
   "metadata": {
    "hide_code": true
   },
   "outputs": [],
   "source": [
    "from IPython.display import IFrame\n",
    "snippet_url = 'https://python-docs-dash-snippets.herokuapp.com/python-docs-dash-snippets/'\n",
    "IFrame(snippet_url + 'hover-text-and-formatting', width='100%', height=1200)"
   ]
  },
  {
   "cell_type": "markdown",
   "id": "936d490e",
   "metadata": {},
   "source": [
    "<div style=\"font-size: 0.9em;\"><div style=\"width: calc(100% - 30px); box-shadow: none; border: thin solid rgb(229, 229, 229);\"><div style=\"padding: 5px;\"><div><p><strong>Sign up for Dash Club</strong> → Free cheat sheets plus updates from Chris Parmer and Adam Schroeder delivered to your inbox every two months. Includes tips and tricks, community apps, and deep dives into the Dash architecture.\n",
    "<u><a href=\"https://go.plotly.com/dash-club?utm_source=Dash+Club+2022&utm_medium=graphing_libraries&utm_content=inline\">Join now</a></u>.</p></div></div></div></div>"
   ]
  },
  {
   "cell_type": "markdown",
   "id": "5249dcdc",
   "metadata": {},
   "source": [
    "#### Selecting a hovermode in a figure created with `plotly.graph_objects`\n",
    "\n",
    "The hovermode is a property of the figure layout, so you can select a hovermode no matter how you created the figure, either with `plotly.express` or with `plotly.graph_objects`. Below is an example with a figure created with `plotly.graph_objects`. If you're not familiar with the structure of plotly figures, you can read [the tutorial on creating and updating plotly figures](/python/creating-and-updating-figures/)."
   ]
  },
  {
   "cell_type": "code",
   "execution_count": null,
   "id": "3efcc0a8",
   "metadata": {},
   "outputs": [],
   "source": [
    "import plotly.graph_objects as go\n",
    "import numpy as np\n",
    "t = np.linspace(0, 2 * np.pi, 100)\n",
    "fig = go.Figure()\n",
    "fig.add_trace(go.Scatter(x=t, y=np.sin(t), name='sin(t)'))\n",
    "fig.add_trace(go.Scatter(x=t, y=np.cos(t), name='cost(t)'))\n",
    "fig.update_layout(hovermode='x unified')\n",
    "fig.show()"
   ]
  },
  {
   "cell_type": "markdown",
   "id": "be82452f",
   "metadata": {},
   "source": [
    "#### Hover on Subplots\n",
    "\n",
    "*New in 5.21*\n",
    "\n",
    "Use `hoversubplots` to define how hover effects expand to additional subplots. With `hoversubplots=axis`, hover effects are included on stacked subplots using the same axis when `hovermode` is set to `x`, `x unified`, `y`, or `y unified`."
   ]
  },
  {
   "cell_type": "code",
   "execution_count": null,
   "id": "29fb45a8",
   "metadata": {},
   "outputs": [],
   "source": [
    "import plotly.graph_objects as go\n",
    "import pandas as pd\n",
    "from plotly import data\n",
    "\n",
    "df = data.stocks()\n",
    "\n",
    "layout = dict(\n",
    "    hoversubplots=\"axis\",\n",
    "    title=dict(text=\"Stock Price Changes\"),\n",
    "    hovermode=\"x\",\n",
    "    grid=dict(rows=3, columns=1),\n",
    ")\n",
    "\n",
    "data = [\n",
    "    go.Scatter(x=df[\"date\"], y=df[\"AAPL\"], xaxis=\"x\", yaxis=\"y\", name=\"Apple\"),\n",
    "    go.Scatter(x=df[\"date\"], y=df[\"GOOG\"], xaxis=\"x\", yaxis=\"y2\", name=\"Google\"),\n",
    "    go.Scatter(x=df[\"date\"], y=df[\"AMZN\"], xaxis=\"x\", yaxis=\"y3\", name=\"Amazon\"),\n",
    "]\n",
    "\n",
    "fig = go.Figure(data=data, layout=layout)\n",
    "\n",
    "fig.show()"
   ]
  },
  {
   "cell_type": "markdown",
   "id": "297368a7",
   "metadata": {},
   "source": [
    "### Customizing Hover Label Appearance\n",
    "\n",
    "Hover label text and colors default to trace colors in hover modes other than `unified`, and can be globally set via the `layout.hoverlabel` attributes. Hover label appearance can also be controlled per trace in `<trace>.hoverlabel`."
   ]
  },
  {
   "cell_type": "code",
   "execution_count": null,
   "id": "28d683a2",
   "metadata": {},
   "outputs": [],
   "source": [
    "import plotly.express as px\n",
    "\n",
    "df = px.data.gapminder().query(\"continent=='Oceania'\")\n",
    "\n",
    "fig = px.line(df, x=\"year\", y=\"lifeExp\", color=\"country\", title=\"Custom layout.hoverlabel formatting\")\n",
    "fig.update_traces(mode=\"markers+lines\")\n",
    "\n",
    "fig.update_layout(\n",
    "    hoverlabel=dict(\n",
    "        bgcolor=\"white\",\n",
    "        font_size=16,\n",
    "        font_family=\"Rockwell\"\n",
    "    )\n",
    ")\n",
    "\n",
    "fig.show()"
   ]
  },
  {
   "cell_type": "markdown",
   "id": "c840fcdb",
   "metadata": {},
   "source": [
    "### Customizing Hover text with Plotly Express\n",
    "\n",
    "Plotly Express functions automatically add all the data being plotted (x, y, color etc) to the hover label. Many Plotly Express functions also support configurable hover text. The `hover_data` argument accepts a list of column names to be added to the hover tooltip, or a dictionary for advanced formatting (see the next section). The `hover_name` property controls which column is displayed in bold as the tooltip title.\n",
    "\n",
    "Here is an example that creates a scatter plot using Plotly Express with custom hover data and a custom hover name."
   ]
  },
  {
   "cell_type": "code",
   "execution_count": null,
   "id": "cd54b802",
   "metadata": {},
   "outputs": [],
   "source": [
    "import plotly.express as px\n",
    "\n",
    "df_2007 = px.data.gapminder().query(\"year==2007\")\n",
    "\n",
    "fig = px.scatter(df_2007, x=\"gdpPercap\", y=\"lifeExp\", log_x=True,\n",
    "                 hover_name=\"country\", hover_data=[\"continent\", \"pop\"])\n",
    "\n",
    "fig.show()"
   ]
  },
  {
   "cell_type": "markdown",
   "id": "dbe73520",
   "metadata": {},
   "source": [
    "### Disabling or customizing hover of columns in plotly express\n",
    "\n",
    "`hover_data` can also be a dictionary. Its keys are existing columns of the `dataframe` argument, or new labels. For an existing column, the values can be\n",
    "* `False` to remove the column from the hover data (for example, if one wishes to remove the column of the `x` argument)\n",
    "* `True` to add a different column, with default formatting\n",
    "* a formatting string starting with `:` for numbers [d3-format's syntax](https://github.com/d3/d3-3.x-api-reference/blob/master/Formatting.md#d3_forma), and `|` for dates in [d3-time-format's syntax](https://github.com/d3/d3-time-format), for example `:.3f`, `|%a`.\n",
    "\n",
    "It is also possible to pass new data as values of the `hover_data` dict, either as list-like data, or inside a tuple, which first element is one of the possible values described above for existing columns, and the second element correspond to the list-like data, for example `(True, [1, 2, 3])` or `(':.1f', [1.54, 2.345])`.\n",
    "\n",
    "These different cases are illustrated in the following example."
   ]
  },
  {
   "cell_type": "code",
   "execution_count": null,
   "id": "143a7fdd",
   "metadata": {},
   "outputs": [],
   "source": [
    "import plotly.express as px\n",
    "import numpy as np\n",
    "df = px.data.iris()\n",
    "fig = px.scatter(df, x='petal_length', y='sepal_length', facet_col='species', color='species',\n",
    "                 hover_data={'species':False, # remove species from hover data\n",
    "                             'sepal_length':':.2f', # customize hover for column of y attribute\n",
    "                             'petal_width':True, # add other column, default formatting\n",
    "                             'sepal_width':':.2f', # add other column, customized formatting\n",
    "                             # data not in dataframe, default formatting\n",
    "                             'suppl_1': np.random.random(len(df)),\n",
    "                             # data not in dataframe, customized formatting\n",
    "                             'suppl_2': (':.3f', np.random.random(len(df)))\n",
    "                            })\n",
    "fig.update_layout(height=300)\n",
    "fig.show()"
   ]
  },
  {
   "cell_type": "markdown",
   "id": "7ab88ae3",
   "metadata": {},
   "source": [
    "### Customizing hover text with a hovertemplate\n",
    "\n",
    "To customize the tooltip on your graph you can use the [hovertemplate](https://plotly.com/python/reference/pie/#pie-hovertemplate) attribute of `graph_objects` traces, which is a template string used for rendering the information that appear on hoverbox.\n",
    "This template string can include `variables` in %{variable} format, `numbers` in [d3-format's syntax](https://github.com/d3/d3-3.x-api-reference/blob/master/Formatting.md#d3_format), and `date` in [d3-time-format's syntax](https://github.com/d3/d3-time-format). In the example below, the empty `<extra></extra>` tag removes the part of the hover where the trace name is usually displayed in a contrasting color. The `<extra>` tag can be used to display other parts of the hovertemplate, it is not reserved for the trace name.\n",
    "\n",
    "Note that a hovertemplate customizes the tooltip text, while a [texttemplate](https://plotly.com/python/reference/pie/#pie-texttemplate) customizes the text that appears on your chart. <br>\n",
    "\n",
    "Set the horizontal alignment of the text within tooltip with [hoverlabel.align](https://plotly.com/python/reference/layout/#layout-hoverlabel-align)."
   ]
  },
  {
   "cell_type": "code",
   "execution_count": null,
   "id": "9bd14ca7",
   "metadata": {},
   "outputs": [],
   "source": [
    "import plotly.graph_objects as go\n",
    "\n",
    "fig = go.Figure(go.Scatter(\n",
    "    x = [1,2,3,4,5],\n",
    "    y = [2.02825,1.63728,6.83839,4.8485,4.73463],\n",
    "    hovertemplate =\n",
    "    '<i>Price</i>: $%{y:.2f}'+\n",
    "    '<br><b>X</b>: %{x}<br>'+\n",
    "    '<b>%{text}</b>',\n",
    "    text = ['Custom text {}'.format(i + 1) for i in range(5)],\n",
    "    showlegend = False))\n",
    "\n",
    "fig.add_trace(go.Scatter(\n",
    "    x = [1,2,3,4,5],\n",
    "    y = [3.02825,2.63728,4.83839,3.8485,1.73463],\n",
    "    hovertemplate = 'Price: %{y:$.2f}<extra></extra>',\n",
    "    showlegend = False))\n",
    "\n",
    "fig.update_layout(\n",
    "    hoverlabel_align = 'right',\n",
    "    title = \"Set hover text with hovertemplate\")\n",
    "\n",
    "fig.show()"
   ]
  },
  {
   "cell_type": "code",
   "execution_count": null,
   "id": "5c169d71",
   "metadata": {},
   "outputs": [],
   "source": [
    "import plotly.graph_objects as go\n",
    "\n",
    "fig = go.Figure(go.Pie(\n",
    "    name = \"\",\n",
    "    values = [2, 5, 3, 2.5],\n",
    "    labels = [\"R\", \"Python\", \"Java Script\", \"Matlab\"],\n",
    "    text = [\"textA\", \"TextB\", \"TextC\", \"TextD\"],\n",
    "    hovertemplate = \"%{label}: <br>Popularity: %{percent} </br> %{text}\"\n",
    "))\n",
    "\n",
    "fig.show()"
   ]
  },
  {
   "cell_type": "markdown",
   "id": "b13b8e6c",
   "metadata": {},
   "source": [
    "### Modifying the hovertemplate of a plotly express figure\n",
    "\n",
    "`plotly.express` automatically sets the hovertemplate but you can modify it using the `update_traces` method of the generated figure. It helps to print the hovertemplate generated by `plotly.express` in order to be able to modify it. One can also revert to the default hover information of traces by setting the hovertemplate to `None`."
   ]
  },
  {
   "cell_type": "code",
   "execution_count": null,
   "id": "28fd9553",
   "metadata": {},
   "outputs": [],
   "source": [
    "import plotly.express as px\n",
    "\n",
    "df_2007 = px.data.gapminder().query(\"year==2007\")\n",
    "\n",
    "fig = px.scatter(df_2007, x=\"gdpPercap\", y=\"lifeExp\", log_x=True, color='continent'\n",
    "                )\n",
    "print(\"plotly express hovertemplate:\", fig.data[0].hovertemplate)\n",
    "fig.update_traces(hovertemplate='GDP: %{x} <br>Life Expectancy: %{y}') #\n",
    "fig.update_traces(hovertemplate=None, selector={'name':'Europe'}) # revert to default hover\n",
    "print(\"user_defined hovertemplate:\", fig.data[0].hovertemplate)\n",
    "fig.show()"
   ]
  },
  {
   "cell_type": "markdown",
   "id": "769eba07",
   "metadata": {},
   "source": [
    "### Specifying the formatting and labeling of custom fields in a Plotly Express figure using a hovertemplate\n",
    "\n",
    "This example adds custom fields to a Plotly Express figure using the `custom_data` parameter and then adds a hover template that applies d3 formats to each element of the `customdata[n]` array and uses HTML to customize the fonts and spacing."
   ]
  },
  {
   "cell_type": "code",
   "execution_count": null,
   "id": "10a9fb1d",
   "metadata": {
    "lines_to_next_cell": 2
   },
   "outputs": [],
   "source": [
    "# %%\n",
    "import plotly.graph_objects as go\n",
    "import plotly.express as px\n",
    "import pandas as pd\n",
    "import math\n",
    "import numpy as np\n",
    "\n",
    "data = px.data.gapminder()\n",
    "df = data[data['year']==2007]\n",
    "df = df.sort_values(['continent', 'country'])\n",
    "\n",
    "df.rename(columns={\"gdpPercap\":'GDP per capita', \"lifeExp\":'Life Expectancy (years)'}, inplace=True)\n",
    "\n",
    "fig=px.scatter(df,\n",
    "               x='GDP per capita',\n",
    "               y='Life Expectancy (years)',\n",
    "               color='continent',\n",
    "               size=np.sqrt(df['pop']),\n",
    "               # Specifying data to make available to the hovertemplate\n",
    "               # The px custom_data parameter has an underscore, while the analogous graph objects customdata parameter has no underscore.\n",
    "               # The px custom_data parameter is a list of column names in the data frame, while the graph objects customdata parameter expects a data frame or a numpy array.\n",
    "               custom_data=['country', 'continent', 'pop'],\n",
    ")\n",
    "\n",
    "# Plotly express does not have a hovertemplate parameter in the graph creation function, so we apply the template with update_traces\n",
    "fig.update_traces(\n",
    "    hovertemplate =\n",
    "                \"<b>%{customdata[0]}</b><br>\" +\n",
    "                \"<b>%{customdata[1]}</b><br><br>\" +\n",
    "                \"GDP per Capita: %{x:$,.0f}<br>\" +\n",
    "                \"Life Expectation: %{y:.0f}<br>\" +\n",
    "                \"Population: %{customdata[2]:,.0f}\" +\n",
    "                \"<extra></extra>\",\n",
    "    mode='markers',\n",
    "    marker={'sizemode':'area',\n",
    "            'sizeref':10},\n",
    ")\n",
    "\n",
    "fig.update_layout(\n",
    "        xaxis={\n",
    "            'type':'log'},\n",
    "        )\n",
    "\n",
    "fig.show()"
   ]
  },
  {
   "cell_type": "markdown",
   "id": "e8f36d29",
   "metadata": {},
   "source": [
    "### Hover Templates with Mixtures of Period data\n",
    "\n",
    "*New in v5.0*\n",
    "\n",
    "When [displaying periodic data](https://plotly.com/python/time-series/#displaying-period-data) with mixed-sized periods (i.e. quarterly and monthly) in conjunction with `x` or `x unified` hovermodes and using `hovertemplate`, the `xhoverformat` attribute can be used to control how each period's X value is displayed, and the special `%{xother}` hover-template directive can be used to control how the X value is displayed for points that do not share the exact X coordinate with the point that is being hovered on. `%{xother}` will return an empty string when the X value is the one being hovered on, otherwise it will return `(%{x})`. The special `%{_xother}`, `%{xother_}` and `%{_xother_}` variations will display with spaces before, after or around the parentheses, respectively."
   ]
  },
  {
   "cell_type": "code",
   "execution_count": null,
   "id": "89482b3f",
   "metadata": {},
   "outputs": [],
   "source": [
    "import plotly.graph_objects as go\n",
    "\n",
    "fig = go.Figure()\n",
    "\n",
    "fig.add_trace(go.Bar(\n",
    "    x=[\"2020-01-01\", \"2020-04-01\", \"2020-07-01\"],\n",
    "    y=[1000, 1500, 1700],\n",
    "    xperiod=\"M3\",\n",
    "    xperiodalignment=\"middle\",\n",
    "    xhoverformat=\"Q%q\",\n",
    "    hovertemplate=\"%{y}%{_xother}\"\n",
    "))\n",
    "\n",
    "fig.add_trace(go.Scatter(\n",
    "    x=[\"2020-01-01\", \"2020-02-01\", \"2020-03-01\",\n",
    "      \"2020-04-01\", \"2020-05-01\", \"2020-06-01\",\n",
    "      \"2020-07-01\", \"2020-08-01\", \"2020-09-01\"],\n",
    "    y=[1100,1050,1200,1300,1400,1700,1500,1400,1600],\n",
    "    xperiod=\"M1\",\n",
    "    xperiodalignment=\"middle\",\n",
    "    hovertemplate=\"%{y}%{_xother}\"\n",
    "))\n",
    "\n",
    "fig.update_layout(hovermode=\"x unified\")\n",
    "fig.show()"
   ]
  },
  {
   "cell_type": "markdown",
   "id": "10de55b0",
   "metadata": {},
   "source": [
    "### Advanced Hover Template\n",
    "\n",
    "This produces the same graphic as in \"Specifying the formatting and labeling of custom fields in a Plotly Express figure using a hovertemplate\" above, but does so with the `customdata` and `text` parameters of `graph_objects`.  It shows how to specify columns from a dataframe to include in the `customdata` array using the `df[[\"col_i\", \"col_j\"]]` subsetting notation.  It then references those variables using e.g. `%{customdata[0]}` in the hovertemplate.  It includes comments about major differences between the parameters used by `graph_objects` and `plotly.express`."
   ]
  },
  {
   "cell_type": "code",
   "execution_count": null,
   "id": "87f6eac4",
   "metadata": {},
   "outputs": [],
   "source": [
    "import plotly.graph_objects as go\n",
    "import plotly.express as px\n",
    "import pandas as pd\n",
    "import math\n",
    "\n",
    "data = px.data.gapminder()\n",
    "df_2007 = data[data['year']==2007]\n",
    "df_2007 = df_2007.sort_values(['continent', 'country'])\n",
    "\n",
    "bubble_size = []\n",
    "\n",
    "for index, row in df_2007.iterrows():\n",
    "    bubble_size.append(math.sqrt(row['pop']))\n",
    "\n",
    "df_2007['size'] = bubble_size\n",
    "continent_names = ['Africa', 'Americas', 'Asia', 'Europe', 'Oceania']\n",
    "continent_data = {continent:df_2007.query(\"continent == '%s'\" %continent)\n",
    "                              for continent in continent_names}\n",
    "\n",
    "fig = go.Figure()\n",
    "\n",
    "for continent_name, df in continent_data.items():\n",
    "    fig.add_trace(\n",
    "        go.Scatter(\n",
    "            x=df['gdpPercap'],\n",
    "            y=df['lifeExp'],\n",
    "            marker_size=df['size'],\n",
    "            text=df['continent'],\n",
    "            name=continent_name,\n",
    "\n",
    "            # The next three parameters specify the hover text\n",
    "            # Text supports just one customized field per trace\n",
    "            # and is implemented here with text=df['continent'],\n",
    "            # Custom data supports multiple fields through numeric indices in the hovertemplate\n",
    "            # In we weren't using the text parameter in our example,\n",
    "            # we could instead add continent as a third customdata field.\n",
    "            customdata=df[['country','pop']],\n",
    "            hovertemplate=\n",
    "                \"<b>%{customdata[0]}</b><br>\" +\n",
    "                \"<b>%{text}</b><br><br>\" +\n",
    "                \"GDP per Capita: %{x:$,.0f}<br>\" +\n",
    "                \"Life Expectancy: %{y:.0f}<br>\" +\n",
    "                \"Population: %{customdata[1]:,.0f}\" +\n",
    "                \"<extra></extra>\",\n",
    "        ))\n",
    "\n",
    "\n",
    "fig.update_traces(\n",
    "    mode='markers',\n",
    "    marker={'sizemode':'area',\n",
    "            'sizeref':10})\n",
    "\n",
    "fig.update_layout(\n",
    "    xaxis={\n",
    "        'title':'GDP per capita',\n",
    "        'type':'log'},\n",
    "    yaxis={'title':'Life Expectancy (years)'})\n",
    "\n",
    "fig.show()"
   ]
  },
  {
   "cell_type": "markdown",
   "id": "992548cb",
   "metadata": {},
   "source": [
    "### Adding other data to the hover with customdata and a hovertemplate\n",
    "\n",
    "`go` traces have a `customdata` argument in which you can add an array, which outer dimensions should have the same dimensions as the plotted data. You can then use `customdata` inside a `hovertemplate` to display the value of customdata."
   ]
  },
  {
   "cell_type": "code",
   "execution_count": null,
   "id": "227ab59f",
   "metadata": {},
   "outputs": [],
   "source": [
    "import plotly.graph_objects as go\n",
    "from plotly.subplots import make_subplots\n",
    "import numpy as np\n",
    "np.random.seed(0)\n",
    "z1, z2, z3 = np.random.random((3, 7, 7))\n",
    "customdata = np.dstack((z2, z3))\n",
    "fig = make_subplots(1, 2, subplot_titles=['z1', 'z2'])\n",
    "fig.add_trace(go.Heatmap(\n",
    "    z=z1,\n",
    "    customdata=np.dstack((z2, z3)),\n",
    "    hovertemplate='<b>z1:%{z:.3f}</b><br>z2:%{customdata[0]:.3f} <br>z3: %{customdata[1]:.3f} ',\n",
    "    coloraxis=\"coloraxis1\", name=''),\n",
    "    1, 1)\n",
    "fig.add_trace(go.Heatmap(\n",
    "    z=z2,\n",
    "    customdata=np.dstack((z1, z3)),\n",
    "    hovertemplate='z1:%{customdata[0]:.3f} <br><b>z2:%{z:.3f}</b><br>z3: %{customdata[1]:.3f} ',\n",
    "    coloraxis=\"coloraxis1\", name=''),\n",
    "    1, 2)\n",
    "fig.update_layout(title_text='Hover to see the value of z1, z2 and z3 together')\n",
    "fig.show()"
   ]
  },
  {
   "cell_type": "markdown",
   "id": "eafeb530",
   "metadata": {},
   "source": [
    "### Setting the Hover Template in Tile Maps"
   ]
  },
  {
   "cell_type": "code",
   "execution_count": null,
   "id": "16f42cea",
   "metadata": {},
   "outputs": [],
   "source": [
    "import plotly.graph_objects as go\n",
    "\n",
    "fig = go.Figure(go.Scattermap(\n",
    "    name = \"\",\n",
    "    mode = \"markers+text+lines\",\n",
    "    lon = [-75, -80, -50],\n",
    "    lat = [45, 20, -20],\n",
    "    marker = {'size': 20, 'symbol': [\"bus\", \"harbor\", \"airport\"]},\n",
    "    hovertemplate =\n",
    "    \"<b>%{marker.symbol} </b><br><br>\" +\n",
    "    \"longitude: %{lon}<br>\" +\n",
    "    \"latitude: %{lat}<br>\" ))\n",
    "\n",
    "fig.update_layout(\n",
    "    map = {\n",
    "        'style': \"outdoors\", 'zoom': 1},\n",
    "    showlegend = False)\n",
    "\n",
    "fig.show()"
   ]
  },
  {
   "cell_type": "markdown",
   "id": "d5dd12f3",
   "metadata": {},
   "source": [
    "### Controlling Hover Text with `graph_objects` and `hoverinfo`\n",
    "\n",
    "Prior to the addition of `hovertemplate`, hover text was controlled via the now-deprecated `hoverinfo` attribute."
   ]
  },
  {
   "cell_type": "code",
   "execution_count": null,
   "id": "2b9eb804",
   "metadata": {},
   "outputs": [],
   "source": [
    "import plotly.graph_objects as go\n",
    "\n",
    "fig = go.Figure()\n",
    "\n",
    "fig.add_trace(go.Scatter(\n",
    "    x=[1, 2, 3, 4, 5],\n",
    "    y=[2, 1, 6, 4, 4],\n",
    "    hovertext=[\"Text A\", \"Text B\", \"Text C\", \"Text D\", \"Text E\"],\n",
    "    hoverinfo=\"text\",\n",
    "    marker=dict(\n",
    "        color=\"green\"\n",
    "    ),\n",
    "    showlegend=False\n",
    "))\n",
    "\n",
    "fig.show()"
   ]
  },
  {
   "cell_type": "markdown",
   "id": "ac79ee9b",
   "metadata": {},
   "source": [
    "### Spike lines\n",
    "\n",
    "Plotly supports \"spike lines\" which link a point to the axis on hover, and can be configured per axis."
   ]
  },
  {
   "cell_type": "code",
   "execution_count": null,
   "id": "21779090",
   "metadata": {},
   "outputs": [],
   "source": [
    "import plotly.express as px\n",
    "\n",
    "df = px.data.gapminder().query(\"continent=='Oceania'\")\n",
    "\n",
    "fig = px.line(df, x=\"year\", y=\"lifeExp\", color=\"country\", title=\"Spike lines active\")\n",
    "fig.update_traces(mode=\"markers+lines\")\n",
    "\n",
    "fig.update_xaxes(showspikes=True)\n",
    "fig.update_yaxes(showspikes=True)\n",
    "\n",
    "fig.show()"
   ]
  },
  {
   "cell_type": "markdown",
   "id": "5701a7b1",
   "metadata": {},
   "source": [
    "Spike lines can be styled per axis as well, and the cursor distance setting can be controlled via `layout.spikedistance`."
   ]
  },
  {
   "cell_type": "code",
   "execution_count": null,
   "id": "a6518401",
   "metadata": {},
   "outputs": [],
   "source": [
    "import plotly.express as px\n",
    "\n",
    "df = px.data.gapminder().query(\"continent=='Oceania'\")\n",
    "\n",
    "fig = px.line(df, x=\"year\", y=\"lifeExp\", color=\"country\", title=\"Styled Spike Lines\")\n",
    "fig.update_traces(mode=\"markers+lines\")\n",
    "\n",
    "fig.update_xaxes(showspikes=True, spikecolor=\"green\", spikesnap=\"cursor\", spikemode=\"across\")\n",
    "fig.update_yaxes(showspikes=True, spikecolor=\"orange\", spikethickness=2)\n",
    "fig.update_layout(spikedistance=1000, hoverdistance=100)\n",
    "\n",
    "fig.show()"
   ]
  },
  {
   "cell_type": "markdown",
   "id": "87277e69",
   "metadata": {},
   "source": [
    "#### Reference\n",
    "\n",
    "See https://plotly.com/python/reference/ for more information and chart attribute options!\n"
   ]
  },
  {
   "cell_type": "markdown",
   "id": "959db889",
   "metadata": {},
   "source": [
    "### What About Dash?\n",
    "\n",
    "[Dash](https://dash.plot.ly/) is an open-source framework for building analytical applications, with no Javascript required, and it is tightly integrated with the Plotly graphing library.\n",
    "\n",
    "Learn about how to install Dash at https://dash.plot.ly/installation.\n",
    "\n",
    "Everywhere in this page that you see `fig.show()`, you can display the same figure in a Dash application by passing it to the `figure` argument of the [`Graph` component](https://dash.plot.ly/dash-core-components/graph) from the built-in `dash_core_components` package like this:\n",
    "\n",
    "```python\n",
    "import plotly.graph_objects as go # or plotly.express as px\n",
    "fig = go.Figure() # or any Plotly Express function e.g. px.bar(...)\n",
    "# fig.add_trace( ... )\n",
    "# fig.update_layout( ... )\n",
    "\n",
    "from dash import Dash, dcc, html\n",
    "\n",
    "app = Dash()\n",
    "app.layout = html.Div([\n",
    "    dcc.Graph(figure=fig)\n",
    "])\n",
    "\n",
    "app.run_server(debug=True, use_reloader=False)  # Turn off reloader if inside Jupyter\n",
    "```"
   ]
  }
 ],
 "metadata": {
  "jupytext": {
   "notebook_metadata_filter": "all"
  },
  "kernelspec": {
   "display_name": "Python 3 (ipykernel)",
   "language": "python",
   "name": "python3"
  },
  "language_info": {
   "codemirror_mode": {
    "name": "ipython",
    "version": 3
   },
   "file_extension": ".py",
   "mimetype": "text/x-python",
   "name": "python",
   "nbconvert_exporter": "python",
   "pygments_lexer": "ipython3",
   "version": "3.10.11"
  },
  "plotly": {
   "description": "How to use hover text and formatting in Python with Plotly.",
   "display_as": "file_settings",
   "language": "python",
   "layout": "base",
   "name": "Hover Text and Formatting",
   "order": 23,
   "permalink": "python/hover-text-and-formatting/",
   "thumbnail": "thumbnail/hover-text.png"
  }
 },
 "nbformat": 4,
 "nbformat_minor": 5
}
