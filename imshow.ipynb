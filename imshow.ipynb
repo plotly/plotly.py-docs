{
 "cells": [
  {
   "cell_type": "markdown",
   "id": "3e9ecdbe",
   "metadata": {},
   "source": [
    "This tutorial shows how to display and explore image data. If you would like\n",
    "instead a logo or static image, use `go.layout.Image` as explained\n",
    "[here](/python/images).\n",
    "\n",
    "### Displaying RGB image data with px.imshow\n",
    "\n",
    "`px.imshow` displays multichannel (RGB) or single-channel (\"grayscale\") image data."
   ]
  },
  {
   "cell_type": "code",
   "execution_count": null,
   "id": "389d4e36",
   "metadata": {},
   "outputs": [],
   "source": [
    "import plotly.express as px\n",
    "import numpy as np\n",
    "img_rgb = np.array([[[255, 0, 0], [0, 255, 0], [0, 0, 255]],\n",
    "                    [[0, 255, 0], [0, 0, 255], [255, 0, 0]]\n",
    "                   ], dtype=np.uint8)\n",
    "fig = px.imshow(img_rgb)\n",
    "fig.show()"
   ]
  },
  {
   "cell_type": "markdown",
   "id": "e53e394d",
   "metadata": {},
   "source": [
    "### Read image arrays from image files\n",
    "\n",
    "In order to create a numerical array to be passed to `px.imshow`, you can use a third-party library like [PIL](https://pillow.readthedocs.io/en/stable/reference/Image.html#PIL.Image.open), [scikit-image](https://scikit-image.org/docs/dev/user_guide/getting_started.html) or [opencv](https://opencv-python-tutroals.readthedocs.io/en/latest/py_tutorials/py_gui/py_image_display/py_image_display.html). We show below how to open an image from a file with `skimage.io.imread`, and alternatively how to load a demo image from `skimage.data`."
   ]
  },
  {
   "cell_type": "code",
   "execution_count": null,
   "id": "01aed0c2",
   "metadata": {},
   "outputs": [],
   "source": [
    "import plotly.express as px\n",
    "from skimage import io\n",
    "img = io.imread('https://upload.wikimedia.org/wikipedia/commons/thumb/0/00/Crab_Nebula.jpg/240px-Crab_Nebula.jpg')\n",
    "fig = px.imshow(img)\n",
    "fig.show()"
   ]
  },
  {
   "cell_type": "code",
   "execution_count": null,
   "id": "08852c68",
   "metadata": {},
   "outputs": [],
   "source": [
    "import plotly.express as px\n",
    "from skimage import data\n",
    "img = data.astronaut()\n",
    "fig = px.imshow(img, binary_format=\"jpeg\", binary_compression_level=0)\n",
    "fig.show()"
   ]
  },
  {
   "cell_type": "markdown",
   "id": "7240bdd1",
   "metadata": {},
   "source": [
    "### Display single-channel 2D data as a heatmap\n",
    "\n",
    "For a 2D image, `px.imshow` uses a colorscale to map scalar data to colors. The default colorscale is the one of the active template (see [the tutorial on templates](/python/templates/))."
   ]
  },
  {
   "cell_type": "code",
   "execution_count": null,
   "id": "b4473a8d",
   "metadata": {},
   "outputs": [],
   "source": [
    "import plotly.express as px\n",
    "import numpy as np\n",
    "img = np.arange(15**2).reshape((15, 15))\n",
    "fig = px.imshow(img)\n",
    "fig.show()"
   ]
  },
  {
   "cell_type": "markdown",
   "id": "eac7a1c0",
   "metadata": {},
   "source": [
    "### Choose the colorscale to display a single-channel image\n",
    "\n",
    "You can customize the [continuous color scale](/python/colorscales/) just like with any other Plotly Express function. However, `color_continuous_scale` is ignored when using `binary_string=True`, since the image is always represented as grayscale (and no colorbar is displayed)."
   ]
  },
  {
   "cell_type": "code",
   "execution_count": null,
   "id": "64529a17",
   "metadata": {},
   "outputs": [],
   "source": [
    "import plotly.express as px\n",
    "import numpy as np\n",
    "img = np.arange(100).reshape((10, 10))\n",
    "fig = px.imshow(img, binary_string=True)\n",
    "fig.show()"
   ]
  },
  {
   "cell_type": "markdown",
   "id": "8bedc686",
   "metadata": {},
   "source": [
    "You can use this to make the image grayscale as well:"
   ]
  },
  {
   "cell_type": "code",
   "execution_count": null,
   "id": "85352378",
   "metadata": {},
   "outputs": [],
   "source": [
    "import plotly.express as px\n",
    "import numpy as np\n",
    "img = np.arange(100).reshape((10, 10))\n",
    "fig = px.imshow(img, color_continuous_scale='gray')\n",
    "fig.show()"
   ]
  },
  {
   "cell_type": "markdown",
   "id": "41012e8f",
   "metadata": {},
   "source": [
    "### Hiding the colorbar and axis labels\n",
    "\n",
    "See the [continuous color](/python/colorscales/) and [cartesian axes](/python/axes/) pages for more details."
   ]
  },
  {
   "cell_type": "code",
   "execution_count": null,
   "id": "248ebb1e",
   "metadata": {},
   "outputs": [],
   "source": [
    "import plotly.express as px\n",
    "from skimage import data\n",
    "img = data.camera()\n",
    "fig = px.imshow(img, color_continuous_scale='gray')\n",
    "fig.update_layout(coloraxis_showscale=False)\n",
    "fig.update_xaxes(showticklabels=False)\n",
    "fig.update_yaxes(showticklabels=False)\n",
    "fig.show()"
   ]
  },
  {
   "cell_type": "markdown",
   "id": "b266c09b",
   "metadata": {},
   "source": [
    "### Customizing the axes and labels on a single-channel image\n",
    "\n",
    "You can use the `x`, `y` and `labels` arguments to customize the display of a heatmap, and use `.update_xaxes()` to move the x axis tick labels to the top:"
   ]
  },
  {
   "cell_type": "code",
   "execution_count": null,
   "id": "8548e1f8",
   "metadata": {},
   "outputs": [],
   "source": [
    "import plotly.express as px\n",
    "data=[[1, 25, 30, 50, 1], [20, 1, 60, 80, 30], [30, 60, 1, 5, 20]]\n",
    "fig = px.imshow(data,\n",
    "                labels=dict(x=\"Day of Week\", y=\"Time of Day\", color=\"Productivity\"),\n",
    "                x=['Monday', 'Tuesday', 'Wednesday', 'Thursday', 'Friday'],\n",
    "                y=['Morning', 'Afternoon', 'Evening']\n",
    "               )\n",
    "fig.update_xaxes(side=\"top\")\n",
    "fig.show()"
   ]
  },
  {
   "cell_type": "markdown",
   "id": "f9241c6a",
   "metadata": {},
   "source": [
    "### Display an xarray image with px.imshow\n",
    "\n",
    "[xarrays](http://xarray.pydata.org/en/stable/) are labeled arrays (with labeled axes and coordinates). If you pass an xarray image to `px.imshow`, its axes labels and coordinates will be used for axis titles. If you don't want this behavior, you can pass `img.values` which is a NumPy array if `img` is an xarray. Alternatively, you can override axis titles hover labels and colorbar title using the `labels` attribute, as above."
   ]
  },
  {
   "cell_type": "code",
   "execution_count": null,
   "id": "e02f0b72",
   "metadata": {},
   "outputs": [],
   "source": [
    "import plotly.express as px\n",
    "import xarray as xr\n",
    "# Load xarray from dataset included in the xarray tutorial\n",
    "airtemps = xr.tutorial.open_dataset('air_temperature').air.sel(lon=250.0)\n",
    "fig = px.imshow(airtemps.T, color_continuous_scale='RdBu_r', origin='lower')\n",
    "fig.show()"
   ]
  },
  {
   "cell_type": "markdown",
   "id": "106bf460",
   "metadata": {},
   "source": [
    "### Display an xarray image with square pixels\n",
    "\n",
    "For xarrays, by default `px.imshow` does not constrain pixels to be square, since axes often correspond to different physical quantities (e.g. time and space), contrary to a plain camera image where pixels are square (most of the time). If you want to impose square pixels, set the parameter `aspect` to \"equal\" as below."
   ]
  },
  {
   "cell_type": "code",
   "execution_count": null,
   "id": "5ff3eee4",
   "metadata": {},
   "outputs": [],
   "source": [
    "import plotly.express as px\n",
    "import xarray as xr\n",
    "airtemps = xr.tutorial.open_dataset('air_temperature').air.isel(time=500)\n",
    "colorbar_title = airtemps.attrs['var_desc'] + '<br>(%s)'%airtemps.attrs['units']\n",
    "fig = px.imshow(airtemps, color_continuous_scale='RdBu_r', aspect='equal')\n",
    "fig.show()"
   ]
  },
  {
   "cell_type": "markdown",
   "id": "6dcb887a",
   "metadata": {},
   "source": [
    "### Display multichannel image data with go.Image\n",
    "\n",
    "It is also possible to use the `go.Image` trace from the low-level `graph_objects` API in order to display image data. Note that `go.Image` only accepts multichannel images. For single-channel images, use [`go.Heatmap`](/python/heatmaps).\n",
    "\n",
    "Note that the `go.Image` trace is different from the `go.layout.Image` class, which can be used for [adding background images or logos to figures](/python/images)."
   ]
  },
  {
   "cell_type": "code",
   "execution_count": null,
   "id": "b9c2d224",
   "metadata": {},
   "outputs": [],
   "source": [
    "import plotly.graph_objects as go\n",
    "img_rgb = [[[255, 0, 0], [0, 255, 0], [0, 0, 255]],\n",
    "           [[0, 255, 0], [0, 0, 255], [255, 0, 0]]]\n",
    "fig = go.Figure(go.Image(z=img_rgb))\n",
    "fig.show()"
   ]
  },
  {
   "cell_type": "markdown",
   "id": "ab7e8218",
   "metadata": {},
   "source": [
    "### Passing image data as a binary string to `go.Image`\n",
    "\n",
    "The `z` parameter of `go.Image` passes image data in the form of an array or a list of numerical values, but it is also possible to use the `source` parameter, which takes a b64 binary string. Thanks to png or jpg compression, using `source` is a way to reduce the quantity of data passed to the browser, and also to reduce the serialization time of the figure, resulting in increased performance.\n",
    "\n",
    "Note than an easier way of creating binary strings with `px.imshow` is explained below."
   ]
  },
  {
   "cell_type": "code",
   "execution_count": null,
   "id": "8efc370a",
   "metadata": {},
   "outputs": [],
   "source": [
    "import plotly.graph_objects as go\n",
    "from skimage import data\n",
    "from PIL import Image\n",
    "import base64\n",
    "from io import BytesIO\n",
    "\n",
    "img = data.astronaut()  # numpy array\n",
    "pil_img = Image.fromarray(img) # PIL image object\n",
    "prefix = \"data:image/png;base64,\"\n",
    "with BytesIO() as stream:\n",
    "    pil_img.save(stream, format=\"png\")\n",
    "    base64_string = prefix + base64.b64encode(stream.getvalue()).decode(\"utf-8\")\n",
    "fig = go.Figure(go.Image(source=base64_string))\n",
    "fig.show()"
   ]
  },
  {
   "cell_type": "markdown",
   "id": "acc5e19c",
   "metadata": {},
   "source": [
    "### Defining the data range covered by the color range with zmin and zmax\n",
    "\n",
    "The data range and color range are mapped together using the parameters `zmin` and `zmax` of `px.imshow` or `go.Image`, which correspond respectively to the data values mapped to black `[0, 0, 0]` and white `[255, 255, 255]`, or to the extreme colors of the colorscale in the case of single-channel data.\n",
    "\n",
    "For `go.Image`, `zmin` and `zmax` need to be given for all channels, whereas it is also possible to pass a scalar value (used for all channels) to `px.imshow`."
   ]
  },
  {
   "cell_type": "code",
   "execution_count": null,
   "id": "90a69717",
   "metadata": {},
   "outputs": [],
   "source": [
    "import plotly.express as px\n",
    "from skimage import data\n",
    "img = data.astronaut()\n",
    "# Increase contrast by clipping the data range between 50 and 200\n",
    "fig = px.imshow(img, zmin=50, zmax=200)\n",
    "# We customize the hovertemplate to show both the data and the color values\n",
    "# See https://plotly.com/python/hover-text-and-formatting/#customize-tooltip-text-with-a-hovertemplate\n",
    "#fig.update_traces(hovertemplate=\"x: %{x} <br> y: %{y} <br> z: %{z} <br> color: %{color}\")\n",
    "fig.show()"
   ]
  },
  {
   "cell_type": "code",
   "execution_count": null,
   "id": "c18179fd",
   "metadata": {},
   "outputs": [],
   "source": [
    "import plotly.express as px\n",
    "from skimage import data\n",
    "img = data.astronaut()\n",
    "# Stretch the contrast of the red channel only, resulting in a more red image\n",
    "fig = px.imshow(img, zmin=[50, 0, 0], zmax=[200, 255, 255])\n",
    "fig.show()"
   ]
  },
  {
   "cell_type": "markdown",
   "id": "f857e56e",
   "metadata": {},
   "source": [
    "### Automatic contrast rescaling in `px.imshow`\n",
    "\n",
    "When `zmin` and `zmax` are not specified, the `contrast_rescaling` arguments determines how `zmin` and `zmax` are computed. For `contrast_rescaling='minmax'`, the extrema of the data range are used. For `contrast_rescaling='infer'`, a heuristic based on the data type is used:\n",
    "- for integer data types, `zmin` and `zmax` correspond to the extreme values of the data type, for example 0 and 255 for `uint8`, 0 and 65535 for `uint16`, etc.\n",
    "- for float numbers, the maximum value of the data is computed, and zmax is 1 if the max is smaller than 1, 255 if the max is smaller than 255, etc. (with higher thresholds 2**16 - 1 and 2**32 -1).\n",
    "\n",
    "These two modes can be used for single- and multichannel data. The default value is to use `'minmax'` for single-channel data (as in a Heatmap trace) and `infer` for multi-channel data (which often consist of uint8 data). In the example below we override the default value by setting `contrast_rescaling='infer'` for a single-channel image."
   ]
  },
  {
   "cell_type": "code",
   "execution_count": null,
   "id": "661d6d60",
   "metadata": {},
   "outputs": [],
   "source": [
    "import plotly.express as px\n",
    "img = np.arange(100, dtype=np.uint8).reshape((10, 10))\n",
    "fig = px.imshow(img, contrast_rescaling='infer')\n",
    "fig.show()"
   ]
  },
  {
   "cell_type": "markdown",
   "id": "b66b206c",
   "metadata": {},
   "source": [
    "### Ticks and margins around image data"
   ]
  },
  {
   "cell_type": "code",
   "execution_count": null,
   "id": "40883165",
   "metadata": {},
   "outputs": [],
   "source": [
    "import plotly.express as px\n",
    "from skimage import data\n",
    "img = data.astronaut()\n",
    "fig = px.imshow(img)\n",
    "fig.update_layout(width=400, height=400, margin=dict(l=10, r=10, b=10, t=10))\n",
    "fig.update_xaxes(showticklabels=False).update_yaxes(showticklabels=False)\n",
    "fig.show()"
   ]
  },
  {
   "cell_type": "markdown",
   "id": "bdf96dc0",
   "metadata": {},
   "source": [
    "### Combining image charts and other traces"
   ]
  },
  {
   "cell_type": "code",
   "execution_count": null,
   "id": "76659fe9",
   "metadata": {},
   "outputs": [],
   "source": [
    "import plotly.express as px\n",
    "import plotly.graph_objects as go\n",
    "from skimage import data\n",
    "img = data.camera()\n",
    "fig = px.imshow(img, color_continuous_scale='gray')\n",
    "fig.add_trace(go.Contour(z=img, showscale=False,\n",
    "                         contours=dict(start=0, end=70, size=70, coloring='lines'),\n",
    "                         line_width=2))\n",
    "fig.add_trace(go.Scatter(x=[230], y=[100], marker=dict(color='red', size=16)))\n",
    "fig.show()"
   ]
  },
  {
   "cell_type": "markdown",
   "id": "3c4ae6c4",
   "metadata": {},
   "source": [
    "### Displaying an image and the histogram of color values"
   ]
  },
  {
   "cell_type": "code",
   "execution_count": null,
   "id": "ef714303",
   "metadata": {},
   "outputs": [],
   "source": [
    "from plotly.subplots import make_subplots\n",
    "from skimage import data\n",
    "img = data.chelsea()\n",
    "fig = make_subplots(1, 2)\n",
    "# We use go.Image because subplots require traces, whereas px functions return a figure\n",
    "fig.add_trace(go.Image(z=img), 1, 1)\n",
    "for channel, color in enumerate(['red', 'green', 'blue']):\n",
    "    fig.add_trace(go.Histogram(x=img[..., channel].ravel(), opacity=0.5,\n",
    "                               marker_color=color, name='%s channel' %color), 1, 2)\n",
    "fig.update_layout(height=400)\n",
    "fig.show()"
   ]
  },
  {
   "cell_type": "markdown",
   "id": "143f2a60",
   "metadata": {},
   "source": [
    "### imshow and datashader\n",
    "\n",
    "Arrays of rasterized values build by datashader can be visualized using\n",
    "imshow. See the [plotly and datashader tutorial](/python/datashader/) for\n",
    "examples on how to use plotly and datashader."
   ]
  },
  {
   "cell_type": "markdown",
   "id": "90600137",
   "metadata": {},
   "source": [
    "### Annotating image traces with shapes\n",
    "\n",
    "_introduced in plotly 4.7_\n",
    "\n",
    "It can be useful to add shapes to an image trace, for highlighting an object, drawing bounding boxes as part of a machine learning training set, or identifying seeds for a segmentation algorithm.\n",
    "\n",
    "In order to enable shape drawing, you need to\n",
    "- define a dragmode corresponding to a drawing tool (`'drawline'`,`'drawopenpath'`, `'drawclosedpath'`, `'drawcircle'`, or `'drawrect'`)\n",
    "- add modebar buttons corresponding to the drawing tools you wish to use.\n",
    "\n",
    "The style of new shapes is specified by the `newshape` layout attribute. Shapes can be selected and modified after they have been drawn. More details and examples are given in the [tutorial on shapes](/python/shapes#drawing-shapes-on-cartesian-plots).\n",
    "\n",
    "Drawing or modifying a shape triggers a `relayout` event, which [can be captured by a callback inside a Dash application](https://dash.plotly.com/interactive-graphing)."
   ]
  },
  {
   "cell_type": "code",
   "execution_count": null,
   "id": "29f36970",
   "metadata": {},
   "outputs": [],
   "source": [
    "import plotly.express as px\n",
    "from skimage import data\n",
    "img = data.chelsea()\n",
    "fig = px.imshow(img)\n",
    "fig.add_annotation(\n",
    "    x=0.5,\n",
    "    y=0.9,\n",
    "    text=\"Drag and draw annotations\",\n",
    "    xref=\"paper\",\n",
    "    yref=\"paper\",\n",
    "    showarrow=False,\n",
    "    font_size=20, font_color='cyan')\n",
    "# Shape defined programatically\n",
    "fig.add_shape(\n",
    "    type='rect',\n",
    "    x0=230, x1=290, y0=230, y1=280,\n",
    "    xref='x', yref='y',\n",
    "    line_color='cyan'\n",
    ")\n",
    "# Define dragmode, newshape parameters, amd add modebar buttons\n",
    "fig.update_layout(\n",
    "    dragmode='drawrect',\n",
    "    newshape=dict(line_color='cyan'))\n",
    "fig.show(config={'modeBarButtonsToAdd':['drawline',\n",
    "                                        'drawopenpath',\n",
    "                                        'drawclosedpath',\n",
    "                                        'drawcircle',\n",
    "                                        'drawrect',\n",
    "                                        'eraseshape'\n",
    "                                       ]})"
   ]
  },
  {
   "cell_type": "markdown",
   "id": "ea65ba12",
   "metadata": {},
   "source": [
    "### Passing image data as a binary string\n",
    "\n",
    "_introduced in plotly.py 4.10_\n",
    "\n",
    "`px.imshow` can pass the data to the figure object either as a list of numerical values, or as a png binary string which is passed directly to the browser. While the former solution offers more flexibility (values can be of float or int type, while values are rescaled to the range [0-255] for an image string), using a binary string is usually faster for large arrays. The parameter `binary_string` controls whether the image is passed as a png string (when `True`) or a list of values (`False`). Its default value is `True` for multi-channel images and `False` for single-channel images. When `binary_string=True`, image data are always represented using a `go.Image` trace."
   ]
  },
  {
   "cell_type": "code",
   "execution_count": null,
   "id": "66649638",
   "metadata": {},
   "outputs": [],
   "source": [
    "import plotly.express as px\n",
    "import numpy as np\n",
    "img = np.arange(15**2).reshape((15, 15))\n",
    "fig = px.imshow(img, binary_string=True)\n",
    "fig.show()"
   ]
  },
  {
   "cell_type": "markdown",
   "id": "bdf4e5eb",
   "metadata": {},
   "source": [
    "### Contrast rescaling im imshow with binary string\n",
    "\n",
    "When the image is passed to the plotly figure as a binary string (which is the default mode for RGB images), and when the image is rescaled to adjust the contrast (for example when setting `zmin` and `zmax`), the original intensity values are not passed to the plotly figure and therefore no intensity value is displayed in the hover."
   ]
  },
  {
   "cell_type": "code",
   "execution_count": null,
   "id": "d98e3aa4",
   "metadata": {},
   "outputs": [],
   "source": [
    "import plotly.express as px\n",
    "from skimage import data\n",
    "import numpy as np\n",
    "img = np.arange(100).reshape((10, 10))\n",
    "fig = px.imshow(img, binary_string=True)\n",
    "# You can check that only x and y are displayed in the hover\n",
    "# You can use a hovertemplate to override the hover information\n",
    "# See https://plotly.com/python/hover-text-and-formatting/#customize-tooltip-text-with-a-hovertemplate\n",
    "fig.show()"
   ]
  },
  {
   "cell_type": "markdown",
   "id": "e2151b80",
   "metadata": {},
   "source": [
    "You can set `binary_string=False` if you want the intensity value to appear in the hover even for a rescaled image. In the example below we also modify the hovertemplate to display both `z` (the data of the original image array) and `color` (the pixel value displayed in the figure)."
   ]
  },
  {
   "cell_type": "code",
   "execution_count": null,
   "id": "d5279d18",
   "metadata": {},
   "outputs": [],
   "source": [
    "import plotly.express as px\n",
    "from skimage import data\n",
    "img = data.chelsea()\n",
    "# Increase contrast by clipping the data range between 50 and 200\n",
    "fig = px.imshow(img, binary_string=False, zmin=50, zmax=200)\n",
    "# We customize the hovertemplate to show both the data and the color values\n",
    "# See https://plotly.com/python/hover-text-and-formatting/#customize-tooltip-text-with-a-hovertemplate\n",
    "fig.update_traces(hovertemplate=\"x: %{x} <br> y: %{y} <br> z: %{z} <br> color: %{color}\")\n",
    "fig.show()"
   ]
  },
  {
   "cell_type": "markdown",
   "id": "3bc0440b",
   "metadata": {},
   "source": [
    "### Changing the level of compression of the binary string in `px.imshow`\n",
    "\n",
    "The `binary_compression_level` parameter controls the level of compression to be used by the backend creating the png string. Two different backends can be used, `pypng` (which is a dependency of `plotly` and is therefore always available), and `pil` for Pillow, which is often more performant. The compression level has to be between 0 (no compression) and 9 (highest compression), although increasing the compression above 4 and 5 usually only offers diminishing returns (no significant compression gain, at the cost of a longer execution time)."
   ]
  },
  {
   "cell_type": "code",
   "execution_count": null,
   "id": "65c4b957",
   "metadata": {},
   "outputs": [],
   "source": [
    "import plotly.express as px\n",
    "from skimage import data\n",
    "img = data.camera()\n",
    "for compression_level in range(0, 9):\n",
    "    fig = px.imshow(img, binary_string=True, binary_compression_level=compression_level)\n",
    "    print(f\"compression level {compression_level}: length of {len(fig.data[0].source)}\")\n",
    "fig.show()"
   ]
  },
  {
   "cell_type": "markdown",
   "id": "f2f94595",
   "metadata": {},
   "source": [
    "### Exploring 3-D images, timeseries and sequences of images with `facet_col`\n",
    "\n",
    "*Introduced in plotly 4.14*\n",
    "\n",
    "For three-dimensional image datasets, obtained for example by MRI or CT in medical imaging, one can explore the dataset by representing its different planes as facets. The `facet_col` argument specifies along which axis the image is sliced through to make the facets. With `facet_col_wrap`, one can set the maximum number of columns. For image datasets passed as xarrays, it is also possible to specify the axis by its name (label), thus passing a string to `facet_col`.\n",
    "\n",
    "It is recommended to use `binary_string=True` for facetted plots of images in order to keep a small figure size and a short rendering time.\n",
    "\n",
    "See the [tutorial on facet plots](/python/facet-plots/) for more information on creating and styling facet plots."
   ]
  },
  {
   "cell_type": "code",
   "execution_count": null,
   "id": "f3cebd8f",
   "metadata": {},
   "outputs": [],
   "source": [
    "import plotly.express as px\n",
    "from skimage import io\n",
    "data = io.imread(\"https://github.com/scikit-image/skimage-tutorials/raw/main/images/cells.tif\")\n",
    "img = data[20:45:2]\n",
    "fig = px.imshow(img, facet_col=0, binary_string=True, facet_col_wrap=5)\n",
    "fig.show()"
   ]
  },
  {
   "cell_type": "markdown",
   "id": "0fb3fa67",
   "metadata": {},
   "source": [
    "Facets can also be used to represent several images of equal shape, like in the example below where different values of the blurring parameter of a Gaussian filter are compared."
   ]
  },
  {
   "cell_type": "code",
   "execution_count": null,
   "id": "562f5689",
   "metadata": {},
   "outputs": [],
   "source": [
    "import plotly.express as px\n",
    "import numpy as np\n",
    "from skimage import data, filters, img_as_float\n",
    "img = data.camera()\n",
    "sigmas = [1, 2, 4]\n",
    "img_sequence = [filters.gaussian(img, sigma=sigma) for sigma in sigmas]\n",
    "fig = px.imshow(np.array(img_sequence), facet_col=0, binary_string=True,\n",
    "                labels={'facet_col':'sigma'})\n",
    "# Set facet titles\n",
    "for i, sigma in enumerate(sigmas):\n",
    "    fig.layout.annotations[i]['text'] = 'sigma = %d' %sigma\n",
    "fig.show()"
   ]
  },
  {
   "cell_type": "markdown",
   "id": "989a4cd5",
   "metadata": {},
   "source": [
    "### Exploring 3-D images and timeseries with `animation_frame`\n",
    "\n",
    "*Introduced in plotly 4.14*\n",
    "\n",
    "For three-dimensional image datasets, obtained for example by MRI or CT in medical imaging, one can explore the dataset by sliding through its different planes in an animation. The `animation_frame` argument of `px.imshow` sets the axis along which the 3-D image is sliced in the animation."
   ]
  },
  {
   "cell_type": "code",
   "execution_count": null,
   "id": "776d083f",
   "metadata": {},
   "outputs": [],
   "source": [
    "import plotly.express as px\n",
    "from skimage import io\n",
    "data = io.imread(\"https://github.com/scikit-image/skimage-tutorials/raw/main/images/cells.tif\")\n",
    "img = data[25:40]\n",
    "fig = px.imshow(img, animation_frame=0, binary_string=True, labels=dict(animation_frame=\"slice\"))\n",
    "fig.show()"
   ]
  },
  {
   "cell_type": "markdown",
   "id": "bf9e3062",
   "metadata": {},
   "source": [
    "### Animations of xarray datasets\n",
    "\n",
    "*Introduced in plotly 4.14*\n",
    "\n",
    "For xarray datasets, one can pass either an axis number or an axis name to `animation_frame`. Axis names and coordinates are automatically used for the labels, ticks and animation controls of the figure."
   ]
  },
  {
   "cell_type": "code",
   "execution_count": null,
   "id": "ad2b9e83",
   "metadata": {},
   "outputs": [],
   "source": [
    "import plotly.express as px\n",
    "import xarray as xr\n",
    "# Load xarray from dataset included in the xarray tutorial\n",
    "ds = xr.tutorial.open_dataset('air_temperature').air[:20]\n",
    "fig = px.imshow(ds, animation_frame='time', zmin=220, zmax=300, color_continuous_scale='RdBu_r')\n",
    "fig.show()"
   ]
  },
  {
   "cell_type": "markdown",
   "id": "d788efb5",
   "metadata": {},
   "source": [
    "### Combining animations and facets\n",
    "\n",
    "It is possible to view 4-dimensional datasets (for example, 3-D images evolving with time) using a combination of `animation_frame` and `facet_col`."
   ]
  },
  {
   "cell_type": "code",
   "execution_count": null,
   "id": "8cdea591",
   "metadata": {},
   "outputs": [],
   "source": [
    "import plotly.express as px\n",
    "from skimage import io\n",
    "data = io.imread(\"https://github.com/scikit-image/skimage-tutorials/raw/main/images/cells.tif\")\n",
    "data = data.reshape((15, 4, 256, 256))[5:]\n",
    "fig = px.imshow(data, animation_frame=0, facet_col=1, binary_string=True)\n",
    "fig.show()"
   ]
  },
  {
   "cell_type": "markdown",
   "id": "9445904d",
   "metadata": {},
   "source": [
    "#### Reference\n",
    "\n",
    "See [function reference for `px.(imshow)`](https://plotly.com/python-api-reference/generated/plotly.express.imshow) or https://plotly.com/python/reference/image/ for more information and chart attribute options!\n"
   ]
  },
  {
   "cell_type": "markdown",
   "id": "ecd83011",
   "metadata": {},
   "source": [
    "### What About Dash?\n",
    "\n",
    "[Dash](https://dash.plot.ly/) is an open-source framework for building analytical applications, with no Javascript required, and it is tightly integrated with the Plotly graphing library.\n",
    "\n",
    "Learn about how to install Dash at https://dash.plot.ly/installation.\n",
    "\n",
    "Everywhere in this page that you see `fig.show()`, you can display the same figure in a Dash application by passing it to the `figure` argument of the [`Graph` component](https://dash.plot.ly/dash-core-components/graph) from the built-in `dash_core_components` package like this:\n",
    "\n",
    "```python\n",
    "import plotly.graph_objects as go # or plotly.express as px\n",
    "fig = go.Figure() # or any Plotly Express function e.g. px.bar(...)\n",
    "# fig.add_trace( ... )\n",
    "# fig.update_layout( ... )\n",
    "\n",
    "from dash import Dash, dcc, html\n",
    "\n",
    "app = Dash()\n",
    "app.layout = html.Div([\n",
    "    dcc.Graph(figure=fig)\n",
    "])\n",
    "\n",
    "app.run_server(debug=True, use_reloader=False)  # Turn off reloader if inside Jupyter\n",
    "```"
   ]
  }
 ],
 "metadata": {
  "jupytext": {
   "notebook_metadata_filter": "all"
  },
  "kernelspec": {
   "display_name": "Python 3",
   "language": "python",
   "name": "python3"
  },
  "language_info": {
   "codemirror_mode": {
    "name": "ipython",
    "version": 3
   },
   "file_extension": ".py",
   "mimetype": "text/x-python",
   "name": "python",
   "nbconvert_exporter": "python",
   "pygments_lexer": "ipython3",
   "version": "3.7.7"
  },
  "plotly": {
   "description": "How to display image data in Python with Plotly.",
   "display_as": "scientific",
   "has_thumbnail": true,
   "ipynb": "~notebook_demo/34",
   "language": "python",
   "layout": "base",
   "name": "Imshow",
   "order": 3,
   "page_type": "example_index",
   "permalink": "python/imshow/",
   "thumbnail": "thumbnail/imshow.jpg",
   "v4upgrade": true
  }
 },
 "nbformat": 4,
 "nbformat_minor": 5
}
