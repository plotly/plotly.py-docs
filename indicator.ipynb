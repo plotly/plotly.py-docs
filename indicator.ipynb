{
 "cells": [
  {
   "cell_type": "markdown",
   "id": "7a939aae",
   "metadata": {},
   "source": [
    "#### Overview\n",
    "In this tutorial we introduce a new trace named \"Indicator\". The purpose of \"indicator\" is to visualize a single value specified by the \"value\" attribute.\n",
    "  Three distinct visual elements are available to represent that value: number, delta and gauge. Any combination of them can be specified via the \"mode\" attribute.\n",
    "  Top-level attributes are:\n",
    "    <ol>\n",
    "      <li>value: the value to visualize</li>\n",
    "      <li> mode: which visual elements to draw</li>\n",
    "      <li> align: how to align number and delta (left, center, right)</li>\n",
    "      <li> domain: the extent of the figure</li>\n",
    "    </ol>\n",
    "\n",
    "  Then we can configure the 3 different visual elements via their respective container:\n",
    "    <ol>\n",
    "      <li> number is simply a representation of the number in text. It has attributes:\n",
    "      <li> valueformat: to format the number</li>\n",
    "      <li> prefix: a string before the number</li>\n",
    "      <li> suffix: a string after the number </li>\n",
    "      <li> font.(family|size): to control the font</li>\n",
    "    </ol>\n",
    "   \"delta\" simply displays the difference between the value with respect to a reference. It has attributes:\n",
    "    <ol>\n",
    "      <li> reference: the number to compare the value with</li>\n",
    "      <li> relative: whether that difference is absolute or relative</li>\n",
    "      <li> valueformat: to format the delta</li>\n",
    "      <li> (increasing|decreasing).color: color to be used for positive or decreasing delta</li>\n",
    "      <li> (increasing|decreasing).symbol: symbol displayed on the left of the delta</li>\n",
    "      <li> font.(family|size): to control the font</li>\n",
    "      <li> position: position relative to `number` (either top, left, bottom, right)</li>\n",
    "      <li> prefix: a string to appear before the delta\n",
    "      <li> suffix: a string to appear after the delta\n",
    "    </ol>\n",
    "    Finally, we can have a simple title for the indicator via `title` with 'text' attribute which is a string, and 'align' which can be set to left, center, and right.\n",
    "    There are two gauge types: [angular](https://plotly.com/python/gauge-charts/) and [bullet](https://plotly.com/python/bullet-charts/). Here is a combination of both shapes (angular, bullet), and different modes (gauge, delta, and value):"
   ]
  },
  {
   "cell_type": "code",
   "execution_count": null,
   "id": "450c7fd1",
   "metadata": {},
   "outputs": [],
   "source": [
    "import plotly.graph_objects as go\n",
    "\n",
    "fig = go.Figure()\n",
    "\n",
    "fig.add_trace(go.Indicator(\n",
    "    value = 200,\n",
    "    delta = {'reference': 160},\n",
    "    gauge = {\n",
    "        'axis': {'visible': False}},\n",
    "    domain = {'row': 0, 'column': 0}))\n",
    "\n",
    "fig.add_trace(go.Indicator(\n",
    "    value = 120,\n",
    "    gauge = {\n",
    "        'shape': \"bullet\",\n",
    "        'axis' : {'visible': False}},\n",
    "    domain = {'x': [0.05, 0.5], 'y': [0.15, 0.35]}))\n",
    "\n",
    "fig.add_trace(go.Indicator(\n",
    "    mode = \"number+delta\",\n",
    "    value = 300,\n",
    "    domain = {'row': 0, 'column': 1}))\n",
    "\n",
    "fig.add_trace(go.Indicator(\n",
    "    mode = \"delta\",\n",
    "    value = 40,\n",
    "    domain = {'row': 1, 'column': 1}))\n",
    "\n",
    "fig.update_layout(\n",
    "    grid = {'rows': 2, 'columns': 2, 'pattern': \"independent\"},\n",
    "    template = {'data' : {'indicator': [{\n",
    "        'title': {'text': \"Speed\"},\n",
    "        'mode' : \"number+delta+gauge\",\n",
    "        'delta' : {'reference': 90}}]\n",
    "                         }})"
   ]
  },
  {
   "cell_type": "markdown",
   "id": "789f440b",
   "metadata": {},
   "source": [
    "#### A Single Angular Gauge Chart"
   ]
  },
  {
   "cell_type": "code",
   "execution_count": null,
   "id": "07bb07b4",
   "metadata": {},
   "outputs": [],
   "source": [
    "import plotly.graph_objects as go\n",
    "\n",
    "fig = go.Figure(go.Indicator(\n",
    "    mode = \"gauge+number\",\n",
    "    value = 450,\n",
    "    title = {'text': \"Speed\"},\n",
    "    domain = {'x': [0, 1], 'y': [0, 1]}\n",
    "))\n",
    "\n",
    "fig.show()"
   ]
  },
  {
   "cell_type": "markdown",
   "id": "82f2f8db",
   "metadata": {},
   "source": [
    "##### Bullet Gauge\n",
    "The equivalent of above \"angular gauge\":"
   ]
  },
  {
   "cell_type": "code",
   "execution_count": null,
   "id": "122a5739",
   "metadata": {},
   "outputs": [],
   "source": [
    "import plotly.graph_objects as go\n",
    "\n",
    "fig = go.Figure(go.Indicator(\n",
    "    mode = \"number+gauge+delta\",\n",
    "    gauge = {'shape': \"bullet\"},\n",
    "    delta = {'reference': 300},\n",
    "    value = 220,\n",
    "    domain = {'x': [0.1, 1], 'y': [0.2, 0.9]},\n",
    "    title = {'text': \"Avg order size\"}))\n",
    "\n",
    "fig.show()"
   ]
  },
  {
   "cell_type": "markdown",
   "id": "050d13a1",
   "metadata": {},
   "source": [
    "#### Showing Information above Your Chart\n",
    "Another interesting feature is that indicator trace sits above the other traces (even the 3d ones). This way, it can be easily used as an overlay as demonstrated below"
   ]
  },
  {
   "cell_type": "code",
   "execution_count": null,
   "id": "7a3f169f",
   "metadata": {
    "lines_to_next_cell": 0
   },
   "outputs": [],
   "source": [
    "import plotly.graph_objects as go\n",
    "\n",
    "fig = go.Figure(go.Indicator(\n",
    "    mode = \"number+delta\",\n",
    "    value = 492,\n",
    "    delta = {\"reference\": 512, \"valueformat\": \".0f\"},\n",
    "    title = {\"text\": \"Users online\"},\n",
    "    domain = {'y': [0, 1], 'x': [0.25, 0.75]}))\n",
    "\n",
    "fig.add_trace(go.Scatter(\n",
    "    y = [325, 324, 405, 400, 424, 404, 417, 432, 419, 394, 410, 426, 413, 419, 404, 408, 401, 377, 368, 361, 356, 359, 375, 397, 394, 418, 437, 450, 430, 442, 424, 443, 420, 418, 423, 423, 426, 440, 437, 436, 447, 460, 478, 472, 450, 456, 436, 418, 429, 412, 429, 442, 464, 447, 434, 457, 474, 480, 499, 497, 480, 502, 512, 492]))\n",
    "\n",
    "fig.update_layout(xaxis = {'range': [0, 62]})\n",
    "fig.show()"
   ]
  },
  {
   "cell_type": "markdown",
   "id": "d7d38348",
   "metadata": {},
   "source": [
    "#### Data Cards / Big Numbers\n",
    "Data card helps to display more contextual information about the data. Sometimes one number is all you want to see in a report, such as total sales, annual revenue, etc. This example shows how to visualize these big numbers:"
   ]
  },
  {
   "cell_type": "code",
   "execution_count": null,
   "id": "0d406a47",
   "metadata": {},
   "outputs": [],
   "source": [
    "import plotly.graph_objects as go\n",
    "\n",
    "fig = go.Figure(go.Indicator(\n",
    "    mode = \"number+delta\",\n",
    "    value = 400,\n",
    "    number = {'prefix': \"$\"},\n",
    "    delta = {'position': \"top\", 'reference': 320},\n",
    "    domain = {'x': [0, 1], 'y': [0, 1]}))\n",
    "\n",
    "fig.update_layout(paper_bgcolor = \"lightgray\")\n",
    "\n",
    "fig.show()"
   ]
  },
  {
   "cell_type": "markdown",
   "id": "adb23482",
   "metadata": {},
   "source": [
    "#### It's possible to display several numbers"
   ]
  },
  {
   "cell_type": "code",
   "execution_count": null,
   "id": "765003fd",
   "metadata": {},
   "outputs": [],
   "source": [
    "import plotly.graph_objects as go\n",
    "\n",
    "fig = go.Figure()\n",
    "\n",
    "fig.add_trace(go.Indicator(\n",
    "    mode = \"number+delta\",\n",
    "    value = 200,\n",
    "    domain = {'x': [0, 0.5], 'y': [0, 0.5]},\n",
    "    delta = {'reference': 400, 'relative': True, 'position' : \"top\"}))\n",
    "\n",
    "fig.add_trace(go.Indicator(\n",
    "    mode = \"number+delta\",\n",
    "    value = 350,\n",
    "    delta = {'reference': 400, 'relative': True},\n",
    "    domain = {'x': [0, 0.5], 'y': [0.5, 1]}))\n",
    "\n",
    "fig.add_trace(go.Indicator(\n",
    "    mode = \"number+delta\",\n",
    "    value = 450,\n",
    "    title = {\"text\": \"Accounts<br><span style='font-size:0.8em;color:gray'>Subtitle</span><br><span style='font-size:0.8em;color:gray'>Subsubtitle</span>\"},\n",
    "    delta = {'reference': 400, 'relative': True},\n",
    "    domain = {'x': [0.6, 1], 'y': [0, 1]}))\n",
    "\n",
    "fig.show()"
   ]
  },
  {
   "cell_type": "markdown",
   "id": "a2e2c6e3",
   "metadata": {},
   "source": [
    "#### Adding a Prefix and Suffix"
   ]
  },
  {
   "cell_type": "markdown",
   "id": "19f93c20",
   "metadata": {},
   "source": [
    "On both a `number` and a `delta`, you can add a string to appear before the value using `prefix`. You can add a string to appear after the value using `suffix`. In the following example, we add '$' as a `prefix` and 'm' as `suffix` for both the `number` and `delta`. \n",
    "\n",
    "Note: `suffix` and `prefix` on `delta` are new in 5.10"
   ]
  },
  {
   "cell_type": "code",
   "execution_count": null,
   "id": "da5191c3",
   "metadata": {},
   "outputs": [],
   "source": [
    "import plotly.graph_objects as go\n",
    "\n",
    "fig = go.Figure(go.Indicator(\n",
    "    mode = \"number+delta\",\n",
    "    value = 492,\n",
    "    number = {\"prefix\": \"$\", \"suffix\": \"m\"},\n",
    "    delta = {\"reference\": 512, \"valueformat\": \".0f\", \"prefix\": \"$\", \"suffix\": \"m\"},\n",
    "    title = {\"text\": \"Profit\"},\n",
    "    domain = {'y': [0, 1], 'x': [0.25, 0.75]}))\n",
    "\n",
    "fig.add_trace(go.Scatter(\n",
    "    y = [325, 324, 405, 400, 424, 404, 417, 432, 419, 394, 410, 426, 413, 419, 404, 408, 401, 377, 368, 361, 356, 359, 375, 397, 394, 418, 437, 450, 430, 442, 424, 443, 420, 418, 423, 423, 426, 440, 437, 436, 447, 460, 478, 472, 450, 456, 436, 418, 429, 412, 429, 442, 464, 447, 434, 457, 474, 480, 499, 497, 480, 502, 512, 492]))\n",
    "\n",
    "fig.update_layout(xaxis = {'range': [0, 62]})\n",
    "fig.show()"
   ]
  },
  {
   "cell_type": "markdown",
   "id": "4386f276",
   "metadata": {},
   "source": [
    "#### Reference\n",
    "See https://plotly.com/python/reference/indicator/ for more information and chart attribute options!"
   ]
  },
  {
   "cell_type": "code",
   "execution_count": null,
   "id": "1fc41c78",
   "metadata": {
    "lines_to_next_cell": 2
   },
   "outputs": [],
   "source": []
  },
  {
   "cell_type": "markdown",
   "id": "2f653a73",
   "metadata": {},
   "source": [
    "### What About Dash?\n",
    "\n",
    "[Dash](https://dash.plot.ly/) is an open-source framework for building analytical applications, with no Javascript required, and it is tightly integrated with the Plotly graphing library.\n",
    "\n",
    "Learn about how to install Dash at https://dash.plot.ly/installation.\n",
    "\n",
    "Everywhere in this page that you see `fig.show()`, you can display the same figure in a Dash application by passing it to the `figure` argument of the [`Graph` component](https://dash.plot.ly/dash-core-components/graph) from the built-in `dash_core_components` package like this:\n",
    "\n",
    "```python\n",
    "import plotly.graph_objects as go # or plotly.express as px\n",
    "fig = go.Figure() # or any Plotly Express function e.g. px.bar(...)\n",
    "# fig.add_trace( ... )\n",
    "# fig.update_layout( ... )\n",
    "\n",
    "from dash import Dash, dcc, html\n",
    "\n",
    "app = Dash()\n",
    "app.layout = html.Div([\n",
    "    dcc.Graph(figure=fig)\n",
    "])\n",
    "\n",
    "app.run_server(debug=True, use_reloader=False)  # Turn off reloader if inside Jupyter\n",
    "```"
   ]
  }
 ],
 "metadata": {
  "jupytext": {
   "notebook_metadata_filter": "all"
  },
  "kernelspec": {
   "display_name": "Python 3 (ipykernel)",
   "language": "python",
   "name": "python3"
  },
  "language_info": {
   "codemirror_mode": {
    "name": "ipython",
    "version": 3
   },
   "file_extension": ".py",
   "mimetype": "text/x-python",
   "name": "python",
   "nbconvert_exporter": "python",
   "pygments_lexer": "ipython3",
   "version": "3.9.0"
  },
  "plotly": {
   "description": "How to make gauge charts in Python with Plotly.",
   "display_as": "financial",
   "language": "python",
   "layout": "base",
   "name": "Indicators",
   "order": 6,
   "page_type": "u-guide",
   "permalink": "python/indicator/",
   "thumbnail": "thumbnail/indicator.jpg"
  }
 },
 "nbformat": 4,
 "nbformat_minor": 5
}
