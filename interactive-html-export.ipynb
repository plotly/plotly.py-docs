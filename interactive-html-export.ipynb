{
 "cells": [
  {
   "cell_type": "markdown",
   "id": "a095da3b",
   "metadata": {},
   "source": [
    "### Interactive vs Static Export\n",
    "\n",
    "Plotly figures are interactive when viewed in a web browser: you can hover over data points, pan and zoom axes, and show and hide traces by clicking or double-clicking on the legend. You can export figures either to [static image file formats like PNG, JPEG, SVG or PDF](/python/static-image-export/) or you can export them to HTML files which can be opened in a browser. This page explains how to do the latter."
   ]
  },
  {
   "cell_type": "markdown",
   "id": "b1a8b82d",
   "metadata": {},
   "source": [
    "### Saving to an HTML file\n",
    "\n",
    "Any figure can be saved as an HTML file using the `write_html` method. These HTML files can be opened in any web browser to access the fully interactive figure.\n",
    "\n",
    "```python\n",
    "import plotly.express as px\n",
    "\n",
    "fig = px.scatter(x=range(10), y=range(10))\n",
    "fig.write_html(\"path/to/file.html\")\n",
    "```"
   ]
  },
  {
   "cell_type": "markdown",
   "id": "2d9dfd2f",
   "metadata": {},
   "source": [
    "### Controlling the size of the HTML file\n",
    "\n",
    "By default, the resulting HTML file is a fully self-contained HTML file which can be uploaded to a web server or shared via email or other file-sharing mechanisms. The downside to this approach is that the file is very large (5Mb+) because it contains an inlined copy of the Plotly.js library required to make the figure interactive. This can be controlled via the `include_plotlyjs` argument (see below).\n",
    "\n",
    "### Inserting Plotly Output into HTML using a Jinja2 Template\n",
    "\n",
    "You can insert Plotly output and text related to your data into HTML templates using Jinja2. Use `.to_html` to send the HTML to a Python string variable rather than using `write_html` to send the HTML to a disk file.  Use the `full_html=False` option to output just the code necessary to add a figure to a template. We don't want to output a full HTML page, as the template will define the rest of the page's structure — for example, the page's `HTML` and `BODY` tags.  First create an HTML template file containing a Jinja `{{ variable }}`.  In this example, we customize the HTML in the template file by replacing the Jinja variable `{{ fig }}` with our graphic `fig`."
   ]
  },
  {
   "cell_type": "markdown",
   "id": "545e9fd5",
   "metadata": {},
   "source": [
    "\n",
    "```\n",
    "&lt;!DOCTYPE html&gt;\n",
    "&lt;html&gt;\n",
    "&lt;head&gt;\n",
    "&lt;meta charset=\"utf-8\" /&gt;   &lt;!--It is necessary to use the UTF-8 encoding with plotly graphics to get e.g. negative signs to render correctly --&gt;\n",
    "&lt;meta name=\"viewport\" content=\"width=device-width, initial-scale=1.0\" /&gt;\n",
    "&lt;/head&gt;\n",
    "\n",
    "&lt;body&gt;\n",
    "&lt;h1&gt;Here's a Plotly graph!&lt;/h1&gt;\n",
    "{{ fig }}\n",
    "&lt;p&gt;And here's some text after the graph.&lt;/p&gt;\n",
    "&lt;/body&gt;\n",
    "&lt;/html&gt;\n",
    "```\n",
    "\n",
    "\n",
    "Then use the following Python to replace `{{ fig }}` in the template with HTML that will display the Plotly figure \"fig\":\n",
    "\n",
    "```python\n",
    "import plotly.express as px\n",
    "from jinja2 import Template\n",
    "\n",
    "data_canada = px.data.gapminder().query(\"country == 'Canada'\")\n",
    "fig = px.bar(data_canada, x='year', y='pop')\n",
    "\n",
    "output_html_path=r\"/path/to/output.html\"\n",
    "input_template_path = r\"/path/to/template.html\"\n",
    "\n",
    "plotly_jinja_data = {\"fig\":fig.to_html(full_html=False)}\n",
    "#consider also defining the include_plotlyjs parameter to point to an external Plotly.js as described above\n",
    "\n",
    "with open(output_html_path, \"w\", encoding=\"utf-8\") as output_file:\n",
    "    with open(input_template_path) as template_file:\n",
    "        j2_template = Template(template_file.read())\n",
    "        output_file.write(j2_template.render(plotly_jinja_data))\n",
    "```"
   ]
  },
  {
   "cell_type": "markdown",
   "id": "12f45933",
   "metadata": {},
   "source": [
    "### HTML export in Dash\n",
    "\n",
    "[Dash](https://plotly.com/dash/) is the best way to build analytical apps in Python using Plotly figures. To run the app below, run `pip install dash`, click \"Download\" to get the code and run `python app.py`.\n",
    "\n",
    "Get started  with [the official Dash docs](https://dash.plotly.com/installation) and **learn how to effortlessly [style](https://plotly.com/dash/design-kit/) & [deploy](https://plotly.com/dash/app-manager/) apps like this with <a class=\"plotly-red\" href=\"https://plotly.com/dash/\">Dash Enterprise</a>.**\n"
   ]
  },
  {
   "cell_type": "code",
   "execution_count": null,
   "id": "f0108c28",
   "metadata": {
    "hide_code": true
   },
   "outputs": [],
   "source": [
    "from IPython.display import IFrame\n",
    "snippet_url = 'https://python-docs-dash-snippets.herokuapp.com/python-docs-dash-snippets/'\n",
    "IFrame(snippet_url + 'interactive-html-export', width='100%', height=1200)"
   ]
  },
  {
   "cell_type": "markdown",
   "id": "a6eeb563",
   "metadata": {},
   "source": [
    "<div style=\"font-size: 0.9em;\"><div style=\"width: calc(100% - 30px); box-shadow: none; border: thin solid rgb(229, 229, 229);\"><div style=\"padding: 5px;\"><div><p><strong>Sign up for Dash Club</strong> → Free cheat sheets plus updates from Chris Parmer and Adam Schroeder delivered to your inbox every two months. Includes tips and tricks, community apps, and deep dives into the Dash architecture.\n",
    "<u><a href=\"https://go.plotly.com/dash-club?utm_source=Dash+Club+2022&utm_medium=graphing_libraries&utm_content=inline\">Join now</a></u>.</p></div></div></div></div>"
   ]
  },
  {
   "cell_type": "markdown",
   "id": "674ca6e2",
   "metadata": {},
   "source": [
    "### Full Parameter Documentation"
   ]
  },
  {
   "cell_type": "code",
   "execution_count": null,
   "id": "2f3db62b",
   "metadata": {
    "lines_to_next_cell": 2
   },
   "outputs": [],
   "source": [
    "import plotly.graph_objects as go\n",
    "\n",
    "help(go.Figure.write_html)"
   ]
  },
  {
   "cell_type": "markdown",
   "id": "3f9533de",
   "metadata": {},
   "source": [
    "### What About Dash?\n",
    "\n",
    "[Dash](https://dash.plot.ly/) is an open-source framework for building analytical applications, with no Javascript required, and it is tightly integrated with the Plotly graphing library.\n",
    "\n",
    "Learn about how to install Dash at https://dash.plot.ly/installation.\n",
    "\n",
    "Everywhere in this page that you see `fig.show()`, you can display the same figure in a Dash application by passing it to the `figure` argument of the [`Graph` component](https://dash.plot.ly/dash-core-components/graph) from the built-in `dash_core_components` package like this:\n",
    "\n",
    "```python\n",
    "import plotly.graph_objects as go # or plotly.express as px\n",
    "fig = go.Figure() # or any Plotly Express function e.g. px.bar(...)\n",
    "# fig.add_trace( ... )\n",
    "# fig.update_layout( ... )\n",
    "\n",
    "from dash import Dash, dcc, html\n",
    "\n",
    "app = Dash()\n",
    "app.layout = html.Div([\n",
    "    dcc.Graph(figure=fig)\n",
    "])\n",
    "\n",
    "app.run_server(debug=True, use_reloader=False)  # Turn off reloader if inside Jupyter\n",
    "```"
   ]
  }
 ],
 "metadata": {
  "jupytext": {
   "notebook_metadata_filter": "all"
  },
  "kernelspec": {
   "display_name": "Python 3 (ipykernel)",
   "language": "python",
   "name": "python3"
  },
  "language_info": {
   "codemirror_mode": {
    "name": "ipython",
    "version": 3
   },
   "file_extension": ".py",
   "mimetype": "text/x-python",
   "name": "python",
   "nbconvert_exporter": "python",
   "pygments_lexer": "ipython3",
   "version": "3.10.11"
  },
  "plotly": {
   "description": "Plotly allows you to save interactive HTML versions of your figures to your local disk.",
   "display_as": "file_settings",
   "language": "python",
   "layout": "base",
   "name": "Interactive HTML Export",
   "order": 31,
   "page_type": "u-guide",
   "permalink": "python/interactive-html-export/",
   "thumbnail": "thumbnail/static-image-export.png"
  }
 },
 "nbformat": 4,
 "nbformat_minor": 5
}
