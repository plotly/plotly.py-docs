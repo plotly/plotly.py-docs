{
 "cells": [
  {
   "cell_type": "markdown",
   "id": "322114a0",
   "metadata": {},
   "source": [
    "### Trace Types, Legends and Color Bars\n",
    "\n",
    "[Traces](/python/figure-structure) of most types and shapes can be optionally associated with a single legend item in the [legend](/python/legend/). Whether or not a given trace or shape appears in the legend is controlled via the `showlegend` attribute. Traces which are their own subplots (see above) do not support this, with the exception of traces of type `pie` and `funnelarea` for which every distinct color represented in the trace gets a separate legend item. Users may show or hide traces by clicking or double-clicking on their associated legend item. Traces that support legend items and shapes also support the `legendgroup` attribute, and all traces and shapes with the same legend group are treated the same way during click/double-click interactions.\n",
    "\n",
    "The fact that legend items are linked to traces means that when using [discrete color](/python/discrete-color/), a figure must have one trace per color in order to get a meaningful legend. [Plotly Express has robust support for discrete color](/python/discrete-color/) to make this easy.\n",
    "\n",
    "Traces which support [continuous color](/python/colorscales/) can also be associated with color axes in the layout via the `coloraxis` attribute. Multiple traces can be linked to the same color axis. Color axes have a legend-like component called color bars. Alternatively, color axes can be configured within the trace itself."
   ]
  },
  {
   "cell_type": "markdown",
   "id": "8b96a801",
   "metadata": {},
   "source": [
    "### Legends with Plotly Express\n",
    "\n",
    "[Plotly Express](/python/plotly-express/) is the easy-to-use, high-level interface to Plotly, which [operates on a variety of types of data](/python/px-arguments/) and produces [easy-to-style figures](/python/styling-plotly-express/).\n",
    "\n",
    "Plotly Express functions will create one [trace](/python/figure-structure) per animation frame for each unique combination of data values mapped to discrete color, symbol, line-dash, facet-row and/or facet-column. Traces' `legendgroup` and `showlegend` attributed are set such that only one legend item appears per unique combination of discrete color, symbol and/or line-dash. The legend title is automatically set, and can be overrided with the `labels` keyword argument:"
   ]
  },
  {
   "cell_type": "code",
   "execution_count": null,
   "id": "0b84b1cd",
   "metadata": {},
   "outputs": [],
   "source": [
    "import plotly.express as px\n",
    "\n",
    "df = px.data.tips()\n",
    "fig = px.scatter(df, x=\"total_bill\", y=\"tip\", color=\"sex\", symbol=\"smoker\", facet_col=\"time\",\n",
    "          labels={\"sex\": \"Gender\", \"smoker\": \"Smokes\"})\n",
    "fig.show()"
   ]
  },
  {
   "cell_type": "markdown",
   "id": "84db4b46",
   "metadata": {},
   "source": [
    "### Legend Order\n",
    "\n",
    "By default, Plotly Express lays out legend items in the order in which values appear in the underlying data. Every Plotly Express function also includes a `category_orders` keyword argument which can be used to control [the order in which categorical axes are drawn](/python/categorical-axes/), but beyond that can also control the order in which legend items appear, and [the order in which facets are laid out](/python/facet-plots/)."
   ]
  },
  {
   "cell_type": "code",
   "execution_count": null,
   "id": "4481fa21",
   "metadata": {},
   "outputs": [],
   "source": [
    "import plotly.express as px\n",
    "df = px.data.tips()\n",
    "fig = px.bar(df, x=\"day\", y=\"total_bill\", color=\"smoker\", barmode=\"group\", facet_col=\"sex\",\n",
    "             category_orders={\"day\": [\"Thur\", \"Fri\", \"Sat\", \"Sun\"],\n",
    "                              \"smoker\": [\"Yes\", \"No\"],\n",
    "                              \"sex\": [\"Male\", \"Female\"]})\n",
    "fig.show()"
   ]
  },
  {
   "cell_type": "markdown",
   "id": "51994d5c",
   "metadata": {},
   "source": [
    "When using stacked bars, the bars are stacked from the bottom in the same order as they appear in the legend, so it can make sense to set `layout.legend.traceorder` to `\"reversed\"` to get the legend and stacks to match:"
   ]
  },
  {
   "cell_type": "code",
   "execution_count": null,
   "id": "59d80dbc",
   "metadata": {},
   "outputs": [],
   "source": [
    "import plotly.express as px\n",
    "df = px.data.tips()\n",
    "fig = px.bar(df, x=\"day\", y=\"total_bill\", color=\"smoker\", barmode=\"stack\", facet_col=\"sex\",\n",
    "             category_orders={\"day\": [\"Thur\", \"Fri\", \"Sat\", \"Sun\"],\n",
    "                              \"smoker\": [\"Yes\", \"No\"],\n",
    "                              \"sex\": [\"Male\", \"Female\"]})\n",
    "fig.update_layout(legend_traceorder=\"reversed\")\n",
    "fig.show()"
   ]
  },
  {
   "cell_type": "markdown",
   "id": "2427ea98",
   "metadata": {},
   "source": [
    "When using [`plotly.graph_objects`](/python/graph-objects/) rather than Plotly Express, legend items will appear in the order that traces appear in the `data`:"
   ]
  },
  {
   "cell_type": "code",
   "execution_count": null,
   "id": "1b9b7ecd",
   "metadata": {},
   "outputs": [],
   "source": [
    "import plotly.graph_objects as go\n",
    "\n",
    "fig = go.Figure()\n",
    "fig.add_trace(go.Bar(name=\"first\", x=[\"a\", \"b\"], y=[1,2]))\n",
    "fig.add_trace(go.Bar(name=\"second\", x=[\"a\", \"b\"], y=[2,1]))\n",
    "fig.add_trace(go.Bar(name=\"third\", x=[\"a\", \"b\"], y=[1,2]))\n",
    "fig.add_trace(go.Bar(name=\"fourth\", x=[\"a\", \"b\"], y=[2,1]))\n",
    "fig.show()"
   ]
  },
  {
   "cell_type": "markdown",
   "id": "22f82b56",
   "metadata": {},
   "source": [
    "*New in 5.16*\n",
    "\n",
    "If you have shapes that are configured to appear in a legend, these are displayed after all traces:"
   ]
  },
  {
   "cell_type": "code",
   "execution_count": null,
   "id": "b966ff9f",
   "metadata": {},
   "outputs": [],
   "source": [
    "import plotly.graph_objects as go\n",
    "\n",
    "fig = go.Figure()\n",
    "fig.add_trace(go.Bar(name=\"first\", x=[\"a\", \"b\"], y=[1, 2]))\n",
    "fig.add_trace(go.Bar(name=\"second\", x=[\"a\", \"b\"], y=[2, 1]))\n",
    "fig.add_shape(\n",
    "    name=\"first shape\",\n",
    "    showlegend=True,\n",
    "    type=\"rect\",\n",
    "    xref=\"paper\",\n",
    "    line=dict(dash=\"dash\"),\n",
    "    x0=0.85,\n",
    "    x1=0.95,\n",
    "    y0=0,\n",
    "    y1=1.5,\n",
    ")\n",
    "fig.add_trace(go.Bar(name=\"third\", x=[\"a\", \"b\"], y=[1, 2]))\n",
    "fig.add_trace(go.Bar(name=\"fourth\", x=[\"a\", \"b\"], y=[2, 1]))\n",
    "\n",
    "fig.show()\n"
   ]
  },
  {
   "cell_type": "markdown",
   "id": "973d743e",
   "metadata": {},
   "source": [
    "The `legendrank` attribute of a trace or shape can be used to control its placement in the legend.\n",
    "The default `legendrank` for traces and shapes is 1000. When all traces and shapes have the same `legendrank`, traces appear in the order they appear in the data, followed by shapes in the order they are defined.\n",
    "\n",
    "Any trace or shape can be pulled up to the top of the legend if it is the only one with a legend rank less than 1000 and pushed to the bottom if it is the only one with a rank greater than 1000.\n",
    "\n",
    "In this example, we add a `legendrank` for each trace and shape, giving the shape the lowest rank so it appears first, and moving the first trace defined to the bottom of the legend by giving it the highest rank."
   ]
  },
  {
   "cell_type": "code",
   "execution_count": null,
   "id": "85581a39",
   "metadata": {},
   "outputs": [],
   "source": [
    "import plotly.graph_objects as go\n",
    "\n",
    "fig = go.Figure()\n",
    "fig.add_trace(go.Bar(name=\"fourth\", x=[\"a\", \"b\"], y=[2,1], legendrank=5))\n",
    "fig.add_trace(go.Bar(name=\"second\", x=[\"a\", \"b\"], y=[2,1], legendrank=4))\n",
    "fig.add_trace(go.Bar(name=\"first\", x=[\"a\", \"b\"], y=[1,2], legendrank=2))\n",
    "fig.add_trace(go.Bar(name=\"third\", x=[\"a\", \"b\"], y=[1,2], legendrank=3))\n",
    "fig.add_shape(\n",
    "    legendrank=1,\n",
    "    showlegend=True,\n",
    "    type=\"line\",\n",
    "    xref=\"paper\",\n",
    "    line=dict(dash=\"5px\"),\n",
    "    x0=0.05,\n",
    "    x1=0.45,\n",
    "    y0=1.5,\n",
    "    y1=1.5,\n",
    ")\n",
    "fig.show()"
   ]
  },
  {
   "cell_type": "markdown",
   "id": "1c46c0c0",
   "metadata": {},
   "source": [
    "#### Showing and Hiding the Legend\n",
    "\n",
    "By default the legend is displayed on Plotly charts with multiple traces, and this can be explicitly set with the `layout.showlegend` attribute."
   ]
  },
  {
   "cell_type": "code",
   "execution_count": null,
   "id": "646b3cbb",
   "metadata": {
    "lines_to_next_cell": 2
   },
   "outputs": [],
   "source": [
    "import plotly.express as px\n",
    "\n",
    "df = px.data.tips()\n",
    "fig = px.histogram(df, x=\"sex\", y=\"total_bill\", color=\"time\",\n",
    "                  title=\"Total Bill by Sex, Colored by Time\")\n",
    "fig.update_layout(showlegend=False)\n",
    "fig.show()"
   ]
  },
  {
   "cell_type": "markdown",
   "id": "d44459cc",
   "metadata": {},
   "source": [
    "### Legend Positioning\n",
    "\n",
    "Legends have an anchor point, which can be set to a point within the legend using `layout.legend.xanchor` and `layout.legend.yanchor`. The coordinate of the anchor can be positioned with `layout.legend.x` and `layout.legend.y` in [paper coordinates](/python/figure-structure/). Note that the plot margins will grow so as to accommodate the legend. The legend may also be placed within the plotting area."
   ]
  },
  {
   "cell_type": "code",
   "execution_count": null,
   "id": "b6b13941",
   "metadata": {},
   "outputs": [],
   "source": [
    "import plotly.express as px\n",
    "\n",
    "df = px.data.gapminder().query(\"year==2007\")\n",
    "fig = px.scatter(df, x=\"gdpPercap\", y=\"lifeExp\", color=\"continent\",\n",
    "    size=\"pop\", size_max=45, log_x=True)\n",
    "\n",
    "fig.update_layout(legend=dict(\n",
    "    yanchor=\"top\",\n",
    "    y=0.99,\n",
    "    xanchor=\"left\",\n",
    "    x=0.01\n",
    "))\n",
    "\n",
    "fig.show()"
   ]
  },
  {
   "cell_type": "markdown",
   "id": "8ca88f8f",
   "metadata": {},
   "source": [
    "#### Legends in Dash\n",
    "\n",
    "[Dash](https://plotly.com/dash/) is the best way to build analytical apps in Python using Plotly figures. To run the app below, run `pip install dash`, click \"Download\" to get the code and run `python app.py`.\n",
    "\n",
    "Get started  with [the official Dash docs](https://dash.plotly.com/installation) and **learn how to effortlessly [style](https://plotly.com/dash/design-kit/) & [deploy](https://plotly.com/dash/app-manager/) apps like this with <a class=\"plotly-red\" href=\"https://plotly.com/dash/\">Dash Enterprise</a>.**\n"
   ]
  },
  {
   "cell_type": "code",
   "execution_count": null,
   "id": "67012d8e",
   "metadata": {
    "hide_code": true
   },
   "outputs": [],
   "source": [
    "from IPython.display import IFrame\n",
    "snippet_url = 'https://python-docs-dash-snippets.herokuapp.com/python-docs-dash-snippets/'\n",
    "IFrame(snippet_url + 'legend', width='100%', height=1200)"
   ]
  },
  {
   "cell_type": "markdown",
   "id": "92dd4fe8",
   "metadata": {},
   "source": [
    "<div style=\"font-size: 0.9em;\"><div style=\"width: calc(100% - 30px); box-shadow: none; border: thin solid rgb(229, 229, 229);\"><div style=\"padding: 5px;\"><div><p><strong>Sign up for Dash Club</strong> → Free cheat sheets plus updates from Chris Parmer and Adam Schroeder delivered to your inbox every two months. Includes tips and tricks, community apps, and deep dives into the Dash architecture.\n",
    "<u><a href=\"https://go.plotly.com/dash-club?utm_source=Dash+Club+2022&utm_medium=graphing_libraries&utm_content=inline\">Join now</a></u>.</p></div></div></div></div>"
   ]
  },
  {
   "cell_type": "markdown",
   "id": "8329ac41",
   "metadata": {},
   "source": [
    "#### Horizontal Legends\n",
    "\n",
    "The `layout.legend.orientation` attribute can be set to `\"h\"` for a horizontal legend. Here we also position it above the plotting area."
   ]
  },
  {
   "cell_type": "code",
   "execution_count": null,
   "id": "5bb00007",
   "metadata": {},
   "outputs": [],
   "source": [
    "import plotly.express as px\n",
    "\n",
    "df = px.data.gapminder().query(\"year==2007\")\n",
    "fig = px.scatter(df, x=\"gdpPercap\", y=\"lifeExp\", color=\"continent\",\n",
    "    size=\"pop\", size_max=45, log_x=True)\n",
    "\n",
    "fig.update_layout(legend=dict(\n",
    "    orientation=\"h\",\n",
    "    yanchor=\"bottom\",\n",
    "    y=1.02,\n",
    "    xanchor=\"right\",\n",
    "    x=1\n",
    "))\n",
    "\n",
    "fig.show()"
   ]
  },
  {
   "cell_type": "markdown",
   "id": "402de770",
   "metadata": {},
   "source": [
    "#### Horizontal Legend Entry Width\n",
    "\n",
    "*New in 5.11*\n",
    "\n",
    "Set the width of horizontal legend entries by setting `entrywidth`. Here we set it to `70` pixels. Pixels is the default unit for `entrywidth`, but you can set it to be a fraction of the plot width using `entrywidthmode='fraction'`."
   ]
  },
  {
   "cell_type": "code",
   "execution_count": null,
   "id": "3d73b0f1",
   "metadata": {},
   "outputs": [],
   "source": [
    "import plotly.express as px\n",
    "\n",
    "df = px.data.gapminder().query(\"year==2007\")\n",
    "fig = px.scatter(df, x=\"gdpPercap\", y=\"lifeExp\", color=\"continent\",\n",
    "    size=\"pop\", size_max=45, log_x=True)\n",
    "\n",
    "fig.update_layout(legend=dict(\n",
    "    orientation=\"h\",\n",
    "    entrywidth=70,\n",
    "    yanchor=\"bottom\",\n",
    "    y=1.02,\n",
    "    xanchor=\"right\",\n",
    "    x=1\n",
    "))\n",
    "\n",
    "fig.show()"
   ]
  },
  {
   "cell_type": "markdown",
   "id": "a23a756a",
   "metadata": {},
   "source": [
    "#### Styling Legends\n",
    "\n",
    "Legends support many styling options."
   ]
  },
  {
   "cell_type": "code",
   "execution_count": null,
   "id": "f943b49d",
   "metadata": {},
   "outputs": [],
   "source": [
    "import plotly.express as px\n",
    "\n",
    "df = px.data.gapminder().query(\"year==2007\")\n",
    "fig = px.scatter(df, x=\"gdpPercap\", y=\"lifeExp\", color=\"continent\",\n",
    "    size=\"pop\", size_max=45, log_x=True)\n",
    "\n",
    "\n",
    "fig.update_layout(\n",
    "    legend=dict(\n",
    "        x=0,\n",
    "        y=1,\n",
    "        traceorder=\"reversed\",\n",
    "        title_font_family=\"Times New Roman\",\n",
    "        font=dict(\n",
    "            family=\"Courier\",\n",
    "            size=12,\n",
    "            color=\"black\"\n",
    "        ),\n",
    "        bgcolor=\"LightSteelBlue\",\n",
    "        bordercolor=\"Black\",\n",
    "        borderwidth=2\n",
    "    )\n",
    ")\n",
    "\n",
    "fig.show()"
   ]
  },
  {
   "cell_type": "markdown",
   "id": "a7f4fdce",
   "metadata": {},
   "source": [
    "### Legends with Graph Objects\n",
    "\n",
    "When creating figures using [graph objects](/python/graph-objects/) without using [Plotly Express](/python/plotly-express/), legends must be manually configured using some of the options below."
   ]
  },
  {
   "cell_type": "markdown",
   "id": "7ffac218",
   "metadata": {},
   "source": [
    "#### Legend Item Names\n",
    "\n",
    "For traces, legend items appear per trace, and the legend item name is taken from the trace's `name` attribute."
   ]
  },
  {
   "cell_type": "code",
   "execution_count": null,
   "id": "74c91996",
   "metadata": {},
   "outputs": [],
   "source": [
    "import plotly.graph_objects as go\n",
    "\n",
    "fig = go.Figure()\n",
    "\n",
    "fig.add_trace(go.Scatter(\n",
    "    x=[1, 2, 3, 4, 5],\n",
    "    y=[1, 2, 3, 4, 5],\n",
    "    name=\"Positive\"\n",
    "))\n",
    "\n",
    "fig.add_trace(go.Scatter(\n",
    "    x=[1, 2, 3, 4, 5],\n",
    "    y=[5, 4, 3, 2, 1],\n",
    "    name=\"Negative\"\n",
    "))\n",
    "\n",
    "fig.show()"
   ]
  },
  {
   "cell_type": "markdown",
   "id": "06ee32f4",
   "metadata": {},
   "source": [
    "By default, for shapes, legend items are disabled. Set `showlegend=True` on a shape for it to display a legend item.\n",
    "The name that appears for the shape in the legend is the shape's `name` if it is provided. If no `name` is provided, the shape label's `text` is used. If neither is provided, the legend item appears as \"shape \\<shape number>\". For example, \"shape 1\"."
   ]
  },
  {
   "cell_type": "code",
   "execution_count": null,
   "id": "249b1490",
   "metadata": {},
   "outputs": [],
   "source": [
    "import plotly.graph_objects as go\n",
    "\n",
    "fig = go.Figure()\n",
    "\n",
    "fig.add_trace(go.Scatter(\n",
    "    x=[1, 2, 3, 4, 5],\n",
    "    y=[1, 2, 3, 4, 5],\n",
    "    name=\"Positive\"\n",
    "))\n",
    "\n",
    "fig.add_trace(go.Scatter(\n",
    "    x=[1, 2, 3, 4, 5],\n",
    "    y=[5, 4, 3, 2, 1],\n",
    "    name=\"Negative\"\n",
    "))\n",
    "\n",
    "fig.add_shape(\n",
    "    showlegend=True,\n",
    "    type=\"rect\",\n",
    "    x0=2,\n",
    "    x1=4,\n",
    "    y0=4.5,\n",
    "    y1=5,\n",
    ")\n",
    "\n",
    "fig.show()"
   ]
  },
  {
   "cell_type": "markdown",
   "id": "f221d8cb",
   "metadata": {},
   "source": [
    "#### Legend titles"
   ]
  },
  {
   "cell_type": "code",
   "execution_count": null,
   "id": "7c841c52",
   "metadata": {},
   "outputs": [],
   "source": [
    "import plotly.graph_objects as go\n",
    "\n",
    "fig = go.Figure()\n",
    "\n",
    "fig.add_trace(go.Scatter(\n",
    "    x=[1, 2, 3, 4, 5],\n",
    "    y=[1, 2, 3, 4, 5],\n",
    "    name=\"Increasing\"\n",
    "))\n",
    "\n",
    "fig.add_trace(go.Scatter(\n",
    "    x=[1, 2, 3, 4, 5],\n",
    "    y=[5, 4, 3, 2, 1],\n",
    "    name=\"Decreasing\"\n",
    "))\n",
    "\n",
    "fig.update_layout(legend_title_text='Trend')\n",
    "fig.show()"
   ]
  },
  {
   "cell_type": "markdown",
   "id": "31f78ac2",
   "metadata": {},
   "source": [
    "### Hiding Legend Items"
   ]
  },
  {
   "cell_type": "code",
   "execution_count": null,
   "id": "ff73b5fc",
   "metadata": {},
   "outputs": [],
   "source": [
    "import plotly.graph_objects as go\n",
    "\n",
    "fig = go.Figure()\n",
    "\n",
    "fig.add_trace(go.Scatter(\n",
    "    x=[1, 2, 3, 4, 5],\n",
    "    y=[1, 2, 3, 4, 5],\n",
    "    showlegend=False\n",
    "))\n",
    "\n",
    "\n",
    "fig.add_trace(go.Scatter(\n",
    "    x=[1, 2, 3, 4, 5],\n",
    "    y=[5, 4, 3, 2, 1],\n",
    "))\n",
    "\n",
    "fig.update_layout(showlegend=True)\n",
    "\n",
    "fig.show()"
   ]
  },
  {
   "cell_type": "markdown",
   "id": "2f18a1be",
   "metadata": {},
   "source": [
    "#### Hiding the Trace Initially\n",
    "\n",
    "Traces and shapes have a `visible` attribute. If set to `legendonly`, the trace or shape is hidden from the graph implicitly. Click on the name in the legend to display the hidden trace or shape."
   ]
  },
  {
   "cell_type": "code",
   "execution_count": null,
   "id": "372dbeb4",
   "metadata": {},
   "outputs": [],
   "source": [
    "import plotly.graph_objects as go\n",
    "\n",
    "fig = go.Figure()\n",
    "\n",
    "fig.add_trace(go.Scatter(\n",
    "    x=[1, 2, 3, 4, 5],\n",
    "    y=[1, 2, 3, 4, 5],\n",
    "))\n",
    "\n",
    "fig.add_trace(go.Scatter(\n",
    "    x=[1, 2, 3, 4, 5],\n",
    "    y=[5, 4, 3, 2, 1],\n",
    "    visible='legendonly'\n",
    "))\n",
    "\n",
    "fig.show()"
   ]
  },
  {
   "cell_type": "markdown",
   "id": "8d2806a5",
   "metadata": {},
   "source": [
    "#### Size of Legend Items\n",
    "\n",
    "In this example [itemsizing](https://plotly.com/python/reference/layout/#layout-legend-itemsizing) attribute determines the legend items symbols remain constant, regardless of how tiny/huge the bubbles would be in the graph."
   ]
  },
  {
   "cell_type": "code",
   "execution_count": null,
   "id": "995e82e9",
   "metadata": {},
   "outputs": [],
   "source": [
    "import plotly.graph_objects as go\n",
    "\n",
    "fig = go.Figure()\n",
    "\n",
    "fig.add_trace(go.Scatter(\n",
    "    x=[1, 2, 3, 4, 5],\n",
    "    y=[1, 2, 3, 4, 5],\n",
    "    mode='markers',\n",
    "    marker={'size':10}\n",
    "))\n",
    "\n",
    "fig.add_trace(go.Scatter(\n",
    "    x=[1, 2, 3, 4, 5],\n",
    "    y=[5, 4, 3, 2, 1],\n",
    "    mode='markers',\n",
    "    marker={'size':100}\n",
    "))\n",
    "\n",
    "fig.update_layout(legend= {'itemsizing': 'constant'})\n",
    "\n",
    "fig.show()"
   ]
  },
  {
   "cell_type": "markdown",
   "id": "08e06fb2",
   "metadata": {},
   "source": [
    "#### Grouped Legend Items\n",
    "\n",
    "Grouping legend items together by setting the `legendgroup` attribute of traces causes their legend entries to be next to each other, and clicking on any legend entry in the group will show or hide the whole group. The `legendgrouptitle` attribute can be used to give titles to groups."
   ]
  },
  {
   "cell_type": "code",
   "execution_count": null,
   "id": "cc8479c7",
   "metadata": {},
   "outputs": [],
   "source": [
    "import plotly.graph_objects as go\n",
    "\n",
    "fig = go.Figure()\n",
    "\n",
    "fig.add_trace(go.Scatter(\n",
    "    x=[1, 2, 3],\n",
    "    y=[2, 1, 3],\n",
    "    legendgroup=\"group\",  # this can be any string, not just \"group\"\n",
    "    legendgrouptitle_text=\"First Group Title\",\n",
    "    name=\"first legend group\",\n",
    "    mode=\"markers\",\n",
    "    marker=dict(color=\"Crimson\", size=10)\n",
    "))\n",
    "\n",
    "fig.add_trace(go.Scatter(\n",
    "    x=[1, 2, 3],\n",
    "    y=[2, 2, 2],\n",
    "    legendgroup=\"group\",\n",
    "    name=\"first legend group - average\",\n",
    "    mode=\"lines\",\n",
    "    line=dict(color=\"Crimson\")\n",
    "))\n",
    "\n",
    "fig.add_trace(go.Scatter(\n",
    "    x=[1, 2, 3],\n",
    "    y=[4, 9, 2],\n",
    "    legendgroup=\"group2\",\n",
    "    legendgrouptitle_text=\"Second Group Title\",\n",
    "    name=\"second legend group\",\n",
    "    mode=\"markers\",\n",
    "    marker=dict(color=\"MediumPurple\", size=10)\n",
    "))\n",
    "\n",
    "fig.add_trace(go.Scatter(\n",
    "    x=[1, 2, 3],\n",
    "    y=[5, 5, 5],\n",
    "    legendgroup=\"group2\",\n",
    "    name=\"second legend group - average\",\n",
    "    mode=\"lines\",\n",
    "    line=dict(color=\"MediumPurple\")\n",
    "))\n",
    "\n",
    "fig.update_layout(title=dict(text=\"Try Clicking on the Legend Items!\"))\n",
    "\n",
    "fig.show()"
   ]
  },
  {
   "cell_type": "markdown",
   "id": "0a74777f",
   "metadata": {},
   "source": [
    "You can also hide entries in grouped legends, preserving the grouped show/hide behaviour. This is what Plotly Express does with its legends."
   ]
  },
  {
   "cell_type": "code",
   "execution_count": null,
   "id": "e6649f1e",
   "metadata": {},
   "outputs": [],
   "source": [
    "import plotly.graph_objects as go\n",
    "\n",
    "fig = go.Figure()\n",
    "\n",
    "fig.add_trace(go.Scatter(\n",
    "    x=[1, 2, 3],\n",
    "    y=[2, 1, 3],\n",
    "    legendgroup=\"group\",  # this can be any string, not just \"group\"\n",
    "    name=\"first legend group\",\n",
    "    mode=\"markers\",\n",
    "    marker=dict(color=\"Crimson\", size=10)\n",
    "))\n",
    "\n",
    "fig.add_trace(go.Scatter(\n",
    "    x=[1, 2, 3],\n",
    "    y=[2, 2, 2],\n",
    "    legendgroup=\"group\",\n",
    "    name=\"first legend group - average\",\n",
    "    mode=\"lines\",\n",
    "    line=dict(color=\"Crimson\"),\n",
    "    showlegend=False,\n",
    "))\n",
    "\n",
    "fig.add_trace(go.Scatter(\n",
    "    x=[1, 2, 3],\n",
    "    y=[4, 9, 2],\n",
    "    legendgroup=\"group2\",\n",
    "    name=\"second legend group\",\n",
    "    mode=\"markers\",\n",
    "    marker=dict(color=\"MediumPurple\", size=10)\n",
    "))\n",
    "\n",
    "fig.add_trace(go.Scatter(\n",
    "    x=[1, 2, 3],\n",
    "    y=[5, 5, 5],\n",
    "    legendgroup=\"group2\",\n",
    "    name=\"second legend group - average\",\n",
    "    mode=\"lines\",\n",
    "    line=dict(color=\"MediumPurple\"),\n",
    "    showlegend=False\n",
    "))\n",
    "\n",
    "fig.update_layout(title=dict(text=\"Try Clicking on the Legend Items!\"))\n",
    "fig.show()"
   ]
  },
  {
   "cell_type": "markdown",
   "id": "aede6a38",
   "metadata": {},
   "source": [
    "#### Indent Legend Entries\n",
    "\n",
    "*New in 5.20*\n",
    "\n",
    "To indent legend entries, set `indenation` on `layout.legend` to a number of pixels. In the following example, we indent legend entries by 10 pixels."
   ]
  },
  {
   "cell_type": "code",
   "execution_count": null,
   "id": "156916af",
   "metadata": {},
   "outputs": [],
   "source": [
    "import plotly.graph_objects as go\n",
    "from plotly import data\n",
    "\n",
    "df = data.iris()\n",
    "\n",
    "fig = go.Figure(\n",
    "    [\n",
    "        go.Scatter(\n",
    "            x=df[df[\"species\"] == species][\"sepal_width\"],\n",
    "            y=df[df[\"species\"] == species][\"sepal_length\"],\n",
    "            mode=\"markers\",\n",
    "            name=species,\n",
    "        )\n",
    "        for species in df[\"species\"].unique()\n",
    "    ],\n",
    "    layout=dict(\n",
    "        legend=dict(\n",
    "            title=dict(\n",
    "                text=\"Species\",\n",
    "            ),\n",
    "            indentation=10\n",
    "        )\n",
    "    ),\n",
    ")\n",
    "\n",
    "\n",
    "fig.show()"
   ]
  },
  {
   "cell_type": "markdown",
   "id": "f2507e25",
   "metadata": {},
   "source": [
    "#### Group click toggle behavior\n",
    "\n",
    "*New in v5.3*\n",
    "\n",
    "You can also define the toggle behavior for when a user clicks an item in a group. Here we set the `groupclick` for the `legend` to `toggleitem`. This toggles the visibility of just the item clicked on by the user. Set to `togglegroup` and it toggles the visibility of all items in the same group as the item clicked on."
   ]
  },
  {
   "cell_type": "code",
   "execution_count": null,
   "id": "5d3eb611",
   "metadata": {},
   "outputs": [],
   "source": [
    "import plotly.graph_objects as go\n",
    "\n",
    "fig = go.Figure()\n",
    "\n",
    "fig.add_trace(go.Scatter(\n",
    "    x=[1, 2, 3],\n",
    "    y=[2, 1, 3],\n",
    "    legendgroup=\"group\",  # this can be any string, not just \"group\"\n",
    "    legendgrouptitle_text=\"First Group Title\",\n",
    "    name=\"first legend group\",\n",
    "    mode=\"markers\",\n",
    "    marker=dict(color=\"Crimson\", size=10)\n",
    "))\n",
    "\n",
    "fig.add_trace(go.Scatter(\n",
    "    x=[1, 2, 3],\n",
    "    y=[2, 2, 2],\n",
    "    legendgroup=\"group\",\n",
    "    name=\"first legend group - average\",\n",
    "    mode=\"lines\",\n",
    "    line=dict(color=\"Crimson\")\n",
    "))\n",
    "\n",
    "fig.add_trace(go.Scatter(\n",
    "    x=[1, 2, 3],\n",
    "    y=[4, 9, 2],\n",
    "    legendgroup=\"group2\",\n",
    "    legendgrouptitle_text=\"Second Group Title\",\n",
    "    name=\"second legend group\",\n",
    "    mode=\"markers\",\n",
    "    marker=dict(color=\"MediumPurple\", size=10)\n",
    "))\n",
    "\n",
    "fig.add_trace(go.Scatter(\n",
    "    x=[1, 2, 3],\n",
    "    y=[5, 5, 5],\n",
    "    legendgroup=\"group2\",\n",
    "    name=\"second legend group - average\",\n",
    "    mode=\"lines\",\n",
    "    line=dict(color=\"MediumPurple\")\n",
    "))\n",
    "\n",
    "fig.update_layout(title=dict(text=\"Try Clicking on the Legend Items!\"))\n",
    "fig.update_layout(legend=dict(groupclick=\"toggleitem\"))\n",
    "\n",
    "fig.show()\n"
   ]
  },
  {
   "cell_type": "markdown",
   "id": "d58e277d",
   "metadata": {},
   "source": [
    "### Legend items for continuous fields (2D and 3D)\n",
    "\n",
    "Traces corresponding to 2D fields (e.g. `go.Heatmap`, `go.Histogram2d`) or 3D fields (e.g. `go.Isosurface`, `go.Volume`, `go.Cone`) can also appear in the legend. They come with legend icons corresponding to each trace type, which are colored using the same colorscale as the trace.\n",
    "\n",
    "The example below explores a vector field using several traces. Note that you can click on legend items to hide or to select (with a double click) a specific trace. This will make the exploration of your data easier!"
   ]
  },
  {
   "cell_type": "code",
   "execution_count": null,
   "id": "f69457b1",
   "metadata": {},
   "outputs": [],
   "source": [
    "import numpy as np\n",
    "import plotly.graph_objects as go\n",
    "\n",
    "# Define vector and scalar fields\n",
    "x, y, z = np.mgrid[0:1:8j, 0:1:8j, 0:1:8j]\n",
    "u =    np.sin(np.pi*x) * np.cos(np.pi*z)\n",
    "v = -2*np.sin(np.pi*y) * np.cos(2*np.pi*z)\n",
    "w = np.cos(np.pi*x)*np.sin(np.pi*z) + np.cos(np.pi*y)*np.sin(2*np.pi*z)\n",
    "magnitude = np.sqrt(u**2 + v**2 + w**2)\n",
    "mask1 = np.logical_and(y>=.4, y<=.6)\n",
    "mask2 = y>.6\n",
    "\n",
    "fig = go.Figure(go.Isosurface(\n",
    "                      x=x.ravel(), y=y.ravel(), z=z.ravel(),\n",
    "                      value=magnitude.ravel(),\n",
    "                      isomin=1.9, isomax=1.9,\n",
    "                      colorscale=\"BuGn\",\n",
    "                      name='isosurface'))\n",
    "\n",
    "\n",
    "fig.add_trace(go.Cone(x=x[mask1], y=y[mask1], z=z[mask1],\n",
    "                      u=u[mask1], v=v[mask1], w=w[mask1],\n",
    "                      colorscale=\"Blues\",\n",
    "                      name='cones'\n",
    "))\n",
    "fig.add_trace(go.Streamtube(\n",
    "                      x=x[mask2], y=y[mask2], z=z[mask2],\n",
    "                      u=u[mask2], v=v[mask2], w=w[mask2],\n",
    "                      colorscale=\"Reds\",\n",
    "                      name='streamtubes'\n",
    "))\n",
    "# Update all traces together\n",
    "fig.update_traces(showlegend=True, showscale=False)\n",
    "fig.update_layout(width=600, title_text='Exploration of a vector field using several traces')\n",
    "fig.show()"
   ]
  },
  {
   "cell_type": "markdown",
   "id": "d63f146d",
   "metadata": {},
   "source": [
    "### Adding Multiple Legends\n",
    "\n",
    "*New in 5.15*\n",
    "\n",
    "By default, all traces and shapes appear on one legend. To have multiple legends, specify an alternative legend for a trace or shape using the `legend` property. For a second legend, set `legend=\"legend2\"`. Specify more legends with `legend=\"legend3\"`, `legend=\"legend4\"` and so on.\n",
    "\n",
    "In this example, the last two scatter traces display on the second legend, \"legend2\". On the figure's layout, we then position and style each legend.\n"
   ]
  },
  {
   "cell_type": "code",
   "execution_count": null,
   "id": "b430527d",
   "metadata": {},
   "outputs": [],
   "source": [
    "import plotly.graph_objects as go\n",
    "from plotly import data\n",
    "\n",
    "df = data.gapminder()\n",
    "\n",
    "df_germany = df.loc[(df.country.isin([\"Germany\"]))]\n",
    "df_france = df.loc[(df.country.isin([\"France\"]))]\n",
    "df_uk = df.loc[(df.country.isin([\"United Kingdom\"]))]\n",
    "\n",
    "\n",
    "df_averages_europe = (\n",
    "    df.loc[(df.continent.isin([\"Europe\"]))].groupby(by=\"year\").mean(numeric_only=True)\n",
    ")\n",
    "df_averages_americas = (\n",
    "    df.loc[(df.continent.isin([\"Americas\"]))].groupby(by=\"year\").mean(numeric_only=True)\n",
    ")\n",
    "\n",
    "\n",
    "fig = go.Figure(\n",
    "    data=[\n",
    "        go.Scatter(x=df_germany.year, y=df_germany.gdpPercap, name=\"Germany\"),\n",
    "        go.Scatter(x=df_france.year, y=df_france.gdpPercap, name=\"France\"),\n",
    "        go.Scatter(x=df_uk.year, y=df_uk.gdpPercap, name=\"UK\"),\n",
    "        go.Scatter(\n",
    "            x=df_averages_europe.index,\n",
    "            y=df_averages_europe.gdpPercap,\n",
    "            name=\"Europe\",\n",
    "            legend=\"legend2\",\n",
    "        ),\n",
    "        go.Scatter(\n",
    "            x=df_averages_americas.index,\n",
    "            y=df_averages_americas.gdpPercap,\n",
    "            name=\"Americas\",\n",
    "            legend=\"legend2\",\n",
    "        ),\n",
    "    ],\n",
    "    layout=dict(\n",
    "        title=dict(\n",
    "            text=\"GDP Per Capita\"\n",
    "        ),\n",
    "        legend=dict(\n",
    "            title=dict(\n",
    "                text=\"By country\"\n",
    "            ),\n",
    "            xref=\"container\",\n",
    "            yref=\"container\",\n",
    "            y=0.65,\n",
    "            bgcolor=\"Orange\"\n",
    "        ),\n",
    "        legend2=dict(\n",
    "            title=dict(\n",
    "                text=\"By continent\"\n",
    "            ),\n",
    "            xref=\"container\",\n",
    "            yref=\"container\",\n",
    "            y=0.85,\n",
    "            bgcolor=\"Gold\"\n",
    "        ),\n",
    "    ),\n",
    ")\n",
    "\n",
    "fig.show()"
   ]
  },
  {
   "cell_type": "markdown",
   "id": "1571277c",
   "metadata": {},
   "source": [
    "### Positioning Legends\n",
    "\n",
    "In the previous example, we position the second legend by specifying x and y values. By default, these values are based on the width and height of the plot area. It is also possible to specify values that reference the container width and height by setting \"xref=container\" and \"yref=\"container\" (the default values are \"xref=paper\" and \"yref=\"paper\"). When set to \"container\", the margin grows so the legend and plot don't overlap."
   ]
  },
  {
   "cell_type": "code",
   "execution_count": null,
   "id": "04a74c98",
   "metadata": {},
   "outputs": [],
   "source": [
    "import plotly.graph_objects as go\n",
    "from plotly import data\n",
    "\n",
    "df = data.gapminder()\n",
    "\n",
    "df_germany = df.loc[(df.country.isin([\"Germany\"]))]\n",
    "df_france = df.loc[(df.country.isin([\"France\"]))]\n",
    "df_uk = df.loc[(df.country.isin([\"United Kingdom\"]))]\n",
    "\n",
    "fig = go.Figure(\n",
    "    data=[\n",
    "        go.Scatter(x=df_germany.year, y=df_germany.gdpPercap, name=\"Germany\"),\n",
    "        go.Scatter(x=df_france.year, y=df_france.gdpPercap, name=\"France\"),\n",
    "        go.Scatter(x=df_uk.year, y=df_uk.gdpPercap, name=\"UK\"),\n",
    "    ],\n",
    "    layout=dict(\n",
    "        title=dict(text=\"GDP Per Capita\"),\n",
    "        legend={\n",
    "            \"x\": 0.9,\n",
    "            \"y\": 0.9,\n",
    "            \"xref\": \"container\",\n",
    "            \"yref\": \"container\",\n",
    "            \"bgcolor\": \"Gold\",\n",
    "        },\n",
    "    ),\n",
    ")\n",
    "\n",
    "fig.show()\n"
   ]
  },
  {
   "cell_type": "markdown",
   "id": "c3e3e89c",
   "metadata": {},
   "source": [
    "#### Reference\n",
    "\n",
    "See https://plotly.com/python/reference/layout/#layout-legend for more information!\n"
   ]
  },
  {
   "cell_type": "markdown",
   "id": "af9670d5",
   "metadata": {},
   "source": [
    "### What About Dash?\n",
    "\n",
    "[Dash](https://dash.plot.ly/) is an open-source framework for building analytical applications, with no Javascript required, and it is tightly integrated with the Plotly graphing library.\n",
    "\n",
    "Learn about how to install Dash at https://dash.plot.ly/installation.\n",
    "\n",
    "Everywhere in this page that you see `fig.show()`, you can display the same figure in a Dash application by passing it to the `figure` argument of the [`Graph` component](https://dash.plot.ly/dash-core-components/graph) from the built-in `dash_core_components` package like this:\n",
    "\n",
    "```python\n",
    "import plotly.graph_objects as go # or plotly.express as px\n",
    "fig = go.Figure() # or any Plotly Express function e.g. px.bar(...)\n",
    "# fig.add_trace( ... )\n",
    "# fig.update_layout( ... )\n",
    "\n",
    "from dash import Dash, dcc, html\n",
    "\n",
    "app = Dash()\n",
    "app.layout = html.Div([\n",
    "    dcc.Graph(figure=fig)\n",
    "])\n",
    "\n",
    "app.run_server(debug=True, use_reloader=False)  # Turn off reloader if inside Jupyter\n",
    "```"
   ]
  }
 ],
 "metadata": {
  "jupytext": {
   "notebook_metadata_filter": "all"
  },
  "kernelspec": {
   "display_name": "Python 3 (ipykernel)",
   "language": "python",
   "name": "python3"
  },
  "language_info": {
   "codemirror_mode": {
    "name": "ipython",
    "version": 3
   },
   "file_extension": ".py",
   "mimetype": "text/x-python",
   "name": "python",
   "nbconvert_exporter": "python",
   "pygments_lexer": "ipython3",
   "version": "3.10.11"
  },
  "plotly": {
   "description": "How to configure and style the legend in Plotly with Python.",
   "display_as": "file_settings",
   "language": "python",
   "layout": "base",
   "name": "Legends",
   "order": 15,
   "permalink": "python/legend/",
   "redirect_from": "python/horizontal-legend/",
   "thumbnail": "thumbnail/legends.gif"
  }
 },
 "nbformat": 4,
 "nbformat_minor": 5
}
