{
 "cells": [
  {
   "cell_type": "markdown",
   "id": "d9878628",
   "metadata": {},
   "source": [
    "## Scatter plots with Plotly Express\n",
    "\n",
    "[Plotly Express](/python/plotly-express/) is the easy-to-use, high-level interface to Plotly, which [operates on a variety of types of data](/python/px-arguments/) and produces [easy-to-style figures](/python/styling-plotly-express/).\n",
    "\n",
    "With `px.scatter`, each data point is represented as a marker point, whose location is given by the `x` and `y` columns."
   ]
  },
  {
   "cell_type": "code",
   "execution_count": null,
   "id": "a6db9280",
   "metadata": {},
   "outputs": [],
   "source": [
    "# x and y given as array_like objects\n",
    "import plotly.express as px\n",
    "fig = px.scatter(x=[0, 1, 2, 3, 4], y=[0, 1, 4, 9, 16])\n",
    "fig.show()"
   ]
  },
  {
   "cell_type": "code",
   "execution_count": null,
   "id": "a6396cde",
   "metadata": {},
   "outputs": [],
   "source": [
    "# x and y given as DataFrame columns\n",
    "import plotly.express as px\n",
    "df = px.data.iris() # iris is a pandas DataFrame\n",
    "fig = px.scatter(df, x=\"sepal_width\", y=\"sepal_length\")\n",
    "fig.show()"
   ]
  },
  {
   "cell_type": "markdown",
   "id": "e5d015aa",
   "metadata": {},
   "source": [
    "#### Setting size and color with column names\n",
    "\n",
    "Scatter plots with variable-sized circular markers are often known as [bubble charts](https://plotly.com/python/bubble-charts/). Note that `color` and `size` data are added to hover information. You can add other columns to hover data with the `hover_data` argument of `px.scatter`."
   ]
  },
  {
   "cell_type": "code",
   "execution_count": null,
   "id": "ccf16d03",
   "metadata": {},
   "outputs": [],
   "source": [
    "import plotly.express as px\n",
    "df = px.data.iris()\n",
    "fig = px.scatter(df, x=\"sepal_width\", y=\"sepal_length\", color=\"species\",\n",
    "                 size='petal_length', hover_data=['petal_width'])\n",
    "fig.show()"
   ]
  },
  {
   "cell_type": "markdown",
   "id": "f0281b12",
   "metadata": {},
   "source": [
    "Color can be [continuous](https://plotly.com/python/colorscales/) as follows, or [discrete/categorical](https://plotly.com/python/discrete-color/) as above."
   ]
  },
  {
   "cell_type": "code",
   "execution_count": null,
   "id": "21603ab0",
   "metadata": {},
   "outputs": [],
   "source": [
    "import plotly.express as px\n",
    "df = px.data.iris()\n",
    "fig = px.scatter(df, x=\"sepal_width\", y=\"sepal_length\", color='petal_length')\n",
    "fig.show()"
   ]
  },
  {
   "cell_type": "markdown",
   "id": "c33f1984",
   "metadata": {},
   "source": [
    "The `symbol` argument can be mapped to a column as well. A [wide variety of symbols](https://plotly.com/python/marker-style/) are available."
   ]
  },
  {
   "cell_type": "code",
   "execution_count": null,
   "id": "7d95d0f5",
   "metadata": {},
   "outputs": [],
   "source": [
    "import plotly.express as px\n",
    "df = px.data.iris()\n",
    "fig = px.scatter(df, x=\"sepal_width\", y=\"sepal_length\", color=\"species\", symbol=\"species\")\n",
    "fig.show()"
   ]
  },
  {
   "cell_type": "markdown",
   "id": "6c9b3c84",
   "metadata": {},
   "source": [
    "## Scatter plots in Dash\n",
    "\n",
    "[Dash](https://plotly.com/dash/) is the best way to build analytical apps in Python using Plotly figures. To run the app below, run `pip install dash`, click \"Download\" to get the code and run `python app.py`.\n",
    "\n",
    "Get started  with [the official Dash docs](https://dash.plotly.com/installation) and **learn how to effortlessly [style](https://plotly.com/dash/design-kit/) & [deploy](https://plotly.com/dash/app-manager/) apps like this with <a class=\"plotly-red\" href=\"https://plotly.com/dash/\">Dash Enterprise</a>.**\n"
   ]
  },
  {
   "cell_type": "code",
   "execution_count": null,
   "id": "f62767a3",
   "metadata": {
    "hide_code": true
   },
   "outputs": [],
   "source": [
    "from IPython.display import IFrame\n",
    "snippet_url = 'https://python-docs-dash-snippets.herokuapp.com/python-docs-dash-snippets/'\n",
    "IFrame(snippet_url + 'line-and-scatter', width='100%', height=1200)"
   ]
  },
  {
   "cell_type": "markdown",
   "id": "d80baf60",
   "metadata": {},
   "source": [
    "<div style=\"font-size: 0.9em;\"><div style=\"width: calc(100% - 30px); box-shadow: none; border: thin solid rgb(229, 229, 229);\"><div style=\"padding: 5px;\"><div><p><strong>Sign up for Dash Club</strong> → Free cheat sheets plus updates from Chris Parmer and Adam Schroeder delivered to your inbox every two months. Includes tips and tricks, community apps, and deep dives into the Dash architecture.\n",
    "<u><a href=\"https://go.plotly.com/dash-club?utm_source=Dash+Club+2022&utm_medium=graphing_libraries&utm_content=inline\">Join now</a></u>.</p></div></div></div></div>"
   ]
  },
  {
   "cell_type": "markdown",
   "id": "a5906478",
   "metadata": {},
   "source": [
    "### Scatter plots and Categorical Axes\n",
    "\n",
    "Scatter plots can be made using any type of cartesian axis, including [linear](https://plotly.com/python/axes/), [logarithmic](https://plotly.com/python/log-plot/), [categorical](https://plotly.com/python/categorical-axes/) or [date](https://plotly.com/python/time-series/) axes.\n",
    "\n",
    "Scatter plots where one axis is categorical are often known as [dot plots](https://plotly.com/python/dot-plots/)."
   ]
  },
  {
   "cell_type": "code",
   "execution_count": null,
   "id": "5630d6c0",
   "metadata": {},
   "outputs": [],
   "source": [
    "import plotly.express as px\n",
    "df = px.data.medals_long()\n",
    "\n",
    "fig = px.scatter(df, y=\"nation\", x=\"count\", color=\"medal\", symbol=\"medal\")\n",
    "fig.update_traces(marker_size=10)\n",
    "fig.show()"
   ]
  },
  {
   "cell_type": "markdown",
   "id": "ec83b97b",
   "metadata": {},
   "source": [
    "### Grouped Scatter Points\n",
    "\n",
    "*New in 5.12*\n",
    "\n",
    "By default, scatter points at the same location are overlayed. We can see this in the previous example, with the values for Canada for bronze and silver. Set `scattermode='group'` to plot scatter points next to one another, centered around the shared location."
   ]
  },
  {
   "cell_type": "code",
   "execution_count": null,
   "id": "ab7c6b5b",
   "metadata": {},
   "outputs": [],
   "source": [
    "import plotly.express as px\n",
    "\n",
    "df = px.data.medals_long()\n",
    "\n",
    "fig = px.scatter(df, y=\"count\", x=\"nation\", color=\"medal\")\n",
    "fig.update_traces(marker_size=10)\n",
    "fig.update_layout(scattermode=\"group\")\n",
    "fig.show()"
   ]
  },
  {
   "cell_type": "markdown",
   "id": "b599c5f4",
   "metadata": {},
   "source": [
    "*New in 5.12*\n",
    "\n",
    "You can configure the gap between groups of scatter points using `scattergap`. Here we set it to `0.75`, which brings the points closer together by allocating more space to the gap between groups. If you don't set `scattergap`, a default value of `0` is used, unless you have `bargap` set. If you have `bargap` set, the `scattergap` defaults to that value.\n"
   ]
  },
  {
   "cell_type": "code",
   "execution_count": null,
   "id": "7948e3f2",
   "metadata": {},
   "outputs": [],
   "source": [
    "import plotly.express as px\n",
    "\n",
    "df = px.data.medals_long()\n",
    "\n",
    "fig = px.scatter(df, y=\"count\", x=\"nation\", color=\"medal\")\n",
    "fig.update_traces(marker_size=10)\n",
    "fig.update_layout(scattermode=\"group\", scattergap=0.75)\n",
    "fig.show()"
   ]
  },
  {
   "cell_type": "markdown",
   "id": "4227a422",
   "metadata": {},
   "source": [
    "### Error Bars\n",
    "\n",
    "Scatter plots support [error bars](https://plotly.com/python/error-bars/)."
   ]
  },
  {
   "cell_type": "code",
   "execution_count": null,
   "id": "14319b3c",
   "metadata": {},
   "outputs": [],
   "source": [
    "import plotly.express as px\n",
    "df = px.data.iris()\n",
    "df[\"e\"] = df[\"sepal_width\"]/100\n",
    "fig = px.scatter(df, x=\"sepal_width\", y=\"sepal_length\", color=\"species\",\n",
    "                 error_x=\"e\", error_y=\"e\")\n",
    "fig.show()"
   ]
  },
  {
   "cell_type": "markdown",
   "id": "b86dcc8f",
   "metadata": {},
   "source": [
    "### Marginal Distribution Plots\n",
    "\n",
    "Scatter plots support [marginal distribution plots](https://plotly.com/python/marginal-plots/)"
   ]
  },
  {
   "cell_type": "code",
   "execution_count": null,
   "id": "6b80cddb",
   "metadata": {},
   "outputs": [],
   "source": [
    "import plotly.express as px\n",
    "df = px.data.iris()\n",
    "fig = px.scatter(df, x=\"sepal_length\", y=\"sepal_width\", marginal_x=\"histogram\", marginal_y=\"rug\")\n",
    "fig.show()"
   ]
  },
  {
   "cell_type": "markdown",
   "id": "fac8d57f",
   "metadata": {},
   "source": [
    "### Facetting\n",
    "\n",
    "Scatter plots support [faceting](https://plotly.com/python/facet-plots/)."
   ]
  },
  {
   "cell_type": "code",
   "execution_count": null,
   "id": "4c67a8d2",
   "metadata": {},
   "outputs": [],
   "source": [
    "import plotly.express as px\n",
    "df = px.data.tips()\n",
    "fig = px.scatter(df, x=\"total_bill\", y=\"tip\", color=\"smoker\", facet_col=\"sex\", facet_row=\"time\")\n",
    "fig.show()"
   ]
  },
  {
   "cell_type": "markdown",
   "id": "59e114b4",
   "metadata": {},
   "source": [
    "### Linear Regression and Other Trendlines\n",
    "\n",
    "Scatter plots support [linear and non-linear trendlines](https://plotly.com/python/linear-fits/)."
   ]
  },
  {
   "cell_type": "code",
   "execution_count": null,
   "id": "b7d23275",
   "metadata": {},
   "outputs": [],
   "source": [
    "import plotly.express as px\n",
    "\n",
    "df = px.data.tips()\n",
    "fig = px.scatter(df, x=\"total_bill\", y=\"tip\", trendline=\"ols\")\n",
    "fig.show()"
   ]
  },
  {
   "cell_type": "markdown",
   "id": "a79d6ecd",
   "metadata": {},
   "source": [
    "## Line plots with Plotly Express"
   ]
  },
  {
   "cell_type": "code",
   "execution_count": null,
   "id": "340979d6",
   "metadata": {},
   "outputs": [],
   "source": [
    "import plotly.express as px\n",
    "import numpy as np\n",
    "\n",
    "t = np.linspace(0, 2*np.pi, 100)\n",
    "\n",
    "fig = px.line(x=t, y=np.cos(t), labels={'x':'t', 'y':'cos(t)'})\n",
    "fig.show()"
   ]
  },
  {
   "cell_type": "code",
   "execution_count": null,
   "id": "00f81b48",
   "metadata": {},
   "outputs": [],
   "source": [
    "import plotly.express as px\n",
    "df = px.data.gapminder().query(\"continent == 'Oceania'\")\n",
    "fig = px.line(df, x='year', y='lifeExp', color='country')\n",
    "fig.show()"
   ]
  },
  {
   "cell_type": "markdown",
   "id": "b40c29f0",
   "metadata": {},
   "source": [
    "The `markers` argument can be set to `True` to show markers on lines."
   ]
  },
  {
   "cell_type": "code",
   "execution_count": null,
   "id": "e6c8f061",
   "metadata": {},
   "outputs": [],
   "source": [
    "import plotly.express as px\n",
    "df = px.data.gapminder().query(\"continent == 'Oceania'\")\n",
    "fig = px.line(df, x='year', y='lifeExp', color='country', markers=True)\n",
    "fig.show()"
   ]
  },
  {
   "cell_type": "markdown",
   "id": "bccd39a0",
   "metadata": {},
   "source": [
    "The `symbol` argument can be used to map a data field to the marker symbol. A [wide variety of symbols](https://plotly.com/python/marker-style/) are available."
   ]
  },
  {
   "cell_type": "code",
   "execution_count": null,
   "id": "50ffb920",
   "metadata": {},
   "outputs": [],
   "source": [
    "import plotly.express as px\n",
    "df = px.data.gapminder().query(\"continent == 'Oceania'\")\n",
    "fig = px.line(df, x='year', y='lifeExp', color='country', symbol=\"country\")\n",
    "fig.show()"
   ]
  },
  {
   "cell_type": "markdown",
   "id": "2e3c66fe",
   "metadata": {},
   "source": [
    "### Line plots on Date axes\n",
    "\n",
    "Line plots can be made on using any type of cartesian axis, including [linear](https://plotly.com/python/axes/), [logarithmic](https://plotly.com/python/log-plot/), [categorical](https://plotly.com/python/categorical-axes/) or date axes. Line plots on date axes are often called [time-series charts](https://plotly.com/python/time-series/).\n",
    "\n",
    "Plotly auto-sets the axis type to a date format when the corresponding data are either ISO-formatted date strings or if they're a [date pandas column](https://pandas.pydata.org/pandas-docs/stable/user_guide/timeseries.html) or [datetime NumPy array](https://docs.scipy.org/doc/numpy/reference/arrays.datetime.html)."
   ]
  },
  {
   "cell_type": "code",
   "execution_count": null,
   "id": "60c41b0b",
   "metadata": {},
   "outputs": [],
   "source": [
    "import plotly.express as px\n",
    "\n",
    "df = px.data.stocks()\n",
    "fig = px.line(df, x='date', y=\"GOOG\")\n",
    "fig.show()"
   ]
  },
  {
   "cell_type": "markdown",
   "id": "1aef1f3c",
   "metadata": {},
   "source": [
    "### Data Order in Scatter and Line Charts\n",
    "\n",
    "Plotly line charts are implemented as [connected scatterplots](https://www.data-to-viz.com/graph/connectedscatter.html) (see below), meaning that the points are plotted and connected with lines **in the order they are provided, with no automatic reordering**.\n",
    "\n",
    "This makes it possible to make charts like the one below, but also means that it may be required to explicitly sort data before passing it to Plotly to avoid lines moving \"backwards\" across the chart."
   ]
  },
  {
   "cell_type": "code",
   "execution_count": null,
   "id": "3a888c95",
   "metadata": {},
   "outputs": [],
   "source": [
    "import plotly.express as px\n",
    "import pandas as pd\n",
    "\n",
    "df = pd.DataFrame(dict(\n",
    "    x = [1, 3, 2, 4],\n",
    "    y = [1, 2, 3, 4]\n",
    "))\n",
    "fig = px.line(df, x=\"x\", y=\"y\", title=\"Unsorted Input\")\n",
    "fig.show()\n",
    "\n",
    "df = df.sort_values(by=\"x\")\n",
    "fig = px.line(df, x=\"x\", y=\"y\", title=\"Sorted Input\")\n",
    "fig.show()"
   ]
  },
  {
   "cell_type": "markdown",
   "id": "6d972c9c",
   "metadata": {},
   "source": [
    "### Connected Scatterplots\n",
    "\n",
    "In a connected scatterplot, two continuous variables are plotted against each other, with a line connecting them in some meaningful order, usually a time variable. In the plot below, we show the \"trajectory\" of a pair of countries through a space defined by GDP per Capita and Life Expectancy. Botswana's life expectancy"
   ]
  },
  {
   "cell_type": "code",
   "execution_count": null,
   "id": "6b414998",
   "metadata": {},
   "outputs": [],
   "source": [
    "import plotly.express as px\n",
    "\n",
    "df = px.data.gapminder().query(\"country in ['Canada', 'Botswana']\")\n",
    "\n",
    "fig = px.line(df, x=\"lifeExp\", y=\"gdpPercap\", color=\"country\", text=\"year\")\n",
    "fig.update_traces(textposition=\"bottom right\")\n",
    "fig.show()"
   ]
  },
  {
   "cell_type": "markdown",
   "id": "8d842207",
   "metadata": {},
   "source": [
    "## Scatter and line plots with go.Scatter\n",
    "\n",
    "If Plotly Express does not provide a good starting point, it is possible to use [the more generic `go.Scatter` class from `plotly.graph_objects`](/python/graph-objects/). Whereas `plotly.express` has two functions `scatter` and `line`, `go.Scatter` can be used both for plotting points (makers) or lines, depending on the value of `mode`. The different options of `go.Scatter` are documented in its [reference page](https://plotly.com/python/reference/scatter/).\n",
    "\n",
    "#### Simple Scatter Plot"
   ]
  },
  {
   "cell_type": "code",
   "execution_count": null,
   "id": "8f3d5421",
   "metadata": {},
   "outputs": [],
   "source": [
    "import plotly.graph_objects as go\n",
    "import numpy as np\n",
    "\n",
    "N = 1000\n",
    "t = np.linspace(0, 10, 100)\n",
    "y = np.sin(t)\n",
    "\n",
    "fig = go.Figure(data=go.Scatter(x=t, y=y, mode='markers'))\n",
    "\n",
    "fig.show()"
   ]
  },
  {
   "cell_type": "markdown",
   "id": "2db622ce",
   "metadata": {},
   "source": [
    "#### Line and Scatter Plots\n",
    "\n",
    "Use `mode` argument to choose between markers, lines, or a combination of both. For more options about line plots, see also the [line charts notebook](https://plotly.com/python/line-charts/) and the [filled area plots notebook](https://plotly.com/python/filled-area-plots/)."
   ]
  },
  {
   "cell_type": "code",
   "execution_count": null,
   "id": "a4872c38",
   "metadata": {},
   "outputs": [],
   "source": [
    "import plotly.graph_objects as go\n",
    "\n",
    "# Create random data with numpy\n",
    "import numpy as np\n",
    "np.random.seed(1)\n",
    "\n",
    "N = 100\n",
    "random_x = np.linspace(0, 1, N)\n",
    "random_y0 = np.random.randn(N) + 5\n",
    "random_y1 = np.random.randn(N)\n",
    "random_y2 = np.random.randn(N) - 5\n",
    "\n",
    "fig = go.Figure()\n",
    "\n",
    "# Add traces\n",
    "fig.add_trace(go.Scatter(x=random_x, y=random_y0,\n",
    "                    mode='markers',\n",
    "                    name='markers'))\n",
    "fig.add_trace(go.Scatter(x=random_x, y=random_y1,\n",
    "                    mode='lines+markers',\n",
    "                    name='lines+markers'))\n",
    "fig.add_trace(go.Scatter(x=random_x, y=random_y2,\n",
    "                    mode='lines',\n",
    "                    name='lines'))\n",
    "\n",
    "fig.show()"
   ]
  },
  {
   "cell_type": "markdown",
   "id": "436a1726",
   "metadata": {},
   "source": [
    "#### Bubble Scatter Plots\n",
    "\n",
    "In [bubble charts](https://en.wikipedia.org/wiki/Bubble_chart), a third dimension of the data is shown through the size of markers. For more examples, see the [bubble chart notebook](https://plotly.com/python/bubble-charts/)"
   ]
  },
  {
   "cell_type": "code",
   "execution_count": null,
   "id": "a2195fe0",
   "metadata": {},
   "outputs": [],
   "source": [
    "import plotly.graph_objects as go\n",
    "\n",
    "fig = go.Figure(data=go.Scatter(\n",
    "    x=[1, 2, 3, 4],\n",
    "    y=[10, 11, 12, 13],\n",
    "    mode='markers',\n",
    "    marker=dict(size=[40, 60, 80, 100],\n",
    "                color=[0, 1, 2, 3])\n",
    "))\n",
    "\n",
    "fig.show()"
   ]
  },
  {
   "cell_type": "markdown",
   "id": "1148081b",
   "metadata": {},
   "source": [
    "#### Style Scatter Plots"
   ]
  },
  {
   "cell_type": "code",
   "execution_count": null,
   "id": "6ac34b43",
   "metadata": {},
   "outputs": [],
   "source": [
    "import plotly.graph_objects as go\n",
    "import numpy as np\n",
    "\n",
    "\n",
    "t = np.linspace(0, 10, 100)\n",
    "\n",
    "fig = go.Figure()\n",
    "\n",
    "fig.add_trace(go.Scatter(\n",
    "    x=t, y=np.sin(t),\n",
    "    name='sin',\n",
    "    mode='markers',\n",
    "    marker_color='rgba(152, 0, 0, .8)'\n",
    "))\n",
    "\n",
    "fig.add_trace(go.Scatter(\n",
    "    x=t, y=np.cos(t),\n",
    "    name='cos',\n",
    "    marker_color='rgba(255, 182, 193, .9)'\n",
    "))\n",
    "\n",
    "# Set options common to all traces with fig.update_traces\n",
    "fig.update_traces(mode='markers', marker_line_width=2, marker_size=10)\n",
    "fig.update_layout(title=dict(text='Styled Scatter'),\n",
    "                  yaxis_zeroline=False, xaxis_zeroline=False)\n",
    "\n",
    "\n",
    "fig.show()"
   ]
  },
  {
   "cell_type": "markdown",
   "id": "40ea6169",
   "metadata": {},
   "source": [
    "#### Data Labels on Hover"
   ]
  },
  {
   "cell_type": "code",
   "execution_count": null,
   "id": "4b6b6b64",
   "metadata": {},
   "outputs": [],
   "source": [
    "import plotly.graph_objects as go\n",
    "import pandas as pd\n",
    "\n",
    "data= pd.read_csv(\"https://raw.githubusercontent.com/plotly/datasets/master/2014_usa_states.csv\")\n",
    "\n",
    "fig = go.Figure(data=go.Scatter(x=data['Postal'],\n",
    "                                y=data['Population'],\n",
    "                                mode='markers',\n",
    "                                marker_color=data['Population'],\n",
    "                                text=data['State'])) # hover text goes here\n",
    "\n",
    "fig.update_layout(title=dict(text='Population of USA States'))\n",
    "fig.show()\n"
   ]
  },
  {
   "cell_type": "markdown",
   "id": "7ce15d01",
   "metadata": {},
   "source": [
    "#### Scatter with a Color Dimension"
   ]
  },
  {
   "cell_type": "code",
   "execution_count": null,
   "id": "807a0bd3",
   "metadata": {},
   "outputs": [],
   "source": [
    "import plotly.graph_objects as go\n",
    "import numpy as np\n",
    "\n",
    "fig = go.Figure(data=go.Scatter(\n",
    "    y = np.random.randn(500),\n",
    "    mode='markers',\n",
    "    marker=dict(\n",
    "        size=16,\n",
    "        color=np.random.randn(500), #set color equal to a variable\n",
    "        colorscale='Viridis', # one of plotly colorscales\n",
    "        showscale=True\n",
    "    )\n",
    "))\n",
    "\n",
    "fig.show()"
   ]
  },
  {
   "cell_type": "markdown",
   "id": "d112543f",
   "metadata": {},
   "source": [
    "#### Trace Zorder\n",
    "\n",
    "*New in 5.21*\n",
    "\n",
    "For many trace types, including `go.Scatter`, you can define the order traces are drawn in by setting a `zorder`. Traces with a higher `zorder` appear at the front, with traces with a lower `zorder` at the back. In this example, we give our trace for 'France' the highest `zorder`, meaning it is drawn in front of the other two traces:"
   ]
  },
  {
   "cell_type": "code",
   "execution_count": null,
   "id": "308330af",
   "metadata": {},
   "outputs": [],
   "source": [
    "import plotly.graph_objects as go\n",
    "import plotly.data as data\n",
    "\n",
    "df = data.gapminder()\n",
    "\n",
    "df_europe = df[df['continent'] == 'Europe']\n",
    "\n",
    "trace1 = go.Scatter(x=df_europe[df_europe['country'] == 'France']['year'],\n",
    "                    y=df_europe[df_europe['country'] == 'France']['lifeExp'],\n",
    "                    mode='lines+markers',\n",
    "                    zorder=3,\n",
    "                    name='France',\n",
    "                    marker=dict(size=15))\n",
    "\n",
    "trace2 = go.Scatter(x=df_europe[df_europe['country'] == 'Germany']['year'],\n",
    "                    y=df_europe[df_europe['country'] == 'Germany']['lifeExp'],\n",
    "                    mode='lines+markers',\n",
    "                    zorder=1,\n",
    "                    name='Germany',\n",
    "                    marker=dict(size=15))\n",
    "\n",
    "trace3 = go.Scatter(x=df_europe[df_europe['country'] == 'Spain']['year'],\n",
    "                    y=df_europe[df_europe['country'] == 'Spain']['lifeExp'],\n",
    "                    mode='lines+markers',\n",
    "                    zorder=2,\n",
    "                    name='Spain',\n",
    "                    marker=dict(size=15))\n",
    "\n",
    "layout = go.Layout(title=dict(text='Life Expectancy in Europe Over Time'))\n",
    "\n",
    "fig = go.Figure(data=[trace1, trace2, trace3], layout=layout)\n",
    "\n",
    "fig.show()"
   ]
  },
  {
   "cell_type": "markdown",
   "id": "612b8584",
   "metadata": {},
   "source": [
    "#### Large Data Sets\n",
    "\n",
    "Now in Plotly you can implement WebGL with `Scattergl()` in place of `Scatter()` <br>\n",
    "for increased speed, improved interactivity, and the ability to plot even more data!"
   ]
  },
  {
   "cell_type": "code",
   "execution_count": null,
   "id": "cfe5ab2d",
   "metadata": {},
   "outputs": [],
   "source": [
    "import plotly.graph_objects as go\n",
    "import numpy as np\n",
    "\n",
    "N = 100000\n",
    "fig = go.Figure(data=go.Scattergl(\n",
    "    x = np.random.randn(N),\n",
    "    y = np.random.randn(N),\n",
    "    mode='markers',\n",
    "    marker=dict(\n",
    "        color=np.random.randn(N),\n",
    "        colorscale='Viridis',\n",
    "        line_width=1\n",
    "    )\n",
    "))\n",
    "\n",
    "fig.show()"
   ]
  },
  {
   "cell_type": "code",
   "execution_count": null,
   "id": "e528f47a",
   "metadata": {},
   "outputs": [],
   "source": [
    "import plotly.graph_objects as go\n",
    "import numpy as np\n",
    "\n",
    "N = 100000\n",
    "r = np.random.uniform(0, 1, N)\n",
    "theta = np.random.uniform(0, 2*np.pi, N)\n",
    "\n",
    "fig = go.Figure(data=go.Scattergl(\n",
    "    x = r * np.cos(theta), # non-uniform distribution\n",
    "    y = r * np.sin(theta), # zoom to see more points at the center\n",
    "    mode='markers',\n",
    "    marker=dict(\n",
    "        color=np.random.randn(N),\n",
    "        colorscale='Viridis',\n",
    "        line_width=1\n",
    "    )\n",
    "))\n",
    "\n",
    "fig.show()"
   ]
  },
  {
   "cell_type": "markdown",
   "id": "6e678a2c",
   "metadata": {},
   "source": [
    "### Reference\n",
    "\n",
    "See [function reference for `px.scatter()`](https://plotly.com/python-api-reference/generated/plotly.express.scatter) or https://plotly.com/python/reference/scatter/ or https://plotly.com/python/reference/scattergl/ for more information and chart attribute options!\n"
   ]
  },
  {
   "cell_type": "markdown",
   "id": "c992e0e6",
   "metadata": {},
   "source": [
    "### What About Dash?\n",
    "\n",
    "[Dash](https://dash.plot.ly/) is an open-source framework for building analytical applications, with no Javascript required, and it is tightly integrated with the Plotly graphing library.\n",
    "\n",
    "Learn about how to install Dash at https://dash.plot.ly/installation.\n",
    "\n",
    "Everywhere in this page that you see `fig.show()`, you can display the same figure in a Dash application by passing it to the `figure` argument of the [`Graph` component](https://dash.plot.ly/dash-core-components/graph) from the built-in `dash_core_components` package like this:\n",
    "\n",
    "```python\n",
    "import plotly.graph_objects as go # or plotly.express as px\n",
    "fig = go.Figure() # or any Plotly Express function e.g. px.bar(...)\n",
    "# fig.add_trace( ... )\n",
    "# fig.update_layout( ... )\n",
    "\n",
    "from dash import Dash, dcc, html\n",
    "\n",
    "app = Dash()\n",
    "app.layout = html.Div([\n",
    "    dcc.Graph(figure=fig)\n",
    "])\n",
    "\n",
    "app.run_server(debug=True, use_reloader=False)  # Turn off reloader if inside Jupyter\n",
    "```"
   ]
  }
 ],
 "metadata": {
  "jupytext": {
   "notebook_metadata_filter": "all"
  },
  "kernelspec": {
   "display_name": "Python 3 (ipykernel)",
   "language": "python",
   "name": "python3"
  },
  "language_info": {
   "codemirror_mode": {
    "name": "ipython",
    "version": 3
   },
   "file_extension": ".py",
   "mimetype": "text/x-python",
   "name": "python",
   "nbconvert_exporter": "python",
   "pygments_lexer": "ipython3",
   "version": "3.10.11"
  },
  "plotly": {
   "description": "How to make scatter plots in Python with Plotly.",
   "display_as": "basic",
   "language": "python",
   "layout": "base",
   "name": "Scatter Plots",
   "order": 1,
   "page_type": "example_index",
   "permalink": "python/line-and-scatter/",
   "redirect_from": "python/line-and-scatter-plots-tutorial/",
   "thumbnail": "thumbnail/line-and-scatter.jpg"
  }
 },
 "nbformat": 4,
 "nbformat_minor": 5
}
