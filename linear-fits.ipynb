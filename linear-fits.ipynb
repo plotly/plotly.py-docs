{
 "cells": [
  {
   "cell_type": "markdown",
   "id": "1b04556c",
   "metadata": {},
   "source": [
    "### Linear fit trendlines with Plotly Express\n",
    "\n",
    "[Plotly Express](/python/plotly-express/) is the easy-to-use, high-level interface to Plotly, which [operates on a variety of types of data](/python/px-arguments/) and produces [easy-to-style figures](/python/styling-plotly-express/).\n",
    "\n",
    "Plotly Express allows you to add [Ordinary Least Squares](https://en.wikipedia.org/wiki/Ordinary_least_squares) regression trendline to scatterplots with the `trendline` argument. In order to do so, you will need to [install `statsmodels` and its dependencies](https://www.statsmodels.org/stable/install.html). Hovering over the trendline will show the equation of the line and its R-squared value."
   ]
  },
  {
   "cell_type": "code",
   "execution_count": null,
   "id": "530a9f37",
   "metadata": {},
   "outputs": [],
   "source": [
    "import plotly.express as px\n",
    "\n",
    "df = px.data.tips()\n",
    "fig = px.scatter(df, x=\"total_bill\", y=\"tip\", trendline=\"ols\")\n",
    "fig.show()"
   ]
  },
  {
   "cell_type": "markdown",
   "id": "ba90dfe9",
   "metadata": {},
   "source": [
    "### Fitting multiple lines and retrieving the model parameters\n",
    "\n",
    "Plotly Express will fit a trendline per trace, and allows you to access the underlying model parameters for all the models."
   ]
  },
  {
   "cell_type": "code",
   "execution_count": null,
   "id": "4a2c3f7d",
   "metadata": {},
   "outputs": [],
   "source": [
    "import plotly.express as px\n",
    "\n",
    "df = px.data.tips()\n",
    "fig = px.scatter(df, x=\"total_bill\", y=\"tip\", facet_col=\"smoker\", color=\"sex\", trendline=\"ols\")\n",
    "fig.show()\n",
    "\n",
    "results = px.get_trendline_results(fig)\n",
    "print(results)\n",
    "\n",
    "results.query(\"sex == 'Male' and smoker == 'Yes'\").px_fit_results.iloc[0].summary()"
   ]
  },
  {
   "cell_type": "markdown",
   "id": "678395bf",
   "metadata": {},
   "source": [
    "### Displaying a single trendline with multiple traces\n",
    "\n",
    "_new in v5.2_\n",
    "\n",
    "To display a single trendline using the entire dataset, set the `trendline_scope` argument to `\"overall\"`. The same trendline will be overlaid on all facets and animation frames. The trendline color can be overridden with `trendline_color_override`."
   ]
  },
  {
   "cell_type": "code",
   "execution_count": null,
   "id": "cc93eec7",
   "metadata": {},
   "outputs": [],
   "source": [
    "import plotly.express as px\n",
    "\n",
    "df = px.data.tips()\n",
    "fig = px.scatter(df, x=\"total_bill\", y=\"tip\", symbol=\"smoker\", color=\"sex\", trendline=\"ols\", trendline_scope=\"overall\")\n",
    "fig.show()"
   ]
  },
  {
   "cell_type": "code",
   "execution_count": null,
   "id": "c2ce25d8",
   "metadata": {},
   "outputs": [],
   "source": [
    "import plotly.express as px\n",
    "\n",
    "df = px.data.tips()\n",
    "fig = px.scatter(df, x=\"total_bill\", y=\"tip\", facet_col=\"smoker\", color=\"sex\", \n",
    "                 trendline=\"ols\", trendline_scope=\"overall\", trendline_color_override=\"black\")\n",
    "fig.show()"
   ]
  },
  {
   "cell_type": "markdown",
   "id": "4fd87d56",
   "metadata": {},
   "source": [
    "### OLS Parameters\n",
    "\n",
    "_new in v5.2_\n",
    "\n",
    "OLS trendlines can be fit with log transformations to both X or Y data using the `trendline_options` argument, independently of whether or not the plot has [logarithmic axes](https://plotly.com/python/log-plot/)."
   ]
  },
  {
   "cell_type": "code",
   "execution_count": null,
   "id": "badcf809",
   "metadata": {},
   "outputs": [],
   "source": [
    "import plotly.express as px\n",
    "\n",
    "df = px.data.gapminder(year=2007)\n",
    "fig = px.scatter(df, x=\"gdpPercap\", y=\"lifeExp\", \n",
    "                 trendline=\"ols\", trendline_options=dict(log_x=True),\n",
    "                 title=\"Log-transformed fit on linear axes\")\n",
    "fig.show()"
   ]
  },
  {
   "cell_type": "code",
   "execution_count": null,
   "id": "f7096919",
   "metadata": {},
   "outputs": [],
   "source": [
    "import plotly.express as px\n",
    "\n",
    "df = px.data.gapminder(year=2007)\n",
    "fig = px.scatter(df, x=\"gdpPercap\", y=\"lifeExp\", log_x=True, \n",
    "                 trendline=\"ols\", trendline_options=dict(log_x=True),\n",
    "                 title=\"Log-scaled X axis and log-transformed fit\")\n",
    "fig.show()"
   ]
  },
  {
   "cell_type": "markdown",
   "id": "a822ae2f",
   "metadata": {},
   "source": [
    "### Locally WEighted Scatterplot Smoothing (LOWESS)\n",
    "\n",
    "Plotly Express also supports non-linear [LOWESS](https://en.wikipedia.org/wiki/Local_regression) trendlines. In order use this feature, you will need to [install `statsmodels` and its dependencies](https://www.statsmodels.org/stable/install.html)."
   ]
  },
  {
   "cell_type": "code",
   "execution_count": null,
   "id": "0c777da7",
   "metadata": {},
   "outputs": [],
   "source": [
    "import plotly.express as px\n",
    "\n",
    "df = px.data.stocks(datetimes=True)\n",
    "fig = px.scatter(df, x=\"date\", y=\"GOOG\", trendline=\"lowess\")\n",
    "fig.show()"
   ]
  },
  {
   "cell_type": "markdown",
   "id": "c07f1264",
   "metadata": {},
   "source": [
    "_new in v5.2_\n",
    "\n",
    "The level of smoothing can be controlled via the `frac` trendline option, which indicates the fraction of the data that the LOWESS smoother should include. The default is a fairly smooth line with `frac=0.6666` and lowering this fraction will give a line that more closely follows the data."
   ]
  },
  {
   "cell_type": "code",
   "execution_count": null,
   "id": "84b0be6b",
   "metadata": {},
   "outputs": [],
   "source": [
    "import plotly.express as px\n",
    "\n",
    "df = px.data.stocks(datetimes=True)\n",
    "fig = px.scatter(df, x=\"date\", y=\"GOOG\", trendline=\"lowess\", trendline_options=dict(frac=0.1))\n",
    "fig.show()"
   ]
  },
  {
   "cell_type": "markdown",
   "id": "751f6f33",
   "metadata": {},
   "source": [
    "### Moving Averages\n",
    "\n",
    "_new in v5.2_\n",
    "\n",
    "Plotly Express can leverage Pandas' [`rolling`](https://pandas.pydata.org/docs/reference/api/pandas.DataFrame.rolling.html), [`ewm`](https://pandas.pydata.org/docs/reference/api/pandas.DataFrame.ewm.html) and [`expanding`](https://pandas.pydata.org/docs/reference/api/pandas.DataFrame.expanding.html) functions in trendlines as well, for example to display moving averages. Values passed to `trendline_options` are passed directly to the underlying Pandas function (with the exception of the `function` and `function_options` keys, see below)."
   ]
  },
  {
   "cell_type": "code",
   "execution_count": null,
   "id": "26b0104e",
   "metadata": {},
   "outputs": [],
   "source": [
    "import plotly.express as px\n",
    "\n",
    "df = px.data.stocks(datetimes=True)\n",
    "fig = px.scatter(df, x=\"date\", y=\"GOOG\", trendline=\"rolling\", trendline_options=dict(window=5),\n",
    "                title=\"5-point moving average\")\n",
    "fig.show()"
   ]
  },
  {
   "cell_type": "code",
   "execution_count": null,
   "id": "dc9fcf48",
   "metadata": {},
   "outputs": [],
   "source": [
    "import plotly.express as px\n",
    "\n",
    "df = px.data.stocks(datetimes=True)\n",
    "fig = px.scatter(df, x=\"date\", y=\"GOOG\", trendline=\"ewm\", trendline_options=dict(halflife=2),\n",
    "                title=\"Exponentially-weighted moving average (halflife of 2 points)\")\n",
    "fig.show()"
   ]
  },
  {
   "cell_type": "code",
   "execution_count": null,
   "id": "6b62e0b0",
   "metadata": {},
   "outputs": [],
   "source": [
    "import plotly.express as px\n",
    "\n",
    "df = px.data.stocks(datetimes=True)\n",
    "fig = px.scatter(df, x=\"date\", y=\"GOOG\", trendline=\"expanding\", title=\"Expanding mean\")\n",
    "fig.show()"
   ]
  },
  {
   "cell_type": "markdown",
   "id": "e562fa33",
   "metadata": {},
   "source": [
    "### Other Functions\n",
    "\n",
    "The `rolling`, `expanding` and `ewm` trendlines support other functions than the default `mean`, enabling, for example, a moving-median trendline, or an expanding-max trendline."
   ]
  },
  {
   "cell_type": "code",
   "execution_count": null,
   "id": "e9369929",
   "metadata": {},
   "outputs": [],
   "source": [
    "import plotly.express as px\n",
    "\n",
    "df = px.data.stocks(datetimes=True)\n",
    "fig = px.scatter(df, x=\"date\", y=\"GOOG\", trendline=\"rolling\", trendline_options=dict(function=\"median\", window=5),\n",
    "                title=\"Rolling Median\")\n",
    "fig.show()"
   ]
  },
  {
   "cell_type": "code",
   "execution_count": null,
   "id": "281358e8",
   "metadata": {},
   "outputs": [],
   "source": [
    "import plotly.express as px\n",
    "\n",
    "df = px.data.stocks(datetimes=True)\n",
    "fig = px.scatter(df, x=\"date\", y=\"GOOG\", trendline=\"expanding\", trendline_options=dict(function=\"max\"),\n",
    "                title=\"Expanding Maximum\")\n",
    "fig.show()"
   ]
  },
  {
   "cell_type": "markdown",
   "id": "7258fa59",
   "metadata": {},
   "source": [
    "In some cases, it is necessary to pass options into the underying Pandas function, for example the `std` parameter must be provided if the `win_type` argument to `rolling` is `\"gaussian\"`. This is possible with the `function_args` trendline option."
   ]
  },
  {
   "cell_type": "code",
   "execution_count": null,
   "id": "f3d8e544",
   "metadata": {},
   "outputs": [],
   "source": [
    "import plotly.express as px\n",
    "\n",
    "df = px.data.stocks(datetimes=True)\n",
    "fig = px.scatter(df, x=\"date\", y=\"GOOG\", trendline=\"rolling\", \n",
    "                 trendline_options=dict(window=5, win_type=\"gaussian\", function_args=dict(std=2)),\n",
    "                title=\"Rolling Mean with Gaussian Window\")\n",
    "fig.show()"
   ]
  },
  {
   "cell_type": "markdown",
   "id": "7665cdb1",
   "metadata": {},
   "source": [
    "### Displaying only the trendlines\n",
    "\n",
    "In some cases, it may be desirable to show only the trendlines, by removing the scatter points."
   ]
  },
  {
   "cell_type": "code",
   "execution_count": null,
   "id": "627da6a1",
   "metadata": {},
   "outputs": [],
   "source": [
    "import plotly.express as px\n",
    "\n",
    "df = px.data.stocks(indexed=True, datetimes=True)\n",
    "fig = px.scatter(df, trendline=\"rolling\", trendline_options=dict(window=5),\n",
    "                title=\"5-point moving average\")\n",
    "fig.data = [t for t in fig.data if t.mode == \"lines\"]\n",
    "fig.update_traces(showlegend=True) #trendlines have showlegend=False by default\n",
    "fig.show()"
   ]
  },
  {
   "cell_type": "code",
   "execution_count": null,
   "id": "321159a3",
   "metadata": {
    "lines_to_next_cell": 2
   },
   "outputs": [],
   "source": []
  },
  {
   "cell_type": "markdown",
   "id": "765cc9b9",
   "metadata": {},
   "source": [
    "### What About Dash?\n",
    "\n",
    "[Dash](https://dash.plot.ly/) is an open-source framework for building analytical applications, with no Javascript required, and it is tightly integrated with the Plotly graphing library.\n",
    "\n",
    "Learn about how to install Dash at https://dash.plot.ly/installation.\n",
    "\n",
    "Everywhere in this page that you see `fig.show()`, you can display the same figure in a Dash application by passing it to the `figure` argument of the [`Graph` component](https://dash.plot.ly/dash-core-components/graph) from the built-in `dash_core_components` package like this:\n",
    "\n",
    "```python\n",
    "import plotly.graph_objects as go # or plotly.express as px\n",
    "fig = go.Figure() # or any Plotly Express function e.g. px.bar(...)\n",
    "# fig.add_trace( ... )\n",
    "# fig.update_layout( ... )\n",
    "\n",
    "from dash import Dash, dcc, html\n",
    "\n",
    "app = Dash()\n",
    "app.layout = html.Div([\n",
    "    dcc.Graph(figure=fig)\n",
    "])\n",
    "\n",
    "app.run_server(debug=True, use_reloader=False)  # Turn off reloader if inside Jupyter\n",
    "```"
   ]
  }
 ],
 "metadata": {
  "jupytext": {
   "notebook_metadata_filter": "all"
  },
  "kernelspec": {
   "display_name": "Python 3",
   "language": "python",
   "name": "python3"
  },
  "language_info": {
   "codemirror_mode": {
    "name": "ipython",
    "version": 3
   },
   "file_extension": ".py",
   "mimetype": "text/x-python",
   "name": "python",
   "nbconvert_exporter": "python",
   "pygments_lexer": "ipython3",
   "version": "3.7.7"
  },
  "plotly": {
   "description": "Add linear Ordinary Least Squares (OLS) regression trendlines or non-linear Locally Weighted Scatterplot Smoothing (LOWESS) trendlines to scatterplots in Python. Options for moving averages (rolling means) as well as exponentially-weighted and expanding functions.",
   "display_as": "statistical",
   "language": "python",
   "layout": "base",
   "name": "Linear and Non-Linear Trendlines",
   "order": 12,
   "page_type": "u-guide",
   "permalink": "python/linear-fits/",
   "thumbnail": "thumbnail/linear_fit.jpg"
  }
 },
 "nbformat": 4,
 "nbformat_minor": 5
}
