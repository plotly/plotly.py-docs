{
 "cells": [
  {
   "cell_type": "markdown",
   "id": "fef56125",
   "metadata": {},
   "source": [
    "### Lines on tile maps using Plotly Express\n",
    "\n",
    "To draw a line on a map, you either can use `px.line_map` in Plotly Express, or `go.Scattermap` in Plotly Graph Objects. Here's an example of drawing a line on a tile-based map using Plotly Express."
   ]
  },
  {
   "cell_type": "code",
   "execution_count": null,
   "id": "2797943f",
   "metadata": {},
   "outputs": [],
   "source": [
    "import pandas as pd\n",
    "\n",
    "us_cities = pd.read_csv(\"https://raw.githubusercontent.com/plotly/datasets/master/us-cities-top-1k.csv\")\n",
    "us_cities = us_cities.query(\"State in ['New York', 'Ohio']\")\n",
    "\n",
    "import plotly.express as px\n",
    "\n",
    "fig = px.line_map(us_cities, lat=\"lat\", lon=\"lon\", color=\"State\", zoom=3, height=300)\n",
    "\n",
    "fig.update_layout(map_style=\"open-street-map\", map_zoom=4, map_center_lat = 41,\n",
    "    margin={\"r\":0,\"t\":0,\"l\":0,\"b\":0})\n",
    "\n",
    "fig.show()"
   ]
  },
  {
   "cell_type": "markdown",
   "id": "ed8939ba",
   "metadata": {},
   "source": [
    "### Lines on maps from GeoPandas\n",
    "\n",
    "Given a GeoPandas geo-data frame with `linestring` or `multilinestring` features, one can extra point data and use `px.line_map`."
   ]
  },
  {
   "cell_type": "code",
   "execution_count": null,
   "id": "96f129dc",
   "metadata": {},
   "outputs": [],
   "source": [
    "import plotly.express as px\n",
    "import geopandas as gpd\n",
    "import shapely.geometry\n",
    "import numpy as np\n",
    "import wget\n",
    "\n",
    "# download a zipped shapefile\n",
    "wget.download(\"https://plotly.github.io/datasets/ne_50m_rivers_lake_centerlines.zip\")\n",
    "\n",
    "# open a zipped shapefile with the zip:// pseudo-protocol\n",
    "geo_df = gpd.read_file(\"zip://ne_50m_rivers_lake_centerlines.zip\")\n",
    "\n",
    "lats = []\n",
    "lons = []\n",
    "names = []\n",
    "\n",
    "for feature, name in zip(geo_df.geometry, geo_df.name):\n",
    "    if isinstance(feature, shapely.geometry.linestring.LineString):\n",
    "        linestrings = [feature]\n",
    "    elif isinstance(feature, shapely.geometry.multilinestring.MultiLineString):\n",
    "        linestrings = feature.geoms\n",
    "    else:\n",
    "        continue\n",
    "    for linestring in linestrings:\n",
    "        x, y = linestring.xy\n",
    "        lats = np.append(lats, y)\n",
    "        lons = np.append(lons, x)\n",
    "        names = np.append(names, [name]*len(y))\n",
    "        lats = np.append(lats, None)\n",
    "        lons = np.append(lons, None)\n",
    "        names = np.append(names, None)\n",
    "\n",
    "fig = px.line_map(lat=lats, lon=lons, hover_name=names,\n",
    "                     map_style=\"open-street-map\", zoom=1)\n",
    "fig.show()"
   ]
  },
  {
   "cell_type": "markdown",
   "id": "4ff44c09",
   "metadata": {},
   "source": [
    "### Lines on maps using `Scattermap` traces\n",
    "\n",
    "This example uses `go.Scattermap` and sets\n",
    "the [mode](https://plotly.com/python/reference/scattermapbox/#scattermap-mode) attribute to a combination of markers and line."
   ]
  },
  {
   "cell_type": "code",
   "execution_count": null,
   "id": "0f916e6c",
   "metadata": {},
   "outputs": [],
   "source": [
    "import plotly.graph_objects as go\n",
    "\n",
    "fig = go.Figure(go.Scattermap(\n",
    "    mode = \"markers+lines\",\n",
    "    lon = [10, 20, 30],\n",
    "    lat = [10, 20,30],\n",
    "    marker = {'size': 10}))\n",
    "\n",
    "fig.add_trace(go.Scattermap(\n",
    "    mode = \"markers+lines\",\n",
    "    lon = [-50, -60,40],\n",
    "    lat = [30, 10, -20],\n",
    "    marker = {'size': 10}))\n",
    "\n",
    "fig.update_layout(\n",
    "    margin ={'l':0,'t':0,'b':0,'r':0},\n",
    "    map = {\n",
    "        'center': {'lon': 10, 'lat': 10},\n",
    "        'style': \"open-street-map\",\n",
    "        'center': {'lon': -20, 'lat': -20},\n",
    "        'zoom': 1})\n",
    "\n",
    "fig.show()"
   ]
  },
  {
   "cell_type": "markdown",
   "id": "022623f4",
   "metadata": {},
   "source": [
    "### Mapbox Maps\n",
    "\n",
    "> Mapbox traces are deprecated and may be removed in a future version of Plotly.py.\n",
    "\n",
    "The earlier examples using `px.line_map` and `go.Scattermap` use [Maplibre](https://maplibre.org/maplibre-gl-js/docs/) for rendering. These traces were introduced in Plotly.py 5.24 and are now the recommended way to draw lines on tile-based maps. There are also traces that use [Mapbox](https://docs.mapbox.com): `px.line_mapbox` and `go.Scattermapbox`\n",
    "\n",
    "To plot on Mapbox maps with Plotly you _may_ need a Mapbox account and a public [Mapbox Access Token](https://www.mapbox.com/studio). See our [Mapbox Map Layers](/python/mapbox-layers/) documentation for more information.\n",
    "\n",
    "To draw a line on your map, you either can use [`px.line_mapbox`](https://plotly.com/python-api-reference/generated/plotly.express.line_mapbox.html) in Plotly Express, or [`Scattermapbox`](https://plotly.com/python/reference/scattermapbox/) traces. Below we show you how to draw a line on Mapbox using Plotly Express.\n",
    "\n",
    "Here's an example of using `Scattermapbox`."
   ]
  },
  {
   "cell_type": "code",
   "execution_count": null,
   "id": "0355d2cc",
   "metadata": {},
   "outputs": [],
   "source": [
    "import plotly.graph_objects as go\n",
    "\n",
    "fig = go.Figure(go.Scattermapbox(\n",
    "    mode = \"markers+lines\",\n",
    "    lon = [10, 20, 30],\n",
    "    lat = [10, 20,30],\n",
    "    marker = {'size': 10}))\n",
    "\n",
    "fig.add_trace(go.Scattermapbox(\n",
    "    mode = \"markers+lines\",\n",
    "    lon = [-50, -60,40],\n",
    "    lat = [30, 10, -20],\n",
    "    marker = {'size': 10}))\n",
    "\n",
    "fig.update_layout(\n",
    "    margin ={'l':0,'t':0,'b':0,'r':0},\n",
    "    mapbox = {\n",
    "        'center': {'lon': 10, 'lat': 10},\n",
    "        'style': \"open-street-map\",\n",
    "        'center': {'lon': -20, 'lat': -20},\n",
    "        'zoom': 1})\n",
    "\n",
    "fig.show()"
   ]
  },
  {
   "cell_type": "markdown",
   "id": "c7537ad4",
   "metadata": {},
   "source": [
    "#### Reference\n",
    "\n",
    "See [function reference for `px.line_map`](https://plotly.com/python-api-reference/generated/plotly.express.line_map) or\n",
    "https://plotly.com/python/reference/scattermap/ for more information about the attributes available.\n",
    "\n",
    "For Mapbox-based tile maps, see [function reference for `px.line_mapbox`](https://plotly.com/python-api-reference/generated/plotly.express.line_mapbox) or\n",
    "https://plotly.com/python/reference/scattermapbox/.\n"
   ]
  },
  {
   "cell_type": "markdown",
   "id": "da3e56e0",
   "metadata": {},
   "source": [
    "### What About Dash?\n",
    "\n",
    "[Dash](https://dash.plot.ly/) is an open-source framework for building analytical applications, with no Javascript required, and it is tightly integrated with the Plotly graphing library.\n",
    "\n",
    "Learn about how to install Dash at https://dash.plot.ly/installation.\n",
    "\n",
    "Everywhere in this page that you see `fig.show()`, you can display the same figure in a Dash application by passing it to the `figure` argument of the [`Graph` component](https://dash.plot.ly/dash-core-components/graph) from the built-in `dash_core_components` package like this:\n",
    "\n",
    "```python\n",
    "import plotly.graph_objects as go # or plotly.express as px\n",
    "fig = go.Figure() # or any Plotly Express function e.g. px.bar(...)\n",
    "# fig.add_trace( ... )\n",
    "# fig.update_layout( ... )\n",
    "\n",
    "from dash import Dash, dcc, html\n",
    "\n",
    "app = Dash()\n",
    "app.layout = html.Div([\n",
    "    dcc.Graph(figure=fig)\n",
    "])\n",
    "\n",
    "app.run_server(debug=True, use_reloader=False)  # Turn off reloader if inside Jupyter\n",
    "```"
   ]
  }
 ],
 "metadata": {
  "jupytext": {
   "notebook_metadata_filter": "all"
  },
  "kernelspec": {
   "display_name": "Python 3 (ipykernel)",
   "language": "python",
   "name": "python3"
  },
  "language_info": {
   "codemirror_mode": {
    "name": "ipython",
    "version": 3
   },
   "file_extension": ".py",
   "mimetype": "text/x-python",
   "name": "python",
   "nbconvert_exporter": "python",
   "pygments_lexer": "ipython3",
   "version": "3.10.0"
  },
  "plotly": {
   "description": "How to draw a line on tile-based maps in Python with Plotly.",
   "display_as": "maps",
   "language": "python",
   "layout": "base",
   "name": "Lines on Tile Maps",
   "order": 3,
   "page_type": "example_index",
   "permalink": "python/lines-on-tile-maps/",
   "redirect_from": "python/lines-on-mapbox/",
   "thumbnail": "thumbnail/line_mapbox.jpg"
  }
 },
 "nbformat": 4,
 "nbformat_minor": 5
}
