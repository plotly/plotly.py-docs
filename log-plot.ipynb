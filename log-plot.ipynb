{
 "cells": [
  {
   "cell_type": "markdown",
   "id": "b898f12b",
   "metadata": {},
   "source": [
    "This page shows examples of how to configure [2-dimensional Cartesian axes](/python/figure-structure/#2d-cartesian-trace-types-and-subplots) to follow a logarithmic rather than linear progression. [Configuring gridlines, ticks, tick labels and axis titles](/python/axes/) on logarithmic axes is done the same was as with [linear axes](/python/axes/).\n",
    "\n",
    "### Logarithmic Axes with Plotly Express\n",
    "\n",
    "[Plotly Express](/python/plotly-express/) is the easy-to-use, high-level interface to Plotly, which [operates on a variety of types of data](/python/px-arguments/) and produces [easy-to-style figures](/python/styling-plotly-express/).\n",
    "\n",
    "All of Plotly Express' 2-D Cartesian functions include the `log_x` and `log_y` keyword arguments, which can be set to `True` to set the corresponding axis to a logarithmic scale:"
   ]
  },
  {
   "cell_type": "code",
   "execution_count": null,
   "id": "c7d96cf8",
   "metadata": {},
   "outputs": [],
   "source": [
    "import plotly.express as px\n",
    "df = px.data.gapminder().query(\"year == 2007\")\n",
    "\n",
    "fig = px.scatter(df, x=\"gdpPercap\", y=\"lifeExp\", hover_name=\"country\", log_x=True)\n",
    "fig.show()"
   ]
  },
  {
   "cell_type": "markdown",
   "id": "37a21413",
   "metadata": {},
   "source": [
    "Setting the range of a logarithmic axis with Plotly Express works the same was as with linear axes: using the `range_x` and `range_y` keywords. Note that you cannot set the range to include 0 or less."
   ]
  },
  {
   "cell_type": "code",
   "execution_count": null,
   "id": "a19ec274",
   "metadata": {},
   "outputs": [],
   "source": [
    "import plotly.express as px\n",
    "df = px.data.gapminder().query(\"year == 2007\")\n",
    "\n",
    "fig = px.scatter(df, x=\"gdpPercap\", y=\"lifeExp\", hover_name=\"country\",\n",
    "                 log_x=True, range_x=[1,100000], range_y=[0,100])\n",
    "fig.show()"
   ]
  },
  {
   "cell_type": "markdown",
   "id": "4ed5cefe",
   "metadata": {},
   "source": [
    "#### Adding minor ticks\n",
    "\n",
    "_new in 5.8_\n",
    "\n",
    "You can position and style minor ticks using `minor`. This takes a `dict` of properties to apply to minor ticks. See the [figure reference](https://plotly.com/python/reference/layout/xaxis/#layout-xaxis-minor) for full details on the accepted keys in this dict.\n",
    "\n",
    "In this example we set the tick length with `ticklen`, add the ticks on the inside with `ticks=\"inside\"`, and turn grid lines on with `howgrid=True`."
   ]
  },
  {
   "cell_type": "code",
   "execution_count": null,
   "id": "16a9da1b",
   "metadata": {},
   "outputs": [],
   "source": [
    "import plotly.express as px\n",
    "df = px.data.gapminder().query(\"year == 2007\")\n",
    "\n",
    "fig = px.scatter(df, x=\"gdpPercap\", y=\"lifeExp\", hover_name=\"country\",\n",
    "                 log_x=True, range_x=[1,100000], range_y=[0,100])\n",
    "\n",
    "fig.update_xaxes(minor=dict(ticks=\"inside\", ticklen=6, showgrid=True))\n",
    "\n",
    "fig.show()"
   ]
  },
  {
   "cell_type": "markdown",
   "id": "8026f472",
   "metadata": {},
   "source": [
    "### Logarithmic Axes with Graph Objects\n",
    "\n",
    "If Plotly Express does not provide a good starting point, it is also possible to use [the more generic `go.Figure` class from `plotly.graph_objects`](/python/graph-objects/)."
   ]
  },
  {
   "cell_type": "code",
   "execution_count": null,
   "id": "3b93cd82",
   "metadata": {},
   "outputs": [],
   "source": [
    "import plotly.graph_objects as go\n",
    "import plotly.express as px\n",
    "df = px.data.gapminder().query(\"year == 2007\")\n",
    "\n",
    "fig = go.Figure()\n",
    "\n",
    "fig.add_trace(go.Scatter(mode=\"markers\", x=df[\"gdpPercap\"], y=df[\"lifeExp\"] ))\n",
    "\n",
    "fig.update_xaxes(type=\"log\")\n",
    "fig.show()"
   ]
  },
  {
   "cell_type": "markdown",
   "id": "eef4a069",
   "metadata": {},
   "source": [
    "Setting the range of a logarithmic axis with `plotly.graph_objects` is *very different* than setting the range of linear axes: the range is set using the exponent rather than the actual value:\n"
   ]
  },
  {
   "cell_type": "code",
   "execution_count": null,
   "id": "0c6b6b6d",
   "metadata": {},
   "outputs": [],
   "source": [
    "import plotly.graph_objects as go\n",
    "import plotly.express as px\n",
    "df = px.data.gapminder().query(\"year == 2007\")\n",
    "\n",
    "fig = go.Figure()\n",
    "\n",
    "fig.add_trace(go.Scatter(mode=\"markers\", x=df[\"gdpPercap\"], y=df[\"lifeExp\"] ))\n",
    "\n",
    "fig.update_xaxes(type=\"log\", range=[0,5]) # log range: 10^0=1, 10^5=100000\n",
    "fig.update_yaxes(range=[0,100]) # linear range\n",
    "fig.show()"
   ]
  },
  {
   "cell_type": "markdown",
   "id": "116ff442",
   "metadata": {},
   "source": [
    "#### Reference\n",
    "\n",
    "See [function reference for `px.(scatter)`](https://plotly.com/python-api-reference/generated/plotly.express.scatter) or https://plotly.com/python/reference/layout/xaxis/#layout-xaxis-type for more information and chart attribute options!\n"
   ]
  },
  {
   "cell_type": "markdown",
   "id": "df033148",
   "metadata": {},
   "source": [
    "### What About Dash?\n",
    "\n",
    "[Dash](https://dash.plot.ly/) is an open-source framework for building analytical applications, with no Javascript required, and it is tightly integrated with the Plotly graphing library.\n",
    "\n",
    "Learn about how to install Dash at https://dash.plot.ly/installation.\n",
    "\n",
    "Everywhere in this page that you see `fig.show()`, you can display the same figure in a Dash application by passing it to the `figure` argument of the [`Graph` component](https://dash.plot.ly/dash-core-components/graph) from the built-in `dash_core_components` package like this:\n",
    "\n",
    "```python\n",
    "import plotly.graph_objects as go # or plotly.express as px\n",
    "fig = go.Figure() # or any Plotly Express function e.g. px.bar(...)\n",
    "# fig.add_trace( ... )\n",
    "# fig.update_layout( ... )\n",
    "\n",
    "from dash import Dash, dcc, html\n",
    "\n",
    "app = Dash()\n",
    "app.layout = html.Div([\n",
    "    dcc.Graph(figure=fig)\n",
    "])\n",
    "\n",
    "app.run_server(debug=True, use_reloader=False)  # Turn off reloader if inside Jupyter\n",
    "```"
   ]
  }
 ],
 "metadata": {
  "jupytext": {
   "notebook_metadata_filter": "all"
  },
  "kernelspec": {
   "display_name": "Python 3 (ipykernel)",
   "language": "python",
   "name": "python3"
  },
  "language_info": {
   "codemirror_mode": {
    "name": "ipython",
    "version": 3
   },
   "file_extension": ".py",
   "mimetype": "text/x-python",
   "name": "python",
   "nbconvert_exporter": "python",
   "pygments_lexer": "ipython3",
   "version": "3.9.7"
  },
  "plotly": {
   "description": "How to make Log plots in Python with Plotly.",
   "display_as": "scientific",
   "language": "python",
   "layout": "base",
   "name": "Log Plots",
   "order": 5,
   "permalink": "python/log-plot/",
   "redirect_from": "python/log-plots/",
   "thumbnail": "thumbnail/log.jpg"
  }
 },
 "nbformat": 4,
 "nbformat_minor": 5
}
