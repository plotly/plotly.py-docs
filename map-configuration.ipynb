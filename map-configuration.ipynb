{
 "cells": [
  {
   "cell_type": "markdown",
   "id": "6be1f306",
   "metadata": {},
   "source": [
    "### Tile Maps vs Outline Maps\n",
    "\n",
    "Plotly supports two different kinds of maps:\n",
    "\n",
    "- **[Tile-based maps](https://en.wikipedia.org/wiki/Tiled_web_map)**\n",
    "\n",
    "If your figure is created with a `px.scatter_map`, `px.scatter_mapbox`, `px.line_map`, `px.line_mapbox`, `px.choropleth_map`, `px.choropleth_mapbox`, `px.density_map`, or `px.density_mapbox` function or otherwise contains one or more traces of type `go.Scattermap`, `go.Scattermapbox`, `go.Choroplethmap`, `go.Choroplethmapbox`, `go.Densitymap`, or `go.Densitymapbox`, the `layout.map` object in your figure contains configuration information for the map itself.\n",
    "\n",
    "- **Outline-based maps**\n",
    "\n",
    "Geo maps are outline-based maps. If your figure is created with a `px.scatter_geo`, `px.line_geo` or `px.choropleth` function or otherwise contains one or more traces of type `go.Scattergeo` or `go.Choropleth`, the `layout.geo` object in your figure contains configuration information for the map itself.\n",
    "\n",
    "> This page documents **Geo outline-based maps**, and the [Tile Map Layers documentation](/python/tile-map-layers/) describes how to configure tile-based maps.\n",
    "\n",
    "**Note:** Plotly Express cannot create empty figures, so the examples below mostly create an \"empty\" map using `fig = go.Figure(go.Scattergeo())`. That said, every configuration option here is equally applicable to non-empty maps created with the Plotly Express `px.scatter_geo`, `px.line_geo` or `px.choropleth` functions.\n",
    "\n",
    "### Physical Base Maps\n",
    "\n",
    "Plotly Geo maps have a built-in base map layer composed of \"physical\" and \"cultural\" (i.e. administrative border) data from the [Natural Earth Dataset](https://www.naturalearthdata.com/downloads/). Various lines and area fills can be shown or hidden, and their color and line-widths specified. In the [default `plotly` template](/python/templates/), a map frame and physical features such as a coastal outline and filled land areas are shown, at a small-scale 1:110m resolution:"
   ]
  },
  {
   "cell_type": "code",
   "execution_count": null,
   "id": "d8b8229c",
   "metadata": {},
   "outputs": [],
   "source": [
    "import plotly.graph_objects as go\n",
    "\n",
    "fig = go.Figure(go.Scattergeo())\n",
    "fig.update_layout(height=300, margin={\"r\":0,\"t\":0,\"l\":0,\"b\":0})\n",
    "fig.show()"
   ]
  },
  {
   "cell_type": "markdown",
   "id": "25c2626a",
   "metadata": {},
   "source": [
    "Here is a map with all physical features enabled and styled, at a larger-scale 1:50m resolution:"
   ]
  },
  {
   "cell_type": "code",
   "execution_count": null,
   "id": "2e305d8b",
   "metadata": {},
   "outputs": [],
   "source": [
    "import plotly.graph_objects as go\n",
    "\n",
    "fig = go.Figure(go.Scattergeo())\n",
    "fig.update_geos(\n",
    "    resolution=50,\n",
    "    showcoastlines=True, coastlinecolor=\"RebeccaPurple\",\n",
    "    showland=True, landcolor=\"LightGreen\",\n",
    "    showocean=True, oceancolor=\"LightBlue\",\n",
    "    showlakes=True, lakecolor=\"Blue\",\n",
    "    showrivers=True, rivercolor=\"Blue\"\n",
    ")\n",
    "fig.update_layout(height=300, margin={\"r\":0,\"t\":0,\"l\":0,\"b\":0})\n",
    "fig.show()"
   ]
  },
  {
   "cell_type": "markdown",
   "id": "60417011",
   "metadata": {},
   "source": [
    "### Disabling Base Maps\n",
    "\n",
    "In certain cases, such as large scale [choropleth maps](/python/choropleth-maps/), the default physical map can be distracting. In this case the `layout.geo.visible` attribute can be set to `False` to hide all base map attributes except those which are explicitly set to true. For example in the following map we hide all physical features except rivers and lakes, neither of which are shown by default:"
   ]
  },
  {
   "cell_type": "code",
   "execution_count": null,
   "id": "8b3f0b17",
   "metadata": {},
   "outputs": [],
   "source": [
    "import plotly.graph_objects as go\n",
    "\n",
    "fig = go.Figure(go.Scattergeo())\n",
    "fig.update_geos(\n",
    "    visible=False,\n",
    "    resolution=50,\n",
    "    showlakes=True, lakecolor=\"Blue\",\n",
    "    showrivers=True, rivercolor=\"Blue\"\n",
    ")\n",
    "fig.update_layout(height=300, margin={\"r\":0,\"t\":0,\"l\":0,\"b\":0})\n",
    "\n",
    "fig.show()"
   ]
  },
  {
   "cell_type": "markdown",
   "id": "0e8506bd",
   "metadata": {},
   "source": [
    "### Cultural Base Maps\n",
    "\n",
    "In addition to physical base map features, a \"cultural\" base map is included which is composed of country borders and selected sub-country borders such as states.\n",
    "\n",
    "**Note and disclaimer:** cultural features are by definition subject to change, debate and dispute. Plotly includes data from Natural Earth \"as-is\" and defers to the [Natural Earth policy regarding disputed borders](https://www.naturalearthdata.com/downloads/50m-cultural-vectors/50m-admin-0-countries-2/) which read:\n",
    "\n",
    "> Natural Earth Vector draws boundaries of countries according to defacto status. We show who actually controls the situation on the ground.\n",
    "\n",
    "**To create a map with your own cultural features** please refer to our [choropleth documentation](/python/choropleth-maps/).\n",
    "\n",
    "Here is a map with only cultural features enabled and styled, at a 1:50m resolution, which includes only country boundaries. See below for country sub-unit cultural base map features:"
   ]
  },
  {
   "cell_type": "code",
   "execution_count": null,
   "id": "7e1e7091",
   "metadata": {},
   "outputs": [],
   "source": [
    "import plotly.graph_objects as go\n",
    "\n",
    "fig = go.Figure(go.Scattergeo())\n",
    "fig.update_geos(\n",
    "    visible=False, resolution=50,\n",
    "    showcountries=True, countrycolor=\"RebeccaPurple\"\n",
    ")\n",
    "fig.update_layout(height=300, margin={\"r\":0,\"t\":0,\"l\":0,\"b\":0})\n",
    "fig.show()"
   ]
  },
  {
   "cell_type": "markdown",
   "id": "a3dbb883",
   "metadata": {},
   "source": [
    "### Map Projections\n",
    "\n",
    "Geo maps are drawn according to a given map [projection](https://en.wikipedia.org/wiki/Map_projection) that flattens the Earth's roughly-spherical surface into a 2-dimensional space. In the following examples, we show the `'orthographic'` and `'natural earth'` projections, two of the many projection types available. For a full list of available projection types, see the [layout.geo reference documentation](https://plotly.com/python/reference/layout/geo/#layout-geo-projection-type)."
   ]
  },
  {
   "cell_type": "code",
   "execution_count": null,
   "id": "fbb82cb2",
   "metadata": {},
   "outputs": [],
   "source": [
    "import plotly.graph_objects as go\n",
    "\n",
    "fig = go.Figure(go.Scattergeo())\n",
    "fig.update_geos(projection_type=\"orthographic\")\n",
    "fig.update_layout(height=300, margin={\"r\":0,\"t\":0,\"l\":0,\"b\":0})\n",
    "fig.show()"
   ]
  },
  {
   "cell_type": "code",
   "execution_count": null,
   "id": "3ea288ff",
   "metadata": {},
   "outputs": [],
   "source": [
    "import plotly.graph_objects as go\n",
    "\n",
    "fig = go.Figure(go.Scattergeo())\n",
    "fig.update_geos(projection_type=\"natural earth\")\n",
    "fig.update_layout(height=300, margin={\"r\":0,\"t\":0,\"l\":0,\"b\":0})\n",
    "fig.show()"
   ]
  },
  {
   "cell_type": "markdown",
   "id": "28f67a78",
   "metadata": {},
   "source": [
    "Map projections can be rotated using the `layout.geo.projection.rotation` attribute, and maps can be translated using the `layout.geo.center` attributed, as well as truncated to a certain longitude and latitude range using the `layout.geo.lataxis.range` and `layout.geo.lonaxis.range`.\n",
    "\n",
    "The map below uses all of these attributes to demonstrate the types of effect this can yield:"
   ]
  },
  {
   "cell_type": "code",
   "execution_count": null,
   "id": "9cb7d219",
   "metadata": {},
   "outputs": [],
   "source": [
    "import plotly.graph_objects as go\n",
    "\n",
    "fig = go.Figure(go.Scattergeo())\n",
    "fig.update_geos(\n",
    "    center=dict(lon=-30, lat=-30),\n",
    "    projection_rotation=dict(lon=30, lat=30, roll=30),\n",
    "    lataxis_range=[-50,20], lonaxis_range=[0, 200]\n",
    ")\n",
    "fig.update_layout(height=300, margin={\"r\":0,\"t\":0,\"l\":0,\"b\":0})\n",
    "fig.show()"
   ]
  },
  {
   "cell_type": "markdown",
   "id": "3c719c9c",
   "metadata": {},
   "source": [
    "### Automatic Zooming or Bounds Fitting\n",
    "\n",
    "The `layout.geo.fitbounds` attribute can be set to `locations` to automatically set the center and latitude and longitude range according to the data being plotted. See the [choropleth maps](/python/choropleth-maps/) documentation for more information."
   ]
  },
  {
   "cell_type": "code",
   "execution_count": null,
   "id": "68cffb59",
   "metadata": {},
   "outputs": [],
   "source": [
    "import plotly.express as px\n",
    "\n",
    "fig = px.line_geo(lat=[0,15,20,35], lon=[5,10,25,30])\n",
    "fig.update_geos(fitbounds=\"locations\")\n",
    "fig.update_layout(height=300, margin={\"r\":0,\"t\":0,\"l\":0,\"b\":0})\n",
    "fig.show()"
   ]
  },
  {
   "cell_type": "markdown",
   "id": "45a71bfc",
   "metadata": {},
   "source": [
    "### Named Map Scopes and Country Sub-Units\n",
    "\n",
    "In addition, the named \"scope\" of a map defines a sub-set of the earth's surface to draw. Each scope has a _default projection type, center and roll, as well as bounds_, and certain scopes contain country sub-unit cultural layers certain resolutions, such as `scope=\"north america\"` at `resolution=50` which contains US state and Canadian province boundaries.\n",
    "\n",
    "The available scopes are: `'world'`, `'usa'`, `'europe'`, `'asia'`, `'africa'`, `'north america'`, `'south america'`."
   ]
  },
  {
   "cell_type": "code",
   "execution_count": null,
   "id": "c85cc6f7",
   "metadata": {},
   "outputs": [],
   "source": [
    "import plotly.graph_objects as go\n",
    "\n",
    "fig = go.Figure(go.Scattergeo())\n",
    "fig.update_geos(\n",
    "    visible=False, resolution=50, scope=\"north america\",\n",
    "    showcountries=True, countrycolor=\"Black\",\n",
    "    showsubunits=True, subunitcolor=\"Blue\"\n",
    ")\n",
    "fig.update_layout(height=300, margin={\"r\":0,\"t\":0,\"l\":0,\"b\":0})\n",
    "fig.show()"
   ]
  },
  {
   "cell_type": "markdown",
   "id": "d67f746e",
   "metadata": {},
   "source": [
    "The `\"usa\"` scope contains state boundaries at both resolutions, and uses the special `'albers usa'` projection which moves Alaska and Hawaii closer to the \"lower 48 states\" to reduce projection distortion and produce a more compact map."
   ]
  },
  {
   "cell_type": "code",
   "execution_count": null,
   "id": "898eb0f9",
   "metadata": {},
   "outputs": [],
   "source": [
    "import plotly.graph_objects as go\n",
    "\n",
    "fig = go.Figure(go.Scattergeo())\n",
    "fig.update_geos(\n",
    "    visible=False, resolution=110, scope=\"usa\",\n",
    "    showcountries=True, countrycolor=\"Black\",\n",
    "    showsubunits=True, subunitcolor=\"Blue\"\n",
    ")\n",
    "fig.update_layout(height=300, margin={\"r\":0,\"t\":0,\"l\":0,\"b\":0})\n",
    "fig.show()"
   ]
  },
  {
   "cell_type": "markdown",
   "id": "87ece4ea",
   "metadata": {},
   "source": [
    "### Graticules (Latitude and Longitude Grid Lines)\n",
    "\n",
    "A graticule can be drawn using `layout.geo.lataxis.showgrid` and `layout.geo.lonaxis.showgrid` with options similar to [2d cartesian ticks](/python/axes/)."
   ]
  },
  {
   "cell_type": "code",
   "execution_count": null,
   "id": "4bbc9d99",
   "metadata": {},
   "outputs": [],
   "source": [
    "import plotly.graph_objects as go\n",
    "\n",
    "fig = go.Figure(go.Scattergeo())\n",
    "fig.update_geos(lataxis_showgrid=True, lonaxis_showgrid=True)\n",
    "fig.update_layout(height=300, margin={\"r\":0,\"t\":0,\"l\":0,\"b\":0})\n",
    "fig.show()"
   ]
  },
  {
   "cell_type": "markdown",
   "id": "68fd8a86",
   "metadata": {},
   "source": [
    "### Reference\n",
    "\n",
    "See https://plotly.com/python/reference/layout/geo/ for more information and chart attribute options!\n"
   ]
  },
  {
   "cell_type": "markdown",
   "id": "55af577e",
   "metadata": {},
   "source": [
    "### What About Dash?\n",
    "\n",
    "[Dash](https://dash.plot.ly/) is an open-source framework for building analytical applications, with no Javascript required, and it is tightly integrated with the Plotly graphing library.\n",
    "\n",
    "Learn about how to install Dash at https://dash.plot.ly/installation.\n",
    "\n",
    "Everywhere in this page that you see `fig.show()`, you can display the same figure in a Dash application by passing it to the `figure` argument of the [`Graph` component](https://dash.plot.ly/dash-core-components/graph) from the built-in `dash_core_components` package like this:\n",
    "\n",
    "```python\n",
    "import plotly.graph_objects as go # or plotly.express as px\n",
    "fig = go.Figure() # or any Plotly Express function e.g. px.bar(...)\n",
    "# fig.add_trace( ... )\n",
    "# fig.update_layout( ... )\n",
    "\n",
    "from dash import Dash, dcc, html\n",
    "\n",
    "app = Dash()\n",
    "app.layout = html.Div([\n",
    "    dcc.Graph(figure=fig)\n",
    "])\n",
    "\n",
    "app.run_server(debug=True, use_reloader=False)  # Turn off reloader if inside Jupyter\n",
    "```"
   ]
  }
 ],
 "metadata": {
  "jupytext": {
   "notebook_metadata_filter": "all"
  },
  "kernelspec": {
   "display_name": "Python 3 (ipykernel)",
   "language": "python",
   "name": "python3"
  },
  "language_info": {
   "codemirror_mode": {
    "name": "ipython",
    "version": 3
   },
   "file_extension": ".py",
   "mimetype": "text/x-python",
   "name": "python",
   "nbconvert_exporter": "python",
   "pygments_lexer": "ipython3",
   "version": "3.10.0"
  },
  "plotly": {
   "description": "How to configure and style base maps for outline-based Geo Maps.",
   "display_as": "maps",
   "language": "python",
   "layout": "base",
   "name": "Map Configuration and Styling on Geo Maps",
   "order": 13,
   "page_type": "u-guide",
   "permalink": "python/map-configuration/",
   "thumbnail": "thumbnail/county-level-choropleth.jpg"
  }
 },
 "nbformat": 4,
 "nbformat_minor": 5
}
