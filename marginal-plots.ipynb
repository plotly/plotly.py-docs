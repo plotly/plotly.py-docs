{
 "cells": [
  {
   "cell_type": "markdown",
   "id": "f52bad6c",
   "metadata": {},
   "source": [
    "### Overview\n",
    "\n",
    "Marginal distribution plots are small subplots above or to the right of a main plot, which show the distribution of data along only one dimension. Marginal distribution plot capabilities are built into various Plotly Express functions such as `scatter` and `histogram`. [Plotly Express](/python/plotly-express/) is the easy-to-use, high-level interface to Plotly, which [operates on a variety of types of data](/python/px-arguments/) and produces [easy-to-style figures](/python/styling-plotly-express/).\n",
    "\n",
    "### Scatter Plot Marginals\n",
    "\n",
    "The `marginal_x` and `marginal_y` arguments accept one of `\"histogram\"`, `\"rug\"`, `\"box\"`, or `\"violin\"` (see also how to create [histograms](/python/histograms/), [box plots](/python/box-plots/) and [violin plots](/python/violin-plots/) as the main figure). \n",
    "\n",
    "Marginal plots are linked to the main plot: try zooming or panning on the main plot.\n",
    "\n",
    "Marginal plots also support hover, including per-point hover as with the rug-plot on the right: try hovering over the points on the right marginal plot."
   ]
  },
  {
   "cell_type": "code",
   "execution_count": null,
   "id": "a8987c8c",
   "metadata": {},
   "outputs": [],
   "source": [
    "import plotly.express as px\n",
    "df = px.data.iris()\n",
    "fig = px.scatter(df, x=\"sepal_length\", y=\"sepal_width\", marginal_x=\"histogram\", marginal_y=\"rug\")\n",
    "fig.show()"
   ]
  },
  {
   "cell_type": "code",
   "execution_count": null,
   "id": "45b5bd8d",
   "metadata": {},
   "outputs": [],
   "source": [
    "import plotly.express as px\n",
    "df = px.data.iris()\n",
    "fig = px.density_heatmap(df, x=\"sepal_length\", y=\"sepal_width\", marginal_x=\"box\", marginal_y=\"violin\")\n",
    "fig.show()"
   ]
  },
  {
   "cell_type": "markdown",
   "id": "ab9119a9",
   "metadata": {},
   "source": [
    "### Marginal Plots and Color\n",
    "\n",
    "Marginal plots respect the `color` argument as well, and are linked to the respective legend elements. Try clicking on the legend items."
   ]
  },
  {
   "cell_type": "code",
   "execution_count": null,
   "id": "52f589c6",
   "metadata": {},
   "outputs": [],
   "source": [
    "import plotly.express as px\n",
    "df = px.data.iris()\n",
    "fig = px.scatter(df, x=\"sepal_length\", y=\"sepal_width\", color=\"species\", \n",
    "                 marginal_x=\"box\", marginal_y=\"violin\",\n",
    "                  title=\"Click on the legend items!\")\n",
    "fig.show()"
   ]
  },
  {
   "cell_type": "markdown",
   "id": "c9e5c3d6",
   "metadata": {},
   "source": [
    "### Marginal Plots on Histograms\n",
    "\n",
    "[Histograms](/python/histograms/) are often used to show the distribution of a variable, and they also support marginal plots in Plotly Express, with the `marginal` argument:"
   ]
  },
  {
   "cell_type": "code",
   "execution_count": null,
   "id": "739f37c9",
   "metadata": {},
   "outputs": [],
   "source": [
    "import plotly.express as px\n",
    "df = px.data.iris()\n",
    "fig = px.histogram(df, x=\"sepal_length\", color=\"species\", marginal=\"box\")\n",
    "fig.show()"
   ]
  },
  {
   "cell_type": "markdown",
   "id": "c4b469d7",
   "metadata": {},
   "source": [
    "Try hovering over the rug plot points to identify individual country values in the histogram below:"
   ]
  },
  {
   "cell_type": "code",
   "execution_count": null,
   "id": "b7ea2bd4",
   "metadata": {},
   "outputs": [],
   "source": [
    "import plotly.express as px\n",
    "df = px.data.gapminder().query(\"year == 2007\")\n",
    "fig = px.histogram(df, x=\"lifeExp\", color=\"continent\", marginal=\"rug\", hover_name=\"country\",\n",
    "                  title=\"Hover over the rug plot!\")\n",
    "fig.show()"
   ]
  },
  {
   "cell_type": "markdown",
   "id": "73e86704",
   "metadata": {},
   "source": [
    "### Marginal Plots and Facets\n",
    "\n",
    "Marginal plots can be used in conjunction with [Plotly Express facets](/python/facet-plots/) so long as they go along different directions: "
   ]
  },
  {
   "cell_type": "code",
   "execution_count": null,
   "id": "356231d8",
   "metadata": {},
   "outputs": [],
   "source": [
    "import plotly.express as px\n",
    "df = px.data.tips()\n",
    "fig = px.scatter(df, x=\"total_bill\", y=\"tip\", color=\"sex\", facet_col=\"day\",\n",
    "                  marginal_x=\"box\")\n",
    "fig.show()"
   ]
  },
  {
   "cell_type": "code",
   "execution_count": null,
   "id": "4e7c9c0c",
   "metadata": {},
   "outputs": [],
   "source": [
    "import plotly.express as px\n",
    "df = px.data.tips()\n",
    "fig = px.scatter(df, x=\"total_bill\", y=\"tip\", color=\"sex\", facet_row=\"time\",\n",
    "                  marginal_y=\"box\")\n",
    "fig.show()"
   ]
  },
  {
   "cell_type": "code",
   "execution_count": null,
   "id": "cb562763",
   "metadata": {
    "lines_to_next_cell": 2
   },
   "outputs": [],
   "source": [
    "import plotly.express as px\n",
    "df = px.data.tips()\n",
    "fig = px.histogram(df, x=\"total_bill\", y=\"tip\", color=\"sex\", facet_col=\"day\",\n",
    "                  marginal=\"box\")\n",
    "fig.show()"
   ]
  },
  {
   "cell_type": "markdown",
   "id": "d80ca715",
   "metadata": {},
   "source": [
    "### What About Dash?\n",
    "\n",
    "[Dash](https://dash.plot.ly/) is an open-source framework for building analytical applications, with no Javascript required, and it is tightly integrated with the Plotly graphing library.\n",
    "\n",
    "Learn about how to install Dash at https://dash.plot.ly/installation.\n",
    "\n",
    "Everywhere in this page that you see `fig.show()`, you can display the same figure in a Dash application by passing it to the `figure` argument of the [`Graph` component](https://dash.plot.ly/dash-core-components/graph) from the built-in `dash_core_components` package like this:\n",
    "\n",
    "```python\n",
    "import plotly.graph_objects as go # or plotly.express as px\n",
    "fig = go.Figure() # or any Plotly Express function e.g. px.bar(...)\n",
    "# fig.add_trace( ... )\n",
    "# fig.update_layout( ... )\n",
    "\n",
    "from dash import Dash, dcc, html\n",
    "\n",
    "app = Dash()\n",
    "app.layout = html.Div([\n",
    "    dcc.Graph(figure=fig)\n",
    "])\n",
    "\n",
    "app.run_server(debug=True, use_reloader=False)  # Turn off reloader if inside Jupyter\n",
    "```"
   ]
  }
 ],
 "metadata": {
  "jupytext": {
   "notebook_metadata_filter": "all"
  },
  "kernelspec": {
   "display_name": "Python 3",
   "language": "python",
   "name": "python3"
  },
  "language_info": {
   "codemirror_mode": {
    "name": "ipython",
    "version": 3
   },
   "file_extension": ".py",
   "mimetype": "text/x-python",
   "name": "python",
   "nbconvert_exporter": "python",
   "pygments_lexer": "ipython3",
   "version": "3.7.7"
  },
  "plotly": {
   "description": "How to add marginal distribution plots.",
   "display_as": "statistical",
   "language": "python",
   "layout": "base",
   "name": "Marginal Distribution Plots",
   "order": 13,
   "page_type": "u-guide",
   "permalink": "python/marginal-plots/",
   "thumbnail": "thumbnail/figure-labels.png"
  }
 },
 "nbformat": 4,
 "nbformat_minor": 5
}
