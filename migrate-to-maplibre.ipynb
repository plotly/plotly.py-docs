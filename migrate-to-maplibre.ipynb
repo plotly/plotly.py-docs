{
 "cells": [
  {
   "cell_type": "markdown",
   "id": "4787a9bd",
   "metadata": {},
   "source": [
    "## Migrating from Mapbox traces to MapLibre traces\n",
    "\n",
    "With the release of Plotly.py v5.24.0, we are introducing a new set of trace types for maps with tile underlays, including from Plotly Express:\n",
    "- `px.scatter_map`\n",
    "- `px.line_map`\n",
    "- `px.choropleth_map`\n",
    "- `px.density_map`\n",
    "\n",
    "as well as Plotly Graph Objects:\n",
    "- `go.Choroplethmap`\n",
    "- `go.Scattermap`\n",
    "- `go.Densitymap`\n",
    "\n",
    "These traces replace the existing Mapbox traces, `px.scatter_mapbox`, `px.line_mapbox`, etc., but use [MapLibre](https://maplibre.org) as the map renderer rather than Mapbox.\n",
    "\n",
    "When switching to the new traces, keep an eye out for improved rendering performance, WebGL2 support, and over time, improved features in the Plotly map traces inherited from the MapLibre renderer, including projection support, globe views, terrain support, and support for modern mapping standards.\n",
    "\n",
    "You can learn more about the motivations for this change in our [announcement post](https://plotly.com/blog/plotly-is-switching-to-maplibre/).\n",
    "\n",
    "As a result of removing Mapbox as the rendering engine, we're also removing the Mapbox branding from these trace names. This means that migrating from Mapbox traces to MapLibre traces will require some code changes in your projects.\n",
    "\n",
    "1. Change trace names from `*mapbox` to `*map`. For any existing trace name ending in `*mapbox`, ensure you've removed the \"`box`\" suffix.\n",
    "2. If in use, update `layout.mapbox` argument in your layout configuration to `layout.map`. The nested properties are identical in the new map traces, so no other changes should be required.\n",
    "3. If in use, update `mapbox_style` to `map_style`.\n",
    "4. Verify your `map_style` settings. With `mapbox` traces, we bundle `basic`, `streets`, `outdoors`, `light`, `dark`, `satellite`, and `satellite-streets` styles, using Mapbox styling. These style names are still available, but they now reference slightly different styles provided by other tools.\n",
    "\n",
    "Note that Mapbox API keys are no longer required for Plotly-provided styles, but using external styles in your Plotly maps remains supported with the existing API.\n",
    "\n",
    "### Style changes\n",
    "Built-in styles in map traces are free styles from [Carto](https://carto.com) and [ESRI](https://www.esri.com/en-us/home). Several names are re-used from the previous Mapbox styles.\n",
    "<p align=\"center\">\n",
    "  <img src=\"https://raw.githubusercontent.com/plotly/plotly.js/master/test/image/baselines/map_predefined-styles1.png\" alt=\"Style comparison part 1\" width=\"45%\" />\n",
    "  <img src=\"https://raw.githubusercontent.com/plotly/plotly.js/master/test/image/baselines/map_predefined-styles2.png\" alt=\"Style comparison part 2\" width=\"45%\" />\n",
    "</p>\n",
    "\n",
    "Compare to the previous Mapbox styles:\n",
    "<p align=\"center\">\n",
    "  <img src=\"https://raw.githubusercontent.com/plotly/graphing-library-docs/master/all_static/images/mapbox_1.png\" alt=\"Style comparison part 1\" width=\"45%\" />\n",
    "  <img src=\"https://raw.githubusercontent.com/plotly/graphing-library-docs/master/all_static/images/mapbox_2.png\" alt=\"Style comparison part 2\" width=\"45%\" />\n",
    "</p>"
   ]
  },
  {
   "cell_type": "markdown",
   "id": "5997753f",
   "metadata": {},
   "source": [
    "### What About Dash?\n",
    "\n",
    "[Dash](https://dash.plot.ly/) is an open-source framework for building analytical applications, with no Javascript required, and it is tightly integrated with the Plotly graphing library.\n",
    "\n",
    "Learn about how to install Dash at https://dash.plot.ly/installation.\n",
    "\n",
    "Everywhere in this page that you see `fig.show()`, you can display the same figure in a Dash application by passing it to the `figure` argument of the [`Graph` component](https://dash.plot.ly/dash-core-components/graph) from the built-in `dash_core_components` package like this:\n",
    "\n",
    "```python\n",
    "import plotly.graph_objects as go # or plotly.express as px\n",
    "fig = go.Figure() # or any Plotly Express function e.g. px.bar(...)\n",
    "# fig.add_trace( ... )\n",
    "# fig.update_layout( ... )\n",
    "\n",
    "from dash import Dash, dcc, html\n",
    "\n",
    "app = Dash()\n",
    "app.layout = html.Div([\n",
    "    dcc.Graph(figure=fig)\n",
    "])\n",
    "\n",
    "app.run_server(debug=True, use_reloader=False)  # Turn off reloader if inside Jupyter\n",
    "```"
   ]
  }
 ],
 "metadata": {
  "jupytext": {
   "notebook_metadata_filter": "all"
  },
  "kernelspec": {
   "display_name": "Python 3 (ipykernel)",
   "language": "python",
   "name": "python3"
  },
  "language_info": {
   "codemirror_mode": {
    "name": "ipython",
    "version": 3
   },
   "file_extension": ".py",
   "mimetype": "text/x-python",
   "name": "python",
   "nbconvert_exporter": "python",
   "pygments_lexer": "ipython3",
   "version": "3.10.11"
  },
  "plotly": {
   "description": "Migrating from Mapbox traces to MapLibre traces.",
   "display_as": "maps",
   "language": "python",
   "layout": "base",
   "name": "MapLibre Migration",
   "order": 1,
   "page_type": "u-guide",
   "permalink": "python/mapbox-to-maplibre/",
   "redirect_from": "python/maplibre-migration/",
   "thumbnail": "thumbnail/mapbox-layers.png"
  }
 },
 "nbformat": 4,
 "nbformat_minor": 5
}
