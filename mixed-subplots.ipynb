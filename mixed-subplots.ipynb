{
 "cells": [
  {
   "cell_type": "markdown",
   "id": "d746c800",
   "metadata": {},
   "source": [
    "### Mixed Subplots and Plotly Express\n",
    "\n",
    "[Plotly Express](/python/plotly-express/) is the easy-to-use, high-level interface to Plotly, which [operates on a variety of types of data](/python/px-arguments/) and produces [easy-to-style figures](/python/styling-plotly-express/).\n",
    "\n",
    "> *Note*: At this time, Plotly Express does not support creating figures with arbitrary mixed subplots i.e. figures with subplots of different types. Plotly Express only supports [facet plots](/python/facet-plots/) and [marginal distribution subplots](/python/marginal-plots/). To make a figure with mixed subplots, use the [`make_subplots()`](/python/subplots/) function in conjunction with [graph objects](/python/graph-objects/) as documented below."
   ]
  },
  {
   "cell_type": "markdown",
   "id": "eefa61ca",
   "metadata": {},
   "source": [
    "#### Mixed Subplot"
   ]
  },
  {
   "cell_type": "code",
   "execution_count": null,
   "id": "d058326e",
   "metadata": {},
   "outputs": [],
   "source": [
    "import plotly.graph_objects as go\n",
    "from plotly.subplots import make_subplots\n",
    "\n",
    "import pandas as pd\n",
    "\n",
    "# read in volcano database data\n",
    "df = pd.read_csv(\n",
    "    \"https://raw.githubusercontent.com/plotly/datasets/master/volcano_db.csv\",\n",
    "    encoding=\"iso-8859-1\",\n",
    ")\n",
    "\n",
    "# frequency of Country\n",
    "freq = df['Country'].value_counts().reset_index()\n",
    "freq.columns = ['x', 'Country']\n",
    "\n",
    "# read in 3d volcano surface data\n",
    "df_v = pd.read_csv(\"https://raw.githubusercontent.com/plotly/datasets/master/volcano.csv\")\n",
    "\n",
    "# Initialize figure with subplots\n",
    "fig = make_subplots(\n",
    "    rows=2, cols=2,\n",
    "    column_widths=[0.6, 0.4],\n",
    "    row_heights=[0.4, 0.6],\n",
    "    specs=[[{\"type\": \"scattergeo\", \"rowspan\": 2}, {\"type\": \"bar\"}],\n",
    "           [            None                    , {\"type\": \"surface\"}]])\n",
    "\n",
    "# Add scattergeo globe map of volcano locations\n",
    "fig.add_trace(\n",
    "    go.Scattergeo(lat=df[\"Latitude\"],\n",
    "                  lon=df[\"Longitude\"],\n",
    "                  mode=\"markers\",\n",
    "                  hoverinfo=\"text\",\n",
    "                  showlegend=False,\n",
    "                  marker=dict(color=\"crimson\", size=4, opacity=0.8)),\n",
    "    row=1, col=1\n",
    ")\n",
    "\n",
    "# Add locations bar chart\n",
    "fig.add_trace(\n",
    "    go.Bar(x=freq[\"x\"][0:10],y=freq[\"Country\"][0:10], marker=dict(color=\"crimson\"), showlegend=False),\n",
    "    row=1, col=2\n",
    ")\n",
    "\n",
    "# Add 3d surface of volcano\n",
    "fig.add_trace(\n",
    "    go.Surface(z=df_v.values.tolist(), showscale=False),\n",
    "    row=2, col=2\n",
    ")\n",
    "\n",
    "# Update geo subplot properties\n",
    "fig.update_geos(\n",
    "    projection_type=\"orthographic\",\n",
    "    landcolor=\"white\",\n",
    "    oceancolor=\"MidnightBlue\",\n",
    "    showocean=True,\n",
    "    lakecolor=\"LightBlue\"\n",
    ")\n",
    "\n",
    "# Rotate x-axis labels\n",
    "fig.update_xaxes(tickangle=45)\n",
    "\n",
    "# Set theme, margin, and annotation in layout\n",
    "fig.update_layout(\n",
    "    template=\"plotly_dark\",\n",
    "    margin=dict(r=10, t=25, b=40, l=60),\n",
    "    annotations=[\n",
    "        dict(\n",
    "            text=\"Source: NOAA\",\n",
    "            showarrow=False,\n",
    "            xref=\"paper\",\n",
    "            yref=\"paper\",\n",
    "            x=0,\n",
    "            y=0)\n",
    "    ]\n",
    ")\n",
    "\n",
    "fig.show()"
   ]
  },
  {
   "cell_type": "markdown",
   "id": "b5f08071",
   "metadata": {},
   "source": [
    "#### Reference\n",
    "See https://plotly.com/python/reference/ for more information and chart attribute options!\n"
   ]
  },
  {
   "cell_type": "markdown",
   "id": "a0c16af8",
   "metadata": {},
   "source": [
    "### What About Dash?\n",
    "\n",
    "[Dash](https://dash.plot.ly/) is an open-source framework for building analytical applications, with no Javascript required, and it is tightly integrated with the Plotly graphing library.\n",
    "\n",
    "Learn about how to install Dash at https://dash.plot.ly/installation.\n",
    "\n",
    "Everywhere in this page that you see `fig.show()`, you can display the same figure in a Dash application by passing it to the `figure` argument of the [`Graph` component](https://dash.plot.ly/dash-core-components/graph) from the built-in `dash_core_components` package like this:\n",
    "\n",
    "```python\n",
    "import plotly.graph_objects as go # or plotly.express as px\n",
    "fig = go.Figure() # or any Plotly Express function e.g. px.bar(...)\n",
    "# fig.add_trace( ... )\n",
    "# fig.update_layout( ... )\n",
    "\n",
    "from dash import Dash, dcc, html\n",
    "\n",
    "app = Dash()\n",
    "app.layout = html.Div([\n",
    "    dcc.Graph(figure=fig)\n",
    "])\n",
    "\n",
    "app.run_server(debug=True, use_reloader=False)  # Turn off reloader if inside Jupyter\n",
    "```"
   ]
  }
 ],
 "metadata": {
  "jupytext": {
   "notebook_metadata_filter": "all"
  },
  "kernelspec": {
   "display_name": "Python 3",
   "language": "python",
   "name": "python3"
  },
  "language_info": {
   "codemirror_mode": {
    "name": "ipython",
    "version": 3
   },
   "file_extension": ".py",
   "mimetype": "text/x-python",
   "name": "python",
   "nbconvert_exporter": "python",
   "pygments_lexer": "ipython3",
   "version": "3.7.7"
  },
  "plotly": {
   "description": "How to make mixed subplots in Python with Plotly.",
   "display_as": "multiple_axes",
   "language": "python",
   "layout": "base",
   "name": "Mixed Subplots",
   "order": 1,
   "page_type": "example_index",
   "permalink": "python/mixed-subplots/",
   "thumbnail": "thumbnail/mixed_subplot.JPG"
  }
 },
 "nbformat": 4,
 "nbformat_minor": 5
}
