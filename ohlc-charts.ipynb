{
 "cells": [
  {
   "cell_type": "markdown",
   "id": "fec774eb",
   "metadata": {},
   "source": [
    "The [OHLC](https://en.wikipedia.org/wiki/Open-high-low-close_chart) chart (for open, high, low and close) is a style of financial chart describing open, high, low and close values for a given `x` coordinate (most likely time). The tip of the lines represent the `low` and `high` values and the horizontal segments represent the `open` and `close` values. Sample points where the close value is higher (lower) then the open value are called increasing (decreasing). By default, increasing items are drawn in green whereas decreasing are drawn in red.\n",
    "\n",
    "See also [Candlestick Charts](https://plotly.com/python/candlestick-charts/) and [other financial charts](https://plotly.com/python/#financial-charts).\n",
    "\n",
    "#### Simple OHLC Chart with Pandas"
   ]
  },
  {
   "cell_type": "code",
   "execution_count": null,
   "id": "f0486598",
   "metadata": {},
   "outputs": [],
   "source": [
    "import plotly.graph_objects as go\n",
    "import pandas as pd\n",
    "\n",
    "df = pd.read_csv('https://raw.githubusercontent.com/plotly/datasets/master/finance-charts-apple.csv')\n",
    "\n",
    "fig = go.Figure(data=go.Ohlc(x=df['Date'],\n",
    "                    open=df['AAPL.Open'],\n",
    "                    high=df['AAPL.High'],\n",
    "                    low=df['AAPL.Low'],\n",
    "                    close=df['AAPL.Close']))\n",
    "fig.show()"
   ]
  },
  {
   "cell_type": "markdown",
   "id": "371fa9f7",
   "metadata": {},
   "source": [
    "#### OHLC Chart without Rangeslider"
   ]
  },
  {
   "cell_type": "code",
   "execution_count": null,
   "id": "231427e2",
   "metadata": {},
   "outputs": [],
   "source": [
    "import plotly.graph_objects as go\n",
    "\n",
    "import pandas as pd\n",
    "\n",
    "\n",
    "df = pd.read_csv('https://raw.githubusercontent.com/plotly/datasets/master/finance-charts-apple.csv')\n",
    "\n",
    "fig = go.Figure(data=go.Ohlc(x=df['Date'],\n",
    "                open=df['AAPL.Open'],\n",
    "                high=df['AAPL.High'],\n",
    "                low=df['AAPL.Low'],\n",
    "                close=df['AAPL.Close']))\n",
    "fig.update(layout_xaxis_rangeslider_visible=False)\n",
    "fig.show()"
   ]
  },
  {
   "cell_type": "markdown",
   "id": "d0fff9b8",
   "metadata": {},
   "source": [
    "#### Adding Customized Text and Annotations"
   ]
  },
  {
   "cell_type": "code",
   "execution_count": null,
   "id": "48b8a50e",
   "metadata": {},
   "outputs": [],
   "source": [
    "import plotly.graph_objects as go\n",
    "import pandas as pd\n",
    "\n",
    "df = pd.read_csv('https://raw.githubusercontent.com/plotly/datasets/master/finance-charts-apple.csv')\n",
    "\n",
    "fig = go.Figure(data=go.Ohlc(x=df['Date'],\n",
    "                open=df['AAPL.Open'],\n",
    "                high=df['AAPL.High'],\n",
    "                low=df['AAPL.Low'],\n",
    "                close=df['AAPL.Close']))\n",
    "\n",
    "fig.update_layout(\n",
    "    title=dict(text='The Great Recession'),\n",
    "    yaxis=dict(title=dict(text='AAPL Stock')),\n",
    "    shapes = [dict(\n",
    "        x0='2016-12-09', x1='2016-12-09', y0=0, y1=1, xref='x', yref='paper',\n",
    "        line_width=2)],\n",
    "    annotations=[dict(\n",
    "        x='2016-12-09', y=0.05, xref='x', yref='paper',\n",
    "        showarrow=False, xanchor='left', text='Increase Period Begins')]\n",
    ")\n",
    "\n",
    "fig.show()"
   ]
  },
  {
   "cell_type": "markdown",
   "id": "d1161b77",
   "metadata": {},
   "source": [
    "#### Custom OHLC Colors"
   ]
  },
  {
   "cell_type": "code",
   "execution_count": null,
   "id": "29c2939a",
   "metadata": {},
   "outputs": [],
   "source": [
    "import plotly.graph_objects as go\n",
    "import pandas as pd\n",
    "\n",
    "df = pd.read_csv('https://raw.githubusercontent.com/plotly/datasets/master/finance-charts-apple.csv')\n",
    "\n",
    "fig = go.Figure(data=[go.Ohlc(\n",
    "    x=df['Date'],\n",
    "    open=df['AAPL.Open'], high=df['AAPL.High'],\n",
    "    low=df['AAPL.Low'], close=df['AAPL.Close'],\n",
    "    increasing_line_color= 'cyan', decreasing_line_color= 'gray'\n",
    ")])\n",
    "fig.show()"
   ]
  },
  {
   "cell_type": "markdown",
   "id": "028b1e6b",
   "metadata": {},
   "source": [
    "#### Simple OHLC with `datetime` Objects"
   ]
  },
  {
   "cell_type": "code",
   "execution_count": null,
   "id": "0b2e824c",
   "metadata": {},
   "outputs": [],
   "source": [
    "import plotly.graph_objects as go\n",
    "\n",
    "from datetime import datetime\n",
    "\n",
    "open_data = [33.0, 33.3, 33.5, 33.0, 34.1]\n",
    "high_data = [33.1, 33.3, 33.6, 33.2, 34.8]\n",
    "low_data = [32.7, 32.7, 32.8, 32.6, 32.8]\n",
    "close_data = [33.0, 32.9, 33.3, 33.1, 33.1]\n",
    "dates = [datetime(year=2013, month=10, day=10),\n",
    "         datetime(year=2013, month=11, day=10),\n",
    "         datetime(year=2013, month=12, day=10),\n",
    "         datetime(year=2014, month=1, day=10),\n",
    "         datetime(year=2014, month=2, day=10)]\n",
    "\n",
    "fig = go.Figure(data=[go.Ohlc(x=dates,\n",
    "                          open=open_data, high=high_data,\n",
    "                          low=low_data, close=close_data)])\n",
    "fig.show()"
   ]
  },
  {
   "cell_type": "markdown",
   "id": "9f105392",
   "metadata": {},
   "source": [
    "### Custom Hovertext"
   ]
  },
  {
   "cell_type": "code",
   "execution_count": null,
   "id": "0f8272aa",
   "metadata": {},
   "outputs": [],
   "source": [
    "import plotly.graph_objects as go\n",
    "\n",
    "import pandas as pd\n",
    "from datetime import datetime\n",
    "\n",
    "hovertext=[]\n",
    "for i in range(len(df['AAPL.Open'])):\n",
    "    hovertext.append('Open: '+str(df['AAPL.Open'][i])+'<br>Close: '+str(df['AAPL.Close'][i]))\n",
    "\n",
    "df = pd.read_csv('https://raw.githubusercontent.com/plotly/datasets/master/finance-charts-apple.csv')\n",
    "\n",
    "fig = go.Figure(data=go.Ohlc(x=df['Date'],\n",
    "                open=df['AAPL.Open'],\n",
    "                high=df['AAPL.High'],\n",
    "                low=df['AAPL.Low'],\n",
    "                close=df['AAPL.Close'],\n",
    "                text=hovertext,\n",
    "                hoverinfo='text'))\n",
    "fig.show()"
   ]
  },
  {
   "cell_type": "markdown",
   "id": "fef7ce39",
   "metadata": {},
   "source": [
    "#### Reference\n",
    "For more information on candlestick attributes, see: https://plotly.com/python/reference/ohlc/"
   ]
  },
  {
   "cell_type": "markdown",
   "id": "dea3356f",
   "metadata": {},
   "source": [
    "### What About Dash?\n",
    "\n",
    "[Dash](https://dash.plot.ly/) is an open-source framework for building analytical applications, with no Javascript required, and it is tightly integrated with the Plotly graphing library.\n",
    "\n",
    "Learn about how to install Dash at https://dash.plot.ly/installation.\n",
    "\n",
    "Everywhere in this page that you see `fig.show()`, you can display the same figure in a Dash application by passing it to the `figure` argument of the [`Graph` component](https://dash.plot.ly/dash-core-components/graph) from the built-in `dash_core_components` package like this:\n",
    "\n",
    "```python\n",
    "import plotly.graph_objects as go # or plotly.express as px\n",
    "fig = go.Figure() # or any Plotly Express function e.g. px.bar(...)\n",
    "# fig.add_trace( ... )\n",
    "# fig.update_layout( ... )\n",
    "\n",
    "from dash import Dash, dcc, html\n",
    "\n",
    "app = Dash()\n",
    "app.layout = html.Div([\n",
    "    dcc.Graph(figure=fig)\n",
    "])\n",
    "\n",
    "app.run_server(debug=True, use_reloader=False)  # Turn off reloader if inside Jupyter\n",
    "```"
   ]
  }
 ],
 "metadata": {
  "jupytext": {
   "notebook_metadata_filter": "all"
  },
  "kernelspec": {
   "display_name": "Python 3",
   "language": "python",
   "name": "python3"
  },
  "plotly": {
   "description": "How to make interactive OHLC charts in Python with Plotly. Six examples of OHLC charts with Pandas, time series, and yahoo finance data.",
   "display_as": "financial",
   "language": "python",
   "layout": "base",
   "name": "OHLC Charts",
   "order": 5,
   "permalink": "python/ohlc-charts/",
   "thumbnail": "thumbnail/ohlc.jpg"
  }
 },
 "nbformat": 4,
 "nbformat_minor": 5
}
