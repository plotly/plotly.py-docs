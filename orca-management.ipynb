{
 "cells": [
  {
   "cell_type": "markdown",
   "id": "b302e15c",
   "metadata": {
    "lines_to_next_cell": 0
   },
   "source": [
    "### Overview\n",
    "This section covers the lower-level details of how plotly.py can use orca to perform static image generation.\n",
    "\n",
    "> As of `plotly` version 4.9, Orca is no longer the recommended way to do static image export.  We now recommend Kaleido, as described in the [Static Image Export](/python/static-image-export/) section .\n",
    "\n",
    "Please refer to the [Static Image Export](/python/static-image-export/) section for general information on creating static images from plotly.py figures.\n",
    "\n",
    "### What is orca?\n",
    "Orca is an [Electron](https://electronjs.org/) application that inputs plotly figure specifications and converts them into static images.  Orca can run as a command-line utility or as a long-running server process. In order to provide the fastest possible image export experience, plotly.py launches orca in server mode, and communicates with it over a local port. See https://github.com/plotly/orca for more information.\n",
    "\n",
    "By default, plotly.py launches the orca server process the first time an image export operation is performed, and then leaves it running until the main Python process exits. Because of this, the first image export operation in an interactive session will typically take a couple of seconds, but then all subsequent export operations will be significantly faster, since the server is already running.\n",
    "\n",
    "### Installing orca\n",
    "There are 3 general approaches to installing orca and its Python dependencies.\n",
    "\n",
    "##### conda\n",
    "Using the [conda](https://conda.io/docs/) package manager, you can install these dependencies in a single command:"
   ]
  },
  {
   "cell_type": "raw",
   "id": "e512e6ba",
   "metadata": {},
   "source": [
    "$ conda install -c plotly plotly-orca==1.2.1 psutil requests"
   ]
  },
  {
   "cell_type": "markdown",
   "id": "801b11f9",
   "metadata": {},
   "source": [
    "**Note:** Even if you do not want to use conda to manage your Python dependencies, it is still useful as a cross platform tool for managing native libraries and command-line utilities (e.g. git, wget, graphviz, boost, gcc, nodejs, cairo, etc.).  For this use-case, start with [Miniconda](https://conda.io/miniconda.html) (~60MB) and tell the installer to add itself to your system `PATH`.  Then run `conda install plotly-orca==1.2.1` and the orca executable will be available system wide.\n",
    "\n",
    "##### npm + pip\n",
    "You can use the [npm](https://www.npmjs.com/get-npm) package manager to install `orca` (and its `electron` dependency), and then use pip to install `psutil`:"
   ]
  },
  {
   "cell_type": "raw",
   "id": "9a338065",
   "metadata": {},
   "source": [
    "$ npm install -g electron@1.8.4 orca\n",
    "$ pip install psutil requests"
   ]
  },
  {
   "cell_type": "markdown",
   "id": "ff9a93a9",
   "metadata": {},
   "source": [
    "##### Standalone Binaries + pip\n",
    "If you are unable to install conda or npm, you can install orca as a precompiled binary for your operating system. Follow the instructions in the orca [README](https://github.com/plotly/orca) to install orca and add it to your system `PATH`. Then use pip to install `psutil`."
   ]
  },
  {
   "cell_type": "raw",
   "id": "50ab0595",
   "metadata": {},
   "source": [
    "$ pip install psutil requests"
   ]
  },
  {
   "cell_type": "markdown",
   "id": "10edd5ad",
   "metadata": {},
   "source": [
    "### Install orca on Google Colab\n",
    "```\n",
    "!pip install plotly>=4.7.1\n",
    "!wget https://github.com/plotly/orca/releases/download/v1.2.1/orca-1.2.1-x86_64.AppImage -O /usr/local/bin/orca\n",
    "!chmod +x /usr/local/bin/orca\n",
    "!apt-get install xvfb libgtk2.0-0 libgconf-2-4\n",
    "```\n",
    "\n",
    "Once this is done you can use this code to make, show and export a figure:\n",
    "\n",
    "```python\n",
    "import plotly.graph_objects as go\n",
    "fig = go.Figure( go.Scatter(x=[1,2,3], y=[1,3,2] ) )\n",
    "fig.write_image(\"fig1.svg\")\n",
    "fig.write_image(\"fig1.png\")\n",
    "```\n",
    "\n",
    "The files can then be downloaded with:\n",
    "\n",
    "```python\n",
    "from google.colab import files\n",
    "files.download('fig1.svg')\n",
    "files.download('fig1.png')\n",
    "```"
   ]
  },
  {
   "cell_type": "markdown",
   "id": "7aab6619",
   "metadata": {},
   "source": [
    "### Create a Figure\n",
    "Now let's create a simple scatter plot with 100 random points of varying color and size."
   ]
  },
  {
   "cell_type": "code",
   "execution_count": null,
   "id": "59b1030b",
   "metadata": {},
   "outputs": [],
   "source": [
    "import plotly.graph_objects as go\n",
    "\n",
    "import numpy as np\n",
    "np.random.seed(1)\n",
    "\n",
    "# Generate scatter plot data\n",
    "N = 100\n",
    "x = np.random.rand(N)\n",
    "y = np.random.rand(N)\n",
    "colors = np.random.rand(N)\n",
    "sz = np.random.rand(N) * 30\n",
    "\n",
    "# Build and display figure\n",
    "fig = go.Figure()\n",
    "fig.add_trace(go.Scatter(\n",
    "    x=x,\n",
    "    y=y,\n",
    "    mode=\"markers\",\n",
    "    marker={\"size\": sz,\n",
    "            \"color\": colors,\n",
    "            \"opacity\": 0.6,\n",
    "            \"colorscale\": \"Viridis\"\n",
    "            }\n",
    "))\n",
    "\n",
    "fig.show()"
   ]
  },
  {
   "cell_type": "markdown",
   "id": "adc0d44f",
   "metadata": {},
   "source": [
    "### config\n",
    "We can use the `plotly.io.orca.config` object to view the current orca configuration settings."
   ]
  },
  {
   "cell_type": "code",
   "execution_count": null,
   "id": "e83724f7",
   "metadata": {},
   "outputs": [],
   "source": [
    "import plotly.io as pio\n",
    "pio.orca.config"
   ]
  },
  {
   "cell_type": "markdown",
   "id": "9b64d041",
   "metadata": {},
   "source": [
    "### status\n",
    "We can use the `plotly.io.orca.status` object to see the current status of the orca server"
   ]
  },
  {
   "cell_type": "code",
   "execution_count": null,
   "id": "70a3ceaa",
   "metadata": {},
   "outputs": [],
   "source": [
    "import plotly.io as pio\n",
    "pio.orca.status"
   ]
  },
  {
   "cell_type": "markdown",
   "id": "9cd59ee4",
   "metadata": {},
   "source": [
    "Since no image export operations have been performed yet, the orca server is not yet running.\n",
    "\n",
    "Let's export this figure as an SVG image, and record the runtime."
   ]
  },
  {
   "cell_type": "code",
   "execution_count": null,
   "id": "7ef2d95f",
   "metadata": {},
   "outputs": [],
   "source": [
    "%%time\n",
    "import plotly.io as pio\n",
    "from IPython.display import SVG, display\n",
    "img_bytes = pio.to_image(fig, format=\"svg\")\n",
    "display(SVG(img_bytes))"
   ]
  },
  {
   "cell_type": "markdown",
   "id": "d9ef001c",
   "metadata": {},
   "source": [
    "By checking the `status` object again, we see that the orca server is now running"
   ]
  },
  {
   "cell_type": "code",
   "execution_count": null,
   "id": "772728df",
   "metadata": {},
   "outputs": [],
   "source": [
    "import plotly.io as pio\n",
    "pio.orca.status"
   ]
  },
  {
   "cell_type": "markdown",
   "id": "f80c349e",
   "metadata": {},
   "source": [
    "Let's perform this same export operation again, now that the server is already running."
   ]
  },
  {
   "cell_type": "code",
   "execution_count": null,
   "id": "34c53561",
   "metadata": {},
   "outputs": [],
   "source": [
    "%%time\n",
    "import plotly.io as pio\n",
    "from IPython.display import SVG, display\n",
    "img_bytes = pio.to_image(fig, format=\"svg\")\n",
    "display(SVG(img_bytes))"
   ]
  },
  {
   "cell_type": "markdown",
   "id": "7d7878cc",
   "metadata": {},
   "source": [
    "The difference in runtime is dramatic. Starting the server and exporting the first image takes a couple seconds, while exporting an image with a running server is much faster."
   ]
  },
  {
   "cell_type": "markdown",
   "id": "58972c30",
   "metadata": {},
   "source": [
    "### Shutdown the Server\n",
    "By default, the orca server will continue to run until the main Python process exits.  It can also be manually shut down by calling the `plotly.io.orca.shutdown_server()` function.  Additionally, it is possible to configure the server to shut down automatically after a certain period of inactivity. See the `timeout` configuration parameter below for more information.\n",
    "\n",
    "Regardless of how the server is shut down, it will start back up automatically the next time an image export operation is performed."
   ]
  },
  {
   "cell_type": "code",
   "execution_count": null,
   "id": "912495ce",
   "metadata": {},
   "outputs": [],
   "source": [
    "import plotly.io as pio\n",
    "pio.orca.shutdown_server()\n",
    "pio.orca.status"
   ]
  },
  {
   "cell_type": "code",
   "execution_count": null,
   "id": "104e2619",
   "metadata": {},
   "outputs": [],
   "source": [
    "import plotly.io as pio\n",
    "img_bytes = pio.to_image(fig, format=\"svg\")\n",
    "display(SVG(img_bytes))"
   ]
  },
  {
   "cell_type": "code",
   "execution_count": null,
   "id": "3e15608b",
   "metadata": {},
   "outputs": [],
   "source": [
    "import plotly.io as pio\n",
    "pio.orca.status"
   ]
  },
  {
   "cell_type": "markdown",
   "id": "26b9975a",
   "metadata": {},
   "source": [
    "### Configuring the Executable\n",
    "By default, plotly.py searches the `PATH` for an executable named `orca` and checks that it is a valid plotly orca executable. If plotly.py is unable to find the executable, you'll get an error message that looks something like this:\n",
    "\n",
    "```\n",
    "----------------------------------------------------------------------------\n",
    "ValueError:\n",
    "The orca executable is required in order to export figures as static images,\n",
    "but it could not be found on the system path.\n",
    "\n",
    "Searched for executable 'orca' on the following path:\n",
    "    /anaconda3/envs/plotly_env/bin\n",
    "    /usr/local/bin\n",
    "    /usr/bin\n",
    "    /bin\n",
    "    /usr/sbin\n",
    "    /sbin\n",
    "\n",
    "If you haven't installed orca yet, you can do so using conda as follows:\n",
    "\n",
    "    $ conda install -c plotly plotly-orca==1.2.1\n",
    "\n",
    "Alternatively, see other installation methods in the orca project README at\n",
    "https://github.com/plotly/orca.\n",
    "\n",
    "After installation is complete, no further configuration should be needed.\n",
    "\n",
    "If you have installed orca, then for some reason plotly.py was unable to\n",
    "locate it. In this case, set the `plotly.io.orca.config.executable`\n",
    "property to the full path to your orca executable. For example:\n",
    "\n",
    "    >>> plotly.io.orca.config.executable = '/path/to/orca'\n",
    "\n",
    "After updating this executable property, try the export operation again.\n",
    "If it is successful then you may want to save this configuration so that it\n",
    "will be applied automatically in future sessions. You can do this as follows:\n",
    "\n",
    "    >>> plotly.io.orca.config.save()\n",
    "\n",
    "If you're still having trouble, feel free to ask for help on the forums at\n",
    "https://community.plotly.com/c/api/python\n",
    "----------------------------------------------------------------------------\n",
    "```\n",
    "If this happens, follow the instructions in the error message and specify the full path to you orca executable using the `plotly.io.orca.config.executable` configuration property."
   ]
  },
  {
   "cell_type": "markdown",
   "id": "4edab705",
   "metadata": {},
   "source": [
    "### Other Configuration Settings\n",
    "In addition to the `executable` property, the `plotly.io.orca.config` object can also be used to configure the following options:\n",
    "\n",
    " - **`server_url`**: The URL to an externally running instance of Orca. When this is set, plotly.py will not launch an orca server process and instead use the one provided.\n",
    " - **`port`**: The specific port to use to communicate with the orca server, or `None` if the port will be chosen automatically.\n",
    " - **`timeout`**: The number of seconds of inactivity required before the orca server is shut down. For example, if timeout is set to 20, then the orca server will shutdown once is has not been used for at least 20 seconds. If timeout is set to `None` (the default), then the server will not be automatically shut down due to inactivity.\n",
    " - **`default_width`**: The default pixel width to use on image export.\n",
    " - **`default_height`**: The default pixel height to use on image export.\n",
    " - **`default_scale`**: The default image scale factor applied on image export.\n",
    " - **`default_format`**: The default image format used on export. One of `\"png\"`, `\"jpeg\"`, `\"webp\"`, `\"svg\"`, `\"pdf\"`, or `\"eps\"`.\n",
    " - **`mathjax`**: Location of the MathJax bundle needed to render LaTeX characters. Defaults to a CDN location. If fully offline export is required, set this to a local MathJax bundle.\n",
    " - **`topojson`**: Location of the topojson files needed to render choropleth traces. Defaults to a CDN location. If fully offline export is required, set this to a local directory containing the [Plotly.js topojson files](https://github.com/plotly/plotly.js/tree/master/dist/topojson).\n",
    " - **`mapbox_access_token`**: Mapbox access token required to render `scattermapbox` traces.\n",
    " - **`use_xvfb`**: Whether to call orca using [Xvfb](https://www.x.org/releases/X11R7.6/doc/man/man1/Xvfb.1.xhtml) on Linux. Xvfb is needed for orca to work in a Linux environment if an X11 display server is not available.  By default, plotly.py will automatically use Xvfb if it is installed, and no active X11 display server is detected.  This can be set to `True` to force the use of Xvfb, or it can be set to `False` to disable the use of Xvfb."
   ]
  },
  {
   "cell_type": "markdown",
   "id": "a620b918",
   "metadata": {},
   "source": [
    "### Saving Configuration Settings\n",
    "Configuration options can optionally be saved to the `~/.plotly/` directory by calling the `plotly.io.config.save()` method.  Saved setting will be automatically loaded at the start of future sessions."
   ]
  },
  {
   "cell_type": "markdown",
   "id": "24719a00",
   "metadata": {},
   "source": [
    "### What About Dash?\n",
    "\n",
    "[Dash](https://dash.plot.ly/) is an open-source framework for building analytical applications, with no Javascript required, and it is tightly integrated with the Plotly graphing library.\n",
    "\n",
    "Learn about how to install Dash at https://dash.plot.ly/installation.\n",
    "\n",
    "Everywhere in this page that you see `fig.show()`, you can display the same figure in a Dash application by passing it to the `figure` argument of the [`Graph` component](https://dash.plot.ly/dash-core-components/graph) from the built-in `dash_core_components` package like this:\n",
    "\n",
    "```python\n",
    "import plotly.graph_objects as go # or plotly.express as px\n",
    "fig = go.Figure() # or any Plotly Express function e.g. px.bar(...)\n",
    "# fig.add_trace( ... )\n",
    "# fig.update_layout( ... )\n",
    "\n",
    "from dash import Dash, dcc, html\n",
    "\n",
    "app = Dash()\n",
    "app.layout = html.Div([\n",
    "    dcc.Graph(figure=fig)\n",
    "])\n",
    "\n",
    "app.run_server(debug=True, use_reloader=False)  # Turn off reloader if inside Jupyter\n",
    "```"
   ]
  }
 ],
 "metadata": {
  "jupytext": {
   "notebook_metadata_filter": "all"
  },
  "kernelspec": {
   "display_name": "Python 3",
   "language": "python",
   "name": "python3"
  },
  "language_info": {
   "codemirror_mode": {
    "name": "ipython",
    "version": 3
   },
   "file_extension": ".py",
   "mimetype": "text/x-python",
   "name": "python",
   "nbconvert_exporter": "python",
   "pygments_lexer": "ipython3",
   "version": "3.7.3"
  },
  "plotly": {
   "description": "This section covers the low-level details of how plotly.py uses orca to perform static image generation.",
   "display_as": "file_settings",
   "language": "python",
   "layout": "base",
   "name": "Orca Management",
   "order": 9,
   "permalink": "python/orca-management/",
   "thumbnail": "thumbnail/orca-management.png"
  }
 },
 "nbformat": 4,
 "nbformat_minor": 5
}
