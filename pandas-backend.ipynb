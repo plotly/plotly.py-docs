{
 "cells": [
  {
   "cell_type": "markdown",
   "id": "4e3d54a7",
   "metadata": {},
   "source": [
    "### Introduction\n",
    "\n",
    "The popular [Pandas](https://pandas.pydata.org/) data analysis and manipulation tool provides [plotting functions on its `DataFrame` and `Series` objects](https://pandas.pydata.org/pandas-docs/stable/user_guide/visualization.html), which have historically produced `matplotlib` plots. Since version 0.25, Pandas has provided a mechanism to use different backends, and as of version 4.8 of `plotly`, you can now use a [Plotly Express-powered](/python/plotly-express/) backend for Pandas plotting. This means you can now produce interactive plots directly from a data frame, without even needing to import Plotly.\n",
    "\n",
    "To activate this backend, you will need to [have Plotly installed](/python/getting-started/), and then just need to set `pd.options.plotting.backend` to `\"plotly\"` and call `.plot()` to get a `plotly.graph_objects.Figure` object back, just like if you had called Plotly Express directly:"
   ]
  },
  {
   "cell_type": "code",
   "execution_count": null,
   "id": "2c0cebfa",
   "metadata": {},
   "outputs": [],
   "source": [
    "import pandas as pd\n",
    "pd.options.plotting.backend = \"plotly\"\n",
    "\n",
    "df = pd.DataFrame(dict(a=[1,3,2], b=[3,2,1]))\n",
    "fig = df.plot()\n",
    "fig.show()"
   ]
  },
  {
   "cell_type": "markdown",
   "id": "5340a4db",
   "metadata": {},
   "source": [
    "This functionality wraps [Plotly Express](/python/plotly-express/) and so you can use any of the [styling options available to Plotly Express methods](/python/styling-plotly-express/). Since what you get back is a regular `Figure` object, you can use any of the update mechanisms supported by these objects to apply [templates](/python/templates/) or further customize [axes](/python/axes/), [colors](/python/colorscales/), [legends](/python/legend/), [fonts](/python/figure-labels/), [hover labels](/python/hover-text-and-formatting/) etc. [Faceting](/python/facet-plots/) is also supported."
   ]
  },
  {
   "cell_type": "code",
   "execution_count": null,
   "id": "5d908686",
   "metadata": {},
   "outputs": [],
   "source": [
    "import pandas as pd\n",
    "pd.options.plotting.backend = \"plotly\"\n",
    "\n",
    "df = pd.DataFrame(dict(a=[1,3,2], b=[3,2,1]))\n",
    "fig = df.plot(title=\"Pandas Backend Example\", template=\"simple_white\",\n",
    "              labels=dict(index=\"time\", value=\"money\", variable=\"option\"))\n",
    "fig.update_yaxes(tickprefix=\"$\")\n",
    "fig.show()"
   ]
  },
  {
   "cell_type": "markdown",
   "id": "7ca8007e",
   "metadata": {},
   "source": [
    "### A Note on API Compatibility\n",
    "\n",
    "> The Plotly plotting backend for Pandas is *not intended* to be a drop-in replacement for the default; it does not implement all or even most of the same keyword arguments, such as `subplots=True` etc.\n",
    "\n",
    "The Plotly plotting backend for Pandas is a more convenient way to invoke certain [Plotly Express](/python/plotly-express/) functions by chaining a `.plot()` call without having to import Plotly Express directly. Plotly Express, as of version 4.8 with [wide-form data support](/python/wide-form/) in addition to its robust long-form data support, implements behaviour for the `x` and `y` keywords that are very similar to the `matplotlib` backend.\n",
    "\n",
    "In practice, this means that the following two ways of making a chart are identical and support the same additional arguments, because they call the same underlying code:"
   ]
  },
  {
   "cell_type": "code",
   "execution_count": null,
   "id": "07f19ee8",
   "metadata": {},
   "outputs": [],
   "source": [
    "import pandas as pd\n",
    "pd.options.plotting.backend = \"plotly\"\n",
    "df = pd.DataFrame(dict(a=[1,3,2], b=[3,2,1]))\n",
    "\n",
    "# using Plotly Express via the Pandas backend\n",
    "fig1 = df.plot.bar()\n",
    "fig1.show()\n",
    "\n",
    "# using Plotly Express directly\n",
    "import plotly.express as px\n",
    "fig2 = px.bar(df)\n",
    "fig2.show()"
   ]
  },
  {
   "cell_type": "markdown",
   "id": "b91f82d2",
   "metadata": {},
   "source": [
    "To achieve a similar effect to `subplots=True`, for example, the [Plotly Express `facet_row` and `facet_col` options](/python/facet-plots/) can be used, the same was as they work when directly calling [Plotly Express with wide-form data](/python/wide-form/):"
   ]
  },
  {
   "cell_type": "code",
   "execution_count": null,
   "id": "5db5ed4c",
   "metadata": {},
   "outputs": [],
   "source": [
    "import pandas as pd\n",
    "pd.options.plotting.backend = \"plotly\"\n",
    "df = pd.DataFrame(dict(a=[1,3,2], b=[3,2,1]))\n",
    "\n",
    "fig = df.plot.bar(facet_row=\"variable\")\n",
    "fig.show()"
   ]
  },
  {
   "cell_type": "markdown",
   "id": "7287a25e",
   "metadata": {},
   "source": [
    "### Supported Methods\n",
    "\n",
    "The Plotly backend supports the following `kind`s of Pandas plots: `scatter`, `line`, `area`, `bar`, `barh`, `hist` and `box`, via the call pattern `df.plot(kind='scatter')` or `df.plot.scatter()`. These delegate to the corresponding Plotly Express functions. In addition, the following are valid options to the `kind` argument of `df.plot()`: `violin`, `strip`, `funnel`, `density_heatmap`, `density_contour` and `imshow`, even though the call pattern `df.plot.violin()` is not supported for these kinds of charts, per the Pandas API."
   ]
  },
  {
   "cell_type": "code",
   "execution_count": null,
   "id": "afda57a2",
   "metadata": {},
   "outputs": [],
   "source": [
    "import pandas as pd\n",
    "import numpy as np\n",
    "pd.options.plotting.backend = \"plotly\"\n",
    "np.random.seed(1)\n",
    "\n",
    "df = pd.DataFrame(dict(\n",
    "    a=np.random.normal(loc=1, scale=2, size=100),\n",
    "    b=np.random.normal(loc=2, scale=1, size=100)\n",
    "))\n",
    "fig = df.plot.scatter(x=\"a\", y=\"b\")\n",
    "fig.show()"
   ]
  },
  {
   "cell_type": "code",
   "execution_count": null,
   "id": "b9767181",
   "metadata": {},
   "outputs": [],
   "source": [
    "import pandas as pd\n",
    "pd.options.plotting.backend = \"plotly\"\n",
    "\n",
    "df = pd.DataFrame(dict(a=[1,3,2], b=[3,2,1]))\n",
    "fig = df.plot.line()\n",
    "fig.show()"
   ]
  },
  {
   "cell_type": "code",
   "execution_count": null,
   "id": "f52e873a",
   "metadata": {},
   "outputs": [],
   "source": [
    "import pandas as pd\n",
    "pd.options.plotting.backend = \"plotly\"\n",
    "\n",
    "df = pd.DataFrame(dict(a=[1,3,2], b=[3,2,1]))\n",
    "fig = df.plot.area()\n",
    "fig.show()"
   ]
  },
  {
   "cell_type": "code",
   "execution_count": null,
   "id": "7a7a0a0d",
   "metadata": {},
   "outputs": [],
   "source": [
    "import pandas as pd\n",
    "pd.options.plotting.backend = \"plotly\"\n",
    "\n",
    "df = pd.DataFrame(dict(a=[1,3,2], b=[3,2,1]))\n",
    "fig = df.plot.bar()\n",
    "fig.show()"
   ]
  },
  {
   "cell_type": "code",
   "execution_count": null,
   "id": "0fc9742d",
   "metadata": {},
   "outputs": [],
   "source": [
    "import pandas as pd\n",
    "pd.options.plotting.backend = \"plotly\"\n",
    "\n",
    "df = pd.DataFrame(dict(a=[1,3,2], b=[3,2,1]))\n",
    "fig = df.plot.barh()\n",
    "fig.show()"
   ]
  },
  {
   "cell_type": "code",
   "execution_count": null,
   "id": "45a67308",
   "metadata": {},
   "outputs": [],
   "source": [
    "import pandas as pd\n",
    "import numpy as np\n",
    "pd.options.plotting.backend = \"plotly\"\n",
    "np.random.seed(1)\n",
    "\n",
    "df = pd.DataFrame(dict(\n",
    "    a=np.random.normal(loc=1, scale=2, size=100),\n",
    "    b=np.random.normal(loc=2, scale=1, size=100)\n",
    "))\n",
    "fig = df.plot.hist()\n",
    "fig.show()"
   ]
  },
  {
   "cell_type": "code",
   "execution_count": null,
   "id": "61b150e6",
   "metadata": {},
   "outputs": [],
   "source": [
    "import pandas as pd\n",
    "import numpy as np\n",
    "pd.options.plotting.backend = \"plotly\"\n",
    "np.random.seed(1)\n",
    "\n",
    "df = pd.DataFrame(dict(\n",
    "    a=np.random.normal(loc=1, scale=2, size=100),\n",
    "    b=np.random.normal(loc=2, scale=1, size=100)\n",
    "))\n",
    "fig = df.plot.box()\n",
    "fig.show()"
   ]
  },
  {
   "cell_type": "markdown",
   "id": "45e681c6",
   "metadata": {},
   "source": [
    "### `Series` and `DataFrame` functions: `hist` and `boxplot`\n",
    "\n",
    "The Pandas plotting API also exposes `.hist()` on `DataFrame`s and `Series` objects, and `.boxplot()` on `DataFrames`, which can also be used with the Plotly backend."
   ]
  },
  {
   "cell_type": "code",
   "execution_count": null,
   "id": "2e0e03e2",
   "metadata": {},
   "outputs": [],
   "source": [
    "import pandas as pd\n",
    "import numpy as np\n",
    "pd.options.plotting.backend = \"plotly\"\n",
    "np.random.seed(1)\n",
    "\n",
    "df = pd.DataFrame(dict(\n",
    "    a=np.random.normal(loc=1, scale=2, size=100),\n",
    "    b=np.random.normal(loc=2, scale=1, size=100)\n",
    "))\n",
    "fig = df.boxplot()\n",
    "fig.show()"
   ]
  },
  {
   "cell_type": "markdown",
   "id": "83358801",
   "metadata": {},
   "source": [
    "### What about Cufflinks?\n",
    "\n",
    "There also exists an independent third-party wrapper library around Plotly called [Cufflinks](https://github.com/santosjorge/cufflinks), which provides similar functionality (with an API closer to that of Pandas' default `matplotlib` backend) by adding a `.iplot()` method to Pandas dataframes, as it was developed before Pandas supported configurable backends. Issues and questions regarding Cufflinks should be [raised in the Cufflinks repository](https://github.com/santosjorge/cufflinks/issues/new).\n"
   ]
  },
  {
   "cell_type": "markdown",
   "id": "d029d6a6",
   "metadata": {},
   "source": [
    "### What About Dash?\n",
    "\n",
    "[Dash](https://dash.plot.ly/) is an open-source framework for building analytical applications, with no Javascript required, and it is tightly integrated with the Plotly graphing library.\n",
    "\n",
    "Learn about how to install Dash at https://dash.plot.ly/installation.\n",
    "\n",
    "Everywhere in this page that you see `fig.show()`, you can display the same figure in a Dash application by passing it to the `figure` argument of the [`Graph` component](https://dash.plot.ly/dash-core-components/graph) from the built-in `dash_core_components` package like this:\n",
    "\n",
    "```python\n",
    "import plotly.graph_objects as go # or plotly.express as px\n",
    "fig = go.Figure() # or any Plotly Express function e.g. px.bar(...)\n",
    "# fig.add_trace( ... )\n",
    "# fig.update_layout( ... )\n",
    "\n",
    "from dash import Dash, dcc, html\n",
    "\n",
    "app = Dash()\n",
    "app.layout = html.Div([\n",
    "    dcc.Graph(figure=fig)\n",
    "])\n",
    "\n",
    "app.run_server(debug=True, use_reloader=False)  # Turn off reloader if inside Jupyter\n",
    "```"
   ]
  }
 ],
 "metadata": {
  "jupytext": {
   "notebook_metadata_filter": "all"
  },
  "kernelspec": {
   "display_name": "Python 3",
   "language": "python",
   "name": "python3"
  },
  "language_info": {
   "codemirror_mode": {
    "name": "ipython",
    "version": 3
   },
   "file_extension": ".py",
   "mimetype": "text/x-python",
   "name": "python",
   "nbconvert_exporter": "python",
   "pygments_lexer": "ipython3",
   "version": "3.7.7"
  },
  "plotly": {
   "description": "Plotly Express can be used as a Pandas .plot() backend.",
   "display_as": "file_settings",
   "language": "python",
   "layout": "base",
   "name": "Pandas Plotting Backend",
   "order": 32,
   "permalink": "python/pandas-backend/",
   "redirect_from": "python/cufflinks/",
   "thumbnail": "thumbnail/plotly-express.png"
  }
 },
 "nbformat": 4,
 "nbformat_minor": 5
}
