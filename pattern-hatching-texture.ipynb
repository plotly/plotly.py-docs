{
 "cells": [
  {
   "cell_type": "markdown",
   "id": "97e23cf3",
   "metadata": {},
   "source": [
    "*New in 5.0, with support for pie, sunburst, icicle, funnelarea, and treemap charts in 5.15*\n",
    "\n",
    "[Bar charts](/python/bar-charts/), [histograms](/python/histograms/), [polar bar charts](/python/wind-rose-charts/), [area charts](/python/filled-area-plots/), [pie charts](/python/pie-charts), [sunburst charts](/python/sunburst-charts), [funnelarea charts](/python/funnel-charts), [icicle charts](/python/icicle-charts/), and [treemap charts](/python/treemaps), have large markers or areas which support not only a fill color, but also an optional **pattern** (also known as \"hatching\" or \"texture\"). This can be used for a variety of reasons:\n",
    "\n",
    "* to double-encode variables (i.e. using both color and pattern) to improve accessibility for visually-impaired end-users\n",
    "* to encode an additional variable beyond just using color\n",
    "* to make charts that are easier to print in black and white"
   ]
  },
  {
   "cell_type": "markdown",
   "id": "58fd2395",
   "metadata": {},
   "source": [
    "### Patterned Charts with Plotly Express\n",
    "\n",
    "the `px.bar()`, `px.histogram()`, `px.bar_polar()` and `px.area()` functions support the `pattern_shape` argument. In the chart below, we double-encode `nation` using color and pattern:"
   ]
  },
  {
   "cell_type": "code",
   "execution_count": null,
   "id": "ff6fdc3c",
   "metadata": {},
   "outputs": [],
   "source": [
    "import plotly.express as px\n",
    "df = px.data.medals_long()\n",
    "\n",
    "fig = px.bar(df, x=\"medal\", y=\"count\", color=\"nation\", pattern_shape=\"nation\")\n",
    "fig.show()"
   ]
  },
  {
   "cell_type": "code",
   "execution_count": null,
   "id": "b6582f53",
   "metadata": {},
   "outputs": [],
   "source": [
    "import plotly.express as px\n",
    "df = px.data.medals_long()\n",
    "\n",
    "fig = px.area(df, x=\"medal\", y=\"count\", color=\"nation\", pattern_shape=\"nation\")\n",
    "fig.show()"
   ]
  },
  {
   "cell_type": "markdown",
   "id": "e7af251e",
   "metadata": {},
   "source": [
    "In the chart below we use `px.histogram()` instead of `px.bar()` to aggregate multiple values together, and encode one variable (sex) using both color and x-position and another (smoker) using patterns:"
   ]
  },
  {
   "cell_type": "code",
   "execution_count": null,
   "id": "e76b1e92",
   "metadata": {},
   "outputs": [],
   "source": [
    "import plotly.express as px\n",
    "\n",
    "df = px.data.tips()\n",
    "fig = px.histogram(df, x=\"sex\", y=\"total_bill\", color=\"sex\", pattern_shape=\"smoker\")\n",
    "fig.show()"
   ]
  },
  {
   "cell_type": "markdown",
   "id": "cc0fc667",
   "metadata": {},
   "source": [
    "### Controlling Pattern Assignment\n",
    "\n",
    "In the charts above, the first value of the variable assigned `pattern_shape` gets the empty pattern, but this (and indeed every pattern-to-variable assignment) can be controlled using `pattern_shape_sequence` and `pattern_shape_map`, analogously to the way [discrete colors](/python/discrete-color/) can be mapped using Plotly Express.\n",
    "\n",
    "Here we use `pattern_shape_sequence` to replace the defaults and include a pattern-shape for the first variable:"
   ]
  },
  {
   "cell_type": "code",
   "execution_count": null,
   "id": "014e4311",
   "metadata": {},
   "outputs": [],
   "source": [
    "import plotly.express as px\n",
    "df = px.data.medals_long()\n",
    "\n",
    "fig = px.bar(df, x=\"medal\", y=\"count\", color=\"nation\",\n",
    "             pattern_shape=\"nation\", pattern_shape_sequence=[\".\", \"x\", \"+\"])\n",
    "fig.show()"
   ]
  },
  {
   "cell_type": "markdown",
   "id": "544ad87a",
   "metadata": {},
   "source": [
    "Here we use `pattern_shape_map` to explictly assign a shape to each value of `nation`, regardless of order:"
   ]
  },
  {
   "cell_type": "code",
   "execution_count": null,
   "id": "fd326b7e",
   "metadata": {},
   "outputs": [],
   "source": [
    "import plotly.express as px\n",
    "df = px.data.medals_long()\n",
    "\n",
    "fig = px.bar(df, x=\"medal\", y=\"count\", color=\"nation\",\n",
    "             pattern_shape=\"nation\", pattern_shape_map={\n",
    "             \"China\": \".\", \"Canada\": \"/\", \"South Korea\": \"+\"\n",
    "             })\n",
    "fig.show()"
   ]
  },
  {
   "cell_type": "markdown",
   "id": "a7899e44",
   "metadata": {},
   "source": [
    "### Black on White Patterns for Print\n",
    "\n",
    "When creating figures meant to be printed on black and white printers, it is better to *replace* the fill-color with the pattern, rather than to overlay it. This can be controlled with the `<trace>.marker.pattern.fillmode` attribute, which defaults to `\"overlay\"` but can be set to `\"replace\"` instead. Changing this attribute, and using a simpler default template and color scheme gives the following output:"
   ]
  },
  {
   "cell_type": "code",
   "execution_count": null,
   "id": "fe7a6e82",
   "metadata": {},
   "outputs": [],
   "source": [
    "import plotly.express as px\n",
    "df = px.data.medals_long()\n",
    "\n",
    "fig = px.bar(df, x=\"medal\", y=\"count\", color=\"nation\",\n",
    "             pattern_shape=\"nation\", pattern_shape_sequence=[\".\", \"x\", \"+\"],\n",
    "             template=\"simple_white\"\n",
    "            )\n",
    "fig.update_traces(\n",
    "    marker=dict(color=\"black\", line_color=\"black\", pattern_fillmode=\"replace\")\n",
    ")\n",
    "fig.show()"
   ]
  },
  {
   "cell_type": "markdown",
   "id": "51a3186e",
   "metadata": {},
   "source": [
    "Of course, this setting can be used without making the figure monochrome as well:"
   ]
  },
  {
   "cell_type": "code",
   "execution_count": null,
   "id": "6d0f3fcf",
   "metadata": {},
   "outputs": [],
   "source": [
    "import plotly.express as px\n",
    "df = px.data.medals_long()\n",
    "\n",
    "fig = px.bar(df, x=\"medal\", y=\"count\", color=\"nation\",\n",
    "             pattern_shape=\"nation\", pattern_shape_sequence=[\".\", \"x\", \"+\"],\n",
    "            )\n",
    "fig.update_traces(\n",
    "    marker=dict(line_color=\"grey\", pattern_fillmode=\"replace\")\n",
    ")\n",
    "fig.show()"
   ]
  },
  {
   "cell_type": "markdown",
   "id": "d8cd1121",
   "metadata": {},
   "source": [
    "### Patterns using Graph Objects\n",
    "\n",
    "If Plotly Express does not provide a good starting point, it is also possible to use [the more generic `go.Bar` class from `plotly.graph_objects`](/python/graph-objects/)."
   ]
  },
  {
   "cell_type": "code",
   "execution_count": null,
   "id": "01d75c97",
   "metadata": {},
   "outputs": [],
   "source": [
    "import plotly.graph_objects as go\n",
    "\n",
    "fig = go.Figure()\n",
    "\n",
    "fig.add_trace(go.Bar(x=[\"a\",\"b\"], y=[1,2], marker_pattern_shape=\".\"))\n",
    "fig.add_trace(go.Bar(x=[\"a\",\"b\"], y=[3,1], marker_pattern_shape=\"x\"))\n",
    "fig.add_trace(go.Bar(x=[\"a\",\"b\"], y=[2,3], marker_pattern_shape=\"+\"))\n",
    "\n",
    "fig.show()"
   ]
  },
  {
   "cell_type": "markdown",
   "id": "3d5c66f0",
   "metadata": {},
   "source": [
    "#### Reference\n",
    "\n",
    "See https://plotly.com/python/reference/bar/ for more information and chart attribute options!\n"
   ]
  },
  {
   "cell_type": "markdown",
   "id": "5a52594e",
   "metadata": {},
   "source": [
    "### What About Dash?\n",
    "\n",
    "[Dash](https://dash.plot.ly/) is an open-source framework for building analytical applications, with no Javascript required, and it is tightly integrated with the Plotly graphing library.\n",
    "\n",
    "Learn about how to install Dash at https://dash.plot.ly/installation.\n",
    "\n",
    "Everywhere in this page that you see `fig.show()`, you can display the same figure in a Dash application by passing it to the `figure` argument of the [`Graph` component](https://dash.plot.ly/dash-core-components/graph) from the built-in `dash_core_components` package like this:\n",
    "\n",
    "```python\n",
    "import plotly.graph_objects as go # or plotly.express as px\n",
    "fig = go.Figure() # or any Plotly Express function e.g. px.bar(...)\n",
    "# fig.add_trace( ... )\n",
    "# fig.update_layout( ... )\n",
    "\n",
    "from dash import Dash, dcc, html\n",
    "\n",
    "app = Dash()\n",
    "app.layout = html.Div([\n",
    "    dcc.Graph(figure=fig)\n",
    "])\n",
    "\n",
    "app.run_server(debug=True, use_reloader=False)  # Turn off reloader if inside Jupyter\n",
    "```"
   ]
  }
 ],
 "metadata": {
  "jupytext": {
   "notebook_metadata_filter": "all"
  },
  "kernelspec": {
   "display_name": "Python 3 (ipykernel)",
   "language": "python",
   "name": "python3"
  },
  "language_info": {
   "codemirror_mode": {
    "name": "ipython",
    "version": 3
   },
   "file_extension": ".py",
   "mimetype": "text/x-python",
   "name": "python",
   "nbconvert_exporter": "python",
   "pygments_lexer": "ipython3",
   "version": "3.10.11"
  },
  "plotly": {
   "description": "How to use patterns (also known as hatching or texture) with bar charts.",
   "display_as": "basic",
   "language": "python",
   "layout": "base",
   "name": "Patterns, Hatching, Texture",
   "order": 18,
   "page_type": "u-guide",
   "permalink": "python/pattern-hatching-texture/",
   "thumbnail": "thumbnail/pattern.png"
  }
 },
 "nbformat": 4,
 "nbformat_minor": 5
}
