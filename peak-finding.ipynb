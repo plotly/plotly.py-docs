{
 "cells": [
  {
   "cell_type": "markdown",
   "id": "fcfa3f1c",
   "metadata": {},
   "source": [
    "#### Imports\n",
    "\n",
    "The tutorial below imports [Pandas](https://pandas.pydata.org/docs/user_guide/10min.html), and [SciPy](https://www.scipy.org/)."
   ]
  },
  {
   "cell_type": "code",
   "execution_count": null,
   "id": "a995bcc0",
   "metadata": {},
   "outputs": [],
   "source": [
    "import pandas as pd\n",
    "from scipy.signal import find_peaks"
   ]
  },
  {
   "cell_type": "markdown",
   "id": "6ec2e3d0",
   "metadata": {},
   "source": [
    "#### Import Data\n",
    "\n",
    "To start detecting peaks, we will import some data on milk production by month:"
   ]
  },
  {
   "cell_type": "code",
   "execution_count": null,
   "id": "bcfea552",
   "metadata": {},
   "outputs": [],
   "source": [
    "import plotly.graph_objects as go\n",
    "import pandas as pd\n",
    "\n",
    "milk_data = pd.read_csv('https://raw.githubusercontent.com/plotly/datasets/master/monthly-milk-production-pounds.csv')\n",
    "time_series = milk_data['Monthly milk production (pounds per cow)']\n",
    "\n",
    "fig = go.Figure(data=go.Scatter(\n",
    "    y = time_series,\n",
    "    mode = 'lines'\n",
    "))\n",
    "\n",
    "fig.show()"
   ]
  },
  {
   "cell_type": "markdown",
   "id": "109b421f",
   "metadata": {},
   "source": [
    "#### Peak Detection\n",
    "\n",
    "We need to find the x-axis indices for the peaks in order to determine where the peaks are located."
   ]
  },
  {
   "cell_type": "code",
   "execution_count": null,
   "id": "1cfdd8f3",
   "metadata": {},
   "outputs": [],
   "source": [
    "import plotly.graph_objects as go\n",
    "import pandas as pd\n",
    "from scipy.signal import find_peaks\n",
    "\n",
    "milk_data = pd.read_csv('https://raw.githubusercontent.com/plotly/datasets/master/monthly-milk-production-pounds.csv')\n",
    "time_series = milk_data['Monthly milk production (pounds per cow)']\n",
    "\n",
    "indices = find_peaks(time_series)[0]\n",
    "\n",
    "fig = go.Figure()\n",
    "fig.add_trace(go.Scatter(\n",
    "    y=time_series,\n",
    "    mode='lines+markers',\n",
    "    name='Original Plot'\n",
    "))\n",
    "\n",
    "fig.add_trace(go.Scatter(\n",
    "    x=indices,\n",
    "    y=[time_series[j] for j in indices],\n",
    "    mode='markers',\n",
    "    marker=dict(\n",
    "        size=8,\n",
    "        color='red',\n",
    "        symbol='cross'\n",
    "    ),\n",
    "    name='Detected Peaks'\n",
    "))\n",
    "\n",
    "fig.show()"
   ]
  },
  {
   "cell_type": "markdown",
   "id": "dfa2a819",
   "metadata": {},
   "source": [
    "#### Only Highest Peaks\n",
    "\n",
    "We can attempt to set our threshold so that we identify as many of the _highest peaks_ that we can."
   ]
  },
  {
   "cell_type": "code",
   "execution_count": null,
   "id": "04122a35",
   "metadata": {
    "lines_to_next_cell": 2
   },
   "outputs": [],
   "source": [
    "import plotly.graph_objects as go\n",
    "import numpy as np\n",
    "import pandas as pd\n",
    "from scipy.signal import find_peaks\n",
    "\n",
    "milk_data = pd.read_csv('https://raw.githubusercontent.com/plotly/datasets/master/monthly-milk-production-pounds.csv')\n",
    "time_series = milk_data['Monthly milk production (pounds per cow)']\n",
    "\n",
    "indices = find_peaks(time_series, threshold=20)[0]\n",
    "\n",
    "fig = go.Figure()\n",
    "fig.add_trace(go.Scatter(\n",
    "    y=time_series,\n",
    "    mode='lines+markers',\n",
    "    name='Original Plot'\n",
    "))\n",
    "\n",
    "fig.add_trace(go.Scatter(\n",
    "    x=indices,\n",
    "    y=[time_series[j] for j in indices],\n",
    "    mode='markers',\n",
    "    marker=dict(\n",
    "        size=8,\n",
    "        color='red',\n",
    "        symbol='cross'\n",
    "    ),\n",
    "    name='Detected Peaks'\n",
    "))\n",
    "\n",
    "fig.show()"
   ]
  },
  {
   "cell_type": "markdown",
   "id": "0a009c31",
   "metadata": {},
   "source": [
    "### What About Dash?\n",
    "\n",
    "[Dash](https://dash.plot.ly/) is an open-source framework for building analytical applications, with no Javascript required, and it is tightly integrated with the Plotly graphing library.\n",
    "\n",
    "Learn about how to install Dash at https://dash.plot.ly/installation.\n",
    "\n",
    "Everywhere in this page that you see `fig.show()`, you can display the same figure in a Dash application by passing it to the `figure` argument of the [`Graph` component](https://dash.plot.ly/dash-core-components/graph) from the built-in `dash_core_components` package like this:\n",
    "\n",
    "```python\n",
    "import plotly.graph_objects as go # or plotly.express as px\n",
    "fig = go.Figure() # or any Plotly Express function e.g. px.bar(...)\n",
    "# fig.add_trace( ... )\n",
    "# fig.update_layout( ... )\n",
    "\n",
    "from dash import Dash, dcc, html\n",
    "\n",
    "app = Dash()\n",
    "app.layout = html.Div([\n",
    "    dcc.Graph(figure=fig)\n",
    "])\n",
    "\n",
    "app.run_server(debug=True, use_reloader=False)  # Turn off reloader if inside Jupyter\n",
    "```"
   ]
  }
 ],
 "metadata": {
  "jupytext": {
   "notebook_metadata_filter": "all"
  },
  "kernelspec": {
   "display_name": "Python 3",
   "language": "python",
   "name": "python3"
  },
  "language_info": {
   "codemirror_mode": {
    "name": "ipython",
    "version": 3
   },
   "file_extension": ".py",
   "mimetype": "text/x-python",
   "name": "python",
   "nbconvert_exporter": "python",
   "pygments_lexer": "ipython3",
   "version": "3.6.7"
  },
  "plotly": {
   "description": "Learn how to find peaks and valleys on datasets in Python",
   "display_as": "advanced_opt",
   "has_thumbnail": false,
   "language": "python",
   "layout": "base",
   "name": "Peak Finding",
   "order": 3,
   "page_type": "example_index",
   "permalink": "python/peak-finding/",
   "thumbnail": "/images/static-image"
  }
 },
 "nbformat": 4,
 "nbformat_minor": 5
}
