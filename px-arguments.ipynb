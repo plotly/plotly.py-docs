{
 "cells": [
  {
   "cell_type": "markdown",
   "id": "494fcd54",
   "metadata": {},
   "source": [
    "Plotly Express (`px`) is the high-level interface to Plotly and provides functions for generating charts. `px` functions support data provided in a number of different formats (long, wide, and mixed) and as different types of objects, including pandas and Polars dataframes.\n",
    "\n",
    "## Data for the Examples\n",
    "\n",
    "The examples on this page use datasets available in the `data` package in `px`. `px.data` contains functions that when called return a dataset as a dataframe. Some of the datasets included in `px.data` are:\n",
    "\n",
    "- `carshare` - Each row represents the availability of car-sharing services near the centroid of a zone in Montreal over a month-long period.\n",
    "- `election` - Each row represents voting results for an electoral district in the 2013 Montreal mayoral election.\n",
    "- `iris` - Each row represents a flower.\n",
    "\n",
    "To access the `iris` dataset, we call its function and assign it to a variable:"
   ]
  },
  {
   "cell_type": "code",
   "execution_count": null,
   "id": "7fdab970",
   "metadata": {},
   "outputs": [],
   "source": [
    "import plotly.express as px\n",
    "\n",
    "df = px.data.iris()\n",
    "df.head()"
   ]
  },
  {
   "cell_type": "markdown",
   "id": "1e6ef3d6",
   "metadata": {},
   "source": [
    "By default `px.data` functions return a pandas `DataFrame` object, but you can specify an alternative dataframe type using `return_type`. `pandas`, `polars`, `pyarrow`, `modin`, and `cuDF` are supported return types."
   ]
  },
  {
   "cell_type": "code",
   "execution_count": null,
   "id": "8eb89383",
   "metadata": {},
   "outputs": [],
   "source": [
    "df = px.data.iris(return_type='polars')\n",
    "df.head()"
   ]
  },
  {
   "cell_type": "markdown",
   "id": "75c0afa5",
   "metadata": {},
   "source": [
    "## Long, Wide, and Mixed-Form Data\n",
    "\n",
    "There are three common conventions for storing column-oriented data, usually in a data frame with column names:\n",
    "\n",
    "* **long-form data** has one row per observation, and one column per variable. This is suitable for storing and displaying multivariate data i.e. with dimension greater than 2. This format is sometimes called \"tidy\".\n",
    "* **wide-form data** has one row per value of one of the first variable, and one column per value of the second variable. This is suitable for storing and displaying 2-dimensional data.\n",
    "* **mixed-form data** is a hybrid of long-form and wide-form data, with one row per value of one variable, and some columns representing values of another, and some columns representing more variables. See the [wide-form documentation](/python/wide-form/) for examples of how to use Plotly Express to visualize this kind of data.\n",
    "\n",
    "Every Plotly Express function can operate on long-form data (other than `px.imshow` which operates only on wide-form input), and in addition, the following 2D-Cartesian functions can operate on wide-form and mixed-form data: `px.scatter`, `px.line`, `px.area`, `px.bar`, `px.histogram`, `px.violin`, `px.box`, `px.strip`, `px.funnel`, `px.density_heatmap` and `px.density_contour`.\n",
    "\n",
    "By way of example here is the same data, represented in long-form first, and then in wide-form:"
   ]
  },
  {
   "cell_type": "code",
   "execution_count": null,
   "id": "acc86fd3",
   "metadata": {},
   "outputs": [],
   "source": [
    "import plotly.express as px\n",
    "long_df = px.data.medals_long()\n",
    "long_df"
   ]
  },
  {
   "cell_type": "code",
   "execution_count": null,
   "id": "aad56409",
   "metadata": {},
   "outputs": [],
   "source": [
    "import plotly.express as px\n",
    "wide_df = px.data.medals_wide()\n",
    "wide_df"
   ]
  },
  {
   "cell_type": "markdown",
   "id": "830232b9",
   "metadata": {},
   "source": [
    "Plotly Express can produce the same plot from either form:"
   ]
  },
  {
   "cell_type": "code",
   "execution_count": null,
   "id": "1f1b1136",
   "metadata": {},
   "outputs": [],
   "source": [
    "import plotly.express as px\n",
    "long_df = px.data.medals_long()\n",
    "\n",
    "fig = px.bar(long_df, x=\"nation\", y=\"count\", color=\"medal\", title=\"Long-Form Input\")\n",
    "fig.show()"
   ]
  },
  {
   "cell_type": "code",
   "execution_count": null,
   "id": "f63f7144",
   "metadata": {},
   "outputs": [],
   "source": [
    "import plotly.express as px\n",
    "wide_df = px.data.medals_wide()\n",
    "\n",
    "fig = px.bar(wide_df, x=\"nation\", y=[\"gold\", \"silver\", \"bronze\"], title=\"Wide-Form Input\")\n",
    "fig.show()"
   ]
  },
  {
   "cell_type": "markdown",
   "id": "e43a057e",
   "metadata": {},
   "source": [
    "You might notice that y-axis and legend labels are slightly different for the second plot: they are \"value\" and \"variable\", respectively, and this is also reflected in the hoverlabel text. Note that the labels \"medal\" and \"count\" do not appear in the wide-form data frame, so in this case, you must supply these yourself, or [you can use a data frame with named row- and column-indexes](/python/wide-form/). You can [rename these labels with the `labels` argument](/python/styling-plotly-express/):"
   ]
  },
  {
   "cell_type": "code",
   "execution_count": null,
   "id": "496f75da",
   "metadata": {},
   "outputs": [],
   "source": [
    "import plotly.express as px\n",
    "wide_df = px.data.medals_wide()\n",
    "\n",
    "fig = px.bar(wide_df, x=\"nation\", y=[\"gold\", \"silver\", \"bronze\"], title=\"Wide-Form Input, relabelled\",\n",
    "            labels={\"value\": \"count\", \"variable\": \"medal\"})\n",
    "fig.show()"
   ]
  },
  {
   "cell_type": "markdown",
   "id": "450f0ed7",
   "metadata": {},
   "source": [
    "Many more examples of wide-form and messy data input can be found in our [detailed wide-form support documentation](/python/wide-form/)."
   ]
  },
  {
   "cell_type": "markdown",
   "id": "33a73022",
   "metadata": {},
   "source": [
    "## Dataframe Input\n",
    "\n",
    "The first argument of every `px` function is `data_frame`. If you provide a dataframe as a `px` function's first argument, you can then specify column names as strings from the dataframe as other arguments.\n",
    "\n",
    "### Supported DataFrame Types\n",
    "\n",
    "`px` functions natively support pandas, Polars, and PyArrow dataframes. `px` uses [Narwhals](https://narwhals-dev.github.io/narwhals/) to provide this native dataframe support. Other types of dataframes that are currently supported by Narwhals, for example cuDF and Modin, may also work with `px`.\n",
    "\n",
    "You can also pass dataframes that are not natively supported, but which support the [dataframe interchange protocol](https://data-apis.org/dataframe-protocol/latest/).\n",
    "\n",
    "PySpark dataframes are also supported and are converted to pandas dataframes internally by Plotly Express.\n",
    "\n",
    "#### Additional Dependencies Required\n",
    "\n",
    "- Plotly Express requires NumPy. You can install it with `pip install numpy` if it's not installed by the dataframe library you are using.\n",
    "- To use [trendlines](/python/linear-fits/), you'll also need to have pandas installed.\n",
    "- To use PySpark dataframes, you'll need to have pandas installed. To use dataframes that support the dataframe interchange protocol, you'll need to have PyArrow installed.\n",
    "\n",
    "### Example: Using a Pandas DataFrame with `px.bar`\n",
    "\n",
    "Here, we create a pandas `DataFrame`, pass it to `px.bar` as its first argument, and then use the `\"sepal_length\"` column for the x-axis and the `\"sepal_width\"` for the y-axis."
   ]
  },
  {
   "cell_type": "code",
   "execution_count": null,
   "id": "421ff5c2",
   "metadata": {},
   "outputs": [],
   "source": [
    "import plotly.express as px\n",
    "\n",
    "df = px.data.iris()\n",
    "\n",
    "fig = px.scatter(df, x='sepal_length', y='sepal_width', color='species', size='petal_length')\n",
    "fig.show()"
   ]
  },
  {
   "cell_type": "markdown",
   "id": "e165efb3",
   "metadata": {},
   "source": [
    "### Example: Polars DataFrame with `px.bar`\n",
    "\n",
    "`px` provides native support for dataframe types other than pandas, including Polars:"
   ]
  },
  {
   "cell_type": "code",
   "execution_count": null,
   "id": "9832ac0e",
   "metadata": {},
   "outputs": [],
   "source": [
    "import plotly.express as px\n",
    "\n",
    "df = px.data.iris(return_type='polars')\n",
    "\n",
    "fig = px.scatter(df, x='sepal_length', y='sepal_width', color='species', size='petal_length')\n",
    "fig.show()"
   ]
  },
  {
   "cell_type": "markdown",
   "id": "5f9ddb74",
   "metadata": {},
   "source": [
    "### Using the Index of a Dataframe\n",
    "\n",
    "If the dataframe you are using has an index, it is also possible to use that index as an argument. In the following example, the index is used for the hover data."
   ]
  },
  {
   "cell_type": "code",
   "execution_count": null,
   "id": "ecbb2257",
   "metadata": {},
   "outputs": [],
   "source": [
    "import plotly.express as px\n",
    "df = px.data.iris()\n",
    "fig = px.scatter(df, x=df.sepal_length, y=df.sepal_width, size=df.petal_length,\n",
    "                 hover_data=[df.index])\n",
    "fig.show()"
   ]
  },
  {
   "cell_type": "markdown",
   "id": "51ecc1be",
   "metadata": {},
   "source": [
    "### Using Columns from Multiple Dataframes\n",
    "\n",
    "You can also use columns from multiple dataframes in one `px` function, as long as all the dataframe columns you use have the same length. In this example, we pass `df1` as the `data_frame` argument to `px.bar` and then us a column from `df2` for the `y` argument."
   ]
  },
  {
   "cell_type": "code",
   "execution_count": null,
   "id": "3a2cfcf6",
   "metadata": {},
   "outputs": [],
   "source": [
    "import plotly.express as px\n",
    "import pandas as pd\n",
    "\n",
    "df1 = pd.DataFrame(dict(time=[10, 20, 30], sales=[10, 8, 30]))\n",
    "df2 = pd.DataFrame(dict(market=[4, 2, 5]))\n",
    "fig = px.bar(df1, x=\"time\", y=df2.market, color=\"sales\")\n",
    "fig.show()"
   ]
  },
  {
   "cell_type": "markdown",
   "id": "70928ce8",
   "metadata": {},
   "source": [
    "### Using labels to pass names\n",
    "\n",
    "The `labels` argument can be used to override the names used for axis titles, legend entries and hovers."
   ]
  },
  {
   "cell_type": "code",
   "execution_count": null,
   "id": "23e63a67",
   "metadata": {},
   "outputs": [],
   "source": [
    "import plotly.express as px\n",
    "import pandas as pd\n",
    "\n",
    "df = px.data.gapminder()\n",
    "gdp = df['pop'] * df['gdpPercap']\n",
    "fig = px.bar(df, x='year', y=gdp, color='continent', labels={'y':'gdp'},\n",
    "             hover_data=['country'],\n",
    "             title='Evolution of world GDP')\n",
    "fig.show()"
   ]
  },
  {
   "cell_type": "code",
   "execution_count": null,
   "id": "d5f0d5bf",
   "metadata": {},
   "outputs": [],
   "source": [
    "## Other Input Data"
   ]
  },
  {
   "cell_type": "markdown",
   "id": "2f783e9f",
   "metadata": {},
   "source": [
    "### Input Data as array-like columns: NumPy arrays, lists...\n",
    "\n",
    "`px` arguments can also be array-like objects such as lists, NumPy arrays, in both long-form or wide-form (for certain functions)."
   ]
  },
  {
   "cell_type": "code",
   "execution_count": null,
   "id": "303583be",
   "metadata": {},
   "outputs": [],
   "source": [
    "import plotly.express as px\n",
    "\n",
    "# List arguments\n",
    "fig = px.line(x=[1, 2, 3, 4], y=[3, 5, 4, 8])\n",
    "fig.show()"
   ]
  },
  {
   "cell_type": "markdown",
   "id": "05869668",
   "metadata": {},
   "source": [
    "List arguments can also be passed in as a list of lists, which triggers [wide-form data processing](/python/wide-form/), with the downside that the resulting traces will need to be manually renamed via `fig.data[<n>].name = \"name\"`."
   ]
  },
  {
   "cell_type": "code",
   "execution_count": null,
   "id": "708ee4df",
   "metadata": {},
   "outputs": [],
   "source": [
    "import plotly.express as px\n",
    "\n",
    "# List arguments in wide form\n",
    "series1 = [3, 5, 4, 8]\n",
    "series2 = [5, 4, 8, 3]\n",
    "fig = px.line(x=[1, 2, 3, 4], y=[series1, series2])\n",
    "fig.show()"
   ]
  },
  {
   "cell_type": "markdown",
   "id": "550f3bad",
   "metadata": {},
   "source": [
    "### Passing dictionaries or array-likes as the data_frame argument\n",
    "\n",
    "The `data_frame` argument can also accept a `dict` or `array` in addition to DataFrame objects. Using a dictionary can be a convenient way to pass column names used in axis titles, legend entries and hovers without creating a dataframe."
   ]
  },
  {
   "cell_type": "code",
   "execution_count": null,
   "id": "5e9aa900",
   "metadata": {},
   "outputs": [],
   "source": [
    "import plotly.express as px\n",
    "import numpy as np\n",
    "N = 10000\n",
    "np.random.seed(0)\n",
    "fig = px.density_contour(dict(effect_size=5 + np.random.randn(N),\n",
    "                              waiting_time=np.random.poisson(size=N)),\n",
    "                         x=\"effect_size\", y=\"waiting_time\")\n",
    "fig.show()"
   ]
  },
  {
   "cell_type": "markdown",
   "id": "98db9158",
   "metadata": {},
   "source": [
    "To pass a `dict` or an array (such as a NumPy `ndarray`) to the `data_frame` parameter, you'll need to have pandas installed, because `plotly.express` internally converts the `dict` or array to a pandas DataFrame.\n",
    "\n",
    "#### Integer column names\n",
    "\n",
    "When the `data_frame` argument is a NumPy array, column names are integer corresponding to the columns of the array. In this case, keyword names are used in axis, legend and hovers. This is also the case for a pandas DataFrame with integer column names. Use the `labels` argument to override these names."
   ]
  },
  {
   "cell_type": "code",
   "execution_count": null,
   "id": "c54fda9c",
   "metadata": {},
   "outputs": [],
   "source": [
    "import numpy as np\n",
    "import plotly.express as px\n",
    "\n",
    "ar = np.arange(100).reshape((10, 10))\n",
    "fig = px.scatter(ar, x=2, y=6, size=1, color=5)\n",
    "fig.show()"
   ]
  },
  {
   "cell_type": "markdown",
   "id": "98faf329",
   "metadata": {},
   "source": [
    "### Mixing dataframes and other types\n",
    "\n",
    "It is possible to mix dataframe columns, NumPy arrays and lists as arguments. Remember that the only column names to be used correspond to columns in the `data_frame` argument, use `labels` to override names displayed in axis titles, legend entries or hovers."
   ]
  },
  {
   "cell_type": "code",
   "execution_count": null,
   "id": "7d88f484",
   "metadata": {
    "lines_to_next_cell": 2
   },
   "outputs": [],
   "source": [
    "import plotly.express as px\n",
    "import numpy as np\n",
    "import pandas as pd\n",
    "\n",
    "df = px.data.gapminder()\n",
    "gdp = np.log(df['pop'] * df['gdpPercap'])  # NumPy array\n",
    "fig = px.bar(df, x='year', y=gdp, color='continent', labels={'y':'log gdp'},\n",
    "             hover_data=['country'],\n",
    "             title='Evolution of world GDP')\n",
    "fig.show()"
   ]
  },
  {
   "cell_type": "markdown",
   "id": "ff9b367f",
   "metadata": {},
   "source": [
    "### What About Dash?\n",
    "\n",
    "[Dash](https://dash.plot.ly/) is an open-source framework for building analytical applications, with no Javascript required, and it is tightly integrated with the Plotly graphing library.\n",
    "\n",
    "Learn about how to install Dash at https://dash.plot.ly/installation.\n",
    "\n",
    "Everywhere in this page that you see `fig.show()`, you can display the same figure in a Dash application by passing it to the `figure` argument of the [`Graph` component](https://dash.plot.ly/dash-core-components/graph) from the built-in `dash_core_components` package like this:\n",
    "\n",
    "```python\n",
    "import plotly.graph_objects as go # or plotly.express as px\n",
    "fig = go.Figure() # or any Plotly Express function e.g. px.bar(...)\n",
    "# fig.add_trace( ... )\n",
    "# fig.update_layout( ... )\n",
    "\n",
    "from dash import Dash, dcc, html\n",
    "\n",
    "app = Dash()\n",
    "app.layout = html.Div([\n",
    "    dcc.Graph(figure=fig)\n",
    "])\n",
    "\n",
    "app.run_server(debug=True, use_reloader=False)  # Turn off reloader if inside Jupyter\n",
    "```"
   ]
  }
 ],
 "metadata": {
  "jupytext": {
   "notebook_metadata_filter": "all"
  },
  "kernelspec": {
   "display_name": "Python 3 (ipykernel)",
   "language": "python",
   "name": "python3"
  },
  "language_info": {
   "codemirror_mode": {
    "name": "ipython",
    "version": 3
   },
   "file_extension": ".py",
   "mimetype": "text/x-python",
   "name": "python",
   "nbconvert_exporter": "python",
   "pygments_lexer": "ipython3",
   "version": "3.11.10"
  },
  "plotly": {
   "description": "Input data arguments accepted by Plotly Express functions",
   "display_as": "file_settings",
   "language": "python",
   "layout": "base",
   "name": "Plotly Express Arguments",
   "order": 19,
   "page_type": "u-guide",
   "permalink": "python/px-arguments/",
   "thumbnail": "thumbnail/plotly-express.png"
  }
 },
 "nbformat": 4,
 "nbformat_minor": 5
}
