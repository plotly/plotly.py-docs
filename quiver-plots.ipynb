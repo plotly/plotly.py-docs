{
 "cells": [
  {
   "cell_type": "markdown",
   "id": "81976dc0",
   "metadata": {},
   "source": [
    "Quiver plots can be made using a [figure factory](/python/figure-factories/) as detailed in this page.\n",
    "\n",
    "#### Basic Quiver Plot"
   ]
  },
  {
   "cell_type": "code",
   "execution_count": null,
   "id": "c2d66ed3",
   "metadata": {},
   "outputs": [],
   "source": [
    "import plotly.figure_factory as ff\n",
    "\n",
    "import numpy as np\n",
    "\n",
    "x,y = np.meshgrid(np.arange(0, 2, .2), np.arange(0, 2, .2))\n",
    "u = np.cos(x)*y\n",
    "v = np.sin(x)*y\n",
    "\n",
    "fig = ff.create_quiver(x, y, u, v)\n",
    "fig.show()"
   ]
  },
  {
   "cell_type": "markdown",
   "id": "6bb34075",
   "metadata": {},
   "source": [
    "#### Quiver Plot with Points"
   ]
  },
  {
   "cell_type": "code",
   "execution_count": null,
   "id": "904e9eb8",
   "metadata": {},
   "outputs": [],
   "source": [
    "import plotly.figure_factory as ff\n",
    "import plotly.graph_objects as go\n",
    "\n",
    "import numpy as np\n",
    "\n",
    "x,y = np.meshgrid(np.arange(-2, 2, .2),\n",
    "                  np.arange(-2, 2, .25))\n",
    "z = x*np.exp(-x**2 - y**2)\n",
    "v, u = np.gradient(z, .2, .2)\n",
    "\n",
    "# Create quiver figure\n",
    "fig = ff.create_quiver(x, y, u, v,\n",
    "                       scale=.25,\n",
    "                       arrow_scale=.4,\n",
    "                       name='quiver',\n",
    "                       line_width=1)\n",
    "\n",
    "# Add points to figure\n",
    "fig.add_trace(go.Scatter(x=[-.7, .75], y=[0,0],\n",
    "                    mode='markers',\n",
    "                    marker_size=12,\n",
    "                    name='points'))\n",
    "\n",
    "fig.show()"
   ]
  },
  {
   "cell_type": "markdown",
   "id": "2e62e2bf",
   "metadata": {},
   "source": [
    "#### See also\n",
    "\n",
    "[Cone plot](/python/cone-plot) for the 3D equivalent of quiver plots.\n",
    "\n",
    "#### Reference\n",
    "\n",
    "For more info on `ff.create_quiver()`, see the [full function reference](https://plotly.com/python-api-reference/generated/plotly.figure_factory.create_quiver.html)"
   ]
  },
  {
   "cell_type": "markdown",
   "id": "96eb71ff",
   "metadata": {},
   "source": [
    "### What About Dash?\n",
    "\n",
    "[Dash](https://dash.plot.ly/) is an open-source framework for building analytical applications, with no Javascript required, and it is tightly integrated with the Plotly graphing library.\n",
    "\n",
    "Learn about how to install Dash at https://dash.plot.ly/installation.\n",
    "\n",
    "Everywhere in this page that you see `fig.show()`, you can display the same figure in a Dash application by passing it to the `figure` argument of the [`Graph` component](https://dash.plot.ly/dash-core-components/graph) from the built-in `dash_core_components` package like this:\n",
    "\n",
    "```python\n",
    "import plotly.graph_objects as go # or plotly.express as px\n",
    "fig = go.Figure() # or any Plotly Express function e.g. px.bar(...)\n",
    "# fig.add_trace( ... )\n",
    "# fig.update_layout( ... )\n",
    "\n",
    "from dash import Dash, dcc, html\n",
    "\n",
    "app = Dash()\n",
    "app.layout = html.Div([\n",
    "    dcc.Graph(figure=fig)\n",
    "])\n",
    "\n",
    "app.run_server(debug=True, use_reloader=False)  # Turn off reloader if inside Jupyter\n",
    "```"
   ]
  }
 ],
 "metadata": {
  "jupytext": {
   "notebook_metadata_filter": "all"
  },
  "kernelspec": {
   "display_name": "Python 3",
   "language": "python",
   "name": "python3"
  },
  "language_info": {
   "codemirror_mode": {
    "name": "ipython",
    "version": 3
   },
   "file_extension": ".py",
   "mimetype": "text/x-python",
   "name": "python",
   "nbconvert_exporter": "python",
   "pygments_lexer": "ipython3",
   "version": "3.7.3"
  },
  "plotly": {
   "description": "How to make a quiver plot in Python. A quiver plot displays velocity vectors a arrows.",
   "display_as": "scientific",
   "language": "python",
   "layout": "base",
   "name": "Quiver Plots",
   "order": 10,
   "permalink": "python/quiver-plots/",
   "thumbnail": "thumbnail/quiver-plot.jpg"
  }
 },
 "nbformat": 4,
 "nbformat_minor": 5
}
