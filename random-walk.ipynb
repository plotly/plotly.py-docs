{
 "cells": [
  {
   "cell_type": "markdown",
   "id": "18bcde60",
   "metadata": {},
   "source": [
    "A [random walk](https://en.wikipedia.org/wiki/Random_walk) can be thought of as a random process in which a token or a marker is randomly moved around some space, that is, a space with a metric used to compute distance. It is more commonly conceptualized in one dimension ($\\mathbb{Z}$), two dimensions ($\\mathbb{Z}^2$) or three dimensions ($\\mathbb{Z}^3$) in Cartesian space, where $\\mathbb{Z}$ represents the set of integers. In the visualizations below, we will be using [scatter plots](https://plotly.com/python/line-and-scatter/) as well as a colorscale to denote the time sequence of the walk.\n",
    "\n",
    "#### Random Walk in 1D\n",
    "\n",
    "The jitter in the data points along the x and y axes are meant to illuminate where the points are being drawn and what the tendency of the random walk is."
   ]
  },
  {
   "cell_type": "code",
   "execution_count": null,
   "id": "246d7447",
   "metadata": {},
   "outputs": [],
   "source": [
    "import plotly.graph_objects as go\n",
    "import numpy as np\n",
    "np.random.seed(1)\n",
    "\n",
    "l = 100\n",
    "steps = np.random.choice([-1, 1], size=l) + 0.05 * np.random.randn(l) # l steps\n",
    "position = np.cumsum(steps) # integrate the position by summing steps values\n",
    "y = 0.05 * np.random.randn(l)\n",
    "\n",
    "fig = go.Figure(data=go.Scatter(\n",
    "    x=position,\n",
    "    y=y,\n",
    "    mode='markers',\n",
    "    name='Random Walk in 1D',\n",
    "    marker=dict(\n",
    "        color=np.arange(l),\n",
    "        size=7,\n",
    "        colorscale='Reds',\n",
    "        showscale=True,\n",
    "    )\n",
    "))\n",
    "\n",
    "fig.update_layout(yaxis_range=[-1, 1])\n",
    "fig.show()"
   ]
  },
  {
   "cell_type": "markdown",
   "id": "5e07054d",
   "metadata": {},
   "source": [
    "#### Random Walk in 2D"
   ]
  },
  {
   "cell_type": "code",
   "execution_count": null,
   "id": "95ef6675",
   "metadata": {},
   "outputs": [],
   "source": [
    "import plotly.graph_objects as go\n",
    "import numpy as np\n",
    "\n",
    "l = 1000\n",
    "x_steps = np.random.choice([-1, 1], size=l) + 0.2 * np.random.randn(l) # l steps\n",
    "y_steps = np.random.choice([-1, 1], size=l) + 0.2 * np.random.randn(l) # l steps\n",
    "x_position = np.cumsum(x_steps) # integrate the position by summing steps values\n",
    "y_position = np.cumsum(y_steps) # integrate the position by summing steps values\n",
    "\n",
    "fig = go.Figure(data=go.Scatter(\n",
    "    x=x_position,\n",
    "    y=y_position,\n",
    "    mode='markers',\n",
    "    name='Random Walk',\n",
    "    marker=dict(\n",
    "        color=np.arange(l),\n",
    "        size=8,\n",
    "        colorscale='Greens',\n",
    "        showscale=True\n",
    "    )\n",
    "))\n",
    "\n",
    "fig.show()"
   ]
  },
  {
   "cell_type": "markdown",
   "id": "a26299cf",
   "metadata": {},
   "source": [
    "#### Random walk and diffusion\n",
    "\n",
    "In the two following charts we show the link between random walks and diffusion. We compute a large number `N` of random walks representing for examples molecules in a small drop of chemical. While all trajectories start at 0, after some time the spatial distribution of points is a Gaussian distribution. Also, the average distance to the origin grows as $\\sqrt(t)$."
   ]
  },
  {
   "cell_type": "code",
   "execution_count": null,
   "id": "0695eec5",
   "metadata": {},
   "outputs": [],
   "source": [
    "import plotly.graph_objects as go\n",
    "import numpy as np\n",
    "\n",
    "l = 1000\n",
    "N = 10000\n",
    "steps = np.random.choice([-1, 1], size=(N, l)) + 0.05 * np.random.standard_normal((N, l)) # l steps\n",
    "position = np.cumsum(steps, axis=1) # integrate all positions by summing steps values along time axis\n",
    "\n",
    "fig = go.Figure(data=go.Histogram(x=position[:, -1])) # positions at final time step\n",
    "fig.show()"
   ]
  },
  {
   "cell_type": "code",
   "execution_count": null,
   "id": "87058842",
   "metadata": {},
   "outputs": [],
   "source": [
    "import plotly.graph_objects as go\n",
    "from plotly.subplots import make_subplots\n",
    "import numpy as np\n",
    "\n",
    "l = 1000\n",
    "N = 10000\n",
    "t = np.arange(l)\n",
    "steps = np.random.choice([-1, 1], size=(N, l)) + 0.05 * np.random.standard_normal((N, l)) # l steps\n",
    "position = np.cumsum(steps, axis=1) # integrate the position by summing steps values\n",
    "average_distance = np.std(position, axis=0) # average distance\n",
    "\n",
    "fig = make_subplots(1, 2)\n",
    "fig.add_trace(go.Scatter(x=t, y=average_distance, name='mean distance'), 1, 1)\n",
    "fig.add_trace(go.Scatter(x=t, y=average_distance**2, name='mean squared distance'), 1, 2)\n",
    "fig.update_xaxes(title_text='$t$')\n",
    "fig.update_yaxes(title_text='$l$', col=1)\n",
    "fig.update_yaxes(title_text='$l^2$', col=2)\n",
    "fig.update_layout(showlegend=False)\n",
    "fig.show()"
   ]
  },
  {
   "cell_type": "markdown",
   "id": "d0f8fabe",
   "metadata": {},
   "source": [
    "#### Advanced Tip\n",
    "\n",
    "We can formally think of a 1D random walk as a point jumping along the integer number line. Let $Z_i$ be a random variable that takes on the values +1 and -1. Let this random variable represent the steps we take in the random walk in 1D (where +1 means right and -1 means left). Also, as with the above visualizations, let us assume that the probability of moving left and right is just $\\frac{1}{2}$. Then, consider the sum\n",
    "\n",
    "$$\n",
    "\\begin{align*}\n",
    "S_n = \\sum_{i=0}^{n}{Z_i}\n",
    "\\end{align*}\n",
    "$$\n",
    "\n",
    "where S_n represents the point that the random walk ends up on after n steps have been taken.\n",
    "\n",
    "To find the `expected value` of $S_n$, we can compute it directly. Since each $Z_i$ is independent, we have\n",
    "\n",
    "$$\n",
    "\\begin{align*}\n",
    "\\mathbb{E}(S_n) = \\sum_{i=0}^{n}{\\mathbb{E}(Z_i)}\n",
    "\\end{align*}\n",
    "$$\n",
    "\n",
    "but since $Z_i$ takes on the values +1 and -1 then\n",
    "\n",
    "$$\n",
    "\\begin{align*}\n",
    "\\mathbb{E}(Z_i) = 1 \\cdot P(Z_i=1) + -1 \\cdot P(Z_i=-1) = \\frac{1}{2} - \\frac{1}{2} = 0\n",
    "\\end{align*}\n",
    "$$\n",
    "\n",
    "Therefore, we expect our random walk to hover around $0$ regardless of how many steps we take in our walk.\n"
   ]
  },
  {
   "cell_type": "markdown",
   "id": "479f5b3f",
   "metadata": {},
   "source": [
    "### What About Dash?\n",
    "\n",
    "[Dash](https://dash.plot.ly/) is an open-source framework for building analytical applications, with no Javascript required, and it is tightly integrated with the Plotly graphing library.\n",
    "\n",
    "Learn about how to install Dash at https://dash.plot.ly/installation.\n",
    "\n",
    "Everywhere in this page that you see `fig.show()`, you can display the same figure in a Dash application by passing it to the `figure` argument of the [`Graph` component](https://dash.plot.ly/dash-core-components/graph) from the built-in `dash_core_components` package like this:\n",
    "\n",
    "```python\n",
    "import plotly.graph_objects as go # or plotly.express as px\n",
    "fig = go.Figure() # or any Plotly Express function e.g. px.bar(...)\n",
    "# fig.add_trace( ... )\n",
    "# fig.update_layout( ... )\n",
    "\n",
    "from dash import Dash, dcc, html\n",
    "\n",
    "app = Dash()\n",
    "app.layout = html.Div([\n",
    "    dcc.Graph(figure=fig)\n",
    "])\n",
    "\n",
    "app.run_server(debug=True, use_reloader=False)  # Turn off reloader if inside Jupyter\n",
    "```"
   ]
  }
 ],
 "metadata": {
  "jupytext": {
   "notebook_metadata_filter": "all"
  },
  "kernelspec": {
   "display_name": "Python 3",
   "language": "python",
   "name": "python3"
  },
  "language_info": {
   "codemirror_mode": {
    "name": "ipython",
    "version": 3
   },
   "file_extension": ".py",
   "mimetype": "text/x-python",
   "name": "python",
   "nbconvert_exporter": "python",
   "pygments_lexer": "ipython3",
   "version": "3.6.7"
  },
  "plotly": {
   "description": "Learn how to use Python to make a Random Walk",
   "display_as": "advanced_opt",
   "has_thumbnail": false,
   "language": "python",
   "layout": "base",
   "name": "Random Walk",
   "order": 2,
   "page_type": "example_index",
   "permalink": "python/random-walk/",
   "thumbnail": "/images/static-image"
  }
 },
 "nbformat": 4,
 "nbformat_minor": 5
}
