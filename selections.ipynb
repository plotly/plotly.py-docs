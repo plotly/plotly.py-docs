{
 "cells": [
  {
   "cell_type": "markdown",
   "id": "cb1c0b02",
   "metadata": {},
   "source": [
    "## Adding Selections to Cartesian Subplots\n",
    "\n",
    "*New in 5.10*\n",
    "\n",
    "You can add persistent selections to a rendered figure using the **Box Select** and **Lasso Select** tools in the mode bar.\n",
    "To add multiple selections, select **Shift** when making new selections.\n",
    "To clear a selection, double-click it. On a subplot you can clear all selections by double-clicking any unselected area of the subplot.\n"
   ]
  },
  {
   "cell_type": "markdown",
   "id": "4ec41e04",
   "metadata": {},
   "source": [
    "You can also add selections to a figure that displays when it renders using `fig.add_selection`.\n",
    "Here, we add a rectangular selection with a region between `3.0` and `6.5` on the x axis and between `3.5` and `5.5` on the y axis.\n"
   ]
  },
  {
   "cell_type": "code",
   "execution_count": null,
   "id": "8247e605",
   "metadata": {},
   "outputs": [],
   "source": [
    "import plotly.express as px\n",
    "\n",
    "df = px.data.iris()\n",
    "\n",
    "fig = px.scatter(df, x=\"sepal_width\", y=\"sepal_length\")\n",
    "fig.add_selection(x0=3.0, y0=6.5, x1=3.5, y1=5.5)\n",
    "\n",
    "fig.show()"
   ]
  },
  {
   "cell_type": "markdown",
   "id": "ef2d6287",
   "metadata": {},
   "source": [
    "## Selections Using a Custom SVG"
   ]
  },
  {
   "cell_type": "markdown",
   "id": "1c55a21d",
   "metadata": {},
   "source": [
    "In the above example, we added a rectangular selection. You can also render a custom SVG for a selection by defining a `path` that can include single or multiple polygons. Here, we create a selection with a single polygon path \"M2,6.5L4,7.5L4,6Z\".\n",
    "\n",
    "Please note that multiple polygons e.g. \"M0,0L0,10L10,10,L10,0Z M2,2L2,8L8,8,L8,2Z\" could be used to subtract certain regions from the selection."
   ]
  },
  {
   "cell_type": "code",
   "execution_count": null,
   "id": "fd0dc8c9",
   "metadata": {},
   "outputs": [],
   "source": [
    "import plotly.express as px\n",
    "\n",
    "df = px.data.iris()\n",
    "\n",
    "fig = px.scatter(df, x=\"sepal_width\", y=\"sepal_length\")\n",
    "fig.add_selection(path=\"M2,6.5L4,7.5L4,6Z\")\n",
    "\n",
    "fig.show()"
   ]
  },
  {
   "cell_type": "markdown",
   "id": "b2577d62",
   "metadata": {},
   "source": [
    "## Styling Selections"
   ]
  },
  {
   "cell_type": "markdown",
   "id": "c877ae17",
   "metadata": {},
   "source": [
    "In the above example, we added a selection to the figure that is displayed when the figure renders.\n",
    "`fig.add_selection` accepts additional properties that you can use to style the selection. Here, we add a `color`, `width`, and specify the `dash` type for the selection.\n"
   ]
  },
  {
   "cell_type": "code",
   "execution_count": null,
   "id": "fb358644",
   "metadata": {},
   "outputs": [],
   "source": [
    "import plotly.express as px\n",
    "\n",
    "df = px.data.iris()\n",
    "\n",
    "fig = px.scatter(df, x=\"sepal_width\", y=\"sepal_length\")\n",
    "fig.add_selection(\n",
    "    x0=2.5, y0=6.5, x1=3.5, y1=5.5,\n",
    "    line=dict(\n",
    "        color=\"Crimson\",\n",
    "        width=2,\n",
    "        dash=\"dash\",\n",
    "    ))\n",
    "\n",
    "fig.show()\n"
   ]
  },
  {
   "cell_type": "markdown",
   "id": "0a3f1b3c",
   "metadata": {},
   "source": [
    "## Styling New Selections\n",
    "\n",
    "You can style new selections made on the figure by setting properties on `newselection`.\n",
    "Try making a new selection on the figure to try it out."
   ]
  },
  {
   "cell_type": "code",
   "execution_count": null,
   "id": "2068af09",
   "metadata": {},
   "outputs": [],
   "source": [
    "import plotly.express as px\n",
    "\n",
    "df = px.data.iris()\n",
    "\n",
    "fig = px.scatter(df, x=\"sepal_width\", y=\"sepal_length\")\n",
    "\n",
    "fig.update_layout(dragmode='select',\n",
    "                  newselection=dict(line=dict(color='blue')))\n",
    "\n",
    "fig.show()"
   ]
  },
  {
   "cell_type": "markdown",
   "id": "be416dbf",
   "metadata": {},
   "source": [
    "## Fill Color for Active Selections\n",
    "\n",
    "You can style the active selection with `activeselection`. In this example, we set active selections (when created or clicked) to appear with a `fillcolor` of `yellow`."
   ]
  },
  {
   "cell_type": "code",
   "execution_count": null,
   "id": "87090819",
   "metadata": {},
   "outputs": [],
   "source": [
    "import plotly.express as px\n",
    "\n",
    "df = px.data.iris()\n",
    "\n",
    "fig = px.scatter(df, x=\"sepal_width\", y=\"sepal_length\")\n",
    "fig.add_selection(x0=3.0, y0=6.5, x1=3.5, y1=5.5)\n",
    "\n",
    "fig.update_layout(dragmode='select',\n",
    "                  activeselection=dict(fillcolor='yellow'))\n",
    "\n",
    "fig.show()"
   ]
  },
  {
   "cell_type": "markdown",
   "id": "350a2d1d",
   "metadata": {},
   "source": [
    "## Selections with Time Series\n",
    "\n",
    "Selections are also supported on time series figures. Here, we add a rectangular selection with a region between the dates `2019-01-01\"` and `\"2019-10-01\"` on the x axis and between `0.95` and `1.15` on the y axis.\n"
   ]
  },
  {
   "cell_type": "code",
   "execution_count": null,
   "id": "896947c0",
   "metadata": {},
   "outputs": [],
   "source": [
    "import plotly.express as px\n",
    "\n",
    "df = px.data.stocks()\n",
    "fig = px.line(df, x='date', y=\"GOOG\", markers=True)\n",
    "fig.add_selection(x0=\"2019-01-01\", y0=0.95, x1=\"2019-10-01\", y1=1.15)\n",
    "fig.show()"
   ]
  },
  {
   "cell_type": "markdown",
   "id": "e0bc538a",
   "metadata": {},
   "source": [
    "## Referencing Selections on Multiple Cartesian Subplots"
   ]
  },
  {
   "cell_type": "markdown",
   "id": "d92d7e47",
   "metadata": {},
   "source": [
    "You can add selections to multiple Cartesian subplots by specifying `xref` and/or `yref`. Here, we add one selection on the plot with axis ids `x` and `y2` and two selections to the the plot with axis ids `x` and `y`."
   ]
  },
  {
   "cell_type": "code",
   "execution_count": null,
   "id": "808f9b94",
   "metadata": {},
   "outputs": [],
   "source": [
    "import plotly.graph_objects as go\n",
    "\n",
    "import numpy as np\n",
    "\n",
    "np.random.seed(0)\n",
    "t = np.linspace(-1, 1.2, 2000)\n",
    "x = (t**3) + (0.3 * np.random.randn(2000))\n",
    "y = (t**6) + (0.3 * np.random.randn(2000))\n",
    "\n",
    "fig = go.Figure()\n",
    "fig.add_trace(go.Histogram2dContour(\n",
    "        x = x,\n",
    "        y = y,\n",
    "        colorscale = 'Blues',\n",
    "        reversescale = True,\n",
    "        xaxis = 'x',\n",
    "        yaxis = 'y'\n",
    "    ))\n",
    "fig.add_trace(go.Scatter(\n",
    "        x = x,\n",
    "        y = y,\n",
    "        xaxis = 'x',\n",
    "        yaxis = 'y',\n",
    "        mode = 'markers',\n",
    "        marker = dict(\n",
    "            color = 'rgba(0,0,0,0.3)',\n",
    "            size = 3\n",
    "        )\n",
    "    ))\n",
    "fig.add_trace(go.Histogram(\n",
    "        y = y,\n",
    "        xaxis = 'x2',\n",
    "        marker = dict(\n",
    "            color = 'rgba(0,0,0,1)'\n",
    "        )\n",
    "    ))\n",
    "fig.add_trace(go.Histogram(\n",
    "        x = x,\n",
    "        yaxis = 'y2',\n",
    "        marker = dict(\n",
    "            color = 'rgba(0,0,0,1)'\n",
    "        )\n",
    "    ))\n",
    "\n",
    "fig.update_layout(\n",
    "    autosize = False,\n",
    "    xaxis = dict(\n",
    "        zeroline = False,\n",
    "        domain = [0,0.85],\n",
    "        showgrid = False\n",
    "    ),\n",
    "    yaxis = dict(\n",
    "        zeroline = False,\n",
    "        domain = [0,0.85],\n",
    "        showgrid = False\n",
    "    ),\n",
    "    xaxis2 = dict(\n",
    "        zeroline = False,\n",
    "        domain = [0.85,1],\n",
    "        showgrid = False\n",
    "    ),\n",
    "    yaxis2 = dict(\n",
    "        zeroline = False,\n",
    "        domain = [0.85,1],\n",
    "        showgrid = False\n",
    "    ),\n",
    "    height = 600,\n",
    "    width = 600,\n",
    "    bargap = 0,\n",
    "    hovermode = 'closest',\n",
    "    showlegend = False,\n",
    "    selections = [\n",
    "        dict(\n",
    "            x0 = 0.5,\n",
    "            x1 = -0.5,\n",
    "            xref = \"x\",\n",
    "            y0 = 190,\n",
    "            y1= 0,\n",
    "            yref = \"y2\",\n",
    "            line = dict(\n",
    "                color=\"yellow\"\n",
    "            )\n",
    "        ),\n",
    "        dict(\n",
    "            x0 = -0.2,\n",
    "            x1 = -1.5,\n",
    "            xref = \"x\",\n",
    "            y0 = 2,\n",
    "            y1= -1,\n",
    "            yref = \"y\",\n",
    "            line = dict(\n",
    "                color=\"yellow\"\n",
    "            )\n",
    "        ),\n",
    "        dict(\n",
    "            path= \"M0.75,2.39L0.98,3.38L1.46,3.68L1.80,3.35L2.01,2.51L1.67,1.15L1.18,0.50L0.65,0.66L0.54,0.83L0.49,1.56Z\",\n",
    "            xref= 'x',\n",
    "            yref = 'y',\n",
    "            line = dict(\n",
    "                color='yellow'\n",
    "            )\n",
    "        )\n",
    "    ]\n",
    ")\n",
    "\n",
    "\n",
    "fig.show()"
   ]
  },
  {
   "cell_type": "markdown",
   "id": "4cd76193",
   "metadata": {},
   "source": [
    "## Referencing Selections on a Scatterplot Matrix"
   ]
  },
  {
   "cell_type": "markdown",
   "id": "1e50e202",
   "metadata": {},
   "source": [
    "You can add selections to a scatterplot matrix  by specifying `xref` and/or `yref`. Here, we add one selection on the plot with axis ids `x2` and `y2` and another on the plot with ids `x3` and `y`."
   ]
  },
  {
   "cell_type": "code",
   "execution_count": null,
   "id": "6b13a28d",
   "metadata": {
    "lines_to_next_cell": 0
   },
   "outputs": [],
   "source": [
    "import plotly.express as px\n",
    "\n",
    "df = px.data.iris()\n",
    "\n",
    "fig = px.scatter_matrix(df,\n",
    "    dimensions=[\"sepal_length\", \"sepal_width\", \"petal_length\", \"petal_width\"],\n",
    "    color=\"species\")\n",
    "\n",
    "fig.update_layout(\n",
    "    xaxis = {\"matches\": \"y\"},\n",
    "    xaxis2 = {\"matches\": \"y2\"},\n",
    "    xaxis3 = {\"matches\": \"y3\"},\n",
    "    xaxis4 = {\"matches\": \"y4\"},\n",
    "    height = 900,\n",
    "    width = 750,\n",
    "    dragmode = 'select',\n",
    "    selections = [\n",
    "        dict(\n",
    "            x0 = 3,\n",
    "            x1 = 4,\n",
    "            xref = \"x2\",\n",
    "            y0 = 8,\n",
    "            y1= 6,\n",
    "            yref = \"y\"\n",
    "        ),\n",
    "        dict(\n",
    "            x0 = 5,\n",
    "            x1 = 1,\n",
    "            xref = \"x3\",\n",
    "            y0 = 5,\n",
    "            y1= 4,\n",
    "            yref = \"y\",\n",
    "        )\n",
    "    ]\n",
    ")\n",
    "\n",
    "fig.show()"
   ]
  },
  {
   "cell_type": "markdown",
   "id": "b909eba2",
   "metadata": {},
   "source": [
    "\n"
   ]
  },
  {
   "cell_type": "markdown",
   "id": "b980a6f0",
   "metadata": {},
   "source": [
    "### What About Dash?\n",
    "\n",
    "[Dash](https://dash.plot.ly/) is an open-source framework for building analytical applications, with no Javascript required, and it is tightly integrated with the Plotly graphing library.\n",
    "\n",
    "Learn about how to install Dash at https://dash.plot.ly/installation.\n",
    "\n",
    "Everywhere in this page that you see `fig.show()`, you can display the same figure in a Dash application by passing it to the `figure` argument of the [`Graph` component](https://dash.plot.ly/dash-core-components/graph) from the built-in `dash_core_components` package like this:\n",
    "\n",
    "```python\n",
    "import plotly.graph_objects as go # or plotly.express as px\n",
    "fig = go.Figure() # or any Plotly Express function e.g. px.bar(...)\n",
    "# fig.add_trace( ... )\n",
    "# fig.update_layout( ... )\n",
    "\n",
    "from dash import Dash, dcc, html\n",
    "\n",
    "app = Dash()\n",
    "app.layout = html.Div([\n",
    "    dcc.Graph(figure=fig)\n",
    "])\n",
    "\n",
    "app.run_server(debug=True, use_reloader=False)  # Turn off reloader if inside Jupyter\n",
    "```"
   ]
  }
 ],
 "metadata": {
  "jupytext": {
   "notebook_metadata_filter": "all"
  },
  "kernelspec": {
   "display_name": "Python 3 (ipykernel)",
   "language": "python",
   "name": "python3"
  },
  "language_info": {
   "codemirror_mode": {
    "name": "ipython",
    "version": 3
   },
   "file_extension": ".py",
   "mimetype": "text/x-python",
   "name": "python",
   "nbconvert_exporter": "python",
   "pygments_lexer": "ipython3",
   "version": "3.9.0"
  },
  "plotly": {
   "description": "How to use selections in Python. Examples of adding and styling selections.",
   "display_as": "file_settings",
   "language": "python",
   "layout": "base",
   "name": "Selections",
   "order": 38,
   "permalink": "python/selections/",
   "thumbnail": "thumbnail/ml_apps.png"
  }
 },
 "nbformat": 4,
 "nbformat_minor": 5
}
