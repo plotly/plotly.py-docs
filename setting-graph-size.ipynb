{
 "cells": [
  {
   "cell_type": "markdown",
   "id": "9a560b76",
   "metadata": {},
   "source": [
    "### Adjusting Height, Width, & Margins with Plotly Express\n",
    "\n",
    "[Plotly Express](/python/plotly-express/) is the easy-to-use, high-level interface to Plotly, which [operates on a variety of types of data](/python/px-arguments/) and produces [easy-to-style figures](/python/styling-plotly-express/)."
   ]
  },
  {
   "cell_type": "code",
   "execution_count": null,
   "id": "9bc22c79",
   "metadata": {},
   "outputs": [],
   "source": [
    "import plotly.express as px\n",
    "\n",
    "df = px.data.tips()\n",
    "fig = px.scatter(df, x=\"total_bill\", y=\"tip\", facet_col=\"sex\",\n",
    "                 width=800, height=400)\n",
    "\n",
    "fig.update_layout(\n",
    "    margin=dict(l=20, r=20, t=20, b=20),\n",
    "    paper_bgcolor=\"LightSteelBlue\",\n",
    ")\n",
    "\n",
    "fig.show()"
   ]
  },
  {
   "cell_type": "markdown",
   "id": "c7c5bcbd",
   "metadata": {},
   "source": [
    "### Adjusting graph size with Dash\n",
    "\n",
    "[Dash](https://plotly.com/dash/) is the best way to build analytical apps in Python using Plotly figures. To run the app below, run `pip install dash`, click \"Download\" to get the code and run `python app.py`.\n",
    "\n",
    "Get started  with [the official Dash docs](https://dash.plotly.com/installation) and **learn how to effortlessly [style](https://plotly.com/dash/design-kit/) & [deploy](https://plotly.com/dash/app-manager/) apps like this with <a class=\"plotly-red\" href=\"https://plotly.com/dash/\">Dash Enterprise</a>.**"
   ]
  },
  {
   "cell_type": "code",
   "execution_count": null,
   "id": "ffc3df03",
   "metadata": {
    "hide_code": true
   },
   "outputs": [],
   "source": [
    "from IPython.display import IFrame\n",
    "snippet_url = 'https://python-docs-dash-snippets.herokuapp.com/python-docs-dash-snippets/'\n",
    "IFrame(snippet_url + 'setting-graph-size', width='100%', height=1200)"
   ]
  },
  {
   "cell_type": "markdown",
   "id": "b4d4be66",
   "metadata": {},
   "source": [
    "<div style=\"font-size: 0.9em;\"><div style=\"width: calc(100% - 30px); box-shadow: none; border: thin solid rgb(229, 229, 229);\"><div style=\"padding: 5px;\"><div><p><strong>Sign up for Dash Club</strong> → Free cheat sheets plus updates from Chris Parmer and Adam Schroeder delivered to your inbox every two months. Includes tips and tricks, community apps, and deep dives into the Dash architecture.\n",
    "<u><a href=\"https://go.plotly.com/dash-club?utm_source=Dash+Club+2022&utm_medium=graphing_libraries&utm_content=inline\">Join now</a></u>.</p></div></div></div></div>"
   ]
  },
  {
   "cell_type": "markdown",
   "id": "b1b64324",
   "metadata": {},
   "source": [
    "### Adjusting Height, Width, & Margins With Graph Objects\n",
    "\n",
    "[Graph objects](/python/graph-objects/) are the low-level building blocks of figures which you can use instead of Plotly Express for greater control."
   ]
  },
  {
   "cell_type": "code",
   "execution_count": null,
   "id": "3cbf1d1b",
   "metadata": {},
   "outputs": [],
   "source": [
    "import plotly.graph_objects as go\n",
    "\n",
    "fig = go.Figure()\n",
    "\n",
    "fig.add_trace(go.Scatter(\n",
    "    x=[0, 1, 2, 3, 4, 5, 6, 7, 8],\n",
    "    y=[0, 1, 2, 3, 4, 5, 6, 7, 8]\n",
    "))\n",
    "\n",
    "fig.update_layout(\n",
    "    autosize=False,\n",
    "    width=500,\n",
    "    height=500,\n",
    "    margin=dict(\n",
    "        l=50,\n",
    "        r=50,\n",
    "        b=100,\n",
    "        t=100,\n",
    "        pad=4\n",
    "    ),\n",
    "    paper_bgcolor=\"LightSteelBlue\",\n",
    ")\n",
    "\n",
    "fig.show()"
   ]
  },
  {
   "cell_type": "markdown",
   "id": "ec7e0d06",
   "metadata": {},
   "source": [
    "### Automatically Adjust Margins\n",
    "\n",
    "Set [automargin](https://plotly.com/python/reference/layout/xaxis/#layout-xaxis-automargin) to `True` and Plotly will automatically increase the margin size to prevent ticklabels from being cut off or overlapping with axis titles."
   ]
  },
  {
   "cell_type": "code",
   "execution_count": null,
   "id": "3a1f87fb",
   "metadata": {},
   "outputs": [],
   "source": [
    "import plotly.graph_objects as go\n",
    "\n",
    "\n",
    "fig = go.Figure()\n",
    "\n",
    "fig.add_trace(go.Bar(\n",
    "    x=[\"Apples\", \"Oranges\", \"Watermelon\", \"Pears\"],\n",
    "    y=[3, 2, 1, 4]\n",
    "))\n",
    "\n",
    "fig.update_layout(\n",
    "    autosize=False,\n",
    "    width=500,\n",
    "    height=500,\n",
    "    yaxis=dict(\n",
    "        title=dict(\n",
    "            text=\"Y-axis Title\",\n",
    "            font=dict(\n",
    "                size=30\n",
    "            )\n",
    "        ),\n",
    "        ticktext=[\"Very long label\", \"long label\", \"3\", \"label\"],\n",
    "        tickvals=[1, 2, 3, 4],\n",
    "        tickmode=\"array\",\n",
    "    )\n",
    ")\n",
    "\n",
    "fig.update_yaxes(automargin=True)\n",
    "\n",
    "fig.show()"
   ]
  },
  {
   "cell_type": "markdown",
   "id": "43ca8df7",
   "metadata": {},
   "source": [
    "### Automatically Adjust Specific Margins\n",
    "\n",
    "*New in 5.10*\n",
    "\n",
    "You can also set `automargin` for specific sides of the figure. Here, we set `automargin` on the `left` and `top` of the figure."
   ]
  },
  {
   "cell_type": "code",
   "execution_count": null,
   "id": "17940131",
   "metadata": {},
   "outputs": [],
   "source": [
    "import plotly.graph_objects as go\n",
    "\n",
    "\n",
    "fig = go.Figure()\n",
    "\n",
    "fig.add_trace(go.Bar(\n",
    "    x=[\"Apples\", \"Oranges\", \"Watermelon\", \"Pears\"],\n",
    "    y=[3, 2, 1, 4]\n",
    "))\n",
    "\n",
    "fig.update_layout(\n",
    "    autosize=False,\n",
    "    width=500,\n",
    "    height=500,\n",
    "    yaxis=dict(\n",
    "        title=dict(\n",
    "            text=\"Y-axis Title\",\n",
    "            font=dict(\n",
    "                size=30\n",
    "            )\n",
    "        ),\n",
    "        ticktext=[\"Very long label\", \"long label\", \"3\", \"label\"],\n",
    "        tickvals=[1, 2, 3, 4],\n",
    "        tickmode=\"array\",\n",
    "    )\n",
    ")\n",
    "\n",
    "fig.update_yaxes(automargin='left+top')\n",
    "\n",
    "fig.show()"
   ]
  },
  {
   "cell_type": "markdown",
   "id": "f06347e9",
   "metadata": {},
   "source": [
    "### Setting a Minimum Plot Size with Automargins\n",
    "\n",
    "*New in 5.11*\n",
    "\n",
    "To set a minimum width and height for a plot to be after automargin is applied, use `minreducedwidth` and `minreducedheight`. Here we set both to `250`."
   ]
  },
  {
   "cell_type": "code",
   "execution_count": null,
   "id": "90e6157d",
   "metadata": {},
   "outputs": [],
   "source": [
    "import plotly.graph_objects as go\n",
    "\n",
    "\n",
    "fig = go.Figure()\n",
    "\n",
    "fig.add_trace(go.Bar(\n",
    "    x=[\"Apples\", \"Oranges\", \"Watermelon\", \"Pears\"],\n",
    "    y=[3, 2, 1, 4]\n",
    "))\n",
    "\n",
    "fig.update_layout(\n",
    "    autosize=False,\n",
    "    minreducedwidth=250,\n",
    "    minreducedheight=250,\n",
    "    width=450,\n",
    "    height=450,\n",
    "    yaxis=dict(\n",
    "        title=dict(\n",
    "            text=\"Y-axis Title\",\n",
    "            font=dict(\n",
    "                size=30\n",
    "            )\n",
    "        ),\n",
    "        ticktext=[\"Label\", \"Very long label\", \"Other label\", \"Very very long label\"],\n",
    "        tickvals=[1, 2, 3, 4],\n",
    "        tickmode=\"array\",\n",
    "    )\n",
    ")\n",
    "\n",
    "\n",
    "fig.show()"
   ]
  },
  {
   "cell_type": "markdown",
   "id": "73c871a9",
   "metadata": {},
   "source": [
    "#### Reference\n",
    "\n",
    "See https://plotly.com/python/reference/layout/ for more information and chart attribute options!\n"
   ]
  },
  {
   "cell_type": "markdown",
   "id": "a57075d0",
   "metadata": {},
   "source": [
    "### What About Dash?\n",
    "\n",
    "[Dash](https://dash.plot.ly/) is an open-source framework for building analytical applications, with no Javascript required, and it is tightly integrated with the Plotly graphing library.\n",
    "\n",
    "Learn about how to install Dash at https://dash.plot.ly/installation.\n",
    "\n",
    "Everywhere in this page that you see `fig.show()`, you can display the same figure in a Dash application by passing it to the `figure` argument of the [`Graph` component](https://dash.plot.ly/dash-core-components/graph) from the built-in `dash_core_components` package like this:\n",
    "\n",
    "```python\n",
    "import plotly.graph_objects as go # or plotly.express as px\n",
    "fig = go.Figure() # or any Plotly Express function e.g. px.bar(...)\n",
    "# fig.add_trace( ... )\n",
    "# fig.update_layout( ... )\n",
    "\n",
    "from dash import Dash, dcc, html\n",
    "\n",
    "app = Dash()\n",
    "app.layout = html.Div([\n",
    "    dcc.Graph(figure=fig)\n",
    "])\n",
    "\n",
    "app.run_server(debug=True, use_reloader=False)  # Turn off reloader if inside Jupyter\n",
    "```"
   ]
  }
 ],
 "metadata": {
  "jupytext": {
   "notebook_metadata_filter": "all"
  },
  "kernelspec": {
   "display_name": "Python 3 (ipykernel)",
   "language": "python",
   "name": "python3"
  },
  "language_info": {
   "codemirror_mode": {
    "name": "ipython",
    "version": 3
   },
   "file_extension": ".py",
   "mimetype": "text/x-python",
   "name": "python",
   "nbconvert_exporter": "python",
   "pygments_lexer": "ipython3",
   "version": "3.8.0"
  },
  "plotly": {
   "description": "How to manipulate the graph size, margins and background color.",
   "display_as": "file_settings",
   "language": "python",
   "layout": "base",
   "name": "Setting Graph Size",
   "order": 11,
   "permalink": "python/setting-graph-size/",
   "thumbnail": "thumbnail/sizing.png"
  }
 },
 "nbformat": 4,
 "nbformat_minor": 5
}
