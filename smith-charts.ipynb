{
 "cells": [
  {
   "cell_type": "markdown",
   "id": "d9aa9271",
   "metadata": {},
   "source": [
    "*New in v5.4*\n",
    "\n",
    "A [Smith Chart](https://en.wikipedia.org/wiki/Smith_chart) is a specialized chart for visualizing [complex numbers](https://en.wikipedia.org/wiki/Complex_number): numbers with both a real and imaginary part."
   ]
  },
  {
   "cell_type": "markdown",
   "id": "3d94bf38",
   "metadata": {},
   "source": [
    "### Smith Charts with Plotly Graph Objects"
   ]
  },
  {
   "cell_type": "code",
   "execution_count": null,
   "id": "59fb12d0",
   "metadata": {},
   "outputs": [],
   "source": [
    "import plotly.graph_objects as go\n",
    "\n",
    "fig = go.Figure(go.Scattersmith(imag=[0.5, 1, 2, 3], real=[0.5, 1, 2, 3]))\n",
    "fig.show()"
   ]
  },
  {
   "cell_type": "markdown",
   "id": "2baa2192",
   "metadata": {},
   "source": [
    "### Smith Chart Subplots and Styling"
   ]
  },
  {
   "cell_type": "code",
   "execution_count": null,
   "id": "bcd38acc",
   "metadata": {},
   "outputs": [],
   "source": [
    "import plotly.graph_objects as go\n",
    "\n",
    "fig = go.Figure()\n",
    "\n",
    "fig.add_trace(go.Scattersmith(\n",
    "    imag=[1],\n",
    "    real=[1],\n",
    "    marker_symbol='x',\n",
    "    marker_size=30,\n",
    "    marker_color=\"green\",\n",
    "    subplot=\"smith1\"\n",
    "))\n",
    "\n",
    "fig.add_trace(go.Scattersmith(\n",
    "    imag=[1],\n",
    "    real=[1],\n",
    "    marker_symbol='x',\n",
    "    marker_size=30,\n",
    "    marker_color=\"pink\",\n",
    "    subplot=\"smith2\"\n",
    "))\n",
    "\n",
    "fig.update_layout(\n",
    "    smith=dict(\n",
    "        realaxis_gridcolor='red',\n",
    "        imaginaryaxis_gridcolor='blue',\n",
    "        domain=dict(x=[0,0.45])\n",
    "    ),\n",
    "    smith2=dict(\n",
    "        realaxis_gridcolor='blue',\n",
    "        imaginaryaxis_gridcolor='red',\n",
    "        domain=dict(x=[0.55,1])\n",
    "    )\n",
    ")\n",
    "\n",
    "fig.update_smiths(bgcolor=\"lightgrey\")\n",
    "\n",
    "fig.show()"
   ]
  },
  {
   "cell_type": "markdown",
   "id": "621bd041",
   "metadata": {},
   "source": [
    "#### Reference\n",
    "See https://plotly.com/python/reference/scattersmith/ and https://plotly.com/python/reference/layout/smith/ for more information and chart attribute options!"
   ]
  },
  {
   "cell_type": "code",
   "execution_count": null,
   "id": "e50a9994",
   "metadata": {
    "lines_to_next_cell": 2
   },
   "outputs": [],
   "source": []
  },
  {
   "cell_type": "markdown",
   "id": "3d98e6b1",
   "metadata": {},
   "source": [
    "### What About Dash?\n",
    "\n",
    "[Dash](https://dash.plot.ly/) is an open-source framework for building analytical applications, with no Javascript required, and it is tightly integrated with the Plotly graphing library.\n",
    "\n",
    "Learn about how to install Dash at https://dash.plot.ly/installation.\n",
    "\n",
    "Everywhere in this page that you see `fig.show()`, you can display the same figure in a Dash application by passing it to the `figure` argument of the [`Graph` component](https://dash.plot.ly/dash-core-components/graph) from the built-in `dash_core_components` package like this:\n",
    "\n",
    "```python\n",
    "import plotly.graph_objects as go # or plotly.express as px\n",
    "fig = go.Figure() # or any Plotly Express function e.g. px.bar(...)\n",
    "# fig.add_trace( ... )\n",
    "# fig.update_layout( ... )\n",
    "\n",
    "from dash import Dash, dcc, html\n",
    "\n",
    "app = Dash()\n",
    "app.layout = html.Div([\n",
    "    dcc.Graph(figure=fig)\n",
    "])\n",
    "\n",
    "app.run_server(debug=True, use_reloader=False)  # Turn off reloader if inside Jupyter\n",
    "```"
   ]
  }
 ],
 "metadata": {
  "jupytext": {
   "notebook_metadata_filter": "all"
  },
  "kernelspec": {
   "display_name": "Python 3",
   "language": "python",
   "name": "python3"
  },
  "language_info": {
   "codemirror_mode": {
    "name": "ipython",
    "version": 3
   },
   "file_extension": ".py",
   "mimetype": "text/x-python",
   "name": "python",
   "nbconvert_exporter": "python",
   "pygments_lexer": "ipython3",
   "version": "3.8.11"
  },
  "plotly": {
   "description": "How to make Smith Charts with plotly.",
   "display_as": "scientific",
   "language": "python",
   "layout": "base",
   "name": "Smith Charts",
   "order": 20,
   "page_type": "u-guide",
   "permalink": "python/smith-charts/",
   "thumbnail": "thumbnail/contourcarpet.jpg"
  }
 },
 "nbformat": 4,
 "nbformat_minor": 5
}
