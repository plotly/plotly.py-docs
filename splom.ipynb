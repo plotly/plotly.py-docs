{
 "cells": [
  {
   "cell_type": "markdown",
   "id": "ce95511a",
   "metadata": {},
   "source": [
    "### Scatter matrix with Plotly Express\n",
    "\n",
    "A scatterplot matrix is a matrix associated to n numerical arrays (data variables), $X_1,X_2,…,X_n$ , of the same length. The cell (i,j) of such a matrix displays the scatter plot of the variable Xi versus Xj.\n",
    "\n",
    "Here we show the Plotly Express function `px.scatter_matrix` to plot the scatter matrix for the columns of the dataframe. By default, all columns are considered.\n",
    "\n",
    "[Plotly Express](/python/plotly-express/) is the easy-to-use, high-level interface to Plotly, which [operates on a variety of types of data](/python/px-arguments/) and produces [easy-to-style figures](/python/styling-plotly-express/)."
   ]
  },
  {
   "cell_type": "code",
   "execution_count": null,
   "id": "cabe1f34",
   "metadata": {},
   "outputs": [],
   "source": [
    "import plotly.express as px\n",
    "df = px.data.iris()\n",
    "fig = px.scatter_matrix(df)\n",
    "fig.show()"
   ]
  },
  {
   "cell_type": "markdown",
   "id": "58357923",
   "metadata": {},
   "source": [
    "Specify the columns to be represented with the `dimensions` argument, and set colors using a column of the dataframe:"
   ]
  },
  {
   "cell_type": "code",
   "execution_count": null,
   "id": "2b6628a2",
   "metadata": {},
   "outputs": [],
   "source": [
    "import plotly.express as px\n",
    "df = px.data.iris()\n",
    "fig = px.scatter_matrix(df,\n",
    "    dimensions=[\"sepal_length\", \"sepal_width\", \"petal_length\", \"petal_width\"],\n",
    "    color=\"species\")\n",
    "fig.show()"
   ]
  },
  {
   "cell_type": "markdown",
   "id": "94c7e78d",
   "metadata": {},
   "source": [
    "#### Styled Scatter Matrix with Plotly Express\n",
    "\n",
    "The scatter matrix plot can be configured thanks to the parameters of `px.scatter_matrix`, but also thanks to `fig.update_traces` for fine tuning (see the next section to learn more about the options)."
   ]
  },
  {
   "cell_type": "code",
   "execution_count": null,
   "id": "083fbdde",
   "metadata": {
    "lines_to_next_cell": 2
   },
   "outputs": [],
   "source": [
    "import plotly.express as px\n",
    "df = px.data.iris()\n",
    "fig = px.scatter_matrix(df,\n",
    "    dimensions=[\"sepal_length\", \"sepal_width\", \"petal_length\", \"petal_width\"],\n",
    "    color=\"species\", symbol=\"species\",\n",
    "    title=\"Scatter matrix of iris data set\",\n",
    "    labels={col:col.replace('_', ' ') for col in df.columns}) # remove underscore\n",
    "fig.update_traces(diagonal_visible=False)\n",
    "fig.show()"
   ]
  },
  {
   "cell_type": "markdown",
   "id": "4af16673",
   "metadata": {},
   "source": [
    "### Scatter matrix (splom) with go.Splom\n",
    "\n",
    "If Plotly Express does not provide a good starting point, it is possible to use [the more generic `go.Splom` class from `plotly.graph_objects`](/python/graph-objects/). All its parameters are documented in the reference page https://plotly.com/python/reference/splom/.\n",
    "\n",
    "The Plotly splom trace implementation for the scatterplot matrix does not require to set $x=Xi$ , and $y=Xj$, for each scatter plot. All arrays, $X_1,X_2,…,X_n$ , are passed once, through a list of dicts called dimensions, i.e. each array/variable represents a dimension.\n",
    "\n",
    "A trace of type `splom` is defined as follows:\n",
    "\n",
    "```\n",
    "trace=go.Splom(dimensions=[dict(label='string-1',\n",
    "                                values=X1),\n",
    "                           dict(label='string-2',\n",
    "                                values=X2),\n",
    "                           .\n",
    "                           .\n",
    "                           .\n",
    "                           dict(label='string-n',\n",
    "                                values=Xn)],\n",
    "                           ....\n",
    "               )\n",
    "```\n",
    "\n",
    "The label in each dimension is assigned to the axes titles of the corresponding matrix cell.\n"
   ]
  },
  {
   "cell_type": "markdown",
   "id": "36134e75",
   "metadata": {},
   "source": [
    "#### Splom of the Iris data set"
   ]
  },
  {
   "cell_type": "code",
   "execution_count": null,
   "id": "37350c76",
   "metadata": {},
   "outputs": [],
   "source": [
    "import plotly.graph_objects as go\n",
    "import pandas as pd\n",
    "\n",
    "df = pd.read_csv('https://raw.githubusercontent.com/plotly/datasets/master/iris-data.csv')\n",
    "\n",
    "# The Iris dataset contains four data variables, sepal length, sepal width, petal length,\n",
    "# petal width, for 150 iris flowers. The flowers are labeled as `Iris-setosa`,\n",
    "# `Iris-versicolor`, `Iris-virginica`.\n",
    "\n",
    "# Define indices corresponding to flower categories, using pandas label encoding\n",
    "index_vals = df['class'].astype('category').cat.codes\n",
    "\n",
    "fig = go.Figure(data=go.Splom(\n",
    "                dimensions=[dict(label='sepal length',\n",
    "                                 values=df['sepal length']),\n",
    "                            dict(label='sepal width',\n",
    "                                 values=df['sepal width']),\n",
    "                            dict(label='petal length',\n",
    "                                 values=df['petal length']),\n",
    "                            dict(label='petal width',\n",
    "                                 values=df['petal width'])],\n",
    "                text=df['class'],\n",
    "                marker=dict(color=index_vals,\n",
    "                            showscale=False, # colors encode categorical variables\n",
    "                            line_color='white', line_width=0.5)\n",
    "                ))\n",
    "\n",
    "\n",
    "fig.update_layout(\n",
    "    title=dict(text='Iris Data set'),\n",
    "    dragmode='select',\n",
    "    width=600,\n",
    "    height=600,\n",
    "    hovermode='closest',\n",
    ")\n",
    "\n",
    "fig.show()"
   ]
  },
  {
   "cell_type": "markdown",
   "id": "0873a45c",
   "metadata": {},
   "source": [
    "The scatter plots on the principal diagonal can be removed by setting `diagonal_visible=False`:"
   ]
  },
  {
   "cell_type": "code",
   "execution_count": null,
   "id": "458502ac",
   "metadata": {},
   "outputs": [],
   "source": [
    "import plotly.graph_objects as go\n",
    "import pandas as pd\n",
    "\n",
    "df = pd.read_csv('https://raw.githubusercontent.com/plotly/datasets/master/iris-data.csv')\n",
    "index_vals = df['class'].astype('category').cat.codes\n",
    "\n",
    "fig = go.Figure(data=go.Splom(\n",
    "                dimensions=[dict(label='sepal length',\n",
    "                                 values=df['sepal length']),\n",
    "                            dict(label='sepal width',\n",
    "                                 values=df['sepal width']),\n",
    "                            dict(label='petal length',\n",
    "                                 values=df['petal length']),\n",
    "                            dict(label='petal width',\n",
    "                                 values=df['petal width'])],\n",
    "                diagonal_visible=False, # remove plots on diagonal\n",
    "                text=df['class'],\n",
    "                marker=dict(color=index_vals,\n",
    "                            showscale=False, # colors encode categorical variables\n",
    "                            line_color='white', line_width=0.5)\n",
    "                ))\n",
    "\n",
    "\n",
    "fig.update_layout(\n",
    "    title=dict(text='Iris Data set'),\n",
    "    width=600,\n",
    "    height=600,\n",
    ")\n",
    "\n",
    "fig.show()"
   ]
  },
  {
   "cell_type": "markdown",
   "id": "6afc7f3f",
   "metadata": {},
   "source": [
    "To plot only the lower/upper half of the splom we switch the default `showlowerhalf=True`/`showupperhalf=True` to `False`:"
   ]
  },
  {
   "cell_type": "code",
   "execution_count": null,
   "id": "d1b7b721",
   "metadata": {},
   "outputs": [],
   "source": [
    "import plotly.graph_objects as go\n",
    "import pandas as pd\n",
    "\n",
    "df = pd.read_csv('https://raw.githubusercontent.com/plotly/datasets/master/iris-data.csv')\n",
    "index_vals = df['class'].astype('category').cat.codes\n",
    "\n",
    "fig = go.Figure(data=go.Splom(\n",
    "                dimensions=[dict(label='sepal length',\n",
    "                                 values=df['sepal length']),\n",
    "                            dict(label='sepal width',\n",
    "                                 values=df['sepal width']),\n",
    "                            dict(label='petal length',\n",
    "                                 values=df['petal length']),\n",
    "                            dict(label='petal width',\n",
    "                                 values=df['petal width'])],\n",
    "                showupperhalf=False, # remove plots on diagonal\n",
    "                text=df['class'],\n",
    "                marker=dict(color=index_vals,\n",
    "                            showscale=False, # colors encode categorical variables\n",
    "                            line_color='white', line_width=0.5)\n",
    "                ))\n",
    "\n",
    "\n",
    "fig.update_layout(\n",
    "    title=dict(text='Iris Data set'),\n",
    "    width=600,\n",
    "    height=600,\n",
    ")\n",
    "\n",
    "fig.show()"
   ]
  },
  {
   "cell_type": "markdown",
   "id": "de8b0217",
   "metadata": {},
   "source": [
    "Each dict in the list dimensions has a key, visible, set by default on True. We can choose to remove a variable from splom, by setting `visible=False` in its corresponding dimension. In this case the default grid associated to the scatterplot matrix keeps its number of cells, but the cells in the row and column corresponding to the visible false dimension are empty:"
   ]
  },
  {
   "cell_type": "code",
   "execution_count": null,
   "id": "de793f40",
   "metadata": {},
   "outputs": [],
   "source": [
    "import plotly.graph_objects as go\n",
    "import pandas as pd\n",
    "\n",
    "df = pd.read_csv('https://raw.githubusercontent.com/plotly/datasets/master/iris-data.csv')\n",
    "index_vals = df['class'].astype('category').cat.codes\n",
    "\n",
    "fig = go.Figure(data=go.Splom(\n",
    "                dimensions=[dict(label='sepal length',\n",
    "                                 values=df['sepal length']),\n",
    "                            dict(label='sepal width',\n",
    "                                 values=df['sepal width'],\n",
    "                                 visible=False),\n",
    "                            dict(label='petal length',\n",
    "                                 values=df['petal length']),\n",
    "                            dict(label='petal width',\n",
    "                                 values=df['petal width'])],\n",
    "                text=df['class'],\n",
    "                marker=dict(color=index_vals,\n",
    "                            showscale=False, # colors encode categorical variables\n",
    "                            line_color='white', line_width=0.5)\n",
    "                ))\n",
    "\n",
    "\n",
    "fig.update_layout(\n",
    "    title=dict(text='Iris Data set'),\n",
    "    width=600,\n",
    "    height=600,\n",
    ")\n",
    "\n",
    "fig.show()"
   ]
  },
  {
   "cell_type": "markdown",
   "id": "75a7c7d8",
   "metadata": {},
   "source": [
    "#### Splom for the diabetes dataset\n",
    "\n",
    "Diabetes dataset is downloaded from [kaggle](https://www.kaggle.com/uciml/pima-indians-diabetes-database/data). It is used to predict the onset of diabetes based on 8 diagnostic measures. The diabetes file contains the diagnostic measures for 768 patients, that are labeled as non-diabetic (Outcome=0), respectively diabetic (Outcome=1). The splom associated to the 8 variables can illustrate the strength of the relationship between pairs of measures for diabetic/nondiabetic patients."
   ]
  },
  {
   "cell_type": "code",
   "execution_count": null,
   "id": "e0673bdc",
   "metadata": {
    "lines_to_next_cell": 0
   },
   "outputs": [],
   "source": [
    "import plotly.graph_objs as go\n",
    "import pandas as pd\n",
    "\n",
    "dfd = pd.read_csv('https://raw.githubusercontent.com/plotly/datasets/master/diabetes.csv')\n",
    "textd = ['non-diabetic' if cl==0 else 'diabetic' for cl in dfd['Outcome']]\n",
    "\n",
    "fig = go.Figure(data=go.Splom(\n",
    "                  dimensions=[dict(label='Pregnancies', values=dfd['Pregnancies']),\n",
    "                              dict(label='Glucose', values=dfd['Glucose']),\n",
    "                              dict(label='BloodPressure', values=dfd['BloodPressure']),\n",
    "                              dict(label='SkinThickness', values=dfd['SkinThickness']),\n",
    "                              dict(label='Insulin', values=dfd['Insulin']),\n",
    "                              dict(label='BMI', values=dfd['BMI']),\n",
    "                              dict(label='DiabPedigreeFun', values=dfd['DiabetesPedigreeFunction']),\n",
    "                              dict(label='Age', values=dfd['Age'])],\n",
    "                  marker=dict(color=dfd['Outcome'],\n",
    "                              size=5,\n",
    "                              colorscale='Bluered',\n",
    "                              line=dict(width=0.5,\n",
    "                                        color='rgb(230,230,230)')),\n",
    "                  text=textd,\n",
    "                  diagonal=dict(visible=False)))\n",
    "\n",
    "title = \"Scatterplot Matrix (SPLOM) for Diabetes Dataset<br>Data source:\"+\\\n",
    "        \" <a href='https://www.kaggle.com/uciml/pima-indians-diabetes-database/data'>[1]</a>\"\n",
    "fig.update_layout(title=title,\n",
    "                  dragmode='select',\n",
    "                  width=1000,\n",
    "                  height=1000,\n",
    "                  hovermode='closest')\n",
    "\n",
    "fig.show()"
   ]
  },
  {
   "cell_type": "markdown",
   "id": "e4c45943",
   "metadata": {},
   "source": [
    "#### Hover Effects\n",
    "\n",
    "*New in 5.21*\n",
    "\n",
    "Set `hoversubplots='axis'` with `hovermode` set to `x`, `x unified`, `y`, or `y unified` for hover effects to appear across a column or row. For more on hover effects, see the [Hover Text and Formatting](/python/hover-text-and-formatting/) page."
   ]
  },
  {
   "cell_type": "code",
   "execution_count": null,
   "id": "1ff0b524",
   "metadata": {},
   "outputs": [],
   "source": [
    "import plotly.graph_objects as go\n",
    "import pandas as pd\n",
    "\n",
    "df = pd.read_csv(\n",
    "    \"https://raw.githubusercontent.com/plotly/datasets/master/iris-data.csv\"\n",
    ")\n",
    "index_vals = df[\"class\"].astype(\"category\").cat.codes\n",
    "\n",
    "fig = go.Figure(\n",
    "    data=go.Splom(\n",
    "        dimensions=[\n",
    "            dict(label=\"sepal length\", values=df[\"sepal length\"]),\n",
    "            dict(label=\"sepal width\", values=df[\"sepal width\"]),\n",
    "            dict(label=\"petal length\", values=df[\"petal length\"]),\n",
    "            dict(label=\"petal width\", values=df[\"petal width\"]),\n",
    "        ],\n",
    "        showupperhalf=False,\n",
    "        text=df[\"class\"],\n",
    "        marker=dict(\n",
    "            color=index_vals,\n",
    "            showscale=False,\n",
    "            line_color=\"white\",\n",
    "            line_width=0.5,\n",
    "        ),\n",
    "    )\n",
    ")\n",
    "\n",
    "\n",
    "fig.update_layout(\n",
    "    title=dict(text=\"Iris Data set\"),\n",
    "    hoversubplots=\"axis\",\n",
    "    width=600,\n",
    "    height=600,\n",
    "    hovermode=\"x\",\n",
    ")\n",
    "\n",
    "fig.show()\n"
   ]
  },
  {
   "cell_type": "markdown",
   "id": "508b3221",
   "metadata": {},
   "source": [
    "#### Reference\n",
    "\n",
    "See [function reference for `px.scatter_matrix()`](https://plotly.com/python-api-reference/generated/plotly.express.scatter_matrix) or https://plotly.com/python/reference/splom/ for more information and chart attribute options!\n"
   ]
  },
  {
   "cell_type": "markdown",
   "id": "24894041",
   "metadata": {},
   "source": [
    "### What About Dash?\n",
    "\n",
    "[Dash](https://dash.plot.ly/) is an open-source framework for building analytical applications, with no Javascript required, and it is tightly integrated with the Plotly graphing library.\n",
    "\n",
    "Learn about how to install Dash at https://dash.plot.ly/installation.\n",
    "\n",
    "Everywhere in this page that you see `fig.show()`, you can display the same figure in a Dash application by passing it to the `figure` argument of the [`Graph` component](https://dash.plot.ly/dash-core-components/graph) from the built-in `dash_core_components` package like this:\n",
    "\n",
    "```python\n",
    "import plotly.graph_objects as go # or plotly.express as px\n",
    "fig = go.Figure() # or any Plotly Express function e.g. px.bar(...)\n",
    "# fig.add_trace( ... )\n",
    "# fig.update_layout( ... )\n",
    "\n",
    "from dash import Dash, dcc, html\n",
    "\n",
    "app = Dash()\n",
    "app.layout = html.Div([\n",
    "    dcc.Graph(figure=fig)\n",
    "])\n",
    "\n",
    "app.run_server(debug=True, use_reloader=False)  # Turn off reloader if inside Jupyter\n",
    "```"
   ]
  }
 ],
 "metadata": {
  "jupytext": {
   "notebook_metadata_filter": "all"
  },
  "kernelspec": {
   "display_name": "Python 3 (ipykernel)",
   "language": "python",
   "name": "python3"
  },
  "language_info": {
   "codemirror_mode": {
    "name": "ipython",
    "version": 3
   },
   "file_extension": ".py",
   "mimetype": "text/x-python",
   "name": "python",
   "nbconvert_exporter": "python",
   "pygments_lexer": "ipython3",
   "version": "3.10.11"
  },
  "plotly": {
   "description": "How to make scatterplot matrices or sploms natively in Python with Plotly.",
   "display_as": "statistical",
   "language": "python",
   "layout": "base",
   "name": "Scatterplot Matrix",
   "order": 6,
   "page_type": "u-guide",
   "permalink": "python/splom/",
   "redirect_from": "python/scatterplot-matrix/",
   "thumbnail": "thumbnail/splom_image.jpg"
  }
 },
 "nbformat": 4,
 "nbformat_minor": 5
}
