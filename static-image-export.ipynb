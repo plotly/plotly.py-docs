{
 "cells": [
  {
   "cell_type": "markdown",
   "id": "0fdf2270",
   "metadata": {},
   "source": [
    "### Interactive vs Static Export\n",
    "\n",
    "Plotly figures are interactive when viewed in a web browser: you can hover over data points, pan and zoom axes, and show and hide traces by clicking or double-clicking on the legend. You can export figures either to static image file formats like PNG, JPEG, SVG or PDF or you can [export them to HTML files which can be opened in a browser and remain interactive](/python/interactive-html-export/). This page explains how to do the former.\n"
   ]
  },
  {
   "cell_type": "markdown",
   "id": "aee8d9a6",
   "metadata": {},
   "source": [
    "#### Install Dependencies\n",
    "\n",
    "Static image generation requires either [Kaleido](https://github.com/plotly/Kaleido) (recommended, supported as of `plotly` 4.9) or [orca](https://github.com/plotly/orca) (legacy as of `plotly` 4.9). The `kaleido` package can be installed using pip...\n",
    "```\n",
    "$ pip install -U kaleido\n",
    "```\n",
    "\n",
    "or conda.\n",
    "```\n",
    "$ conda install -c conda-forge python-kaleido\n",
    "```\n",
    "\n",
    "While Kaleido is now the recommended approach, image export can also be supported by the legacy [orca](https://github.com/plotly/orca) command line utility. See the [Orca Management](/python/orca-management/) section for instructions on installing, configuring, and troubleshooting orca.\n"
   ]
  },
  {
   "cell_type": "markdown",
   "id": "f46a708f",
   "metadata": {},
   "source": [
    "### Create a Figure\n",
    "\n",
    "Now let's create a simple scatter plot with 100 random points of varying color and size."
   ]
  },
  {
   "cell_type": "code",
   "execution_count": null,
   "id": "ba450fc6",
   "metadata": {},
   "outputs": [],
   "source": [
    "import plotly.graph_objects as go\n",
    "import numpy as np\n",
    "np.random.seed(1)\n",
    "\n",
    "N = 100\n",
    "x = np.random.rand(N)\n",
    "y = np.random.rand(N)\n",
    "colors = np.random.rand(N)\n",
    "sz = np.random.rand(N) * 30\n",
    "\n",
    "fig = go.Figure()\n",
    "fig.add_trace(go.Scatter(\n",
    "    x=x,\n",
    "    y=y,\n",
    "    mode=\"markers\",\n",
    "    marker=go.scatter.Marker(\n",
    "        size=sz,\n",
    "        color=colors,\n",
    "        opacity=0.6,\n",
    "        colorscale=\"Viridis\"\n",
    "    )\n",
    "))\n",
    "\n",
    "fig.show()"
   ]
  },
  {
   "cell_type": "markdown",
   "id": "ef6ca852",
   "metadata": {},
   "source": [
    "### Write Image File\n",
    "\n",
    "The `plotly.io.write_image` function is used to write an image to a file or file-like python object.  You can also use the `.write_image` graph object figure method.\n",
    "\n",
    "Let's first create an output directory to store our images"
   ]
  },
  {
   "cell_type": "code",
   "execution_count": null,
   "id": "737833ba",
   "metadata": {},
   "outputs": [],
   "source": [
    "import os\n",
    "\n",
    "if not os.path.exists(\"images\"):\n",
    "    os.mkdir(\"images\")"
   ]
  },
  {
   "cell_type": "markdown",
   "id": "85ee4fff",
   "metadata": {},
   "source": [
    "If you are running this notebook live, click to open the output directory so you can examine the images as they are written."
   ]
  },
  {
   "cell_type": "markdown",
   "id": "c7e3af50",
   "metadata": {},
   "source": [
    "#### Raster Formats: PNG, JPEG, and WebP"
   ]
  },
  {
   "cell_type": "markdown",
   "id": "240f0022",
   "metadata": {},
   "source": [
    "plotly.py can output figures to several raster image formats including **PNG**, ...\n",
    "\n",
    "~~~python\n",
    "fig.write_image(\"images/fig1.png\")\n",
    "~~~\n",
    "\n",
    "**JPEG**, ...\n",
    "\n",
    "~~~python\n",
    "fig.write_image(\"images/fig1.jpeg\")\n",
    "~~~\n",
    "\n",
    "and **WebP**\n",
    "\n",
    "~~~python\n",
    "fig.write_image(\"images/fig1.webp\")\n",
    "~~~\n",
    "\n",
    "#### Vector Formats: SVG and PDF..."
   ]
  },
  {
   "cell_type": "markdown",
   "id": "1cb029e3",
   "metadata": {},
   "source": [
    "plotly.py can also output figures in several vector formats including **SVG**, ...\n",
    "\n",
    "~~~python\n",
    "fig.write_image(\"images/fig1.svg\")\n",
    "~~~\n",
    "\n",
    "**PDF**, ...\n",
    "\n",
    "~~~python\n",
    "fig.write_image(\"images/fig1.pdf\")\n",
    "~~~\n",
    "\n",
    "and **EPS** (requires the poppler library)\n",
    "\n",
    "~~~python\n",
    "fig.write_image(\"images/fig1.eps\")\n",
    "~~~\n",
    "\n",
    "**Note:** It is important to note that any figures containing WebGL traces (i.e. of type `scattergl`, `contourgl`, `scatter3d`, `surface`, `mesh3d`, `scatterpolargl`, `cone`, `streamtube`, `splom`, or `parcoords`) that are exported in a vector format will include encapsulated rasters, instead of vectors, for some parts of the image."
   ]
  },
  {
   "cell_type": "markdown",
   "id": "c3f933f4",
   "metadata": {},
   "source": [
    "### Image Export in Dash\n",
    "\n",
    "[Dash](https://plotly.com/dash/) is the best way to build analytical apps in Python using Plotly figures. To run the app below, run `pip install dash`, click \"Download\" to get the code and run `python app.py`.\n",
    "\n",
    "Get started  with [the official Dash docs](https://dash.plotly.com/installation) and **learn how to effortlessly [style](https://plotly.com/dash/design-kit/) & [deploy](https://plotly.com/dash/app-manager/) apps like this with <a class=\"plotly-red\" href=\"https://plotly.com/dash/\">Dash Enterprise</a>.**\n"
   ]
  },
  {
   "cell_type": "code",
   "execution_count": null,
   "id": "e668fc76",
   "metadata": {
    "hide_code": true
   },
   "outputs": [],
   "source": [
    "from IPython.display import IFrame\n",
    "snippet_url = 'https://python-docs-dash-snippets.herokuapp.com/python-docs-dash-snippets/'\n",
    "IFrame(snippet_url + 'static-image-export', width='100%', height=1200)"
   ]
  },
  {
   "cell_type": "markdown",
   "id": "42f64494",
   "metadata": {},
   "source": [
    "### Get Image as Bytes\n",
    "\n",
    "The `plotly.io.to_image` function is used to return an image as a bytes object. You can also use the `.to_image` graph object figure method.\n",
    "\n",
    "Let convert the figure to a **PNG** bytes object..."
   ]
  },
  {
   "cell_type": "code",
   "execution_count": null,
   "id": "c8f99fc3",
   "metadata": {},
   "outputs": [],
   "source": [
    "img_bytes = fig.to_image(format=\"png\")"
   ]
  },
  {
   "cell_type": "markdown",
   "id": "a7a48fde",
   "metadata": {},
   "source": [
    "and then display the first 20 bytes."
   ]
  },
  {
   "cell_type": "code",
   "execution_count": null,
   "id": "dcfffc38",
   "metadata": {},
   "outputs": [],
   "source": [
    "img_bytes[:20]"
   ]
  },
  {
   "cell_type": "markdown",
   "id": "dc3d02fc",
   "metadata": {},
   "source": [
    "#### Display Bytes as Image Using `IPython.display.Image`\n",
    "A bytes object representing a PNG image can be displayed directly in the notebook using the `IPython.display.Image` class. This also works in the [Qt Console for Jupyter](https://qtconsole.readthedocs.io/en/stable/)!"
   ]
  },
  {
   "cell_type": "code",
   "execution_count": null,
   "id": "45229283",
   "metadata": {},
   "outputs": [],
   "source": [
    "from IPython.display import Image\n",
    "Image(img_bytes)"
   ]
  },
  {
   "cell_type": "markdown",
   "id": "73627ea1",
   "metadata": {},
   "source": [
    "### Change Image Dimensions and Scale\n",
    "In addition to the image format, the `to_image` and `write_image` functions provide arguments to specify the image `width` and `height` in logical pixels. They also provide a `scale` parameter that can be used to increase (`scale` > 1) or decrease (`scale` < 1) the physical resolution of the resulting image."
   ]
  },
  {
   "cell_type": "code",
   "execution_count": null,
   "id": "5aaee975",
   "metadata": {},
   "outputs": [],
   "source": [
    "img_bytes = fig.to_image(format=\"png\", width=600, height=350, scale=2)\n",
    "Image(img_bytes)"
   ]
  },
  {
   "cell_type": "markdown",
   "id": "49b0efea",
   "metadata": {},
   "source": [
    "### Specify Image Export Engine\n",
    "If `kaleido` is installed, it will automatically be used to perform image export.  If it is not installed, plotly.py will attempt to use `orca` instead. The `engine` argument to the `to_image` and `write_image` functions can be used to override this default behavior.\n",
    "\n",
    "Here is an example of specifying that orca should be used:\n",
    "~~~python\n",
    "fig.to_image(format=\"png\", engine=\"orca\")\n",
    "~~~\n",
    "\n",
    "And, here is an example of specifying that Kaleido should be used:\n",
    "~~~python\n",
    "fig.to_image(format=\"png\", engine=\"kaleido\")\n",
    "~~~\n"
   ]
  },
  {
   "cell_type": "markdown",
   "id": "95e6eef2",
   "metadata": {},
   "source": [
    "### Image Export Settings (Kaleido)\n",
    "Various image export settings can be configured using the `plotly.io.kaleido.scope` object. For example, the `default_format` property can be used to specify that the default export format should be `svg` instead of `png`\n",
    "\n",
    "```python\n",
    "import plotly.io as pio\n",
    "pio.kaleido.scope.default_format = \"svg\"\n",
    "```\n",
    "\n",
    "Here is a complete listing of the available image export settings:\n",
    "\n",
    " - **`default_width`**: The default pixel width to use on image export.\n",
    " - **`default_height`**: The default pixel height to use on image export.\n",
    " - **`default_scale`**: The default image scale factor applied on image export.\n",
    " - **`default_format`**: The default image format used on export. One of `\"png\"`, `\"jpeg\"`, `\"webp\"`, `\"svg\"`, `\"pdf\"`, or `\"eps\"`.\n",
    " - **`mathjax`**: Location of the MathJax bundle needed to render LaTeX characters. Defaults to a CDN location. If fully offline export is required, set this to a local MathJax bundle.\n",
    " - **`topojson`**: Location of the topojson files needed to render choropleth traces. Defaults to a CDN location. If fully offline export is required, set this to a local directory containing the [Plotly.js topojson files](https://github.com/plotly/plotly.js/tree/master/dist/topojson).\n",
    " - **`mapbox_access_token`**: The default Mapbox access token.\n"
   ]
  },
  {
   "cell_type": "markdown",
   "id": "18ea3146",
   "metadata": {},
   "source": [
    "### Image Export Settings (Orca)\n",
    "See the [Orca Management](/python/orca-management/) section for information on how to specify image export settings when using orca.\n",
    "\n",
    "### Summary\n",
    "In summary, to export high-quality static images from plotly.py, all you need to do is install the `kaleido` package and then use the `plotly.io.write_image` and `plotly.io.to_image` functions (or the `.write_image` and `.to_image` graph object figure methods).\n"
   ]
  },
  {
   "cell_type": "markdown",
   "id": "88c54ab2",
   "metadata": {},
   "source": [
    "### What About Dash?\n",
    "\n",
    "[Dash](https://dash.plot.ly/) is an open-source framework for building analytical applications, with no Javascript required, and it is tightly integrated with the Plotly graphing library.\n",
    "\n",
    "Learn about how to install Dash at https://dash.plot.ly/installation.\n",
    "\n",
    "Everywhere in this page that you see `fig.show()`, you can display the same figure in a Dash application by passing it to the `figure` argument of the [`Graph` component](https://dash.plot.ly/dash-core-components/graph) from the built-in `dash_core_components` package like this:\n",
    "\n",
    "```python\n",
    "import plotly.graph_objects as go # or plotly.express as px\n",
    "fig = go.Figure() # or any Plotly Express function e.g. px.bar(...)\n",
    "# fig.add_trace( ... )\n",
    "# fig.update_layout( ... )\n",
    "\n",
    "from dash import Dash, dcc, html\n",
    "\n",
    "app = Dash()\n",
    "app.layout = html.Div([\n",
    "    dcc.Graph(figure=fig)\n",
    "])\n",
    "\n",
    "app.run_server(debug=True, use_reloader=False)  # Turn off reloader if inside Jupyter\n",
    "```"
   ]
  }
 ],
 "metadata": {
  "jupytext": {
   "notebook_metadata_filter": "all"
  },
  "kernelspec": {
   "display_name": "Python 3",
   "language": "python",
   "name": "python3"
  },
  "language_info": {
   "codemirror_mode": {
    "name": "ipython",
    "version": 3
   },
   "file_extension": ".py",
   "mimetype": "text/x-python",
   "name": "python",
   "nbconvert_exporter": "python",
   "pygments_lexer": "ipython3",
   "version": "3.7.6"
  },
  "plotly": {
   "description": "Plotly allows you to save static images of your plots. Save the image to your local computer, or embed it inside your Jupyter notebooks as a static image.",
   "display_as": "file_settings",
   "language": "python",
   "layout": "base",
   "name": "Static Image Export",
   "order": 6,
   "page_type": "u-guide",
   "permalink": "python/static-image-export/",
   "thumbnail": "thumbnail/static-image-export.png"
  }
 },
 "nbformat": 4,
 "nbformat_minor": 5
}
