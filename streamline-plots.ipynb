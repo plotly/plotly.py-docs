{
 "cells": [
  {
   "cell_type": "markdown",
   "id": "d28d1957",
   "metadata": {},
   "source": [
    "A Streamline plot is a representation based on a 2-D vector field interpreted as a velocity field, consisting of closed curves tangent to the velocity field. In the case of a stationary velocity field, streamlines coincide with trajectories (see also the [Wikipedia page on streamlines, streaklines and pathlines](https://en.wikipedia.org/wiki/Streamlines,_streaklines,_and_pathlines)).\n",
    "\n",
    "For the streamline [figure factory](/python/figure-factories/), one needs to provide\n",
    "- uniformly spaced ranges of `x` and `y` values (1D)\n",
    "- 2-D velocity values `u` and `v` defined on the cross-product (`np.meshgrid(x, y)`) of `x` and `y`.\n",
    "\n",
    "Velocity values are interpolated when determining the streamlines. Streamlines are initialized on the boundary of the `x-y` domain.\n",
    "\n",
    "#### Basic Streamline Plot\n",
    "\n",
    "Streamline plots can be made with a [figure factory](/python/figure-factories/) as detailed in this page."
   ]
  },
  {
   "cell_type": "code",
   "execution_count": null,
   "id": "7f14b663",
   "metadata": {},
   "outputs": [],
   "source": [
    "import plotly.figure_factory as ff\n",
    "\n",
    "import numpy as np\n",
    "\n",
    "x = np.linspace(-3, 3, 100)\n",
    "y = np.linspace(-3, 3, 100)\n",
    "Y, X = np.meshgrid(x, y)\n",
    "u = -1 - X**2 + Y\n",
    "v = 1 + X - Y**2\n",
    "\n",
    "# Create streamline figure\n",
    "fig = ff.create_streamline(x, y, u, v, arrow_scale=.1)\n",
    "fig.show()"
   ]
  },
  {
   "cell_type": "markdown",
   "id": "8d70bfb4",
   "metadata": {},
   "source": [
    "#### Streamline and Source Point Plot"
   ]
  },
  {
   "cell_type": "code",
   "execution_count": null,
   "id": "f9b94696",
   "metadata": {},
   "outputs": [],
   "source": [
    "import plotly.figure_factory as ff\n",
    "import plotly.graph_objects as go\n",
    "\n",
    "import numpy as np\n",
    "\n",
    "N = 50\n",
    "x_start, x_end = -2.0, 2.0\n",
    "y_start, y_end = -1.0, 1.0\n",
    "x = np.linspace(x_start, x_end, N)\n",
    "y = np.linspace(y_start, y_end, N)\n",
    "X, Y = np.meshgrid(x, y)\n",
    "source_strength = 5.0\n",
    "x_source, y_source = -1.0, 0.0\n",
    "\n",
    "# Compute the velocity field on the mesh grid\n",
    "u = (source_strength/(2*np.pi) *\n",
    "     (X - x_source)/((X - x_source)**2 + (Y - y_source)**2))\n",
    "v = (source_strength/(2*np.pi) *\n",
    "     (Y - y_source)/((X - x_source)**2 + (Y - y_source)**2))\n",
    "\n",
    "# Create streamline figure\n",
    "fig = ff.create_streamline(x, y, u, v,\n",
    "                           name='streamline')\n",
    "\n",
    "# Add source point\n",
    "fig.add_trace(go.Scatter(x=[x_source], y=[y_source],\n",
    "                          mode='markers',\n",
    "                          marker_size=14,\n",
    "                          name='source point'))\n",
    "\n",
    "fig.show()"
   ]
  },
  {
   "cell_type": "markdown",
   "id": "3da5ce46",
   "metadata": {},
   "source": [
    "#### See also\n",
    "\n",
    "For a 3D version of streamlines, use the trace `go.Streamtube` documented [here](/python/streamtube-plot/).\n",
    "\n",
    "For representing the 2-D vector field as arrows, see the [quiver plot tutorial](/python/quiver-plots/)."
   ]
  },
  {
   "cell_type": "markdown",
   "id": "d2aae426",
   "metadata": {},
   "source": [
    "#### Reference\n",
    "\n",
    "For more info on `ff.create_streamline()`, see the [full function reference](https://plotly.com/python-api-reference/generated/plotly.figure_factory.create_streamline.html)"
   ]
  },
  {
   "cell_type": "markdown",
   "id": "3a6387ea",
   "metadata": {},
   "source": [
    "### What About Dash?\n",
    "\n",
    "[Dash](https://dash.plot.ly/) is an open-source framework for building analytical applications, with no Javascript required, and it is tightly integrated with the Plotly graphing library.\n",
    "\n",
    "Learn about how to install Dash at https://dash.plot.ly/installation.\n",
    "\n",
    "Everywhere in this page that you see `fig.show()`, you can display the same figure in a Dash application by passing it to the `figure` argument of the [`Graph` component](https://dash.plot.ly/dash-core-components/graph) from the built-in `dash_core_components` package like this:\n",
    "\n",
    "```python\n",
    "import plotly.graph_objects as go # or plotly.express as px\n",
    "fig = go.Figure() # or any Plotly Express function e.g. px.bar(...)\n",
    "# fig.add_trace( ... )\n",
    "# fig.update_layout( ... )\n",
    "\n",
    "from dash import Dash, dcc, html\n",
    "\n",
    "app = Dash()\n",
    "app.layout = html.Div([\n",
    "    dcc.Graph(figure=fig)\n",
    "])\n",
    "\n",
    "app.run_server(debug=True, use_reloader=False)  # Turn off reloader if inside Jupyter\n",
    "```"
   ]
  }
 ],
 "metadata": {
  "jupytext": {
   "notebook_metadata_filter": "all"
  },
  "kernelspec": {
   "display_name": "Python 3",
   "language": "python",
   "name": "python3"
  },
  "language_info": {
   "codemirror_mode": {
    "name": "ipython",
    "version": 3
   },
   "file_extension": ".py",
   "mimetype": "text/x-python",
   "name": "python",
   "nbconvert_exporter": "python",
   "pygments_lexer": "ipython3",
   "version": "3.7.3"
  },
  "plotly": {
   "description": "How to make a streamline plot in Python. A streamline plot displays vector field data.",
   "display_as": "scientific",
   "language": "python",
   "layout": "base",
   "name": "Streamline Plots",
   "order": 11,
   "permalink": "python/streamline-plots/",
   "thumbnail": "thumbnail/streamline.jpg"
  }
 },
 "nbformat": 4,
 "nbformat_minor": 5
}
