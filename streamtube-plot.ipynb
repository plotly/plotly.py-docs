{
 "cells": [
  {
   "cell_type": "markdown",
   "id": "46eacfec",
   "metadata": {},
   "source": [
    "### Introduction"
   ]
  },
  {
   "cell_type": "markdown",
   "id": "b0ac00b1",
   "metadata": {},
   "source": [
    "In streamtube plots, attributes include `x`, `y`, and `z`, which set the coordinates of the vector field, and `u`, `v`, and `w`, which set the x, y, and z components of the vector field. Additionally, you can use `starts` to determine the streamtube's starting position."
   ]
  },
  {
   "cell_type": "markdown",
   "id": "f69721e6",
   "metadata": {},
   "source": [
    "### Basic Streamtube Plot"
   ]
  },
  {
   "cell_type": "code",
   "execution_count": null,
   "id": "9542b5f2",
   "metadata": {},
   "outputs": [],
   "source": [
    "import plotly.graph_objects as go\n",
    "\n",
    "fig = go.Figure(data=go.Streamtube(x=[0, 0, 0], y=[0, 1, 2], z=[0, 0, 0],\n",
    "                                   u=[0, 0, 0], v=[1, 1, 1], w=[0, 0, 0]))\n",
    "fig.show()"
   ]
  },
  {
   "cell_type": "markdown",
   "id": "de67aeee",
   "metadata": {},
   "source": [
    "### Starting Position and Segments\n",
    "\n",
    "By default, streamlines are initialized in the x-z plane of minimal y value. You can change this behaviour by providing directly the starting points of streamtubes."
   ]
  },
  {
   "cell_type": "code",
   "execution_count": null,
   "id": "3c0f9bf7",
   "metadata": {},
   "outputs": [],
   "source": [
    "import plotly.graph_objects as go\n",
    "\n",
    "import pandas as pd\n",
    "\n",
    "df = pd.read_csv('https://raw.githubusercontent.com/plotly/datasets/master/streamtube-wind.csv').drop(['Unnamed: 0'],axis=1)\n",
    "\n",
    "fig = go.Figure(data=go.Streamtube(\n",
    "    x = df['x'],\n",
    "    y = df['y'],\n",
    "    z = df['z'],\n",
    "    u = df['u'],\n",
    "    v = df['v'],\n",
    "    w = df['w'],\n",
    "    starts = dict(\n",
    "        x = [80] * 16,\n",
    "        y = [20,30,40,50] * 4,\n",
    "        z = [0,0,0,0,5,5,5,5,10,10,10,10,15,15,15,15]\n",
    "    ),\n",
    "    sizeref = 0.3,\n",
    "    colorscale = 'Portland',\n",
    "    showscale = False,\n",
    "    maxdisplayed = 3000\n",
    "))\n",
    "\n",
    "fig.update_layout(\n",
    "    scene = dict(\n",
    "        aspectratio = dict(\n",
    "            x = 2,\n",
    "            y = 1,\n",
    "            z = 0.3\n",
    "        )\n",
    "    ),\n",
    "    margin = dict(\n",
    "        t = 20,\n",
    "        b = 20,\n",
    "        l = 20,\n",
    "        r = 20\n",
    "    )\n",
    ")\n",
    "\n",
    "fig.show()"
   ]
  },
  {
   "cell_type": "markdown",
   "id": "e6743ae1",
   "metadata": {},
   "source": [
    "### Tube color and diameter\n",
    "\n",
    "The color of tubes is determined by their local norm, and the diameter of the field by the local [divergence](https://en.wikipedia.org/wiki/Divergence) of the vector field.\n",
    "\n",
    "In all cases below the norm is proportional to `z**2` but the direction of the vector is different, resulting in a different divergence field."
   ]
  },
  {
   "cell_type": "code",
   "execution_count": null,
   "id": "c77883d2",
   "metadata": {},
   "outputs": [],
   "source": [
    "import plotly.graph_objects as go\n",
    "from plotly.subplots import make_subplots\n",
    "import numpy as np\n",
    "\n",
    "x, y, z = np.mgrid[0:10, 0:10, 0:10]\n",
    "x = x.flatten()\n",
    "y = y.flatten()\n",
    "z = z.flatten()\n",
    "\n",
    "u = np.zeros_like(x)\n",
    "v = np.zeros_like(y)\n",
    "w = z**2\n",
    "\n",
    "fig = make_subplots(rows=1, cols=3, specs=[[{'is_3d': True}, {'is_3d': True}, {'is_3d':True}]])\n",
    "\n",
    "fig.add_trace(go.Streamtube(x=x, y=y, z=z, u=u, v=v, w=w), 1, 1)\n",
    "fig.add_trace(go.Streamtube(x=x, y=y, z=z, u=w, v=v, w=u), 1, 2)\n",
    "fig.add_trace(go.Streamtube(x=x, y=y, z=z, u=u, v=w, w=v), 1, 3)\n",
    "\n",
    "fig.update_layout(scene_camera_eye=dict(x=2, y=2, z=2),\n",
    "                  scene2_camera_eye=dict(x=2, y=2, z=2),\n",
    "                  scene3_camera_eye=dict(x=2, y=2, z=2))\n",
    "fig.show()"
   ]
  },
  {
   "cell_type": "markdown",
   "id": "10c4fdad",
   "metadata": {},
   "source": [
    "#### Reference\n",
    "See https://plotly.com/python/reference/streamtube/ for more information and chart attribute options!"
   ]
  },
  {
   "cell_type": "markdown",
   "id": "48de145d",
   "metadata": {},
   "source": [
    "### What About Dash?\n",
    "\n",
    "[Dash](https://dash.plot.ly/) is an open-source framework for building analytical applications, with no Javascript required, and it is tightly integrated with the Plotly graphing library.\n",
    "\n",
    "Learn about how to install Dash at https://dash.plot.ly/installation.\n",
    "\n",
    "Everywhere in this page that you see `fig.show()`, you can display the same figure in a Dash application by passing it to the `figure` argument of the [`Graph` component](https://dash.plot.ly/dash-core-components/graph) from the built-in `dash_core_components` package like this:\n",
    "\n",
    "```python\n",
    "import plotly.graph_objects as go # or plotly.express as px\n",
    "fig = go.Figure() # or any Plotly Express function e.g. px.bar(...)\n",
    "# fig.add_trace( ... )\n",
    "# fig.update_layout( ... )\n",
    "\n",
    "from dash import Dash, dcc, html\n",
    "\n",
    "app = Dash()\n",
    "app.layout = html.Div([\n",
    "    dcc.Graph(figure=fig)\n",
    "])\n",
    "\n",
    "app.run_server(debug=True, use_reloader=False)  # Turn off reloader if inside Jupyter\n",
    "```"
   ]
  }
 ],
 "metadata": {
  "jupytext": {
   "notebook_metadata_filter": "all"
  },
  "kernelspec": {
   "display_name": "Python 3",
   "language": "python",
   "name": "python3"
  },
  "language_info": {
   "codemirror_mode": {
    "name": "ipython",
    "version": 3
   },
   "file_extension": ".py",
   "mimetype": "text/x-python",
   "name": "python",
   "nbconvert_exporter": "python",
   "pygments_lexer": "ipython3",
   "version": "3.7.3"
  },
  "plotly": {
   "description": "How to make 3D streamtube plots in Python with Plotly.",
   "display_as": "3d_charts",
   "language": "python",
   "layout": "base",
   "name": "3D Streamtube Plots",
   "order": 13,
   "page_type": "u-guide",
   "permalink": "python/streamtube-plot/",
   "thumbnail": "thumbnail/streamtube.jpg"
  }
 },
 "nbformat": 4,
 "nbformat_minor": 5
}
