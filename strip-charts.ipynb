{
 "cells": [
  {
   "cell_type": "markdown",
   "id": "775de342",
   "metadata": {},
   "source": [
    "### Strip Charts with Plotly Express\n",
    "\n",
    "[Plotly Express](/python/plotly-express/) is the easy-to-use, high-level interface to Plotly, which [operates on a variety of types of data](/python/px-arguments/) and produces [easy-to-style figures](/python/styling-plotly-express/).\n",
    "\n",
    "The `px.strip()` function will make strip charts using underlying `box` traces with the box hidden.\n",
    "\n",
    "See also [box plots](/python/box-plots/) and [violin plots](/python/violin/)."
   ]
  },
  {
   "cell_type": "code",
   "execution_count": null,
   "id": "941d50a1",
   "metadata": {},
   "outputs": [],
   "source": [
    "import plotly.express as px\n",
    "\n",
    "df = px.data.tips()\n",
    "fig = px.strip(df, x=\"total_bill\", y=\"day\")\n",
    "fig.show()"
   ]
  },
  {
   "cell_type": "markdown",
   "id": "b62d69fe",
   "metadata": {},
   "source": [
    "Strip charts support [faceting](/python/facet-plots/) and [discrete color](/python/discrete-color/):"
   ]
  },
  {
   "cell_type": "code",
   "execution_count": null,
   "id": "fe0e1f0f",
   "metadata": {},
   "outputs": [],
   "source": [
    "import plotly.express as px\n",
    "\n",
    "df = px.data.tips()\n",
    "fig = px.strip(df, x=\"total_bill\", y=\"time\", color=\"sex\", facet_col=\"day\")\n",
    "fig.show()"
   ]
  },
  {
   "cell_type": "markdown",
   "id": "a2febb42",
   "metadata": {},
   "source": [
    "#### Reference\n",
    "\n",
    "See [function reference for `px.strip()`](https://plotly.com/python-api-reference/generated/plotly.express.strip) for more information and chart attribute options!\n"
   ]
  },
  {
   "cell_type": "markdown",
   "id": "97a99b78",
   "metadata": {},
   "source": [
    "### What About Dash?\n",
    "\n",
    "[Dash](https://dash.plot.ly/) is an open-source framework for building analytical applications, with no Javascript required, and it is tightly integrated with the Plotly graphing library.\n",
    "\n",
    "Learn about how to install Dash at https://dash.plot.ly/installation.\n",
    "\n",
    "Everywhere in this page that you see `fig.show()`, you can display the same figure in a Dash application by passing it to the `figure` argument of the [`Graph` component](https://dash.plot.ly/dash-core-components/graph) from the built-in `dash_core_components` package like this:\n",
    "\n",
    "```python\n",
    "import plotly.graph_objects as go # or plotly.express as px\n",
    "fig = go.Figure() # or any Plotly Express function e.g. px.bar(...)\n",
    "# fig.add_trace( ... )\n",
    "# fig.update_layout( ... )\n",
    "\n",
    "from dash import Dash, dcc, html\n",
    "\n",
    "app = Dash()\n",
    "app.layout = html.Div([\n",
    "    dcc.Graph(figure=fig)\n",
    "])\n",
    "\n",
    "app.run_server(debug=True, use_reloader=False)  # Turn off reloader if inside Jupyter\n",
    "```"
   ]
  }
 ],
 "metadata": {
  "jupytext": {
   "notebook_metadata_filter": "all"
  },
  "kernelspec": {
   "display_name": "Python 3",
   "language": "python",
   "name": "python3"
  },
  "language_info": {
   "codemirror_mode": {
    "name": "ipython",
    "version": 3
   },
   "file_extension": ".py",
   "mimetype": "text/x-python",
   "name": "python",
   "nbconvert_exporter": "python",
   "pygments_lexer": "ipython3",
   "version": "3.7.7"
  },
  "plotly": {
   "description": "Strip charts are like 1-dimensional jittered scatter plots.",
   "display_as": "statistical",
   "language": "python",
   "layout": "base",
   "name": "Strip Charts",
   "order": 14,
   "page_type": "u-guide",
   "permalink": "python/strip-charts/",
   "thumbnail": "thumbnail/figure-labels.png"
  }
 },
 "nbformat": 4,
 "nbformat_minor": 5
}
