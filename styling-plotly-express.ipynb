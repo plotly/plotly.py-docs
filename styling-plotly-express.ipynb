{
 "cells": [
  {
   "cell_type": "markdown",
   "id": "88fec92f",
   "metadata": {},
   "source": [
    "### Styling Figures made with Plotly Express\n",
    "\n",
    "[Plotly Express](/python/plotly-express/) is the easy-to-use, high-level interface to Plotly, which [operates on a variety of types of data](/python/px-arguments/). Every Plotly Express function returns [a `plotly.graph_objects.Figure` object](/python/graph-objects/) whose `data` and `layout` has been pre-populated according to the provided arguments.\n",
    "\n",
    "> You can style and customize figures made with Plotly Express _in all the same ways_ as you can style figures made more manually by explicitly assembling `graph_objects` into a figure.\n",
    "\n",
    "More specifically, here are the 4 ways you can style and customize figures made with Plotly Express:\n",
    "\n",
    "1. Control common parameters like width & height, titles, labeling and colors using built-in Plotly Express function arguments\n",
    "2. Updating the figure attributes using [update methods or by directly setting attributes](/python/creating-and-updating-figures/)\n",
    "3. Using Plotly's [theming/templating mechanism](/python/templates/) via the `template` argument to every Plotly Express function\n",
    "4. Setting default values for common parameters using `px.defaults`\n",
    "\n",
    "### Built-in Plotly Express Styling Arguments\n",
    "\n",
    "Many common styling options can be set directly in the `px` function call. Every Plotly Express function accepts the following arguments:\n",
    "\n",
    "- `title` to set the figure title\n",
    "- `width` and `height` to set the figure dimensions\n",
    "- `template` to [set many styling parameters at once](/python/templates/) (see below for more details)\n",
    "- `labels` to override the default axis and legend labels behaviour, which is to use the data frame column name if available, and otherwise to use the label name itself like \"x\", \"y\", \"color\" etc. `labels` accepts a `dict` whose keys are the label to rename and whose values are the desired labels. These labels appear in axis labels, legend and color bar titles, and in hover labels.\n",
    "- `category_orders` to override the default category ordering behaviour, which is to use the order in which the data appears in the input. `category_orders` accepts a `dict` whose keys are the column name to reorder and whose values are a `list` of values in the desired order. These orderings apply everywhere categories appear: in legends, on axes, in bar stacks, in the order of facets, in the order of animation frames etc.\n",
    "- `hover_data` and `hover_name` to control which attributes appear in the hover label and how they are formatted.\n",
    "- [Various color-related attributes](/python/colorscales/) such as `color_continuous_scale`, `color_range`, `color_discrete_sequence` and/or `color_discrete_map` set the colors used in the figure. `color_discrete_map` accepts a dict whose keys are values mapped to `color` and whose values are the desired CSS colors.\n",
    "\n",
    "To illustrate each of these, here is a simple, default figure made with Plotly Express. Note the default orderings for the x-axis categories and the usage of lowercase & snake_case data frame columns for axis labelling."
   ]
  },
  {
   "cell_type": "code",
   "execution_count": null,
   "id": "7a1f151a",
   "metadata": {},
   "outputs": [],
   "source": [
    "import plotly.express as px\n",
    "df = px.data.tips()\n",
    "fig = px.histogram(df, x=\"day\", y=\"total_bill\", color=\"sex\")\n",
    "fig.show()"
   ]
  },
  {
   "cell_type": "markdown",
   "id": "b75e7928",
   "metadata": {},
   "source": [
    "Here is the same figure, restyled by adding some extra parameters to the initial Plotly Express call:"
   ]
  },
  {
   "cell_type": "code",
   "execution_count": null,
   "id": "c67e6167",
   "metadata": {},
   "outputs": [],
   "source": [
    "import plotly.express as px\n",
    "df = px.data.tips()\n",
    "fig = px.histogram(df, x=\"day\", y=\"total_bill\", color=\"sex\",\n",
    "            title=\"Receipts by Payer Gender and Day of Week\",\n",
    "            width=600, height=400,\n",
    "            labels={ # replaces default labels by column name\n",
    "                \"sex\": \"Payer Gender\",  \"day\": \"Day of Week\", \"total_bill\": \"Receipts\"\n",
    "            },\n",
    "            category_orders={ # replaces default order by column name\n",
    "                \"day\": [\"Thur\", \"Fri\", \"Sat\", \"Sun\"], \"sex\": [\"Male\", \"Female\"]\n",
    "            },\n",
    "            color_discrete_map={ # replaces default color mapping by value\n",
    "                \"Male\": \"RebeccaPurple\", \"Female\": \"MediumPurple\"\n",
    "            },\n",
    "            template=\"simple_white\"\n",
    "            )\n",
    "fig.show()"
   ]
  },
  {
   "cell_type": "markdown",
   "id": "ec345aa8",
   "metadata": {},
   "source": [
    "### Updating or Modifying Figures made with Plotly Express\n",
    "\n",
    "If none of the built-in Plotly Express arguments allow you to customize the figure the way you need to, you can use [the `update_*` and `add_*` methods](/python/creating-and-updating-figures/) on [the `plotly.graph_objects.Figure` object](/python/graph-objects/) returned by the PX function to make any further modifications to the figure. This approach is the one used throughout the Plotly.py documentation to [customize axes](/python/axes/), control [legends](/python/legend/) and [colorbars](/python/colorscales/), add [shapes](/python/shapes/) and [annotations](/python/text-and-annotations/) etc.\n",
    "\n",
    "Here is the same figure as above, with some additional customizations to the axes and legend via `.update_yaxes()`, and `.update_layout()`, as well as some annotations added via `.add_shape()` and `.add_annotation()`."
   ]
  },
  {
   "cell_type": "code",
   "execution_count": null,
   "id": "796dc1d4",
   "metadata": {},
   "outputs": [],
   "source": [
    "import plotly.express as px\n",
    "df = px.data.tips()\n",
    "fig = px.histogram(df, x=\"day\", y=\"total_bill\", color=\"sex\",\n",
    "            title=\"Receipts by Payer Gender and Day of Week vs Target\",\n",
    "            width=600, height=400,\n",
    "            labels={\"sex\": \"Payer Gender\",  \"day\": \"Day of Week\", \"total_bill\": \"Receipts\"},\n",
    "            category_orders={\"day\": [\"Thur\", \"Fri\", \"Sat\", \"Sun\"], \"sex\": [\"Male\", \"Female\"]},\n",
    "            color_discrete_map={\"Male\": \"RebeccaPurple\", \"Female\": \"MediumPurple\"},\n",
    "            template=\"simple_white\"\n",
    "            )\n",
    "\n",
    "fig.update_yaxes( # the y-axis is in dollars\n",
    "    tickprefix=\"$\", showgrid=True\n",
    ")\n",
    "\n",
    "fig.update_layout( # customize font and legend orientation & position\n",
    "    font_family=\"Rockwell\",\n",
    "    legend=dict(\n",
    "        title=None, orientation=\"h\", y=1, yanchor=\"bottom\", x=0.5, xanchor=\"center\"\n",
    "    )\n",
    ")\n",
    "\n",
    "fig.add_shape( # add a horizontal \"target\" line\n",
    "    type=\"line\", line_color=\"salmon\", line_width=3, opacity=1, line_dash=\"dot\",\n",
    "    x0=0, x1=1, xref=\"paper\", y0=950, y1=950, yref=\"y\"\n",
    ")\n",
    "\n",
    "fig.add_annotation( # add a text callout with arrow\n",
    "    text=\"below target!\", x=\"Fri\", y=400, arrowhead=1, showarrow=True\n",
    ")\n",
    "\n",
    "fig.show()"
   ]
  },
  {
   "cell_type": "markdown",
   "id": "c4a4cccc",
   "metadata": {},
   "source": [
    "### How Plotly Express Works with Templates\n",
    "\n",
    "Plotly has a [theming system based on templates](/python/templates/) and figures created with Plotly Express interact smoothly with this system:\n",
    "\n",
    "- Plotly Express methods will use the default template if one is set in `plotly.io` (by default, this is set to `plotly`) or in `plotly.express.defaults` (see below)\n",
    "- The template in use can always be overridden via the `template` argument to every PX function\n",
    "- The default `color_continuous_scale` will be the value of `layout.colorscales.sequential` in the template in use, unless it is overridden via the corresponding function argument or via `plotly.express.defaults` (see below)\n",
    "- The default `color_discrete_sequence` will be the value of `layout.colorway` in the template in use, unless it is overridden via the corresponding function argument or via `plotly.express.defaults` (see below)\n",
    "\n",
    "By way of example, in the following figure, simply setting the `template` argument will automatically change the default continuous color scale, even though we have not specified `color_continuous_scale` directly."
   ]
  },
  {
   "cell_type": "code",
   "execution_count": null,
   "id": "aa1e0b00",
   "metadata": {},
   "outputs": [],
   "source": [
    "import plotly.express as px\n",
    "df = px.data.iris()\n",
    "fig = px.density_heatmap(df, x=\"sepal_width\", y=\"sepal_length\", template=\"seaborn\")\n",
    "fig.show()"
   ]
  },
  {
   "cell_type": "markdown",
   "id": "97c4828b",
   "metadata": {},
   "source": [
    "### Setting Plotly Express Styling Defaults\n",
    "\n",
    "Plotly Express supports a simple default-configuration system via the `plotly.express.defaults` singleton object. The values of the properties set on this object are used for the rest of the active session in place of `None` as the default values for any argument to a PX function with a matching name:\n",
    "\n",
    "- `width` and `height` can be set once globally for all Plotly Express functions\n",
    "- `template` can override the setting of `plotly.io.templates.default` for all Plotly Express functions\n",
    "- `color_continuous_scale` and `color_discrete_scale` can override the contents of the template in use for all Plotly Express functions that accept these arguments\n",
    "- `line_dash_sequence`, `symbol_sequence` and `size_max` can be set once globally for all Plotly Express functions that accept these arguments\n",
    "\n",
    "To illustrate this \"defaults hierarchy\", in the following example:\n",
    "\n",
    "- we set the Plotly-wide default template to `simple_white`, but\n",
    "- we override the default template for Plotly Express to be `ggplot2`, but\n",
    "- we also set the default `color_continuous_scale`, and\n",
    "- we set the default `height` and `width` to 400 by 600, but\n",
    "- we override the default `width` to 400 via the function argument.\n",
    "\n",
    "As a result, any figure produced with Plotly Express thereafter uses the `ggplot2` settings for all attributes except for the continuous color scale (visible because `simple_white` doesn't set a plot background, and neither the `simple_white` nor `ggplot2` template uses `Blackbody` as a color scale), and uses the Plotly Express defaults for height but not width (visible because the figure height is the same as the figure width, despite the default)."
   ]
  },
  {
   "cell_type": "code",
   "execution_count": null,
   "id": "57b205ba",
   "metadata": {},
   "outputs": [],
   "source": [
    "import plotly.express as px\n",
    "import plotly.io as pio\n",
    "\n",
    "pio.templates.default = \"simple_white\"\n",
    "\n",
    "px.defaults.template = \"ggplot2\"\n",
    "px.defaults.color_continuous_scale = px.colors.sequential.Blackbody\n",
    "px.defaults.width = 600\n",
    "px.defaults.height = 400\n",
    "\n",
    "df = px.data.iris()\n",
    "fig = px.scatter(df, x=\"sepal_width\", y=\"sepal_length\", color=\"sepal_length\", width=400)\n",
    "fig.show()"
   ]
  },
  {
   "cell_type": "markdown",
   "id": "2bd07f7f",
   "metadata": {},
   "source": [
    "### What About Dash?\n",
    "\n",
    "[Dash](https://dash.plot.ly/) is an open-source framework for building analytical applications, with no Javascript required, and it is tightly integrated with the Plotly graphing library.\n",
    "\n",
    "Learn about how to install Dash at https://dash.plot.ly/installation.\n",
    "\n",
    "Everywhere in this page that you see `fig.show()`, you can display the same figure in a Dash application by passing it to the `figure` argument of the [`Graph` component](https://dash.plot.ly/dash-core-components/graph) from the built-in `dash_core_components` package like this:\n",
    "\n",
    "```python\n",
    "import plotly.graph_objects as go # or plotly.express as px\n",
    "fig = go.Figure() # or any Plotly Express function e.g. px.bar(...)\n",
    "# fig.add_trace( ... )\n",
    "# fig.update_layout( ... )\n",
    "\n",
    "from dash import Dash, dcc, html\n",
    "\n",
    "app = Dash()\n",
    "app.layout = html.Div([\n",
    "    dcc.Graph(figure=fig)\n",
    "])\n",
    "\n",
    "app.run_server(debug=True, use_reloader=False)  # Turn off reloader if inside Jupyter\n",
    "```"
   ]
  }
 ],
 "metadata": {
  "jupytext": {
   "notebook_metadata_filter": "all"
  },
  "kernelspec": {
   "display_name": "Python 3",
   "language": "python",
   "name": "python3"
  },
  "language_info": {
   "codemirror_mode": {
    "name": "ipython",
    "version": 3
   },
   "file_extension": ".py",
   "mimetype": "text/x-python",
   "name": "python",
   "nbconvert_exporter": "python",
   "pygments_lexer": "ipython3",
   "version": "3.6.8"
  },
  "plotly": {
   "description": "Figures made with Plotly Express can be customized in all the same ways as figures made with graph objects, as well as with PX-specific function arguments.",
   "display_as": "file_settings",
   "language": "python",
   "layout": "base",
   "name": "Styling Plotly Express Figures",
   "order": 30,
   "page_type": "u-guide",
   "permalink": "python/styling-plotly-express/",
   "thumbnail": "thumbnail/plotly-express.png"
  }
 },
 "nbformat": 4,
 "nbformat_minor": 5
}
