{
 "cells": [
  {
   "cell_type": "markdown",
   "id": "52a2c65b",
   "metadata": {},
   "source": [
    "### Subplots and Plotly Express\n",
    "\n",
    "[Plotly Express](/python/plotly-express/) is the easy-to-use, high-level interface to Plotly, which [operates on a variety of types of data](/python/px-arguments/) and produces [easy-to-style figures](/python/styling-plotly-express/).\n",
    "\n",
    "Plotly Express does not support arbitrary subplot capabilities, instead it supports [faceting by a given data dimension](/python/facet-plots/), and it also supports [marginal charts to display distribution information](/python/marginal-plots/).\n",
    "\n",
    "This page documents the usage of the lower-level `plotly.subplots` module and the `make_subplots` function it exposes to construct figures with arbitrary subplots. **Plotly Express faceting uses `make_subplots` internally** so adding traces to Plotly Express facets works just as documented here, with `fig.add_trace(..., row=<R>, col=<C>)`."
   ]
  },
  {
   "cell_type": "markdown",
   "id": "df6ba4a5",
   "metadata": {},
   "source": [
    "#### Simple Subplot\n",
    "\n",
    "Figures with subplots are created using the `make_subplots` function from the `plotly.subplots` module.\n",
    "\n",
    "Here is an example of creating a figure that includes two `scatter` traces which are side-by-side since there are 2 columns and 1 row in the subplot layout."
   ]
  },
  {
   "cell_type": "code",
   "execution_count": null,
   "id": "aa6a7ef1",
   "metadata": {},
   "outputs": [],
   "source": [
    "from plotly.subplots import make_subplots\n",
    "import plotly.graph_objects as go\n",
    "\n",
    "fig = make_subplots(rows=1, cols=2)\n",
    "\n",
    "fig.add_trace(\n",
    "    go.Scatter(x=[1, 2, 3], y=[4, 5, 6]),\n",
    "    row=1, col=1\n",
    ")\n",
    "\n",
    "fig.add_trace(\n",
    "    go.Scatter(x=[20, 30, 40], y=[50, 60, 70]),\n",
    "    row=1, col=2\n",
    ")\n",
    "\n",
    "fig.update_layout(height=600, width=800, title_text=\"Side By Side Subplots\")\n",
    "fig.show()"
   ]
  },
  {
   "cell_type": "markdown",
   "id": "e436f3d4",
   "metadata": {},
   "source": [
    "#### Stacked Subplots\n",
    "\n",
    "Here is an example of creating a figure with subplots that are stacked on top of each other since there are 3 rows and 1 column in the subplot layout."
   ]
  },
  {
   "cell_type": "code",
   "execution_count": null,
   "id": "064b4b0c",
   "metadata": {},
   "outputs": [],
   "source": [
    "from plotly.subplots import make_subplots\n",
    "import plotly.graph_objects as go\n",
    "\n",
    "fig = make_subplots(rows=3, cols=1)\n",
    "\n",
    "fig.append_trace(go.Scatter(\n",
    "    x=[3, 4, 5],\n",
    "    y=[1000, 1100, 1200],\n",
    "), row=1, col=1)\n",
    "\n",
    "fig.append_trace(go.Scatter(\n",
    "    x=[2, 3, 4],\n",
    "    y=[100, 110, 120],\n",
    "), row=2, col=1)\n",
    "\n",
    "fig.append_trace(go.Scatter(\n",
    "    x=[0, 1, 2],\n",
    "    y=[10, 11, 12]\n",
    "), row=3, col=1)\n",
    "\n",
    "\n",
    "fig.update_layout(height=600, width=600, title_text=\"Stacked Subplots\")\n",
    "fig.show()"
   ]
  },
  {
   "cell_type": "markdown",
   "id": "1ad8c2c7",
   "metadata": {},
   "source": [
    "#### Multiple Subplots\n",
    "\n",
    "Here is an example of creating a 2 x 2 subplot grid and populating each subplot with a single `scatter` trace."
   ]
  },
  {
   "cell_type": "code",
   "execution_count": null,
   "id": "3c697f10",
   "metadata": {},
   "outputs": [],
   "source": [
    "import plotly.graph_objects as go\n",
    "from plotly.subplots import make_subplots\n",
    "\n",
    "fig = make_subplots(rows=2, cols=2, start_cell=\"bottom-left\")\n",
    "\n",
    "fig.add_trace(go.Scatter(x=[1, 2, 3], y=[4, 5, 6]),\n",
    "              row=1, col=1)\n",
    "\n",
    "fig.add_trace(go.Scatter(x=[20, 30, 40], y=[50, 60, 70]),\n",
    "              row=1, col=2)\n",
    "\n",
    "fig.add_trace(go.Scatter(x=[300, 400, 500], y=[600, 700, 800]),\n",
    "              row=2, col=1)\n",
    "\n",
    "fig.add_trace(go.Scatter(x=[4000, 5000, 6000], y=[7000, 8000, 9000]),\n",
    "              row=2, col=2)\n",
    "\n",
    "fig.show()"
   ]
  },
  {
   "cell_type": "markdown",
   "id": "0ba3449f",
   "metadata": {},
   "source": [
    "#### Multiple Subplots with Titles\n",
    "The `subplot_titles` argument to `make_subplots` can be used to position text annotations as titles for each subplot.\n",
    "\n",
    "Here is an example of adding subplot titles to a 2 x 2 subplot grid of scatter traces."
   ]
  },
  {
   "cell_type": "code",
   "execution_count": null,
   "id": "5f093cf3",
   "metadata": {},
   "outputs": [],
   "source": [
    "from plotly.subplots import make_subplots\n",
    "import plotly.graph_objects as go\n",
    "\n",
    "fig = make_subplots(\n",
    "    rows=2, cols=2,\n",
    "    subplot_titles=(\"Plot 1\", \"Plot 2\", \"Plot 3\", \"Plot 4\"))\n",
    "\n",
    "fig.add_trace(go.Scatter(x=[1, 2, 3], y=[4, 5, 6]),\n",
    "              row=1, col=1)\n",
    "\n",
    "fig.add_trace(go.Scatter(x=[20, 30, 40], y=[50, 60, 70]),\n",
    "              row=1, col=2)\n",
    "\n",
    "fig.add_trace(go.Scatter(x=[300, 400, 500], y=[600, 700, 800]),\n",
    "              row=2, col=1)\n",
    "\n",
    "fig.add_trace(go.Scatter(x=[4000, 5000, 6000], y=[7000, 8000, 9000]),\n",
    "              row=2, col=2)\n",
    "\n",
    "fig.update_layout(height=500, width=700,\n",
    "                  title_text=\"Multiple Subplots with Titles\")\n",
    "\n",
    "fig.show()"
   ]
  },
  {
   "cell_type": "markdown",
   "id": "558a3d25",
   "metadata": {},
   "source": [
    "#### Subplots with Annotations"
   ]
  },
  {
   "cell_type": "code",
   "execution_count": null,
   "id": "bab11c16",
   "metadata": {},
   "outputs": [],
   "source": [
    "from plotly.subplots import make_subplots\n",
    "import plotly.graph_objects as go\n",
    "\n",
    "fig = make_subplots(rows=1, cols=2)\n",
    "\n",
    "fig.add_trace(\n",
    "    go.Scatter(\n",
    "        x=[1, 2, 3],\n",
    "        y=[4, 5, 6],\n",
    "        mode=\"markers+text\",\n",
    "        text=[\"Text A\", \"Text B\", \"Text C\"],\n",
    "        textposition=\"bottom center\"\n",
    "    ),\n",
    "    row=1, col=1\n",
    ")\n",
    "\n",
    "fig.add_trace(\n",
    "    go.Scatter(\n",
    "        x=[20, 30, 40],\n",
    "        y=[50, 60, 70],\n",
    "        mode=\"markers+text\",\n",
    "        text=[\"Text D\", \"Text E\", \"Text F\"],\n",
    "        textposition=\"bottom center\"\n",
    "    ),\n",
    "    row=1, col=2\n",
    ")\n",
    "\n",
    "fig.update_layout(height=600, width=800, title_text=\"Subplots with Annotations\")\n",
    "\n",
    "fig.show()"
   ]
  },
  {
   "cell_type": "markdown",
   "id": "4d264076",
   "metadata": {},
   "source": [
    "#### Customize Subplot Column Widths and Row Heights\n",
    "The `column_widths` argument to `make_subplots` can be used to customize the relative widths of the columns in a subplot grid. It should be set to a list of numbers with a length that matches the `cols` argument.  These number will be normalized, so that they sum to 1, and used to compute the relative widths of the subplot grid columns. The `row_heights` argument serves the same purpose for controlling the relative heights of rows in the subplot grid.\n",
    "\n",
    "Here is an example of creating a figure with two scatter traces in side-by-side subplots. The left subplot is set to be wider than the right one."
   ]
  },
  {
   "cell_type": "code",
   "execution_count": null,
   "id": "4d95923b",
   "metadata": {},
   "outputs": [],
   "source": [
    "import plotly.graph_objects as go\n",
    "from plotly.subplots import make_subplots\n",
    "\n",
    "fig = make_subplots(rows=1, cols=2, column_widths=[0.7, 0.3])\n",
    "\n",
    "fig.add_trace(go.Scatter(x=[1, 2, 3], y=[4, 5, 6]),\n",
    "              row=1, col=1)\n",
    "\n",
    "fig.add_trace(go.Scatter(x=[20, 30, 40], y=[50, 60, 70]),\n",
    "              row=1, col=2)\n",
    "\n",
    "fig.show()"
   ]
  },
  {
   "cell_type": "markdown",
   "id": "01f11252",
   "metadata": {},
   "source": [
    "#### Subplots in Dash\n",
    "\n",
    "[Dash](https://plotly.com/dash/) is the best way to build analytical apps in Python using Plotly figures. To run the app below, run `pip install dash`, click \"Download\" to get the code and run `python app.py`.\n",
    "\n",
    "Get started  with [the official Dash docs](https://dash.plotly.com/installation) and **learn how to effortlessly [style](https://plotly.com/dash/design-kit/) & [deploy](https://plotly.com/dash/app-manager/) apps like this with <a class=\"plotly-red\" href=\"https://plotly.com/dash/\">Dash Enterprise</a>.**\n"
   ]
  },
  {
   "cell_type": "code",
   "execution_count": null,
   "id": "5dea1c2d",
   "metadata": {
    "hide_code": true
   },
   "outputs": [],
   "source": [
    "from IPython.display import IFrame\n",
    "snippet_url = 'https://python-docs-dash-snippets.herokuapp.com/python-docs-dash-snippets/'\n",
    "IFrame(snippet_url + 'subplots', width='100%', height=1200)"
   ]
  },
  {
   "cell_type": "markdown",
   "id": "25522050",
   "metadata": {},
   "source": [
    "<div style=\"font-size: 0.9em;\"><div style=\"width: calc(100% - 30px); box-shadow: none; border: thin solid rgb(229, 229, 229);\"><div style=\"padding: 5px;\"><div><p><strong>Sign up for Dash Club</strong> → Free cheat sheets plus updates from Chris Parmer and Adam Schroeder delivered to your inbox every two months. Includes tips and tricks, community apps, and deep dives into the Dash architecture.\n",
    "<u><a href=\"https://go.plotly.com/dash-club?utm_source=Dash+Club+2022&utm_medium=graphing_libraries&utm_content=inline\">Join now</a></u>.</p></div></div></div></div>"
   ]
  },
  {
   "cell_type": "markdown",
   "id": "158f6f1c",
   "metadata": {},
   "source": [
    "#### Customizing Subplot Axes\n",
    "After a figure with subplots is created using the `make_subplots` function, its axis properties (title, font, range, grid style, etc.) can be customized using the `update_xaxes` and `update_yaxes` graph object figure methods.  By default, these methods apply to all of the x axes or y axes in the figure. The `row` and `col` arguments can be used to control which axes are targeted by the update.\n",
    "\n",
    "Here is an example that creates a figure with a 2 x 2 subplot grid, populates each subplot with a scatter trace, and then updates the x and y axis titles for each subplot individually."
   ]
  },
  {
   "cell_type": "code",
   "execution_count": null,
   "id": "b04bf28e",
   "metadata": {},
   "outputs": [],
   "source": [
    "from plotly.subplots import make_subplots\n",
    "import plotly.graph_objects as go\n",
    "\n",
    "# Initialize figure with subplots\n",
    "fig = make_subplots(\n",
    "    rows=2, cols=2, subplot_titles=(\"Plot 1\", \"Plot 2\", \"Plot 3\", \"Plot 4\")\n",
    ")\n",
    "\n",
    "# Add traces\n",
    "fig.add_trace(go.Scatter(x=[1, 2, 3], y=[4, 5, 6]), row=1, col=1)\n",
    "fig.add_trace(go.Scatter(x=[20, 30, 40], y=[50, 60, 70]), row=1, col=2)\n",
    "fig.add_trace(go.Scatter(x=[300, 400, 500], y=[600, 700, 800]), row=2, col=1)\n",
    "fig.add_trace(go.Scatter(x=[4000, 5000, 6000], y=[7000, 8000, 9000]), row=2, col=2)\n",
    "\n",
    "# Update xaxis properties\n",
    "fig.update_xaxes(title_text=\"xaxis 1 title\", row=1, col=1)\n",
    "fig.update_xaxes(title_text=\"xaxis 2 title\", range=[10, 50], row=1, col=2)\n",
    "fig.update_xaxes(title_text=\"xaxis 3 title\", showgrid=False, row=2, col=1)\n",
    "fig.update_xaxes(title_text=\"xaxis 4 title\", type=\"log\", row=2, col=2)\n",
    "\n",
    "# Update yaxis properties\n",
    "fig.update_yaxes(title_text=\"yaxis 1 title\", row=1, col=1)\n",
    "fig.update_yaxes(title_text=\"yaxis 2 title\", range=[40, 80], row=1, col=2)\n",
    "fig.update_yaxes(title_text=\"yaxis 3 title\", showgrid=False, row=2, col=1)\n",
    "fig.update_yaxes(title_text=\"yaxis 4 title\", row=2, col=2)\n",
    "\n",
    "# Update title and height\n",
    "fig.update_layout(title_text=\"Customizing Subplot Axes\", height=700)\n",
    "\n",
    "fig.show()"
   ]
  },
  {
   "cell_type": "markdown",
   "id": "b7b45771",
   "metadata": {},
   "source": [
    "#### Subplots with Shared X-Axes\n",
    "The `shared_xaxes` argument to `make_subplots` can be used to link the x axes of subplots in the resulting figure. The `vertical_spacing` argument is used to control the vertical spacing between rows in the subplot grid.\n",
    "\n",
    "Here is an example that creates a figure with 3 vertically stacked subplots with linked x axes. A small vertical spacing value is used to reduce the spacing between subplot rows."
   ]
  },
  {
   "cell_type": "code",
   "execution_count": null,
   "id": "493d4eb7",
   "metadata": {},
   "outputs": [],
   "source": [
    "from plotly.subplots import make_subplots\n",
    "import plotly.graph_objects as go\n",
    "\n",
    "fig = make_subplots(rows=3, cols=1,\n",
    "                    shared_xaxes=True,\n",
    "                    vertical_spacing=0.02)\n",
    "\n",
    "fig.add_trace(go.Scatter(x=[0, 1, 2], y=[10, 11, 12]),\n",
    "              row=3, col=1)\n",
    "\n",
    "fig.add_trace(go.Scatter(x=[2, 3, 4], y=[100, 110, 120]),\n",
    "              row=2, col=1)\n",
    "\n",
    "fig.add_trace(go.Scatter(x=[3, 4, 5], y=[1000, 1100, 1200]),\n",
    "              row=1, col=1)\n",
    "\n",
    "fig.update_layout(height=600, width=600,\n",
    "                  title_text=\"Stacked Subplots with Shared X-Axes\")\n",
    "fig.show()"
   ]
  },
  {
   "cell_type": "markdown",
   "id": "eebc8747",
   "metadata": {},
   "source": [
    "#### Subplots with Shared Y-Axes\n",
    "The `shared_yaxes` argument to `make_subplots` can be used to link the y axes of subplots in the resulting figure.\n",
    "\n",
    "Here is an example that creates a figure with a 2 x 2 subplot grid, where the y axes of each row are linked.\n"
   ]
  },
  {
   "cell_type": "code",
   "execution_count": null,
   "id": "dc054ed6",
   "metadata": {},
   "outputs": [],
   "source": [
    "from plotly.subplots import make_subplots\n",
    "import plotly.graph_objects as go\n",
    "\n",
    "fig = make_subplots(rows=2, cols=2, shared_yaxes=True)\n",
    "\n",
    "fig.add_trace(go.Scatter(x=[1, 2, 3], y=[2, 3, 4]),\n",
    "              row=1, col=1)\n",
    "\n",
    "fig.add_trace(go.Scatter(x=[20, 30, 40], y=[5, 5, 5]),\n",
    "              row=1, col=2)\n",
    "\n",
    "fig.add_trace(go.Scatter(x=[2, 3, 4], y=[600, 700, 800]),\n",
    "              row=2, col=1)\n",
    "\n",
    "fig.add_trace(go.Scatter(x=[4000, 5000, 6000], y=[7000, 8000, 9000]),\n",
    "              row=2, col=2)\n",
    "\n",
    "fig.update_layout(height=600, width=600,\n",
    "                  title_text=\"Multiple Subplots with Shared Y-Axes\")\n",
    "fig.show()"
   ]
  },
  {
   "cell_type": "markdown",
   "id": "2bd89a43",
   "metadata": {},
   "source": [
    "### Subplots with Shared Colorscale\n",
    "\n",
    "To share colorscale information in multiple subplots, you can use [coloraxis](https://plotly.com/javascript/reference/scatter/#scatter-marker-line-coloraxis)."
   ]
  },
  {
   "cell_type": "code",
   "execution_count": null,
   "id": "7624d974",
   "metadata": {},
   "outputs": [],
   "source": [
    "from plotly.subplots import make_subplots\n",
    "import plotly.graph_objects as go\n",
    "\n",
    "fig = make_subplots(rows=1, cols=2, shared_yaxes=True)\n",
    "\n",
    "fig.add_trace(go.Bar(x=[1, 2, 3], y=[4, 5, 6],\n",
    "                    marker=dict(color=[4, 5, 6], coloraxis=\"coloraxis\")),\n",
    "              1, 1)\n",
    "\n",
    "fig.add_trace(go.Bar(x=[1, 2, 3], y=[2, 3, 5],\n",
    "                    marker=dict(color=[2, 3, 5], coloraxis=\"coloraxis\")),\n",
    "              1, 2)\n",
    "\n",
    "fig.update_layout(coloraxis=dict(colorscale='Bluered_r'), showlegend=False)\n",
    "fig.show()"
   ]
  },
  {
   "cell_type": "markdown",
   "id": "1923e69d",
   "metadata": {},
   "source": [
    "#### Custom Sized Subplot with Subplot Titles\n",
    "The `specs` argument to `make_subplots` is used to configure per-subplot options.  `specs` must be a 2-dimension list with dimensions that match those provided as the `rows` and `cols` arguments. The elements of `specs` may either be `None`, indicating no subplot should be initialized starting with this grid cell, or a dictionary containing subplot options.  The `colspan` subplot option specifies the number of grid columns that the subplot starting in the given cell should occupy.  If unspecified, `colspan` defaults to 1.\n",
    "\n",
    "Here is an example that creates a 2 by 2 subplot grid containing 3 subplots.  The subplot `specs` element for position (2, 1) has a `colspan` value of 2, causing it to span the full figure width. The subplot `specs` element for position (2, 2) is `None` because no subplot begins at this location in the grid."
   ]
  },
  {
   "cell_type": "code",
   "execution_count": null,
   "id": "08556fe2",
   "metadata": {},
   "outputs": [],
   "source": [
    "from plotly.subplots import make_subplots\n",
    "import plotly.graph_objects as go\n",
    "\n",
    "fig = make_subplots(\n",
    "    rows=2, cols=2,\n",
    "    specs=[[{}, {}],\n",
    "           [{\"colspan\": 2}, None]],\n",
    "    subplot_titles=(\"First Subplot\",\"Second Subplot\", \"Third Subplot\"))\n",
    "\n",
    "fig.add_trace(go.Scatter(x=[1, 2], y=[1, 2]),\n",
    "                 row=1, col=1)\n",
    "\n",
    "fig.add_trace(go.Scatter(x=[1, 2], y=[1, 2]),\n",
    "                 row=1, col=2)\n",
    "fig.add_trace(go.Scatter(x=[1, 2, 3], y=[2, 1, 2]),\n",
    "                 row=2, col=1)\n",
    "\n",
    "fig.update_layout(showlegend=False, title_text=\"Specs with Subplot Title\")\n",
    "fig.show()"
   ]
  },
  {
   "cell_type": "markdown",
   "id": "d5b832cb",
   "metadata": {},
   "source": [
    "#### Multiple Custom Sized Subplots\n",
    "If the `print_grid` argument to `make_subplots` is set to `True`, then a text representation of the subplot grid will be printed.\n",
    "\n",
    "Here is an example that uses the `rowspan` and `colspan` subplot options to create a custom subplot layout with subplots of mixed sizes. The `print_grid` argument is set to `True` so that the subplot grid is printed to the screen."
   ]
  },
  {
   "cell_type": "code",
   "execution_count": null,
   "id": "0deecbc0",
   "metadata": {},
   "outputs": [],
   "source": [
    "from plotly.subplots import make_subplots\n",
    "import plotly.graph_objects as go\n",
    "\n",
    "fig = make_subplots(\n",
    "    rows=5, cols=2,\n",
    "    specs=[[{}, {\"rowspan\": 2}],\n",
    "           [{}, None],\n",
    "           [{\"rowspan\": 2, \"colspan\": 2}, None],\n",
    "           [None, None],\n",
    "           [{}, {}]],\n",
    "    print_grid=True)\n",
    "\n",
    "fig.add_trace(go.Scatter(x=[1, 2], y=[1, 2], name=\"(1,1)\"), row=1, col=1)\n",
    "fig.add_trace(go.Scatter(x=[1, 2], y=[1, 2], name=\"(1,2)\"), row=1, col=2)\n",
    "fig.add_trace(go.Scatter(x=[1, 2], y=[1, 2], name=\"(2,1)\"), row=2, col=1)\n",
    "fig.add_trace(go.Scatter(x=[1, 2], y=[1, 2], name=\"(3,1)\"), row=3, col=1)\n",
    "fig.add_trace(go.Scatter(x=[1, 2], y=[1, 2], name=\"(5,1)\"), row=5, col=1)\n",
    "fig.add_trace(go.Scatter(x=[1, 2], y=[1, 2], name=\"(5,2)\"), row=5, col=2)\n",
    "\n",
    "fig.update_layout(height=600, width=600, title_text=\"specs examples\")\n",
    "fig.show()"
   ]
  },
  {
   "cell_type": "markdown",
   "id": "efeac1ba",
   "metadata": {},
   "source": [
    "#### Subplots Types\n",
    "By default, the `make_subplots` function assumes that the traces that will be added to all subplots are 2-dimensional cartesian traces (e.g. `scatter`, `bar`, `histogram`, `violin`, etc.).  Traces with other subplot types (e.g. `scatterpolar`, `scattergeo`, `parcoords`, etc.) are supported by specifying the `type` subplot option in the `specs` argument to `make_subplots`.\n",
    "\n",
    "Here are the possible values for the `type` option:\n",
    "\n",
    " - `\"xy\"`: 2D Cartesian subplot type for scatter, bar, etc. This is the default if no `type` is specified.\n",
    " - `\"scene\"`: 3D Cartesian subplot for scatter3d, cone, etc.\n",
    " - `\"polar\"`: Polar subplot for scatterpolar, barpolar, etc.\n",
    " - `\"ternary\"`: Ternary subplot for scatterternary.\n",
    " - `\"mapbox\"`: Mapbox subplot for scattermapbox.\n",
    " - `\"domain\"`: Subplot type for traces that are individually positioned. pie, parcoords, parcats, etc.\n",
    " - trace type: A trace type name (e.g. `\"bar\"`, `\"scattergeo\"`, `\"carpet\"`, `\"mesh\"`, etc.) which will be used to determine the appropriate subplot type for that trace.\n",
    "\n",
    "Here is an example that creates and populates a 2 x 2 subplot grid containing 4 different subplot types."
   ]
  },
  {
   "cell_type": "code",
   "execution_count": null,
   "id": "d66d1aad",
   "metadata": {},
   "outputs": [],
   "source": [
    "from plotly.subplots import make_subplots\n",
    "import plotly.graph_objects as go\n",
    "\n",
    "fig = make_subplots(\n",
    "    rows=2, cols=2,\n",
    "    specs=[[{\"type\": \"xy\"}, {\"type\": \"polar\"}],\n",
    "           [{\"type\": \"domain\"}, {\"type\": \"scene\"}]],\n",
    ")\n",
    "\n",
    "fig.add_trace(go.Bar(y=[2, 3, 1]),\n",
    "              row=1, col=1)\n",
    "\n",
    "fig.add_trace(go.Barpolar(theta=[0, 45, 90], r=[2, 3, 1]),\n",
    "              row=1, col=2)\n",
    "\n",
    "fig.add_trace(go.Pie(values=[2, 3, 1]),\n",
    "              row=2, col=1)\n",
    "\n",
    "fig.add_trace(go.Scatter3d(x=[2, 3, 1], y=[0, 0, 0],\n",
    "                           z=[0.5, 1, 2], mode=\"lines\"),\n",
    "              row=2, col=2)\n",
    "\n",
    "fig.update_layout(height=700, showlegend=False)\n",
    "\n",
    "fig.show()"
   ]
  },
  {
   "cell_type": "markdown",
   "id": "6394f689",
   "metadata": {},
   "source": [
    "As an alternative to providing the name of a subplot type (e.g. `\"xy\"`, `\"polar\"`, `\"domain\"`, `\"scene\"`, etc), the `type` option may also be set to a string containing the name of a trace type (e.g. `\"bar\"`, `\"barpolar\"`, `\"pie\"`, `\"scatter3d\"`, etc.), which will be used to determine the subplot type that is compatible with that trace.\n",
    "\n",
    "Here is the example above, modified to specify the subplot types using trace type names."
   ]
  },
  {
   "cell_type": "code",
   "execution_count": null,
   "id": "710d8565",
   "metadata": {},
   "outputs": [],
   "source": [
    "from plotly.subplots import make_subplots\n",
    "import plotly.graph_objects as go\n",
    "\n",
    "fig = make_subplots(\n",
    "    rows=2, cols=2,\n",
    "    specs=[[{\"type\": \"bar\"}, {\"type\": \"barpolar\"}],\n",
    "           [{\"type\": \"pie\"}, {\"type\": \"scatter3d\"}]],\n",
    ")\n",
    "\n",
    "fig.add_trace(go.Bar(y=[2, 3, 1]),\n",
    "              row=1, col=1)\n",
    "\n",
    "fig.add_trace(go.Barpolar(theta=[0, 45, 90], r=[2, 3, 1]),\n",
    "              row=1, col=2)\n",
    "\n",
    "fig.add_trace(go.Pie(values=[2, 3, 1]),\n",
    "              row=2, col=1)\n",
    "\n",
    "fig.add_trace(go.Scatter3d(x=[2, 3, 1], y=[0, 0, 0],\n",
    "                           z=[0.5, 1, 2], mode=\"lines\"),\n",
    "              row=2, col=2)\n",
    "\n",
    "fig.update_layout(height=700, showlegend=False)\n",
    "\n",
    "fig.show()"
   ]
  },
  {
   "cell_type": "markdown",
   "id": "bb97ae20",
   "metadata": {},
   "source": [
    "#### Side by Side Subplot (low-level API)"
   ]
  },
  {
   "cell_type": "code",
   "execution_count": null,
   "id": "47b7a987",
   "metadata": {},
   "outputs": [],
   "source": [
    "import plotly.graph_objects as go\n",
    "\n",
    "trace1 = go.Scatter(\n",
    "    x=[1, 2, 3],\n",
    "    y=[4, 5, 6]\n",
    ")\n",
    "trace2 = go.Scatter(\n",
    "    x=[20, 30, 40],\n",
    "    y=[50, 60, 70],\n",
    "    xaxis=\"x2\",\n",
    "    yaxis=\"y2\"\n",
    ")\n",
    "data = [trace1, trace2]\n",
    "layout = go.Layout(\n",
    "    xaxis=dict(\n",
    "        domain=[0, 0.7]\n",
    "    ),\n",
    "    xaxis2=dict(\n",
    "        domain=[0.8, 1]\n",
    "    ),\n",
    "    yaxis2=dict(\n",
    "        anchor=\"x2\"\n",
    "    )\n",
    ")\n",
    "fig = go.Figure(data=data, layout=layout)\n",
    "fig.show()"
   ]
  },
  {
   "cell_type": "markdown",
   "id": "0547ac7c",
   "metadata": {},
   "source": [
    "#### Subplots with shared axes (low-level API)"
   ]
  },
  {
   "cell_type": "code",
   "execution_count": null,
   "id": "39b58805",
   "metadata": {},
   "outputs": [],
   "source": [
    "import plotly.graph_objects as go\n",
    "\n",
    "trace1 = go.Scatter(\n",
    "    x=[1, 2, 3],\n",
    "    y=[2, 3, 4]\n",
    ")\n",
    "trace2 = go.Scatter(\n",
    "    x=[20, 30, 40],\n",
    "    y=[5, 5, 5],\n",
    "    xaxis=\"x2\",\n",
    "    yaxis=\"y\"\n",
    ")\n",
    "trace3 = go.Scatter(\n",
    "    x=[2, 3, 4],\n",
    "    y=[600, 700, 800],\n",
    "    xaxis=\"x\",\n",
    "    yaxis=\"y3\"\n",
    ")\n",
    "trace4 = go.Scatter(\n",
    "    x=[4000, 5000, 6000],\n",
    "    y=[7000, 8000, 9000],\n",
    "    xaxis=\"x4\",\n",
    "    yaxis=\"y4\"\n",
    ")\n",
    "data = [trace1, trace2, trace3, trace4]\n",
    "layout = go.Layout(\n",
    "    xaxis=dict(\n",
    "        domain=[0, 0.45]\n",
    "    ),\n",
    "    yaxis=dict(\n",
    "        domain=[0, 0.45]\n",
    "    ),\n",
    "    xaxis2=dict(\n",
    "        domain=[0.55, 1]\n",
    "    ),\n",
    "    xaxis4=dict(\n",
    "        domain=[0.55, 1],\n",
    "        anchor=\"y4\"\n",
    "    ),\n",
    "    yaxis3=dict(\n",
    "        domain=[0.55, 1]\n",
    "    ),\n",
    "    yaxis4=dict(\n",
    "        domain=[0.55, 1],\n",
    "        anchor=\"x4\"\n",
    "    )\n",
    ")\n",
    "fig = go.Figure(data=data, layout=layout)\n",
    "fig.show()"
   ]
  },
  {
   "cell_type": "markdown",
   "id": "ccffe367",
   "metadata": {},
   "source": [
    "#### Stacked Subplots with a Shared X-Axis (low-level API)"
   ]
  },
  {
   "cell_type": "code",
   "execution_count": null,
   "id": "b3a6ff55",
   "metadata": {},
   "outputs": [],
   "source": [
    "import plotly.graph_objects as go\n",
    "\n",
    "trace1 = go.Scatter(\n",
    "    x=[0, 1, 2],\n",
    "    y=[10, 11, 12]\n",
    ")\n",
    "trace2 = go.Scatter(\n",
    "    x=[2, 3, 4],\n",
    "    y=[100, 110, 120],\n",
    "    yaxis=\"y2\"\n",
    ")\n",
    "trace3 = go.Scatter(\n",
    "    x=[3, 4, 5],\n",
    "    y=[1000, 1100, 1200],\n",
    "    yaxis=\"y3\"\n",
    ")\n",
    "data = [trace1, trace2, trace3]\n",
    "layout = go.Layout(\n",
    "    yaxis=dict(\n",
    "        domain=[0, 0.33]\n",
    "    ),\n",
    "    legend=dict(\n",
    "        traceorder=\"reversed\"\n",
    "    ),\n",
    "    yaxis2=dict(\n",
    "        domain=[0.33, 0.66]\n",
    "    ),\n",
    "    yaxis3=dict(\n",
    "        domain=[0.66, 1]\n",
    "    )\n",
    ")\n",
    "fig = go.Figure(data=data, layout=layout)\n",
    "fig.show()"
   ]
  },
  {
   "cell_type": "markdown",
   "id": "70800d58",
   "metadata": {},
   "source": [
    "#### Setting Subplots on a Figure Directly\n",
    "\n",
    "_new in 4.13_\n",
    "\n",
    "Subplots can be added to an already existing figure, provided it doesn't already\n",
    "have subplots. `go.Figure.set_subplots` accepts all the same arguments as\n",
    "`plotly.subplots.make_subplots`."
   ]
  },
  {
   "cell_type": "code",
   "execution_count": null,
   "id": "a2ed4b2a",
   "metadata": {},
   "outputs": [],
   "source": [
    "import plotly.graph_objects as go\n",
    "fig = go.Figure().set_subplots(2, 3, horizontal_spacing=0.1)"
   ]
  },
  {
   "cell_type": "markdown",
   "id": "9f5e71e5",
   "metadata": {},
   "source": [
    "is equivalent to:"
   ]
  },
  {
   "cell_type": "code",
   "execution_count": null,
   "id": "ee53f7c3",
   "metadata": {},
   "outputs": [],
   "source": [
    "from plotly.subplots import make_subplots\n",
    "fig = make_subplots(2, 3, horizontal_spacing=0.1)"
   ]
  },
  {
   "cell_type": "markdown",
   "id": "e110144b",
   "metadata": {},
   "source": [
    "#### Reference\n",
    "All of the x-axis properties are found here: https://plotly.com/python/reference/layout/xaxis/\n",
    "All of the y-axis properties are found here: https://plotly.com/python/reference/layout/yaxis/"
   ]
  },
  {
   "cell_type": "code",
   "execution_count": null,
   "id": "17c679af",
   "metadata": {
    "lines_to_next_cell": 2
   },
   "outputs": [],
   "source": [
    "from plotly.subplots import make_subplots\n",
    "help(make_subplots)"
   ]
  },
  {
   "cell_type": "markdown",
   "id": "bb8f4895",
   "metadata": {},
   "source": [
    "### What About Dash?\n",
    "\n",
    "[Dash](https://dash.plot.ly/) is an open-source framework for building analytical applications, with no Javascript required, and it is tightly integrated with the Plotly graphing library.\n",
    "\n",
    "Learn about how to install Dash at https://dash.plot.ly/installation.\n",
    "\n",
    "Everywhere in this page that you see `fig.show()`, you can display the same figure in a Dash application by passing it to the `figure` argument of the [`Graph` component](https://dash.plot.ly/dash-core-components/graph) from the built-in `dash_core_components` package like this:\n",
    "\n",
    "```python\n",
    "import plotly.graph_objects as go # or plotly.express as px\n",
    "fig = go.Figure() # or any Plotly Express function e.g. px.bar(...)\n",
    "# fig.add_trace( ... )\n",
    "# fig.update_layout( ... )\n",
    "\n",
    "from dash import Dash, dcc, html\n",
    "\n",
    "app = Dash()\n",
    "app.layout = html.Div([\n",
    "    dcc.Graph(figure=fig)\n",
    "])\n",
    "\n",
    "app.run_server(debug=True, use_reloader=False)  # Turn off reloader if inside Jupyter\n",
    "```"
   ]
  }
 ],
 "metadata": {
  "jupytext": {
   "notebook_metadata_filter": "all"
  },
  "kernelspec": {
   "display_name": "Python 3",
   "language": "python",
   "name": "python3"
  },
  "language_info": {
   "codemirror_mode": {
    "name": "ipython",
    "version": 3
   },
   "file_extension": ".py",
   "mimetype": "text/x-python",
   "name": "python",
   "nbconvert_exporter": "python",
   "pygments_lexer": "ipython3",
   "version": "3.8.8"
  },
  "plotly": {
   "description": "How to make subplots in with Plotly's Python graphing library. Examples of stacked, custom-sized, gridded, and annotated subplots.",
   "display_as": "file_settings",
   "language": "python",
   "layout": "base",
   "name": "Subplots",
   "order": 17,
   "page_type": "u-guide",
   "permalink": "python/subplots/",
   "redirect_from": "ipython-notebooks/subplots/",
   "thumbnail": "thumbnail/subplots.jpg"
  }
 },
 "nbformat": 4,
 "nbformat_minor": 5
}
