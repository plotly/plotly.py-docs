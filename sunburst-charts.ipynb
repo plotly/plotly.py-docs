{
 "cells": [
  {
   "cell_type": "markdown",
   "id": "a7cffd0e",
   "metadata": {},
   "source": [
    "Sunburst plots visualize hierarchical data spanning outwards radially from root to leaves. Similar to [Icicle charts](https://plotly.com/python/icicle-charts/) and [Treemaps](https://plotly.com/python/treemaps/), the hierarchy is defined by `labels` (`names` for `px.icicle`) and `parents` attributes. The root starts from the center and children are added to the outer rings.\n",
    "\n",
    "### Basic Sunburst Plot with plotly.express\n",
    "\n",
    "[Plotly Express](/python/plotly-express/) is the easy-to-use, high-level interface to Plotly, which [operates on a variety of types of data](/python/px-arguments/) and produces [easy-to-style figures](/python/styling-plotly-express/).\n",
    "\n",
    "With `px.sunburst`, each row of the DataFrame is represented as a sector of the sunburst."
   ]
  },
  {
   "cell_type": "code",
   "execution_count": null,
   "id": "49f8a3ea",
   "metadata": {},
   "outputs": [],
   "source": [
    "import plotly.express as px\n",
    "data = dict(\n",
    "    character=[\"Eve\", \"Cain\", \"Seth\", \"Enos\", \"Noam\", \"Abel\", \"Awan\", \"Enoch\", \"Azura\"],\n",
    "    parent=[\"\", \"Eve\", \"Eve\", \"Seth\", \"Seth\", \"Eve\", \"Eve\", \"Awan\", \"Eve\" ],\n",
    "    value=[10, 14, 12, 10, 2, 6, 6, 4, 4])\n",
    "\n",
    "fig = px.sunburst(\n",
    "    data,\n",
    "    names='character',\n",
    "    parents='parent',\n",
    "    values='value',\n",
    ")\n",
    "fig.show()"
   ]
  },
  {
   "cell_type": "markdown",
   "id": "51b50581",
   "metadata": {},
   "source": [
    "### Sunburst of a rectangular DataFrame with plotly.express\n",
    "\n",
    "Hierarchical data are often stored as a rectangular dataframe, with different columns corresponding to different levels of the hierarchy. `px.sunburst` can take a `path` parameter corresponding to a list of columns. Note that `id` and `parent` should not be provided if `path` is given."
   ]
  },
  {
   "cell_type": "code",
   "execution_count": null,
   "id": "f3e46da5",
   "metadata": {},
   "outputs": [],
   "source": [
    "import plotly.express as px\n",
    "df = px.data.tips()\n",
    "fig = px.sunburst(df, path=['day', 'time', 'sex'], values='total_bill')\n",
    "fig.show()"
   ]
  },
  {
   "cell_type": "markdown",
   "id": "1c5cc493",
   "metadata": {},
   "source": [
    "### Sunburst of a rectangular DataFrame with continuous color argument in px.sunburst\n",
    "\n",
    "If a `color` argument is passed, the color of a node is computed as the average of the color values of its children, weighted by their values."
   ]
  },
  {
   "cell_type": "code",
   "execution_count": null,
   "id": "a688088b",
   "metadata": {},
   "outputs": [],
   "source": [
    "import plotly.express as px\n",
    "import numpy as np\n",
    "df = px.data.gapminder().query(\"year == 2007\")\n",
    "fig = px.sunburst(df, path=['continent', 'country'], values='pop',\n",
    "                  color='lifeExp', hover_data=['iso_alpha'],\n",
    "                  color_continuous_scale='RdBu',\n",
    "                  color_continuous_midpoint=np.average(df['lifeExp'], weights=df['pop']))\n",
    "fig.show()"
   ]
  },
  {
   "cell_type": "markdown",
   "id": "aadead1a",
   "metadata": {},
   "source": [
    "### Sunburst of a rectangular DataFrame with discrete color argument in px.sunburst\n",
    "\n",
    "When the argument of `color` corresponds to non-numerical data, discrete colors are used. If a sector has the same value of the `color` column for all its children, then the corresponding color is used, otherwise the first color of the discrete color sequence is used."
   ]
  },
  {
   "cell_type": "code",
   "execution_count": null,
   "id": "839127f0",
   "metadata": {},
   "outputs": [],
   "source": [
    "import plotly.express as px\n",
    "df = px.data.tips()\n",
    "fig = px.sunburst(df, path=['sex', 'day', 'time'], values='total_bill', color='day')\n",
    "fig.show()"
   ]
  },
  {
   "cell_type": "markdown",
   "id": "64dbefc4",
   "metadata": {},
   "source": [
    "In the example below the color of `Saturday` and `Sunday` sectors is the same as `Dinner` because there are only Dinner entries for Saturday and Sunday. However, for Female -> Friday there are both lunches and dinners, hence the \"mixed\" color (blue here) is used."
   ]
  },
  {
   "cell_type": "code",
   "execution_count": null,
   "id": "de699a2f",
   "metadata": {},
   "outputs": [],
   "source": [
    "import plotly.express as px\n",
    "df = px.data.tips()\n",
    "fig = px.sunburst(df, path=['sex', 'day', 'time'], values='total_bill', color='time')\n",
    "fig.show()"
   ]
  },
  {
   "cell_type": "markdown",
   "id": "7347e236",
   "metadata": {},
   "source": [
    "### Using an explicit mapping for discrete colors\n",
    "\n",
    "For more information about discrete colors, see the [dedicated page](/python/discrete-color)."
   ]
  },
  {
   "cell_type": "code",
   "execution_count": null,
   "id": "a7daf2b1",
   "metadata": {},
   "outputs": [],
   "source": [
    "import plotly.express as px\n",
    "df = px.data.tips()\n",
    "fig = px.sunburst(df, path=['sex', 'day', 'time'], values='total_bill', color='time',\n",
    "                  color_discrete_map={'(?)':'black', 'Lunch':'gold', 'Dinner':'darkblue'})\n",
    "fig.show()"
   ]
  },
  {
   "cell_type": "markdown",
   "id": "846a4baa",
   "metadata": {},
   "source": [
    "### Rectangular data with missing values\n",
    "\n",
    "If the dataset is not fully rectangular, missing values should be supplied as `None`. Note that the parents of `None` entries must be a leaf, i.e. it cannot have other children than `None` (otherwise a `ValueError` is raised)."
   ]
  },
  {
   "cell_type": "code",
   "execution_count": null,
   "id": "941ad441",
   "metadata": {},
   "outputs": [],
   "source": [
    "import plotly.express as px\n",
    "import pandas as pd\n",
    "vendors = [\"A\", \"B\", \"C\", \"D\", None, \"E\", \"F\", \"G\", \"H\", None]\n",
    "sectors = [\"Tech\", \"Tech\", \"Finance\", \"Finance\", \"Other\",\n",
    "           \"Tech\", \"Tech\", \"Finance\", \"Finance\", \"Other\"]\n",
    "regions = [\"North\", \"North\", \"North\", \"North\", \"North\",\n",
    "           \"South\", \"South\", \"South\", \"South\", \"South\"]\n",
    "sales = [1, 3, 2, 4, 1, 2, 2, 1, 4, 1]\n",
    "df = pd.DataFrame(\n",
    "    dict(vendors=vendors, sectors=sectors, regions=regions, sales=sales)\n",
    ")\n",
    "print(df)\n",
    "fig = px.sunburst(df, path=['regions', 'sectors', 'vendors'], values='sales')\n",
    "fig.show()"
   ]
  },
  {
   "cell_type": "markdown",
   "id": "4675d3b8",
   "metadata": {},
   "source": [
    "### Basic Sunburst Plot with go.Sunburst\n",
    "\n",
    "If Plotly Express does not provide a good starting point, it is also possible to use [the more generic `go.Sunburst` class from `plotly.graph_objects`](/python/graph-objects/).\n",
    "\n",
    "Main arguments:\n",
    "\n",
    "1. `labels` (`names` in `px.sunburst` since `labels` is reserved for overriding columns names): sets the labels of sunburst sectors.\n",
    "2. `parents`: sets the parent sectors of sunburst sectors. An empty string `''` is used for the root node in the hierarchy. In this example, the root is \"Eve\".\n",
    "3. `values`: sets the values associated with sunburst sectors, determining their width (See the `branchvalues` section below for different modes for setting the width)."
   ]
  },
  {
   "cell_type": "code",
   "execution_count": null,
   "id": "9c2ce6b4",
   "metadata": {},
   "outputs": [],
   "source": [
    "import plotly.graph_objects as go\n",
    "\n",
    "fig =go.Figure(go.Sunburst(\n",
    "    labels=[\"Eve\", \"Cain\", \"Seth\", \"Enos\", \"Noam\", \"Abel\", \"Awan\", \"Enoch\", \"Azura\"],\n",
    "    parents=[\"\", \"Eve\", \"Eve\", \"Seth\", \"Seth\", \"Eve\", \"Eve\", \"Awan\", \"Eve\" ],\n",
    "    values=[10, 14, 12, 10, 2, 6, 6, 4, 4],\n",
    "))\n",
    "# Update layout for tight margin\n",
    "# See https://plotly.com/python/creating-and-updating-figures/\n",
    "fig.update_layout(margin = dict(t=0, l=0, r=0, b=0))\n",
    "\n",
    "fig.show()"
   ]
  },
  {
   "cell_type": "markdown",
   "id": "e86bc05a",
   "metadata": {},
   "source": [
    "### Sunburst with Repeated Labels"
   ]
  },
  {
   "cell_type": "code",
   "execution_count": null,
   "id": "9b7b422a",
   "metadata": {},
   "outputs": [],
   "source": [
    "import plotly.graph_objects as go\n",
    "\n",
    "fig =go.Figure(go.Sunburst(\n",
    " ids=[\n",
    "    \"North America\", \"Europe\", \"Australia\", \"North America - Football\", \"Soccer\",\n",
    "    \"North America - Rugby\", \"Europe - Football\", \"Rugby\",\n",
    "    \"Europe - American Football\",\"Australia - Football\", \"Association\",\n",
    "    \"Australian Rules\", \"Autstralia - American Football\", \"Australia - Rugby\",\n",
    "    \"Rugby League\", \"Rugby Union\"\n",
    "  ],\n",
    "  labels= [\n",
    "    \"North<br>America\", \"Europe\", \"Australia\", \"Football\", \"Soccer\", \"Rugby\",\n",
    "    \"Football\", \"Rugby\", \"American<br>Football\", \"Football\", \"Association\",\n",
    "    \"Australian<br>Rules\", \"American<br>Football\", \"Rugby\", \"Rugby<br>League\",\n",
    "    \"Rugby<br>Union\"\n",
    "  ],\n",
    "  parents=[\n",
    "    \"\", \"\", \"\", \"North America\", \"North America\", \"North America\", \"Europe\",\n",
    "    \"Europe\", \"Europe\",\"Australia\", \"Australia - Football\", \"Australia - Football\",\n",
    "    \"Australia - Football\", \"Australia - Football\", \"Australia - Rugby\",\n",
    "    \"Australia - Rugby\"\n",
    "  ],\n",
    "))\n",
    "fig.update_layout(margin = dict(t=0, l=0, r=0, b=0))\n",
    "\n",
    "fig.show()"
   ]
  },
  {
   "cell_type": "markdown",
   "id": "41a1da64",
   "metadata": {},
   "source": [
    "### Branchvalues\n",
    "\n",
    "With branchvalues \"total\", the value of the parent represents the width of its wedge. In the example below, \"Enoch\" is 4 and \"Awan\" is 6 and so Enoch's width is 4/6ths of Awans. With branchvalues \"remainder\", the parent's width is determined by its own value plus those of its children. So, Enoch's width is 4/10ths of Awan's (4 / (6 + 4)).\n",
    "\n",
    "Note that this means that the sum of the values of the children cannot exceed the value of their parent when branchvalues is set to \"total\". When branchvalues is set to \"remainder\" (the default), children will not take up all of the space below their parent (unless the parent is the root and it has a value of 0)."
   ]
  },
  {
   "cell_type": "code",
   "execution_count": null,
   "id": "a789a38c",
   "metadata": {},
   "outputs": [],
   "source": [
    "import plotly.graph_objects as go\n",
    "\n",
    "fig =go.Figure(go.Sunburst(\n",
    "    labels=[ \"Eve\", \"Cain\", \"Seth\", \"Enos\", \"Noam\", \"Abel\", \"Awan\", \"Enoch\", \"Azura\"],\n",
    "    parents=[\"\",    \"Eve\",  \"Eve\",  \"Seth\", \"Seth\", \"Eve\",  \"Eve\",  \"Awan\",  \"Eve\" ],\n",
    "    values=[  65,    14,     12,     10,     2,      6,      6,      4,       4],\n",
    "    branchvalues=\"total\",\n",
    "))\n",
    "fig.update_layout(margin = dict(t=0, l=0, r=0, b=0))\n",
    "\n",
    "fig.show()"
   ]
  },
  {
   "cell_type": "markdown",
   "id": "bea0a37d",
   "metadata": {},
   "source": [
    "### Large Number of Slices\n",
    "\n",
    "This example uses a [plotly grid attribute](https://plotly.com/python/reference/layout/#layout-grid) for the subplots. Reference the row and column destination using the [domain](https://plotly.com/python/reference/sunburst/#sunburst-domain) attribute."
   ]
  },
  {
   "cell_type": "code",
   "execution_count": null,
   "id": "771ab109",
   "metadata": {},
   "outputs": [],
   "source": [
    "import plotly.graph_objects as go\n",
    "\n",
    "import pandas as pd\n",
    "\n",
    "df1 = pd.read_csv('https://raw.githubusercontent.com/plotly/datasets/718417069ead87650b90472464c7565dc8c2cb1c/sunburst-coffee-flavors-complete.csv')\n",
    "df2 = pd.read_csv('https://raw.githubusercontent.com/plotly/datasets/718417069ead87650b90472464c7565dc8c2cb1c/coffee-flavors.csv')\n",
    "\n",
    "fig = go.Figure()\n",
    "\n",
    "fig.add_trace(go.Sunburst(\n",
    "    ids=df1.ids,\n",
    "    labels=df1.labels,\n",
    "    parents=df1.parents,\n",
    "    domain=dict(column=0)\n",
    "))\n",
    "\n",
    "fig.add_trace(go.Sunburst(\n",
    "    ids=df2.ids,\n",
    "    labels=df2.labels,\n",
    "    parents=df2.parents,\n",
    "    domain=dict(column=1),\n",
    "    maxdepth=2\n",
    "))\n",
    "\n",
    "fig.update_layout(\n",
    "    grid= dict(columns=2, rows=1),\n",
    "    margin = dict(t=0, l=0, r=0, b=0)\n",
    ")\n",
    "\n",
    "fig.show()"
   ]
  },
  {
   "cell_type": "markdown",
   "id": "b7b8a27a",
   "metadata": {},
   "source": [
    "#### Controlling text orientation inside sunburst sectors\n",
    "\n",
    "The `insidetextorientation` attribute controls the orientation of text inside sectors. With\n",
    "\"auto\" the texts may automatically be rotated to fit with the maximum size inside the slice. Using \"horizontal\" (resp. \"radial\", \"tangential\") forces text to be horizontal (resp. radial or tangential). Note that `plotly` may reduce the font size in order to fit the text with the requested orientation.\n",
    "\n",
    "For a figure `fig` created with plotly express, use `fig.update_traces(insidetextorientation='...')` to change the text orientation."
   ]
  },
  {
   "cell_type": "code",
   "execution_count": null,
   "id": "d5cab493",
   "metadata": {},
   "outputs": [],
   "source": [
    "import plotly.graph_objects as go\n",
    "import pandas as pd\n",
    "\n",
    "df = pd.read_csv('https://raw.githubusercontent.com/plotly/datasets/718417069ead87650b90472464c7565dc8c2cb1c/coffee-flavors.csv')\n",
    "\n",
    "fig = go.Figure()\n",
    "\n",
    "fig.add_trace(go.Sunburst(\n",
    "    ids=df.ids,\n",
    "    labels=df.labels,\n",
    "    parents=df.parents,\n",
    "    domain=dict(column=1),\n",
    "    maxdepth=2,\n",
    "    insidetextorientation='radial'\n",
    "))\n",
    "\n",
    "fig.update_layout(\n",
    "    margin = dict(t=10, l=10, r=10, b=10)\n",
    ")\n",
    "\n",
    "fig.show()"
   ]
  },
  {
   "cell_type": "markdown",
   "id": "49983493",
   "metadata": {},
   "source": [
    "### Controlling text fontsize with uniformtext\n",
    "\n",
    "If you want all the text labels to have the same size, you can use the `uniformtext` layout parameter. The `minsize` attribute sets the font size, and the `mode` attribute sets what happens for labels which cannot fit with the desired fontsize: either `hide` them or `show` them with overflow.\n",
    "\n",
    "*Note: animated transitions are currently not implemented when `uniformtext` is used.*"
   ]
  },
  {
   "cell_type": "code",
   "execution_count": null,
   "id": "837d833d",
   "metadata": {},
   "outputs": [],
   "source": [
    "import plotly.graph_objects as go\n",
    "import pandas as pd\n",
    "\n",
    "df = pd.read_csv('https://raw.githubusercontent.com/plotly/datasets/718417069ead87650b90472464c7565dc8c2cb1c/sunburst-coffee-flavors-complete.csv')\n",
    "\n",
    "fig = go.Figure(go.Sunburst(\n",
    "        ids = df.ids,\n",
    "        labels = df.labels,\n",
    "        parents = df.parents))\n",
    "fig.update_layout(uniformtext=dict(minsize=10, mode='hide'))\n",
    "fig.show()"
   ]
  },
  {
   "cell_type": "markdown",
   "id": "82c129aa",
   "metadata": {},
   "source": [
    "### Pattern Fills\n",
    "\n",
    "*New in 5.15*\n",
    "\n",
    "Sunburst charts support [patterns](/python/pattern-hatching-texture/) (also known as hatching or texture) in addition to color. In this example, we add a different pattern to each level of the hierarchy. We also specify the `solidity` of the pattern."
   ]
  },
  {
   "cell_type": "code",
   "execution_count": null,
   "id": "7b2b3ab4",
   "metadata": {},
   "outputs": [],
   "source": [
    "import plotly.graph_objects as go\n",
    "\n",
    "fig = go.Figure(\n",
    "    go.Sunburst(\n",
    "        labels=[\"Eve\", \"Cain\", \"Seth\", \"Enos\", \"Noam\", \"Abel\", \"Awan\", \"Enoch\", \"Azura\"],\n",
    "        parents=[\"\", \"Eve\", \"Eve\", \"Seth\", \"Seth\", \"Eve\", \"Eve\", \"Awan\", \"Eve\"],\n",
    "        values=[65, 14, 12, 10, 2, 6, 6, 4, 4],\n",
    "        branchvalues=\"total\",\n",
    "        textfont_size=16,\n",
    "        marker=dict(\n",
    "            pattern=dict(\n",
    "                shape=[\"\", \"/\", \"/\", \".\", \".\", \"/\", \"/\", \".\", \"/\"], solidity=0.9\n",
    "            )\n",
    "        ),\n",
    "    )\n",
    ")\n",
    "\n",
    "fig.update_layout(margin=dict(t=0, l=0, r=0, b=0))\n",
    "\n",
    "fig.show()\n"
   ]
  },
  {
   "cell_type": "markdown",
   "id": "83a9a459",
   "metadata": {},
   "source": [
    "### Sunburst chart with a continuous colorscale\n",
    "\n",
    "The example below visualizes a breakdown of sales (corresponding to sector width) and call success rate (corresponding to sector color) by region, county and salesperson level. For example, when exploring the data you can see that although the East region is behaving poorly, the Tyler county is still above average -- however, its performance is reduced by the poor success rate of salesperson GT.\n",
    "\n",
    "In the right subplot which has a `maxdepth` of two levels, click on a sector to see its breakdown to lower levels."
   ]
  },
  {
   "cell_type": "code",
   "execution_count": null,
   "id": "b6639ec6",
   "metadata": {},
   "outputs": [],
   "source": [
    "import plotly.graph_objects as go\n",
    "from plotly.subplots import make_subplots\n",
    "import pandas as pd\n",
    "\n",
    "df = pd.read_csv('https://raw.githubusercontent.com/plotly/datasets/master/sales_success.csv')\n",
    "print(df.head())\n",
    "\n",
    "levels = ['salesperson', 'county', 'region'] # levels used for the hierarchical chart\n",
    "color_columns = ['sales', 'calls']\n",
    "value_column = 'calls'\n",
    "\n",
    "def build_hierarchical_dataframe(df, levels, value_column, color_columns=None):\n",
    "    \"\"\"\n",
    "    Build a hierarchy of levels for Sunburst or Treemap charts.\n",
    "\n",
    "    Levels are given starting from the bottom to the top of the hierarchy,\n",
    "    ie the last level corresponds to the root.\n",
    "    \"\"\"\n",
    "    df_list = []\n",
    "    for i, level in enumerate(levels):\n",
    "        df_tree = pd.DataFrame(columns=['id', 'parent', 'value', 'color'])\n",
    "        dfg = df.groupby(levels[i:]).sum()\n",
    "        dfg = dfg.reset_index()\n",
    "        df_tree['id'] = dfg[level].copy()\n",
    "        if i < len(levels) - 1:\n",
    "            df_tree['parent'] = dfg[levels[i+1]].copy()\n",
    "        else:\n",
    "            df_tree['parent'] = 'total'\n",
    "        df_tree['value'] = dfg[value_column]\n",
    "        df_tree['color'] = dfg[color_columns[0]] / dfg[color_columns[1]]\n",
    "        df_list.append(df_tree)\n",
    "    total = pd.Series(dict(id='total', parent='',\n",
    "                              value=df[value_column].sum(),\n",
    "                              color=df[color_columns[0]].sum() / df[color_columns[1]].sum()), name=0)\n",
    "    df_list.append(total)\n",
    "    df_all_trees = pd.concat(df_list, ignore_index=True)\n",
    "    return df_all_trees\n",
    "\n",
    "\n",
    "df_all_trees = build_hierarchical_dataframe(df, levels, value_column, color_columns)\n",
    "average_score = df['sales'].sum() / df['calls'].sum()\n",
    "\n",
    "fig = make_subplots(1, 2, specs=[[{\"type\": \"domain\"}, {\"type\": \"domain\"}]],)\n",
    "\n",
    "fig.add_trace(go.Sunburst(\n",
    "    labels=df_all_trees['id'],\n",
    "    parents=df_all_trees['parent'],\n",
    "    values=df_all_trees['value'],\n",
    "    branchvalues='total',\n",
    "    marker=dict(\n",
    "        colors=df_all_trees['color'],\n",
    "        colorscale='RdBu',\n",
    "        cmid=average_score),\n",
    "    hovertemplate='<b>%{label} </b> <br> Sales: %{value}<br> Success rate: %{color:.2f}',\n",
    "    name=''\n",
    "    ), 1, 1)\n",
    "\n",
    "fig.add_trace(go.Sunburst(\n",
    "    labels=df_all_trees['id'],\n",
    "    parents=df_all_trees['parent'],\n",
    "    values=df_all_trees['value'],\n",
    "    branchvalues='total',\n",
    "    marker=dict(\n",
    "        colors=df_all_trees['color'],\n",
    "        colorscale='RdBu',\n",
    "        cmid=average_score),\n",
    "    hovertemplate='<b>%{label} </b> <br> Sales: %{value}<br> Success rate: %{color:.2f}',\n",
    "    maxdepth=2\n",
    "    ), 1, 2)\n",
    "\n",
    "fig.update_layout(margin=dict(t=10, b=10, r=10, l=10))\n",
    "fig.show()"
   ]
  },
  {
   "cell_type": "markdown",
   "id": "8998baf8",
   "metadata": {},
   "source": [
    "#### Reference\n",
    "\n",
    "See [function reference for `px.sunburst()`](https://plotly.com/python-api-reference/generated/plotly.express.sunburst) or https://plotly.com/python/reference/sunburst/ for more information and chart attribute options!\n"
   ]
  },
  {
   "cell_type": "markdown",
   "id": "9a270d5d",
   "metadata": {},
   "source": [
    "### What About Dash?\n",
    "\n",
    "[Dash](https://dash.plot.ly/) is an open-source framework for building analytical applications, with no Javascript required, and it is tightly integrated with the Plotly graphing library.\n",
    "\n",
    "Learn about how to install Dash at https://dash.plot.ly/installation.\n",
    "\n",
    "Everywhere in this page that you see `fig.show()`, you can display the same figure in a Dash application by passing it to the `figure` argument of the [`Graph` component](https://dash.plot.ly/dash-core-components/graph) from the built-in `dash_core_components` package like this:\n",
    "\n",
    "```python\n",
    "import plotly.graph_objects as go # or plotly.express as px\n",
    "fig = go.Figure() # or any Plotly Express function e.g. px.bar(...)\n",
    "# fig.add_trace( ... )\n",
    "# fig.update_layout( ... )\n",
    "\n",
    "from dash import Dash, dcc, html\n",
    "\n",
    "app = Dash()\n",
    "app.layout = html.Div([\n",
    "    dcc.Graph(figure=fig)\n",
    "])\n",
    "\n",
    "app.run_server(debug=True, use_reloader=False)  # Turn off reloader if inside Jupyter\n",
    "```"
   ]
  }
 ],
 "metadata": {
  "jupytext": {
   "notebook_metadata_filter": "all"
  },
  "kernelspec": {
   "display_name": "Python 3 (ipykernel)",
   "language": "python",
   "name": "python3"
  },
  "language_info": {
   "codemirror_mode": {
    "name": "ipython",
    "version": 3
   },
   "file_extension": ".py",
   "mimetype": "text/x-python",
   "name": "python",
   "nbconvert_exporter": "python",
   "pygments_lexer": "ipython3",
   "version": "3.10.11"
  },
  "plotly": {
   "description": "How to make Sunburst Charts.",
   "display_as": "basic",
   "language": "python",
   "layout": "base",
   "name": "Sunburst Charts",
   "order": 10,
   "page_type": "u-guide",
   "permalink": "python/sunburst-charts/",
   "thumbnail": "thumbnail/sunburst.gif"
  }
 },
 "nbformat": 4,
 "nbformat_minor": 5
}
