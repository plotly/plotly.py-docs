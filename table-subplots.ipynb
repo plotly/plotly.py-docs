{
 "cells": [
  {
   "cell_type": "markdown",
   "id": "eb3396d4",
   "metadata": {},
   "source": [
    "#### Import CSV Data"
   ]
  },
  {
   "cell_type": "code",
   "execution_count": null,
   "id": "1a27283e",
   "metadata": {},
   "outputs": [],
   "source": [
    "import plotly.graph_objects as go\n",
    "from plotly.subplots import make_subplots\n",
    "\n",
    "import pandas as pd\n",
    "import re\n",
    "\n",
    "df = pd.read_csv(\"https://raw.githubusercontent.com/plotly/datasets/master/Mining-BTC-180.csv\")\n",
    "\n",
    "for i, row in enumerate(df[\"Date\"]):\n",
    "    p = re.compile(\" 00:00:00\")\n",
    "    datetime = p.split(df[\"Date\"][i])[0]\n",
    "    df.iloc[i, 1] = datetime\n",
    "\n",
    "fig = make_subplots(\n",
    "    rows=3, cols=1,\n",
    "    shared_xaxes=True,\n",
    "    vertical_spacing=0.03,\n",
    "    specs=[[{\"type\": \"table\"}],\n",
    "           [{\"type\": \"scatter\"}],\n",
    "           [{\"type\": \"scatter\"}]]\n",
    ")\n",
    "\n",
    "fig.add_trace(\n",
    "    go.Scatter(\n",
    "        x=df[\"Date\"],\n",
    "        y=df[\"Mining-revenue-USD\"],\n",
    "        mode=\"lines\",\n",
    "        name=\"mining revenue\"\n",
    "    ),\n",
    "    row=3, col=1\n",
    ")\n",
    "\n",
    "fig.add_trace(\n",
    "    go.Scatter(\n",
    "        x=df[\"Date\"],\n",
    "        y=df[\"Hash-rate\"],\n",
    "        mode=\"lines\",\n",
    "        name=\"hash-rate-TH/s\"\n",
    "    ),\n",
    "    row=2, col=1\n",
    ")\n",
    "\n",
    "fig.add_trace(\n",
    "    go.Table(\n",
    "        header=dict(\n",
    "            values=[\"Date\", \"Number<br>Transactions\", \"Output<br>Volume (BTC)\",\n",
    "                    \"Market<br>Price\", \"Hash<br>Rate\", \"Cost per<br>trans-USD\",\n",
    "                    \"Mining<br>Revenue-USD\", \"Trasaction<br>fees-BTC\"],\n",
    "            font=dict(size=10),\n",
    "            align=\"left\"\n",
    "        ),\n",
    "        cells=dict(\n",
    "            values=[df[k].tolist() for k in df.columns[1:]],\n",
    "            align = \"left\")\n",
    "    ),\n",
    "    row=1, col=1\n",
    ")\n",
    "fig.update_layout(\n",
    "    height=800,\n",
    "    showlegend=False,\n",
    "    title_text=\"Bitcoin mining stats for 180 days\",\n",
    ")\n",
    "\n",
    "fig.show()"
   ]
  },
  {
   "cell_type": "markdown",
   "id": "dc723903",
   "metadata": {},
   "source": [
    "#### Reference\n",
    "See  https://plotly.com/python/reference/table/ for more information regarding chart attributes! <br>\n",
    "For examples of Plotly Tables, see: https://plotly.com/python/table/\n"
   ]
  },
  {
   "cell_type": "markdown",
   "id": "8c0dce9b",
   "metadata": {},
   "source": [
    "### What About Dash?\n",
    "\n",
    "[Dash](https://dash.plot.ly/) is an open-source framework for building analytical applications, with no Javascript required, and it is tightly integrated with the Plotly graphing library.\n",
    "\n",
    "Learn about how to install Dash at https://dash.plot.ly/installation.\n",
    "\n",
    "Everywhere in this page that you see `fig.show()`, you can display the same figure in a Dash application by passing it to the `figure` argument of the [`Graph` component](https://dash.plot.ly/dash-core-components/graph) from the built-in `dash_core_components` package like this:\n",
    "\n",
    "```python\n",
    "import plotly.graph_objects as go # or plotly.express as px\n",
    "fig = go.Figure() # or any Plotly Express function e.g. px.bar(...)\n",
    "# fig.add_trace( ... )\n",
    "# fig.update_layout( ... )\n",
    "\n",
    "from dash import Dash, dcc, html\n",
    "\n",
    "app = Dash()\n",
    "app.layout = html.Div([\n",
    "    dcc.Graph(figure=fig)\n",
    "])\n",
    "\n",
    "app.run_server(debug=True, use_reloader=False)  # Turn off reloader if inside Jupyter\n",
    "```"
   ]
  }
 ],
 "metadata": {
  "jupytext": {
   "notebook_metadata_filter": "all"
  },
  "kernelspec": {
   "display_name": "Python 3",
   "language": "python",
   "name": "python3"
  },
  "language_info": {
   "codemirror_mode": {
    "name": "ipython",
    "version": 3
   },
   "file_extension": ".py",
   "mimetype": "text/x-python",
   "name": "python",
   "nbconvert_exporter": "python",
   "pygments_lexer": "ipython3",
   "version": "3.7.3"
  },
  "plotly": {
   "description": "How to create a subplot with tables and charts in Python with Plotly.",
   "display_as": "multiple_axes",
   "language": "python",
   "layout": "base",
   "name": "Table and Chart Subplots",
   "order": 3,
   "page_type": "example_index",
   "permalink": "python/table-subplots/",
   "thumbnail": "thumbnail/table_subplots.jpg"
  }
 },
 "nbformat": 4,
 "nbformat_minor": 5
}
