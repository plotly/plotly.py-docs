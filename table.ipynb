{
 "cells": [
  {
   "cell_type": "markdown",
   "id": "3e536107",
   "metadata": {},
   "source": [
    "`go.Table` provides a Table object for detailed data viewing. The data are arranged in\n",
    "a grid of rows and columns. Most styling can be specified for header, columns, rows or individual cells. Table is using a column-major order, ie. the grid is represented as a vector of column vectors.\n",
    "\n",
    "Note that [Dash](https://dash.plotly.com/) provides a different type of [DataTable](https://dash.plotly.com/datatable).\n",
    "\n",
    "#### Basic Table"
   ]
  },
  {
   "cell_type": "code",
   "execution_count": null,
   "id": "acec6879",
   "metadata": {},
   "outputs": [],
   "source": [
    "import plotly.graph_objects as go\n",
    "\n",
    "fig = go.Figure(data=[go.Table(header=dict(values=['A Scores', 'B Scores']),\n",
    "                 cells=dict(values=[[100, 90, 80, 90], [95, 85, 75, 95]]))\n",
    "                     ])\n",
    "fig.show()"
   ]
  },
  {
   "cell_type": "markdown",
   "id": "82ab200d",
   "metadata": {},
   "source": [
    "#### Styled Table"
   ]
  },
  {
   "cell_type": "code",
   "execution_count": null,
   "id": "e30438cc",
   "metadata": {},
   "outputs": [],
   "source": [
    "import plotly.graph_objects as go\n",
    "\n",
    "fig = go.Figure(data=[go.Table(\n",
    "    header=dict(values=['A Scores', 'B Scores'],\n",
    "                line_color='darkslategray',\n",
    "                fill_color='lightskyblue',\n",
    "                align='left'),\n",
    "    cells=dict(values=[[100, 90, 80, 90], # 1st column\n",
    "                       [95, 85, 75, 95]], # 2nd column\n",
    "               line_color='darkslategray',\n",
    "               fill_color='lightcyan',\n",
    "               align='left'))\n",
    "])\n",
    "\n",
    "fig.update_layout(width=500, height=300)\n",
    "fig.show()"
   ]
  },
  {
   "cell_type": "markdown",
   "id": "55dba702",
   "metadata": {},
   "source": [
    "#### Use a Pandas Dataframe"
   ]
  },
  {
   "cell_type": "code",
   "execution_count": null,
   "id": "e750ede7",
   "metadata": {},
   "outputs": [],
   "source": [
    "import plotly.graph_objects as go\n",
    "import pandas as pd\n",
    "\n",
    "df = pd.read_csv('https://raw.githubusercontent.com/plotly/datasets/master/2014_usa_states.csv')\n",
    "\n",
    "fig = go.Figure(data=[go.Table(\n",
    "    header=dict(values=list(df.columns),\n",
    "                fill_color='paleturquoise',\n",
    "                align='left'),\n",
    "    cells=dict(values=[df.Rank, df.State, df.Postal, df.Population],\n",
    "               fill_color='lavender',\n",
    "               align='left'))\n",
    "])\n",
    "\n",
    "fig.show()"
   ]
  },
  {
   "cell_type": "markdown",
   "id": "54bb6fe3",
   "metadata": {},
   "source": [
    "#### Tables in Dash\n",
    "\n",
    "[Dash](https://plotly.com/dash/) is the best way to build analytical apps in Python using Plotly figures. To run the app below, run `pip install dash`, click \"Download\" to get the code and run `python app.py`.\n",
    "\n",
    "Get started  with [the official Dash docs](https://dash.plotly.com/installation) and **learn how to effortlessly [style](https://plotly.com/dash/design-kit/) & [deploy](https://plotly.com/dash/app-manager/) apps like this with <a class=\"plotly-red\" href=\"https://plotly.com/dash/\">Dash Enterprise</a>.**"
   ]
  },
  {
   "cell_type": "code",
   "execution_count": null,
   "id": "d760bf31",
   "metadata": {
    "hide_code": true
   },
   "outputs": [],
   "source": [
    "from IPython.display import IFrame\n",
    "snippet_url = 'https://python-docs-dash-snippets.herokuapp.com/python-docs-dash-snippets/'\n",
    "IFrame(snippet_url + 'table', width='100%', height=1200)"
   ]
  },
  {
   "cell_type": "markdown",
   "id": "03de918c",
   "metadata": {},
   "source": [
    "<div style=\"font-size: 0.9em;\"><div style=\"width: calc(100% - 30px); box-shadow: none; border: thin solid rgb(229, 229, 229);\"><div style=\"padding: 5px;\"><div><p><strong>Sign up for Dash Club</strong> → Free cheat sheets plus updates from Chris Parmer and Adam Schroeder delivered to your inbox every two months. Includes tips and tricks, community apps, and deep dives into the Dash architecture.\n",
    "<u><a href=\"https://go.plotly.com/dash-club?utm_source=Dash+Club+2022&utm_medium=graphing_libraries&utm_content=inline\">Join now</a></u>.</p></div></div></div></div>"
   ]
  },
  {
   "cell_type": "markdown",
   "id": "7727f1ea",
   "metadata": {},
   "source": [
    "#### Changing Row and Column Size"
   ]
  },
  {
   "cell_type": "code",
   "execution_count": null,
   "id": "28dc255d",
   "metadata": {},
   "outputs": [],
   "source": [
    "import plotly.graph_objects as go\n",
    "\n",
    "values = [['Salaries', 'Office', 'Merchandise', 'Legal', '<b>TOTAL<br>EXPENSES</b>'], #1st col\n",
    "  [\"Lorem ipsum dolor sit amet, tollit discere inermis pri ut. Eos ea iusto timeam, an prima laboramus vim. Id usu aeterno adversarium, summo mollis timeam vel ad\",\n",
    "  \"Lorem ipsum dolor sit amet, tollit discere inermis pri ut. Eos ea iusto timeam, an prima laboramus vim. Id usu aeterno adversarium, summo mollis timeam vel ad\",\n",
    "  \"Lorem ipsum dolor sit amet, tollit discere inermis pri ut. Eos ea iusto timeam, an prima laboramus vim. Id usu aeterno adversarium, summo mollis timeam vel ad\",\n",
    "  \"Lorem ipsum dolor sit amet, tollit discere inermis pri ut. Eos ea iusto timeam, an prima laboramus vim. Id usu aeterno adversarium, summo mollis timeam vel ad\",\n",
    "  \"Lorem ipsum dolor sit amet, tollit discere inermis pri ut. Eos ea iusto timeam, an prima laboramus vim. Id usu aeterno adversarium, summo mollis timeam vel ad\"]]\n",
    "\n",
    "\n",
    "fig = go.Figure(data=[go.Table(\n",
    "  columnorder = [1,2],\n",
    "  columnwidth = [80,400],\n",
    "  header = dict(\n",
    "    values = [['<b>EXPENSES</b><br>as of July 2017'],\n",
    "                  ['<b>DESCRIPTION</b>']],\n",
    "    line_color='darkslategray',\n",
    "    fill_color='royalblue',\n",
    "    align=['left','center'],\n",
    "    font=dict(color='white', size=12),\n",
    "    height=40\n",
    "  ),\n",
    "  cells=dict(\n",
    "    values=values,\n",
    "    line_color='darkslategray',\n",
    "    fill=dict(color=['paleturquoise', 'white']),\n",
    "    align=['left', 'center'],\n",
    "    font_size=12,\n",
    "    height=30)\n",
    "    )\n",
    "])\n",
    "fig.show()"
   ]
  },
  {
   "cell_type": "markdown",
   "id": "d064b408",
   "metadata": {},
   "source": [
    "#### Alternating Row Colors"
   ]
  },
  {
   "cell_type": "code",
   "execution_count": null,
   "id": "c8b6aecc",
   "metadata": {},
   "outputs": [],
   "source": [
    "import plotly.graph_objects as go\n",
    "\n",
    "headerColor = 'grey'\n",
    "rowEvenColor = 'lightgrey'\n",
    "rowOddColor = 'white'\n",
    "\n",
    "fig = go.Figure(data=[go.Table(\n",
    "  header=dict(\n",
    "    values=['<b>EXPENSES</b>','<b>Q1</b>','<b>Q2</b>','<b>Q3</b>','<b>Q4</b>'],\n",
    "    line_color='darkslategray',\n",
    "    fill_color=headerColor,\n",
    "    align=['left','center'],\n",
    "    font=dict(color='white', size=12)\n",
    "  ),\n",
    "  cells=dict(\n",
    "    values=[\n",
    "      ['Salaries', 'Office', 'Merchandise', 'Legal', '<b>TOTAL</b>'],\n",
    "      [1200000, 20000, 80000, 2000, 12120000],\n",
    "      [1300000, 20000, 70000, 2000, 130902000],\n",
    "      [1300000, 20000, 120000, 2000, 131222000],\n",
    "      [1400000, 20000, 90000, 2000, 14102000]],\n",
    "    line_color='darkslategray',\n",
    "    # 2-D list of colors for alternating rows\n",
    "    fill_color = [[rowOddColor,rowEvenColor,rowOddColor, rowEvenColor,rowOddColor]*5],\n",
    "    align = ['left', 'center'],\n",
    "    font = dict(color = 'darkslategray', size = 11)\n",
    "    ))\n",
    "])\n",
    "\n",
    "fig.show()"
   ]
  },
  {
   "cell_type": "markdown",
   "id": "8b0bbab8",
   "metadata": {},
   "source": [
    "#### Row Color Based on Variable"
   ]
  },
  {
   "cell_type": "code",
   "execution_count": null,
   "id": "59faf8dc",
   "metadata": {},
   "outputs": [],
   "source": [
    "import plotly.graph_objects as go\n",
    "\n",
    "import pandas as pd\n",
    "\n",
    "colors = ['rgb(239, 243, 255)', 'rgb(189, 215, 231)', 'rgb(107, 174, 214)',\n",
    "          'rgb(49, 130, 189)', 'rgb(8, 81, 156)']\n",
    "data = {'Year' : [2010, 2011, 2012, 2013, 2014], 'Color' : colors}\n",
    "df = pd.DataFrame(data)\n",
    "\n",
    "fig = go.Figure(data=[go.Table(\n",
    "  header=dict(\n",
    "    values=[\"Color\", \"<b>YEAR</b>\"],\n",
    "    line_color='white', fill_color='white',\n",
    "    align='center', font=dict(color='black', size=12)\n",
    "  ),\n",
    "  cells=dict(\n",
    "    values=[df.Color, df.Year],\n",
    "    line_color=[df.Color], fill_color=[df.Color],\n",
    "    align='center', font=dict(color='black', size=11)\n",
    "  ))\n",
    "])\n",
    "\n",
    "fig.show()"
   ]
  },
  {
   "cell_type": "markdown",
   "id": "9b9f7905",
   "metadata": {},
   "source": [
    "#### Cell Color Based on Variable"
   ]
  },
  {
   "cell_type": "code",
   "execution_count": null,
   "id": "a961f57f",
   "metadata": {},
   "outputs": [],
   "source": [
    "import plotly.graph_objects as go\n",
    "from plotly.colors import n_colors\n",
    "import numpy as np\n",
    "np.random.seed(1)\n",
    "\n",
    "colors = n_colors('rgb(255, 200, 200)', 'rgb(200, 0, 0)', 9, colortype='rgb')\n",
    "a = np.random.randint(low=0, high=9, size=10)\n",
    "b = np.random.randint(low=0, high=9, size=10)\n",
    "c = np.random.randint(low=0, high=9, size=10)\n",
    "\n",
    "fig = go.Figure(data=[go.Table(\n",
    "  header=dict(\n",
    "    values=['<b>Column A</b>', '<b>Column B</b>', '<b>Column C</b>'],\n",
    "    line_color='white', fill_color='white',\n",
    "    align='center',font=dict(color='black', size=12)\n",
    "  ),\n",
    "  cells=dict(\n",
    "    values=[a, b, c],\n",
    "    line_color=[np.array(colors)[a],np.array(colors)[b], np.array(colors)[c]],\n",
    "    fill_color=[np.array(colors)[a],np.array(colors)[b], np.array(colors)[c]],\n",
    "    align='center', font=dict(color='white', size=11)\n",
    "    ))\n",
    "])\n",
    "\n",
    "fig.show()"
   ]
  },
  {
   "cell_type": "markdown",
   "id": "35cd0a18",
   "metadata": {},
   "source": [
    "#### Reference\n",
    "For more information on tables and table attributes see: https://plotly.com/python/reference/table/.\n"
   ]
  },
  {
   "cell_type": "markdown",
   "id": "348b6af0",
   "metadata": {},
   "source": [
    "### What About Dash?\n",
    "\n",
    "[Dash](https://dash.plot.ly/) is an open-source framework for building analytical applications, with no Javascript required, and it is tightly integrated with the Plotly graphing library.\n",
    "\n",
    "Learn about how to install Dash at https://dash.plot.ly/installation.\n",
    "\n",
    "Everywhere in this page that you see `fig.show()`, you can display the same figure in a Dash application by passing it to the `figure` argument of the [`Graph` component](https://dash.plot.ly/dash-core-components/graph) from the built-in `dash_core_components` package like this:\n",
    "\n",
    "```python\n",
    "import plotly.graph_objects as go # or plotly.express as px\n",
    "fig = go.Figure() # or any Plotly Express function e.g. px.bar(...)\n",
    "# fig.add_trace( ... )\n",
    "# fig.update_layout( ... )\n",
    "\n",
    "from dash import Dash, dcc, html\n",
    "\n",
    "app = Dash()\n",
    "app.layout = html.Div([\n",
    "    dcc.Graph(figure=fig)\n",
    "])\n",
    "\n",
    "app.run_server(debug=True, use_reloader=False)  # Turn off reloader if inside Jupyter\n",
    "```"
   ]
  }
 ],
 "metadata": {
  "jupytext": {
   "notebook_metadata_filter": "all"
  },
  "kernelspec": {
   "display_name": "Python 3",
   "language": "python",
   "name": "python3"
  },
  "language_info": {
   "codemirror_mode": {
    "name": "ipython",
    "version": 3
   },
   "file_extension": ".py",
   "mimetype": "text/x-python",
   "name": "python",
   "nbconvert_exporter": "python",
   "pygments_lexer": "ipython3",
   "version": "3.8.8"
  },
  "plotly": {
   "description": "How to make tables in Python with Plotly.",
   "display_as": "basic",
   "language": "python",
   "layout": "base",
   "name": "Tables",
   "order": 11,
   "page_type": "u-guide",
   "permalink": "python/table/",
   "thumbnail": "thumbnail/table.gif"
  }
 },
 "nbformat": 4,
 "nbformat_minor": 5
}
