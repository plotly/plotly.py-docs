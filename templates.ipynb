{
 "cells": [
  {
   "cell_type": "markdown",
   "id": "6cc07b70",
   "metadata": {},
   "source": [
    "### Theming and templates\n",
    "\n",
    "The Plotly Python library comes pre-loaded with several themes that you can get started using right away, and it also provides support for creating and registering your own themes.\n",
    "\n",
    "> Note on terminology: Theming generally refers to the process of defining default styles for visual elements. Themes in plotly are implemented using objects called templates. Templates are slightly more general than traditional themes because in addition to defining default styles, templates can pre-populate a figure with visual elements like annotations, shapes, images, and more. In the documentation we will refer to the overall process of defining default styles as theming, and when in comes to the plotly API we will talk about how themes are implemented using templates.\n",
    "\n",
    "### Using built-in themes\n",
    "\n",
    "#### View available themes\n",
    "\n",
    "To see information about the available themes and the current default theme, display the `plotly.io.templates` configuration object like this."
   ]
  },
  {
   "cell_type": "code",
   "execution_count": null,
   "id": "0db34c78",
   "metadata": {},
   "outputs": [],
   "source": [
    "import plotly.io as pio\n",
    "pio.templates"
   ]
  },
  {
   "cell_type": "markdown",
   "id": "ca830919",
   "metadata": {},
   "source": [
    "From this, we can see that the default theme is `\"plotly\"`, and we can see the names of several additional themes that we can choose from.\n",
    "\n",
    "#### Specifying themes in Plotly Express\n",
    "\n",
    "All Plotly Express functions accept a `template` argument that can be set to the name of a registered theme (or to a `Template` object as discussed later in this section). Here is an example of using Plotly Express to build and display the same scatter plot with six different themes."
   ]
  },
  {
   "cell_type": "code",
   "execution_count": null,
   "id": "ce9d3b73",
   "metadata": {},
   "outputs": [],
   "source": [
    "import plotly.express as px\n",
    "\n",
    "df = px.data.gapminder()\n",
    "df_2007 = df.query(\"year==2007\")\n",
    "\n",
    "for template in [\"plotly\", \"plotly_white\", \"plotly_dark\", \"ggplot2\", \"seaborn\", \"simple_white\", \"none\"]:\n",
    "    fig = px.scatter(df_2007,\n",
    "                     x=\"gdpPercap\", y=\"lifeExp\", size=\"pop\", color=\"continent\",\n",
    "                     log_x=True, size_max=60,\n",
    "                     template=template, title=\"Gapminder 2007: '%s' theme\" % template)\n",
    "    fig.show()"
   ]
  },
  {
   "cell_type": "markdown",
   "id": "6374ae62",
   "metadata": {},
   "source": [
    "#### Specifying themes in graph object figures\n",
    "\n",
    "The theme for a particular graph object figure can be specified by setting the `template` property of the figure's `layout` to the name of a registered theme (or to a `Template` object as discussed later in this section). Here is an example of constructing a surface plot and then displaying it with each of six themes."
   ]
  },
  {
   "cell_type": "code",
   "execution_count": null,
   "id": "5120dc73",
   "metadata": {},
   "outputs": [],
   "source": [
    "import plotly.graph_objects as go\n",
    "import pandas as pd\n",
    "\n",
    "z_data = pd.read_csv(\"https://raw.githubusercontent.com/plotly/datasets/master/api_docs/mt_bruno_elevation.csv\")\n",
    "\n",
    "fig = go.Figure(\n",
    "    data=go.Surface(z=z_data.values),\n",
    "    layout=go.Layout(\n",
    "        title=dict(text=\"Mt Bruno Elevation\"),\n",
    "        width=500,\n",
    "        height=500,\n",
    "    ))\n",
    "\n",
    "for template in [\"plotly\", \"plotly_white\", \"plotly_dark\", \"ggplot2\", \"seaborn\", \"simple_white\", \"none\"]:\n",
    "    fig.update_layout(template=template, title=dict(text=\"Mt Bruno Elevation: '%s' theme\" % template))\n",
    "    fig.show()"
   ]
  },
  {
   "cell_type": "markdown",
   "id": "69912da9",
   "metadata": {},
   "source": [
    "#### Specifying a default themes\n",
    "\n",
    "If a theme is not provided to a Plotly Express function or to a graph object figure, then the default theme is used. The default theme starts out as `\"plotly\"`, but it can be changed by setting the `plotly.io.templates.default` property to the name of a registered theme.\n",
    "\n",
    "Here is an example of changing to default theme to `\"plotly_white\"` and then constructing a scatter plot with Plotly Express without providing a template.\n",
    "\n",
    "> Note: Default themes persist for the duration of a single session, but they do not persist across sessions. If you are working in an IPython kernel, this means that default themes will persist for the life of the kernel, but they will not persist across kernel restarts."
   ]
  },
  {
   "cell_type": "code",
   "execution_count": null,
   "id": "26e2d7c4",
   "metadata": {},
   "outputs": [],
   "source": [
    "import plotly.io as pio\n",
    "import plotly.express as px\n",
    "\n",
    "pio.templates.default = \"plotly_white\"\n",
    "\n",
    "df = px.data.gapminder()\n",
    "df_2007 = df.query(\"year==2007\")\n",
    "\n",
    "fig = px.scatter(df_2007,\n",
    "                 x=\"gdpPercap\", y=\"lifeExp\", size=\"pop\", color=\"continent\",\n",
    "                 log_x=True, size_max=60,\n",
    "                 title=\"Gapminder 2007: current default theme\")\n",
    "fig.show()"
   ]
  },
  {
   "cell_type": "markdown",
   "id": "a4756be9",
   "metadata": {},
   "source": [
    "#### Disable default theming\n",
    "\n",
    "If you do not wish to use any of the new themes by default, or you want your figures to look exactly the way they did prior to plotly.py version 4, you can disable default theming by setting the default theme to `\"none\"`."
   ]
  },
  {
   "cell_type": "code",
   "execution_count": null,
   "id": "ad1fa8f5",
   "metadata": {},
   "outputs": [],
   "source": [
    "import plotly.io as pio\n",
    "pio.templates.default = \"none\""
   ]
  },
  {
   "cell_type": "markdown",
   "id": "774836ae",
   "metadata": {},
   "source": [
    "### Creating themes\n",
    "\n",
    "#### Representing themes with Template objects\n",
    "\n",
    "Themes in plotly.py are represented by instances of the `Template` class from the `plotly.graph_objects.layout` module. A `Template` is a graph object that contains two top-level properties: `layout` and `data`. These template properties are described in their own sections below.\n",
    "\n",
    "#### The template layout property\n",
    "\n",
    "The `layout` property of a template is a graph object with the exact same structure as the `layout` property of a figure. When you provide values for properties of the template's `layout`, these values will be used as the defaults in any figure that this template is applied to.\n",
    "\n",
    "Here is an example that creates a template that sets the default title font to size 24 Rockwell, and then constructs a graph object figure with this template."
   ]
  },
  {
   "cell_type": "code",
   "execution_count": null,
   "id": "ee28b255",
   "metadata": {},
   "outputs": [],
   "source": [
    "import plotly.graph_objects as go\n",
    "\n",
    "large_rockwell_template = dict(\n",
    "    layout=go.Layout(title_font=dict(family=\"Rockwell\", size=24))\n",
    ")\n",
    "\n",
    "fig = go.Figure()\n",
    "fig.update_layout(title=dict(text=\"Figure Title\"),\n",
    "                  template=large_rockwell_template)\n",
    "fig.show()"
   ]
  },
  {
   "cell_type": "markdown",
   "id": "664d728e",
   "metadata": {},
   "source": [
    "> Note: this example uses magic underscore notation to write `go.Layout(title=dict(font=dict(...)))` as `go.Layout(title_font=dict(...))`\n",
    "\n",
    "#### The template data property\n",
    "\n",
    "The `data` property of a template is used to customize the default values of the properties of traces that are added to a figure that the template is applied to. This `data` property holds a graph object, with type `go.layout.template.Data`, that has a property named after each supported trace type. These trace type properties are then assigned lists or tuples of graph object traces of the corresponding type.\n",
    "\n",
    "Here is an example that creates a template that sets the default scatter trace markers to be size 20 diamonds, and then constructs a graph object figure with this template."
   ]
  },
  {
   "cell_type": "code",
   "execution_count": null,
   "id": "4227c077",
   "metadata": {},
   "outputs": [],
   "source": [
    "import plotly.graph_objects as go\n",
    "\n",
    "diamond_template = go.layout.Template()\n",
    "diamond_template.data.scatter = [go.Scatter(marker=dict(symbol=\"diamond\", size=20))]\n",
    "\n",
    "fig = go.Figure()\n",
    "fig.update_layout(template=diamond_template)\n",
    "fig.add_scatter(y=[2, 1, 3], mode=\"markers\")\n",
    "fig.show()"
   ]
  },
  {
   "cell_type": "markdown",
   "id": "1a7263ad",
   "metadata": {},
   "source": [
    "If a trace type property is set to a list of more than one trace, then the default properties are cycled as more traces are added to the figure. Here is an example that creates a template that cycles the default marker symbol for scatter traces, and then constructs a figure that uses this template."
   ]
  },
  {
   "cell_type": "code",
   "execution_count": null,
   "id": "36ff037f",
   "metadata": {},
   "outputs": [],
   "source": [
    "import plotly.graph_objects as go\n",
    "\n",
    "symbol_template = go.layout.Template()\n",
    "symbol_template.data.scatter = [\n",
    "    go.Scatter(marker=dict(symbol=\"diamond\", size=10)),\n",
    "    go.Scatter(marker=dict(symbol=\"square\", size=10)),\n",
    "    go.Scatter(marker=dict(symbol=\"circle\", size=10)),\n",
    "]\n",
    "\n",
    "fig = go.Figure()\n",
    "fig.update_layout(template=symbol_template)\n",
    "fig.add_scatter(y=[1, 2, 3], mode=\"markers\", name=\"first\")\n",
    "fig.add_scatter(y=[2, 3, 4], mode=\"markers\", name=\"second\")\n",
    "fig.add_scatter(y=[3, 4, 5], mode=\"markers\", name=\"third\")\n",
    "fig.add_scatter(y=[4, 5, 6], mode=\"markers\", name=\"forth\")\n",
    "fig.show()"
   ]
  },
  {
   "cell_type": "markdown",
   "id": "97227e79",
   "metadata": {},
   "source": [
    "Note that because we built the template with a list of 3 scatter trace [graph objects](/python/graph-objects/) (one each for the diamond, square, and circle symbols), the forth scatter trace in the figure cycles around and takes on the defaults specified in the first template trace (The diamond symbol).\n",
    "\n",
    "#### Theming object tuple properties\n",
    "\n",
    "Some properties in the figure hierarchy are specified as tuples of objects. For example, the text annotations for a graph object figure can be stored as a tuple of `go.layout.Annotation` objects in the `annotations` property of the figure's layout.\n",
    "\n",
    "To use a template to configure the default properties of all of the elements in an object tuple property (e.g. `layout.annotations`), use the `*defaults` property in the template that corresponds to the tuple property (e.g. `layout.template.layout.annotationdefaults`). The `*defaults` template property should be set to a single graph object that matches the type of the elements of the corresponding tuple. The properties of this `*defaults` object in the template will be applied to all elements of the object tuple in the figure that the template is applied to.\n",
    "\n",
    "Here is an example that creates a template that specifies the default annotation text color, and then constructs a figure that uses this template."
   ]
  },
  {
   "cell_type": "code",
   "execution_count": null,
   "id": "02561962",
   "metadata": {},
   "outputs": [],
   "source": [
    "import plotly.graph_objects as go\n",
    "\n",
    "annotation_template = go.layout.Template()\n",
    "annotation_template.layout.annotationdefaults = dict(font=dict(color=\"crimson\"))\n",
    "\n",
    "fig = go.Figure()\n",
    "fig.update_layout(\n",
    "     template=annotation_template,\n",
    "     annotations=[\n",
    "         dict(text=\"Look Here\", x=1, y=1),\n",
    "         dict(text=\"Look There\", x=2, y=2)\n",
    "     ]\n",
    " )\n",
    "fig.show()"
   ]
  },
  {
   "cell_type": "markdown",
   "id": "b496ac66",
   "metadata": {},
   "source": [
    "#### Including tuple elements in a theme\n",
    "\n",
    "The previous section described how to use a template to customize the default properties of tuple elements that are added to a figure that the template is applied to. This is useful for styling, for example, any annotations, shapes, or images that will eventually be added to the figure.\n",
    "\n",
    "It is also possible for a template to define tuple elements that should be included, as is, in any figure that the template is applied to. This is done by specifying a list of one or more tuple element graph objects (e.g. `go.layout.Annotation` objects) as the value of the corresponding tuple property in the template (e.g. at `template.layout.annotations`). Note that the `name` property of these tuple element graph objects must be set to a unique non-empty string.\n",
    "\n",
    "Here is an example that creates a template that adds a large semi-transparent \"DRAFT\" watermark to the middle of the figure, and constructs a figure using this template."
   ]
  },
  {
   "cell_type": "code",
   "execution_count": null,
   "id": "1eec613e",
   "metadata": {},
   "outputs": [],
   "source": [
    "import plotly.graph_objects as go\n",
    "\n",
    "draft_template = go.layout.Template()\n",
    "draft_template.layout.annotations = [\n",
    "    dict(\n",
    "        name=\"draft watermark\",\n",
    "        text=\"DRAFT\",\n",
    "        textangle=-30,\n",
    "        opacity=0.1,\n",
    "        font=dict(color=\"black\", size=100),\n",
    "        xref=\"paper\",\n",
    "        yref=\"paper\",\n",
    "        x=0.5,\n",
    "        y=0.5,\n",
    "        showarrow=False,\n",
    "    )\n",
    "]\n",
    "\n",
    "fig=go.Figure()\n",
    "fig.update_layout(template=draft_template)\n",
    "fig.show()"
   ]
  },
  {
   "cell_type": "markdown",
   "id": "70a69158",
   "metadata": {},
   "source": [
    "#### Customizing theme tuple elements in a figure\n",
    "\n",
    "The previous section described how a template can be used to add default tuple element graph objects (e.g. annotations, shapes, or images) to a figure. The properties of these default tuple elements can be customized from within the figure by adding an tuple element with a `templateitemname` property that matches the `name` property of the template object.\n",
    "\n",
    "Here is an example, using the same `draft_template` defined above, that customizes the watermark from within the figure to read \"CONFIDENTIAL\" rather than \"DRAFT\"."
   ]
  },
  {
   "cell_type": "code",
   "execution_count": null,
   "id": "36f07346",
   "metadata": {},
   "outputs": [],
   "source": [
    "import plotly.graph_objects as go\n",
    "\n",
    "draft_template = go.layout.Template()\n",
    "draft_template.layout.annotations = [\n",
    "    dict(\n",
    "        name=\"draft watermark\",\n",
    "        text=\"DRAFT\",\n",
    "        textangle=-30,\n",
    "        opacity=0.1,\n",
    "        font=dict(color=\"black\", size=100),\n",
    "        xref=\"paper\",\n",
    "        yref=\"paper\",\n",
    "        x=0.5,\n",
    "        y=0.5,\n",
    "        showarrow=False,\n",
    "    )\n",
    "]\n",
    "\n",
    "fig = go.Figure()\n",
    "fig.update_layout(\n",
    "    template=draft_template,\n",
    "    annotations=[\n",
    "        dict(\n",
    "            templateitemname=\"draft watermark\",\n",
    "            text=\"CONFIDENTIAL\",\n",
    "        )\n",
    "    ]\n",
    ")\n",
    "fig.show()"
   ]
  },
  {
   "cell_type": "markdown",
   "id": "1d98d587",
   "metadata": {},
   "source": [
    "#### Registering themes as named templates\n",
    "\n",
    "The examples above construct and configure a `Template` object and then pass that object as the template specification to graph object figures (as the `layout.template` property) or Plotly Express functions (as the `template` keyword argument). It is also possible to register custom templates by name so that the name itself can be used to refer to the template. To register a template, use dictionary-style assignment to associate the template object with a name in the `plotly.io.templates` configuration object.\n",
    "\n",
    "Here is an example of registering the draft watermark template from the previous sections as a template named `\"draft\"`. Then a graph object figure is created with the draft template specified by name."
   ]
  },
  {
   "cell_type": "code",
   "execution_count": null,
   "id": "b699e27b",
   "metadata": {},
   "outputs": [],
   "source": [
    "import plotly.graph_objects as go\n",
    "import plotly.io as pio\n",
    "\n",
    "pio.templates[\"draft\"] = go.layout.Template(\n",
    "    layout_annotations=[\n",
    "        dict(\n",
    "            name=\"draft watermark\",\n",
    "            text=\"DRAFT\",\n",
    "            textangle=-30,\n",
    "            opacity=0.1,\n",
    "            font=dict(color=\"black\", size=100),\n",
    "            xref=\"paper\",\n",
    "            yref=\"paper\",\n",
    "            x=0.5,\n",
    "            y=0.5,\n",
    "            showarrow=False,\n",
    "        )\n",
    "    ]\n",
    ")\n",
    "\n",
    "fig = go.Figure()\n",
    "fig.update_layout(template=\"draft\")\n",
    "fig.show()"
   ]
  },
  {
   "cell_type": "markdown",
   "id": "30b94280",
   "metadata": {},
   "source": [
    "> Note: this example uses magic underscore notation to write `go.layout.Template(layout=dict(annotations=[...]))` as ``go.layout.Template(layout_annotations=[...])`\n",
    "\n",
    "It is also possible to set your own custom template as the default so that you do not need to pass it by name when constructing graph object figures or calling Plotly Express functions."
   ]
  },
  {
   "cell_type": "code",
   "execution_count": null,
   "id": "da7dc8e2",
   "metadata": {},
   "outputs": [],
   "source": [
    "import plotly.graph_objects as go\n",
    "import plotly.io as pio\n",
    "\n",
    "pio.templates[\"draft\"] = go.layout.Template(\n",
    "    layout_annotations=[\n",
    "        dict(\n",
    "            name=\"draft watermark\",\n",
    "            text=\"DRAFT\",\n",
    "            textangle=-30,\n",
    "            opacity=0.1,\n",
    "            font=dict(color=\"black\", size=100),\n",
    "            xref=\"paper\",\n",
    "            yref=\"paper\",\n",
    "            x=0.5,\n",
    "            y=0.5,\n",
    "            showarrow=False,\n",
    "        )\n",
    "    ]\n",
    ")\n",
    "pio.templates.default = \"draft\"\n",
    "\n",
    "fig = go.Figure()\n",
    "fig.show()"
   ]
  },
  {
   "cell_type": "markdown",
   "id": "c68c5976",
   "metadata": {},
   "source": [
    "#### Combining themes\n",
    "\n",
    "You may have noticed that figures displayed with the custom templates defined above do not have the gray background and white gridlines that are part of the default styling of figures created with plotly.py. The reason for this is that the default styling is specified in a template named `\"plotly\"`, and specifying a custom template overrides the default `\"plotly\"` template.\n",
    "\n",
    "If you want the styling of a custom template to be applied on top of the default styling of the `\"plotly\"` template, then you will need to combine the custom template with the `\"plotly\"` template. Multiple registered templates (whether built-in or user-defined) can be combined by specifying a template string that contains multiple template names joined on `\"+\"` characters.\n",
    "\n",
    "Here is an example of setting the default template to be a combination of the built-in `\"plotly\"` template and the custom `\"draft\"` template from the previous example."
   ]
  },
  {
   "cell_type": "code",
   "execution_count": null,
   "id": "f615f7b8",
   "metadata": {},
   "outputs": [],
   "source": [
    "import plotly.graph_objects as go\n",
    "import plotly.io as pio\n",
    "\n",
    "pio.templates[\"draft\"] = go.layout.Template(\n",
    "    layout_annotations=[\n",
    "        dict(\n",
    "            name=\"draft watermark\",\n",
    "            text=\"DRAFT\",\n",
    "            textangle=-30,\n",
    "            opacity=0.1,\n",
    "            font=dict(color=\"black\", size=100),\n",
    "            xref=\"paper\",\n",
    "            yref=\"paper\",\n",
    "            x=0.5,\n",
    "            y=0.5,\n",
    "            showarrow=False,\n",
    "        )\n",
    "    ]\n",
    ")\n",
    "pio.templates.default = \"plotly+draft\"\n",
    "\n",
    "fig = go.Figure()\n",
    "fig.show()"
   ]
  },
  {
   "cell_type": "markdown",
   "id": "b91c1c24",
   "metadata": {},
   "source": [
    "Combining themes is also supported by Plotly Express"
   ]
  },
  {
   "cell_type": "code",
   "execution_count": null,
   "id": "422ada52",
   "metadata": {},
   "outputs": [],
   "source": [
    "import plotly.io as pio\n",
    "import plotly.express as px\n",
    "\n",
    "pio.templates[\"draft\"] = go.layout.Template(\n",
    "    layout_annotations=[\n",
    "        dict(\n",
    "            name=\"draft watermark\",\n",
    "            text=\"DRAFT\",\n",
    "            textangle=-30,\n",
    "            opacity=0.1,\n",
    "            font=dict(color=\"black\", size=100),\n",
    "            xref=\"paper\",\n",
    "            yref=\"paper\",\n",
    "            x=0.5,\n",
    "            y=0.5,\n",
    "            showarrow=False,\n",
    "        )\n",
    "    ]\n",
    ")\n",
    "pio.templates.default = \"plotly+draft\"\n",
    "\n",
    "df = px.data.gapminder()\n",
    "df_2007 = df.query(\"year==2007\")\n",
    "\n",
    "fig = px.scatter(df_2007,\n",
    "                 x=\"gdpPercap\", y=\"lifeExp\", size=\"pop\", color=\"continent\",\n",
    "                 log_x=True, size_max=60,\n",
    "                 title=\"Gapminder 2007: current default theme\")\n",
    "fig.show()"
   ]
  },
  {
   "cell_type": "markdown",
   "id": "efac672d",
   "metadata": {},
   "source": [
    "\n",
    "#### Saving and distributing custom themes\n",
    "\n",
    "The easiest way to save and distribute a custom template is to make a `*.py` file that creates and registers the template when it is imported. Here is an example of the contents of a file called `my_themes.py` that creates and registers the `\"draft\"` template when it is imported\n",
    "\n",
    "**my_themes.py**\n",
    "\n",
    "---\n",
    "\n",
    "```python\n",
    "import plotly.graph_objects as go\n",
    "import plotly.io as pio\n",
    "\n",
    "pio.templates[\"draft\"] = go.layout.Template(\n",
    "    layout_annotations=[\n",
    "        dict(\n",
    "            name=\"draft watermark\",\n",
    "            text=\"DRAFT\",\n",
    "            textangle=-30,\n",
    "            opacity=0.1,\n",
    "            font=dict(color=\"black\", size=100),\n",
    "            xref=\"paper\",\n",
    "            yref=\"paper\",\n",
    "            x=0.5,\n",
    "            y=0.5,\n",
    "            showarrow=False,\n",
    "        )\n",
    "    ]\n",
    ")\n",
    "```\n",
    "\n",
    "---\n",
    "\n",
    "To get access to the `\"draft\"` template, import the `my_themes` module.\n",
    "\n",
    "```python\n",
    "import my_themes\n",
    "import plotly.io as pio\n",
    "pio.templates.default = \"draft\"\n",
    "...\n",
    "```\n",
    "\n",
    "> Note: In order for the import to succeed, the `my_themes.py` file must be on Python's module search path. See https://docs.python.org/3/tutorial/modules.html#the-module-search-path for more information.\n"
   ]
  },
  {
   "cell_type": "markdown",
   "id": "8588c3f4",
   "metadata": {},
   "source": [
    "#### Examining built-in themes\n",
    "\n",
    "It may be useful to examine the contents and structure of the built-in templates when creating your own custom templates. The `Template` graph object for a registered template can be loaded using dictionary-style key access on the `plotly.io.templates` configuration object. Here is an example of loading the `Template` graph object for the `\"plotly\"` template, and then displaying the value of the template's `layout` property."
   ]
  },
  {
   "cell_type": "code",
   "execution_count": null,
   "id": "8f7f6105",
   "metadata": {},
   "outputs": [],
   "source": [
    "import plotly.io as pio\n",
    "plotly_template = pio.templates[\"plotly\"]\n",
    "plotly_template.layout"
   ]
  },
  {
   "cell_type": "markdown",
   "id": "6d0dbc45",
   "metadata": {},
   "source": [
    "### What About Dash?\n",
    "\n",
    "[Dash](https://dash.plot.ly/) is an open-source framework for building analytical applications, with no Javascript required, and it is tightly integrated with the Plotly graphing library.\n",
    "\n",
    "Learn about how to install Dash at https://dash.plot.ly/installation.\n",
    "\n",
    "Everywhere in this page that you see `fig.show()`, you can display the same figure in a Dash application by passing it to the `figure` argument of the [`Graph` component](https://dash.plot.ly/dash-core-components/graph) from the built-in `dash_core_components` package like this:\n",
    "\n",
    "```python\n",
    "import plotly.graph_objects as go # or plotly.express as px\n",
    "fig = go.Figure() # or any Plotly Express function e.g. px.bar(...)\n",
    "# fig.add_trace( ... )\n",
    "# fig.update_layout( ... )\n",
    "\n",
    "from dash import Dash, dcc, html\n",
    "\n",
    "app = Dash()\n",
    "app.layout = html.Div([\n",
    "    dcc.Graph(figure=fig)\n",
    "])\n",
    "\n",
    "app.run_server(debug=True, use_reloader=False)  # Turn off reloader if inside Jupyter\n",
    "```"
   ]
  }
 ],
 "metadata": {
  "jupytext": {
   "notebook_metadata_filter": "all"
  },
  "kernelspec": {
   "display_name": "Python 3",
   "language": "python",
   "name": "python3"
  },
  "language_info": {
   "codemirror_mode": {
    "name": "ipython",
    "version": 3
   },
   "file_extension": ".py",
   "mimetype": "text/x-python",
   "name": "python",
   "nbconvert_exporter": "python",
   "pygments_lexer": "ipython3",
   "version": "3.7.3"
  },
  "plotly": {
   "description": "Theming and templates with plotly with Python",
   "display_as": "file_settings",
   "language": "python",
   "layout": "base",
   "name": "Theming and templates",
   "order": 7,
   "page_type": "u-guide",
   "permalink": "python/templates/",
   "thumbnail": "thumbnail/theming-and-templates.png"
  }
 },
 "nbformat": 4,
 "nbformat_minor": 5
}
