{
 "cells": [
  {
   "cell_type": "markdown",
   "id": "f1c8721f",
   "metadata": {},
   "source": [
    "## Ternary contour plots"
   ]
  },
  {
   "cell_type": "markdown",
   "id": "cde8d955",
   "metadata": {},
   "source": [
    "A ternary contour plots represents isovalue lines of a quantity defined inside a [ternary diagram](https://en.wikipedia.org/wiki/Ternary_plot), i.e. as a function of three variables which sum is constant. Coordinates of the ternary plot often correspond to concentrations of three species, and the quantity represented as contours is some property (e.g., physical, chemical, thermodynamical) varying with the composition.\n",
    "\n",
    "For ternary contour plots, use the [figure factory](/python/figure-factories/) called ``create_ternary_contour``. The figure factory interpolates between given data points in order to compute the contours.\n",
    "\n",
    "Below we represent an example from metallurgy, where the mixing enthalpy is represented as a contour plot for aluminum-copper-yttrium (Al-Cu-Y) alloys.\n",
    "\n",
    "#### Simple ternary contour plot with plotly"
   ]
  },
  {
   "cell_type": "code",
   "execution_count": null,
   "id": "e649be30",
   "metadata": {},
   "outputs": [],
   "source": [
    "import plotly.figure_factory as ff\n",
    "import numpy as np\n",
    "Al = np.array([0. , 0. , 0., 0., 1./3, 1./3, 1./3, 2./3, 2./3, 1.])\n",
    "Cu = np.array([0., 1./3, 2./3, 1., 0., 1./3, 2./3, 0., 1./3, 0.])\n",
    "Y = 1 - Al - Cu\n",
    "# synthetic data for mixing enthalpy\n",
    "# See https://pycalphad.org/docs/latest/examples/TernaryExamples.html\n",
    "enthalpy = (Al - 0.01) * Cu * (Al - 0.52) * (Cu - 0.48) * (Y - 1)**2\n",
    "fig = ff.create_ternary_contour(np.array([Al, Y, Cu]), enthalpy,\n",
    "                                pole_labels=['Al', 'Y', 'Cu'],\n",
    "                                interp_mode='cartesian')\n",
    "fig.show()"
   ]
  },
  {
   "cell_type": "markdown",
   "id": "36cc79a2",
   "metadata": {},
   "source": [
    "#### Customized ternary contour plot"
   ]
  },
  {
   "cell_type": "code",
   "execution_count": null,
   "id": "dbaf5c58",
   "metadata": {},
   "outputs": [],
   "source": [
    "import plotly.figure_factory as ff\n",
    "import numpy as np\n",
    "Al = np.array([0. , 0. , 0., 0., 1./3, 1./3, 1./3, 2./3, 2./3, 1.])\n",
    "Cu = np.array([0., 1./3, 2./3, 1., 0., 1./3, 2./3, 0., 1./3, 0.])\n",
    "Y = 1 - Al - Cu\n",
    "# synthetic data for mixing enthalpy\n",
    "# See https://pycalphad.org/docs/latest/examples/TernaryExamples.html\n",
    "enthalpy = 2.e6 * (Al - 0.01) * Cu * (Al - 0.52) * (Cu - 0.48) * (Y - 1)**2 - 5000\n",
    "fig = ff.create_ternary_contour(np.array([Al, Y, Cu]), enthalpy,\n",
    "                                pole_labels=['Al', 'Y', 'Cu'],\n",
    "                                interp_mode='cartesian',\n",
    "                                ncontours=20,\n",
    "                                colorscale='Viridis',\n",
    "                                showscale=True,\n",
    "                                title=dict(\n",
    "                                  text='Mixing enthalpy of ternary alloy'\n",
    "                                ))\n",
    "fig.show()"
   ]
  },
  {
   "cell_type": "markdown",
   "id": "5062d134",
   "metadata": {},
   "source": [
    "#### Ternary contour plot with lines only"
   ]
  },
  {
   "cell_type": "code",
   "execution_count": null,
   "id": "08ebd554",
   "metadata": {},
   "outputs": [],
   "source": [
    "import plotly.figure_factory as ff\n",
    "import numpy as np\n",
    "Al = np.array([0. , 0. , 0., 0., 1./3, 1./3, 1./3, 2./3, 2./3, 1.])\n",
    "Cu = np.array([0., 1./3, 2./3, 1., 0., 1./3, 2./3, 0., 1./3, 0.])\n",
    "Y = 1 - Al - Cu\n",
    "# synthetic data for mixing enthalpy\n",
    "# See https://pycalphad.org/docs/latest/examples/TernaryExamples.html\n",
    "enthalpy = 2.e6 * (Al - 0.01) * Cu * (Al - 0.52) * (Cu - 0.48) * (Y - 1)**2 - 5000\n",
    "fig = ff.create_ternary_contour(np.array([Al, Y, Cu]), enthalpy,\n",
    "                                pole_labels=['Al', 'Y', 'Cu'],\n",
    "                                interp_mode='cartesian',\n",
    "                                ncontours=20,\n",
    "                                coloring='lines')\n",
    "fig.show()"
   ]
  },
  {
   "cell_type": "markdown",
   "id": "edb81fcc",
   "metadata": {},
   "source": [
    "#### Ternary contour plot with data points\n",
    "\n",
    "With `showmarkers=True`, data points used to compute the contours are also displayed. They are best visualized for contour lines (no solid coloring). At the moment data points lying on the edges of the diagram are not displayed, this will be improved in future versions."
   ]
  },
  {
   "cell_type": "code",
   "execution_count": null,
   "id": "1a3bffc1",
   "metadata": {},
   "outputs": [],
   "source": [
    "import plotly.figure_factory as ff\n",
    "import numpy as np\n",
    "Al, Cu = np.mgrid[0:1:7j, 0:1:7j]\n",
    "Al, Cu = Al.ravel(), Cu.ravel()\n",
    "mask = Al + Cu <= 1\n",
    "Al, Cu = Al[mask], Cu[mask]\n",
    "Y = 1 - Al - Cu\n",
    "\n",
    "enthalpy = (Al - 0.5) * (Cu - 0.5) * (Y - 1)**2\n",
    "fig = ff.create_ternary_contour(np.array([Al, Y, Cu]), enthalpy,\n",
    "                                pole_labels=['Al', 'Y', 'Cu'],\n",
    "                                ncontours=20,\n",
    "                                coloring='lines',\n",
    "                                showmarkers=True)\n",
    "fig.show()"
   ]
  },
  {
   "cell_type": "markdown",
   "id": "3c164e49",
   "metadata": {},
   "source": [
    "#### Interpolation mode\n",
    "\n",
    "Two modes are available in order to interpolate between data points: interpolation in Cartesian space (`interp_mode='cartesian'`) or interpolation using the [isometric log-ratio transformation](https://link.springer.com/article/10.1023/A:1023818214614) (see also [preprint](https://www.researchgate.net/profile/Leon_Parent2/post/What_is_the_best_approach_for_diagnosing_nutrient_disorders_and_formulating_fertilizer_recommendations/attachment/59d62a69c49f478072e9cf3f/AS%3A272541220835360%401441990298625/download/Egozcue+et+al+2003.pdf)),  `interp_mode='ilr'`. The `ilr` transformation preserves metrics in the [simplex](https://en.wikipedia.org/wiki/Simplex) but is not defined on its edges."
   ]
  },
  {
   "cell_type": "code",
   "execution_count": null,
   "id": "1ef62d1a",
   "metadata": {},
   "outputs": [],
   "source": [
    "a, b = np.mgrid[0:1:20j, 0:1:20j]\n",
    "mask = a + b <= 1\n",
    "a, b = a[mask], b[mask]\n",
    "coords = np.stack((a, b, 1 - a - b))\n",
    "value = np.sin(3.2 * np.pi * (a + b)) + np.sin(3 * np.pi * (a - b))\n",
    "fig = ff.create_ternary_contour(coords, value, ncontours=9)\n",
    "fig.show()"
   ]
  },
  {
   "cell_type": "code",
   "execution_count": null,
   "id": "5e522677",
   "metadata": {},
   "outputs": [],
   "source": [
    "a, b = np.mgrid[0:1:20j, 0:1:20j]\n",
    "mask = a + b <= 1\n",
    "a, b = a[mask], b[mask]\n",
    "coords = np.stack((a, b, 1 - a - b))\n",
    "value = np.sin(3.2 * np.pi * (a + b)) + np.sin(3 * np.pi * (a - b))\n",
    "fig = ff.create_ternary_contour(coords, value, interp_mode='cartesian',\n",
    "                                ncontours=9)\n",
    "fig.show()"
   ]
  },
  {
   "cell_type": "markdown",
   "id": "cd5256a0",
   "metadata": {},
   "source": [
    "#### Reference\n",
    "\n",
    "For more info on `ff.create_ternary_contour()`, see the [full function reference](https://plotly.com/python-api-reference/generated/plotly.figure_factory.create_ternary_contour.html)"
   ]
  },
  {
   "cell_type": "markdown",
   "id": "49732d09",
   "metadata": {},
   "source": [
    "### What About Dash?\n",
    "\n",
    "[Dash](https://dash.plot.ly/) is an open-source framework for building analytical applications, with no Javascript required, and it is tightly integrated with the Plotly graphing library.\n",
    "\n",
    "Learn about how to install Dash at https://dash.plot.ly/installation.\n",
    "\n",
    "Everywhere in this page that you see `fig.show()`, you can display the same figure in a Dash application by passing it to the `figure` argument of the [`Graph` component](https://dash.plot.ly/dash-core-components/graph) from the built-in `dash_core_components` package like this:\n",
    "\n",
    "```python\n",
    "import plotly.graph_objects as go # or plotly.express as px\n",
    "fig = go.Figure() # or any Plotly Express function e.g. px.bar(...)\n",
    "# fig.add_trace( ... )\n",
    "# fig.update_layout( ... )\n",
    "\n",
    "from dash import Dash, dcc, html\n",
    "\n",
    "app = Dash()\n",
    "app.layout = html.Div([\n",
    "    dcc.Graph(figure=fig)\n",
    "])\n",
    "\n",
    "app.run_server(debug=True, use_reloader=False)  # Turn off reloader if inside Jupyter\n",
    "```"
   ]
  }
 ],
 "metadata": {
  "jupytext": {
   "notebook_metadata_filter": "all"
  },
  "kernelspec": {
   "display_name": "Python 3",
   "language": "python",
   "name": "python3"
  },
  "language_info": {
   "codemirror_mode": {
    "name": "ipython",
    "version": 3
   },
   "file_extension": ".py",
   "mimetype": "text/x-python",
   "name": "python",
   "nbconvert_exporter": "python",
   "pygments_lexer": "ipython3",
   "version": "3.6.7"
  },
  "plotly": {
   "description": "How to make Ternary Contour Plots in Python with plotly",
   "display_as": "scientific",
   "language": "python",
   "layout": "base",
   "name": "Ternary contours",
   "order": 18,
   "page_type": "u-guide",
   "permalink": "python/ternary-contour/",
   "thumbnail": "thumbnail/ternary-contour.jpg"
  }
 },
 "nbformat": 4,
 "nbformat_minor": 5
}
