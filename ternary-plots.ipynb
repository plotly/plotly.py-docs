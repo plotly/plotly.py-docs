{
 "cells": [
  {
   "cell_type": "markdown",
   "id": "59f6277f",
   "metadata": {},
   "source": [
    "## Ternary Plots\n",
    "\n",
    "A ternary plot depicts the ratios of three variables as positions in an equilateral triangle.\n",
    "\n",
    "## Ternary scatter plot with Plotly Express\n",
    "\n",
    "[Plotly Express](/python/plotly-express/) is the easy-to-use, high-level interface to Plotly, which [operates on a variety of types of data](/python/px-arguments/) and produces [easy-to-style figures](/python/styling-plotly-express/).\n",
    "\n",
    "Here we use `px.scatter_ternary` to visualize the three-way split between the three major candidates in a municipal election."
   ]
  },
  {
   "cell_type": "code",
   "execution_count": null,
   "id": "a97ca618",
   "metadata": {},
   "outputs": [],
   "source": [
    "import plotly.express as px\n",
    "df = px.data.election()\n",
    "fig = px.scatter_ternary(df, a=\"Joly\", b=\"Coderre\", c=\"Bergeron\")\n",
    "fig.show()"
   ]
  },
  {
   "cell_type": "markdown",
   "id": "409a030e",
   "metadata": {},
   "source": [
    "We can scale and color the markers to produce a ternary bubble chart."
   ]
  },
  {
   "cell_type": "code",
   "execution_count": null,
   "id": "f3f083e8",
   "metadata": {},
   "outputs": [],
   "source": [
    "import plotly.express as px\n",
    "df = px.data.election()\n",
    "fig = px.scatter_ternary(df, a=\"Joly\", b=\"Coderre\", c=\"Bergeron\", hover_name=\"district\",\n",
    "    color=\"winner\", size=\"total\", size_max=15,\n",
    "    color_discrete_map = {\"Joly\": \"blue\", \"Bergeron\": \"green\", \"Coderre\":\"red\"} )\n",
    "fig.show()"
   ]
  },
  {
   "cell_type": "markdown",
   "id": "df5c35a1",
   "metadata": {},
   "source": [
    "### Ternary scatter plot with Plotly Graph Objects"
   ]
  },
  {
   "cell_type": "code",
   "execution_count": null,
   "id": "b8c6b222",
   "metadata": {},
   "outputs": [],
   "source": [
    "import plotly.graph_objects as go\n",
    "\n",
    "rawData = [\n",
    "    {'journalist':75,'developer':25,'designer':0,'label':'point 1'},\n",
    "    {'journalist':70,'developer':10,'designer':20,'label':'point 2'},\n",
    "    {'journalist':75,'developer':20,'designer':5,'label':'point 3'},\n",
    "    {'journalist':5,'developer':60,'designer':35,'label':'point 4'},\n",
    "    {'journalist':10,'developer':80,'designer':10,'label':'point 5'},\n",
    "    {'journalist':10,'developer':90,'designer':0,'label':'point 6'},\n",
    "    {'journalist':20,'developer':70,'designer':10,'label':'point 7'},\n",
    "    {'journalist':10,'developer':20,'designer':70,'label':'point 8'},\n",
    "    {'journalist':15,'developer':5,'designer':80,'label':'point 9'},\n",
    "    {'journalist':10,'developer':10,'designer':80,'label':'point 10'},\n",
    "    {'journalist':20,'developer':10,'designer':70,'label':'point 11'},\n",
    "];\n",
    "\n",
    "def makeAxis(title, tickangle):\n",
    "    return {\n",
    "      'title': {'text': title, 'font': { 'size': 20}},\n",
    "      'tickangle': tickangle,\n",
    "      'tickfont': { 'size': 15 },\n",
    "      'tickcolor': 'rgba(0,0,0,0)',\n",
    "      'ticklen': 5,\n",
    "      'showline': True,\n",
    "      'showgrid': True\n",
    "    }\n",
    "\n",
    "fig = go.Figure(go.Scatterternary({\n",
    "    'mode': 'markers',\n",
    "    'a': [i for i in map(lambda x: x['journalist'], rawData)],\n",
    "    'b': [i for i in map(lambda x: x['developer'], rawData)],\n",
    "    'c': [i for i in map(lambda x: x['designer'], rawData)],\n",
    "    'text': [i for i in map(lambda x: x['label'], rawData)],\n",
    "    'marker': {\n",
    "        'symbol': 100,\n",
    "        'color': '#DB7365',\n",
    "        'size': 14,\n",
    "        'line': { 'width': 2 }\n",
    "    }\n",
    "}))\n",
    "\n",
    "fig.update_layout({\n",
    "    'ternary': {\n",
    "        'sum': 100,\n",
    "        'aaxis': makeAxis('Journalist', 0),\n",
    "        'baxis': makeAxis('<br>Developer', 45),\n",
    "        'caxis': makeAxis('<br>Designer', -45)\n",
    "    },\n",
    "    'annotations': [{\n",
    "      'showarrow': False,\n",
    "      'text': 'Simple Ternary Plot with Markers',\n",
    "        'x': 0.5,\n",
    "        'y': 1.3,\n",
    "        'font': { 'size': 15 }\n",
    "    }]\n",
    "})\n",
    "\n",
    "fig.show()"
   ]
  },
  {
   "cell_type": "markdown",
   "id": "e0885190",
   "metadata": {},
   "source": [
    "#### Reference\n",
    "See [function reference for `px.(scatter_ternary)`](https://plotly.com/python-api-reference/generated/plotly.express.scatter_ternary) or https://plotly.com/python/reference/scatterternary/ for more information and chart attribute options!\n"
   ]
  },
  {
   "cell_type": "markdown",
   "id": "a0fba478",
   "metadata": {},
   "source": [
    "### What About Dash?\n",
    "\n",
    "[Dash](https://dash.plot.ly/) is an open-source framework for building analytical applications, with no Javascript required, and it is tightly integrated with the Plotly graphing library.\n",
    "\n",
    "Learn about how to install Dash at https://dash.plot.ly/installation.\n",
    "\n",
    "Everywhere in this page that you see `fig.show()`, you can display the same figure in a Dash application by passing it to the `figure` argument of the [`Graph` component](https://dash.plot.ly/dash-core-components/graph) from the built-in `dash_core_components` package like this:\n",
    "\n",
    "```python\n",
    "import plotly.graph_objects as go # or plotly.express as px\n",
    "fig = go.Figure() # or any Plotly Express function e.g. px.bar(...)\n",
    "# fig.add_trace( ... )\n",
    "# fig.update_layout( ... )\n",
    "\n",
    "from dash import Dash, dcc, html\n",
    "\n",
    "app = Dash()\n",
    "app.layout = html.Div([\n",
    "    dcc.Graph(figure=fig)\n",
    "])\n",
    "\n",
    "app.run_server(debug=True, use_reloader=False)  # Turn off reloader if inside Jupyter\n",
    "```"
   ]
  }
 ],
 "metadata": {
  "jupytext": {
   "notebook_metadata_filter": "all"
  },
  "kernelspec": {
   "display_name": "Python 3 (ipykernel)",
   "language": "python",
   "name": "python3"
  },
  "language_info": {
   "codemirror_mode": {
    "name": "ipython",
    "version": 3
   },
   "file_extension": ".py",
   "mimetype": "text/x-python",
   "name": "python",
   "nbconvert_exporter": "python",
   "pygments_lexer": "ipython3",
   "version": "3.11.10"
  },
  "plotly": {
   "description": "How to make Ternary plots in Python with Plotly.",
   "display_as": "scientific",
   "language": "python",
   "layout": "base",
   "name": "Ternary Plots",
   "order": 4,
   "page_type": "example_index",
   "permalink": "python/ternary-plots/",
   "thumbnail": "thumbnail/v4-migration.png"
  }
 },
 "nbformat": 4,
 "nbformat_minor": 5
}
