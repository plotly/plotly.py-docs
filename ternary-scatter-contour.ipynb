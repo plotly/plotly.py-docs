{
 "cells": [
  {
   "cell_type": "markdown",
   "id": "2b5c312c",
   "metadata": {},
   "source": [
    "#### Load and Process Data Files"
   ]
  },
  {
   "cell_type": "code",
   "execution_count": null,
   "id": "0b8ec016",
   "metadata": {},
   "outputs": [],
   "source": [
    "import json\n",
    "import pandas as pd\n",
    "\n",
    "contour_raw_data = pd.read_json('https://raw.githubusercontent.com/plotly/datasets/master/contour_data.json')\n",
    "scatter_raw_data = pd.read_json('https://raw.githubusercontent.com/plotly/datasets/master/scatter_data.json')\n",
    "\n",
    "scatter_data =  scatter_raw_data['Data']\n",
    "\n",
    "def clean_data(data_in):\n",
    "    \"\"\"\n",
    "    Cleans data in a format which can be conveniently\n",
    "    used for drawing traces. Takes a dictionary as the\n",
    "    input, and returns a list in the following format:\n",
    "\n",
    "    input = {'key': ['a b c']}\n",
    "    output = [key, [a, b, c]]\n",
    "    \"\"\"\n",
    "    key = list(data_in.keys())[0]\n",
    "    data_out = [key]\n",
    "    for i in data_in[key]:\n",
    "        data_out.append(list(map(float, i.split(' '))))\n",
    "\n",
    "    return data_out\n",
    "\n",
    "\n",
    "#Example:\n",
    "print(clean_data({'L1': ['.03 0.5 0.47','0.4 0.5 0.1']}))"
   ]
  },
  {
   "cell_type": "markdown",
   "id": "798a2772",
   "metadata": {},
   "source": [
    "#### Create Ternary Scatter Plot:"
   ]
  },
  {
   "cell_type": "code",
   "execution_count": null,
   "id": "94585cce",
   "metadata": {},
   "outputs": [],
   "source": [
    "import plotly.graph_objects as go\n",
    "\n",
    "a_list = []\n",
    "b_list = []\n",
    "c_list = []\n",
    "text = []\n",
    "\n",
    "for raw_data in scatter_data:\n",
    "    data = clean_data(raw_data)\n",
    "    text.append(data[0])\n",
    "    c_list.append(data[1][0])\n",
    "    a_list.append(data[1][1])\n",
    "    b_list.append(data[1][2])\n",
    "\n",
    "fig = go.Figure(go.Scatterternary(\n",
    "  text=text,\n",
    "  a=a_list,\n",
    "  b=b_list,\n",
    "  c=c_list,\n",
    "  mode='markers',\n",
    "  marker={'symbol': 100,\n",
    "          'color': 'green',\n",
    "          'size': 10},\n",
    "))\n",
    "\n",
    "fig.update_layout({\n",
    "    'title': 'Ternary Scatter Plot',\n",
    "    'ternary':\n",
    "        {\n",
    "        'sum':1,\n",
    "        'aaxis':{'title': 'X', 'min': 0.01, 'linewidth':2, 'ticks':'outside' },\n",
    "        'baxis':{'title': 'W', 'min': 0.01, 'linewidth':2, 'ticks':'outside' },\n",
    "        'caxis':{'title': 'S', 'min': 0.01, 'linewidth':2, 'ticks':'outside' }\n",
    "    },\n",
    "    'showlegend': False\n",
    "})\n",
    "\n",
    "fig.show()"
   ]
  },
  {
   "cell_type": "markdown",
   "id": "15e8b10c",
   "metadata": {},
   "source": [
    "#### Create Ternary Contour Plot:"
   ]
  },
  {
   "cell_type": "code",
   "execution_count": null,
   "id": "9225051c",
   "metadata": {},
   "outputs": [],
   "source": [
    "import plotly.graph_objects as go\n",
    "\n",
    "\n",
    "contour_dict = contour_raw_data['Data']\n",
    "\n",
    "# Defining a colormap:\n",
    "colors = ['#8dd3c7','#ffffb3','#bebada',\n",
    "          '#fb8072','#80b1d3','#fdb462',\n",
    "          '#b3de69','#fccde5','#d9d9d9',\n",
    "          '#bc80bd']\n",
    "colors_iterator = iter(colors)\n",
    "\n",
    "fig = go.Figure()\n",
    "\n",
    "for raw_data in contour_dict:\n",
    "    data = clean_data(raw_data)\n",
    "\n",
    "    a = [inner_data[0] for inner_data in data[1:]]\n",
    "    a.append(data[1][0]) # Closing the loop\n",
    "\n",
    "    b = [inner_data[1] for inner_data in data[1:]]\n",
    "    b.append(data[1][1]) # Closing the loop\n",
    "\n",
    "    c = [inner_data[2] for inner_data in data[1:]]\n",
    "    c.append(data[1][2]) # Closing the loop\n",
    "\n",
    "    fig.add_trace(go.Scatterternary(\n",
    "        text = data[0],\n",
    "        a=a, b=b, c=c, mode='lines',\n",
    "        line=dict(color='#444', shape='spline'),\n",
    "        fill='toself',\n",
    "        fillcolor = colors_iterator.__next__()\n",
    "    ))\n",
    "\n",
    "fig.update_layout(title = 'Ternary Contour Plot')\n",
    "fig.show()"
   ]
  },
  {
   "cell_type": "code",
   "execution_count": null,
   "id": "8b0f6fc5",
   "metadata": {},
   "outputs": [],
   "source": []
  },
  {
   "cell_type": "markdown",
   "id": "dbaebb1e",
   "metadata": {},
   "source": [
    "### What About Dash?\n",
    "\n",
    "[Dash](https://dash.plot.ly/) is an open-source framework for building analytical applications, with no Javascript required, and it is tightly integrated with the Plotly graphing library.\n",
    "\n",
    "Learn about how to install Dash at https://dash.plot.ly/installation.\n",
    "\n",
    "Everywhere in this page that you see `fig.show()`, you can display the same figure in a Dash application by passing it to the `figure` argument of the [`Graph` component](https://dash.plot.ly/dash-core-components/graph) from the built-in `dash_core_components` package like this:\n",
    "\n",
    "```python\n",
    "import plotly.graph_objects as go # or plotly.express as px\n",
    "fig = go.Figure() # or any Plotly Express function e.g. px.bar(...)\n",
    "# fig.add_trace( ... )\n",
    "# fig.update_layout( ... )\n",
    "\n",
    "from dash import Dash, dcc, html\n",
    "\n",
    "app = Dash()\n",
    "app.layout = html.Div([\n",
    "    dcc.Graph(figure=fig)\n",
    "])\n",
    "\n",
    "app.run_server(debug=True, use_reloader=False)  # Turn off reloader if inside Jupyter\n",
    "```"
   ]
  }
 ],
 "metadata": {
  "jupytext": {
   "notebook_metadata_filter": "all"
  },
  "kernelspec": {
   "display_name": "Python 3",
   "language": "python",
   "name": "python3"
  },
  "language_info": {
   "codemirror_mode": {
    "name": "ipython",
    "version": 3
   },
   "file_extension": ".py",
   "mimetype": "text/x-python",
   "name": "python",
   "nbconvert_exporter": "python",
   "pygments_lexer": "ipython3",
   "version": "3.6.7"
  },
  "plotly": {
   "description": "How to make a scatter plot overlaid on ternary contour in Python with Plotly.",
   "display_as": "scientific",
   "language": "python",
   "layout": "base",
   "name": "Ternary Overlay",
   "order": 8,
   "page_type": "u-guide",
   "permalink": "python/ternary-scatter-contour/",
   "thumbnail": "thumbnail/ternary-scatter-contour.jpg"
  }
 },
 "nbformat": 4,
 "nbformat_minor": 5
}
