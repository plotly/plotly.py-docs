{
 "cells": [
  {
   "cell_type": "markdown",
   "id": "7cf2f052",
   "metadata": {},
   "source": [
    "#### Tickmode - Linear"
   ]
  },
  {
   "cell_type": "markdown",
   "id": "04e4d1d5",
   "metadata": {},
   "source": [
    "If `\"linear\"`, the placement of the ticks is determined by a starting position `tick0` and a tick step `dtick`"
   ]
  },
  {
   "cell_type": "code",
   "execution_count": null,
   "id": "87a1a2bb",
   "metadata": {},
   "outputs": [],
   "source": [
    "import plotly.graph_objects as go\n",
    "\n",
    "fig = go.Figure(go.Scatter(\n",
    "    x = [1, 2, 3, 4, 5, 6, 7, 8, 9, 10, 11, 12],\n",
    "    y = [28.8, 28.5, 37, 56.8, 69.7, 79.7, 78.5, 77.8, 74.1, 62.6, 45.3, 39.9]\n",
    "))\n",
    "\n",
    "fig.update_layout(\n",
    "    xaxis = dict(\n",
    "        tickmode = 'linear',\n",
    "        tick0 = 0.5,\n",
    "        dtick = 0.75\n",
    "    )\n",
    ")\n",
    "\n",
    "fig.show()"
   ]
  },
  {
   "cell_type": "markdown",
   "id": "c0e51e33",
   "metadata": {},
   "source": [
    "#### Tickmode - Array"
   ]
  },
  {
   "cell_type": "markdown",
   "id": "8a06c722",
   "metadata": {},
   "source": [
    "If `\"array\"`, the placement of the ticks is set via `tickvals` and the tick text is `ticktext`."
   ]
  },
  {
   "cell_type": "code",
   "execution_count": null,
   "id": "6ff387df",
   "metadata": {},
   "outputs": [],
   "source": [
    "import plotly.graph_objects as go\n",
    "\n",
    "fig = go.Figure(go.Scatter(\n",
    "    x = [1, 2, 3, 4, 5, 6, 7, 8, 9, 10, 11, 12],\n",
    "    y = [28.8, 28.5, 37, 56.8, 69.7, 79.7, 78.5, 77.8, 74.1, 62.6, 45.3, 39.9]\n",
    "))\n",
    "\n",
    "fig.update_layout(\n",
    "    xaxis = dict(\n",
    "        tickmode = 'array',\n",
    "        tickvals = [1, 3, 5, 7, 9, 11],\n",
    "        ticktext = ['One', 'Three', 'Five', 'Seven', 'Nine', 'Eleven']\n",
    "    )\n",
    ")\n",
    "\n",
    "fig.show()"
   ]
  },
  {
   "cell_type": "markdown",
   "id": "2b0116ac",
   "metadata": {},
   "source": [
    "### Dynamic tickmode in Dash\n",
    "\n",
    "[Dash](https://plotly.com/dash/) is the best way to build analytical apps in Python using Plotly figures. To run the app below, run `pip install dash`, click \"Download\" to get the code and run `python app.py`.\n",
    "\n",
    "Get started  with [the official Dash docs](https://dash.plotly.com/installation) and **learn how to effortlessly [style](https://plotly.com/dash/design-kit/) & [deploy](https://plotly.com/dash/app-manager/) apps like this with <a class=\"plotly-red\" href=\"https://plotly.com/dash/\">Dash Enterprise</a>.**\n"
   ]
  },
  {
   "cell_type": "code",
   "execution_count": null,
   "id": "ffd0c265",
   "metadata": {
    "hide_code": true
   },
   "outputs": [],
   "source": [
    "from IPython.display import IFrame\n",
    "snippet_url = 'https://python-docs-dash-snippets.herokuapp.com/python-docs-dash-snippets/'\n",
    "IFrame(snippet_url + 'tick-formatting', width='100%', height=1200)"
   ]
  },
  {
   "cell_type": "markdown",
   "id": "c1056ff6",
   "metadata": {},
   "source": [
    "<div style=\"font-size: 0.9em;\"><div style=\"width: calc(100% - 30px); box-shadow: none; border: thin solid rgb(229, 229, 229);\"><div style=\"padding: 5px;\"><div><p><strong>Sign up for Dash Club</strong> → Free cheat sheets plus updates from Chris Parmer and Adam Schroeder delivered to your inbox every two months. Includes tips and tricks, community apps, and deep dives into the Dash architecture.\n",
    "<u><a href=\"https://go.plotly.com/dash-club?utm_source=Dash+Club+2022&utm_medium=graphing_libraries&utm_content=inline\">Join now</a></u>.</p></div></div></div></div>"
   ]
  },
  {
   "cell_type": "markdown",
   "id": "2c5028a5",
   "metadata": {},
   "source": [
    "#### Using Tickformat Attribute"
   ]
  },
  {
   "cell_type": "markdown",
   "id": "9375702a",
   "metadata": {},
   "source": [
    "For more formatting types, see: https://github.com/d3/d3-format/blob/master/README.md#locale_format"
   ]
  },
  {
   "cell_type": "code",
   "execution_count": null,
   "id": "167de127",
   "metadata": {},
   "outputs": [],
   "source": [
    "import plotly.graph_objects as go\n",
    "\n",
    "fig = go.Figure(go.Scatter(\n",
    "    x = [1, 2, 3, 4, 5, 6, 7, 8, 9, 10, 11, 12],\n",
    "    y = [28.8, 28.5, 37, 56.8, 69.7, 79.7, 78.5, 77.8, 74.1, 62.6, 45.3, 39.9]\n",
    "))\n",
    "\n",
    "fig.update_layout(yaxis_tickformat = '%')\n",
    "\n",
    "fig.show()"
   ]
  },
  {
   "cell_type": "markdown",
   "id": "d007d213",
   "metadata": {},
   "source": [
    "#### Using Tickformat Attribute - Date/Time"
   ]
  },
  {
   "cell_type": "markdown",
   "id": "f5f48e8c",
   "metadata": {},
   "source": [
    "For more date/time formatting types, see: https://github.com/d3/d3-time-format/blob/master/README.md"
   ]
  },
  {
   "cell_type": "code",
   "execution_count": null,
   "id": "1da1dc27",
   "metadata": {},
   "outputs": [],
   "source": [
    "import plotly.graph_objects as go\n",
    "\n",
    "import pandas as pd\n",
    "\n",
    "df = pd.read_csv('https://raw.githubusercontent.com/plotly/datasets/master/finance-charts-apple.csv')\n",
    "\n",
    "fig = go.Figure(go.Scatter(\n",
    "    x = df['Date'],\n",
    "    y = df['AAPL.High'],\n",
    "))\n",
    "\n",
    "fig.update_layout(\n",
    "    title = 'Time Series with Custom Date-Time Format',\n",
    "    xaxis_tickformat = '%d %B (%a)<br>%Y'\n",
    ")\n",
    "\n",
    "fig.show()"
   ]
  },
  {
   "cell_type": "markdown",
   "id": "27ee02ad",
   "metadata": {},
   "source": [
    "#### Using Exponentformat Attribute"
   ]
  },
  {
   "cell_type": "code",
   "execution_count": null,
   "id": "1be17032",
   "metadata": {},
   "outputs": [],
   "source": [
    "import plotly.graph_objects as go\n",
    "\n",
    "fig = go.Figure(go.Scatter(\n",
    "    x = [1, 2, 3, 4, 5, 6, 7, 8, 9, 10, 11, 12],\n",
    "    y = [68000, 52000, 60000, 20000, 95000, 40000, 60000, 79000, 74000, 42000, 20000, 90000]\n",
    "))\n",
    "\n",
    "fig.update_layout(\n",
    "    yaxis = dict(\n",
    "        showexponent = 'all',\n",
    "        exponentformat = 'e'\n",
    "    )\n",
    ")\n",
    "\n",
    "fig.show()"
   ]
  },
  {
   "cell_type": "markdown",
   "id": "c2003c5c",
   "metadata": {},
   "source": [
    "#### Tickformatstops to customize for different zoom levels"
   ]
  },
  {
   "cell_type": "code",
   "execution_count": null,
   "id": "a9eadac8",
   "metadata": {},
   "outputs": [],
   "source": [
    "import plotly.graph_objects as go\n",
    "\n",
    "import pandas as pd\n",
    "\n",
    "df = pd.read_csv('https://raw.githubusercontent.com/plotly/datasets/master/finance-charts-apple.csv')\n",
    "\n",
    "fig = go.Figure(go.Scatter(\n",
    "    x = df['Date'],\n",
    "    y = df['mavg']\n",
    "))\n",
    "\n",
    "fig.update_layout(\n",
    "    xaxis_tickformatstops = [\n",
    "        dict(dtickrange=[None, 1000], value=\"%H:%M:%S.%L ms\"),\n",
    "        dict(dtickrange=[1000, 60000], value=\"%H:%M:%S s\"),\n",
    "        dict(dtickrange=[60000, 3600000], value=\"%H:%M m\"),\n",
    "        dict(dtickrange=[3600000, 86400000], value=\"%H:%M h\"),\n",
    "        dict(dtickrange=[86400000, 604800000], value=\"%e. %b d\"),\n",
    "        dict(dtickrange=[604800000, \"M1\"], value=\"%e. %b w\"),\n",
    "        dict(dtickrange=[\"M1\", \"M12\"], value=\"%b '%y M\"),\n",
    "        dict(dtickrange=[\"M12\", None], value=\"%Y Y\")\n",
    "    ]\n",
    ")\n",
    "\n",
    "fig.show()"
   ]
  },
  {
   "cell_type": "markdown",
   "id": "a929ae8b",
   "metadata": {},
   "source": [
    "#### Placing ticks and gridlines between categories"
   ]
  },
  {
   "cell_type": "code",
   "execution_count": null,
   "id": "6c476b23",
   "metadata": {},
   "outputs": [],
   "source": [
    "import plotly.graph_objects as go\n",
    "\n",
    "fig = go.Figure(go.Bar(\n",
    "    x = [\"apples\", \"oranges\", \"pears\"],\n",
    "    y = [1, 2, 3]\n",
    "))\n",
    "\n",
    "fig.update_xaxes(\n",
    "    showgrid=True,\n",
    "    ticks=\"outside\",\n",
    "    tickson=\"boundaries\",\n",
    "    ticklen=20\n",
    ")\n",
    "\n",
    "fig.show()"
   ]
  },
  {
   "cell_type": "markdown",
   "id": "f33c48cc",
   "metadata": {},
   "source": [
    "#### Reference\n",
    "See https://plotly.com/python/reference/layout/xaxis/ for more information and chart attribute options!\n"
   ]
  },
  {
   "cell_type": "markdown",
   "id": "61b890e0",
   "metadata": {},
   "source": [
    "### What About Dash?\n",
    "\n",
    "[Dash](https://dash.plot.ly/) is an open-source framework for building analytical applications, with no Javascript required, and it is tightly integrated with the Plotly graphing library.\n",
    "\n",
    "Learn about how to install Dash at https://dash.plot.ly/installation.\n",
    "\n",
    "Everywhere in this page that you see `fig.show()`, you can display the same figure in a Dash application by passing it to the `figure` argument of the [`Graph` component](https://dash.plot.ly/dash-core-components/graph) from the built-in `dash_core_components` package like this:\n",
    "\n",
    "```python\n",
    "import plotly.graph_objects as go # or plotly.express as px\n",
    "fig = go.Figure() # or any Plotly Express function e.g. px.bar(...)\n",
    "# fig.add_trace( ... )\n",
    "# fig.update_layout( ... )\n",
    "\n",
    "from dash import Dash, dcc, html\n",
    "\n",
    "app = Dash()\n",
    "app.layout = html.Div([\n",
    "    dcc.Graph(figure=fig)\n",
    "])\n",
    "\n",
    "app.run_server(debug=True, use_reloader=False)  # Turn off reloader if inside Jupyter\n",
    "```"
   ]
  }
 ],
 "metadata": {
  "jupytext": {
   "notebook_metadata_filter": "all"
  },
  "kernelspec": {
   "display_name": "Python 3",
   "language": "python",
   "name": "python3"
  },
  "language_info": {
   "codemirror_mode": {
    "name": "ipython",
    "version": 3
   },
   "file_extension": ".py",
   "mimetype": "text/x-python",
   "name": "python",
   "nbconvert_exporter": "python",
   "pygments_lexer": "ipython3",
   "version": "3.8.8"
  },
  "plotly": {
   "description": "How to format axes ticks in Python with Plotly.",
   "display_as": "file_settings",
   "language": "python",
   "layout": "base",
   "name": "Formatting Ticks",
   "order": 12,
   "permalink": "python/tick-formatting/",
   "thumbnail": "thumbnail/tick-formatting.gif"
  }
 },
 "nbformat": 4,
 "nbformat_minor": 5
}
