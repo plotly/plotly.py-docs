{
 "cells": [
  {
   "cell_type": "markdown",
   "id": "96f31e15",
   "metadata": {},
   "source": [
    "A [Choropleth Map](https://en.wikipedia.org/wiki/Choropleth_map) is a map composed of colored polygons. It is used to represent spatial variations of a quantity. This page documents how to build **tile-map** choropleth maps, but you can also build [**outline** choropleth maps](/python/choropleth-maps).\n",
    "\n",
    "Below we show how to create Choropleth Maps using either Plotly Express' `px.choropleth_map` function or the lower-level `go.Choroplethmap` graph object.\n",
    "\n",
    "### Introduction: main parameters for choropleth tile maps\n",
    "\n",
    "Making choropleth maps requires two main types of input:\n",
    "\n",
    "1. GeoJSON-formatted geometry information where each feature has either an `id` field or some identifying value in `properties`.\n",
    "2. A list of values indexed by feature identifier.\n",
    "\n",
    "The GeoJSON data is passed to the `geojson` argument, and the data is passed into the `color` argument of `px.choropleth_map` (`z` if using `graph_objects`), in the same order as the IDs are passed into the `location` argument.\n",
    "\n",
    "**Note** the `geojson` attribute can also be the URL to a GeoJSON file, which can speed up map rendering in certain cases.\n",
    "\n",
    "#### GeoJSON with `feature.id`\n",
    "\n",
    "Here we load a GeoJSON file containing the geometry information for US counties, where `feature.id` is a [FIPS code](https://en.wikipedia.org/wiki/FIPS_county_code)."
   ]
  },
  {
   "cell_type": "code",
   "execution_count": null,
   "id": "2e78cd01",
   "metadata": {},
   "outputs": [],
   "source": [
    "from urllib.request import urlopen\n",
    "import json\n",
    "with urlopen('https://raw.githubusercontent.com/plotly/datasets/master/geojson-counties-fips.json') as response:\n",
    "    counties = json.load(response)\n",
    "\n",
    "counties[\"features\"][0]"
   ]
  },
  {
   "cell_type": "markdown",
   "id": "55076870",
   "metadata": {},
   "source": [
    "#### Data indexed by `id`\n",
    "\n",
    "Here we load unemployment data by county, also indexed by [FIPS code](https://en.wikipedia.org/wiki/FIPS_county_code)."
   ]
  },
  {
   "cell_type": "code",
   "execution_count": null,
   "id": "101d779e",
   "metadata": {},
   "outputs": [],
   "source": [
    "import pandas as pd\n",
    "df = pd.read_csv(\"https://raw.githubusercontent.com/plotly/datasets/master/fips-unemp-16.csv\",\n",
    "                   dtype={\"fips\": str})\n",
    "df.head()"
   ]
  },
  {
   "cell_type": "markdown",
   "id": "59a3b6f4",
   "metadata": {},
   "source": [
    "### Choropleth map using plotly.express and carto base map\n",
    "\n",
    "[Plotly Express](/python/plotly-express/) is the easy-to-use, high-level interface to Plotly, which [operates on a variety of types of data](/python/px-arguments/) and produces [easy-to-style figures](/python/styling-plotly-express/).\n",
    "\n",
    "With `px.choropleth_map`, each row of the DataFrame is represented as a region of the choropleth."
   ]
  },
  {
   "cell_type": "code",
   "execution_count": null,
   "id": "f0b7095f",
   "metadata": {},
   "outputs": [],
   "source": [
    "from urllib.request import urlopen\n",
    "import json\n",
    "with urlopen('https://raw.githubusercontent.com/plotly/datasets/master/geojson-counties-fips.json') as response:\n",
    "    counties = json.load(response)\n",
    "\n",
    "import pandas as pd\n",
    "df = pd.read_csv(\"https://raw.githubusercontent.com/plotly/datasets/master/fips-unemp-16.csv\",\n",
    "                   dtype={\"fips\": str})\n",
    "\n",
    "import plotly.express as px\n",
    "\n",
    "fig = px.choropleth_map(df, geojson=counties, locations='fips', color='unemp',\n",
    "                           color_continuous_scale=\"Viridis\",\n",
    "                           range_color=(0, 12),\n",
    "                           map_style=\"carto-positron\",\n",
    "                           zoom=3, center = {\"lat\": 37.0902, \"lon\": -95.7129},\n",
    "                           opacity=0.5,\n",
    "                           labels={'unemp':'unemployment rate'}\n",
    "                          )\n",
    "fig.update_layout(margin={\"r\":0,\"t\":0,\"l\":0,\"b\":0})\n",
    "fig.show()"
   ]
  },
  {
   "cell_type": "markdown",
   "id": "d0074221",
   "metadata": {},
   "source": [
    "### Choropleth maps in Dash\n",
    "\n",
    "[Dash](https://plotly.com/dash/) is the best way to build analytical apps in Python using Plotly figures. To run the app below, run `pip install dash`, click \"Download\" to get the code and run `python app.py`.\n",
    "\n",
    "Get started  with [the official Dash docs](https://dash.plotly.com/installation) and **learn how to effortlessly [style](https://plotly.com/dash/design-kit/) & [deploy](https://plotly.com/dash/app-manager/) apps like this with <a class=\"plotly-red\" href=\"https://plotly.com/dash/\">Dash Enterprise</a>.**\n"
   ]
  },
  {
   "cell_type": "code",
   "execution_count": null,
   "id": "a57efcae",
   "metadata": {
    "hide_code": true
   },
   "outputs": [],
   "source": [
    "from IPython.display import IFrame\n",
    "snippet_url = 'https://python-docs-dash-snippets.herokuapp.com/python-docs-dash-snippets/'\n",
    "IFrame(snippet_url + 'mapbox-county-choropleth', width='100%', height=1200)"
   ]
  },
  {
   "cell_type": "markdown",
   "id": "4e093555",
   "metadata": {},
   "source": [
    "<div style=\"font-size: 0.9em;\"><div style=\"width: calc(100% - 30px); box-shadow: none; border: thin solid rgb(229, 229, 229);\"><div style=\"padding: 5px;\"><div><p><strong>Sign up for Dash Club</strong> → Free cheat sheets plus updates from Chris Parmer and Adam Schroeder delivered to your inbox every two months. Includes tips and tricks, community apps, and deep dives into the Dash architecture.\n",
    "<u><a href=\"https://go.plotly.com/dash-club?utm_source=Dash+Club+2022&utm_medium=graphing_libraries&utm_content=inline\">Join now</a></u>.</p></div></div></div></div>"
   ]
  },
  {
   "cell_type": "markdown",
   "id": "ce2e8db2",
   "metadata": {},
   "source": [
    "### Indexing by GeoJSON Properties\n",
    "\n",
    "If the GeoJSON you are using either does not have an `id` field or you wish you use one of the keys in the `properties` field, you may use the `featureidkey` parameter to specify where to match the values of `locations`.\n",
    "\n",
    "In the following GeoJSON object/data-file pairing, the values of `properties.district` match the values of the `district` column:"
   ]
  },
  {
   "cell_type": "code",
   "execution_count": null,
   "id": "14887eea",
   "metadata": {},
   "outputs": [],
   "source": [
    "import plotly.express as px\n",
    "\n",
    "df = px.data.election()\n",
    "geojson = px.data.election_geojson()\n",
    "\n",
    "print(df[\"district\"][2])\n",
    "print(geojson[\"features\"][0][\"properties\"])"
   ]
  },
  {
   "cell_type": "markdown",
   "id": "d04f5bcb",
   "metadata": {},
   "source": [
    "To use them together, we set `locations` to `district` and `featureidkey` to `\"properties.district\"`. The `color` is set to the number of votes by the candidate named Bergeron."
   ]
  },
  {
   "cell_type": "code",
   "execution_count": null,
   "id": "8aa728b1",
   "metadata": {},
   "outputs": [],
   "source": [
    "import plotly.express as px\n",
    "\n",
    "df = px.data.election()\n",
    "geojson = px.data.election_geojson()\n",
    "\n",
    "fig = px.choropleth_map(df, geojson=geojson, color=\"Bergeron\",\n",
    "                           locations=\"district\", featureidkey=\"properties.district\",\n",
    "                           center={\"lat\": 45.5517, \"lon\": -73.7073},\n",
    "                           map_style=\"carto-positron\", zoom=9)\n",
    "fig.update_layout(margin={\"r\":0,\"t\":0,\"l\":0,\"b\":0})\n",
    "fig.show()"
   ]
  },
  {
   "cell_type": "markdown",
   "id": "c327404e",
   "metadata": {},
   "source": [
    "### Discrete Colors\n",
    "\n",
    "In addition to [continuous colors](/python/colorscales/), we can [discretely-color](/python/discrete-color/) our choropleth maps by setting `color` to a non-numerical column, like the name of the winner of an election."
   ]
  },
  {
   "cell_type": "code",
   "execution_count": null,
   "id": "36c8276c",
   "metadata": {},
   "outputs": [],
   "source": [
    "import plotly.express as px\n",
    "\n",
    "df = px.data.election()\n",
    "geojson = px.data.election_geojson()\n",
    "\n",
    "fig = px.choropleth_map(df, geojson=geojson, color=\"winner\",\n",
    "                           locations=\"district\", featureidkey=\"properties.district\",\n",
    "                           center={\"lat\": 45.5517, \"lon\": -73.7073},\n",
    "                           map_style=\"carto-positron\", zoom=9)\n",
    "fig.update_layout(margin={\"r\":0,\"t\":0,\"l\":0,\"b\":0})\n",
    "fig.show()"
   ]
  },
  {
   "cell_type": "markdown",
   "id": "f56010cf",
   "metadata": {},
   "source": [
    "### Using GeoPandas Data Frames\n",
    "\n",
    "`px.choropleth_map` accepts the `geometry` of a [GeoPandas](https://geopandas.org/) data frame as the input to `geojson` if the `geometry` contains polygons."
   ]
  },
  {
   "cell_type": "code",
   "execution_count": null,
   "id": "2014135a",
   "metadata": {},
   "outputs": [],
   "source": [
    "import plotly.express as px\n",
    "import geopandas as gpd\n",
    "\n",
    "df = px.data.election()\n",
    "geo_df = gpd.GeoDataFrame.from_features(\n",
    "    px.data.election_geojson()[\"features\"]\n",
    ").merge(df, on=\"district\").set_index(\"district\")\n",
    "\n",
    "fig = px.choropleth_map(geo_df,\n",
    "                           geojson=geo_df.geometry,\n",
    "                           locations=geo_df.index,\n",
    "                           color=\"Joly\",\n",
    "                           center={\"lat\": 45.5517, \"lon\": -73.7073},\n",
    "                           map_style=\"open-street-map\",\n",
    "                           zoom=8.5)\n",
    "fig.show()"
   ]
  },
  {
   "cell_type": "markdown",
   "id": "adec9291",
   "metadata": {},
   "source": [
    "### Choropleth map using plotly.graph_objects and carto base map\n",
    "\n",
    "If Plotly Express does not provide a good starting point, it is also possible to use [the more generic `go.Choroplethmap` class from `plotly.graph_objects`](/python/graph-objects/)."
   ]
  },
  {
   "cell_type": "code",
   "execution_count": null,
   "id": "e98e1ba2",
   "metadata": {},
   "outputs": [],
   "source": [
    "from urllib.request import urlopen\n",
    "import json\n",
    "with urlopen('https://raw.githubusercontent.com/plotly/datasets/master/geojson-counties-fips.json') as response:\n",
    "    counties = json.load(response)\n",
    "\n",
    "import pandas as pd\n",
    "df = pd.read_csv(\"https://raw.githubusercontent.com/plotly/datasets/master/fips-unemp-16.csv\",\n",
    "                   dtype={\"fips\": str})\n",
    "\n",
    "import plotly.graph_objects as go\n",
    "\n",
    "fig = go.Figure(go.Choroplethmap(geojson=counties, locations=df.fips, z=df.unemp,\n",
    "                                    colorscale=\"Viridis\", zmin=0, zmax=12,\n",
    "                                    marker_opacity=0.5, marker_line_width=0))\n",
    "fig.update_layout(map_style=\"carto-positron\",\n",
    "                  map_zoom=3, map_center = {\"lat\": 37.0902, \"lon\": -95.7129})\n",
    "fig.update_layout(margin={\"r\":0,\"t\":0,\"l\":0,\"b\":0})\n",
    "fig.show()"
   ]
  },
  {
   "cell_type": "markdown",
   "id": "748a8f02",
   "metadata": {},
   "source": [
    "### Mapbox Maps\n",
    "\n",
    "> Mapbox traces are deprecated and may be removed in a future version of Plotly.py.\n",
    "\n",
    "The earlier examples using `px.choropleth_map` and `go.Choroplethmap` use [Maplibre](https://maplibre.org/maplibre-gl-js/docs/) for rendering. These traces were introduced in Plotly.py 5.24 and are now the recommended way to create tile-based choropleth maps. There are also choropleth traces that use [Mapbox](https://docs.mapbox.com): `px.choropleth_mapbox` and `go.Choroplethmapbox`\n",
    "\n",
    "To plot on Mapbox maps with Plotly you _may_ need a Mapbox account and a public [Mapbox Access Token](https://www.mapbox.com/studio). See our [Mapbox Map Layers](/python/mapbox-layers/) documentation for more information.\n",
    "\n",
    "Here's an exmaple of using the Mapbox Light base map, which requires a free token."
   ]
  },
  {
   "cell_type": "code",
   "execution_count": null,
   "id": "006e696b",
   "metadata": {},
   "outputs": [],
   "source": [
    "token = open(\".mapbox_token\").read() # you will need your own token\n",
    "\n",
    "from urllib.request import urlopen\n",
    "import json\n",
    "with urlopen('https://raw.githubusercontent.com/plotly/datasets/master/geojson-counties-fips.json') as response:\n",
    "    counties = json.load(response)\n",
    "\n",
    "import pandas as pd\n",
    "df = pd.read_csv(\"https://raw.githubusercontent.com/plotly/datasets/master/fips-unemp-16.csv\",\n",
    "                   dtype={\"fips\": str})\n",
    "\n",
    "import plotly.graph_objects as go\n",
    "\n",
    "fig = go.Figure(go.Choroplethmapbox(geojson=counties, locations=df.fips, z=df.unemp,\n",
    "                                    colorscale=\"Viridis\", zmin=0, zmax=12, marker_line_width=0))\n",
    "fig.update_layout(mapbox_style=\"light\", mapbox_accesstoken=token,\n",
    "                  mapbox_zoom=3, mapbox_center = {\"lat\": 37.0902, \"lon\": -95.7129})\n",
    "fig.update_layout(margin={\"r\":0,\"t\":0,\"l\":0,\"b\":0})\n",
    "fig.show()"
   ]
  },
  {
   "cell_type": "markdown",
   "id": "918a72eb",
   "metadata": {},
   "source": [
    "#### Reference\n",
    "\n",
    "See [function reference for `px.choropleth_map`](https://plotly.com/python-api-reference/generated/plotly.express.choropleth_map) or https://plotly.com/python/reference/choroplethmap/ for more information about the attributes available.\n",
    "\n",
    "For Mapbox-based tile maps, see [function reference for `px.choropleth_mapbox`](https://plotly.com/python-api-reference/generated/plotly.express.choropleth_mapbox) or https://plotly.com/python/reference/choroplethmapbox/.\n"
   ]
  },
  {
   "cell_type": "markdown",
   "id": "bcb7b0a9",
   "metadata": {},
   "source": [
    "### What About Dash?\n",
    "\n",
    "[Dash](https://dash.plot.ly/) is an open-source framework for building analytical applications, with no Javascript required, and it is tightly integrated with the Plotly graphing library.\n",
    "\n",
    "Learn about how to install Dash at https://dash.plot.ly/installation.\n",
    "\n",
    "Everywhere in this page that you see `fig.show()`, you can display the same figure in a Dash application by passing it to the `figure` argument of the [`Graph` component](https://dash.plot.ly/dash-core-components/graph) from the built-in `dash_core_components` package like this:\n",
    "\n",
    "```python\n",
    "import plotly.graph_objects as go # or plotly.express as px\n",
    "fig = go.Figure() # or any Plotly Express function e.g. px.bar(...)\n",
    "# fig.add_trace( ... )\n",
    "# fig.update_layout( ... )\n",
    "\n",
    "from dash import Dash, dcc, html\n",
    "\n",
    "app = Dash()\n",
    "app.layout = html.Div([\n",
    "    dcc.Graph(figure=fig)\n",
    "])\n",
    "\n",
    "app.run_server(debug=True, use_reloader=False)  # Turn off reloader if inside Jupyter\n",
    "```"
   ]
  }
 ],
 "metadata": {
  "jupytext": {
   "notebook_metadata_filter": "all"
  },
  "kernelspec": {
   "display_name": "Python 3 (ipykernel)",
   "language": "python",
   "name": "python3"
  },
  "language_info": {
   "codemirror_mode": {
    "name": "ipython",
    "version": 3
   },
   "file_extension": ".py",
   "mimetype": "text/x-python",
   "name": "python",
   "nbconvert_exporter": "python",
   "pygments_lexer": "ipython3",
   "version": "3.10.0"
  },
  "plotly": {
   "description": "How to make a choropleth map of US counties in Python with Plotly.",
   "display_as": "maps",
   "language": "python",
   "layout": "base",
   "name": "Tile Choropleth Maps",
   "order": 2,
   "page_type": "example_index",
   "permalink": "python/tile-county-choropleth/",
   "redirect_from": "python/mapbox-county-choropleth/",
   "thumbnail": "thumbnail/mapbox-choropleth.png"
  }
 },
 "nbformat": 4,
 "nbformat_minor": 5
}
