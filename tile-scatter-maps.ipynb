{
 "cells": [
  {
   "cell_type": "markdown",
   "id": "6c6fefe8",
   "metadata": {},
   "source": [
    "### Basic example with Plotly Express\n",
    "\n",
    "Here we show the [Plotly Express](/python/plotly-express/) function `px.scatter_map` for a scatter plot on a tile map.\n",
    "\n",
    "[Plotly Express](/python/plotly-express/) is the easy-to-use, high-level interface to Plotly, which [operates on a variety of types of data](/python/px-arguments/) and produces [easy-to-style figures](/python/styling-plotly-express/)."
   ]
  },
  {
   "cell_type": "code",
   "execution_count": null,
   "id": "e5ce2006",
   "metadata": {},
   "outputs": [],
   "source": [
    "import plotly.express as px\n",
    "df = px.data.carshare()\n",
    "fig = px.scatter_map(df, lat=\"centroid_lat\", lon=\"centroid_lon\",     color=\"peak_hour\", size=\"car_hours\",\n",
    "                  color_continuous_scale=px.colors.cyclical.IceFire, size_max=15, zoom=10)\n",
    "fig.show()"
   ]
  },
  {
   "cell_type": "markdown",
   "id": "ee9cfc38",
   "metadata": {},
   "source": [
    "### Basic Example with GeoPandas\n",
    "\n",
    "`px.scatter_map` can work well with [GeoPandas](https://geopandas.org/) dataframes whose `geometry` is of type `Point`."
   ]
  },
  {
   "cell_type": "code",
   "execution_count": null,
   "id": "a30a4b5e",
   "metadata": {},
   "outputs": [],
   "source": [
    "import plotly.express as px\n",
    "import geopandas as gpd\n",
    "\n",
    "geo_df = gpd.read_file(gpd.datasets.get_path('naturalearth_cities'))\n",
    "\n",
    "fig = px.scatter_map(geo_df,\n",
    "                        lat=geo_df.geometry.y,\n",
    "                        lon=geo_df.geometry.x,\n",
    "                        hover_name=\"name\",\n",
    "                        zoom=1)\n",
    "fig.show()"
   ]
  },
  {
   "cell_type": "markdown",
   "id": "81b727a2",
   "metadata": {},
   "source": [
    "#### Basic Example"
   ]
  },
  {
   "cell_type": "code",
   "execution_count": null,
   "id": "6e6366b6",
   "metadata": {},
   "outputs": [],
   "source": [
    "import plotly.graph_objects as go\n",
    "\n",
    "fig = go.Figure(go.Scattermap(\n",
    "        lat=['45.5017'],\n",
    "        lon=['-73.5673'],\n",
    "        mode='markers',\n",
    "        marker=go.scattermap.Marker(\n",
    "            size=14\n",
    "        ),\n",
    "        text=['Montreal'],\n",
    "    ))\n",
    "\n",
    "fig.update_layout(\n",
    "    hovermode='closest',\n",
    "    map=dict(\n",
    "        bearing=0,\n",
    "        center=go.layout.map.Center(\n",
    "            lat=45,\n",
    "            lon=-73\n",
    "        ),\n",
    "        pitch=0,\n",
    "        zoom=5\n",
    "    )\n",
    ")\n",
    "\n",
    "fig.show()"
   ]
  },
  {
   "cell_type": "markdown",
   "id": "0aac8416",
   "metadata": {},
   "source": [
    "#### Multiple Markers"
   ]
  },
  {
   "cell_type": "code",
   "execution_count": null,
   "id": "de33d751",
   "metadata": {},
   "outputs": [],
   "source": [
    "import plotly.graph_objects as go\n",
    "\n",
    "fig = go.Figure(go.Scattermap(\n",
    "        lat=['38.91427','38.91538','38.91458',\n",
    "             '38.92239','38.93222','38.90842',\n",
    "             '38.91931','38.93260','38.91368',\n",
    "             '38.88516','38.921894','38.93206',\n",
    "             '38.91275'],\n",
    "        lon=['-77.02827','-77.02013','-77.03155',\n",
    "             '-77.04227','-77.02854','-77.02419',\n",
    "             '-77.02518','-77.03304','-77.04509',\n",
    "             '-76.99656','-77.042438','-77.02821',\n",
    "             '-77.01239'],\n",
    "        mode='markers',\n",
    "        marker=go.scattermap.Marker(\n",
    "            size=9\n",
    "        ),\n",
    "        text=[\"The coffee bar\",\"Bistro Bohem\",\"Black Cat\",\n",
    "             \"Snap\",\"Columbia Heights Coffee\",\"Azi's Cafe\",\n",
    "             \"Blind Dog Cafe\",\"Le Caprice\",\"Filter\",\n",
    "             \"Peregrine\",\"Tryst\",\"The Coupe\",\n",
    "             \"Big Bear Cafe\"],\n",
    "    ))\n",
    "\n",
    "fig.update_layout(\n",
    "    autosize=True,\n",
    "    hovermode='closest',\n",
    "    map=dict(\n",
    "        bearing=0,\n",
    "        center=dict(\n",
    "            lat=38.92,\n",
    "            lon=-77.07\n",
    "        ),\n",
    "        pitch=0,\n",
    "        zoom=10\n",
    "    ),\n",
    ")\n",
    "\n",
    "fig.show()"
   ]
  },
  {
   "cell_type": "markdown",
   "id": "52a1a1e1",
   "metadata": {},
   "source": [
    "#### Nuclear Waste Sites on Campuses"
   ]
  },
  {
   "cell_type": "code",
   "execution_count": null,
   "id": "c89386fb",
   "metadata": {},
   "outputs": [],
   "source": [
    "import plotly.graph_objects as go\n",
    "import pandas as pd\n",
    "\n",
    "df = pd.read_csv('https://raw.githubusercontent.com/plotly/datasets/master/Nuclear%20Waste%20Sites%20on%20American%20Campuses.csv')\n",
    "site_lat = df.lat\n",
    "site_lon = df.lon\n",
    "locations_name = df.text\n",
    "\n",
    "fig = go.Figure()\n",
    "\n",
    "fig.add_trace(go.Scattermap(\n",
    "        lat=site_lat,\n",
    "        lon=site_lon,\n",
    "        mode='markers',\n",
    "        marker=go.scattermap.Marker(\n",
    "            size=17,\n",
    "            color='rgb(255, 0, 0)',\n",
    "            opacity=0.7\n",
    "        ),\n",
    "        text=locations_name,\n",
    "        hoverinfo='text'\n",
    "    ))\n",
    "\n",
    "fig.add_trace(go.Scattermap(\n",
    "        lat=site_lat,\n",
    "        lon=site_lon,\n",
    "        mode='markers',\n",
    "        marker=go.scattermap.Marker(\n",
    "            size=8,\n",
    "            color='rgb(242, 177, 172)',\n",
    "            opacity=0.7\n",
    "        ),\n",
    "        hoverinfo='none'\n",
    "    ))\n",
    "\n",
    "fig.update_layout(\n",
    "    title=dict(text='Nuclear Waste Sites on Campus'),\n",
    "    autosize=True,\n",
    "    hovermode='closest',\n",
    "    showlegend=False,\n",
    "    map=dict(\n",
    "        bearing=0,\n",
    "        center=dict(\n",
    "            lat=38,\n",
    "            lon=-94\n",
    "        ),\n",
    "        pitch=0,\n",
    "        zoom=3,\n",
    "        style='light'\n",
    "    ),\n",
    ")\n",
    "\n",
    "fig.show()"
   ]
  },
  {
   "cell_type": "markdown",
   "id": "139e21d6",
   "metadata": {},
   "source": [
    "### Set Marker Symbols\n",
    "\n",
    "You can define the symbol on your map by setting [`symbol`](https://plotly.com/python/reference/scattermap/#scattermap-marker-symbol) attribute.\n",
    "\n",
    "- basic\n",
    "- streets\n",
    "- outdoors\n",
    "- light\n",
    "- dark\n",
    "- satellite\n",
    "- satellite-streets"
   ]
  },
  {
   "cell_type": "code",
   "execution_count": null,
   "id": "b18e500c",
   "metadata": {},
   "outputs": [],
   "source": [
    "import plotly.graph_objects as go\n",
    "\n",
    "fig = go.Figure(go.Scattermap(\n",
    "    mode = \"markers+text+lines\",\n",
    "    lon = [-75, -80, -50], lat = [45, 20, -20],\n",
    "    marker = {'size': 20, 'symbol': [\"bus\", \"harbor\", \"airport\"]},\n",
    "    text = [\"Bus\", \"Harbor\", \"airport\"],textposition = \"bottom right\"))\n",
    "\n",
    "fig.update_layout(\n",
    "    map = {\n",
    "        'style': \"outdoors\", 'zoom': 0.7},\n",
    "    showlegend = False)\n",
    "\n",
    "fig.show()"
   ]
  },
  {
   "cell_type": "markdown",
   "id": "8b0e5672",
   "metadata": {},
   "source": [
    "#### Add Clusters\n",
    "\n",
    "*New in 5.11*\n",
    "\n",
    "Display clusters of data points by setting `cluster`. Here, we enable clusters with `enabled=True`. You can also enable clusters by setting other `cluster` properties. Other available properties include `color` (for setting the color of the clusters), `size` (for setting the size of a cluster step), and `step` (for configuring how many points it takes to create a cluster or advance to the next cluster step)."
   ]
  },
  {
   "cell_type": "code",
   "execution_count": null,
   "id": "711c0aa4",
   "metadata": {},
   "outputs": [],
   "source": [
    "import plotly.express as px\n",
    "import pandas as pd\n",
    "\n",
    "df = pd.read_csv(\n",
    "    \"https://raw.githubusercontent.com/plotly/datasets/master/2011_february_us_airport_traffic.csv\"\n",
    ")\n",
    "fig = px.scatter_map(df, lat=\"lat\", lon=\"long\", size=\"cnt\", zoom=3)\n",
    "fig.update_traces(cluster=dict(enabled=True))\n",
    "fig.show()\n"
   ]
  },
  {
   "cell_type": "markdown",
   "id": "39a675ba",
   "metadata": {},
   "source": [
    "#### Font Customization\n",
    "\n",
    "You can customize the font on `go.Scattermap` traces with `textfont`. For example, you can set the font `family`."
   ]
  },
  {
   "cell_type": "code",
   "execution_count": null,
   "id": "5ae628ee",
   "metadata": {},
   "outputs": [],
   "source": [
    "import plotly.graph_objects as go\n",
    "\n",
    "fig = go.Figure(go.Scattermap(\n",
    "    mode = \"markers+text+lines\",\n",
    "    lon = [-75, -80, -50], lat = [45, 20, -20],\n",
    "    marker = {'size': 20, 'symbol': [\"bus\", \"harbor\", \"airport\"]},\n",
    "    text = [\"Bus\", \"Harbor\", \"airport\"], textposition = \"bottom right\",\n",
    "    textfont = dict(size=18, color=\"black\", family=\"Open Sans Bold\")\n",
    "    ))\n",
    "\n",
    "fig.update_layout(\n",
    "    map = {\n",
    "        'style': \"outdoors\", 'zoom': 0.7},\n",
    "    showlegend = False,)\n",
    "\n",
    "fig.show()"
   ]
  },
  {
   "cell_type": "markdown",
   "id": "fec8d94f",
   "metadata": {},
   "source": [
    "`go.Scattermap` supports the following values for `textfont.family`:\n",
    "\n",
    "'Metropolis Black Italic', 'Metropolis Black', 'Metropolis Bold Italic', 'Metropolis Bold', 'Metropolis Extra Bold Italic', 'Metropolis Extra Bold', 'Metropolis Extra Light Italic', 'Metropolis Extra Light', 'Metropolis Light Italic', 'Metropolis Light', 'Metropolis Medium Italic', 'Metropolis Medium', 'Metropolis Regular Italic', 'Metropolis Regular', 'Metropolis Semi Bold Italic', 'Metropolis Semi Bold', 'Metropolis Thin Italic', 'Metropolis Thin', 'Open Sans Bold Italic', 'Open Sans Bold', 'Open Sans Extrabold Italic', 'Open Sans Extrabold', 'Open Sans Italic', 'Open Sans Light Italic', 'Open Sans Light', 'Open Sans Regular', 'Open Sans Semibold Italic', 'Open Sans Semibold', 'Klokantech Noto Sans Bold', 'Klokantech Noto Sans CJK Bold', 'Klokantech Noto Sans CJK Regular', 'Klokantech Noto Sans Italic', and 'Klokantech Noto Sans Regular'."
   ]
  },
  {
   "cell_type": "markdown",
   "id": "99aca73d",
   "metadata": {},
   "source": [
    "##### Font Weight\n",
    "\n",
    "*New in 5.23*\n",
    "\n",
    "You can specify a numeric font weight on `go.Scattermap` with `textfont.weight`."
   ]
  },
  {
   "cell_type": "code",
   "execution_count": null,
   "id": "2dd58f38",
   "metadata": {},
   "outputs": [],
   "source": [
    "import plotly.graph_objects as go\n",
    "\n",
    "fig = go.Figure(go.Scattermap(\n",
    "    mode = \"markers+text+lines\",\n",
    "    lon = [-75, -80, -50], lat = [45, 20, -20],\n",
    "    marker = dict(size=20, symbol=[\"bus\", \"harbor\", \"airport\"]),\n",
    "    text = [\"Bus\", \"Harbor\", \"airport\"], textposition = \"bottom right\",\n",
    "    textfont = dict(size=18, color=\"black\", weight=900)\n",
    "    ))\n",
    "\n",
    "fig.update_layout(\n",
    "    map = dict(\n",
    "        style=\"outdoors\", zoom=0.7),\n",
    "    showlegend = False,)\n",
    "\n",
    "fig.show()"
   ]
  },
  {
   "cell_type": "markdown",
   "id": "92f30845",
   "metadata": {},
   "source": [
    "## Mapbox Maps\n",
    "\n",
    "> Mapbox traces are deprecated and may be removed in a future version of Plotly.py.\n",
    "\n",
    "The earlier examples using `px.scatter_map` and `go.Scattermap` use [Maplibre](https://maplibre.org/maplibre-gl-js/docs/) for rendering. These traces were introduced in Plotly.py 5.24 and are now the recommended way to create scatter plots on tile-based maps. There are also traces that use [Mapbox](https://docs.mapbox.com): `px.scatter_mapbox` and `go.Scattermapbox`\n",
    "\n",
    "To plot on Mapbox maps with Plotly you _may_ need a Mapbox account and a public [Mapbox Access Token](https://www.mapbox.com/studio). See our [Mapbox Map Layers](/python/mapbox-layers/) documentation for more information.\n",
    "\n",
    "Here's the first example rewritten to use `px.scatter_mapbox`."
   ]
  },
  {
   "cell_type": "code",
   "execution_count": null,
   "id": "051f39ba",
   "metadata": {},
   "outputs": [],
   "source": [
    "import plotly.express as px\n",
    "px.set_mapbox_access_token(open(\".mapbox_token\").read())\n",
    "df = px.data.carshare()\n",
    "fig = px.scatter_mapbox(df, lat=\"centroid_lat\", lon=\"centroid_lon\",     color=\"peak_hour\", size=\"car_hours\",\n",
    "                  color_continuous_scale=px.colors.cyclical.IceFire, size_max=15, zoom=10)\n",
    "fig.show()\n"
   ]
  },
  {
   "cell_type": "markdown",
   "id": "234270e7",
   "metadata": {},
   "source": [
    "And here's an example using Graph Objects:"
   ]
  },
  {
   "cell_type": "code",
   "execution_count": null,
   "id": "88e8a757",
   "metadata": {},
   "outputs": [],
   "source": [
    "import plotly.graph_objects as go\n",
    "\n",
    "mapbox_access_token = open(\".mapbox_token\").read()\n",
    "\n",
    "fig = go.Figure(go.Scattermapbox(\n",
    "        lat=['45.5017'],\n",
    "        lon=['-73.5673'],\n",
    "        mode='markers',\n",
    "        marker=go.scattermapbox.Marker(\n",
    "            size=14\n",
    "        ),\n",
    "        text=['Montreal'],\n",
    "    ))\n",
    "\n",
    "fig.update_layout(\n",
    "    hovermode='closest',\n",
    "    mapbox=dict(\n",
    "        accesstoken=mapbox_access_token,\n",
    "        bearing=0,\n",
    "        center=go.layout.mapbox.Center(\n",
    "            lat=45,\n",
    "            lon=-73\n",
    "        ),\n",
    "        pitch=0,\n",
    "        zoom=5\n",
    "    )\n",
    ")\n",
    "\n",
    "fig.show()"
   ]
  },
  {
   "cell_type": "markdown",
   "id": "c391d826",
   "metadata": {},
   "source": [
    "#### Reference\n",
    "\n",
    "See [function reference for `px.scatter_map`](https://plotly.com/python-api-reference/generated/plotly.express.scatter_mapbox) or https://plotly.com/python/reference/scattermap/ for more information about the attributes available.\n",
    "\n",
    "For Mapbox-based tile maps, see [function reference for `px.scatter_mapbox`](https://plotly.com/python-api-reference/generated/plotly.express.scatter_mapbox) or https://plotly.com/python/reference/scattermapbox/.\n"
   ]
  },
  {
   "cell_type": "markdown",
   "id": "42f61932",
   "metadata": {},
   "source": [
    "### What About Dash?\n",
    "\n",
    "[Dash](https://dash.plot.ly/) is an open-source framework for building analytical applications, with no Javascript required, and it is tightly integrated with the Plotly graphing library.\n",
    "\n",
    "Learn about how to install Dash at https://dash.plot.ly/installation.\n",
    "\n",
    "Everywhere in this page that you see `fig.show()`, you can display the same figure in a Dash application by passing it to the `figure` argument of the [`Graph` component](https://dash.plot.ly/dash-core-components/graph) from the built-in `dash_core_components` package like this:\n",
    "\n",
    "```python\n",
    "import plotly.graph_objects as go # or plotly.express as px\n",
    "fig = go.Figure() # or any Plotly Express function e.g. px.bar(...)\n",
    "# fig.add_trace( ... )\n",
    "# fig.update_layout( ... )\n",
    "\n",
    "from dash import Dash, dcc, html\n",
    "\n",
    "app = Dash()\n",
    "app.layout = html.Div([\n",
    "    dcc.Graph(figure=fig)\n",
    "])\n",
    "\n",
    "app.run_server(debug=True, use_reloader=False)  # Turn off reloader if inside Jupyter\n",
    "```"
   ]
  }
 ],
 "metadata": {
  "jupytext": {
   "notebook_metadata_filter": "all"
  },
  "kernelspec": {
   "display_name": "Python 3 (ipykernel)",
   "language": "python",
   "name": "python3"
  },
  "language_info": {
   "codemirror_mode": {
    "name": "ipython",
    "version": 3
   },
   "file_extension": ".py",
   "mimetype": "text/x-python",
   "name": "python",
   "nbconvert_exporter": "python",
   "pygments_lexer": "ipython3",
   "version": "3.10.0"
  },
  "plotly": {
   "description": "How to make scatter plots on tile maps in Python.",
   "display_as": "maps",
   "language": "python",
   "layout": "base",
   "name": "Scatter Plots on Tile Maps",
   "order": 10,
   "page_type": "u-guide",
   "permalink": "python/tile-scatter-maps/",
   "redirect_from": "python/scattermapbox/",
   "thumbnail": "thumbnail/scatter-mapbox.jpg"
  }
 },
 "nbformat": 4,
 "nbformat_minor": 5
}
