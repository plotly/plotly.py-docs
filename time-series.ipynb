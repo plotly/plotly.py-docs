{
 "cells": [
  {
   "cell_type": "markdown",
   "id": "a6ef2f86",
   "metadata": {},
   "source": [
    "### Time Series using Axes of type `date`\n",
    "\n",
    "Time series can be represented using either `plotly.express` functions (`px.line`, `px.scatter`, `px.bar` etc) or `plotly.graph_objects` charts objects (`go.Scatter`, `go.Bar` etc). For more examples of such charts, see the documentation of [line and scatter plots](https://plotly.com/python/line-and-scatter/) or [bar charts](/python/bar-charts/).\n",
    "\n",
    "For financial applications, Plotly can also be used to create [Candlestick charts](/python/candlestick-charts/) and [OHLC charts](/python/ohlc-charts/), which default to date axes.\n",
    "\n",
    "Plotly auto-sets the axis type to a date format when the corresponding data are either ISO-formatted date strings or if they're a [date pandas column](https://pandas.pydata.org/pandas-docs/stable/user_guide/timeseries.html) or [datetime NumPy array](https://docs.scipy.org/doc/numpy/reference/arrays.datetime.html)."
   ]
  },
  {
   "cell_type": "code",
   "execution_count": null,
   "id": "7937771c",
   "metadata": {},
   "outputs": [],
   "source": [
    "# Using plotly.express\n",
    "import plotly.express as px\n",
    "\n",
    "df = px.data.stocks()\n",
    "fig = px.line(df, x='date', y=\"GOOG\")\n",
    "fig.show()"
   ]
  },
  {
   "cell_type": "code",
   "execution_count": null,
   "id": "140e271e",
   "metadata": {},
   "outputs": [],
   "source": [
    "# Using graph_objects\n",
    "import plotly.graph_objects as go\n",
    "\n",
    "import pandas as pd\n",
    "df = pd.read_csv('https://raw.githubusercontent.com/plotly/datasets/master/finance-charts-apple.csv')\n",
    "\n",
    "fig = go.Figure([go.Scatter(x=df['Date'], y=df['AAPL.High'])])\n",
    "fig.show()"
   ]
  },
  {
   "cell_type": "markdown",
   "id": "bf147cd1",
   "metadata": {},
   "source": [
    "### Time Series in Dash\n",
    "\n",
    "[Dash](https://plotly.com/dash/) is the best way to build analytical apps in Python using Plotly figures. To run the app below, run `pip install dash`, click \"Download\" to get the code and run `python app.py`.\n",
    "\n",
    "Get started  with [the official Dash docs](https://dash.plotly.com/installation) and **learn how to effortlessly [style](https://plotly.com/dash/design-kit/) & [deploy](https://plotly.com/dash/app-manager/) apps like this with <a class=\"plotly-red\" href=\"https://plotly.com/dash/\">Dash Enterprise</a>.**\n"
   ]
  },
  {
   "cell_type": "code",
   "execution_count": null,
   "id": "48d3380a",
   "metadata": {
    "hide_code": true
   },
   "outputs": [],
   "source": [
    "from IPython.display import IFrame\n",
    "snippet_url = 'https://python-docs-dash-snippets.herokuapp.com/python-docs-dash-snippets/'\n",
    "IFrame(snippet_url + 'time-series', width='100%', height=1200)"
   ]
  },
  {
   "cell_type": "markdown",
   "id": "c5a31c1d",
   "metadata": {},
   "source": [
    "<div style=\"font-size: 0.9em;\"><div style=\"width: calc(100% - 30px); box-shadow: none; border: thin solid rgb(229, 229, 229);\"><div style=\"padding: 5px;\"><div><p><strong>Sign up for Dash Club</strong> → Free cheat sheets plus updates from Chris Parmer and Adam Schroeder delivered to your inbox every two months. Includes tips and tricks, community apps, and deep dives into the Dash architecture.\n",
    "<u><a href=\"https://go.plotly.com/dash-club?utm_source=Dash+Club+2022&utm_medium=graphing_libraries&utm_content=inline\">Join now</a></u>.</p></div></div></div></div>"
   ]
  },
  {
   "cell_type": "markdown",
   "id": "4997cebc",
   "metadata": {},
   "source": [
    "### Different Chart Types on Date Axes\n",
    "\n",
    "Any kind of cartesian chart can be placed on `date` axes, for example this bar chart of relative stock ticker values."
   ]
  },
  {
   "cell_type": "code",
   "execution_count": null,
   "id": "5127622c",
   "metadata": {},
   "outputs": [],
   "source": [
    "import plotly.express as px\n",
    "\n",
    "df = px.data.stocks(indexed=True)-1\n",
    "fig = px.bar(df, x=df.index, y=\"GOOG\")\n",
    "fig.show()"
   ]
  },
  {
   "cell_type": "markdown",
   "id": "a4f8c608",
   "metadata": {},
   "source": [
    "Or this [facetted](/python/facet-plots/) area plot:"
   ]
  },
  {
   "cell_type": "code",
   "execution_count": null,
   "id": "183166af",
   "metadata": {},
   "outputs": [],
   "source": [
    "import plotly.express as px\n",
    "\n",
    "df = px.data.stocks(indexed=True)-1\n",
    "fig = px.area(df, facet_col=\"company\", facet_col_wrap=2)\n",
    "fig.show()"
   ]
  },
  {
   "cell_type": "markdown",
   "id": "c59945ef",
   "metadata": {},
   "source": [
    "### Configuring Tick Labels\n",
    "\n",
    "By default, the tick labels (and optional ticks) are associated with a specific grid-line, and represent an *instant* in time, for example, \"00:00 on February 1, 2018\". Tick labels can be formatted using the `tickformat` attribute (which accepts the [d3 time-format formatting strings](https://github.com/d3/d3-time-format)) to display only the month and year, but they still represent an instant by default, so in the figure below, the text of the label \"Feb 2018\" spans part of the month of January and part of the month of February. The `dtick` attribute controls the spacing between gridlines, and the `\"M1\"` setting means \"1 month\". This attribute also accepts a number of milliseconds, which can be scaled up to days by multiplying by `24*60*60*1000`.\n",
    "\n",
    "Date axis tick labels have the special property that any portion after the first instance of `'\\n'` in `tickformat` will appear on a second line only once per unique value, as with the year numbers in the example below. To have the year number appear on every tick label, `'<br>'` should be used instead of `'\\n'`.\n",
    "\n",
    "Note that by default, the formatting of values of X and Y values in the hover label matches that of the tick labels of the corresponding axes, so when customizing the tick labels to something broad like \"month\", it's usually necessary to [customize the hover label](/python/hover-text-and-formatting/) to something narrower like the actual date, as below."
   ]
  },
  {
   "cell_type": "code",
   "execution_count": null,
   "id": "3ed945ff",
   "metadata": {},
   "outputs": [],
   "source": [
    "import plotly.express as px\n",
    "df = px.data.stocks()\n",
    "fig = px.line(df, x=\"date\", y=df.columns,\n",
    "              hover_data={\"date\": \"|%B %d, %Y\"},\n",
    "              title='custom tick labels')\n",
    "fig.update_xaxes(\n",
    "    dtick=\"M1\",\n",
    "    tickformat=\"%b\\n%Y\")\n",
    "fig.show()"
   ]
  },
  {
   "cell_type": "markdown",
   "id": "08cb3b87",
   "metadata": {},
   "source": [
    "### Moving Tick Labels to the Middle of the Period\n",
    "\n",
    "_new in 4.10_\n",
    "\n",
    "By setting the `ticklabelmode` attribute to `\"period\"` (the default is `\"instant\"`) we can move the tick labels to the middle of the period they represent. The gridlines remain at the beginning of each month (thanks to `dtick=\"M1\"`) but the labels now span the month they refer to."
   ]
  },
  {
   "cell_type": "code",
   "execution_count": null,
   "id": "c4e6d0cb",
   "metadata": {},
   "outputs": [],
   "source": [
    "import plotly.express as px\n",
    "df = px.data.stocks()\n",
    "fig = px.line(df, x=\"date\", y=df.columns,\n",
    "              hover_data={\"date\": \"|%B %d, %Y\"},\n",
    "              title='custom tick labels with ticklabelmode=\"period\"')\n",
    "fig.update_xaxes(\n",
    "    dtick=\"M1\",\n",
    "    tickformat=\"%b\\n%Y\",\n",
    "    ticklabelmode=\"period\")\n",
    "fig.show()"
   ]
  },
  {
   "cell_type": "markdown",
   "id": "7841dd0b",
   "metadata": {},
   "source": [
    "### Adding Minor Ticks\n",
    "\n",
    "_new in 5.8_\n",
    "\n",
    "You can add minor ticks to an axis with `minor`. This takes a `dict` of properties to apply to minor ticks. See the [figure reference](https://plotly.com/python/reference/layout/xaxis/#layout-xaxis-minor) for full details on the accepted keys in this dict.\n",
    "\n",
    "In this example, we've added minor ticks to the inside of the x-axis and turned on minor grid lines."
   ]
  },
  {
   "cell_type": "code",
   "execution_count": null,
   "id": "674aff0d",
   "metadata": {},
   "outputs": [],
   "source": [
    "import pandas as pd\n",
    "import plotly.express as px\n",
    "\n",
    "df = px.data.stocks()\n",
    "fig = px.line(df, x='date', y=\"GOOG\")\n",
    "\n",
    "fig.update_xaxes(minor=dict(ticks=\"inside\", showgrid=True))\n",
    "\n",
    "fig.show()"
   ]
  },
  {
   "cell_type": "markdown",
   "id": "41774ebe",
   "metadata": {},
   "source": [
    "#### Monthly Period Labels With Weekly Minor Ticks\n",
    "\n",
    "_new in 5.8_\n",
    "\n",
    "You can set `dtick` on `minor` to control the spacing for minor ticks and grid lines. In the following example, by setting `dtick=7*24*60*60*1000` (the number of milliseconds in a week) and setting `tick0=\"2016-07-03\"` (the first Sunday in our data), a minor tick and grid line is displayed for the start of each week. When zoomed out, we can see where each month and week begins and ends."
   ]
  },
  {
   "cell_type": "code",
   "execution_count": null,
   "id": "59e3fd4e",
   "metadata": {},
   "outputs": [],
   "source": [
    "import pandas as pd\n",
    "import plotly.express as px\n",
    "\n",
    "df = pd.read_csv('https://raw.githubusercontent.com/plotly/datasets/master/finance-charts-apple.csv')\n",
    "df = df.loc[(df[\"Date\"] >= \"2016-07-01\") & (df[\"Date\"] <= \"2016-12-01\")]\n",
    "\n",
    "fig = px.line(df, x='Date', y='AAPL.High')\n",
    "fig.update_xaxes(ticks= \"outside\",\n",
    "                 ticklabelmode= \"period\", \n",
    "                 tickcolor= \"black\", \n",
    "                 ticklen=10, \n",
    "                 minor=dict(\n",
    "                     ticklen=4,  \n",
    "                     dtick=7*24*60*60*1000,  \n",
    "                     tick0=\"2016-07-03\", \n",
    "                     griddash='dot', \n",
    "                     gridcolor='white')\n",
    "                )\n",
    "\n",
    "fig.show()"
   ]
  },
  {
   "cell_type": "markdown",
   "id": "de3c862d",
   "metadata": {},
   "source": [
    "### Summarizing Time-series Data with Histograms\n",
    "\n",
    "Plotly [histograms](/python/histograms/) are powerful data-aggregation tools which even work on date axes. In the figure below, we pass in daily data and display it as monthly averages by setting `histfunc=\"avg` and `xbins_size=\"M1\"`."
   ]
  },
  {
   "cell_type": "code",
   "execution_count": null,
   "id": "ccba3970",
   "metadata": {},
   "outputs": [],
   "source": [
    "import plotly.express as px\n",
    "import plotly.graph_objects as go\n",
    "import pandas as pd\n",
    "\n",
    "df = pd.read_csv('https://raw.githubusercontent.com/plotly/datasets/master/finance-charts-apple.csv')\n",
    "\n",
    "fig = px.histogram(df, x=\"Date\", y=\"AAPL.Close\", histfunc=\"avg\", title=\"Histogram on Date Axes\")\n",
    "fig.update_traces(xbins_size=\"M1\")\n",
    "fig.update_xaxes(showgrid=True, ticklabelmode=\"period\", dtick=\"M1\", tickformat=\"%b\\n%Y\")\n",
    "fig.update_layout(bargap=0.1)\n",
    "fig.add_trace(go.Scatter(mode=\"markers\", x=df[\"Date\"], y=df[\"AAPL.Close\"], name=\"daily\"))\n",
    "fig.show()"
   ]
  },
  {
   "cell_type": "markdown",
   "id": "ed6d65e5",
   "metadata": {},
   "source": [
    "### Displaying Period Data\n",
    "\n",
    "_new in 4.11_\n",
    "\n",
    "If your data coded \"January 1\" or \"January 31\" in fact refers to data collected throughout the month of January, for example, you can configure your traces to display their marks at the start end, or middle of the month with the `xperiod` and `xperiodalignment` attributes. In the example below, the raw data is all coded with an X value of the 10th of the month, but is binned into monthly periods with `xperiod=\"M1\"` and then displayed at the start, middle and end of the period."
   ]
  },
  {
   "cell_type": "code",
   "execution_count": null,
   "id": "12629eb6",
   "metadata": {},
   "outputs": [],
   "source": [
    "import plotly.graph_objects as go\n",
    "import pandas as pd\n",
    "\n",
    "df = pd.DataFrame(dict(\n",
    "    date=[\"2020-01-10\", \"2020-02-10\", \"2020-03-10\", \"2020-04-10\", \"2020-05-10\", \"2020-06-10\"],\n",
    "    value=[1,2,3,1,2,3]\n",
    "))\n",
    "\n",
    "fig = go.Figure()\n",
    "fig.add_trace(go.Scatter(\n",
    "    name=\"Raw Data\",\n",
    "    mode=\"markers+lines\", x=df[\"date\"], y=df[\"value\"],\n",
    "    marker_symbol=\"star\"\n",
    "))\n",
    "fig.add_trace(go.Scatter(\n",
    "    name=\"Start-aligned\",\n",
    "    mode=\"markers+lines\", x=df[\"date\"], y=df[\"value\"],\n",
    "    xperiod=\"M1\",\n",
    "    xperiodalignment=\"start\"\n",
    "))\n",
    "fig.add_trace(go.Scatter(\n",
    "    name=\"Middle-aligned\",\n",
    "    mode=\"markers+lines\", x=df[\"date\"], y=df[\"value\"],\n",
    "    xperiod=\"M1\",\n",
    "    xperiodalignment=\"middle\"\n",
    "))\n",
    "fig.add_trace(go.Scatter(\n",
    "    name=\"End-aligned\",\n",
    "    mode=\"markers+lines\", x=df[\"date\"], y=df[\"value\"],\n",
    "    xperiod=\"M1\",\n",
    "    xperiodalignment=\"end\"\n",
    "))\n",
    "fig.add_trace(go.Bar(\n",
    "    name=\"Middle-aligned\",\n",
    "    x=df[\"date\"], y=df[\"value\"],\n",
    "    xperiod=\"M1\",\n",
    "    xperiodalignment=\"middle\"\n",
    "))\n",
    "fig.update_xaxes(showgrid=True, ticklabelmode=\"period\")\n",
    "fig.show()"
   ]
  },
  {
   "cell_type": "markdown",
   "id": "e3bbc375",
   "metadata": {},
   "source": [
    "### Hover Templates with Mixtures of Period data\n",
    "\n",
    "*New in v5.0*\n",
    "\n",
    "When displaying periodic data with mixed-sized periods (i.e. quarterly and monthly) in conjunction with [`x` or `x unified` hovermodes and using `hovertemplate`](https://plotly.com/python/hover-text-and-formatting/), the `xhoverformat` attribute can be used to control how each period's X value is displayed, and the special `%{xother}` hover-template directive can be used to control how the X value is displayed for points that do not share the exact X coordinate with the point that is being hovered on. `%{xother}` will return an empty string when the X value is the one being hovered on, otherwise it will return `(%{x})`. The special `%{_xother}`, `%{xother_}` and `%{_xother_}` variations will display with spaces before, after or around the parentheses, respectively."
   ]
  },
  {
   "cell_type": "code",
   "execution_count": null,
   "id": "b3cc035d",
   "metadata": {},
   "outputs": [],
   "source": [
    "import plotly.graph_objects as go\n",
    "\n",
    "fig = go.Figure()\n",
    "\n",
    "fig.add_trace(go.Bar(\n",
    "    x=[\"2020-01-01\", \"2020-04-01\", \"2020-07-01\"],\n",
    "    y=[1000, 1500, 1700],\n",
    "    xperiod=\"M3\",\n",
    "    xperiodalignment=\"middle\",\n",
    "    xhoverformat=\"Q%q\",\n",
    "    hovertemplate=\"%{y}%{_xother}\"\n",
    "))\n",
    "\n",
    "fig.add_trace(go.Scatter(\n",
    "    x=[\"2020-01-01\", \"2020-02-01\", \"2020-03-01\",\n",
    "      \"2020-04-01\", \"2020-05-01\", \"2020-06-01\",\n",
    "      \"2020-07-01\", \"2020-08-01\", \"2020-09-01\"],\n",
    "    y=[1100,1050,1200,1300,1400,1700,1500,1400,1600],\n",
    "    xperiod=\"M1\",\n",
    "    xperiodalignment=\"middle\",\n",
    "    hovertemplate=\"%{y}%{_xother}\"\n",
    "))\n",
    "\n",
    "fig.update_layout(hovermode=\"x unified\")\n",
    "fig.show()"
   ]
  },
  {
   "cell_type": "markdown",
   "id": "087a36c9",
   "metadata": {
    "tags": []
   },
   "source": [
    "### Time Series Plot with Custom Date Range\n",
    "\n",
    "The data range can be set manually using either `datetime.datetime` objects, or date strings."
   ]
  },
  {
   "cell_type": "code",
   "execution_count": null,
   "id": "27ce240e",
   "metadata": {},
   "outputs": [],
   "source": [
    "# Using plotly.express\n",
    "import plotly.express as px\n",
    "\n",
    "import pandas as pd\n",
    "df = pd.read_csv('https://raw.githubusercontent.com/plotly/datasets/master/finance-charts-apple.csv')\n",
    "\n",
    "fig = px.line(df, x='Date', y='AAPL.High', range_x=['2016-07-01','2016-12-31'])\n",
    "fig.show()"
   ]
  },
  {
   "cell_type": "code",
   "execution_count": null,
   "id": "21682cbc",
   "metadata": {},
   "outputs": [],
   "source": [
    "# Using graph_objects\n",
    "\n",
    "import plotly.graph_objects as go\n",
    "import datetime\n",
    "\n",
    "x = [datetime.datetime(year=2013, month=10, day=4),\n",
    "     datetime.datetime(year=2013, month=11, day=5),\n",
    "     datetime.datetime(year=2013, month=12, day=6)]\n",
    "\n",
    "fig = go.Figure(data=[go.Scatter(x=x, y=[1, 3, 6])])\n",
    "# Use datetime objects to set xaxis range\n",
    "fig.update_layout(xaxis_range=[datetime.datetime(2013, 10, 17),\n",
    "                               datetime.datetime(2013, 11, 20)])\n",
    "fig.show()"
   ]
  },
  {
   "cell_type": "code",
   "execution_count": null,
   "id": "dac5d05a",
   "metadata": {},
   "outputs": [],
   "source": [
    "import plotly.graph_objects as go\n",
    "import pandas as pd\n",
    "df = pd.read_csv('https://raw.githubusercontent.com/plotly/datasets/master/finance-charts-apple.csv')\n",
    "\n",
    "fig = px.line(df, x='Date', y='AAPL.High')\n",
    "\n",
    "# Use date string to set xaxis range\n",
    "fig.update_layout(xaxis_range=['2016-07-01','2016-12-31'],\n",
    "                  title_text=\"Manually Set Date Range\")\n",
    "fig.show()"
   ]
  },
  {
   "cell_type": "markdown",
   "id": "0c98a676",
   "metadata": {},
   "source": [
    "### Time Series With Range Slider\n",
    "\n",
    "A range slider is a small subplot-like area below a plot which allows users to pan and zoom the X-axis while maintaining an overview of the chart. Check out the reference for more options: https://plotly.com/python/reference/layout/xaxis/#layout-xaxis-rangeslider"
   ]
  },
  {
   "cell_type": "code",
   "execution_count": null,
   "id": "0f44e13b",
   "metadata": {},
   "outputs": [],
   "source": [
    "import plotly.express as px\n",
    "import pandas as pd\n",
    "\n",
    "df = pd.read_csv('https://raw.githubusercontent.com/plotly/datasets/master/finance-charts-apple.csv')\n",
    "\n",
    "fig = px.line(df, x='Date', y='AAPL.High', title='Time Series with Rangeslider')\n",
    "\n",
    "fig.update_xaxes(rangeslider_visible=True)\n",
    "fig.show()"
   ]
  },
  {
   "cell_type": "markdown",
   "id": "b94fdb54",
   "metadata": {},
   "source": [
    "### Time Series with Range Selector Buttons\n",
    "\n",
    "Range selector buttons are special controls that work well with time series and range sliders, and allow users to easily set the range of the x-axis. Check out the reference for more options: https://plotly.com/python/reference/layout/xaxis/#layout-xaxis-rangeselector"
   ]
  },
  {
   "cell_type": "code",
   "execution_count": null,
   "id": "73bb0a7b",
   "metadata": {},
   "outputs": [],
   "source": [
    "import plotly.express as px\n",
    "import pandas as pd\n",
    "\n",
    "df = pd.read_csv('https://raw.githubusercontent.com/plotly/datasets/master/finance-charts-apple.csv')\n",
    "\n",
    "fig = px.line(df, x='Date', y='AAPL.High', title='Time Series with Range Slider and Selectors')\n",
    "\n",
    "fig.update_xaxes(\n",
    "    rangeslider_visible=True,\n",
    "    rangeselector=dict(\n",
    "        buttons=list([\n",
    "            dict(count=1, label=\"1m\", step=\"month\", stepmode=\"backward\"),\n",
    "            dict(count=6, label=\"6m\", step=\"month\", stepmode=\"backward\"),\n",
    "            dict(count=1, label=\"YTD\", step=\"year\", stepmode=\"todate\"),\n",
    "            dict(count=1, label=\"1y\", step=\"year\", stepmode=\"backward\"),\n",
    "            dict(step=\"all\")\n",
    "        ])\n",
    "    )\n",
    ")\n",
    "fig.show()"
   ]
  },
  {
   "cell_type": "markdown",
   "id": "47363deb",
   "metadata": {},
   "source": [
    "### Customizing Tick Label Formatting by Zoom Level\n",
    "\n",
    "The `tickformatstops` attribute can be used to customize the formatting of tick labels depending on the zoom level. Try zooming in to the chart below and see how the tick label formatting changes. Check out the reference for more options: https://plotly.com/python/reference/layout/xaxis/#layout-xaxis-tickformatstops"
   ]
  },
  {
   "cell_type": "code",
   "execution_count": null,
   "id": "eb16c20e",
   "metadata": {},
   "outputs": [],
   "source": [
    "import plotly.graph_objects as go\n",
    "import pandas as pd\n",
    "\n",
    "df = pd.read_csv('https://raw.githubusercontent.com/plotly/datasets/master/finance-charts-apple.csv')\n",
    "\n",
    "fig = go.Figure(go.Scatter(\n",
    "    x = df['Date'],\n",
    "    y = df['mavg']\n",
    "))\n",
    "\n",
    "fig.update_xaxes(\n",
    "    rangeslider_visible=True,\n",
    "    tickformatstops = [\n",
    "        dict(dtickrange=[None, 1000], value=\"%H:%M:%S.%L ms\"),\n",
    "        dict(dtickrange=[1000, 60000], value=\"%H:%M:%S s\"),\n",
    "        dict(dtickrange=[60000, 3600000], value=\"%H:%M m\"),\n",
    "        dict(dtickrange=[3600000, 86400000], value=\"%H:%M h\"),\n",
    "        dict(dtickrange=[86400000, 604800000], value=\"%e. %b d\"),\n",
    "        dict(dtickrange=[604800000, \"M1\"], value=\"%e. %b w\"),\n",
    "        dict(dtickrange=[\"M1\", \"M12\"], value=\"%b '%y M\"),\n",
    "        dict(dtickrange=[\"M12\", None], value=\"%Y Y\")\n",
    "    ]\n",
    ")\n",
    "\n",
    "fig.show()"
   ]
  },
  {
   "cell_type": "markdown",
   "id": "754df79e",
   "metadata": {},
   "source": [
    "### Hiding Weekends and Holidays\n",
    "\n",
    "The `rangebreaks` attribute available on x- and y-axes of type `date` can be used to hide certain time-periods. In the example below, we show two plots: one in default mode to show gaps in the data, and one where we hide weekends and holidays to show an uninterrupted trading history. Note the smaller gaps between the grid lines for December 21 and January 4, where holidays were removed. Check out the reference for more options: https://plotly.com/python/reference/layout/xaxis/#layout-xaxis-rangebreaks\n",
    "\n",
    "> Note: a known limitation of this feature is that it does not support `scattergl` traces. When using this feature on plots with more than a few hundred data points with `px.scatter` or `px.line` or `px.area`, you may need to pass in `render_mode=\"svg\"` to ensure that the underlying trace type is `scatter` and not `scattergl`."
   ]
  },
  {
   "cell_type": "code",
   "execution_count": null,
   "id": "9ba0fb27",
   "metadata": {},
   "outputs": [],
   "source": [
    "import plotly.express as px\n",
    "import pandas as pd\n",
    "\n",
    "df = pd.read_csv('https://raw.githubusercontent.com/plotly/datasets/master/finance-charts-apple.csv')\n",
    "\n",
    "fig = px.scatter(df, x='Date', y='AAPL.High', range_x=['2015-12-01', '2016-01-15'],\n",
    "                 title=\"Default Display with Gaps\")\n",
    "fig.show()"
   ]
  },
  {
   "cell_type": "code",
   "execution_count": null,
   "id": "81e00b1f",
   "metadata": {},
   "outputs": [],
   "source": [
    "import plotly.express as px\n",
    "import pandas as pd\n",
    "\n",
    "df = pd.read_csv('https://raw.githubusercontent.com/plotly/datasets/master/finance-charts-apple.csv')\n",
    "\n",
    "fig = px.scatter(df, x='Date', y='AAPL.High', range_x=['2015-12-01', '2016-01-15'],\n",
    "                 title=\"Hide Weekend and Holiday Gaps with rangebreaks\")\n",
    "fig.update_xaxes(\n",
    "    rangebreaks=[\n",
    "        dict(bounds=[\"sat\", \"mon\"]), #hide weekends\n",
    "        dict(values=[\"2015-12-25\", \"2016-01-01\"])  # hide Christmas and New Year's\n",
    "    ]\n",
    ")\n",
    "fig.show()"
   ]
  },
  {
   "cell_type": "markdown",
   "id": "ed6ad138",
   "metadata": {},
   "source": [
    "### Hiding Non-Business Hours\n",
    "\n",
    "The `rangebreaks` feature described above works for hiding hourly periods as well."
   ]
  },
  {
   "cell_type": "code",
   "execution_count": null,
   "id": "daf563dc",
   "metadata": {},
   "outputs": [],
   "source": [
    "import plotly.express as px\n",
    "import pandas as pd\n",
    "import numpy as np\n",
    "np.random.seed(1)\n",
    "\n",
    "work_week_40h = pd.date_range(start='2020-03-01', end='2020-03-07', freq=\"BH\")\n",
    "\n",
    "df = pd.DataFrame(dict(\n",
    "    date = work_week_40h,\n",
    "    value = np.cumsum(np.random.rand(40)-0.5)\n",
    "))\n",
    "\n",
    "fig = px.scatter(df, x=\"date\", y=\"value\",\n",
    "                 title=\"Default Display with Gaps\")\n",
    "fig.show()"
   ]
  },
  {
   "cell_type": "code",
   "execution_count": null,
   "id": "56fd133f",
   "metadata": {
    "lines_to_next_cell": 2
   },
   "outputs": [],
   "source": [
    "import plotly.express as px\n",
    "import pandas as pd\n",
    "import numpy as np\n",
    "np.random.seed(1)\n",
    "\n",
    "work_week_40h = pd.date_range(start='2020-03-01', end='2020-03-07', freq=\"BH\")\n",
    "\n",
    "df = pd.DataFrame(dict(\n",
    "    date = work_week_40h,\n",
    "    value = np.cumsum(np.random.rand(40)-0.5)\n",
    "))\n",
    "\n",
    "fig = px.scatter(df, x=\"date\", y=\"value\",\n",
    "                 title=\"Hide Non-Business Hour Gaps with rangebreaks\")\n",
    "fig.update_xaxes(\n",
    "    rangebreaks=[\n",
    "        dict(bounds=[17, 9], pattern=\"hour\"), #hide hours outside of 9am-5pm\n",
    "    ]\n",
    ")\n",
    "fig.show()"
   ]
  },
  {
   "cell_type": "markdown",
   "id": "12b04c28",
   "metadata": {},
   "source": [
    "### What About Dash?\n",
    "\n",
    "[Dash](https://dash.plot.ly/) is an open-source framework for building analytical applications, with no Javascript required, and it is tightly integrated with the Plotly graphing library.\n",
    "\n",
    "Learn about how to install Dash at https://dash.plot.ly/installation.\n",
    "\n",
    "Everywhere in this page that you see `fig.show()`, you can display the same figure in a Dash application by passing it to the `figure` argument of the [`Graph` component](https://dash.plot.ly/dash-core-components/graph) from the built-in `dash_core_components` package like this:\n",
    "\n",
    "```python\n",
    "import plotly.graph_objects as go # or plotly.express as px\n",
    "fig = go.Figure() # or any Plotly Express function e.g. px.bar(...)\n",
    "# fig.add_trace( ... )\n",
    "# fig.update_layout( ... )\n",
    "\n",
    "from dash import Dash, dcc, html\n",
    "\n",
    "app = Dash()\n",
    "app.layout = html.Div([\n",
    "    dcc.Graph(figure=fig)\n",
    "])\n",
    "\n",
    "app.run_server(debug=True, use_reloader=False)  # Turn off reloader if inside Jupyter\n",
    "```"
   ]
  }
 ],
 "metadata": {
  "jupytext": {
   "notebook_metadata_filter": "all"
  },
  "kernelspec": {
   "display_name": "Python 3",
   "language": "python",
   "name": "python3"
  },
  "language_info": {
   "codemirror_mode": {
    "name": "ipython",
    "version": 3
   },
   "file_extension": ".py",
   "mimetype": "text/x-python",
   "name": "python",
   "nbconvert_exporter": "python",
   "pygments_lexer": "ipython3",
   "version": "3.8.8"
  },
  "plotly": {
   "description": "How to plot date and time in python.",
   "display_as": "financial",
   "language": "python",
   "layout": "base",
   "name": "Time Series and Date Axes",
   "order": 1,
   "page_type": "example_index",
   "permalink": "python/time-series/",
   "thumbnail": "thumbnail/time-series.jpg"
  }
 },
 "nbformat": 4,
 "nbformat_minor": 5
}
