{
 "cells": [
  {
   "cell_type": "markdown",
   "id": "8e93b842",
   "metadata": {},
   "source": [
    "[Treemap charts](https://en.wikipedia.org/wiki/Treemapping) visualize hierarchical data using nested rectangles. The input data format is the same as for [Sunburst Charts](https://plotly.com/python/sunburst-charts/) and [Icicle Charts](https://plotly.com/python/icicle-charts/): the hierarchy is defined by [labels](https://plotly.com/python/reference/treemap/#treemap-labels) (`names` for `px.treemap`) and [parents](https://plotly.com/python/reference/treemap/#treemap-parents) attributes. Click on one sector to zoom in/out, which also displays a pathbar in the upper-left corner of your treemap. To zoom out you can use the path bar as well.\n",
    "\n",
    "### Basic Treemap with plotly.express\n",
    "\n",
    "[Plotly Express](/python/plotly-express/) is the easy-to-use, high-level interface to Plotly, which [operates on a variety of types of data](/python/px-arguments/) and produces [easy-to-style figures](/python/styling-plotly-express/).\n",
    "\n",
    "With `px.treemap`, each row of the DataFrame is represented as a sector of the treemap."
   ]
  },
  {
   "cell_type": "code",
   "execution_count": null,
   "id": "4227f4ce",
   "metadata": {},
   "outputs": [],
   "source": [
    "import plotly.express as px\n",
    "fig = px.treemap(\n",
    "    names = [\"Eve\",\"Cain\", \"Seth\", \"Enos\", \"Noam\", \"Abel\", \"Awan\", \"Enoch\", \"Azura\"],\n",
    "    parents = [\"\", \"Eve\", \"Eve\", \"Seth\", \"Seth\", \"Eve\", \"Eve\", \"Awan\", \"Eve\"]\n",
    ")\n",
    "fig.update_traces(root_color=\"lightgrey\")\n",
    "fig.update_layout(margin = dict(t=50, l=25, r=25, b=25))\n",
    "fig.show()"
   ]
  },
  {
   "cell_type": "markdown",
   "id": "c620b65f",
   "metadata": {},
   "source": [
    "### Treemap of a rectangular DataFrame with plotly.express\n",
    "\n",
    "Hierarchical data are often stored as a rectangular dataframe, with different columns corresponding to different levels of the hierarchy. `px.treemap` can take a `path` parameter corresponding to a list of columns. Note that `id` and `parent` should not be provided if `path` is given."
   ]
  },
  {
   "cell_type": "code",
   "execution_count": null,
   "id": "1a40298e",
   "metadata": {},
   "outputs": [],
   "source": [
    "import plotly.express as px\n",
    "df = px.data.tips()\n",
    "fig = px.treemap(df, path=[px.Constant(\"all\"), 'day', 'time', 'sex'], values='total_bill')\n",
    "fig.update_traces(root_color=\"lightgrey\")\n",
    "fig.update_layout(margin = dict(t=50, l=25, r=25, b=25))\n",
    "fig.show()"
   ]
  },
  {
   "cell_type": "markdown",
   "id": "aac4003f",
   "metadata": {},
   "source": [
    "### Treemap of a rectangular DataFrame with continuous color argument in px.treemap\n",
    "\n",
    "If a `color` argument is passed, the color of a node is computed as the average of the color values of its children, weighted by their values.\n",
    "\n",
    "**Note**: for best results, ensure that the first `path` element is a single root node. In the examples below we are creating a dummy column containing identical values for each row to achieve this."
   ]
  },
  {
   "cell_type": "code",
   "execution_count": null,
   "id": "5585cd05",
   "metadata": {},
   "outputs": [],
   "source": [
    "import plotly.express as px\n",
    "import numpy as np\n",
    "df = px.data.gapminder().query(\"year == 2007\")\n",
    "fig = px.treemap(df, path=[px.Constant(\"world\"), 'continent', 'country'], values='pop',\n",
    "                  color='lifeExp', hover_data=['iso_alpha'],\n",
    "                  color_continuous_scale='RdBu',\n",
    "                  color_continuous_midpoint=np.average(df['lifeExp'], weights=df['pop']))\n",
    "fig.update_layout(margin = dict(t=50, l=25, r=25, b=25))\n",
    "fig.show()"
   ]
  },
  {
   "cell_type": "markdown",
   "id": "f4cfb6fb",
   "metadata": {},
   "source": [
    "### Treemap of a rectangular DataFrame with discrete color argument in px.treemap\n",
    "\n",
    "When the argument of `color` corresponds to non-numerical data, discrete colors are used. If a sector has the same value of the `color` column for all its children, then the corresponding color is used, otherwise the first color of the discrete color sequence is used."
   ]
  },
  {
   "cell_type": "code",
   "execution_count": null,
   "id": "951fa860",
   "metadata": {},
   "outputs": [],
   "source": [
    "import plotly.express as px\n",
    "df = px.data.tips()\n",
    "fig = px.treemap(df, path=[px.Constant(\"all\"), 'sex', 'day', 'time'],\n",
    "                 values='total_bill', color='day')\n",
    "fig.update_layout(margin = dict(t=50, l=25, r=25, b=25))\n",
    "fig.show()"
   ]
  },
  {
   "cell_type": "markdown",
   "id": "38437e9f",
   "metadata": {},
   "source": [
    "In the example below the color of Saturday and Sunday sectors is the same as Dinner because there are only Dinner entries for Saturday and Sunday. However, for Female -> Friday there are both lunches and dinners, hence the \"mixed\" color (blue here) is used."
   ]
  },
  {
   "cell_type": "code",
   "execution_count": null,
   "id": "a05c4e5d",
   "metadata": {},
   "outputs": [],
   "source": [
    "import plotly.express as px\n",
    "df = px.data.tips()\n",
    "fig = px.treemap(df, path=[px.Constant(\"all\"), 'sex', 'day', 'time'],\n",
    "                 values='total_bill', color='time')\n",
    "fig.update_layout(margin = dict(t=50, l=25, r=25, b=25))\n",
    "fig.show()"
   ]
  },
  {
   "cell_type": "markdown",
   "id": "c7a56c87",
   "metadata": {},
   "source": [
    "### Using an explicit mapping for discrete colors\n",
    "\n",
    "For more information about discrete colors, see the [dedicated page](/python/discrete-color)."
   ]
  },
  {
   "cell_type": "code",
   "execution_count": null,
   "id": "fb25d8c4",
   "metadata": {},
   "outputs": [],
   "source": [
    "import plotly.express as px\n",
    "df = px.data.tips()\n",
    "fig = px.treemap(df, path=[px.Constant(\"all\"), 'sex', 'day', 'time'],\n",
    "                 values='total_bill', color='time',\n",
    "                  color_discrete_map={'(?)':'lightgrey', 'Lunch':'gold', 'Dinner':'darkblue'})\n",
    "fig.update_layout(margin = dict(t=50, l=25, r=25, b=25))\n",
    "fig.show()"
   ]
  },
  {
   "cell_type": "markdown",
   "id": "674a7762",
   "metadata": {},
   "source": [
    "### Rectangular data with missing values\n",
    "\n",
    "If the dataset is not fully rectangular, missing values should be supplied as `None`."
   ]
  },
  {
   "cell_type": "code",
   "execution_count": null,
   "id": "3b5c239d",
   "metadata": {},
   "outputs": [],
   "source": [
    "import plotly.express as px\n",
    "import pandas as pd\n",
    "vendors = [\"A\", \"B\", \"C\", \"D\", None, \"E\", \"F\", \"G\", \"H\", None]\n",
    "sectors = [\"Tech\", \"Tech\", \"Finance\", \"Finance\", \"Other\",\n",
    "           \"Tech\", \"Tech\", \"Finance\", \"Finance\", \"Other\"]\n",
    "regions = [\"North\", \"North\", \"North\", \"North\", \"North\",\n",
    "           \"South\", \"South\", \"South\", \"South\", \"South\"]\n",
    "sales = [1, 3, 2, 4, 1, 2, 2, 1, 4, 1]\n",
    "df = pd.DataFrame(\n",
    "    dict(vendors=vendors, sectors=sectors, regions=regions, sales=sales)\n",
    ")\n",
    "df[\"all\"] = \"all\" # in order to have a single root node\n",
    "print(df)\n",
    "fig = px.treemap(df, path=['all', 'regions', 'sectors', 'vendors'], values='sales')\n",
    "fig.update_traces(root_color=\"lightgrey\")\n",
    "fig.update_layout(margin = dict(t=50, l=25, r=25, b=25))\n",
    "fig.show()"
   ]
  },
  {
   "cell_type": "markdown",
   "id": "0754f3ef",
   "metadata": {},
   "source": [
    "### Treemap with Rounded Corners"
   ]
  },
  {
   "cell_type": "markdown",
   "id": "6c3fac11",
   "metadata": {},
   "source": [
    "*New in 5.12*\n",
    "\n",
    "Update treemap sectors to have rounded corners by configuring the `cornerradius` in px."
   ]
  },
  {
   "cell_type": "code",
   "execution_count": null,
   "id": "bd06fd7e",
   "metadata": {},
   "outputs": [],
   "source": [
    "import plotly.express as px\n",
    "fig = px.treemap(\n",
    "    names = [\"Eve\",\"Cain\", \"Seth\", \"Enos\", \"Noam\", \"Abel\", \"Awan\", \"Enoch\", \"Azura\"],\n",
    "    parents = [\"\", \"Eve\", \"Eve\", \"Seth\", \"Seth\", \"Eve\", \"Eve\", \"Awan\", \"Eve\"]\n",
    ")\n",
    "fig.update_traces(marker=dict(cornerradius=5))\n",
    "fig.show()"
   ]
  },
  {
   "cell_type": "markdown",
   "id": "dc7e5cdb",
   "metadata": {},
   "source": [
    "### Basic Treemap with go.Treemap\n",
    "\n",
    "If Plotly Express does not provide a good starting point, it is also possible to use [the more generic `go.Treemap` class from `plotly.graph_objects`](/python/graph-objects/)."
   ]
  },
  {
   "cell_type": "code",
   "execution_count": null,
   "id": "f6f7fdfe",
   "metadata": {},
   "outputs": [],
   "source": [
    "import plotly.graph_objects as go\n",
    "\n",
    "fig = go.Figure(go.Treemap(\n",
    "    labels = [\"Eve\",\"Cain\", \"Seth\", \"Enos\", \"Noam\", \"Abel\", \"Awan\", \"Enoch\", \"Azura\"],\n",
    "    parents = [\"\", \"Eve\", \"Eve\", \"Seth\", \"Seth\", \"Eve\", \"Eve\", \"Awan\", \"Eve\"],\n",
    "    root_color=\"lightgrey\"\n",
    "))\n",
    "\n",
    "fig.update_layout(margin = dict(t=50, l=25, r=25, b=25))\n",
    "fig.show()"
   ]
  },
  {
   "cell_type": "markdown",
   "id": "6437955d",
   "metadata": {},
   "source": [
    "### Set Different Attributes in Treemap\n",
    "\n",
    "This example uses the following attributes:\n",
    "\n",
    "1.  [values](https://plotly.com/python/reference/treemap/#treemap-values): sets the values associated with each of the sectors.\n",
    "2.  [textinfo](https://plotly.com/python/reference/treemap/#treemap-textinfo): determines which trace information appear on the graph that can be 'text', 'value', 'current path', 'percent root', 'percent entry', and 'percent parent', or any combination of them.\n",
    "3.  [pathbar](https://plotly.com/python/reference/treemap/#treemap-pathbar): a main extra feature of treemap to display the current path of the visible portion of the hierarchical map. It may also be useful for zooming out of the graph.\n",
    "4.  [branchvalues](https://plotly.com/python/reference/treemap/#treemap-branchvalues): determines how the items in `values` are summed. When set to \"total\", items in `values` are taken to be value of all its descendants. In the example below Eve = 65, which is equal to 14 + 12 + 10 + 2 + 6 + 6 + 1 + 4.\n",
    "    When set to \"remainder\", items in `values` corresponding to the root and the branches sectors are taken to be the extra part not part of the sum of the values at their leaves."
   ]
  },
  {
   "cell_type": "code",
   "execution_count": null,
   "id": "ab01281a",
   "metadata": {},
   "outputs": [],
   "source": [
    "import plotly.graph_objects as go\n",
    "from plotly.subplots import make_subplots\n",
    "\n",
    "labels = [\"Eve\", \"Cain\", \"Seth\", \"Enos\", \"Noam\", \"Abel\", \"Awan\", \"Enoch\", \"Azura\"]\n",
    "parents = [\"\", \"Eve\", \"Eve\", \"Seth\", \"Seth\", \"Eve\", \"Eve\", \"Awan\", \"Eve\"]\n",
    "\n",
    "fig = make_subplots(\n",
    "    cols = 2, rows = 1,\n",
    "    column_widths = [0.4, 0.4],\n",
    "    subplot_titles = ('branchvalues: <b>remainder<br />&nbsp;<br />', 'branchvalues: <b>total<br />&nbsp;<br />'),\n",
    "    specs = [[{'type': 'treemap', 'rowspan': 1}, {'type': 'treemap'}]]\n",
    ")\n",
    "\n",
    "fig.add_trace(go.Treemap(\n",
    "    labels = labels,\n",
    "    parents = parents,\n",
    "    values =  [10, 14, 12, 10, 2, 6, 6, 1, 4],\n",
    "    textinfo = \"label+value+percent parent+percent entry+percent root\",\n",
    "    root_color=\"lightgrey\"\n",
    "),row = 1, col = 1)\n",
    "\n",
    "fig.add_trace(go.Treemap(\n",
    "    branchvalues = \"total\",\n",
    "    labels = labels,\n",
    "    parents = parents,\n",
    "    values = [65, 14, 12, 10, 2, 6, 6, 1, 4],\n",
    "    textinfo = \"label+value+percent parent+percent entry\",\n",
    "    root_color=\"lightgrey\"\n",
    "),row = 1, col = 2)\n",
    "\n",
    "fig.update_layout(margin = dict(t=50, l=25, r=25, b=25))\n",
    "fig.show()"
   ]
  },
  {
   "cell_type": "markdown",
   "id": "18e64414",
   "metadata": {},
   "source": [
    "### Set Color of Treemap Sectors\n",
    "\n",
    "There are three different ways to change the color of the sectors in Treemap:\n",
    "\n",
    "1.  [marker.colors](https://plotly.com/python/reference/treemap/#treemap-marker-colors), 2) [colorway](https://plotly.com/python/reference/treemap/#treemap-colorway), 3) [colorscale](https://plotly.com/python/reference/treemap/#treemap-colorscale). The following examples show how to use each of them."
   ]
  },
  {
   "cell_type": "code",
   "execution_count": null,
   "id": "2877a70d",
   "metadata": {},
   "outputs": [],
   "source": [
    "import plotly.graph_objects as go\n",
    "\n",
    "values = [0, 11, 12, 13, 14, 15, 20, 30]\n",
    "labels = [\"container\", \"A1\", \"A2\", \"A3\", \"A4\", \"A5\", \"B1\", \"B2\"]\n",
    "parents = [\"\", \"container\", \"A1\", \"A2\", \"A3\", \"A4\", \"container\", \"B1\"]\n",
    "\n",
    "fig = go.Figure(go.Treemap(\n",
    "    labels = labels,\n",
    "    values = values,\n",
    "    parents = parents,\n",
    "    marker_colors = [\"pink\", \"royalblue\", \"lightgray\", \"purple\",\n",
    "                     \"cyan\", \"lightgray\", \"lightblue\", \"lightgreen\"]\n",
    "))\n",
    "\n",
    "fig.update_layout(margin = dict(t=50, l=25, r=25, b=25))\n",
    "fig.show()"
   ]
  },
  {
   "cell_type": "markdown",
   "id": "2c99dbfb",
   "metadata": {},
   "source": [
    "This example uses `treemapcolorway` attribute, which should be set in layout."
   ]
  },
  {
   "cell_type": "code",
   "execution_count": null,
   "id": "15be3cc0",
   "metadata": {},
   "outputs": [],
   "source": [
    "import plotly.graph_objects as go\n",
    "\n",
    "values = [0, 11, 12, 13, 14, 15, 20, 30]\n",
    "labels = [\"container\", \"A1\", \"A2\", \"A3\", \"A4\", \"A5\", \"B1\", \"B2\"]\n",
    "parents = [\"\", \"container\", \"A1\", \"A2\", \"A3\", \"A4\", \"container\", \"B1\"]\n",
    "\n",
    "fig = go.Figure(go.Treemap(\n",
    "    labels = labels,\n",
    "    values = values,\n",
    "    parents = parents,\n",
    "    root_color=\"lightblue\"\n",
    "))\n",
    "\n",
    "fig.update_layout(\n",
    "    treemapcolorway = [\"pink\", \"lightgray\"],\n",
    "    margin = dict(t=50, l=25, r=25, b=25)\n",
    ")\n",
    "fig.show()"
   ]
  },
  {
   "cell_type": "code",
   "execution_count": null,
   "id": "ff801931",
   "metadata": {},
   "outputs": [],
   "source": [
    "import plotly.graph_objects as go\n",
    "\n",
    "values = [0, 11, 12, 13, 14, 15, 20, 30]\n",
    "labels = [\"container\", \"A1\", \"A2\", \"A3\", \"A4\", \"A5\", \"B1\", \"B2\"]\n",
    "parents = [\"\", \"container\", \"A1\", \"A2\", \"A3\", \"A4\", \"container\", \"B1\"]\n",
    "\n",
    "fig = go.Figure(go.Treemap(\n",
    "    labels = labels,\n",
    "    values = values,\n",
    "    parents = parents,\n",
    "    marker_colorscale = 'Blues'\n",
    "))\n",
    "\n",
    "fig.update_layout(margin = dict(t=50, l=25, r=25, b=25))\n",
    "\n",
    "fig.show()"
   ]
  },
  {
   "cell_type": "markdown",
   "id": "d4cf683f",
   "metadata": {},
   "source": [
    "### Treemap chart with a continuous colorscale\n",
    "\n",
    "The example below visualizes a breakdown of sales (corresponding to sector width) and call success rate (corresponding to sector color) by region, county and salesperson level. For example, when exploring the data you can see that although the East region is behaving poorly, the Tyler county is still above average -- however, its performance is reduced by the poor success rate of salesperson GT.\n",
    "\n",
    "In the right subplot which has a `maxdepth` of two levels, click on a sector to see its breakdown to lower levels."
   ]
  },
  {
   "cell_type": "code",
   "execution_count": null,
   "id": "0bb10ac1",
   "metadata": {},
   "outputs": [],
   "source": [
    "import plotly.graph_objects as go\n",
    "from plotly.subplots import make_subplots\n",
    "import pandas as pd\n",
    "\n",
    "df = pd.read_csv('https://raw.githubusercontent.com/plotly/datasets/master/sales_success.csv')\n",
    "print(df.head())\n",
    "\n",
    "levels = ['salesperson', 'county', 'region'] # levels used for the hierarchical chart\n",
    "color_columns = ['sales', 'calls']\n",
    "value_column = 'calls'\n",
    "\n",
    "def build_hierarchical_dataframe(df, levels, value_column, color_columns=None):\n",
    "    \"\"\"\n",
    "    Build a hierarchy of levels for Sunburst or Treemap charts.\n",
    "\n",
    "    Levels are given starting from the bottom to the top of the hierarchy,\n",
    "    ie the last level corresponds to the root.\n",
    "    \"\"\"\n",
    "    df_list = []\n",
    "    for i, level in enumerate(levels):\n",
    "        df_tree = pd.DataFrame(columns=['id', 'parent', 'value', 'color'])\n",
    "        dfg = df.groupby(levels[i:]).sum()\n",
    "        dfg = dfg.reset_index()\n",
    "        df_tree['id'] = dfg[level].copy()\n",
    "        if i < len(levels) - 1:\n",
    "            df_tree['parent'] = dfg[levels[i+1]].copy()\n",
    "        else:\n",
    "            df_tree['parent'] = 'total'\n",
    "        df_tree['value'] = dfg[value_column]\n",
    "        df_tree['color'] = dfg[color_columns[0]] / dfg[color_columns[1]]\n",
    "        df_list.append(df_tree)\n",
    "    total = pd.Series(dict(id='total', parent='',\n",
    "                              value=df[value_column].sum(),\n",
    "                              color=df[color_columns[0]].sum() / df[color_columns[1]].sum()), name=0)\n",
    "    df_list.append(total)\n",
    "    df_all_trees = pd.concat(df_list, ignore_index=True)\n",
    "    return df_all_trees\n",
    "\n",
    "\n",
    "df_all_trees = build_hierarchical_dataframe(df, levels, value_column, color_columns)\n",
    "average_score = df['sales'].sum() / df['calls'].sum()\n",
    "\n",
    "fig = make_subplots(1, 2, specs=[[{\"type\": \"domain\"}, {\"type\": \"domain\"}]],)\n",
    "\n",
    "fig.add_trace(go.Treemap(\n",
    "    labels=df_all_trees['id'],\n",
    "    parents=df_all_trees['parent'],\n",
    "    values=df_all_trees['value'],\n",
    "    branchvalues='total',\n",
    "    marker=dict(\n",
    "        colors=df_all_trees['color'],\n",
    "        colorscale='RdBu',\n",
    "        cmid=average_score),\n",
    "    hovertemplate='<b>%{label} </b> <br> Sales: %{value}<br> Success rate: %{color:.2f}',\n",
    "    name=''\n",
    "    ), 1, 1)\n",
    "\n",
    "fig.add_trace(go.Treemap(\n",
    "    labels=df_all_trees['id'],\n",
    "    parents=df_all_trees['parent'],\n",
    "    values=df_all_trees['value'],\n",
    "    branchvalues='total',\n",
    "    marker=dict(\n",
    "        colors=df_all_trees['color'],\n",
    "        colorscale='RdBu',\n",
    "        cmid=average_score),\n",
    "    hovertemplate='<b>%{label} </b> <br> Sales: %{value}<br> Success rate: %{color:.2f}',\n",
    "    maxdepth=2\n",
    "    ), 1, 2)\n",
    "\n",
    "fig.update_layout(margin = dict(t=50, l=25, r=25, b=25))\n",
    "fig.show()"
   ]
  },
  {
   "cell_type": "markdown",
   "id": "817a0717",
   "metadata": {},
   "source": [
    "### Nested Layers in Treemap\n",
    "\n",
    "The following example uses hierarchical data that includes layers and grouping. Treemap and [Sunburst](https://plotly.com/python/sunburst-charts/) charts reveal insights into the data, and the format of your hierarchical data. [maxdepth](https://plotly.com/python/reference/treemap/#treemap-maxdepth) attribute sets the number of rendered sectors from the given level."
   ]
  },
  {
   "cell_type": "code",
   "execution_count": null,
   "id": "05839969",
   "metadata": {},
   "outputs": [],
   "source": [
    "import plotly.graph_objects as go\n",
    "\n",
    "import pandas as pd\n",
    "\n",
    "df = pd.read_csv('https://raw.githubusercontent.com/plotly/datasets/96c0bd/sunburst-coffee-flavors-complete.csv')\n",
    "\n",
    "fig = go.Figure()\n",
    "\n",
    "fig.add_trace(go.Treemap(\n",
    "    ids = df.ids,\n",
    "    labels = df.labels,\n",
    "    parents = df.parents,\n",
    "    maxdepth=3,\n",
    "    root_color=\"lightgrey\"\n",
    "))\n",
    "\n",
    "fig.update_layout(margin = dict(t=50, l=25, r=25, b=25))\n",
    "\n",
    "fig.show()"
   ]
  },
  {
   "cell_type": "markdown",
   "id": "c8e93ee1",
   "metadata": {},
   "source": [
    "### Controlling text fontsize with uniformtext\n",
    "\n",
    "If you want all the text labels to have the same size, you can use the `uniformtext` layout parameter. The `minsize` attribute sets the font size, and the `mode` attribute sets what happens for labels which cannot fit with the desired fontsize: either `hide` them or `show` them with overflow.\n",
    "\n",
    "*Note: animated transitions are currently not implemented when `uniformtext` is used.*"
   ]
  },
  {
   "cell_type": "code",
   "execution_count": null,
   "id": "524dd06a",
   "metadata": {},
   "outputs": [],
   "source": [
    "import plotly.graph_objects as go\n",
    "import pandas as pd\n",
    "\n",
    "df = pd.read_csv('https://raw.githubusercontent.com/plotly/datasets/96c0bd/sunburst-coffee-flavors-complete.csv')\n",
    "\n",
    "fig = go.Figure(go.Treemap(\n",
    "    ids = df.ids,\n",
    "    labels = df.labels,\n",
    "    parents = df.parents,\n",
    "    pathbar_textfont_size=15,\n",
    "    root_color=\"lightgrey\"\n",
    "))\n",
    "fig.update_layout(\n",
    "    uniformtext=dict(minsize=10, mode='hide'),\n",
    "    margin = dict(t=50, l=25, r=25, b=25)\n",
    ")\n",
    "fig.show()"
   ]
  },
  {
   "cell_type": "markdown",
   "id": "f9447a6a",
   "metadata": {},
   "source": [
    "### Pattern Fills\n",
    "\n",
    "*New in 5.15*\n",
    "\n",
    "Treemap charts support [patterns](/python/pattern-hatching-texture/) (also known as hatching or texture) in addition to color. In this example, we apply a pattern to the root node."
   ]
  },
  {
   "cell_type": "code",
   "execution_count": null,
   "id": "37e3bd12",
   "metadata": {},
   "outputs": [],
   "source": [
    "import plotly.graph_objects as go\n",
    "\n",
    "fig = go.Figure(\n",
    "    go.Treemap(\n",
    "        labels = [\"Eve\",\"Cain\", \"Seth\", \"Enos\", \"Noam\", \"Abel\", \"Awan\", \"Enoch\", \"Azura\"],\n",
    "        parents=[\"\", \"Eve\", \"Eve\", \"Seth\", \"Seth\", \"Eve\", \"Eve\", \"Awan\", \"Eve\"],\n",
    "        root_color=\"lightgrey\",\n",
    "        textfont_size=20,\n",
    "        marker=dict(pattern=dict(shape=[\"|\"], solidity=0.80)),\n",
    "    )\n",
    ")\n",
    "\n",
    "fig.show()"
   ]
  },
  {
   "cell_type": "markdown",
   "id": "1af46c10",
   "metadata": {},
   "source": [
    "#### Reference\n",
    "\n",
    "See [function reference for `px.treemap()`](https://plotly.com/python-api-reference/generated/plotly.express.treemap) or https://plotly.com/python/reference/treemap/ for more information and chart attribute options!\n"
   ]
  },
  {
   "cell_type": "markdown",
   "id": "d2f9ff84",
   "metadata": {},
   "source": [
    "### What About Dash?\n",
    "\n",
    "[Dash](https://dash.plot.ly/) is an open-source framework for building analytical applications, with no Javascript required, and it is tightly integrated with the Plotly graphing library.\n",
    "\n",
    "Learn about how to install Dash at https://dash.plot.ly/installation.\n",
    "\n",
    "Everywhere in this page that you see `fig.show()`, you can display the same figure in a Dash application by passing it to the `figure` argument of the [`Graph` component](https://dash.plot.ly/dash-core-components/graph) from the built-in `dash_core_components` package like this:\n",
    "\n",
    "```python\n",
    "import plotly.graph_objects as go # or plotly.express as px\n",
    "fig = go.Figure() # or any Plotly Express function e.g. px.bar(...)\n",
    "# fig.add_trace( ... )\n",
    "# fig.update_layout( ... )\n",
    "\n",
    "from dash import Dash, dcc, html\n",
    "\n",
    "app = Dash()\n",
    "app.layout = html.Div([\n",
    "    dcc.Graph(figure=fig)\n",
    "])\n",
    "\n",
    "app.run_server(debug=True, use_reloader=False)  # Turn off reloader if inside Jupyter\n",
    "```"
   ]
  }
 ],
 "metadata": {
  "jupytext": {
   "notebook_metadata_filter": "all"
  },
  "kernelspec": {
   "display_name": "Python 3 (ipykernel)",
   "language": "python",
   "name": "python3"
  },
  "language_info": {
   "codemirror_mode": {
    "name": "ipython",
    "version": 3
   },
   "file_extension": ".py",
   "mimetype": "text/x-python",
   "name": "python",
   "nbconvert_exporter": "python",
   "pygments_lexer": "ipython3",
   "version": "3.10.11"
  },
  "plotly": {
   "description": "How to make Treemap Charts with Plotly",
   "display_as": "basic",
   "language": "python",
   "layout": "base",
   "name": "Treemap Charts",
   "order": 13,
   "page_type": "u-guide",
   "permalink": "python/treemaps/",
   "thumbnail": "thumbnail/treemap.png"
  }
 },
 "nbformat": 4,
 "nbformat_minor": 5
}
