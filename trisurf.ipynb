{
 "cells": [
  {
   "cell_type": "markdown",
   "id": "44cb14c0",
   "metadata": {},
   "source": [
    "Trisurf plots can be made using a [figure factory](/python/figure-factories/) as detailed in this page.\n",
    "\n",
    "#### Torus"
   ]
  },
  {
   "cell_type": "code",
   "execution_count": null,
   "id": "c7883b1c",
   "metadata": {},
   "outputs": [],
   "source": [
    "import plotly.figure_factory as ff\n",
    "\n",
    "import numpy as np\n",
    "from scipy.spatial import Delaunay\n",
    "\n",
    "u = np.linspace(0, 2*np.pi, 20)\n",
    "v = np.linspace(0, 2*np.pi, 20)\n",
    "u,v = np.meshgrid(u,v)\n",
    "u = u.flatten()\n",
    "v = v.flatten()\n",
    "\n",
    "x = (3 + (np.cos(v)))*np.cos(u)\n",
    "y = (3 + (np.cos(v)))*np.sin(u)\n",
    "z = np.sin(v)\n",
    "\n",
    "points2D = np.vstack([u,v]).T\n",
    "tri = Delaunay(points2D)\n",
    "simplices = tri.simplices\n",
    "\n",
    "fig = ff.create_trisurf(x=x, y=y, z=z,\n",
    "                         simplices=simplices,\n",
    "                         title=dict(text=\"Torus\"), aspectratio=dict(x=1, y=1, z=0.3))\n",
    "fig.show()"
   ]
  },
  {
   "cell_type": "markdown",
   "id": "7870933f",
   "metadata": {},
   "source": [
    "#### Mobius Band\n"
   ]
  },
  {
   "cell_type": "code",
   "execution_count": null,
   "id": "79c15107",
   "metadata": {
    "lines_to_next_cell": 2
   },
   "outputs": [],
   "source": [
    "import plotly.figure_factory as ff\n",
    "\n",
    "import numpy as np\n",
    "from scipy.spatial import Delaunay\n",
    "\n",
    "u = np.linspace(0, 2*np.pi, 24)\n",
    "v = np.linspace(-1, 1, 8)\n",
    "u,v = np.meshgrid(u,v)\n",
    "u = u.flatten()\n",
    "v = v.flatten()\n",
    "\n",
    "tp = 1 + 0.5*v*np.cos(u/2.)\n",
    "x = tp*np.cos(u)\n",
    "y = tp*np.sin(u)\n",
    "z = 0.5*v*np.sin(u/2.)\n",
    "\n",
    "points2D = np.vstack([u,v]).T\n",
    "tri = Delaunay(points2D)\n",
    "simplices = tri.simplices\n",
    "\n",
    "fig = ff.create_trisurf(x=x, y=y, z=z,\n",
    "                         colormap=\"Portland\",\n",
    "                         simplices=simplices,\n",
    "                         title=dict(text=\"Mobius Band\"))\n",
    "fig.show()"
   ]
  },
  {
   "cell_type": "markdown",
   "id": "8b8741c7",
   "metadata": {},
   "source": [
    "#### Boy's Surface\n"
   ]
  },
  {
   "cell_type": "code",
   "execution_count": null,
   "id": "ed0580a2",
   "metadata": {},
   "outputs": [],
   "source": [
    "import plotly.figure_factory as ff\n",
    "\n",
    "import numpy as np\n",
    "from scipy.spatial import Delaunay\n",
    "\n",
    "u=np.linspace(-np.pi/2, np.pi/2, 60)\n",
    "v=np.linspace(0, np.pi, 60)\n",
    "u,v=np.meshgrid(u,v)\n",
    "u=u.flatten()\n",
    "v=v.flatten()\n",
    "\n",
    "x = (np.sqrt(2)*(np.cos(v)*np.cos(v))*np.cos(2*u) + np.cos(u)*np.sin(2*v))/(2 - np.sqrt(2)*np.sin(3*u)*np.sin(2*v))\n",
    "y = (np.sqrt(2)*(np.cos(v)*np.cos(v))*np.sin(2*u) - np.sin(u)*np.sin(2*v))/(2 - np.sqrt(2)*np.sin(3*u)*np.sin(2*v))\n",
    "z = (3*(np.cos(v)*np.cos(v)))/(2 - np.sqrt(2)*np.sin(3*u)*np.sin(2*v))\n",
    "\n",
    "points2D = np.vstack([u, v]).T\n",
    "tri = Delaunay(points2D)\n",
    "simplices = tri.simplices\n",
    "\n",
    "fig = ff.create_trisurf(x=x, y=y, z=z,\n",
    "                         colormap=['rgb(50, 0, 75)', 'rgb(200, 0, 200)', '#c8dcc8'],\n",
    "                         show_colorbar=True,\n",
    "                         simplices=simplices,\n",
    "                         title=dict(text=\"Boy's Surface\"))\n",
    "fig.show()"
   ]
  },
  {
   "cell_type": "markdown",
   "id": "658835c7",
   "metadata": {},
   "source": [
    "#### Reference\n",
    "\n",
    "For more info on `ff.create_trisurf()`, see the [full function reference](https://plotly.com/python-api-reference/generated/plotly.figure_factory.create_trisurf.html)\n"
   ]
  },
  {
   "cell_type": "markdown",
   "id": "7b9d30ac",
   "metadata": {},
   "source": [
    "### What About Dash?\n",
    "\n",
    "[Dash](https://dash.plot.ly/) is an open-source framework for building analytical applications, with no Javascript required, and it is tightly integrated with the Plotly graphing library.\n",
    "\n",
    "Learn about how to install Dash at https://dash.plot.ly/installation.\n",
    "\n",
    "Everywhere in this page that you see `fig.show()`, you can display the same figure in a Dash application by passing it to the `figure` argument of the [`Graph` component](https://dash.plot.ly/dash-core-components/graph) from the built-in `dash_core_components` package like this:\n",
    "\n",
    "```python\n",
    "import plotly.graph_objects as go # or plotly.express as px\n",
    "fig = go.Figure() # or any Plotly Express function e.g. px.bar(...)\n",
    "# fig.add_trace( ... )\n",
    "# fig.update_layout( ... )\n",
    "\n",
    "from dash import Dash, dcc, html\n",
    "\n",
    "app = Dash()\n",
    "app.layout = html.Div([\n",
    "    dcc.Graph(figure=fig)\n",
    "])\n",
    "\n",
    "app.run_server(debug=True, use_reloader=False)  # Turn off reloader if inside Jupyter\n",
    "```"
   ]
  }
 ],
 "metadata": {
  "jupytext": {
   "notebook_metadata_filter": "all"
  },
  "kernelspec": {
   "display_name": "Python 3",
   "language": "python",
   "name": "python3"
  },
  "language_info": {
   "codemirror_mode": {
    "name": "ipython",
    "version": 3
   },
   "file_extension": ".py",
   "mimetype": "text/x-python",
   "name": "python",
   "nbconvert_exporter": "python",
   "pygments_lexer": "ipython3",
   "version": "3.7.7"
  },
  "plotly": {
   "description": "How to make tri-surf plots in Python with Plotly. Trisurfs are formed by replacing the boundaries of a compact surface by touching triangles.",
   "display_as": "3d_charts",
   "language": "python",
   "layout": "base",
   "name": "Trisurf Plots",
   "order": 8,
   "permalink": "python/trisurf/",
   "thumbnail": "thumbnail/trisurf.jpg"
  }
 },
 "nbformat": 4,
 "nbformat_minor": 5
}
