{
 "cells": [
  {
   "cell_type": "markdown",
   "id": "944171b2",
   "metadata": {},
   "source": [
    "### Upgrading to Version 4\n",
    "\n",
    "Upgrading to version 4 of `plotly` is a matter of following the instructions in the [Getting Started](/python/getting-started/) guide and reinstalling the packages, subject to the notices below.\n",
    "\n",
    "### Getting Help\n",
    "\n",
    "If you encounter issues in upgrading from version 3 to version 4, please reach out in our [Community Forum](https://community.plotly.com/c/api/python) or if you've found an issue or regression in version 4, please report a [Github Issue](https://github.com/plotly/plotly.py/issues/new)"
   ]
  },
  {
   "cell_type": "markdown",
   "id": "d937c54a",
   "metadata": {},
   "source": [
    "### Online features (`plotly.plotly`) moved to `chart-studio` package\n",
    "\n",
    "Prior versions of plotly.py contained functionality for creating figures in both \"online\" and \"offline\" modes.  In \"online\" mode figures were uploaded to the Chart Studio cloud (or on-premise) service, whereas in \"offline\" mode figures were rendered locally.  **Version 4 of `plotly` is \"offline\"-only: all \"online\" functionality has been removed from the main `plotly` distribution package and moved to the new `chart-studio` distribution package.**\n",
    "\n",
    "To migrate version 3 \"online\" functionality, first install the `chart-studio` package using pip...\n",
    "\n",
    "```\n",
    "$ pip install chart-studio\n",
    "```\n",
    "\n",
    "or conda.\n",
    "\n",
    "```\n",
    "$ conda install -c plotly chart-studio\n",
    "```\n",
    "\n",
    "Then, update your Python import statements to import \"online\" functionality from the top-level `chart_studio` package, rather than the top-level `plotly` package.  For example. replace\n",
    "\n",
    "```python\n",
    "from plotly.plotly import plot, iplot\n",
    "```\n",
    "\n",
    "with\n",
    "\n",
    "```python\n",
    "from chart_studio.plotly import plot, iplot\n",
    "```\n",
    "\n",
    "Similarly,\n",
    " - Replace **`plotly.api`** with **`chart_studio.api`**\n",
    " - Replace **`plotly.dashboard_objs`** with **`chart_studio.dashboard_objs`**\n",
    " - Replace **`plotly.grid_objs`** with **`chart_studio.grid_objs`**\n",
    " - Replace **`plotly.presentation_objs`** with **`chart_studio.presentation_objs`**\n",
    " - Replace **`plotly.widgets`** with **`chart_studio.widgets`**"
   ]
  },
  {
   "cell_type": "markdown",
   "id": "b7831e8b",
   "metadata": {},
   "source": [
    "### Offline features (`plotly.offline`) replaced by Renderers framework & HTML export\n",
    "\n",
    "Version 4 introduces a new renderers framework that is a generalization of version 3's `plotly.offline.init_notebook_mode` and `plotly.offline.iplot` functions for displaying figures.  *This is a non-breaking change*: the `plotly.offline.iplot` function is still available and has been reimplemented on top of the renderers framework, so no changes are required when porting to version 4.  Going forward, we recommend using the renderers framework directly. See [Displaying plotly figures](/python/renderers) for more information.\n",
    "\n",
    "\n",
    "In version 3, the `plotly.offline.plot` function was used to export figures to HTML files.  In version 4, this function has been reimplemented on top of the new `to_html` and `write_html` functions from the `plotly.io` module.  These functions have a slightly more consistent API (see docstrings for details), and going forward we recommend using them directly when performing HTML export. When working with a graph object figure, these functions are also available as the `.to_html` and `.write_html` figure methods."
   ]
  },
  {
   "cell_type": "markdown",
   "id": "8c4360db",
   "metadata": {},
   "source": [
    "### New default theme\n",
    "An updated `\"plotly\"` theme has been enabled by default in version 4."
   ]
  },
  {
   "cell_type": "code",
   "execution_count": null,
   "id": "c2fd595e",
   "metadata": {},
   "outputs": [],
   "source": [
    "import plotly.graph_objects as go\n",
    "from plotly.subplots import make_subplots\n",
    "import pandas as pd\n",
    "\n",
    "# Make figure with subplots\n",
    "fig = make_subplots(rows=1, cols=2, specs=[[{\"type\": \"bar\"},\n",
    "                                            {\"type\": \"surface\"}]])\n",
    "\n",
    "# Add bar traces to subplot (1, 1)\n",
    "fig.add_trace(go.Bar(y=[2, 1, 3]), row=1, col=1)\n",
    "fig.add_trace(go.Bar(y=[3, 2, 1]), row=1, col=1)\n",
    "fig.add_trace(go.Bar(y=[2.5, 2.5, 3.5]), row=1, col=1)\n",
    "\n",
    "# Add surface trace to subplot (1, 2)\n",
    "# Read data from a csv\n",
    "z_data = pd.read_csv(\"https://raw.githubusercontent.com/plotly/datasets/master/api_docs/mt_bruno_elevation.csv\")\n",
    "fig.add_surface(z=z_data)\n",
    "\n",
    "# Hide legend\n",
    "fig.update_layout(\n",
    "    showlegend=False,\n",
    "    title_text=\"Default Theme\",\n",
    "    height=500,\n",
    "    width=800,\n",
    ")\n",
    "\n",
    "fig.show()"
   ]
  },
  {
   "cell_type": "markdown",
   "id": "fc514acd",
   "metadata": {},
   "source": [
    "You can revert to the version 3 figure appearance by disabling the default theme as follows:"
   ]
  },
  {
   "cell_type": "code",
   "execution_count": null,
   "id": "bba25eda",
   "metadata": {},
   "outputs": [],
   "source": [
    "import plotly.io as pio\n",
    "pio.templates.default = \"none\"\n",
    "\n",
    "import plotly.graph_objects as go\n",
    "from plotly.subplots import make_subplots\n",
    "import pandas as pd\n",
    "\n",
    "# Make figure with subplots\n",
    "fig = make_subplots(rows=1, cols=2, specs=[[{\"type\": \"bar\"},\n",
    "                                            {\"type\": \"surface\"}]])\n",
    "\n",
    "# Add bar traces to subplot (1, 1)\n",
    "fig.add_trace(go.Bar(y=[2, 1, 3]), row=1, col=1)\n",
    "fig.add_trace(go.Bar(y=[3, 2, 1]), row=1, col=1)\n",
    "fig.add_trace(go.Bar(y=[2.5, 2.5, 3.5]), row=1, col=1)\n",
    "\n",
    "# Add surface trace to subplot (1, 2)\n",
    "# Read data from a csv\n",
    "z_data = pd.read_csv(\"https://raw.githubusercontent.com/plotly/datasets/master/api_docs/mt_bruno_elevation.csv\")\n",
    "fig.add_surface(z=z_data)\n",
    "\n",
    "# Hide legend\n",
    "fig.update_layout(\n",
    "    showlegend=False,\n",
    "    title_text=\"Default Theme Disabled\",\n",
    "    height=500,\n",
    "    width=800,\n",
    ")\n",
    "\n",
    "fig.show()"
   ]
  },
  {
   "cell_type": "code",
   "execution_count": null,
   "id": "21234b28",
   "metadata": {},
   "outputs": [],
   "source": [
    "# Restore default theme\n",
    "pio.templates.default = \"plotly\""
   ]
  },
  {
   "cell_type": "markdown",
   "id": "f5a62664",
   "metadata": {},
   "source": [
    "See [Theming and templates](/python/templates) for more information on theming in plotly.py version 4.\n",
    "\n",
    "### Add trace return value\n",
    "In version 3, the `add_trace` graph object figure method returned a reference to the newly created trace. This was also the case for the `add_{trace_type}` methods (e.g. `add_scatter`, `add_bar`, etc.).  In version 4, these methods return a reference to the calling figure.  This change was made to support method chaining of figure operations. For example"
   ]
  },
  {
   "cell_type": "code",
   "execution_count": null,
   "id": "5997165d",
   "metadata": {},
   "outputs": [],
   "source": [
    "from plotly.subplots import make_subplots\n",
    "(make_subplots(rows=1, cols=2)\n",
    " .add_scatter(y=[2, 1, 3], row=1, col=1)\n",
    " .add_bar(y=[3, 2, 1], row=1, col=2)\n",
    " .update_layout(\n",
    "     title_text=\"Figure title\",\n",
    "     showlegend=False,\n",
    "     width=800,\n",
    "     height=500,\n",
    " )\n",
    " .show())"
   ]
  },
  {
   "cell_type": "markdown",
   "id": "0fe096bc",
   "metadata": {},
   "source": [
    "Code that relied on the `add_*` methods to return a reference to the newly created trace will need to be updated to access the trace from the returned figure.  This can be done by appending `.data[-1]` to the add trace expression.\n",
    "\n",
    "Here is an example of a version 3 code snippet that adds a scatter trace to a figure, assigns the result to a variable named `scatter`, and then modifies the marker size of the scatter trace.\n",
    "\n",
    "```python\n",
    "import plotly.graph_objs as go\n",
    "fig = go.Figure()\n",
    "scatter = fig.add_trace(go.Scatter(y=[2, 3, 1]))\n",
    "scatter.marker.size = 20\n",
    "```\n",
    "In version 4, this would be replaced with the following:\n",
    "\n",
    "```python\n",
    "import plotly.graph_objects as go\n",
    "fig = go.Figure()\n",
    "scatter = fig.add_trace(go.Scatter(y=[2, 3, 1])).data[-1]\n",
    "scatter.marker.size = 20\n",
    "```"
   ]
  },
  {
   "cell_type": "markdown",
   "id": "ef855c6a",
   "metadata": {},
   "source": [
    "### `make_subplots` updates\n",
    "The `make_subplots` function has been overhauled to support all trace types and to support the integration of Plotly Express.  Here are a few changes to be aware of when porting code that uses `make_subplots` to version 4.\n",
    "\n",
    "#### New preferred import location\n",
    "The preferred import location of the `make_subplots` function is now `plotly.subplots.make_subplots`.  For compatibility, this function is still available as `plotly.tools.make_subplots`.\n",
    "\n",
    "#### Grid no longer printed by default\n",
    "When the `print_grid` argument to `make_subplots` is set to `True`, a text representation of the subplot grid is printed by the `make_subplots` function.  In version 3, the default value of `print_grid` was `True`. In version 4, the default value of `print_grid` is `False`.\n",
    "\n",
    "#### New `row_heights` argument to replace `row_width`\n",
    "The legacy argument for specifying the relative height of subplot rows was called `row_width`. A new `row_heights` argument has been introduced for this purpose.\n",
    "\n",
    "> Note: Although it is not mentioned in the docstring for `plotly.subplots.make_subplots`, the legacy `row_width` argument, with the legacy behavior, is still available in version 4.\n",
    "\n",
    "In addition to having a more consistent name, values specified to the new `row_heights` argument properly honor the `start_cell` argument.  With the legacy `row_width` argument, the list of heights was always interpreted from the bottom row to the top row, even if `start_cell==\"top-left\"`. With the new `row_heights` argument, the list of heights is interpreted from top to bottom if `start_cell==\"top-left\"` and from bottom to top if `start_cell==\"bottom-left\"`.\n",
    "\n",
    "When porting code from `row_width` to `row_heights`, the order of the heights list must be reversed if `start_cell==\"top-left\"` or `start_cell` was unspecified.\n",
    "\n",
    "Here is a version 3 compatible example that uses the `row_width` argument to create a figure with subplots where the top row is twice as tall as the bottom row."
   ]
  },
  {
   "cell_type": "code",
   "execution_count": null,
   "id": "827d04c8",
   "metadata": {},
   "outputs": [],
   "source": [
    "from plotly.subplots import make_subplots\n",
    "\n",
    "fig = make_subplots(\n",
    "    rows=2, cols=1,\n",
    "    row_width=[0.33, 0.67],\n",
    "    start_cell=\"top-left\")\n",
    "\n",
    "fig.add_scatter(y=[2, 1, 3], row=1, col=1)\n",
    "fig.add_bar(y=[2, 3, 1], row=2, col=1)\n",
    "fig.show()"
   ]
  },
  {
   "cell_type": "markdown",
   "id": "644ee44f",
   "metadata": {},
   "source": [
    "And here is the equivalent, version 4 example. Note how the order to the height list is reversed compared to the example above."
   ]
  },
  {
   "cell_type": "code",
   "execution_count": null,
   "id": "067ba5b4",
   "metadata": {},
   "outputs": [],
   "source": [
    "from plotly.subplots import make_subplots\n",
    "\n",
    "fig = make_subplots(\n",
    "    rows=2, cols=1,\n",
    "    row_heights=[0.67, 0.33],\n",
    "    start_cell=\"top-left\")\n",
    "\n",
    "fig.add_scatter(y=[2, 1, 3], row=1, col=1)\n",
    "fig.add_bar(y=[2, 3, 1], row=2, col=1)\n",
    "fig.show()"
   ]
  },
  {
   "cell_type": "markdown",
   "id": "6d6671f3",
   "metadata": {},
   "source": [
    "#### Implementation of shared axes with `make_subplots`\n",
    "The implementation of shared axis support in the `make_subplots` function has been simplified.  Prior to version 4, shared y-axes were implemented by associating a single `yaxis` object with multiple `xaxis` objects, and vica versa.\n",
    "\n",
    "In version 4, every 2D Cartesian subplot has a dedicated x-axis and and a dedicated y-axis. Axes are now \"shared\" by being linked together using the `matches` axis property.\n",
    "\n",
    "For legacy code that makes use of the `make_subplots` and add trace APIs, this change does not require any action on the user's part.  However, legacy code that uses `make_subplots` to create a figure with shared axes, and then manipulates the axes directly, may require updates.  The output of the `.print_grid` method on a figure created using `make_subplots` can be used to identify which axis objects are associated with each subplot."
   ]
  },
  {
   "cell_type": "code",
   "execution_count": null,
   "id": "60bbfa5f",
   "metadata": {},
   "outputs": [],
   "source": [
    "from plotly.subplots import make_subplots\n",
    "fig = make_subplots(rows=1, cols=2, shared_yaxes=True)\n",
    "fig.print_grid()\n",
    "print(fig)"
   ]
  },
  {
   "cell_type": "markdown",
   "id": "58183865",
   "metadata": {},
   "source": [
    "### Trace UIDs\n",
    "In version 3, all trace graph objects were copied and assigned a new `uid` property when being added to a `Figure`. In version 4, these `uid` properties are only generated automatically when a trace is added to a `FigureWidget`.  When a trace is added to a standard `Figure` graph object the input `uid`, if provided, is accepted as is.\n",
    "\n",
    "### Timezones\n",
    "Prior to version 4, when plotly.py was passed a `datetime` that included a timezone, the `datetime` was automatically converted to UTC.  In version 4, this conversion is no longer performed, and `datetime` objects are accepted and displayed in local time."
   ]
  },
  {
   "cell_type": "markdown",
   "id": "37eddb59",
   "metadata": {},
   "source": [
    "### Headless image export on Linux with Xvfb.\n",
    "In version 4, the static image export logic attempts to automatically detect whether to call the orca image export utility using Xvfb.  Xvfb is needed for orca to work in a Linux environment if an X11 display server is not available. By default, Xvfb is used if plotly.py is running on Linux if no X11 display server is detected and `Xvfb` is available on the system `PATH`.\n",
    "\n",
    "This new behavior can be disabled by setting the `use_xvfb` orca configuration option to `False` as follows:\n",
    "\n",
    "```python\n",
    "import plotly.io as pio\n",
    "pio.orca.config.use_xvfb = False\n",
    "```"
   ]
  },
  {
   "cell_type": "markdown",
   "id": "fb16c7f9",
   "metadata": {},
   "source": [
    "### Removals\n",
    "\n",
    "#### fileopt argument removal\n",
    "The `fileopt` argument to `chart_studio.plotly.plot` has been removed, so in-place modifications to previously published figures are no longer supported.\n",
    "\n",
    "#### Legacy online `GraphWidget`\n",
    "The legacy online-only `GraphWidget` class has been removed.  Please use the `plotly.graph_objects.FigureWidget` class instead. See the [Figure Widget Overview](/python/figurewidget/) for more information.\n",
    "\n",
    "### Recommended style updates\n",
    "\n",
    "#### Import from `graph_objects` instead of `graph_objs`\n",
    "The legacy `plotly.graph_objs` package has been aliased as `plotly.graph_objects` because the latter is much easier to communicate verbally. The `plotly.graph_objs` package is still available for backward compatibility."
   ]
  },
  {
   "cell_type": "markdown",
   "id": "69ac7ec8",
   "metadata": {},
   "source": [
    "### What About Dash?\n",
    "\n",
    "[Dash](https://dash.plot.ly/) is an open-source framework for building analytical applications, with no Javascript required, and it is tightly integrated with the Plotly graphing library.\n",
    "\n",
    "Learn about how to install Dash at https://dash.plot.ly/installation.\n",
    "\n",
    "Everywhere in this page that you see `fig.show()`, you can display the same figure in a Dash application by passing it to the `figure` argument of the [`Graph` component](https://dash.plot.ly/dash-core-components/graph) from the built-in `dash_core_components` package like this:\n",
    "\n",
    "```python\n",
    "import plotly.graph_objects as go # or plotly.express as px\n",
    "fig = go.Figure() # or any Plotly Express function e.g. px.bar(...)\n",
    "# fig.add_trace( ... )\n",
    "# fig.update_layout( ... )\n",
    "\n",
    "from dash import Dash, dcc, html\n",
    "\n",
    "app = Dash()\n",
    "app.layout = html.Div([\n",
    "    dcc.Graph(figure=fig)\n",
    "])\n",
    "\n",
    "app.run_server(debug=True, use_reloader=False)  # Turn off reloader if inside Jupyter\n",
    "```"
   ]
  }
 ],
 "metadata": {
  "jupytext": {
   "notebook_metadata_filter": "all"
  },
  "kernelspec": {
   "display_name": "Python 3",
   "language": "python",
   "name": "python3"
  },
  "language_info": {
   "codemirror_mode": {
    "name": "ipython",
    "version": 3
   },
   "file_extension": ".py",
   "mimetype": "text/x-python",
   "name": "python",
   "nbconvert_exporter": "python",
   "pygments_lexer": "ipython3",
   "version": "3.6.7"
  },
  "plotly": {
   "description": "Migration guide for upgrading from version 3 to version 4",
   "display_as": "file_settings",
   "language": "python",
   "layout": "base",
   "name": "Version 4 Migration Guide",
   "order": 39,
   "page_type": "example_index",
   "permalink": "python/v4-migration/",
   "thumbnail": "thumbnail/v4-migration.png"
  }
 },
 "nbformat": 4,
 "nbformat_minor": 5
}
