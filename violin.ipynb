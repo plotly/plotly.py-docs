{
 "cells": [
  {
   "cell_type": "markdown",
   "id": "992350ae",
   "metadata": {},
   "source": [
    "## Violin Plot with Plotly Express\n",
    "\n",
    "A [violin plot](https://en.wikipedia.org/wiki/Violin_plot) is a statistical representation of numerical data. It is similar to a [box plot](https://plotly.com/python/box-plots/), with the addition of a rotated [kernel density](https://en.wikipedia.org/wiki/Kernel_density_estimation) plot on each side.\n",
    "\n",
    "Alternatives to violin plots for visualizing distributions include [histograms](https://plotly.com/python/histograms/), [box plots](https://plotly.com/python/box-plots/), [ECDF plots](https://plotly.com/python/ecdf-plots/) and [strip charts](https://plotly.com/python/strip-charts/).\n",
    "\n",
    "\n",
    "### Basic Violin Plot with Plotly Express\n",
    "\n",
    "[Plotly Express](/python/plotly-express/) is the easy-to-use, high-level interface to Plotly, which [operates on a variety of types of data](/python/px-arguments/) and produces [easy-to-style figures](/python/styling-plotly-express/)."
   ]
  },
  {
   "cell_type": "code",
   "execution_count": null,
   "id": "895ce269",
   "metadata": {},
   "outputs": [],
   "source": [
    "import plotly.express as px\n",
    "\n",
    "df = px.data.tips()\n",
    "fig = px.violin(df, y=\"total_bill\")\n",
    "fig.show()"
   ]
  },
  {
   "cell_type": "markdown",
   "id": "ced96390",
   "metadata": {},
   "source": [
    "### Violin plot with box and data points"
   ]
  },
  {
   "cell_type": "code",
   "execution_count": null,
   "id": "e0b89270",
   "metadata": {},
   "outputs": [],
   "source": [
    "import plotly.express as px\n",
    "\n",
    "df = px.data.tips()\n",
    "fig = px.violin(df, y=\"total_bill\", box=True, # draw box plot inside the violin\n",
    "                points='all', # can be 'outliers', or False\n",
    "               )\n",
    "fig.show()"
   ]
  },
  {
   "cell_type": "markdown",
   "id": "a7d2f2d4",
   "metadata": {},
   "source": [
    "### Multiple Violin Plots"
   ]
  },
  {
   "cell_type": "code",
   "execution_count": null,
   "id": "a189ed26",
   "metadata": {},
   "outputs": [],
   "source": [
    "import plotly.express as px\n",
    "\n",
    "df = px.data.tips()\n",
    "fig = px.violin(df, y=\"tip\", x=\"smoker\", color=\"sex\", box=True, points=\"all\",\n",
    "          hover_data=df.columns)\n",
    "fig.show()"
   ]
  },
  {
   "cell_type": "code",
   "execution_count": null,
   "id": "ce2906d5",
   "metadata": {},
   "outputs": [],
   "source": [
    "import plotly.express as px\n",
    "\n",
    "df = px.data.tips()\n",
    "fig = px.violin(df, y=\"tip\", color=\"sex\",\n",
    "                violinmode='overlay', # draw violins on top of each other\n",
    "                # default violinmode is 'group' as in example above\n",
    "                hover_data=df.columns)\n",
    "fig.show()"
   ]
  },
  {
   "cell_type": "markdown",
   "id": "f148d85b",
   "metadata": {},
   "source": [
    "## Violin Plot with go.Violin\n",
    "\n",
    "If Plotly Express does not provide a good starting point, you can use [the more generic `go.Violin` class from `plotly.graph_objects`](/python/graph-objects/). All the options of `go.Violin` are documented in the reference https://plotly.com/python/reference/violin/\n",
    "\n",
    "#### Basic Violin Plot"
   ]
  },
  {
   "cell_type": "code",
   "execution_count": null,
   "id": "8e82011f",
   "metadata": {},
   "outputs": [],
   "source": [
    "import plotly.graph_objects as go\n",
    "\n",
    "import pandas as pd\n",
    "\n",
    "df = pd.read_csv(\"https://raw.githubusercontent.com/plotly/datasets/master/violin_data.csv\")\n",
    "\n",
    "fig = go.Figure(data=go.Violin(y=df['total_bill'], box_visible=True, line_color='black',\n",
    "                               meanline_visible=True, fillcolor='lightseagreen', opacity=0.6,\n",
    "                               x0='Total Bill'))\n",
    "\n",
    "fig.update_layout(yaxis_zeroline=False)\n",
    "fig.show()"
   ]
  },
  {
   "cell_type": "markdown",
   "id": "ba0a5fd8",
   "metadata": {},
   "source": [
    "#### Multiple Traces"
   ]
  },
  {
   "cell_type": "code",
   "execution_count": null,
   "id": "2a0a34eb",
   "metadata": {},
   "outputs": [],
   "source": [
    "import plotly.graph_objects as go\n",
    "\n",
    "import pandas as pd\n",
    "\n",
    "df = pd.read_csv(\"https://raw.githubusercontent.com/plotly/datasets/master/violin_data.csv\")\n",
    "\n",
    "fig = go.Figure()\n",
    "\n",
    "days = ['Thur', 'Fri', 'Sat', 'Sun']\n",
    "\n",
    "for day in days:\n",
    "    fig.add_trace(go.Violin(x=df['day'][df['day'] == day],\n",
    "                            y=df['total_bill'][df['day'] == day],\n",
    "                            name=day,\n",
    "                            box_visible=True,\n",
    "                            meanline_visible=True))\n",
    "\n",
    "fig.show()"
   ]
  },
  {
   "cell_type": "markdown",
   "id": "0f8d73d4",
   "metadata": {},
   "source": [
    "#### Grouped Violin Plot"
   ]
  },
  {
   "cell_type": "code",
   "execution_count": null,
   "id": "a2a9f0cb",
   "metadata": {},
   "outputs": [],
   "source": [
    "import plotly.graph_objects as go\n",
    "\n",
    "import pandas as pd\n",
    "\n",
    "df = pd.read_csv(\"https://raw.githubusercontent.com/plotly/datasets/master/violin_data.csv\")\n",
    "\n",
    "fig = go.Figure()\n",
    "\n",
    "fig.add_trace(go.Violin(x=df['day'][ df['sex'] == 'Male' ],\n",
    "                        y=df['total_bill'][ df['sex'] == 'Male' ],\n",
    "                        legendgroup='M', scalegroup='M', name='M',\n",
    "                        line_color='blue')\n",
    "             )\n",
    "fig.add_trace(go.Violin(x=df['day'][ df['sex'] == 'Female' ],\n",
    "                        y=df['total_bill'][ df['sex'] == 'Female' ],\n",
    "                        legendgroup='F', scalegroup='F', name='F',\n",
    "                        line_color='orange')\n",
    "             )\n",
    "\n",
    "fig.update_traces(box_visible=True, meanline_visible=True)\n",
    "fig.update_layout(violinmode='group')\n",
    "fig.show()"
   ]
  },
  {
   "cell_type": "markdown",
   "id": "a2367324",
   "metadata": {},
   "source": [
    "#### Split Violin Plot"
   ]
  },
  {
   "cell_type": "code",
   "execution_count": null,
   "id": "fae9cfa9",
   "metadata": {},
   "outputs": [],
   "source": [
    "import plotly.graph_objects as go\n",
    "\n",
    "import pandas as pd\n",
    "\n",
    "df = pd.read_csv(\"https://raw.githubusercontent.com/plotly/datasets/master/violin_data.csv\")\n",
    "\n",
    "fig = go.Figure()\n",
    "\n",
    "fig.add_trace(go.Violin(x=df['day'][ df['smoker'] == 'Yes' ],\n",
    "                        y=df['total_bill'][ df['smoker'] == 'Yes' ],\n",
    "                        legendgroup='Yes', scalegroup='Yes', name='Yes',\n",
    "                        side='negative',\n",
    "                        line_color='blue')\n",
    "             )\n",
    "fig.add_trace(go.Violin(x=df['day'][ df['smoker'] == 'No' ],\n",
    "                        y=df['total_bill'][ df['smoker'] == 'No' ],\n",
    "                        legendgroup='No', scalegroup='No', name='No',\n",
    "                        side='positive',\n",
    "                        line_color='orange')\n",
    "             )\n",
    "fig.update_traces(meanline_visible=True)\n",
    "fig.update_layout(violingap=0, violinmode='overlay')\n",
    "fig.show()"
   ]
  },
  {
   "cell_type": "markdown",
   "id": "71db2e56",
   "metadata": {},
   "source": [
    "#### Advanced Violin Plot"
   ]
  },
  {
   "cell_type": "code",
   "execution_count": null,
   "id": "d6c6016b",
   "metadata": {},
   "outputs": [],
   "source": [
    "import plotly.graph_objects as go\n",
    "\n",
    "import pandas as pd\n",
    "\n",
    "df = pd.read_csv(\"https://raw.githubusercontent.com/plotly/datasets/master/violin_data.csv\")\n",
    "\n",
    "pointpos_male = [-0.9,-1.1,-0.6,-0.3]\n",
    "pointpos_female = [0.45,0.55,1,0.4]\n",
    "show_legend = [True,False,False,False]\n",
    "\n",
    "fig = go.Figure()\n",
    "\n",
    "for i in range(0,len(pd.unique(df['day']))):\n",
    "    fig.add_trace(go.Violin(x=df['day'][(df['sex'] == 'Male') &\n",
    "                                        (df['day'] == pd.unique(df['day'])[i])],\n",
    "                            y=df['total_bill'][(df['sex'] == 'Male')&\n",
    "                                               (df['day'] == pd.unique(df['day'])[i])],\n",
    "                            legendgroup='M', scalegroup='M', name='M',\n",
    "                            side='negative',\n",
    "                            pointpos=pointpos_male[i], # where to position points\n",
    "                            line_color='lightseagreen',\n",
    "                            showlegend=show_legend[i])\n",
    "             )\n",
    "    fig.add_trace(go.Violin(x=df['day'][(df['sex'] == 'Female') &\n",
    "                                        (df['day'] == pd.unique(df['day'])[i])],\n",
    "                            y=df['total_bill'][(df['sex'] == 'Female')&\n",
    "                                               (df['day'] == pd.unique(df['day'])[i])],\n",
    "                            legendgroup='F', scalegroup='F', name='F',\n",
    "                            side='positive',\n",
    "                            pointpos=pointpos_female[i],\n",
    "                            line_color='mediumpurple',\n",
    "                            showlegend=show_legend[i])\n",
    "             )\n",
    "\n",
    "# update characteristics shared by all traces\n",
    "fig.update_traces(meanline_visible=True,\n",
    "                  points='all', # show all points\n",
    "                  jitter=0.05,  # add some jitter on points for better visibility\n",
    "                  scalemode='count') #scale violin plot area with total count\n",
    "fig.update_layout(\n",
    "    title_text=\"Total bill distribution<br><i>scaled by number of bills per gender\",\n",
    "    violingap=0, violingroupgap=0, violinmode='overlay')\n",
    "fig.show()"
   ]
  },
  {
   "cell_type": "markdown",
   "id": "0080ee97",
   "metadata": {},
   "source": [
    "#### Ridgeline plot\n",
    "\n",
    "A ridgeline plot ([previously known as Joy Plot](https://serialmentor.com/blog/2017/9/15/goodbye-joyplots)) shows the distribution of a numerical value for several groups. They can be used for visualizing changes in distributions over time or space."
   ]
  },
  {
   "cell_type": "code",
   "execution_count": null,
   "id": "664c36c5",
   "metadata": {},
   "outputs": [],
   "source": [
    "import plotly.graph_objects as go\n",
    "from plotly.colors import n_colors\n",
    "import numpy as np\n",
    "np.random.seed(1)\n",
    "\n",
    "# 12 sets of normal distributed random data, with increasing mean and standard deviation\n",
    "data = (np.linspace(1, 2, 12)[:, np.newaxis] * np.random.randn(12, 200) +\n",
    "            (np.arange(12) + 2 * np.random.random(12))[:, np.newaxis])\n",
    "\n",
    "colors = n_colors('rgb(5, 200, 200)', 'rgb(200, 10, 10)', 12, colortype='rgb')\n",
    "\n",
    "fig = go.Figure()\n",
    "for data_line, color in zip(data, colors):\n",
    "    fig.add_trace(go.Violin(x=data_line, line_color=color))\n",
    "\n",
    "fig.update_traces(orientation='h', side='positive', width=3, points=False)\n",
    "fig.update_layout(xaxis_showgrid=False, xaxis_zeroline=False)\n",
    "fig.show()"
   ]
  },
  {
   "cell_type": "markdown",
   "id": "8cfa17f7",
   "metadata": {},
   "source": [
    "### Violin Plot With Only Points\n",
    "\n",
    "A [strip chart](/python/strip-charts/) is like a violin plot with points showing, and no violin:"
   ]
  },
  {
   "cell_type": "code",
   "execution_count": null,
   "id": "bc2adf8a",
   "metadata": {},
   "outputs": [],
   "source": [
    "import plotly.express as px\n",
    "df = px.data.tips()\n",
    "fig = px.strip(df, x='day', y='tip')\n",
    "fig.show()"
   ]
  },
  {
   "cell_type": "markdown",
   "id": "39e3083d",
   "metadata": {},
   "source": [
    "### Choosing The Algorithm For Computing Quartiles\n",
    "\n",
    "*New in 5.10*\n",
    "\n",
    "By default, quartiles for violin plots are computed using the `linear` method (for more about linear interpolation, see #10 listed on [http://jse.amstat.org/v14n3/langford.html](http://jse.amstat.org/v14n3/langford.html) and [https://en.wikipedia.org/wiki/Quartile](https://en.wikipedia.org/wiki/Quartile) for more details).\n",
    "\n",
    "However, you can also choose to use an `exclusive` or an `inclusive` algorithm to compute quartiles.\n",
    "\n",
    "The _exclusive_ algorithm uses the median to divide the ordered dataset into two halves. If the sample is odd, it does not include the median in either half. Q1 is then the median of the lower half and Q3 is the median of the upper half.\n",
    "\n",
    "The _inclusive_ algorithm also uses the median to divide the ordered dataset into two halves, but if the sample is odd, it includes the median in both halves. Q1 is then the median of the lower half and Q3 the median of the upper half."
   ]
  },
  {
   "cell_type": "code",
   "execution_count": null,
   "id": "8bb0e5dd",
   "metadata": {},
   "outputs": [],
   "source": [
    "import plotly.express as px\n",
    "\n",
    "df = px.data.tips()\n",
    "fig = px.violin(df, y=\"total_bill\")\n",
    "fig.update_traces(quartilemethod=\"exclusive\") # or \"inclusive\", or \"linear\" by default\n",
    "\n",
    "fig.show()"
   ]
  },
  {
   "cell_type": "markdown",
   "id": "6606f7d8",
   "metadata": {},
   "source": [
    "#### Reference\n",
    "\n",
    "See [function reference for `px.violin()`](https://plotly.com/python-api-reference/generated/plotly.express.violin) or https://plotly.com/python/reference/violin/ for more information and chart attribute options!\n"
   ]
  },
  {
   "cell_type": "markdown",
   "id": "85ed71a6",
   "metadata": {},
   "source": [
    "### What About Dash?\n",
    "\n",
    "[Dash](https://dash.plot.ly/) is an open-source framework for building analytical applications, with no Javascript required, and it is tightly integrated with the Plotly graphing library.\n",
    "\n",
    "Learn about how to install Dash at https://dash.plot.ly/installation.\n",
    "\n",
    "Everywhere in this page that you see `fig.show()`, you can display the same figure in a Dash application by passing it to the `figure` argument of the [`Graph` component](https://dash.plot.ly/dash-core-components/graph) from the built-in `dash_core_components` package like this:\n",
    "\n",
    "```python\n",
    "import plotly.graph_objects as go # or plotly.express as px\n",
    "fig = go.Figure() # or any Plotly Express function e.g. px.bar(...)\n",
    "# fig.add_trace( ... )\n",
    "# fig.update_layout( ... )\n",
    "\n",
    "from dash import Dash, dcc, html\n",
    "\n",
    "app = Dash()\n",
    "app.layout = html.Div([\n",
    "    dcc.Graph(figure=fig)\n",
    "])\n",
    "\n",
    "app.run_server(debug=True, use_reloader=False)  # Turn off reloader if inside Jupyter\n",
    "```"
   ]
  }
 ],
 "metadata": {
  "jupytext": {
   "notebook_metadata_filter": "all"
  },
  "kernelspec": {
   "display_name": "Python 3 (ipykernel)",
   "language": "python",
   "name": "python3"
  },
  "language_info": {
   "codemirror_mode": {
    "name": "ipython",
    "version": 3
   },
   "file_extension": ".py",
   "mimetype": "text/x-python",
   "name": "python",
   "nbconvert_exporter": "python",
   "pygments_lexer": "ipython3",
   "version": "3.9.0"
  },
  "plotly": {
   "description": "How to make violin plots in Python with Plotly.",
   "display_as": "statistical",
   "language": "python",
   "layout": "base",
   "name": "Violin Plots",
   "order": 10,
   "page_type": "u-guide",
   "permalink": "python/violin/",
   "redirect_from": [
    "/python/violin-plot/",
    "/python/violin-plots/"
   ],
   "thumbnail": "thumbnail/violin.jpg"
  }
 },
 "nbformat": 4,
 "nbformat_minor": 5
}
