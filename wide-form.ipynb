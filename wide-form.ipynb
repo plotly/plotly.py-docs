{
 "cells": [
  {
   "cell_type": "markdown",
   "id": "e2cbd8e2",
   "metadata": {},
   "source": [
    "### Plotly Express works with Column-oriented, Matrix or Geographic Data\n",
    "\n",
    "Plotly Express provides functions to visualize a variety of types of data. Most functions such as `px.bar` or `px.scatter` expect to operate on column-oriented data of the type you might store in a `DataFrame` (in either \"long\" or \"wide\" format, see below). These functions use Pandas internally to process the data, but also accept other types of DataFrames as arguments. See the [Plotly Express arguments page](/python/px-arguments/) for more details.\n",
    "\n",
    "[`px.imshow` operates on matrix-like data](/python/imshow/) you might store in a `numpy` or `xarray` array and functions like [`px.choropleth` and `px.choropleth_mapbox` can operate on geographic data](/python/maps/) of the kind you might store in a GeoPandas `GeoDataFrame`. This page details how to provide a specific form of column-oriented data to 2D-Cartesian Plotly Express functions, but you can also check out our [detailed column-input-format documentation](/python/px-arguments/).\n",
    "\n",
    "### Plotly Express works with Long-, Wide-, and Mixed-Form Data\n",
    "\n",
    "*Until version 4.8, Plotly Express only operated on long-form (previously called \"tidy\") data, but now accepts wide-form and mixed-form data as well.*\n",
    "\n",
    "There are three common conventions for storing column-oriented data, usually in a data frame with column names:\n",
    "\n",
    "* **long-form data** has one row per observation, and one column per variable. This is suitable for storing and displaying multivariate data i.e. with dimension greater than 2. This format is sometimes called \"tidy\".\n",
    "* **wide-form data** has one row per value of one of the first variable, and one column per value of the second variable. This is suitable for storing and displaying 2-dimensional data.\n",
    "* **mixed-form data** is a hybrid of long-form and wide-form data, with one row per value of one variable, and some columns representing values of another, and some columns representing more variables.\n",
    "\n",
    "Every Plotly Express function can operate on long-form data (other than `px.imshow` which operates only on wide-form input), and in addition, the following 2D-Cartesian functions can operate on wide-form and mixed-form data: `px.scatter`, `px.line`, `px.area`, `px.bar`, `px.histogram`, `px.violin`, `px.box`, `px.strip`, `px.funnel`, `px.density_heatmap` and `px.density_contour`.\n",
    "\n",
    "By way of example here is the same data, represented in long-form first, and then in wide-form:"
   ]
  },
  {
   "cell_type": "code",
   "execution_count": null,
   "id": "e93e61cc",
   "metadata": {},
   "outputs": [],
   "source": [
    "import plotly.express as px\n",
    "long_df = px.data.medals_long()\n",
    "long_df"
   ]
  },
  {
   "cell_type": "code",
   "execution_count": null,
   "id": "81948fd8",
   "metadata": {},
   "outputs": [],
   "source": [
    "import plotly.express as px\n",
    "wide_df = px.data.medals_wide()\n",
    "wide_df"
   ]
  },
  {
   "cell_type": "markdown",
   "id": "8cf09346",
   "metadata": {},
   "source": [
    "Plotly Express can produce **the same plot from either form**. For the long-form input, `x` and `y` are set to the respective column names."
   ]
  },
  {
   "cell_type": "code",
   "execution_count": null,
   "id": "379f3e1f",
   "metadata": {},
   "outputs": [],
   "source": [
    "import plotly.express as px\n",
    "long_df = px.data.medals_long()\n",
    "\n",
    "fig = px.bar(long_df, x=\"nation\", y=\"count\", color=\"medal\", title=\"Long-Form Input\")\n",
    "fig.show()"
   ]
  },
  {
   "cell_type": "markdown",
   "id": "2bd673f0",
   "metadata": {},
   "source": [
    "For the wide-form input, we **pass in a list of column-names `y`**, which is enough to trigger the wide-form processing mode. Wide-form mode is also the default if neither `x` nor `y` are specified, see section at bottom regarding Wide-Form Defaults."
   ]
  },
  {
   "cell_type": "code",
   "execution_count": null,
   "id": "fa40e0f2",
   "metadata": {},
   "outputs": [],
   "source": [
    "import plotly.express as px\n",
    "wide_df = px.data.medals_wide()\n",
    "\n",
    "fig = px.bar(wide_df, x=\"nation\", y=[\"gold\", \"silver\", \"bronze\"], title=\"Wide-Form Input\")\n",
    "fig.show()"
   ]
  },
  {
   "cell_type": "markdown",
   "id": "929f4581",
   "metadata": {},
   "source": [
    "### Labeling axes, legends and hover text\n",
    "\n",
    "You might notice that y-axis and legend labels are slightly different for the second plot: they are \"value\" and \"variable\", respectively, and this is also reflected in the hoverlabel text. This is because Plotly Express performed an [internal Pandas `melt()` operation](https://pandas.pydata.org/docs/reference/api/pandas.melt.html) to convert the wide-form data into long-form for plotting, and used the Pandas convention for assign column names to the intermediate long-form data. Note that the labels \"medal\" and \"count\" do not appear in the wide-form data frame, so in this case, you must supply these yourself, (or see below regarding using a data frame with named row- and column-indexes). You can [rename these labels with the `labels` argument](/python/styling-plotly-express/):"
   ]
  },
  {
   "cell_type": "code",
   "execution_count": null,
   "id": "1407f08e",
   "metadata": {},
   "outputs": [],
   "source": [
    "import plotly.express as px\n",
    "wide_df = px.data.medals_wide()\n",
    "\n",
    "fig = px.bar(wide_df, x=\"nation\", y=[\"gold\", \"silver\", \"bronze\"], title=\"Wide-Form Input, relabelled\",\n",
    "            labels={\"value\": \"count\", \"variable\": \"medal\"})\n",
    "fig.show()"
   ]
  },
  {
   "cell_type": "markdown",
   "id": "4a06bb12",
   "metadata": {},
   "source": [
    "Plotly Express figures created using wide-form data can be [styled just like any other Plotly Express figure](/python/styling-plotly-express/):"
   ]
  },
  {
   "cell_type": "code",
   "execution_count": null,
   "id": "f87fa6e0",
   "metadata": {},
   "outputs": [],
   "source": [
    "import plotly.express as px\n",
    "wide_df = px.data.medals_wide()\n",
    "\n",
    "fig = px.bar(wide_df, x=\"nation\", y=[\"gold\", \"silver\", \"bronze\"],\n",
    "             title=\"Wide-Form Input, styled\",\n",
    "             labels={\"value\": \"Medal Count\", \"variable\": \"Medal\", \"nation\": \"Olympic Nation\"},\n",
    "             color_discrete_map={\"gold\": \"gold\", \"silver\": \"silver\", \"bronze\": \"#c96\"},\n",
    "             template=\"simple_white\"\n",
    "            )\n",
    "fig.update_layout(font_family=\"Rockwell\", showlegend=False)\n",
    "fig.show()"
   ]
  },
  {
   "cell_type": "markdown",
   "id": "89aec5da",
   "metadata": {},
   "source": [
    "### Data Frames with Named Indexes\n",
    "\n",
    "Pandas `DataFrames` support not only column names and \"row names\" via the value of `index`, but the indexes themselves can be named. Here is how to assign one column of the wide sample data frame above as the index, and to name the column index. The result \"indexed\" sample data frame can also be obtained by calling `px.data.medals_wide(indexed=True)`"
   ]
  },
  {
   "cell_type": "code",
   "execution_count": null,
   "id": "1df2c67b",
   "metadata": {},
   "outputs": [],
   "source": [
    "import plotly.express as px\n",
    "wide_df = px.data.medals_wide()\n",
    "wide_df = wide_df.set_index(\"nation\")\n",
    "wide_df.columns.name = \"medals\"\n",
    "wide_df"
   ]
  },
  {
   "cell_type": "markdown",
   "id": "c13231e0",
   "metadata": {},
   "source": [
    "When working with a data frame like the one above, you can pass the index references directly as arguments, to benefit from automatic labelling for everything except the y axis label, which will default to \"values\", but this can be overridden with the `labels` argument as above:"
   ]
  },
  {
   "cell_type": "code",
   "execution_count": null,
   "id": "fb7e3661",
   "metadata": {},
   "outputs": [],
   "source": [
    "import plotly.express as px\n",
    "wide_df = px.data.medals_wide(indexed=True)\n",
    "\n",
    "fig = px.bar(wide_df, x=wide_df.index, y=wide_df.columns)\n",
    "fig.show()"
   ]
  },
  {
   "cell_type": "markdown",
   "id": "cfa12c5d",
   "metadata": {},
   "source": [
    "If you transpose `x` and `y`, thereby assigning the columns to `x`, the orientation will be switched to horizontal:"
   ]
  },
  {
   "cell_type": "code",
   "execution_count": null,
   "id": "97e465e8",
   "metadata": {},
   "outputs": [],
   "source": [
    "import plotly.express as px\n",
    "wide_df = px.data.medals_wide(indexed=True)\n",
    "\n",
    "fig = px.bar(wide_df, x=wide_df.columns, y=wide_df.index)\n",
    "fig.show()"
   ]
  },
  {
   "cell_type": "markdown",
   "id": "756d8fc8",
   "metadata": {},
   "source": [
    "### Assigning Inferred Columns to Non-Default Arguments"
   ]
  },
  {
   "cell_type": "markdown",
   "id": "d374195c",
   "metadata": {},
   "source": [
    "In the examples above, the columns of the wide data frame are assigned by default as an \"inferred\" column named `variable` to the `color` argument (see section below for documentation of the default behaviours), but this is not a hard constraint. The `variable` column can be assigned to any Plotly Express argument, for example to accomplish faceting, and `color` can be reassigned to any other value. More generally, when plotting with a data frame without named indexes, you can reassign the inferred column named `variable` and `value` to any argument:"
   ]
  },
  {
   "cell_type": "code",
   "execution_count": null,
   "id": "be90706b",
   "metadata": {},
   "outputs": [],
   "source": [
    "import plotly.express as px\n",
    "wide_df = px.data.medals_wide(indexed=False)\n",
    "\n",
    "fig = px.bar(wide_df, x=\"nation\", y=[\"gold\", \"silver\", \"bronze\"], facet_col=\"variable\", color=\"nation\")\n",
    "fig.show()"
   ]
  },
  {
   "cell_type": "markdown",
   "id": "df7bbcc1",
   "metadata": {},
   "source": [
    "You can also prevent `color` from getting assigned if you're mapping `variable` to some other argument:"
   ]
  },
  {
   "cell_type": "code",
   "execution_count": null,
   "id": "e4d120fd",
   "metadata": {},
   "outputs": [],
   "source": [
    "import plotly.express as px\n",
    "wide_df = px.data.medals_wide(indexed=False)\n",
    "\n",
    "fig = px.bar(wide_df, x=\"nation\", y=[\"gold\", \"silver\", \"bronze\"], facet_col=\"variable\", color=px.NO_COLOR)\n",
    "fig.show()"
   ]
  },
  {
   "cell_type": "markdown",
   "id": "9b89345c",
   "metadata": {},
   "source": [
    "If using a data frame's named indexes, either explicitly or relying on the defaults, the row-index references (i.e. `df.index`) or column-index names (i.e. the value of `df.columns.name`) must be used:"
   ]
  },
  {
   "cell_type": "code",
   "execution_count": null,
   "id": "705d3d0d",
   "metadata": {},
   "outputs": [],
   "source": [
    "import plotly.express as px\n",
    "wide_df = px.data.medals_wide(indexed=True)\n",
    "\n",
    "fig = px.bar(wide_df, facet_col=\"medal\", color=wide_df.index)\n",
    "fig.show()"
   ]
  },
  {
   "cell_type": "markdown",
   "id": "b1636980",
   "metadata": {},
   "source": [
    "### Mixed-Form Data\n",
    "\n",
    "In some cases, a data frame is neither clearly long-form nor wide-form, and we can call this \"mixed-form\". For example, in the data frame below, if it contained only the `experiment` columns, the data could be described as wide-form, and if it contained only `gender` and `group` it could be described as long-form, but it contains both, so it is best described as mixed-form data:"
   ]
  },
  {
   "cell_type": "code",
   "execution_count": null,
   "id": "d6e1a4b8",
   "metadata": {},
   "outputs": [],
   "source": [
    "import plotly.express as px\n",
    "mixed_df = px.data.experiment(indexed=True)\n",
    "mixed_df.head()"
   ]
  },
  {
   "cell_type": "markdown",
   "id": "b14c1cfb",
   "metadata": {},
   "source": [
    "We can visualize just the wide-form portion of the data frame easily with a [violin chart](/python/violin/). As a special note, we'll assign the index, which is the participant ID, to the `hover_data`, so that hovering over outlier points will identify their row."
   ]
  },
  {
   "cell_type": "code",
   "execution_count": null,
   "id": "f42ea43f",
   "metadata": {
    "lines_to_next_cell": 0
   },
   "outputs": [],
   "source": [
    "import plotly.express as px\n",
    "mixed_df = px.data.experiment(indexed=True)\n",
    "\n",
    "fig = px.violin(mixed_df, y=[\"experiment_1\", \"experiment_2\", \"experiment_3\"], hover_data=[mixed_df.index])\n",
    "fig.show()"
   ]
  },
  {
   "cell_type": "markdown",
   "id": "56b0ad20",
   "metadata": {},
   "source": [
    "\n"
   ]
  },
  {
   "cell_type": "markdown",
   "id": "44e5749e",
   "metadata": {},
   "source": [
    "We are not limited to visualizing only the wide-form portion of the data, however. We can also leverage the long-form portion of the data frame, for example to color by participant `gender` and facet by participant `group`, all without having to manipulate the data frame:"
   ]
  },
  {
   "cell_type": "code",
   "execution_count": null,
   "id": "def19024",
   "metadata": {},
   "outputs": [],
   "source": [
    "import plotly.express as px\n",
    "mixed_df = px.data.experiment(indexed=True)\n",
    "\n",
    "fig = px.violin(mixed_df, y=[\"experiment_1\", \"experiment_2\", \"experiment_3\"],\n",
    "                color=\"gender\", facet_col=\"group\", hover_data=[mixed_df.index])\n",
    "fig.show()"
   ]
  },
  {
   "cell_type": "markdown",
   "id": "dfea0669",
   "metadata": {},
   "source": [
    "In the plots above, the column names provided to `y` are internally mapped to long-form column called `variable`, as is apparent in the x-axis labels. We can reassign `variable` to another argument as well, in this case we'll assign it to `facet_col` and reassign `group` to the `x` axis. We'll switch to a [box plot](/python/box-plots/) for variety."
   ]
  },
  {
   "cell_type": "code",
   "execution_count": null,
   "id": "18e03b4c",
   "metadata": {},
   "outputs": [],
   "source": [
    "import plotly.express as px\n",
    "mixed_df = px.data.experiment(indexed=True)\n",
    "\n",
    "fig = px.box(mixed_df, x=\"group\", y=[\"experiment_1\", \"experiment_2\", \"experiment_3\"],\n",
    "                color=\"gender\", facet_col=\"variable\", hover_data=[mixed_df.index])\n",
    "fig.show()"
   ]
  },
  {
   "cell_type": "markdown",
   "id": "1c8b95ff",
   "metadata": {},
   "source": [
    "One interesting thing about a mixed-form data frame like this is that it remains easy to plot, say, one experiment against another, which would require some preliminary data wrangling if this was represented as a pure long-form dataset:"
   ]
  },
  {
   "cell_type": "code",
   "execution_count": null,
   "id": "40310615",
   "metadata": {},
   "outputs": [],
   "source": [
    "import plotly.express as px\n",
    "mixed_df = px.data.experiment(indexed=True)\n",
    "\n",
    "fig = px.scatter(mixed_df, x=\"experiment_1\", y=\"experiment_2\",\n",
    "                color=\"group\", facet_col=\"gender\", hover_data=[mixed_df.index])\n",
    "fig.show()"
   ]
  },
  {
   "cell_type": "markdown",
   "id": "dac6af07",
   "metadata": {},
   "source": [
    "In fact, we can even visualize the results of every experiment against every other, using a [scatterplot matrix](/python/splom/):"
   ]
  },
  {
   "cell_type": "code",
   "execution_count": null,
   "id": "c981257a",
   "metadata": {},
   "outputs": [],
   "source": [
    "import plotly.express as px\n",
    "mixed_df = px.data.experiment(indexed=True)\n",
    "\n",
    "fig = px.scatter_matrix(mixed_df, dimensions=[\"experiment_1\", \"experiment_2\", \"experiment_3\"], color=\"gender\")\n",
    "fig.show()"
   ]
  },
  {
   "cell_type": "markdown",
   "id": "98870712",
   "metadata": {},
   "source": [
    "### Wide-Form Defaults\n",
    "\n",
    "For bar, scatter, line and area charts, the pattern of assigning `x=df.index`, `y=df.columns`, `color=\"variable\"` is so common that if you provide neither `x` nor `y` this is the default behaviour. An exception is made for bar charts when the values are not continuous variables, in which case the default is similar to histograms, with `x=df.columns`, `color=\"variable\"` and `y=<constant 1, labeled \"count\">`.\n",
    "\n",
    "For violin and box plots, the default is to assign `x=variable`, `y=df.columns` and for histograms the default is `x=df.columns`, `color=\"variable\"`\n",
    "\n",
    "These defaults are also filled in if you specify only `y` (`x` for histograms) as a list-of-columns. See below for orientation control."
   ]
  },
  {
   "cell_type": "code",
   "execution_count": null,
   "id": "7d741237",
   "metadata": {},
   "outputs": [],
   "source": [
    "import plotly.express as px\n",
    "wide_df = px.data.medals_wide(indexed=True)\n",
    "\n",
    "fig = px.bar(wide_df)\n",
    "fig.show()\n",
    "\n",
    "fig = px.area(wide_df)\n",
    "fig.show()\n",
    "\n",
    "fig = px.line(wide_df)\n",
    "fig.show()\n",
    "\n",
    "fig = px.scatter(wide_df)\n",
    "fig.show()"
   ]
  },
  {
   "cell_type": "code",
   "execution_count": null,
   "id": "260f28b0",
   "metadata": {},
   "outputs": [],
   "source": [
    "import plotly.express as px\n",
    "\n",
    "mixed_df = px.data.experiment(indexed=True)\n",
    "wide_df = mixed_df[[\"experiment_1\", \"experiment_2\", \"experiment_3\"]]\n",
    "\n",
    "fig = px.histogram(wide_df)\n",
    "fig.show()\n",
    "\n",
    "fig = px.violin(wide_df)\n",
    "fig.show()\n",
    "\n",
    "fig = px.box(wide_df)\n",
    "fig.show()"
   ]
  },
  {
   "cell_type": "markdown",
   "id": "4d18f1fe",
   "metadata": {},
   "source": [
    "### Orientation Control When Using Defaults\n",
    "\n",
    "If you specify neither `x` nor `y`, you can swap the default behaviour of `x` and `y` by setting `orientation=\"h\"`.\n",
    "\n",
    "If you specify only `x` as a list-of-columns (`y` in the case of histograms), then the defaults are filled in as if `orientation=\"h\"`"
   ]
  },
  {
   "cell_type": "code",
   "execution_count": null,
   "id": "1d8fb14f",
   "metadata": {
    "lines_to_next_cell": 2
   },
   "outputs": [],
   "source": [
    "import plotly.express as px\n",
    "wide_df = px.data.medals_wide(indexed=True)\n",
    "\n",
    "fig = px.bar(wide_df, orientation=\"h\")\n",
    "fig.show()\n",
    "\n",
    "fig = px.area(wide_df, x=wide_df.columns)\n",
    "fig.show()\n",
    "\n",
    "mixed_df = px.data.experiment(indexed=True)\n",
    "wide_df = mixed_df[[\"experiment_1\", \"experiment_2\", \"experiment_3\"]]\n",
    "\n",
    "fig = px.histogram(wide_df, orientation=\"h\")\n",
    "fig.show()\n",
    "\n",
    "fig = px.violin(wide_df, orientation=\"h\")\n",
    "fig.show()\n",
    "\n",
    "fig = px.box(wide_df, orientation=\"h\")\n",
    "fig.show()"
   ]
  },
  {
   "cell_type": "markdown",
   "id": "c63311c4",
   "metadata": {},
   "source": [
    "### What About Dash?\n",
    "\n",
    "[Dash](https://dash.plot.ly/) is an open-source framework for building analytical applications, with no Javascript required, and it is tightly integrated with the Plotly graphing library.\n",
    "\n",
    "Learn about how to install Dash at https://dash.plot.ly/installation.\n",
    "\n",
    "Everywhere in this page that you see `fig.show()`, you can display the same figure in a Dash application by passing it to the `figure` argument of the [`Graph` component](https://dash.plot.ly/dash-core-components/graph) from the built-in `dash_core_components` package like this:\n",
    "\n",
    "```python\n",
    "import plotly.graph_objects as go # or plotly.express as px\n",
    "fig = go.Figure() # or any Plotly Express function e.g. px.bar(...)\n",
    "# fig.add_trace( ... )\n",
    "# fig.update_layout( ... )\n",
    "\n",
    "from dash import Dash, dcc, html\n",
    "\n",
    "app = Dash()\n",
    "app.layout = html.Div([\n",
    "    dcc.Graph(figure=fig)\n",
    "])\n",
    "\n",
    "app.run_server(debug=True, use_reloader=False)  # Turn off reloader if inside Jupyter\n",
    "```"
   ]
  }
 ],
 "metadata": {
  "jupytext": {
   "notebook_metadata_filter": "all"
  },
  "kernelspec": {
   "display_name": "Python 3 (ipykernel)",
   "language": "python",
   "name": "python3"
  },
  "language_info": {
   "codemirror_mode": {
    "name": "ipython",
    "version": 3
   },
   "file_extension": ".py",
   "mimetype": "text/x-python",
   "name": "python",
   "nbconvert_exporter": "python",
   "pygments_lexer": "ipython3",
   "version": "3.10.4"
  },
  "plotly": {
   "description": "Plotly Express' 2D-Cartesian functions accept data in long-, wide-, and mixed-form.",
   "display_as": "file_settings",
   "language": "python",
   "layout": "base",
   "name": "Plotly Express Wide-Form Support",
   "order": 34,
   "page_type": "u-guide",
   "permalink": "python/wide-form/",
   "thumbnail": "thumbnail/plotly-express.png"
  }
 },
 "nbformat": 4,
 "nbformat_minor": 5
}
