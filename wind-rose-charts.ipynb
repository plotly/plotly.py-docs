{
 "cells": [
  {
   "cell_type": "markdown",
   "id": "e567c96d",
   "metadata": {},
   "source": [
    "### Wind Rose Chart with Plotly Express\n",
    "\n",
    "A [wind rose chart](https://en.wikipedia.org/wiki/Wind_rose) (also known as a polar bar chart) is a graphical tool used to visualize how wind speed and direction are typically distributed at a given location. You can use the `px.bar_polar` function from Plotly Express as below, otherwise use `go.Barpolar` as explained in the next section.\n",
    "\n",
    "[Plotly Express](/python/plotly-express/) is the easy-to-use, high-level interface to Plotly, which [operates on a variety of types of data](/python/px-arguments/) and produces [easy-to-style figures](/python/styling-plotly-express/)."
   ]
  },
  {
   "cell_type": "code",
   "execution_count": null,
   "id": "6087e914",
   "metadata": {},
   "outputs": [],
   "source": [
    "import plotly.express as px\n",
    "df = px.data.wind()\n",
    "fig = px.bar_polar(df, r=\"frequency\", theta=\"direction\",\n",
    "                   color=\"strength\", template=\"plotly_dark\",\n",
    "                   color_discrete_sequence= px.colors.sequential.Plasma_r)\n",
    "fig.show()"
   ]
  },
  {
   "cell_type": "markdown",
   "id": "ec9b2bf9",
   "metadata": {},
   "source": [
    "#### Basic Wind Rose Chart"
   ]
  },
  {
   "cell_type": "code",
   "execution_count": null,
   "id": "ef503451",
   "metadata": {},
   "outputs": [],
   "source": [
    "import plotly.graph_objects as go\n",
    "\n",
    "fig = go.Figure()\n",
    "\n",
    "fig.add_trace(go.Barpolar(\n",
    "    r=[77.5, 72.5, 70.0, 45.0, 22.5, 42.5, 40.0, 62.5],\n",
    "    name='11-14 m/s',\n",
    "    marker_color='rgb(106,81,163)'\n",
    "))\n",
    "fig.add_trace(go.Barpolar(\n",
    "    r=[57.5, 50.0, 45.0, 35.0, 20.0, 22.5, 37.5, 55.0],\n",
    "    name='8-11 m/s',\n",
    "    marker_color='rgb(158,154,200)'\n",
    "))\n",
    "fig.add_trace(go.Barpolar(\n",
    "    r=[40.0, 30.0, 30.0, 35.0, 7.5, 7.5, 32.5, 40.0],\n",
    "    name='5-8 m/s',\n",
    "    marker_color='rgb(203,201,226)'\n",
    "))\n",
    "fig.add_trace(go.Barpolar(\n",
    "    r=[20.0, 7.5, 15.0, 22.5, 2.5, 2.5, 12.5, 22.5],\n",
    "    name='< 5 m/s',\n",
    "    marker_color='rgb(242,240,247)'\n",
    "))\n",
    "\n",
    "fig.update_traces(text=['North', 'N-E', 'East', 'S-E', 'South', 'S-W', 'West', 'N-W'])\n",
    "fig.update_layout(\n",
    "    title=dict(text='Wind Speed Distribution in Laurel, NE'),\n",
    "    font_size=16,\n",
    "    legend_font_size=16,\n",
    "    polar_radialaxis_ticksuffix='%',\n",
    "    polar_angularaxis_rotation=90,\n",
    "\n",
    ")\n",
    "fig.show()"
   ]
  },
  {
   "cell_type": "markdown",
   "id": "a63e74e0",
   "metadata": {},
   "source": [
    "#### Reference\n",
    "\n",
    "See [function reference for `px.(bar_polar)`](https://plotly.com/python-api-reference/generated/plotly.express.bar_polar) or https://plotly.com/python/reference/barpolar/ for more information and chart attribute options!\n"
   ]
  },
  {
   "cell_type": "markdown",
   "id": "1fa8f84b",
   "metadata": {},
   "source": [
    "### What About Dash?\n",
    "\n",
    "[Dash](https://dash.plot.ly/) is an open-source framework for building analytical applications, with no Javascript required, and it is tightly integrated with the Plotly graphing library.\n",
    "\n",
    "Learn about how to install Dash at https://dash.plot.ly/installation.\n",
    "\n",
    "Everywhere in this page that you see `fig.show()`, you can display the same figure in a Dash application by passing it to the `figure` argument of the [`Graph` component](https://dash.plot.ly/dash-core-components/graph) from the built-in `dash_core_components` package like this:\n",
    "\n",
    "```python\n",
    "import plotly.graph_objects as go # or plotly.express as px\n",
    "fig = go.Figure() # or any Plotly Express function e.g. px.bar(...)\n",
    "# fig.add_trace( ... )\n",
    "# fig.update_layout( ... )\n",
    "\n",
    "from dash import Dash, dcc, html\n",
    "\n",
    "app = Dash()\n",
    "app.layout = html.Div([\n",
    "    dcc.Graph(figure=fig)\n",
    "])\n",
    "\n",
    "app.run_server(debug=True, use_reloader=False)  # Turn off reloader if inside Jupyter\n",
    "```"
   ]
  }
 ],
 "metadata": {
  "jupytext": {
   "notebook_metadata_filter": "all"
  },
  "kernelspec": {
   "display_name": "Python 3",
   "language": "python",
   "name": "python3"
  },
  "language_info": {
   "codemirror_mode": {
    "name": "ipython",
    "version": 3
   },
   "file_extension": ".py",
   "mimetype": "text/x-python",
   "name": "python",
   "nbconvert_exporter": "python",
   "pygments_lexer": "ipython3",
   "version": "3.6.7"
  },
  "plotly": {
   "description": "How to graph wind rose charts in python. Wind Rose charts display wind speed and direction of a given location.",
   "display_as": "scientific",
   "language": "python",
   "layout": "base",
   "name": "Wind Rose and Polar Bar Charts",
   "order": 19,
   "page_type": "u-guide",
   "permalink": "python/wind-rose-charts/",
   "thumbnail": "thumbnail/wind-rose.jpg"
  }
 },
 "nbformat": 4,
 "nbformat_minor": 5
}
